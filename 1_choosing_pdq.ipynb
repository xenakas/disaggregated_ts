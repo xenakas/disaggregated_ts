{
 "cells": [
  {
   "cell_type": "markdown",
   "metadata": {},
   "source": [
    "### 2. Выбор модели для прогнозирования ВВП ЕС"
   ]
  },
  {
   "cell_type": "code",
   "execution_count": 21,
   "metadata": {},
   "outputs": [],
   "source": [
    "library(forecast)\n",
    "library(ggplot2)\n",
    "library(dplyr)"
   ]
  },
  {
   "cell_type": "markdown",
   "metadata": {},
   "source": [
    "\n",
    "## ЕС"
   ]
  },
  {
   "cell_type": "code",
   "execution_count": 22,
   "metadata": {},
   "outputs": [],
   "source": [
    "df_eu  <-  read.csv(file=\"hts_eu_a10.csv\", header=TRUE, sep=\",\", row.names =1 )"
   ]
  },
  {
   "cell_type": "code",
   "execution_count": 23,
   "metadata": {},
   "outputs": [],
   "source": [
    "df_eu  <-  df_eu/1000"
   ]
  },
  {
   "cell_type": "code",
   "execution_count": 24,
   "metadata": {},
   "outputs": [],
   "source": [
    "var_freq  <- 4    \n",
    "var_start_year  <- 2000   "
   ]
  },
  {
   "cell_type": "code",
   "execution_count": 25,
   "metadata": {},
   "outputs": [],
   "source": [
    "gdp_agg <- df_eu_sums <-  rowSums(df_eu)\n",
    "gdp_agg  <- ts(gdp_agg, frequency = var_freq, start = var_start_year) "
   ]
  },
  {
   "cell_type": "code",
   "execution_count": 26,
   "metadata": {},
   "outputs": [],
   "source": [
    "train_end_year  <-  2016\n",
    "tset_start_year  <-  2017"
   ]
  },
  {
   "cell_type": "code",
   "execution_count": 27,
   "metadata": {},
   "outputs": [],
   "source": [
    "train <- window(gdp_agg, end=c(train_end_year,var_freq))\n",
    "test <- window(gdp_agg, start=c(tset_start_year,1))"
   ]
  },
  {
   "cell_type": "code",
   "execution_count": 28,
   "metadata": {},
   "outputs": [],
   "source": [
    "var_h  <- 8"
   ]
  },
  {
   "cell_type": "code",
   "execution_count": 42,
   "metadata": {},
   "outputs": [],
   "source": [
    "var_window  <-  48\n",
    "var_cv_low   <- 48\n",
    "var_cv_high   <- 67"
   ]
  },
  {
   "cell_type": "markdown",
   "metadata": {},
   "source": [
    "### tsCV()"
   ]
  },
  {
   "cell_type": "code",
   "execution_count": 44,
   "metadata": {},
   "outputs": [
    {
     "data": {
      "text/html": [
       "66.9150206211595"
      ],
      "text/latex": [
       "66.9150206211595"
      ],
      "text/markdown": [
       "66.9150206211595"
      ],
      "text/plain": [
       "[1] 66.91502"
      ]
     },
     "metadata": {},
     "output_type": "display_data"
    }
   ],
   "source": [
    "gdp_arima_top_cv <- function(x, h){forecast(Arima(ts(x, \n",
    "    frequency = var_freq, start = var_start_year), order=c(3,0,0),\n",
    "    seasonal=c(2,0,0), include.drift = TRUE, include.constant = TRUE), h=h)}\n",
    "e_arima_top  <-  tsCV(gdp_agg, gdp_arima_top_cv, h=var_h, \n",
    "                      window=var_window)[var_cv_low:var_cv_high,]\n",
    "sqrt(mean(e_arima_top^2, na.rm=TRUE))"
   ]
  },
  {
   "cell_type": "code",
   "execution_count": 47,
   "metadata": {},
   "outputs": [
    {
     "data": {
      "text/html": [
       "69.9201559048422"
      ],
      "text/latex": [
       "69.9201559048422"
      ],
      "text/markdown": [
       "69.9201559048422"
      ],
      "text/plain": [
       "[1] 69.92016"
      ]
     },
     "metadata": {},
     "output_type": "display_data"
    }
   ],
   "source": [
    "gdp_arima_top_cv <- function(x, h){forecast(auto.arima(ts(x, \n",
    "    frequency = var_freq, start = var_start_year), \n",
    "    stationary = FALSE, seasonal = TRUE, lambda=\"auto\"), h=h)}\n",
    "e_arima_top  <-  tsCV(gdp_agg, gdp_arima_top_cv, h=var_h, \n",
    "                      window=var_window)[var_cv_low:var_cv_high,]\n",
    "sqrt(mean(e_arima_top^2, na.rm=TRUE))"
   ]
  },
  {
   "cell_type": "code",
   "execution_count": 43,
   "metadata": {},
   "outputs": [
    {
     "data": {
      "text/html": [
       "73.4465635655001"
      ],
      "text/latex": [
       "73.4465635655001"
      ],
      "text/markdown": [
       "73.4465635655001"
      ],
      "text/plain": [
       "[1] 73.44656"
      ]
     },
     "metadata": {},
     "output_type": "display_data"
    }
   ],
   "source": [
    "gdp_arima_top_cv <- function(x, h){forecast(Arima(ts(x, \n",
    "    frequency = var_freq, start = var_start_year), order=c(2,0,0),\n",
    "    seasonal=c(2,0,0), include.drift = TRUE, include.constant = TRUE), h=h)}\n",
    "e_arima_top  <-  tsCV(gdp_agg, gdp_arima_top_cv, h=var_h, \n",
    "                      window=var_window)[var_cv_low:var_cv_high,]\n",
    "sqrt(mean(e_arima_top^2, na.rm=TRUE))"
   ]
  },
  {
   "cell_type": "code",
   "execution_count": 45,
   "metadata": {},
   "outputs": [
    {
     "data": {
      "text/html": [
       "85.2872423328964"
      ],
      "text/latex": [
       "85.2872423328964"
      ],
      "text/markdown": [
       "85.2872423328964"
      ],
      "text/plain": [
       "[1] 85.28724"
      ]
     },
     "metadata": {},
     "output_type": "display_data"
    }
   ],
   "source": [
    "gdp_arima_top_cv <- function(x, h){forecast(Arima(ts(x, \n",
    "    frequency = var_freq, start = var_start_year), order=c(3,1,0),\n",
    "    seasonal=c(3,1,0)), h=h)}\n",
    "e_arima_top  <-  tsCV(gdp_agg, gdp_arima_top_cv, h=var_h, \n",
    "                      window=var_window)[var_cv_low:var_cv_high,]\n",
    "sqrt(mean(e_arima_top^2, na.rm=TRUE))"
   ]
  },
  {
   "cell_type": "code",
   "execution_count": 46,
   "metadata": {},
   "outputs": [
    {
     "data": {
      "text/html": [
       "104.834945238776"
      ],
      "text/latex": [
       "104.834945238776"
      ],
      "text/markdown": [
       "104.834945238776"
      ],
      "text/plain": [
       "[1] 104.8349"
      ]
     },
     "metadata": {},
     "output_type": "display_data"
    }
   ],
   "source": [
    "gdp_arima_top_cv <- function(x, h){forecast(Arima(ts(x, \n",
    "    frequency = var_freq, start = var_start_year), order=c(2,1,2),\n",
    "    seasonal=c(2,1,2)), h=h)}\n",
    "e_arima_top  <-  tsCV(gdp_agg, gdp_arima_top_cv, h=var_h, \n",
    "                      window=var_window)[var_cv_low:var_cv_high,]\n",
    "sqrt(mean(e_arima_top^2, na.rm=TRUE))"
   ]
  },
  {
   "cell_type": "code",
   "execution_count": 56,
   "metadata": {},
   "outputs": [
    {
     "data": {
      "text/plain": [
       "         Qtr1     Qtr2     Qtr3     Qtr4\n",
       "2000 2097.016 2149.714 2163.305 2249.545\n",
       "2001 2197.372 2259.781 2251.095 2331.590\n",
       "2002 2292.365 2334.466 2334.677 2411.279\n",
       "2003 2333.137 2351.889 2373.162 2453.219\n",
       "2004 2419.886 2491.435 2490.484 2564.171\n",
       "2005 2515.137 2593.341 2594.523 2693.043\n",
       "2006 2655.689 2724.874 2745.583 2852.082\n",
       "2007 2834.787 2892.483 2914.308 2996.058\n",
       "2008 2923.510 2963.777 2946.623 2919.566\n",
       "2009 2721.873 2766.663 2784.353 2842.605\n",
       "2010 2784.779 2873.264 2893.451 2968.661\n",
       "2011 2921.483 2953.957 2945.649 3011.265\n",
       "2012 2958.070 3010.722 3033.490 3075.700\n",
       "2013 2977.965 3035.742 3044.227 3122.905\n",
       "2014 3072.484 3133.907 3160.757 3236.918\n",
       "2015 3227.776 3311.839 3325.372 3405.251\n",
       "2016 3304.666 3362.395 3318.470 3395.389\n",
       "2017 3357.919 3432.684 3434.182 3530.894\n",
       "2018 3471.013 3542.181 3541.582         "
      ]
     },
     "metadata": {},
     "output_type": "display_data"
    }
   ],
   "source": [
    "gdp_agg"
   ]
  },
  {
   "cell_type": "code",
   "execution_count": 55,
   "metadata": {},
   "outputs": [
    {
     "name": "stdout",
     "output_type": "stream",
     "text": [
      "[1] 2000.00 2011.75 2012.00 2013.75\n",
      "[1] 2001.00 2012.75 2013.00 2014.75\n",
      "[1] 2002.00 2013.75 2014.00 2015.75\n",
      "[1] 2003.00 2014.75 2015.00 2016.75\n",
      "[1] 2004.00 2015.75 2016.00 2017.75\n",
      "[1] 2005.00 2016.75 2017.00 2018.75\n"
     ]
    }
   ],
   "source": [
    "var_freq  <- 4    \n",
    "var_start_year  <- 2000   \n",
    "var_h  <- 8\n",
    "var_window  <-  48 - 1\n",
    "var_topup  <-  1\n",
    "var_iter   <- (length(gdp_agg)+var_topup)/var_freq-(var_window+1)/var_freq-2\n",
    "\n",
    "ac <- c()\n",
    "for (i in 0:var_iter){\n",
    "    st_year  <-  var_start_year + i\n",
    "    train_start  <- st_year \n",
    "    train_end  <- st_year + 1/var_freq*(var_window)\n",
    "    test_start  <- st_year + 1/var_freq*(var_window+1) \n",
    "    test_end  <-  st_year + 1/var_freq*(var_window+var_h)\n",
    "    \n",
    "    print(c(train_start, train_end, test_start, test_end))\n",
    "    \n",
    "    }"
   ]
  },
  {
   "cell_type": "markdown",
   "metadata": {},
   "source": [
    "\n",
    "## США"
   ]
  },
  {
   "cell_type": "code",
   "execution_count": 72,
   "metadata": {},
   "outputs": [],
   "source": [
    "df_eu  <-  read.csv(file=\"hts_us_ind_filled.csv\", header=TRUE, sep=\",\", row.names =1 )"
   ]
  },
  {
   "cell_type": "code",
   "execution_count": 73,
   "metadata": {},
   "outputs": [],
   "source": [
    "df_eu  <-  df_eu/1000"
   ]
  },
  {
   "cell_type": "code",
   "execution_count": 74,
   "metadata": {},
   "outputs": [],
   "source": [
    "var_freq  <- 4    \n",
    "var_start_year  <- 2005  "
   ]
  },
  {
   "cell_type": "code",
   "execution_count": 75,
   "metadata": {},
   "outputs": [],
   "source": [
    "gdp_agg <- df_eu_sums <-  rowSums(df_eu)\n",
    "gdp_agg  <- ts(gdp_agg, frequency = var_freq, start = var_start_year) "
   ]
  },
  {
   "cell_type": "code",
   "execution_count": 76,
   "metadata": {},
   "outputs": [],
   "source": [
    "train_end_year  <-  2016\n",
    "tset_start_year  <-  2017"
   ]
  },
  {
   "cell_type": "code",
   "execution_count": 77,
   "metadata": {},
   "outputs": [],
   "source": [
    "train <- window(gdp_agg, end=c(train_end_year,var_freq))\n",
    "test <- window(gdp_agg, start=c(tset_start_year,1))"
   ]
  },
  {
   "cell_type": "code",
   "execution_count": 78,
   "metadata": {},
   "outputs": [],
   "source": [
    "var_h  <- 8"
   ]
  },
  {
   "cell_type": "code",
   "execution_count": 80,
   "metadata": {},
   "outputs": [
    {
     "data": {
      "text/html": [
       "46"
      ],
      "text/latex": [
       "46"
      ],
      "text/markdown": [
       "46"
      ],
      "text/plain": [
       "[1] 46"
      ]
     },
     "metadata": {},
     "output_type": "display_data"
    }
   ],
   "source": [
    "length(gdp_agg)-8"
   ]
  },
  {
   "cell_type": "code",
   "execution_count": 81,
   "metadata": {
    "scrolled": true
   },
   "outputs": [
    {
     "data": {
      "text/plain": [
       "         Qtr1     Qtr2     Qtr3     Qtr4\n",
       "2005 14811.63 14902.34 15023.37 15102.28\n",
       "2006 15315.30 15359.04 15362.28 15464.91\n",
       "2007 15477.09 15549.71 15618.09 15731.69\n",
       "2008 15625.55 15697.70 15582.14 15216.20\n",
       "2009 15077.89 15057.17 15107.87 15246.07\n",
       "2010 15272.96 15416.13 15513.43 15593.29\n",
       "2011 15535.66 15633.07 15617.25 15821.95\n",
       "2012 15927.74 15976.31 15983.43 15994.99\n",
       "2013 16128.30 16136.38 16254.91 16372.60\n",
       "2014 16316.98 16522.48 16733.98 16809.04\n",
       "2015 16949.40 17070.24 17129.69 17147.05\n",
       "2016 17237.31 17306.78 17369.38 17427.95\n",
       "2017 17501.51 17637.46 17757.34 17851.87\n",
       "2018 17934.57 18122.00                  "
      ]
     },
     "metadata": {},
     "output_type": "display_data"
    }
   ],
   "source": [
    "gdp_agg"
   ]
  },
  {
   "cell_type": "code",
   "execution_count": 98,
   "metadata": {},
   "outputs": [],
   "source": [
    "var_freq  <- 4    \n",
    "var_start_year  <- 2005   \n",
    "var_h  <- 8\n",
    "var_window  <-  28 - 1\n",
    "var_topup  <-  2\n",
    "var_iter   <- (length(gdp_agg)+var_topup)/var_freq-(var_window+1)/var_freq-2"
   ]
  },
  {
   "cell_type": "code",
   "execution_count": 99,
   "metadata": {},
   "outputs": [],
   "source": [
    "var_cv_low   <- var_window + 1\n",
    "var_cv_high   <- length(gdp_agg) - var_h"
   ]
  },
  {
   "cell_type": "code",
   "execution_count": null,
   "metadata": {},
   "outputs": [],
   "source": []
  },
  {
   "cell_type": "code",
   "execution_count": 100,
   "metadata": {},
   "outputs": [
    {
     "name": "stdout",
     "output_type": "stream",
     "text": [
      "[1] 2005.00 2011.75 2012.00 2013.75\n",
      "[1] 2006.00 2012.75 2013.00 2014.75\n",
      "[1] 2007.00 2013.75 2014.00 2015.75\n",
      "[1] 2008.00 2014.75 2015.00 2016.75\n",
      "[1] 2009.00 2015.75 2016.00 2017.75\n",
      "[1] 2010.00 2016.75 2017.00 2018.75\n"
     ]
    }
   ],
   "source": [
    "ac <- c()\n",
    "for (i in 0:var_iter){\n",
    "    st_year  <-  var_start_year + i\n",
    "    train_start  <- st_year \n",
    "    train_end  <- st_year + 1/var_freq*(var_window)\n",
    "    test_start  <- st_year + 1/var_freq*(var_window+1) \n",
    "    test_end  <-  st_year + 1/var_freq*(var_window+var_h)\n",
    "    \n",
    "    print(c(train_start, train_end, test_start, test_end))\n",
    "    \n",
    "    }"
   ]
  },
  {
   "cell_type": "markdown",
   "metadata": {},
   "source": [
    "### tsCV()"
   ]
  },
  {
   "cell_type": "code",
   "execution_count": 101,
   "metadata": {},
   "outputs": [
    {
     "data": {
      "text/html": [
       "213.861855938036"
      ],
      "text/latex": [
       "213.861855938036"
      ],
      "text/markdown": [
       "213.861855938036"
      ],
      "text/plain": [
       "[1] 213.8619"
      ]
     },
     "metadata": {},
     "output_type": "display_data"
    }
   ],
   "source": [
    "gdp_arima_top_cv <- function(x, h){forecast(Arima(ts(x, \n",
    "    frequency = var_freq, start = var_start_year), order=c(2,1,0),\n",
    "    seasonal=c(2,1,0)), h=h)}\n",
    "e_arima_top  <-  tsCV(gdp_agg, gdp_arima_top_cv, h=var_h, \n",
    "                      window=var_window)[var_cv_low:var_cv_high,]\n",
    "sqrt(mean(e_arima_top^2, na.rm=TRUE))"
   ]
  },
  {
   "cell_type": "code",
   "execution_count": 103,
   "metadata": {},
   "outputs": [
    {
     "data": {
      "text/html": [
       "362.399196770575"
      ],
      "text/latex": [
       "362.399196770575"
      ],
      "text/markdown": [
       "362.399196770575"
      ],
      "text/plain": [
       "[1] 362.3992"
      ]
     },
     "metadata": {},
     "output_type": "display_data"
    }
   ],
   "source": [
    "gdp_arima_top_cv <- function(x, h){forecast(Arima(ts(x, \n",
    "    frequency = var_freq, start = var_start_year), order=c(3,1,0)), h=h)}\n",
    "e_arima_top  <-  tsCV(gdp_agg, gdp_arima_top_cv, h=var_h, \n",
    "                      window=var_window)[var_cv_low:var_cv_high,]\n",
    "sqrt(mean(e_arima_top^2, na.rm=TRUE))"
   ]
  },
  {
   "cell_type": "code",
   "execution_count": 104,
   "metadata": {},
   "outputs": [
    {
     "data": {
      "text/html": [
       "410.274721372339"
      ],
      "text/latex": [
       "410.274721372339"
      ],
      "text/markdown": [
       "410.274721372339"
      ],
      "text/plain": [
       "[1] 410.2747"
      ]
     },
     "metadata": {},
     "output_type": "display_data"
    }
   ],
   "source": [
    "gdp_arima_top_cv <- function(x, h){forecast(Arima(ts(x, \n",
    "    frequency = var_freq, start = var_start_year), order=c(2,0,0),\n",
    "    seasonal=c(2,0,0), include.drift = TRUE, include.constant = TRUE), h=h)}\n",
    "e_arima_top  <-  tsCV(gdp_agg, gdp_arima_top_cv, h=var_h, \n",
    "                      window=var_window)[var_cv_low:var_cv_high,]\n",
    "sqrt(mean(e_arima_top^2, na.rm=TRUE))"
   ]
  },
  {
   "cell_type": "code",
   "execution_count": 102,
   "metadata": {},
   "outputs": [
    {
     "data": {
      "text/html": [
       "423.7607268955"
      ],
      "text/latex": [
       "423.7607268955"
      ],
      "text/markdown": [
       "423.7607268955"
      ],
      "text/plain": [
       "[1] 423.7607"
      ]
     },
     "metadata": {},
     "output_type": "display_data"
    }
   ],
   "source": [
    "gdp_arima_top_cv <- function(x, h){forecast(auto.arima(ts(x, \n",
    "    frequency = var_freq, start = var_start_year), \n",
    "    stationary = FALSE, seasonal = TRUE, lambda=\"auto\"), h=h)}\n",
    "e_arima_top  <-  tsCV(gdp_agg, gdp_arima_top_cv, h=var_h, \n",
    "                      window=var_window)#[var_cv_low:var_cv_high,]\n",
    "sqrt(mean(e_arima_top^2, na.rm=TRUE))"
   ]
  },
  {
   "cell_type": "code",
   "execution_count": 105,
   "metadata": {},
   "outputs": [
    {
     "data": {
      "text/html": [
       "432.342086610083"
      ],
      "text/latex": [
       "432.342086610083"
      ],
      "text/markdown": [
       "432.342086610083"
      ],
      "text/plain": [
       "[1] 432.3421"
      ]
     },
     "metadata": {},
     "output_type": "display_data"
    }
   ],
   "source": [
    "gdp_arima_top_cv <- function(x, h){forecast(Arima(ts(x, \n",
    "    frequency = var_freq, start = var_start_year), order=c(3,0,0), \n",
    "    include.drift = TRUE, include.constant = TRUE), h=h)}\n",
    "e_arima_top  <-  tsCV(gdp_agg, gdp_arima_top_cv, h=var_h, \n",
    "                      window=var_window)[var_cv_low:var_cv_high,]\n",
    "sqrt(mean(e_arima_top^2, na.rm=TRUE))"
   ]
  },
  {
   "cell_type": "code",
   "execution_count": 106,
   "metadata": {},
   "outputs": [
    {
     "data": {
      "text/html": [
       "444.484178602585"
      ],
      "text/latex": [
       "444.484178602585"
      ],
      "text/markdown": [
       "444.484178602585"
      ],
      "text/plain": [
       "[1] 444.4842"
      ]
     },
     "metadata": {},
     "output_type": "display_data"
    }
   ],
   "source": [
    "gdp_arima_top_cv <- function(x, h){forecast(Arima(ts(x, \n",
    "    frequency = var_freq, start = var_start_year), order=c(4,0,0), \n",
    "    include.drift = TRUE, include.constant = TRUE), h=h)}\n",
    "e_arima_top  <-  tsCV(gdp_agg, gdp_arima_top_cv, h=var_h, \n",
    "                      window=var_window)[var_cv_low:var_cv_high,]\n",
    "sqrt(mean(e_arima_top^2, na.rm=TRUE))"
   ]
  },
  {
   "cell_type": "code",
   "execution_count": 107,
   "metadata": {},
   "outputs": [
    {
     "data": {
      "text/html": [
       "456.061060247699"
      ],
      "text/latex": [
       "456.061060247699"
      ],
      "text/markdown": [
       "456.061060247699"
      ],
      "text/plain": [
       "[1] 456.0611"
      ]
     },
     "metadata": {},
     "output_type": "display_data"
    }
   ],
   "source": [
    "gdp_arima_top_cv <- function(x, h){forecast(Arima(ts(x, \n",
    "    frequency = var_freq, start = var_start_year), order=c(3,0,0),\n",
    "    seasonal=c(2,0,0), include.drift = TRUE, include.constant = TRUE), h=h)}\n",
    "e_arima_top  <-  tsCV(gdp_agg, gdp_arima_top_cv, h=var_h, \n",
    "                      window=var_window)[var_cv_low:var_cv_high,]\n",
    "sqrt(mean(e_arima_top^2, na.rm=TRUE))"
   ]
  },
  {
   "cell_type": "code",
   "execution_count": null,
   "metadata": {},
   "outputs": [],
   "source": []
  },
  {
   "cell_type": "markdown",
   "metadata": {},
   "source": [
    "\n",
    "## РФ\n"
   ]
  },
  {
   "cell_type": "code",
   "execution_count": 108,
   "metadata": {},
   "outputs": [],
   "source": [
    "df_eu  <-  read.csv(file=\"hts_rus_summed.csv\", header=TRUE, sep=\",\", row.names =1 )"
   ]
  },
  {
   "cell_type": "code",
   "execution_count": 109,
   "metadata": {},
   "outputs": [],
   "source": [
    "df_eu  <-  df_eu"
   ]
  },
  {
   "cell_type": "code",
   "execution_count": 110,
   "metadata": {},
   "outputs": [],
   "source": [
    "var_freq  <- 12    \n",
    "var_start_year  <- 2006"
   ]
  },
  {
   "cell_type": "code",
   "execution_count": 111,
   "metadata": {},
   "outputs": [],
   "source": [
    "gdp_agg <- df_eu_sums <-  rowSums(df_eu)\n",
    "gdp_agg  <- ts(gdp_agg, frequency = var_freq, start = var_start_year) "
   ]
  },
  {
   "cell_type": "code",
   "execution_count": 112,
   "metadata": {},
   "outputs": [],
   "source": [
    "train_end_year  <-  2016\n",
    "tset_start_year  <-  2017"
   ]
  },
  {
   "cell_type": "code",
   "execution_count": 113,
   "metadata": {},
   "outputs": [],
   "source": [
    "train <- window(gdp_agg, end=c(train_end_year,var_freq))\n",
    "test <- window(gdp_agg, start=c(tset_start_year,1))"
   ]
  },
  {
   "cell_type": "code",
   "execution_count": 114,
   "metadata": {},
   "outputs": [],
   "source": [
    "var_h  <- 24"
   ]
  },
  {
   "cell_type": "code",
   "execution_count": 115,
   "metadata": {},
   "outputs": [],
   "source": [
    "var_window  <-  96\n",
    "var_cv_low   <- 96\n",
    "var_cv_high   <- 156-24"
   ]
  },
  {
   "cell_type": "code",
   "execution_count": 116,
   "metadata": {
    "scrolled": false
   },
   "outputs": [
    {
     "data": {
      "text/plain": [
       "        Jan    Feb    Mar    Apr    May    Jun    Jul    Aug    Sep    Oct\n",
       "2006 -99636 -67539 -65908 -59589 -68708 -53946 -41476 -36599 -40643 -51480\n",
       "2007 -65331 -45760 -55002 -51414 -51580 -38076 -27011 -22570 -22195 -27747\n",
       "2008 -59214 -35343 -44824 -38694 -45076 -34464 -13112  -9811 -18353 -15841\n",
       "2009 -47976 -24401 -32121 -27017 -28463 -19821  -4237   1050  -3263 -12170\n",
       "2010 -43945 -25686 -17671 -20057 -23567 -11226 -23813 -32341  -8550  -9346\n",
       "2011 -37554 -21449 -20237 -21499 -28733  -9348   -776  10742   4154  -2658\n",
       "2012 -21840  -8007  -5103 -13503  -8493     19  13287  22761  11479  10190\n",
       "2013 -21804  -5608 -15157  -9048  -8227   6992  23186  23066  11709  11702\n",
       "2014 -14727  -1700  -6177  -2526  -5848   6309  23731  19854  12060  10071\n",
       "2015 -25453 -12145 -14835  -7712  -5673   4497  26076  23541  18543  14250\n",
       "2016 -27719  -7767    834  -3050  -3848   9358  18466  21879   9990   2149\n",
       "2017 -42866 -19974 -13281 -16692 -19053  -7468   4916   9856  -1614  -8689\n",
       "2018 -30308 -20506 -36471 -34071 -25938 -16893  -6336   1411  -4243  -7651\n",
       "2019 -44311                                                               \n",
       "        Nov    Dec\n",
       "2006 -51660 -52337\n",
       "2007 -36000 -34995\n",
       "2008 -22570 -26179\n",
       "2009 -25891 -25116\n",
       "2010 -10516 -14622\n",
       "2011  -2302  -1548\n",
       "2012   3810  -7173\n",
       "2013   5839    263\n",
       "2014    438  -2700\n",
       "2015   3448   8186\n",
       "2016  -1754 -13195\n",
       "2017  -7140 -12451\n",
       "2018 -12081 -25307\n",
       "2019              "
      ]
     },
     "metadata": {},
     "output_type": "display_data"
    }
   ],
   "source": [
    "gdp_agg"
   ]
  },
  {
   "cell_type": "code",
   "execution_count": 123,
   "metadata": {},
   "outputs": [
    {
     "data": {
      "text/html": [
       "84"
      ],
      "text/latex": [
       "84"
      ],
      "text/markdown": [
       "84"
      ],
      "text/plain": [
       "[1] 84"
      ]
     },
     "metadata": {},
     "output_type": "display_data"
    }
   ],
   "source": [
    "96-12"
   ]
  },
  {
   "cell_type": "code",
   "execution_count": 124,
   "metadata": {},
   "outputs": [],
   "source": [
    "var_freq  <- 12    \n",
    "var_start_year  <- 2006   \n",
    "var_h  <- 24\n",
    "var_window  <-  84 - 1\n",
    "var_topup  <-  -1\n",
    "var_iter   <- (length(gdp_agg)+var_topup)/var_freq-(var_window+1)/var_freq-2"
   ]
  },
  {
   "cell_type": "code",
   "execution_count": 125,
   "metadata": {},
   "outputs": [],
   "source": [
    "var_cv_low   <- var_window + 1\n",
    "var_cv_high   <- length(gdp_agg) - var_h"
   ]
  },
  {
   "cell_type": "code",
   "execution_count": 130,
   "metadata": {},
   "outputs": [
    {
     "data": {
      "text/html": [
       "<ol class=list-inline>\n",
       "\t<li>2006</li>\n",
       "\t<li>2006.08333333333</li>\n",
       "\t<li>2006.16666666667</li>\n",
       "\t<li>2006.25</li>\n",
       "\t<li>2006.33333333333</li>\n",
       "\t<li>2006.41666666667</li>\n",
       "\t<li>2006.5</li>\n",
       "\t<li>2006.58333333333</li>\n",
       "\t<li>2006.66666666667</li>\n",
       "\t<li>2006.75</li>\n",
       "\t<li>2006.83333333333</li>\n",
       "\t<li>2006.91666666667</li>\n",
       "</ol>\n"
      ],
      "text/latex": [
       "\\begin{enumerate*}\n",
       "\\item 2006\n",
       "\\item 2006.08333333333\n",
       "\\item 2006.16666666667\n",
       "\\item 2006.25\n",
       "\\item 2006.33333333333\n",
       "\\item 2006.41666666667\n",
       "\\item 2006.5\n",
       "\\item 2006.58333333333\n",
       "\\item 2006.66666666667\n",
       "\\item 2006.75\n",
       "\\item 2006.83333333333\n",
       "\\item 2006.91666666667\n",
       "\\end{enumerate*}\n"
      ],
      "text/markdown": [
       "1. 2006\n",
       "2. 2006.08333333333\n",
       "3. 2006.16666666667\n",
       "4. 2006.25\n",
       "5. 2006.33333333333\n",
       "6. 2006.41666666667\n",
       "7. 2006.5\n",
       "8. 2006.58333333333\n",
       "9. 2006.66666666667\n",
       "10. 2006.75\n",
       "11. 2006.83333333333\n",
       "12. 2006.91666666667\n",
       "\n",
       "\n"
      ],
      "text/plain": [
       " [1] 2006.000 2006.083 2006.167 2006.250 2006.333 2006.417 2006.500 2006.583\n",
       " [9] 2006.667 2006.750 2006.833 2006.917"
      ]
     },
     "metadata": {},
     "output_type": "display_data"
    }
   ],
   "source": [
    "time(gdp_agg)[1:12]"
   ]
  },
  {
   "cell_type": "code",
   "execution_count": 131,
   "metadata": {},
   "outputs": [
    {
     "name": "stdout",
     "output_type": "stream",
     "text": [
      "[1] 2006.000 2012.917 2013.000 2014.917\n",
      "[1] 2007.000 2013.917 2014.000 2015.917\n",
      "[1] 2008.000 2014.917 2015.000 2016.917\n",
      "[1] 2009.000 2015.917 2016.000 2017.917\n",
      "[1] 2010.000 2016.917 2017.000 2018.917\n"
     ]
    }
   ],
   "source": [
    "ac <- c()\n",
    "for (i in 0:var_iter){\n",
    "    st_year  <-  var_start_year + i\n",
    "    train_start  <- st_year \n",
    "    train_end  <- st_year + 1/var_freq*(var_window)\n",
    "    test_start  <- st_year + 1/var_freq*(var_window+1) \n",
    "    test_end  <-  st_year + 1/var_freq*(var_window+var_h)\n",
    "    \n",
    "    print(c(train_start, train_end, test_start, test_end))\n",
    "    \n",
    "    }"
   ]
  },
  {
   "cell_type": "code",
   "execution_count": 147,
   "metadata": {},
   "outputs": [
    {
     "data": {
      "text/html": [
       "4"
      ],
      "text/latex": [
       "4"
      ],
      "text/markdown": [
       "4"
      ],
      "text/plain": [
       "[1] 4"
      ]
     },
     "metadata": {},
     "output_type": "display_data"
    }
   ],
   "source": [
    "var_iter"
   ]
  },
  {
   "cell_type": "markdown",
   "metadata": {},
   "source": [
    "### tsCV()"
   ]
  },
  {
   "cell_type": "code",
   "execution_count": 132,
   "metadata": {},
   "outputs": [
    {
     "data": {
      "text/html": [
       "11784.3661063567"
      ],
      "text/latex": [
       "11784.3661063567"
      ],
      "text/markdown": [
       "11784.3661063567"
      ],
      "text/plain": [
       "[1] 11784.37"
      ]
     },
     "metadata": {},
     "output_type": "display_data"
    }
   ],
   "source": [
    "gdp_arima_top_cv <- function(x, h){forecast(Arima(ts(x, \n",
    "    frequency = var_freq, start = var_start_year), order=c(3,1,0),\n",
    "    seasonal=c(3,1,0)), h=h)}\n",
    "e_arima_top  <-  tsCV(gdp_agg, gdp_arima_top_cv, h=var_h, \n",
    "                      window=var_window)[var_cv_low:var_cv_high,]\n",
    "sqrt(mean(e_arima_top^2, na.rm=TRUE))"
   ]
  },
  {
   "cell_type": "code",
   "execution_count": 135,
   "metadata": {},
   "outputs": [
    {
     "data": {
      "text/html": [
       "12554.9057983161"
      ],
      "text/latex": [
       "12554.9057983161"
      ],
      "text/markdown": [
       "12554.9057983161"
      ],
      "text/plain": [
       "[1] 12554.91"
      ]
     },
     "metadata": {},
     "output_type": "display_data"
    }
   ],
   "source": [
    "gdp_arima_top_cv <- function(x, h){forecast(Arima(ts(x, \n",
    "    frequency = var_freq, start = var_start_year), order=c(11,0,0),\n",
    "    seasonal=c(2,0,0), include.drift = TRUE, include.constant = TRUE), h=h)}\n",
    "e_arima_top  <-  tsCV(gdp_agg, gdp_arima_top_cv, h=var_h, \n",
    "                      window=var_window)[var_cv_low:var_cv_high,]\n",
    "sqrt(mean(e_arima_top^2, na.rm=TRUE))"
   ]
  },
  {
   "cell_type": "code",
   "execution_count": 133,
   "metadata": {},
   "outputs": [
    {
     "data": {
      "text/html": [
       "13358.5564318511"
      ],
      "text/latex": [
       "13358.5564318511"
      ],
      "text/markdown": [
       "13358.5564318511"
      ],
      "text/plain": [
       "[1] 13358.56"
      ]
     },
     "metadata": {},
     "output_type": "display_data"
    }
   ],
   "source": [
    "gdp_arima_top_cv <- function(x, h){forecast(Arima(ts(x, \n",
    "    frequency = var_freq, start = var_start_year), order=c(9,0,0),\n",
    "    seasonal=c(2,0,0), include.drift = TRUE, include.constant = TRUE), h=h)}\n",
    "e_arima_top  <-  tsCV(gdp_agg, gdp_arima_top_cv, h=var_h, \n",
    "                      window=var_window)[var_cv_low:var_cv_high,]\n",
    "sqrt(mean(e_arima_top^2, na.rm=TRUE))"
   ]
  },
  {
   "cell_type": "code",
   "execution_count": 134,
   "metadata": {},
   "outputs": [
    {
     "data": {
      "text/html": [
       "13497.3659612604"
      ],
      "text/latex": [
       "13497.3659612604"
      ],
      "text/markdown": [
       "13497.3659612604"
      ],
      "text/plain": [
       "[1] 13497.37"
      ]
     },
     "metadata": {},
     "output_type": "display_data"
    }
   ],
   "source": [
    "gdp_arima_top_cv <- function(x, h){forecast(Arima(ts(x, \n",
    "    frequency = var_freq, start = var_start_year), order=c(10,0,0),\n",
    "    seasonal=c(2,0,0), include.drift = TRUE, include.constant = TRUE), h=h)}\n",
    "e_arima_top  <-  tsCV(gdp_agg, gdp_arima_top_cv, h=var_h, \n",
    "                      window=var_window)[var_cv_low:var_cv_high,]\n",
    "sqrt(mean(e_arima_top^2, na.rm=TRUE))"
   ]
  },
  {
   "cell_type": "code",
   "execution_count": 136,
   "metadata": {},
   "outputs": [
    {
     "data": {
      "text/html": [
       "13732.5065488872"
      ],
      "text/latex": [
       "13732.5065488872"
      ],
      "text/markdown": [
       "13732.5065488872"
      ],
      "text/plain": [
       "[1] 13732.51"
      ]
     },
     "metadata": {},
     "output_type": "display_data"
    }
   ],
   "source": [
    "gdp_arima_top_cv <- function(x, h){forecast(Arima(ts(x, \n",
    "    frequency = var_freq, start = var_start_year), order=c(8,0,0),\n",
    "    seasonal=c(2,0,0), include.drift = TRUE, include.constant = TRUE), h=h)}\n",
    "e_arima_top  <-  tsCV(gdp_agg, gdp_arima_top_cv, h=var_h, \n",
    "                      window=var_window)[var_cv_low:var_cv_high,]\n",
    "sqrt(mean(e_arima_top^2, na.rm=TRUE))"
   ]
  },
  {
   "cell_type": "code",
   "execution_count": 138,
   "metadata": {},
   "outputs": [
    {
     "data": {
      "text/html": [
       "13397.5407991149"
      ],
      "text/latex": [
       "13397.5407991149"
      ],
      "text/markdown": [
       "13397.5407991149"
      ],
      "text/plain": [
       "[1] 13397.54"
      ]
     },
     "metadata": {},
     "output_type": "display_data"
    }
   ],
   "source": [
    "gdp_arima_top_cv <- function(x, h){forecast(Arima(ts(x, \n",
    "    frequency = var_freq, start = var_start_year), order=c(6,0,0),\n",
    "    seasonal=c(2,0,0), include.drift = TRUE, include.constant = TRUE), h=h)}\n",
    "e_arima_top  <-  tsCV(gdp_agg, gdp_arima_top_cv, h=var_h, \n",
    "                      window=var_window)[var_cv_low:var_cv_high,]\n",
    "sqrt(mean(e_arima_top^2, na.rm=TRUE))"
   ]
  },
  {
   "cell_type": "code",
   "execution_count": 140,
   "metadata": {},
   "outputs": [
    {
     "data": {
      "text/html": [
       "14430.3035957825"
      ],
      "text/latex": [
       "14430.3035957825"
      ],
      "text/markdown": [
       "14430.3035957825"
      ],
      "text/plain": [
       "[1] 14430.3"
      ]
     },
     "metadata": {},
     "output_type": "display_data"
    }
   ],
   "source": [
    "gdp_arima_top_cv <- function(x, h){forecast(Arima(ts(x, \n",
    "    frequency = var_freq, start = var_start_year), order=c(2,1,2),\n",
    "    seasonal=c(2,1,2)), h=h)}\n",
    "e_arima_top  <-  tsCV(gdp_agg, gdp_arima_top_cv, h=var_h, \n",
    "                      window=var_window)[var_cv_low:var_cv_high,]\n",
    "sqrt(mean(e_arima_top^2, na.rm=TRUE))"
   ]
  },
  {
   "cell_type": "code",
   "execution_count": 141,
   "metadata": {},
   "outputs": [
    {
     "data": {
      "text/html": [
       "14439.7163272651"
      ],
      "text/latex": [
       "14439.7163272651"
      ],
      "text/markdown": [
       "14439.7163272651"
      ],
      "text/plain": [
       "[1] 14439.72"
      ]
     },
     "metadata": {},
     "output_type": "display_data"
    }
   ],
   "source": [
    "gdp_arima_top_cv <- function(x, h){forecast(Arima(ts(x, \n",
    "    frequency = var_freq, start = var_start_year), order=c(7,0,0),\n",
    "    seasonal=c(2,0,0), include.drift = TRUE, include.constant = TRUE), h=h)}\n",
    "e_arima_top  <-  tsCV(gdp_agg, gdp_arima_top_cv, h=var_h, \n",
    "                      window=var_window)[var_cv_low:var_cv_high,]\n",
    "sqrt(mean(e_arima_top^2, na.rm=TRUE))"
   ]
  },
  {
   "cell_type": "code",
   "execution_count": 137,
   "metadata": {},
   "outputs": [
    {
     "data": {
      "text/html": [
       "15136.3284918594"
      ],
      "text/latex": [
       "15136.3284918594"
      ],
      "text/markdown": [
       "15136.3284918594"
      ],
      "text/plain": [
       "[1] 15136.33"
      ]
     },
     "metadata": {},
     "output_type": "display_data"
    }
   ],
   "source": [
    "gdp_arima_top_cv <- function(x, h){forecast(Arima(ts(x, \n",
    "    frequency = var_freq, start = var_start_year), order=c(9,0,0),\n",
    "    seasonal=c(3,0,0), include.drift = TRUE, include.constant = TRUE), h=h)}\n",
    "e_arima_top  <-  tsCV(gdp_agg, gdp_arima_top_cv, h=var_h, \n",
    "                      window=var_window)[var_cv_low:var_cv_high,]\n",
    "sqrt(mean(e_arima_top^2, na.rm=TRUE))"
   ]
  },
  {
   "cell_type": "code",
   "execution_count": 139,
   "metadata": {},
   "outputs": [
    {
     "data": {
      "text/html": [
       "15498.6690295541"
      ],
      "text/latex": [
       "15498.6690295541"
      ],
      "text/markdown": [
       "15498.6690295541"
      ],
      "text/plain": [
       "[1] 15498.67"
      ]
     },
     "metadata": {},
     "output_type": "display_data"
    }
   ],
   "source": [
    "gdp_arima_top_cv <- function(x, h){forecast(Arima(ts(x, \n",
    "    frequency = var_freq, start = var_start_year), order=c(5,0,0),\n",
    "    seasonal=c(2,0,0), include.drift = TRUE, include.constant = TRUE), h=h)}\n",
    "e_arima_top  <-  tsCV(gdp_agg, gdp_arima_top_cv, h=var_h, \n",
    "                      window=var_window)[var_cv_low:var_cv_high,]\n",
    "sqrt(mean(e_arima_top^2, na.rm=TRUE))"
   ]
  },
  {
   "cell_type": "code",
   "execution_count": 144,
   "metadata": {},
   "outputs": [
    {
     "data": {
      "text/html": [
       "15655.9976574117"
      ],
      "text/latex": [
       "15655.9976574117"
      ],
      "text/markdown": [
       "15655.9976574117"
      ],
      "text/plain": [
       "[1] 15656"
      ]
     },
     "metadata": {},
     "output_type": "display_data"
    }
   ],
   "source": [
    "gdp_arima_top_cv <- function(x, h){forecast(Arima(ts(x, \n",
    "    frequency = var_freq, start = var_start_year), order=c(11,0,0),\n",
    "    seasonal=c(1,0,0), include.drift = TRUE, include.constant = TRUE), h=h)}\n",
    "e_arima_top  <-  tsCV(gdp_agg, gdp_arima_top_cv, h=var_h, \n",
    "                      window=var_window)[var_cv_low:var_cv_high,]\n",
    "sqrt(mean(e_arima_top^2, na.rm=TRUE))"
   ]
  },
  {
   "cell_type": "code",
   "execution_count": 142,
   "metadata": {},
   "outputs": [
    {
     "data": {
      "text/html": [
       "15696.3195548128"
      ],
      "text/latex": [
       "15696.3195548128"
      ],
      "text/markdown": [
       "15696.3195548128"
      ],
      "text/plain": [
       "[1] 15696.32"
      ]
     },
     "metadata": {},
     "output_type": "display_data"
    }
   ],
   "source": [
    "gdp_arima_top_cv <- function(x, h){forecast(Arima(ts(x, \n",
    "    frequency = var_freq, start = var_start_year), order=c(2,0,0),\n",
    "    seasonal=c(2,0,0), include.drift = TRUE, include.constant = TRUE), h=h)}\n",
    "e_arima_top  <-  tsCV(gdp_agg, gdp_arima_top_cv, h=var_h, \n",
    "                      window=var_window)[var_cv_low:var_cv_high,]\n",
    "sqrt(mean(e_arima_top^2, na.rm=TRUE))"
   ]
  },
  {
   "cell_type": "code",
   "execution_count": 143,
   "metadata": {},
   "outputs": [
    {
     "data": {
      "text/html": [
       "16244.4537440916"
      ],
      "text/latex": [
       "16244.4537440916"
      ],
      "text/markdown": [
       "16244.4537440916"
      ],
      "text/plain": [
       "[1] 16244.45"
      ]
     },
     "metadata": {},
     "output_type": "display_data"
    }
   ],
   "source": [
    "gdp_arima_top_cv <- function(x, h){forecast(Arima(ts(x, \n",
    "    frequency = var_freq, start = var_start_year), order=c(9,0,0),\n",
    "    seasonal=c(1,0,0), include.drift = TRUE, include.constant = TRUE), h=h)}\n",
    "e_arima_top  <-  tsCV(gdp_agg, gdp_arima_top_cv, h=var_h, \n",
    "                      window=var_window)[var_cv_low:var_cv_high,]\n",
    "sqrt(mean(e_arima_top^2, na.rm=TRUE))"
   ]
  },
  {
   "cell_type": "code",
   "execution_count": 145,
   "metadata": {},
   "outputs": [
    {
     "data": {
      "text/html": [
       "16634.2537865851"
      ],
      "text/latex": [
       "16634.2537865851"
      ],
      "text/markdown": [
       "16634.2537865851"
      ],
      "text/plain": [
       "[1] 16634.25"
      ]
     },
     "metadata": {},
     "output_type": "display_data"
    }
   ],
   "source": [
    "gdp_arima_top_cv <- function(x, h){forecast(Arima(ts(x, \n",
    "    frequency = var_freq, start = var_start_year), order=c(4,0,0),\n",
    "    seasonal=c(2,0,0), include.drift = TRUE, include.constant = TRUE), h=h)}\n",
    "e_arima_top  <-  tsCV(gdp_agg, gdp_arima_top_cv, h=var_h, \n",
    "                      window=var_window)[var_cv_low:var_cv_high,]\n",
    "sqrt(mean(e_arima_top^2, na.rm=TRUE))"
   ]
  },
  {
   "cell_type": "code",
   "execution_count": 146,
   "metadata": {},
   "outputs": [
    {
     "data": {
      "text/html": [
       "16438.7113646708"
      ],
      "text/latex": [
       "16438.7113646708"
      ],
      "text/markdown": [
       "16438.7113646708"
      ],
      "text/plain": [
       "[1] 16438.71"
      ]
     },
     "metadata": {},
     "output_type": "display_data"
    }
   ],
   "source": [
    "gdp_arima_top_cv <- function(x, h){forecast(Arima(ts(x, \n",
    "    frequency = var_freq, start = var_start_year), order=c(3,0,0),\n",
    "    seasonal=c(2,0,0), include.drift = TRUE, include.constant = TRUE), h=h)}\n",
    "e_arima_top  <-  tsCV(gdp_agg, gdp_arima_top_cv, h=var_h, \n",
    "                      window=var_window)[var_cv_low:var_cv_high,]\n",
    "sqrt(mean(e_arima_top^2, na.rm=TRUE))"
   ]
  },
  {
   "cell_type": "code",
   "execution_count": 218,
   "metadata": {},
   "outputs": [
    {
     "data": {
      "text/html": [
       "Inf"
      ],
      "text/latex": [
       "Inf"
      ],
      "text/markdown": [
       "Inf"
      ],
      "text/plain": [
       "[1] Inf"
      ]
     },
     "metadata": {},
     "output_type": "display_data"
    }
   ],
   "source": [
    "gdp_arima_top_cv <- function(x, h){forecast(auto.arima(ts(x, \n",
    "    frequency = var_freq, start = var_start_year), \n",
    "    stationary = FALSE, seasonal = TRUE, lambda=\"auto\"), h=h)}\n",
    "e_arima_top  <-  tsCV(gdp_agg, gdp_arima_top_cv, h=var_h, \n",
    "                      window=var_window)[var_cv_low:var_cv_high,]\n",
    "sqrt(mean(e_arima_top^2, na.rm=TRUE))"
   ]
  }
 ],
 "metadata": {
  "kernelspec": {
   "display_name": "R 3.5.1",
   "language": "R",
   "name": "ir"
  },
  "language_info": {
   "codemirror_mode": "r",
   "file_extension": ".r",
   "mimetype": "text/x-r-source",
   "name": "R",
   "pygments_lexer": "r",
   "version": "3.5.2"
  }
 },
 "nbformat": 4,
 "nbformat_minor": 2
}
