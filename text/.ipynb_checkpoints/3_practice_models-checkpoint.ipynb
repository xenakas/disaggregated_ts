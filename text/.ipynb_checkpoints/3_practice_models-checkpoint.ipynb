{
 "cells": [
  {
   "cell_type": "markdown",
   "metadata": {},
   "source": [
    "## ПРОГНОЗИРОВАНИЕ ВРЕМЕННЫХ РЯДОВ С ИЕРАРХИЧЕСКОЙ СТРУКТУРОЙ"
   ]
  },
  {
   "cell_type": "markdown",
   "metadata": {},
   "source": [
    "### Оглавление\n",
    "\n",
    "- Введение\n",
    "- Обзор литературы\n",
    "- Теоретичсекая часть: описание моделей\n",
    "    - AR(3)\n",
    "    - AR(3) + structural break \n",
    "    - NOPE AR(3)LI with neighbors (different metrics)\n",
    "    - Взвешенные прогнозы\n",
    "    - HB (Иерархический Байес с выделением разных групп  по разным метрикам кластеризации)\n",
    "- Практическая часть \n",
    "    - Данные \n",
    "    - CV\n",
    "        - [How To Backtest Machine Learning Models for Time Series Forecasting](https://machinelearningmastery.com/backtest-machine-learning-models-time-series-forecasting/)\n",
    "        - [Evaluating forecast accuracy](https://otexts.com/fpp2/accuracy.html)\n",
    "        - Чтобы были сопоставимы, делаем кроссвалидацию с увеличивающимся окном \n",
    "    - DM test\n",
    "        - We cannot compare forecasts for VECTORS of differing (in this case increasing) points in time, we must use a rolling window approach with a fixed h to compare these two models' h-point forecasts along time\n",
    "        - Also, note that Diebold himself suggests not using Diebold-Mariano test for comparing models rather than forecasts (Diebold \"Comparing predictive accuracy, twenty years later: A personal perspective on the use and abuse of Diebold–Mariano tests\", 2015).\n",
    "        - [use and abuse](https://www.sas.upenn.edu/~fdiebold/papers/paper113/Diebold_DM%20Test.pdf)"
   ]
  },
  {
   "cell_type": "markdown",
   "metadata": {},
   "source": [
    "#### Сравнение моделей"
   ]
  },
  {
   "cell_type": "markdown",
   "metadata": {},
   "source": [
    "1. AR(3)\n",
    "    - Top level\n",
    "    - Second level by state \n",
    "    - Second level by type\n",
    "    - Second level clustered\n",
    "    - Third level \n",
    "    - Weighted sum (?clustering based on error correlation metric)\n",
    "2. AR(3) + structural break: same/auto\n",
    "    - Top level\n",
    "    - Second level by state \n",
    "    - Second level by type\n",
    "    - Second level clustered\n",
    "    - Third level \n",
    "    - Weighted sum (?clustering based on error correlation metric)\n",
    "3. AR(3)LI with neighbors (by different metrics)\n",
    "    - Second level by state \n",
    "    - Second level by type\n",
    "    - Second level clustered\n",
    "    - Third level \n",
    "    - Weighted sum (?clustering based on error correlation metric)\n",
    "4. HB (Иерархический Байес с выделением разных групп  по разным метрикам кластеризации) \n",
    "    - Top level\n",
    "    - Second level by state \n",
    "    - Second level by type\n",
    "    - Second level clustered\n",
    "    - Third level "
   ]
  },
  {
   "cell_type": "code",
   "execution_count": null,
   "metadata": {},
   "outputs": [],
   "source": []
  }
 ],
 "metadata": {
  "kernelspec": {
   "display_name": "Python 3",
   "language": "python",
   "name": "python3"
  },
  "language_info": {
   "codemirror_mode": {
    "name": "ipython",
    "version": 3
   },
   "file_extension": ".py",
   "mimetype": "text/x-python",
   "name": "python",
   "nbconvert_exporter": "python",
   "pygments_lexer": "ipython3",
   "version": "3.6.5"
  }
 },
 "nbformat": 4,
 "nbformat_minor": 2
}
