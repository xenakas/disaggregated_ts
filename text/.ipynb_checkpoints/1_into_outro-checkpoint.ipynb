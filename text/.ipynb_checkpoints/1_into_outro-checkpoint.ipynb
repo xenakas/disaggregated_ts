{
 "cells": [
  {
   "cell_type": "markdown",
   "metadata": {},
   "source": [
    "## ПРОГНОЗИРОВАНИЕ ВРЕМЕННЫХ РЯДОВ С ИЕРАРХИЧЕСКОЙ СТРУКТУРОЙ"
   ]
  },
  {
   "cell_type": "markdown",
   "metadata": {},
   "source": [
    "### Оглавление\n",
    "\n",
    "- Введение\n",
    "- Обзор литературы\n",
    "- Теоретичсекая часть: описание моделей\n",
    "    - AR(3)\n",
    "    - AR(3) + structural break \n",
    "    - NOPE AR(3)LI with neighbors (different metrics)\n",
    "    - Взвешенные прогнозы\n",
    "    - HB (Иерархический Байес с выделением разных групп  по разным метрикам кластеризации)\n",
    "- Практическая часть \n",
    "    - Данные \n",
    "    - CV\n",
    "        - [How To Backtest Machine Learning Models for Time Series Forecasting](https://machinelearningmastery.com/backtest-machine-learning-models-time-series-forecasting/)\n",
    "        - [Evaluating forecast accuracy](https://otexts.com/fpp2/accuracy.html)\n",
    "        - Чтобы были сопоставимы, делаем кроссвалидацию с увеличивающимся окном \n",
    "    - DM test\n",
    "        - We cannot compare forecasts for VECTORS of differing (in this case increasing) points in time, we must use a rolling window approach with a fixed h to compare these two models' h-point forecasts along time\n",
    "        - Also, note that Diebold himself suggests not using Diebold-Mariano test for comparing models rather than forecasts (Diebold \"Comparing predictive accuracy, twenty years later: A personal perspective on the use and abuse of Diebold–Mariano tests\", 2015).\n",
    "        - [use and abuse](https://www.sas.upenn.edu/~fdiebold/papers/paper113/Diebold_DM%20Test.pdf)\n",
    "\n",
    "    - Сравнение моделей\n",
    "        1. AR(3)\n",
    "            - Top level\n",
    "            - Second level by state \n",
    "            - Second level by type\n",
    "            - Second level clustered\n",
    "            - Third level \n",
    "            - Weighted sum (?clustering based on error correlation metric)\n",
    "        2. AR(3) + structural break: same/auto\n",
    "            - Top level\n",
    "            - Second level by state \n",
    "            - Second level by type\n",
    "            - Second level clustered\n",
    "            - Third level \n",
    "            - Weighted sum (?clustering based on error correlation metric)\n",
    "        3. AR(3)LI with neighbors (by different metrics)\n",
    "            - Second level by state \n",
    "            - Second level by type\n",
    "            - Second level clustered\n",
    "            - Third level \n",
    "            - Weighted sum (?clustering based on error correlation metric)\n",
    "        4. HB (Иерархический Байес с выделением разных групп  по разным метрикам кластеризации) \n",
    "            - Top level\n",
    "            - Second level by state \n",
    "            - Second level by type\n",
    "            - Second level clustered\n",
    "            - Third level \n"
   ]
  },
  {
   "cell_type": "markdown",
   "metadata": {},
   "source": [
    "\n",
    "### Введение "
   ]
  },
  {
   "cell_type": "markdown",
   "metadata": {},
   "source": [
    "В ананлизе данных часто встречаются данные со сложной многоуровневой структурой. \n",
    "\n",
    "Одним из способов повышения точности прогонозов является агрегирование данных. Один из вариантов - агрегирование временных рядов до составления прогноза, другой - агрегирование самих прогнозов. \n",
    "\n",
    "\n",
    "Цель:\n",
    "- Использовать информацию на одном уровне агрегирования для улучшения прогнозов на другом уровне агрегации. \n",
    "\n",
    "Задачи: \n",
    "- Сбор данных с трехуровневой иерархической структурой\n",
    "- Сравнение прогнозной силы моделей для агрегированного временного ряда, взвешенных прогнозов дизагрегрованных рядов и иерархической байесовской модели.\n",
    "- Использование ближайшего по различным метрикам временного ряда в качестве регрессора  \n",
    "- Добавление в модель дамми структурного сдвига\n",
    "- Кластеризация временных рядов третьего уровня для получения комбинированных рядов второго уровня (суммирование всех рядов, попавших в один кластер), сравнение прогнозов по  \"оригинальным\" и \"комбинированным\" рядам второго уровня\n",
    "\n",
    "\n",
    "Анализ данных с иерархической структурой требуется в микроэкономике (анализ  спроса на различные виды товаров в разных городах), макроэкономике (ВВП по регонам по разным отраслям), страховании (анализ рисков попасть аварию, в зависимости от привычек и местонахождения человека),  социологии (смертность по регионам и причинам смерти) и т.д.  Помимо этого существует межвременная аггрегация временных рядов, часто применяющаяся при прогнозировании.  \n",
    "\n",
    "\n",
    "\n",
    "Для анализа были выбраны ряды с определенной структурой, а именно: \n",
    "структура трехуровневая и иерархическая, причем просуммировав ряды третьего уровня мы можем получить ряды, как ряды второго уровня, так и сам аггрегированый ряд. В ходе исследования мы определим,  позволяет ли такое детальное дробление временного ряда на более мелкие добиться существенного улучшения прогнозов или можно, например, ограничиться двумя уровнями.\n",
    " \n",
    " \n",
    " \n"
   ]
  },
  {
   "cell_type": "markdown",
   "metadata": {},
   "source": [
    "### Обзор литературы\n"
   ]
  },
  {
   "cell_type": "markdown",
   "metadata": {},
   "source": [
    "\n",
    "\n",
    "Логично, что каждый временной ряд по-разному реагирует на дополнительные регрессоры, т.е. для каждого ряда мы получим свою оценку коэффициента перед соответвующей объясняющей переменной, в отличие от случая, когда мы получаем оценку при аналогичных регрессорах для аггрегированного ряда, фактически получая одну и ту же оценку для каждого из рядов нижних уровней вне зависимости от того, насколько по-разному они себя ведут со временем.\n",
    "\n",
    "\n",
    "С другой стороны информация полученная из аггрегированных рядов может иметь существенное влияние при прогнозировании рядов нижнего уровня, хотя ее использование может сопровождаться некоторыми сложностями. \n"
   ]
  },
  {
   "cell_type": "markdown",
   "metadata": {},
   "source": [
    "Для наиболее распространенных моделей прогнозированию существуют альтернативные подходы к анализу временных рядов с иерархической структурой, например, модель  векторной авторегрессии (VAR), в которой  временные ряды имеют общие параметры или модель байесовской векторной авторегрессии (BVAR), где коэффициенты  при различных регрессорах могут иметь общее априорное распределение.  В том числе применяются многомерные модели пространства состояний, векторное  экспоненциальное сглаживание, а также  байесовские подходы, например, их применение к пулу аналогичных временных рядов с помощью ... [Duncan et al. (1993, 2001)].\n",
    "В таких моделях обычная оценка параметрами объединяется с оцененкой по сгруппированной модели. \n",
    "\n",
    "Эмпирические результаты показали, что с помощью перечисленных выше методов точность прогноза может быть улучшена, поскольку они используют ковариационную зависимость  между временными рядами. Однако использование их связано с выполнением большого числа предпосылок или введения соответствующих ограничений на модель.\n",
    "\n",
    "Эти методы по крайней мере теоретически могут легко обогнать по качеству прогнозов такие простые подходы, как bottom-up (BU), top-down (TD).\n",
    "Но помимо BU и TD подходов к получению прогнозов аггрегированных рядов, существуют более сложные методы получения  оптимальных комбинаций прогонозов, например, ...\n",
    "Однако во многих теоретических и эмпирических работах было замечено, что зачастую более простые методы комбинирования прогнозов оказываются в разы эффективнее, сложных методов, использующих метррики, учитывающие особенности каждого из рядов. Так, например, в статье ... лучший прогноз давало простое взвешивание прогнозов. \n",
    "\n"
   ]
  },
  {
   "cell_type": "markdown",
   "metadata": {},
   "source": [
    "### Заключение \n",
    "\n",
    "\n",
    "\n",
    "- [Many relevant economic aggregates, like GDP and CPI, do not fall in this category and it is unclear whether these methods will work with relatively small samples.](https://mpra.ub.uni-muenchen.de/81585/1/MPRA_paper_81585.pdf)\n",
    "\n",
    "- можно провести анализ на увеличивающихся  окнах\n",
    "\n",
    "- Are there any benefits from using rolling forecasts or recursive filters for prediction?\n",
    "\n",
    "\n",
    "Примеры иерархических временных рядов:\n",
    "\n",
    "- Дневные\n",
    "    - вклад в какой нибудь индекс  \n",
    "    - просмотры, сколько заходит на страницу по разделам/по возрасту\n",
    "- Проверить ряды в m3comp"
   ]
  },
  {
   "cell_type": "markdown",
   "metadata": {},
   "source": [
    "### Список литературы"
   ]
  },
  {
   "cell_type": "markdown",
   "metadata": {},
   "source": [
    "### To Read"
   ]
  },
  {
   "cell_type": "markdown",
   "metadata": {},
   "source": [
    "#### Top-Reads"
   ]
  },
  {
   "cell_type": "markdown",
   "metadata": {},
   "source": [
    "- [Forecasting analogous time series](http://citeseerx.ist.psu.edu/viewdoc/download?doi=10.1.1.519.6011&rep=rep1&type=pdf)"
   ]
  },
  {
   "cell_type": "markdown",
   "metadata": {},
   "source": [
    "- [Forecasting output growth rates and median output growth rates: a hierarchical Bayesian approach](https://onlinelibrary.wiley.com/doi/pdf/10.1002/for.800)\n",
    "\n",
    "- [Forecasting Short Time Series with the Bayesian Autoregression and the Soft Computing Prior Information](https://link.springer.com/chapter/10.1007/978-3-319-10765-3_10)\n",
    "\n",
    "- [The use of prior information\n",
    "in forecast combination ](https://www.sas.upenn.edu/~fdiebold/papers/paper94/DieboldPauly1990.pdf) \n",
    "\n",
    "- [Discovering Playing Patterns:\n",
    "Time Series Clustering of Free-To-Play Game Data](https://arxiv.org/pdf/1710.02268.pdf)\n",
    "\n",
    "- Weighted clustering\n",
    "\n",
    "- [Joint Forecast Combination of\n",
    "Macroeconomic Aggregates and Their\n",
    "Components](https://mpra.ub.uni-muenchen.de/76556/1/MPRA_paper_76556.pdf)"
   ]
  },
  {
   "cell_type": "markdown",
   "metadata": {},
   "source": [
    "#### Ликбезы"
   ]
  },
  {
   "cell_type": "markdown",
   "metadata": {},
   "source": [
    "- https://arxiv.org/pdf/1511.00860.pdf\n",
    "\n",
    "- http://quantile.ru/09/09-AT.pdf\n",
    "\n",
    "- http://quantile.ru/11/11-SA.pdf\n",
    "\n",
    "- http://quantile.ru/03/03-SA.pdf"
   ]
  },
  {
   "cell_type": "markdown",
   "metadata": {},
   "source": [
    "### Literature\n",
    "\n",
    "- Forecasting Economic Aggregates Using Dynamic Component Grouping\n"
   ]
  },
  {
   "cell_type": "markdown",
   "metadata": {},
   "source": [
    "### To Read\n",
    "\n",
    "#### Top-Reads\n",
    "\n",
    "- [Forecasting analogous time series](http://citeseerx.ist.psu.edu/viewdoc/download?doi=10.1.1.519.6011&rep=rep1&type=pdf)\n",
    "\n",
    "- [Forecasting output growth rates and median output growth rates: a hierarchical Bayesian approach](https://onlinelibrary.wiley.com/doi/pdf/10.1002/for.800)\n",
    "\n",
    "- [Forecasting Short Time Series with the Bayesian Autoregression and the Soft Computing Prior Information](https://link.springer.com/chapter/10.1007/978-3-319-10765-3_10)\n",
    "\n",
    "- [The use of prior information\n",
    "in forecast combination ](https://www.sas.upenn.edu/~fdiebold/papers/paper94/DieboldPauly1990.pdf) \n",
    "\n",
    "- [Discovering Playing Patterns:\n",
    "Time Series Clustering of Free-To-Play Game Data](https://arxiv.org/pdf/1710.02268.pdf)\n",
    "\n",
    "- Weighted clustering\n",
    "\n",
    "- [Joint Forecast Combination of\n",
    "Macroeconomic Aggregates and Their\n",
    "Components](https://mpra.ub.uni-muenchen.de/76556/1/MPRA_paper_76556.pdf)\n",
    "\n",
    "#### Ликбезы\n",
    "\n",
    "- https://arxiv.org/pdf/1511.00860.pdf\n",
    "\n",
    "- http://quantile.ru/09/09-AT.pdf\n",
    "\n",
    "- http://quantile.ru/11/11-SA.pdf\n",
    "\n",
    "- http://quantile.ru/03/03-SA.pdf\n",
    "\n",
    "### Literature\n",
    "\n",
    "- Forecasting Economic Aggregates Using Dynamic Component Grouping\n"
   ]
  },
  {
   "cell_type": "markdown",
   "metadata": {},
   "source": [
    "#### Данные "
   ]
  },
  {
   "cell_type": "markdown",
   "metadata": {},
   "source": [
    "- https://ec.europa.eu/eurostat/web/main/home Eurostat: european statistics\n",
    "- https://fred.stlouisfed.org FRED Economic Data\n",
    "- https://www.fedstat.ru ЕМИСС: государственная статистика"
   ]
  },
  {
   "cell_type": "code",
   "execution_count": null,
   "metadata": {},
   "outputs": [],
   "source": []
  }
 ],
 "metadata": {
  "kernelspec": {
   "display_name": "Python 3",
   "language": "python",
   "name": "python3"
  },
  "language_info": {
   "codemirror_mode": {
    "name": "ipython",
    "version": 3
   },
   "file_extension": ".py",
   "mimetype": "text/x-python",
   "name": "python",
   "nbconvert_exporter": "python",
   "pygments_lexer": "ipython3",
   "version": "3.6.5"
  }
 },
 "nbformat": 4,
 "nbformat_minor": 2
}
