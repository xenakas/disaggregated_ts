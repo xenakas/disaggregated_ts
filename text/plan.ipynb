{
 "cells": [
  {
   "cell_type": "markdown",
   "metadata": {},
   "source": [
    "## ПРОГНОЗИРОВАНИЕ ВРЕМЕННЫХ РЯДОВ С ИЕРАРХИЧЕСКОЙ СТРУКТУРОЙ"
   ]
  },
  {
   "cell_type": "markdown",
   "metadata": {},
   "source": [
    "### Оглавление\n",
    "\n",
    "- Введение\n",
    "- Обзор литературы\n",
    "- Теоретичсекая часть: описание моделей\n",
    "    - AR(3)\n",
    "    - AR(3) + structural break \n",
    "    - Third level \n",
    "        - AR(3)\n",
    "        - AR(3) + structural break (2008)\n",
    "        - AR(3) + structural break\n",
    "        - NOPE AR(3)LI with neighbors (different metrics)\n",
    "        - NOPE AR(3)LI with neighbors (best metric) and structural break\n",
    "        - weighted sum (?clustering based on error correlation metric)\n",
    "        - HB \n",
    "            - Иерархический Байес с выделением разных групп  по разным метрикам кластеризации \n",
    "- Практическая часть \n",
    "    - Данные \n",
    "    - CV\n",
    "        - [How To Backtest Machine Learning Models for Time Series Forecasting](https://machinelearningmastery.com/backtest-machine-learning-models-time-series-forecasting/)\n",
    "        - [Evaluating forecast accuracy](https://otexts.com/fpp2/accuracy.html)\n",
    "        - Чтобы были сопоставимы, делаем кроссвалидацию с увеличивающимся окном \n",
    "    - DM test\n",
    "        - We cannot compare forecasts for VECTORS of differing (in this case increasing) points in time, we must use a rolling window approach with a fixed h to compare these two models' h-point forecasts along time\n",
    "        - Also, note that Diebold himself suggests not using Diebold-Mariano test for comparing models rather than forecasts (Diebold \"Comparing predictive accuracy, twenty years later: A personal perspective on the use and abuse of Diebold–Mariano tests\", 2015).\n",
    "    - Сравнение моделей\n",
    "        - Top level\n",
    "            - AR(3)\n",
    "            - AR(3) + structural break \n",
    "        - Third level \n",
    "            - AR(3)\n",
    "            - AR(3) + structural break (2008)\n",
    "            - AR(3) + structural break\n",
    "            - NOPE AR(3)LI with neighbors (different metrics)\n",
    "            - NOPE AR(3)LI with neighbors (best metric) and structural break\n",
    "            - weighted sum (?clustering based on error correlation metric)\n",
    "            - HB \n",
    "                - Иерархический Байес с выделением разных групп  по разным метрикам кластеризации \n",
    "    \n",
    "        - Second level\n",
    "            - AR(3) \n",
    "            - AR(3) + structural break \n",
    "            - AR(3)LI with neighbors\n",
    "            - weighted sum\n",
    "            - HB \n",
    "        - Second level (grouped sum from 3 level) (?clustering based on error correlation metric)\n",
    "            - AR(3) \n",
    "            - AR(3) + structural break \n",
    "            - weighted sum\n",
    "            - HB"
   ]
  },
  {
   "cell_type": "markdown",
   "metadata": {},
   "source": [
    "### Введение "
   ]
  },
  {
   "cell_type": "markdown",
   "metadata": {},
   "source": [
    "### Обзор литературы\n"
   ]
  },
  {
   "cell_type": "markdown",
   "metadata": {},
   "source": [
    "### Теоретическая часть"
   ]
  },
  {
   "cell_type": "markdown",
   "metadata": {},
   "source": [
    "#### Взвешенные прогнозы"
   ]
  },
  {
   "cell_type": "markdown",
   "metadata": {},
   "source": [
    "#### Иерархический Байес"
   ]
  },
  {
   "cell_type": "markdown",
   "metadata": {},
   "source": [
    "The frequentist approach:\n",
    "- We made assumptions on the generating process (e.g., i.i.d.,\n",
    "Gaussian data, smooth density, linear regression function,\n",
    "etc...)\n",
    "- The generating process was associated to some object of\n",
    "interest (e.g., a parameter, a density, etc...)\n",
    "- This object was unknown but fixed and we wanted to find it:\n",
    "we either estimated it or tested a hypothesis about this object,\n",
    "etc.\n",
    "\n",
    "The Bayesian approach:\n",
    "\n",
    "- Now, we still observe data, assumed to be randomly generated\n",
    "by some process. Under some assumptions (e.g., parametric\n",
    "distribution), this process is associated with some fixed object.\n",
    "- We have a prior belief about it.\n",
    "- Using the data, we want to update that belief and transform\n",
    "it into a posterior belief. \n",
    "\n",
    "Idea: In case of ignorance, or of lack of prior information, one\n",
    "may want to use a prior that is as little informative as\n",
    "possible."
   ]
  },
  {
   "cell_type": "markdown",
   "metadata": {},
   "source": [
    "#### Кластеризация"
   ]
  },
  {
   "cell_type": "markdown",
   "metadata": {},
   "source": [
    "### Практическая часть\n"
   ]
  },
  {
   "cell_type": "markdown",
   "metadata": {},
   "source": [
    "#### DM  тест\n"
   ]
  },
  {
   "cell_type": "markdown",
   "metadata": {},
   "source": [
    "### [Comparing Predictive Accuracy of two Forecasts: The Diebold-Mariano Test](http://www.phdeconomics.sssup.it/documents/Lesson19.pdf)"
   ]
  },
  {
   "cell_type": "markdown",
   "metadata": {},
   "source": [
    "In empirical applications it is often the case that two or more\n",
    "time series models are available for forecasting a particular\n",
    "variable of interest.\n",
    "\n",
    "Question: Are the forecasts equally good?"
   ]
  },
  {
   "cell_type": "markdown",
   "metadata": {},
   "source": [
    "The loss associated with forecast $i$ is assumed to be a function\n",
    "of the forecast error, $e_{it}$, and is denoted by $g(e_{it})$.\n",
    "\n",
    "A problem with these loss function is that they are symmetric\n",
    "functions (squared-error loss, absolute error loss)\n",
    "\n",
    "When it is more costly to underpredict $y_t$ than to overpredict\n",
    "it, the following loss function can be used:\n",
    "$$g(e_{it}) = \\exp (λe_{it}) − 1 − λe_{it}$$\n",
    "\n",
    "We define the loss differential between the two forecasts by\n",
    "$$d_t = g(e_{1t}) − g(e_{2t})$$\n",
    "and say that the two forecasts have equal accuracy if and only\n",
    "if the loss differential has zero expectation for all $t$.'\n",
    "\n",
    "So, we would like to test the null hypothesis\n",
    "$$H_0 : E(d_t) = 0,  ∀t$$\n",
    "versus the alternative hypothesis\n",
    "$$H_1 : E(d_t) \\neq 0$$\n",
    "The null hypothesis is that the two forecasts have the same\n",
    "accuracy. The alternative hypothesis is that the two forecasts\n",
    "have different levels of accuracy\n",
    "\n",
    "\n",
    "Suppose that the forecasts are h(> 1)-step-ahead. In order to\n",
    "test the null hypotesis that the two forecasts have the same\n",
    "accuracy, Diebold-Mariano utilize the following statistic\n",
    "\n",
    "$$DM = \\frac{\\bar{d}}{\\sqrt{\\frac{2\\pi\\hat{f}_d(0)}{T}}} \\sim N(0;1)$$\n",
    "\n",
    "where\n",
    "\n",
    "$f_d (0) = \\frac{1}{2π} \\sum^{\\infty}_{k=-\\infty} γ_d (k)$ is the spectral density of the loss differential at frequency 0, \n",
    "$γ_d(k)$ is the autocovariance of the loss differential at lag $k$\n",
    "\n",
    "$\\hat{f}_d (0) =  \\frac{1}{2π} \\sum^{T−1}_{k=−(T−1)} I(\\frac{k}{h − 1}) \\hat{γ}_d (k)$\n",
    "is a consistent estimate of $f_d (0)$\n",
    "\n",
    "$\\hat{γ}_d (k) = 1/T \\sum^T_{t=|k|+1} (d_t − \\bar{d})(d_{t−|k|} − \\bar{d})$\n",
    "\n",
    "$I(\\frac{k}{h − 1}) =  \\begin{cases} 1, \\  \\ if\\  |\\frac{k}{h − 1}| \\leq 1 \\\\ 0, \\  otherwise \\end{cases}$\n",
    "\n",
    "\n",
    "As the simulation experiments in Diebold and Mariano (1995)\n",
    "show, the normal distribution can be a very poor\n",
    "approximation of the DM test’s finite-sample null distribution.\n",
    "Their results show that the DM test can have the wrong size,\n",
    "rejecting the null too often, depending on the degree of serial\n",
    "correlation among the forecast errors and the sample size, $T$.\n"
   ]
  },
  {
   "cell_type": "markdown",
   "metadata": {},
   "source": [
    "Harvey, Leybourne, and Newbold (1997) (HLN) suggest that\n",
    "improved small-sample properties can be obtained by:\n",
    "1. making a bias correction to the DM test statistic, and\n",
    "2. comparing the corrected statistic with a Student-t distribution with (T-1) degrees of freedom, rather than the standard normal.\n",
    "\n",
    "\n",
    "$$HLN = DM\\sqrt{(n+1-2h+h(h-1))/n} \\sim T(n-1)$$\n",
    "\n",
    "\n",
    "__A problem:__\n",
    "\n",
    "The Diebold-Mariano test should not be applied\n",
    "to situations where the competing forecasts are obtained using\n",
    "two nested models\n",
    "\n",
    "The root of the problem is that, at the population level, if the\n",
    "null hypothesis of equal predictive accuracy is true, the forecast\n",
    "errors from the competing models are exactly the same and\n",
    "perfectly correlated, which means that the numerator and\n",
    "denominator of a Diebold-Mariano test are each limiting to\n",
    "zero as the estimation sample and prediction sample grow.\n",
    "\n",
    "However, when the size of the estimation sample remains finite\n",
    "as the size of the prediction sample grows, parameter\n",
    "estimates are prevented from reaching their probability limits\n",
    "and the Diebold-Mariano test remains asymptotically valid\n",
    "even for nested models, under some regularity assumptions\n",
    "(see Giacomini and White 2003)."
   ]
  },
  {
   "cell_type": "markdown",
   "metadata": {},
   "source": [
    "> ##### [Nested model](http://quantile.ru/12/12-AT.pdf) \n",
    "\n",
    "> Когда модель A является частным случаем модели B, т. е. A можно получить из B, наложив\n",
    "на параметры некоторые ограничения (и, возможно, сделав замену переменных), то говорят,\n",
    "что модель A вложена (nested) в модель B. Если же A и B не сводятся друг к другу с помощью наложения ограничений на параметры, то говорят, что A и B являются невложенными\n",
    "(non-nested); примером могут служить модели логит и пробит. Если правильность спецификации одной модели проверяют на основе сопоставления с невложенной альтернативной\n",
    "моделью, то говорят о невложенных гипотезах. \n",
    "\n",
    "\n",
    "> В том же контексте выбора модели есть похожий термин encompassing (охват). Принцип\n",
    "охвата заключается в том, что если модель правильно специфицирована, то она должна\n",
    "быть способна объяснять результаты использования альтернативной модели. О выборе мо-\n",
    "дели, невложенных и охватывающих моделях см. Gourieroux & Monfort (1994), Pesaran &\n",
    "Weeks (2001), Greene (2012)."
   ]
  },
  {
   "cell_type": "markdown",
   "metadata": {},
   "source": [
    "If you wonder whether one forecast (say, 𝑓1) is statistically more accurate than another (say, 𝑓2), the Diebold-Mariano (DM) test will tell you that. At this point there is no talk of the models that generated the forecasts.\n",
    "The DM test (as any other statistical test) targets making inference on the population rather than the current sample. If (1) the DM test tells you with 95% confidence that 𝑓1 beats 𝑓2 and (2) the forecast generating processes and the data generating process all remain unchanged in the future, then you would expect that 𝑓1 will beat 𝑓2 also in the future.\n",
    "How can you benefit from this result? If you have the forecast generating process available, you could choose to use the one for 𝑓1 rather than for 𝑓2. However, Diebold (2015) does not encourage that:\n",
    "\n",
    "The Diebold-Mariano (DM) test was intended for comparing forecasts; it has been, and remains, useful in that regard. The DM test was not intended for comparing models. Much of the large ensuing literature, however, uses DM-type tests for comparing models, in pseudo-out-of-sample environments. In that case, simpler yet more compelling full-sample model comparison procedures exist; they have been, and should continue to be, widely used."
   ]
  },
  {
   "cell_type": "markdown",
   "metadata": {},
   "source": [
    "Additional information:\n",
    "\n",
    "\n",
    "- [Statistical Tests for Multiple Forecast Comparison](http://statweb.stanford.edu/~ckirby/ted/conference/Roberto%20Mariano.pdf): other  tests like:\n",
    "    - Morgan-Granger-Newbold (MGN) Test (1977), \n",
    "    - Meese-Rogoff (MR) Test (1988), \n",
    "    - Diebold-Mariano (DM) Test (1995), \n",
    "    - HLN (1997): Small-Sample Modification of DM Test \n",
    "    - A Multivariate Test "
   ]
  },
  {
   "cell_type": "markdown",
   "metadata": {},
   "source": [
    "#### CV\n",
    "\n",
    "- [How To Backtest Machine Learning Models for Time Series Forecasting](https://machinelearningmastery.com/backtest-machine-learning-models-time-series-forecasting/)\n",
    "- [Evaluating forecast accuracy](https://otexts.com/fpp2/accuracy.html)\n",
    "- Чтобы были сопоставимы, делаем кроссвалидацию с увеличивающимся окном \n"
   ]
  },
  {
   "cell_type": "markdown",
   "metadata": {},
   "source": [
    "### Заключение \n"
   ]
  },
  {
   "cell_type": "markdown",
   "metadata": {},
   "source": [
    "### Список литературы"
   ]
  },
  {
   "cell_type": "markdown",
   "metadata": {},
   "source": [
    "### To Read"
   ]
  },
  {
   "cell_type": "markdown",
   "metadata": {},
   "source": [
    "#### Top-Reads"
   ]
  },
  {
   "cell_type": "markdown",
   "metadata": {},
   "source": [
    "- [Forecasting analogous time series](http://citeseerx.ist.psu.edu/viewdoc/download?doi=10.1.1.519.6011&rep=rep1&type=pdf)"
   ]
  },
  {
   "cell_type": "markdown",
   "metadata": {},
   "source": [
    "- [Forecasting output growth rates and median output growth rates: a hierarchical Bayesian approach](https://onlinelibrary.wiley.com/doi/pdf/10.1002/for.800)\n",
    "\n",
    "- [Forecasting Short Time Series with the Bayesian Autoregression and the Soft Computing Prior Information](https://link.springer.com/chapter/10.1007/978-3-319-10765-3_10)\n",
    "\n",
    "- [The use of prior information\n",
    "in forecast combination ](https://www.sas.upenn.edu/~fdiebold/papers/paper94/DieboldPauly1990.pdf) \n",
    "\n",
    "- [Discovering Playing Patterns:\n",
    "Time Series Clustering of Free-To-Play Game Data](https://arxiv.org/pdf/1710.02268.pdf)\n",
    "\n",
    "- Weighted clustering\n",
    "\n",
    "- [Joint Forecast Combination of\n",
    "Macroeconomic Aggregates and Their\n",
    "Components](https://mpra.ub.uni-muenchen.de/76556/1/MPRA_paper_76556.pdf)"
   ]
  },
  {
   "cell_type": "markdown",
   "metadata": {},
   "source": [
    "#### Ликбезы"
   ]
  },
  {
   "cell_type": "markdown",
   "metadata": {},
   "source": [
    "- https://arxiv.org/pdf/1511.00860.pdf\n",
    "\n",
    "- http://quantile.ru/09/09-AT.pdf\n",
    "\n",
    "- http://quantile.ru/11/11-SA.pdf\n",
    "\n",
    "- http://quantile.ru/03/03-SA.pdf"
   ]
  },
  {
   "cell_type": "markdown",
   "metadata": {},
   "source": [
    "### Literature\n",
    "\n",
    "- Forecasting Economic Aggregates Using Dynamic Component Grouping\n"
   ]
  },
  {
   "cell_type": "code",
   "execution_count": null,
   "metadata": {},
   "outputs": [],
   "source": [
    "### To Read\n",
    "\n",
    "#### Top-Reads\n",
    "\n",
    "- [Forecasting analogous time series](http://citeseerx.ist.psu.edu/viewdoc/download?doi=10.1.1.519.6011&rep=rep1&type=pdf)\n",
    "\n",
    "- [Forecasting output growth rates and median output growth rates: a hierarchical Bayesian approach](https://onlinelibrary.wiley.com/doi/pdf/10.1002/for.800)\n",
    "\n",
    "- [Forecasting Short Time Series with the Bayesian Autoregression and the Soft Computing Prior Information](https://link.springer.com/chapter/10.1007/978-3-319-10765-3_10)\n",
    "\n",
    "- [The use of prior information\n",
    "in forecast combination ](https://www.sas.upenn.edu/~fdiebold/papers/paper94/DieboldPauly1990.pdf) \n",
    "\n",
    "- [Discovering Playing Patterns:\n",
    "Time Series Clustering of Free-To-Play Game Data](https://arxiv.org/pdf/1710.02268.pdf)\n",
    "\n",
    "- Weighted clustering\n",
    "\n",
    "- [Joint Forecast Combination of\n",
    "Macroeconomic Aggregates and Their\n",
    "Components](https://mpra.ub.uni-muenchen.de/76556/1/MPRA_paper_76556.pdf)\n",
    "\n",
    "#### Ликбезы\n",
    "\n",
    "- https://arxiv.org/pdf/1511.00860.pdf\n",
    "\n",
    "- http://quantile.ru/09/09-AT.pdf\n",
    "\n",
    "- http://quantile.ru/11/11-SA.pdf\n",
    "\n",
    "- http://quantile.ru/03/03-SA.pdf\n",
    "\n",
    "### Literature\n",
    "\n",
    "- Forecasting Economic Aggregates Using Dynamic Component Grouping\n"
   ]
  }
 ],
 "metadata": {
  "kernelspec": {
   "display_name": "Python 3",
   "language": "python",
   "name": "python3"
  },
  "language_info": {
   "codemirror_mode": {
    "name": "ipython",
    "version": 3
   },
   "file_extension": ".py",
   "mimetype": "text/x-python",
   "name": "python",
   "nbconvert_exporter": "python",
   "pygments_lexer": "ipython3",
   "version": "3.6.5"
  }
 },
 "nbformat": 4,
 "nbformat_minor": 2
}
