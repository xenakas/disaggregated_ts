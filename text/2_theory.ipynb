{
 "cells": [
  {
   "cell_type": "markdown",
   "metadata": {},
   "source": [
    "## ПРОГНОЗИРОВАНИЕ ВРЕМЕННЫХ РЯДОВ С ИЕРАРХИЧЕСКОЙ СТРУКТУРОЙ"
   ]
  },
  {
   "cell_type": "markdown",
   "metadata": {},
   "source": [
    "### Оглавление\n",
    "\n",
    "- Введение\n",
    "- Обзор литературы\n",
    "- Теоретичсекая часть: описание моделей\n",
    "    - AR(3)\n",
    "    - AR(3) + structural break \n",
    "    - NOPE AR(3)LI with neighbors (different metrics)\n",
    "    - Взвешенные прогнозы\n",
    "    - HB (Иерархический Байес с выделением разных групп  по разным метрикам кластеризации)\n",
    "- Практическая часть \n",
    "    - Данные \n",
    "    - CV\n",
    "        - [How To Backtest Machine Learning Models for Time Series Forecasting](https://machinelearningmastery.com/backtest-machine-learning-models-time-series-forecasting/)\n",
    "        - [Evaluating forecast accuracy](https://otexts.com/fpp2/accuracy.html)\n",
    "        - Чтобы были сопоставимы, делаем кроссвалидацию с увеличивающимся окном \n",
    "    - DM test\n",
    "        - We cannot compare forecasts for VECTORS of differing (in this case increasing) points in time, we must use a rolling window approach with a fixed h to compare these two models' h-point forecasts along time\n",
    "        - Also, note that Diebold himself suggests not using Diebold-Mariano test for comparing models rather than forecasts (Diebold \"Comparing predictive accuracy, twenty years later: A personal perspective on the use and abuse of Diebold–Mariano tests\", 2015).\n",
    "        - [use and abuse](https://www.sas.upenn.edu/~fdiebold/papers/paper113/Diebold_DM%20Test.pdf)\n",
    "\n",
    "    - Сравнение моделей"
   ]
  },
  {
   "cell_type": "markdown",
   "metadata": {},
   "source": [
    "### Теоретическая часть"
   ]
  },
  {
   "cell_type": "markdown",
   "metadata": {},
   "source": [
    "#### Взвешенные прогнозы\n"
   ]
  },
  {
   "cell_type": "markdown",
   "metadata": {},
   "source": [
    "Finding optimal forecast:\n",
    "\n",
    "[With three components the feasible set is five: the aggregate, full disaggregation and three options where one component is forecasted on its own and the other two together. With four components the possibilities grow to fifteen and with five components to 52.](https://mpra.ub.uni-muenchen.de/81585/1/MPRA_paper_81585.pdf)\n",
    "    \n",
    "    "
   ]
  },
  {
   "cell_type": "markdown",
   "metadata": {},
   "source": [
    "- hts: [pdf](https://cran.r-project.org/web/packages/hts/vignettes/hts.pdf)\n",
    "\n",
    "HTS:\n",
    "\n",
    "https://www.rdocumentation.org/packages/hts/versions/5.1.5\n",
    "\n",
    "https://cran.r-project.org/web/packages/hts/index.html\n",
    "\n",
    "https://github.com/earowang/hts\n",
    "\n",
    "https://otexts.com/fpp2/hts.html\n",
    "\n",
    "GEOMCOMB:\n",
    "\n",
    "https://cran.r-project.org/web/packages/GeomComb/GeomComb.pdf\n",
    "\n",
    "NLME?\n",
    "\n",
    "https://stat.ethz.ch/education/semesters/ss2010/seminar/09_Slides.pdf\n",
    "\n"
   ]
  },
  {
   "cell_type": "markdown",
   "metadata": {},
   "source": [
    "#### Иерархический Байес"
   ]
  },
  {
   "cell_type": "markdown",
   "metadata": {},
   "source": [
    "Improving forecasting accuracy of GDP with Hierarchical Bayes"
   ]
  },
  {
   "cell_type": "markdown",
   "metadata": {},
   "source": [
    "- hb vs eb? Empirical Bayes uses the data to set the hyperparameters of the prior. Performing Bayesian inference with this prior then gets you a sort of shrinkage and can be viewed as an approximation to a hierarchical Bayesian model\n",
    "\n",
    "- hb, empirical bayes (Get prior from aggregated ts: lower level priors based on aggreagted time series or prior for cluster using mean for that cluster), grouped priors\n",
    "\n",
    "\n",
    "\n",
    "[Forecasting international growth rates using Bayesian shrinkage and other procedures](https://www.sciencedirect.com/science/article/pii/0304407689900365)\n"
   ]
  },
  {
   "cell_type": "markdown",
   "metadata": {},
   "source": [
    "The frequentist approach:\n",
    "- We made assumptions on the generating process (e.g., i.i.d.,\n",
    "Gaussian data, smooth density, linear regression function,\n",
    "etc...)\n",
    "- The generating process was associated to some object of\n",
    "interest (e.g., a parameter, a density, etc...)\n",
    "- This object was unknown but fixed and we wanted to find it:\n",
    "we either estimated it or tested a hypothesis about this object,\n",
    "etc.\n",
    "\n",
    "The Bayesian approach:\n",
    "\n",
    "- Now, we still observe data, assumed to be randomly generated\n",
    "by some process. Under some assumptions (e.g., parametric\n",
    "distribution), this process is associated with some fixed object.\n",
    "- We have a prior belief about it.\n",
    "- Using the data, we want to update that belief and transform\n",
    "it into a posterior belief. \n",
    "\n",
    "Idea: In case of ignorance, or of lack of prior information, one\n",
    "may want to use a prior that is as little informative as\n",
    "possible."
   ]
  },
  {
   "cell_type": "markdown",
   "metadata": {},
   "source": [
    "#### Кластеризация"
   ]
  },
  {
   "cell_type": "markdown",
   "metadata": {},
   "source": [
    "do clustering based on error correlation metric\n",
    "\n",
    "[Forecasting of Time Series’ Groups with\n",
    "Application of Fuzzy c-Mean Algorithm](http://www.m-hikari.com/ces/ces2015/ces33-36-2015/p/nikulchevCES33-36-2015.pdf)\n",
    "\n",
    "\n",
    "[dtwclust](https://cran.r-project.org/web/packages/dtwclust/dtwclust.pdf): [pdf](https://cran.r-project.org/web/packages/dtwclust/vignettes/dtwclust.pdf), [git](https://github.com/asardaes/dtwclust), [examples](http://www.imsbio.co.jp/RGM-files/R_CC/download/dtwclust/inst/dtwclust-examples.R)\n",
    "\n"
   ]
  }
 ],
 "metadata": {
  "kernelspec": {
   "display_name": "Python 3",
   "language": "python",
   "name": "python3"
  },
  "language_info": {
   "codemirror_mode": {
    "name": "ipython",
    "version": 3
   },
   "file_extension": ".py",
   "mimetype": "text/x-python",
   "name": "python",
   "nbconvert_exporter": "python",
   "pygments_lexer": "ipython3",
   "version": "3.6.5"
  }
 },
 "nbformat": 4,
 "nbformat_minor": 2
}
