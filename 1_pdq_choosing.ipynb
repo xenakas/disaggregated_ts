{
 "cells": [
  {
   "cell_type": "markdown",
   "metadata": {},
   "source": [
    "### 2. Выбор модели для прогнозирования ВВП ЕС"
   ]
  },
  {
   "cell_type": "code",
   "execution_count": 1,
   "metadata": {},
   "outputs": [
    {
     "name": "stderr",
     "output_type": "stream",
     "text": [
      "\n",
      "Attaching package: ‘dplyr’\n",
      "\n",
      "The following objects are masked from ‘package:stats’:\n",
      "\n",
      "    filter, lag\n",
      "\n",
      "The following objects are masked from ‘package:base’:\n",
      "\n",
      "    intersect, setdiff, setequal, union\n",
      "\n"
     ]
    }
   ],
   "source": [
    "library(forecast)\n",
    "library(ggplot2)\n",
    "library(dplyr)"
   ]
  },
  {
   "cell_type": "markdown",
   "metadata": {},
   "source": [
    "\n",
    "## ЕС"
   ]
  },
  {
   "cell_type": "code",
   "execution_count": 90,
   "metadata": {},
   "outputs": [],
   "source": [
    "df_eu  <-  read.csv(file=\"data_hts/hts_eu_a10.csv\", header=TRUE, sep=\",\", row.names =1 )"
   ]
  },
  {
   "cell_type": "code",
   "execution_count": 91,
   "metadata": {},
   "outputs": [],
   "source": [
    "df_eu  <-  df_eu/1000"
   ]
  },
  {
   "cell_type": "code",
   "execution_count": 92,
   "metadata": {},
   "outputs": [],
   "source": [
    "var_freq  <- 4    \n",
    "var_start_year  <- 2000   "
   ]
  },
  {
   "cell_type": "code",
   "execution_count": 93,
   "metadata": {},
   "outputs": [],
   "source": [
    "gdp_agg <- df_eu_sums <-  rowSums(df_eu)\n",
    "gdp_agg  <- ts(gdp_agg, frequency = var_freq, start = var_start_year) "
   ]
  },
  {
   "cell_type": "code",
   "execution_count": 94,
   "metadata": {},
   "outputs": [],
   "source": [
    "train_end_year  <-  2016\n",
    "tset_start_year  <-  2017"
   ]
  },
  {
   "cell_type": "code",
   "execution_count": 95,
   "metadata": {},
   "outputs": [],
   "source": [
    "train <- window(gdp_agg, end=c(train_end_year,var_freq))\n",
    "test <- window(gdp_agg, start=c(tset_start_year,1))"
   ]
  },
  {
   "cell_type": "code",
   "execution_count": 96,
   "metadata": {},
   "outputs": [],
   "source": [
    "var_h  <- 8"
   ]
  },
  {
   "cell_type": "code",
   "execution_count": 97,
   "metadata": {},
   "outputs": [],
   "source": [
    "var_window  <-  48\n",
    "var_cv_low   <- 48\n",
    "var_cv_high   <- 67"
   ]
  },
  {
   "cell_type": "code",
   "execution_count": 132,
   "metadata": {},
   "outputs": [],
   "source": [
    "params = data.frame(matrix(ncol=3, nrow=10))\n",
    "colnames(params)  <-  c('Квартальные', 'Сезонно сглаженные', 'Месячные')\n",
    "rownames(params)  <- c('AR_1 (лин.тренд)', 'ARI', 'AR_2 (лин.тренд)', 'AR_2 (квадр. тренд)', 'ARMA (лин.тренд)', 'ARIMA', 'ARIMA (автом. подбор)', 'ETS', 'ETS (автом. подбор)', 'TBATS' )"
   ]
  },
  {
   "cell_type": "code",
   "execution_count": 2,
   "metadata": {},
   "outputs": [],
   "source": []
  },
  {
   "cell_type": "markdown",
   "metadata": {},
   "source": [
    "### tsCV()"
   ]
  },
  {
   "cell_type": "markdown",
   "metadata": {},
   "source": [
    "model_ar(4)_lin"
   ]
  },
  {
   "cell_type": "code",
   "execution_count": 134,
   "metadata": {},
   "outputs": [
    {
     "data": {
      "text/html": [
       "65.3808869633717"
      ],
      "text/latex": [
       "65.3808869633717"
      ],
      "text/markdown": [
       "65.3808869633717"
      ],
      "text/plain": [
       "[1] 65.38089"
      ]
     },
     "metadata": {},
     "output_type": "display_data"
    }
   ],
   "source": [
    "gdp_arima_top_cv <- function(x, h){forecast(Arima(ts(x, \n",
    "    frequency = var_freq, start = var_start_year), order=c(2,0,0),\n",
    "    seasonal=c(1,0,0), include.drift = TRUE, include.constant = TRUE), h=h)}\n",
    "e_arima_top  <-  tsCV(gdp_agg, gdp_arima_top_cv, h=var_h, \n",
    "                      window=var_window)[var_cv_low:var_cv_high,]\n",
    "sqrt(mean(e_arima_top^2, na.rm=TRUE))"
   ]
  },
  {
   "cell_type": "code",
   "execution_count": 135,
   "metadata": {},
   "outputs": [],
   "source": [
    "params[1,1]  <-  'order=c(2,0,0), \n",
    "    seasonal=c(1,0,0), include.drift = TRUE, include.constant = TRUE'"
   ]
  },
  {
   "cell_type": "markdown",
   "metadata": {},
   "source": [
    "model_ar(12)_lin"
   ]
  },
  {
   "cell_type": "code",
   "execution_count": 136,
   "metadata": {
    "scrolled": true
   },
   "outputs": [
    {
     "data": {
      "text/html": [
       "66.9150206211595"
      ],
      "text/latex": [
       "66.9150206211595"
      ],
      "text/markdown": [
       "66.9150206211595"
      ],
      "text/plain": [
       "[1] 66.91502"
      ]
     },
     "metadata": {},
     "output_type": "display_data"
    }
   ],
   "source": [
    "gdp_arima_top_cv <- function(x, h){forecast(Arima(ts(x, \n",
    "    frequency = var_freq, start = var_start_year), order=c(3,0,0),\n",
    "    seasonal=c(2,0,0), include.drift = TRUE, include.constant = TRUE), h=h)}\n",
    "e_arima_top  <-  tsCV(gdp_agg, gdp_arima_top_cv, h=var_h, \n",
    "                      window=var_window)[var_cv_low:var_cv_high,]\n",
    "sqrt(mean(e_arima_top^2, na.rm=TRUE))"
   ]
  },
  {
   "cell_type": "code",
   "execution_count": 137,
   "metadata": {},
   "outputs": [
    {
     "data": {
      "text/html": [
       "73.4465635655001"
      ],
      "text/latex": [
       "73.4465635655001"
      ],
      "text/markdown": [
       "73.4465635655001"
      ],
      "text/plain": [
       "[1] 73.44656"
      ]
     },
     "metadata": {},
     "output_type": "display_data"
    }
   ],
   "source": [
    "gdp_arima_top_cv <- function(x, h){forecast(Arima(ts(x, \n",
    "    frequency = var_freq, start = var_start_year), order=c(2,0,0),\n",
    "    seasonal=c(2,0,0), include.drift = TRUE, include.constant = TRUE), h=h)}\n",
    "e_arima_top  <-  tsCV(gdp_agg, gdp_arima_top_cv, h=var_h, \n",
    "                      window=var_window)[var_cv_low:var_cv_high,]\n",
    "sqrt(mean(e_arima_top^2, na.rm=TRUE))"
   ]
  },
  {
   "cell_type": "code",
   "execution_count": 138,
   "metadata": {},
   "outputs": [],
   "source": [
    "params[3,1]  <-  'order=c(3,0,0),\n",
    "    seasonal=c(2,0,0), include.drift = TRUE, include.constant = TRUE'"
   ]
  },
  {
   "cell_type": "markdown",
   "metadata": {},
   "source": [
    "model_ar(12)_poly"
   ]
  },
  {
   "cell_type": "code",
   "execution_count": 139,
   "metadata": {},
   "outputs": [],
   "source": [
    "params[4,1]  <- params[3,1] "
   ]
  },
  {
   "cell_type": "markdown",
   "metadata": {},
   "source": [
    "model_ari"
   ]
  },
  {
   "cell_type": "code",
   "execution_count": 140,
   "metadata": {},
   "outputs": [
    {
     "data": {
      "text/html": [
       "74.9790340391585"
      ],
      "text/latex": [
       "74.9790340391585"
      ],
      "text/markdown": [
       "74.9790340391585"
      ],
      "text/plain": [
       "[1] 74.97903"
      ]
     },
     "metadata": {},
     "output_type": "display_data"
    }
   ],
   "source": [
    "gdp_arima_top_cv <- function(x, h){forecast(Arima(ts(x, \n",
    "    frequency = var_freq, start = var_start_year), order=c(3,1,0),\n",
    "    seasonal=c(2,1,0), include.drift = FALSE, include.constant = FALSE), h=h)}\n",
    "e_arima_top  <-  tsCV(gdp_agg, gdp_arima_top_cv, h=var_h, \n",
    "                      window=var_window)[var_cv_low:var_cv_high,]\n",
    "sqrt(mean(e_arima_top^2, na.rm=TRUE))"
   ]
  },
  {
   "cell_type": "code",
   "execution_count": 141,
   "metadata": {},
   "outputs": [],
   "source": [
    "params[2,1]  <-  'order=c(3,1,0),\n",
    "    seasonal=c(2,1,0), include.drift = FALSE, include.constant = FALSE'"
   ]
  },
  {
   "cell_type": "code",
   "execution_count": 142,
   "metadata": {},
   "outputs": [
    {
     "data": {
      "text/html": [
       "85.2872423328964"
      ],
      "text/latex": [
       "85.2872423328964"
      ],
      "text/markdown": [
       "85.2872423328964"
      ],
      "text/plain": [
       "[1] 85.28724"
      ]
     },
     "metadata": {},
     "output_type": "display_data"
    }
   ],
   "source": [
    "gdp_arima_top_cv <- function(x, h){forecast(Arima(ts(x, \n",
    "    frequency = var_freq, start = var_start_year), order=c(3,1,0),\n",
    "    seasonal=c(3,1,0)), h=h)}\n",
    "e_arima_top  <-  tsCV(gdp_agg, gdp_arima_top_cv, h=var_h, \n",
    "                      window=var_window)[var_cv_low:var_cv_high,]\n",
    "sqrt(mean(e_arima_top^2, na.rm=TRUE))"
   ]
  },
  {
   "cell_type": "code",
   "execution_count": 143,
   "metadata": {},
   "outputs": [
    {
     "data": {
      "text/html": [
       "103.959164818291"
      ],
      "text/latex": [
       "103.959164818291"
      ],
      "text/markdown": [
       "103.959164818291"
      ],
      "text/plain": [
       "[1] 103.9592"
      ]
     },
     "metadata": {},
     "output_type": "display_data"
    }
   ],
   "source": [
    "gdp_arima_top_cv <- function(x, h){forecast(Arima(ts(x, \n",
    "    frequency = var_freq, start = var_start_year), order=c(2,1,0),\n",
    "    seasonal=c(1,1,0), include.drift = FALSE, include.constant = FALSE), h=h)}\n",
    "e_arima_top  <-  tsCV(gdp_agg, gdp_arima_top_cv, h=var_h, \n",
    "                      window=var_window)[var_cv_low:var_cv_high,]\n",
    "sqrt(mean(e_arima_top^2, na.rm=TRUE))"
   ]
  },
  {
   "cell_type": "markdown",
   "metadata": {},
   "source": [
    "model_arma_lin"
   ]
  },
  {
   "cell_type": "code",
   "execution_count": 144,
   "metadata": {},
   "outputs": [
    {
     "data": {
      "text/html": [
       "59.676438082868"
      ],
      "text/latex": [
       "59.676438082868"
      ],
      "text/markdown": [
       "59.676438082868"
      ],
      "text/plain": [
       "[1] 59.67644"
      ]
     },
     "metadata": {},
     "output_type": "display_data"
    }
   ],
   "source": [
    "gdp_arima_top_cv <- function(x, h){forecast(Arima(ts(x, \n",
    "    frequency = var_freq, start = var_start_year), order=c(3,0,1),\n",
    "    seasonal=c(2,0,1), include.drift = TRUE, include.constant = TRUE), h=h)}\n",
    "e_arima_top  <-  tsCV(gdp_agg, gdp_arima_top_cv, h=var_h, \n",
    "                      window=var_window)[var_cv_low:var_cv_high,]\n",
    "sqrt(mean(e_arima_top^2, na.rm=TRUE))"
   ]
  },
  {
   "cell_type": "code",
   "execution_count": 145,
   "metadata": {},
   "outputs": [],
   "source": [
    "params[5,1]  <- 'order=c(3,0,1),\n",
    "    seasonal=c(2,0,1), include.drift = TRUE, include.constant = TRUE'"
   ]
  },
  {
   "cell_type": "code",
   "execution_count": 146,
   "metadata": {},
   "outputs": [
    {
     "data": {
      "text/html": [
       "65.7187732260452"
      ],
      "text/latex": [
       "65.7187732260452"
      ],
      "text/markdown": [
       "65.7187732260452"
      ],
      "text/plain": [
       "[1] 65.71877"
      ]
     },
     "metadata": {},
     "output_type": "display_data"
    }
   ],
   "source": [
    "gdp_arima_top_cv <- function(x, h){forecast(Arima(ts(x, \n",
    "    frequency = var_freq, start = var_start_year), order=c(3,0,2),\n",
    "    seasonal=c(2,0,2), include.drift = TRUE, include.constant = TRUE), h=h)}\n",
    "e_arima_top  <-  tsCV(gdp_agg, gdp_arima_top_cv, h=var_h, \n",
    "                      window=var_window)[var_cv_low:var_cv_high,]\n",
    "sqrt(mean(e_arima_top^2, na.rm=TRUE))"
   ]
  },
  {
   "cell_type": "code",
   "execution_count": 147,
   "metadata": {
    "scrolled": true
   },
   "outputs": [
    {
     "data": {
      "text/html": [
       "67.1702733656549"
      ],
      "text/latex": [
       "67.1702733656549"
      ],
      "text/markdown": [
       "67.1702733656549"
      ],
      "text/plain": [
       "[1] 67.17027"
      ]
     },
     "metadata": {},
     "output_type": "display_data"
    }
   ],
   "source": [
    "gdp_arima_top_cv <- function(x, h){forecast(Arima(ts(x, \n",
    "    frequency = var_freq, start = var_start_year), order=c(2,0,3),\n",
    "    seasonal=c(2,0,1), include.drift = TRUE, include.constant = TRUE), h=h)}\n",
    "e_arima_top  <-  tsCV(gdp_agg, gdp_arima_top_cv, h=var_h, \n",
    "                      window=var_window)[var_cv_low:var_cv_high,]\n",
    "sqrt(mean(e_arima_top^2, na.rm=TRUE))"
   ]
  },
  {
   "cell_type": "markdown",
   "metadata": {},
   "source": [
    "model_arima"
   ]
  },
  {
   "cell_type": "code",
   "execution_count": 82,
   "metadata": {
    "scrolled": true
   },
   "outputs": [
    {
     "data": {
      "text/html": [
       "74.9831922401571"
      ],
      "text/latex": [
       "74.9831922401571"
      ],
      "text/markdown": [
       "74.9831922401571"
      ],
      "text/plain": [
       "[1] 74.98319"
      ]
     },
     "metadata": {},
     "output_type": "display_data"
    }
   ],
   "source": [
    "gdp_arima_top_cv <- function(x, h){forecast(Arima(ts(x, \n",
    "    frequency = var_freq, start = var_start_year), order=c(2,1,1),\n",
    "    seasonal=c(1,1,1), include.drift = FALSE, include.constant = FALSE), h=h)}\n",
    "e_arima_top  <-  tsCV(gdp_agg, gdp_arima_top_cv, h=var_h, \n",
    "                      window=var_window)[var_cv_low:var_cv_high,]\n",
    "sqrt(mean(e_arima_top^2, na.rm=TRUE))"
   ]
  },
  {
   "cell_type": "code",
   "execution_count": 353,
   "metadata": {},
   "outputs": [],
   "source": [
    "params[6,1]  <-  'order=c(3,1,1),\n",
    "    seasonal=c(2,1,1), include.drift = FALSE, include.constant = FALSE'"
   ]
  },
  {
   "cell_type": "code",
   "execution_count": 77,
   "metadata": {},
   "outputs": [
    {
     "data": {
      "text/html": [
       "86.6678833986198"
      ],
      "text/latex": [
       "86.6678833986198"
      ],
      "text/markdown": [
       "86.6678833986198"
      ],
      "text/plain": [
       "[1] 86.66788"
      ]
     },
     "metadata": {},
     "output_type": "display_data"
    }
   ],
   "source": [
    "gdp_arima_top_cv <- function(x, h){forecast(Arima(ts(x, \n",
    "    frequency = var_freq, start = var_start_year), order=c(3,1,2),\n",
    "    seasonal=c(2,1,2), include.drift = FALSE, include.constant = FALSE), h=h)}\n",
    "e_arima_top  <-  tsCV(gdp_agg, gdp_arima_top_cv, h=var_h, \n",
    "                      window=var_window)[var_cv_low:var_cv_high,]\n",
    "sqrt(mean(e_arima_top^2, na.rm=TRUE))"
   ]
  },
  {
   "cell_type": "code",
   "execution_count": 79,
   "metadata": {},
   "outputs": [
    {
     "data": {
      "text/html": [
       "89.7727842683342"
      ],
      "text/latex": [
       "89.7727842683342"
      ],
      "text/markdown": [
       "89.7727842683342"
      ],
      "text/plain": [
       "[1] 89.77278"
      ]
     },
     "metadata": {},
     "output_type": "display_data"
    }
   ],
   "source": [
    "gdp_arima_top_cv <- function(x, h){forecast(Arima(ts(x, \n",
    "    frequency = var_freq, start = var_start_year), order=c(3,1,1),\n",
    "    seasonal=c(3,1,1)), h=h)}\n",
    "e_arima_top  <-  tsCV(gdp_agg, gdp_arima_top_cv, h=var_h, \n",
    "                      window=var_window)[var_cv_low:var_cv_high,]\n",
    "sqrt(mean(e_arima_top^2, na.rm=TRUE))"
   ]
  },
  {
   "cell_type": "markdown",
   "metadata": {},
   "source": [
    "model_auto.arima\n"
   ]
  },
  {
   "cell_type": "code",
   "execution_count": 153,
   "metadata": {},
   "outputs": [
    {
     "data": {
      "text/html": [
       "66.1422383300172"
      ],
      "text/latex": [
       "66.1422383300172"
      ],
      "text/markdown": [
       "66.1422383300172"
      ],
      "text/plain": [
       "[1] 66.14224"
      ]
     },
     "metadata": {},
     "output_type": "display_data"
    }
   ],
   "source": [
    "gdp_arima_top_cv <- function(x, h){forecast(auto.arima(ts(x, \n",
    "    frequency = var_freq, start = var_start_year), \n",
    "    stationary = FALSE, seasonal = TRUE, lambda=NULL, parallel=TRUE), h=h)}\n",
    "e_arima_top  <-  tsCV(gdp_agg, gdp_arima_top_cv, h=var_h, \n",
    "                      window=var_window)[var_cv_low:var_cv_high,]\n",
    "sqrt(mean(e_arima_top^2, na.rm=TRUE))"
   ]
  },
  {
   "cell_type": "code",
   "execution_count": 155,
   "metadata": {},
   "outputs": [],
   "source": [
    "params[7,1]  <-  '    stationary = FALSE, seasonal = TRUE, lambda=NULL, parallel=TRUE'"
   ]
  },
  {
   "cell_type": "code",
   "execution_count": 151,
   "metadata": {},
   "outputs": [
    {
     "data": {
      "text/html": [
       "69.9201559048422"
      ],
      "text/latex": [
       "69.9201559048422"
      ],
      "text/markdown": [
       "69.9201559048422"
      ],
      "text/plain": [
       "[1] 69.92016"
      ]
     },
     "metadata": {},
     "output_type": "display_data"
    }
   ],
   "source": [
    "gdp_arima_top_cv <- function(x, h){forecast(auto.arima(ts(x, \n",
    "    frequency = var_freq, start = var_start_year), \n",
    "    stationary = FALSE, seasonal = TRUE, lambda=\"auto\"), h=h)}\n",
    "e_arima_top  <-  tsCV(gdp_agg, gdp_arima_top_cv, h=var_h, \n",
    "                      window=var_window)[var_cv_low:var_cv_high,]\n",
    "sqrt(mean(e_arima_top^2, na.rm=TRUE))"
   ]
  },
  {
   "cell_type": "markdown",
   "metadata": {},
   "source": [
    "model_ets"
   ]
  },
  {
   "cell_type": "code",
   "execution_count": 172,
   "metadata": {},
   "outputs": [
    {
     "data": {
      "text/html": [
       "65.9664128484413"
      ],
      "text/latex": [
       "65.9664128484413"
      ],
      "text/markdown": [
       "65.9664128484413"
      ],
      "text/plain": [
       "[1] 65.96641"
      ]
     },
     "metadata": {},
     "output_type": "display_data"
    }
   ],
   "source": [
    "gdp_arima_top_cv <- function(x, h){forecast(ets(ts(x, \n",
    "    frequency = var_freq, start = var_start_year), model=\"MMM\", damped = FALSE , lambda=NULL), h=h)}\n",
    "e_arima_top  <-  tsCV(gdp_agg, gdp_arima_top_cv, h=var_h, \n",
    "                      window=var_window)[var_cv_low:var_cv_high,]\n",
    "sqrt(mean(e_arima_top^2, na.rm=TRUE))"
   ]
  },
  {
   "cell_type": "code",
   "execution_count": 178,
   "metadata": {},
   "outputs": [],
   "source": [
    "params[8,1]  <-  'model=\"MMM\", damped = FALSE , lambda=NULL'"
   ]
  },
  {
   "cell_type": "code",
   "execution_count": 169,
   "metadata": {},
   "outputs": [
    {
     "data": {
      "text/html": [
       "82.8345202319785"
      ],
      "text/latex": [
       "82.8345202319785"
      ],
      "text/markdown": [
       "82.8345202319785"
      ],
      "text/plain": [
       "[1] 82.83452"
      ]
     },
     "metadata": {},
     "output_type": "display_data"
    }
   ],
   "source": [
    "gdp_arima_top_cv <- function(x, h){forecast(ets(ts(x, \n",
    "    frequency = var_freq, start = var_start_year), model=\"MAM\", damped = TRUE , lambda=NULL), h=h)}\n",
    "e_arima_top  <-  tsCV(gdp_agg, gdp_arima_top_cv, h=var_h, \n",
    "                      window=var_window)[var_cv_low:var_cv_high,]\n",
    "sqrt(mean(e_arima_top^2, na.rm=TRUE))"
   ]
  },
  {
   "cell_type": "code",
   "execution_count": 170,
   "metadata": {},
   "outputs": [
    {
     "data": {
      "text/html": [
       "88.1386198229981"
      ],
      "text/latex": [
       "88.1386198229981"
      ],
      "text/markdown": [
       "88.1386198229981"
      ],
      "text/plain": [
       "[1] 88.13862"
      ]
     },
     "metadata": {},
     "output_type": "display_data"
    }
   ],
   "source": [
    "gdp_arima_top_cv <- function(x, h){forecast(ets(ts(x, \n",
    "    frequency = var_freq, start = var_start_year), model=\"MAM\" , damped =FALSE , lambda=NULL), h=h)}\n",
    "e_arima_top  <-  tsCV(gdp_agg, gdp_arima_top_cv, h=var_h, \n",
    "                      window=var_window)[var_cv_low:var_cv_high,]\n",
    "sqrt(mean(e_arima_top^2, na.rm=TRUE))"
   ]
  },
  {
   "cell_type": "code",
   "execution_count": 162,
   "metadata": {},
   "outputs": [
    {
     "data": {
      "text/html": [
       "88.3984002320069"
      ],
      "text/latex": [
       "88.3984002320069"
      ],
      "text/markdown": [
       "88.3984002320069"
      ],
      "text/plain": [
       "[1] 88.3984"
      ]
     },
     "metadata": {},
     "output_type": "display_data"
    }
   ],
   "source": [
    "gdp_arima_top_cv <- function(x, h){forecast(ets(ts(x, \n",
    "    frequency = var_freq, start = var_start_year), model=\"MMM\" , lambda=NULL), h=h)}\n",
    "e_arima_top  <-  tsCV(gdp_agg, gdp_arima_top_cv, h=var_h, \n",
    "                      window=var_window)[var_cv_low:var_cv_high,]\n",
    "sqrt(mean(e_arima_top^2, na.rm=TRUE))"
   ]
  },
  {
   "cell_type": "code",
   "execution_count": 163,
   "metadata": {},
   "outputs": [
    {
     "data": {
      "text/html": [
       "96.1414580440782"
      ],
      "text/latex": [
       "96.1414580440782"
      ],
      "text/markdown": [
       "96.1414580440782"
      ],
      "text/plain": [
       "[1] 96.14146"
      ]
     },
     "metadata": {},
     "output_type": "display_data"
    }
   ],
   "source": [
    "gdp_arima_top_cv <- function(x, h){forecast(ets(ts(x, \n",
    "    frequency = var_freq, start = var_start_year), model=\"AAA\" , lambda=NULL), h=h)}\n",
    "e_arima_top  <-  tsCV(gdp_agg, gdp_arima_top_cv, h=var_h, \n",
    "                      window=var_window)[var_cv_low:var_cv_high,]\n",
    "sqrt(mean(e_arima_top^2, na.rm=TRUE))"
   ]
  },
  {
   "cell_type": "code",
   "execution_count": 161,
   "metadata": {},
   "outputs": [
    {
     "data": {
      "text/html": [
       "96.5561782802692"
      ],
      "text/latex": [
       "96.5561782802692"
      ],
      "text/markdown": [
       "96.5561782802692"
      ],
      "text/plain": [
       "[1] 96.55618"
      ]
     },
     "metadata": {},
     "output_type": "display_data"
    }
   ],
   "source": [
    "gdp_arima_top_cv <- function(x, h){forecast(ets(ts(x, \n",
    "    frequency = var_freq, start = var_start_year), lambda=NULL), h=h)}\n",
    "e_arima_top  <-  tsCV(gdp_agg, gdp_arima_top_cv, h=var_h, \n",
    "                      window=var_window)[var_cv_low:var_cv_high,]\n",
    "sqrt(mean(e_arima_top^2, na.rm=TRUE))"
   ]
  },
  {
   "cell_type": "code",
   "execution_count": 158,
   "metadata": {},
   "outputs": [],
   "source": [
    "params[9,1]  <-  'lambda=NULL'"
   ]
  },
  {
   "cell_type": "code",
   "execution_count": 69,
   "metadata": {},
   "outputs": [
    {
     "data": {
      "text/html": [
       "103.198428718746"
      ],
      "text/latex": [
       "103.198428718746"
      ],
      "text/markdown": [
       "103.198428718746"
      ],
      "text/plain": [
       "[1] 103.1984"
      ]
     },
     "metadata": {},
     "output_type": "display_data"
    }
   ],
   "source": [
    "gdp_arima_top_cv <- function(x, h){forecast(ets(ts(x, \n",
    "    frequency = var_freq, start = var_start_year), lambda=\"auto\"), h=h)}\n",
    "e_arima_top  <-  tsCV(gdp_agg, gdp_arima_top_cv, h=var_h, \n",
    "                      window=var_window)[var_cv_low:var_cv_high,]\n",
    "sqrt(mean(e_arima_top^2, na.rm=TRUE))"
   ]
  },
  {
   "cell_type": "markdown",
   "metadata": {},
   "source": [
    "model_tbats"
   ]
  },
  {
   "cell_type": "code",
   "execution_count": 88,
   "metadata": {},
   "outputs": [
    {
     "data": {
      "text/html": [
       "106.512698305815"
      ],
      "text/latex": [
       "106.512698305815"
      ],
      "text/markdown": [
       "106.512698305815"
      ],
      "text/plain": [
       "[1] 106.5127"
      ]
     },
     "metadata": {},
     "output_type": "display_data"
    }
   ],
   "source": [
    "gdp_arima_top_cv <- function(x, h){forecast(tbats(ts(x, \n",
    "    frequency = var_freq, start = var_start_year), use.trend = TRUE, seasonal.periods = var_freq,\n",
    "       use.arma.errors=TRUE, use.parallel=TRUE , use.box.cox=FALSE,   use.damped.trend=FALSE\n",
    "  ), h=h)}\n",
    "e_arima_top  <-  tsCV(gdp_agg, gdp_arima_top_cv, h=var_h, \n",
    "                      window=var_window)[var_cv_low:var_cv_high,]\n",
    "sqrt(mean(e_arima_top^2, na.rm=TRUE))"
   ]
  },
  {
   "cell_type": "code",
   "execution_count": 179,
   "metadata": {},
   "outputs": [],
   "source": [
    "params[10,1]  <-  'use.trend = TRUE, seasonal.periods = var_freq,\n",
    "       use.arma.errors=TRUE, use.parallel=TRUE , use.box.cox=FALSE,   use.damped.trend=FALSE'"
   ]
  },
  {
   "cell_type": "code",
   "execution_count": 70,
   "metadata": {},
   "outputs": [
    {
     "data": {
      "text/html": [
       "116.051757983303"
      ],
      "text/latex": [
       "116.051757983303"
      ],
      "text/markdown": [
       "116.051757983303"
      ],
      "text/plain": [
       "[1] 116.0518"
      ]
     },
     "metadata": {},
     "output_type": "display_data"
    }
   ],
   "source": [
    "gdp_arima_top_cv <- function(x, h){forecast(tbats(ts(x, \n",
    "    frequency = var_freq, start = var_start_year)), h=h)}\n",
    "e_arima_top  <-  tsCV(gdp_agg, gdp_arima_top_cv, h=var_h, \n",
    "                      window=var_window)[var_cv_low:var_cv_high,]\n",
    "sqrt(mean(e_arima_top^2, na.rm=TRUE))"
   ]
  },
  {
   "cell_type": "code",
   "execution_count": 84,
   "metadata": {},
   "outputs": [
    {
     "data": {
      "text/html": [
       "117.853753519007"
      ],
      "text/latex": [
       "117.853753519007"
      ],
      "text/markdown": [
       "117.853753519007"
      ],
      "text/plain": [
       "[1] 117.8538"
      ]
     },
     "metadata": {},
     "output_type": "display_data"
    }
   ],
   "source": [
    "gdp_arima_top_cv <- function(x, h){forecast(tbats(ts(x, \n",
    "    frequency = var_freq, start = var_start_year), use.trend = TRUE, seasonal.periods = var_freq,\n",
    "       use.arma.errors=TRUE, use.parallel=TRUE     ), h=h)}\n",
    "e_arima_top  <-  tsCV(gdp_agg, gdp_arima_top_cv, h=var_h, \n",
    "                      window=var_window)[var_cv_low:var_cv_high,]\n",
    "sqrt(mean(e_arima_top^2, na.rm=TRUE))"
   ]
  },
  {
   "cell_type": "code",
   "execution_count": 85,
   "metadata": {},
   "outputs": [
    {
     "data": {
      "text/html": [
       "116.540954485623"
      ],
      "text/latex": [
       "116.540954485623"
      ],
      "text/markdown": [
       "116.540954485623"
      ],
      "text/plain": [
       "[1] 116.541"
      ]
     },
     "metadata": {},
     "output_type": "display_data"
    }
   ],
   "source": [
    "gdp_arima_top_cv <- function(x, h){forecast(tbats(ts(x, \n",
    "    frequency = var_freq, start = var_start_year), use.trend = TRUE, seasonal.periods = var_freq,\n",
    "       use.arma.errors=TRUE, use.parallel=TRUE , use.box.cox=TRUE    ), h=h)}\n",
    "e_arima_top  <-  tsCV(gdp_agg, gdp_arima_top_cv, h=var_h, \n",
    "                      window=var_window)[var_cv_low:var_cv_high,]\n",
    "sqrt(mean(e_arima_top^2, na.rm=TRUE))"
   ]
  },
  {
   "cell_type": "code",
   "execution_count": 86,
   "metadata": {},
   "outputs": [
    {
     "data": {
      "text/html": [
       "118.036911051321"
      ],
      "text/latex": [
       "118.036911051321"
      ],
      "text/markdown": [
       "118.036911051321"
      ],
      "text/plain": [
       "[1] 118.0369"
      ]
     },
     "metadata": {},
     "output_type": "display_data"
    }
   ],
   "source": [
    "gdp_arima_top_cv <- function(x, h){forecast(tbats(ts(x, \n",
    "    frequency = var_freq, start = var_start_year), use.trend = TRUE, seasonal.periods = var_freq,\n",
    "       use.arma.errors=TRUE, use.parallel=TRUE , use.box.cox=FALSE    ), h=h)}\n",
    "e_arima_top  <-  tsCV(gdp_agg, gdp_arima_top_cv, h=var_h, \n",
    "                      window=var_window)[var_cv_low:var_cv_high,]\n",
    "sqrt(mean(e_arima_top^2, na.rm=TRUE))"
   ]
  },
  {
   "cell_type": "code",
   "execution_count": 87,
   "metadata": {},
   "outputs": [
    {
     "data": {
      "text/html": [
       "125.189444952758"
      ],
      "text/latex": [
       "125.189444952758"
      ],
      "text/markdown": [
       "125.189444952758"
      ],
      "text/plain": [
       "[1] 125.1894"
      ]
     },
     "metadata": {},
     "output_type": "display_data"
    }
   ],
   "source": [
    "gdp_arima_top_cv <- function(x, h){forecast(tbats(ts(x, \n",
    "    frequency = var_freq, start = var_start_year), use.trend = TRUE, seasonal.periods = var_freq,\n",
    "       use.arma.errors=TRUE, use.parallel=TRUE , use.box.cox=FALSE,   use.damped.trend=TRUE\n",
    "  ), h=h)}\n",
    "e_arima_top  <-  tsCV(gdp_agg, gdp_arima_top_cv, h=var_h, \n",
    "                      window=var_window)[var_cv_low:var_cv_high,]\n",
    "sqrt(mean(e_arima_top^2, na.rm=TRUE))"
   ]
  },
  {
   "cell_type": "code",
   "execution_count": 55,
   "metadata": {},
   "outputs": [
    {
     "name": "stdout",
     "output_type": "stream",
     "text": [
      "[1] 2000.00 2011.75 2012.00 2013.75\n",
      "[1] 2001.00 2012.75 2013.00 2014.75\n",
      "[1] 2002.00 2013.75 2014.00 2015.75\n",
      "[1] 2003.00 2014.75 2015.00 2016.75\n",
      "[1] 2004.00 2015.75 2016.00 2017.75\n",
      "[1] 2005.00 2016.75 2017.00 2018.75\n"
     ]
    }
   ],
   "source": [
    "var_freq  <- 4    \n",
    "var_start_year  <- 2000   \n",
    "var_h  <- 8\n",
    "var_window  <-  48 - 1\n",
    "var_topup  <-  1\n",
    "var_iter   <- (length(gdp_agg)+var_topup)/var_freq-(var_window+1)/var_freq-2\n",
    "\n",
    "ac <- c()\n",
    "for (i in 0:var_iter){\n",
    "    st_year  <-  var_start_year + i\n",
    "    train_start  <- st_year \n",
    "    train_end  <- st_year + 1/var_freq*(var_window)\n",
    "    test_start  <- st_year + 1/var_freq*(var_window+1) \n",
    "    test_end  <-  st_year + 1/var_freq*(var_window+var_h)\n",
    "    \n",
    "    print(c(train_start, train_end, test_start, test_end))\n",
    "    \n",
    "    }"
   ]
  },
  {
   "cell_type": "markdown",
   "metadata": {},
   "source": [
    "\n",
    "## США"
   ]
  },
  {
   "cell_type": "code",
   "execution_count": 182,
   "metadata": {},
   "outputs": [],
   "source": [
    "df_eu  <-  read.csv(file=\"data_hts/hts_us_ind_filled.csv\", header=TRUE, sep=\",\", row.names =1 )"
   ]
  },
  {
   "cell_type": "code",
   "execution_count": 183,
   "metadata": {},
   "outputs": [],
   "source": [
    "df_eu  <-  df_eu/1000"
   ]
  },
  {
   "cell_type": "code",
   "execution_count": 184,
   "metadata": {},
   "outputs": [],
   "source": [
    "var_freq  <- 4    \n",
    "var_start_year  <- 2005  "
   ]
  },
  {
   "cell_type": "code",
   "execution_count": 185,
   "metadata": {},
   "outputs": [],
   "source": [
    "gdp_agg <- df_eu_sums <-  rowSums(df_eu)\n",
    "gdp_agg  <- ts(gdp_agg, frequency = var_freq, start = var_start_year) "
   ]
  },
  {
   "cell_type": "code",
   "execution_count": 186,
   "metadata": {},
   "outputs": [],
   "source": [
    "train_end_year  <-  2016\n",
    "tset_start_year  <-  2017"
   ]
  },
  {
   "cell_type": "code",
   "execution_count": 187,
   "metadata": {},
   "outputs": [],
   "source": [
    "train <- window(gdp_agg, end=c(train_end_year,var_freq))\n",
    "test <- window(gdp_agg, start=c(tset_start_year,1))"
   ]
  },
  {
   "cell_type": "code",
   "execution_count": 188,
   "metadata": {},
   "outputs": [],
   "source": [
    "var_h  <- 8"
   ]
  },
  {
   "cell_type": "code",
   "execution_count": 189,
   "metadata": {},
   "outputs": [
    {
     "data": {
      "text/html": [
       "46"
      ],
      "text/latex": [
       "46"
      ],
      "text/markdown": [
       "46"
      ],
      "text/plain": [
       "[1] 46"
      ]
     },
     "metadata": {},
     "output_type": "display_data"
    }
   ],
   "source": [
    "length(gdp_agg)-8"
   ]
  },
  {
   "cell_type": "code",
   "execution_count": 190,
   "metadata": {},
   "outputs": [],
   "source": [
    "var_freq  <- 4    \n",
    "var_start_year  <- 2005   \n",
    "var_h  <- 8\n",
    "var_window  <-  28 - 1\n",
    "var_topup  <-  2\n",
    "var_iter   <- (length(gdp_agg)+var_topup)/var_freq-(var_window+1)/var_freq-2"
   ]
  },
  {
   "cell_type": "code",
   "execution_count": 191,
   "metadata": {},
   "outputs": [],
   "source": [
    "var_cv_low   <- var_window + 1\n",
    "var_cv_high   <- length(gdp_agg) - var_h"
   ]
  },
  {
   "cell_type": "code",
   "execution_count": 192,
   "metadata": {},
   "outputs": [
    {
     "name": "stdout",
     "output_type": "stream",
     "text": [
      "[1] 2005.00 2011.75 2012.00 2013.75\n",
      "[1] 2006.00 2012.75 2013.00 2014.75\n",
      "[1] 2007.00 2013.75 2014.00 2015.75\n",
      "[1] 2008.00 2014.75 2015.00 2016.75\n",
      "[1] 2009.00 2015.75 2016.00 2017.75\n",
      "[1] 2010.00 2016.75 2017.00 2018.75\n"
     ]
    }
   ],
   "source": [
    "ac <- c()\n",
    "for (i in 0:var_iter){\n",
    "    st_year  <-  var_start_year + i\n",
    "    train_start  <- st_year \n",
    "    train_end  <- st_year + 1/var_freq*(var_window)\n",
    "    test_start  <- st_year + 1/var_freq*(var_window+1) \n",
    "    test_end  <-  st_year + 1/var_freq*(var_window+var_h)\n",
    "    \n",
    "    print(c(train_start, train_end, test_start, test_end))\n",
    "    \n",
    "    }"
   ]
  },
  {
   "cell_type": "markdown",
   "metadata": {},
   "source": [
    "### tsCV()"
   ]
  },
  {
   "cell_type": "markdown",
   "metadata": {},
   "source": [
    "model_ar(4)_lin"
   ]
  },
  {
   "cell_type": "code",
   "execution_count": 216,
   "metadata": {},
   "outputs": [
    {
     "data": {
      "text/html": [
       "387.330737701707"
      ],
      "text/latex": [
       "387.330737701707"
      ],
      "text/markdown": [
       "387.330737701707"
      ],
      "text/plain": [
       "[1] 387.3307"
      ]
     },
     "metadata": {},
     "output_type": "display_data"
    }
   ],
   "source": [
    "gdp_arima_top_cv <- function(x, h){forecast(Arima(ts(x, \n",
    "    frequency = var_freq, start = var_start_year), order=c(2,0,0), \n",
    "    include.drift = TRUE, include.constant = TRUE), h=h)}\n",
    "e_arima_top  <-  tsCV(gdp_agg, gdp_arima_top_cv, h=var_h, \n",
    "                      window=var_window)[var_cv_low:var_cv_high,]\n",
    "sqrt(mean(e_arima_top^2, na.rm=TRUE))"
   ]
  },
  {
   "cell_type": "code",
   "execution_count": 217,
   "metadata": {},
   "outputs": [
    {
     "data": {
      "text/html": [
       "432.297996435774"
      ],
      "text/latex": [
       "432.297996435774"
      ],
      "text/markdown": [
       "432.297996435774"
      ],
      "text/plain": [
       "[1] 432.298"
      ]
     },
     "metadata": {},
     "output_type": "display_data"
    }
   ],
   "source": [
    "gdp_arima_top_cv <- function(x, h){forecast(Arima(ts(x, \n",
    "    frequency = var_freq, start = var_start_year), order=c(3,0,0), \n",
    "    include.drift = TRUE, include.constant = TRUE), h=h)}\n",
    "e_arima_top  <-  tsCV(gdp_agg, gdp_arima_top_cv, h=var_h, \n",
    "                      window=var_window)[var_cv_low:var_cv_high,]\n",
    "sqrt(mean(e_arima_top^2, na.rm=TRUE))"
   ]
  },
  {
   "cell_type": "code",
   "execution_count": 218,
   "metadata": {},
   "outputs": [
    {
     "data": {
      "text/html": [
       "444.402988143968"
      ],
      "text/latex": [
       "444.402988143968"
      ],
      "text/markdown": [
       "444.402988143968"
      ],
      "text/plain": [
       "[1] 444.403"
      ]
     },
     "metadata": {},
     "output_type": "display_data"
    }
   ],
   "source": [
    "gdp_arima_top_cv <- function(x, h){forecast(Arima(ts(x, \n",
    "    frequency = var_freq, start = var_start_year), order=c(4,0,0), \n",
    "    include.drift = TRUE, include.constant = TRUE), h=h)}\n",
    "e_arima_top  <-  tsCV(gdp_agg, gdp_arima_top_cv, h=var_h, \n",
    "                      window=var_window)[var_cv_low:var_cv_high,]\n",
    "sqrt(mean(e_arima_top^2, na.rm=TRUE))"
   ]
  },
  {
   "cell_type": "code",
   "execution_count": 219,
   "metadata": {},
   "outputs": [],
   "source": [
    "params[1,2]  <-  'order=c(2,0,0), \n",
    "     include.drift = TRUE, include.constant = TRUE'"
   ]
  },
  {
   "cell_type": "markdown",
   "metadata": {},
   "source": [
    "model_ar(12)_lin"
   ]
  },
  {
   "cell_type": "code",
   "execution_count": 221,
   "metadata": {
    "scrolled": true
   },
   "outputs": [
    {
     "data": {
      "text/html": [
       "444.402988143968"
      ],
      "text/latex": [
       "444.402988143968"
      ],
      "text/markdown": [
       "444.402988143968"
      ],
      "text/plain": [
       "[1] 444.403"
      ]
     },
     "metadata": {},
     "output_type": "display_data"
    }
   ],
   "source": [
    "gdp_arima_top_cv <- function(x, h){forecast(Arima(ts(x, \n",
    "    frequency = var_freq, start = var_start_year), order=c(4,0,0), \n",
    "    include.drift = TRUE, include.constant = TRUE), h=h)}\n",
    "e_arima_top  <-  tsCV(gdp_agg, gdp_arima_top_cv, h=var_h, \n",
    "                      window=var_window)[var_cv_low:var_cv_high,]\n",
    "sqrt(mean(e_arima_top^2, na.rm=TRUE))"
   ]
  },
  {
   "cell_type": "code",
   "execution_count": 223,
   "metadata": {},
   "outputs": [
    {
     "data": {
      "text/html": [
       "538.544225539774"
      ],
      "text/latex": [
       "538.544225539774"
      ],
      "text/markdown": [
       "538.544225539774"
      ],
      "text/plain": [
       "[1] 538.5442"
      ]
     },
     "metadata": {},
     "output_type": "display_data"
    }
   ],
   "source": [
    "gdp_arima_top_cv <- function(x, h){forecast(Arima(ts(x, \n",
    "    frequency = var_freq, start = var_start_year), order=c(8,0,0), \n",
    "    include.drift = TRUE, include.constant = TRUE), h=h)}\n",
    "e_arima_top  <-  tsCV(gdp_agg, gdp_arima_top_cv, h=var_h, \n",
    "                      window=var_window)[var_cv_low:var_cv_high,]\n",
    "sqrt(mean(e_arima_top^2, na.rm=TRUE))"
   ]
  },
  {
   "cell_type": "code",
   "execution_count": 225,
   "metadata": {},
   "outputs": [],
   "source": [
    "params[3,2]  <-  'order=c(4,0,0),\n",
    "    include.drift = TRUE, include.constant = TRUE'"
   ]
  },
  {
   "cell_type": "markdown",
   "metadata": {},
   "source": [
    "model_ar(12)_poly"
   ]
  },
  {
   "cell_type": "code",
   "execution_count": 226,
   "metadata": {},
   "outputs": [],
   "source": [
    "params[4,2]  <- params[3,2] "
   ]
  },
  {
   "cell_type": "markdown",
   "metadata": {},
   "source": [
    "model_ari"
   ]
  },
  {
   "cell_type": "code",
   "execution_count": 195,
   "metadata": {},
   "outputs": [
    {
     "data": {
      "text/html": [
       "213.825156644513"
      ],
      "text/latex": [
       "213.825156644513"
      ],
      "text/markdown": [
       "213.825156644513"
      ],
      "text/plain": [
       "[1] 213.8252"
      ]
     },
     "metadata": {},
     "output_type": "display_data"
    }
   ],
   "source": [
    "gdp_arima_top_cv <- function(x, h){forecast(Arima(ts(x, \n",
    "    frequency = var_freq, start = var_start_year), order=c(2,1,0),\n",
    "    seasonal=c(2,1,0)), h=h)}\n",
    "e_arima_top  <-  tsCV(gdp_agg, gdp_arima_top_cv, h=var_h, \n",
    "                      window=var_window)[var_cv_low:var_cv_high,]\n",
    "sqrt(mean(e_arima_top^2, na.rm=TRUE))"
   ]
  },
  {
   "cell_type": "code",
   "execution_count": 197,
   "metadata": {},
   "outputs": [
    {
     "data": {
      "text/html": [
       "230.096110561984"
      ],
      "text/latex": [
       "230.096110561984"
      ],
      "text/markdown": [
       "230.096110561984"
      ],
      "text/plain": [
       "[1] 230.0961"
      ]
     },
     "metadata": {},
     "output_type": "display_data"
    }
   ],
   "source": [
    "gdp_arima_top_cv <- function(x, h){forecast(Arima(ts(x, \n",
    "    frequency = var_freq, start = var_start_year), order=c(3,1,0),\n",
    "    seasonal=c(2,1,0), include.drift = FALSE, include.constant = FALSE), h=h)}\n",
    "e_arima_top  <-  tsCV(gdp_agg, gdp_arima_top_cv, h=var_h, \n",
    "                      window=var_window)[var_cv_low:var_cv_high,]\n",
    "sqrt(mean(e_arima_top^2, na.rm=TRUE))"
   ]
  },
  {
   "cell_type": "code",
   "execution_count": 201,
   "metadata": {},
   "outputs": [
    {
     "data": {
      "text/html": [
       "362.457266272493"
      ],
      "text/latex": [
       "362.457266272493"
      ],
      "text/markdown": [
       "362.457266272493"
      ],
      "text/plain": [
       "[1] 362.4573"
      ]
     },
     "metadata": {},
     "output_type": "display_data"
    }
   ],
   "source": [
    "gdp_arima_top_cv <- function(x, h){forecast(Arima(ts(x, \n",
    "    frequency = var_freq, start = var_start_year), order=c(3,1,0), include.drift = FALSE, include.constant = FALSE), h=h)}\n",
    "e_arima_top  <-  tsCV(gdp_agg, gdp_arima_top_cv, h=var_h, \n",
    "                      window=var_window)[var_cv_low:var_cv_high,]\n",
    "sqrt(mean(e_arima_top^2, na.rm=TRUE))"
   ]
  },
  {
   "cell_type": "code",
   "execution_count": 357,
   "metadata": {},
   "outputs": [],
   "source": [
    "params[2,2]  <-  'order=c(4,1,0),\n",
    "    include.drift = FALSE, include.constant = FALSE'"
   ]
  },
  {
   "cell_type": "markdown",
   "metadata": {},
   "source": [
    "model_arma_lin"
   ]
  },
  {
   "cell_type": "code",
   "execution_count": 206,
   "metadata": {},
   "outputs": [
    {
     "data": {
      "text/html": [
       "364.557647462403"
      ],
      "text/latex": [
       "364.557647462403"
      ],
      "text/markdown": [
       "364.557647462403"
      ],
      "text/plain": [
       "[1] 364.5576"
      ]
     },
     "metadata": {},
     "output_type": "display_data"
    }
   ],
   "source": [
    "gdp_arima_top_cv <- function(x, h){forecast(Arima(ts(x, \n",
    "    frequency = var_freq, start = var_start_year), order=c(2,1,0), include.drift = FALSE, include.constant = FALSE), h=h)}\n",
    "e_arima_top  <-  tsCV(gdp_agg, gdp_arima_top_cv, h=var_h, \n",
    "                      window=var_window)[var_cv_low:var_cv_high,]\n",
    "sqrt(mean(e_arima_top^2, na.rm=TRUE))"
   ]
  },
  {
   "cell_type": "code",
   "execution_count": 241,
   "metadata": {},
   "outputs": [
    {
     "data": {
      "text/html": [
       "455.070184236216"
      ],
      "text/latex": [
       "455.070184236216"
      ],
      "text/markdown": [
       "455.070184236216"
      ],
      "text/plain": [
       "[1] 455.0702"
      ]
     },
     "metadata": {},
     "output_type": "display_data"
    }
   ],
   "source": [
    "gdp_arima_top_cv <- function(x, h){forecast(Arima(ts(x, \n",
    "    frequency = var_freq, start = var_start_year), order=c(4,0,2),\n",
    "     include.drift = TRUE, include.constant = TRUE), h=h)}\n",
    "e_arima_top  <-  tsCV(gdp_agg, gdp_arima_top_cv, h=var_h, \n",
    "                      window=var_window)[var_cv_low:var_cv_high,]\n",
    "sqrt(mean(e_arima_top^2, na.rm=TRUE))"
   ]
  },
  {
   "cell_type": "code",
   "execution_count": 230,
   "metadata": {},
   "outputs": [
    {
     "data": {
      "text/html": [
       "514.39774815002"
      ],
      "text/latex": [
       "514.39774815002"
      ],
      "text/markdown": [
       "514.39774815002"
      ],
      "text/plain": [
       "[1] 514.3977"
      ]
     },
     "metadata": {},
     "output_type": "display_data"
    }
   ],
   "source": [
    "gdp_arima_top_cv <- function(x, h){forecast(Arima(ts(x, \n",
    "    frequency = var_freq, start = var_start_year), order=c(3,0,1),\n",
    "     include.drift = TRUE, include.constant = TRUE), h=h)}\n",
    "e_arima_top  <-  tsCV(gdp_agg, gdp_arima_top_cv, h=var_h, \n",
    "                      window=var_window)[var_cv_low:var_cv_high,]\n",
    "sqrt(mean(e_arima_top^2, na.rm=TRUE))"
   ]
  },
  {
   "cell_type": "code",
   "execution_count": 362,
   "metadata": {},
   "outputs": [],
   "source": [
    "params[5,2]  <- 'order=c(4,0,1),\n",
    "     include.drift = TRUE, include.constant = TRUE'"
   ]
  },
  {
   "cell_type": "code",
   "execution_count": 231,
   "metadata": {},
   "outputs": [
    {
     "data": {
      "text/html": [
       "519.220403204789"
      ],
      "text/latex": [
       "519.220403204789"
      ],
      "text/markdown": [
       "519.220403204789"
      ],
      "text/plain": [
       "[1] 519.2204"
      ]
     },
     "metadata": {},
     "output_type": "display_data"
    }
   ],
   "source": [
    "gdp_arima_top_cv <- function(x, h){forecast(Arima(ts(x, \n",
    "    frequency = var_freq, start = var_start_year), order=c(3,0,2),\n",
    "     include.drift = TRUE, include.constant = TRUE), h=h)}\n",
    "e_arima_top  <-  tsCV(gdp_agg, gdp_arima_top_cv, h=var_h, \n",
    "                      window=var_window)[var_cv_low:var_cv_high,]\n",
    "sqrt(mean(e_arima_top^2, na.rm=TRUE))"
   ]
  },
  {
   "cell_type": "code",
   "execution_count": 232,
   "metadata": {
    "scrolled": true
   },
   "outputs": [
    {
     "data": {
      "text/html": [
       "506.173143472729"
      ],
      "text/latex": [
       "506.173143472729"
      ],
      "text/markdown": [
       "506.173143472729"
      ],
      "text/plain": [
       "[1] 506.1731"
      ]
     },
     "metadata": {},
     "output_type": "display_data"
    }
   ],
   "source": [
    "gdp_arima_top_cv <- function(x, h){forecast(Arima(ts(x, \n",
    "    frequency = var_freq, start = var_start_year), order=c(2,0,3),\n",
    "     include.drift = TRUE, include.constant = TRUE), h=h)}\n",
    "e_arima_top  <-  tsCV(gdp_agg, gdp_arima_top_cv, h=var_h, \n",
    "                      window=var_window)[var_cv_low:var_cv_high,]\n",
    "sqrt(mean(e_arima_top^2, na.rm=TRUE))"
   ]
  },
  {
   "cell_type": "code",
   "execution_count": 233,
   "metadata": {},
   "outputs": [
    {
     "data": {
      "text/html": [
       "519.220403204789"
      ],
      "text/latex": [
       "519.220403204789"
      ],
      "text/markdown": [
       "519.220403204789"
      ],
      "text/plain": [
       "[1] 519.2204"
      ]
     },
     "metadata": {},
     "output_type": "display_data"
    }
   ],
   "source": [
    "gdp_arima_top_cv <- function(x, h){forecast(Arima(ts(x, \n",
    "    frequency = var_freq, start = var_start_year), order=c(3,0,2),\n",
    "     include.drift = TRUE, include.constant = TRUE), h=h)}\n",
    "e_arima_top  <-  tsCV(gdp_agg, gdp_arima_top_cv, h=var_h, \n",
    "                      window=var_window)[var_cv_low:var_cv_high,]\n",
    "sqrt(mean(e_arima_top^2, na.rm=TRUE))"
   ]
  },
  {
   "cell_type": "markdown",
   "metadata": {},
   "source": [
    "model_arima"
   ]
  },
  {
   "cell_type": "code",
   "execution_count": 248,
   "metadata": {
    "scrolled": true
   },
   "outputs": [
    {
     "data": {
      "text/html": [
       "344.040058758621"
      ],
      "text/latex": [
       "344.040058758621"
      ],
      "text/markdown": [
       "344.040058758621"
      ],
      "text/plain": [
       "[1] 344.0401"
      ]
     },
     "metadata": {},
     "output_type": "display_data"
    }
   ],
   "source": [
    "gdp_arima_top_cv <- function(x, h){forecast(Arima(ts(x, \n",
    "    frequency = var_freq, start = var_start_year), order=c(2,1,1), include.drift = FALSE, include.constant = FALSE), h=h)}\n",
    "e_arima_top  <-  tsCV(gdp_agg, gdp_arima_top_cv, h=var_h, \n",
    "                      window=var_window)[var_cv_low:var_cv_high,]\n",
    "sqrt(mean(e_arima_top^2, na.rm=TRUE))"
   ]
  },
  {
   "cell_type": "code",
   "execution_count": 364,
   "metadata": {},
   "outputs": [],
   "source": [
    "params[6,2]  <-  'order=c(4,1,1),\n",
    "  include.drift = FALSE, include.constant = FALSE'"
   ]
  },
  {
   "cell_type": "code",
   "execution_count": 365,
   "metadata": {},
   "outputs": [
    {
     "data": {
      "text/html": [
       "<table>\n",
       "<thead><tr><th></th><th scope=col>Квартальные</th><th scope=col>Сезонно сглаженные</th><th scope=col>Месячные</th></tr></thead>\n",
       "<tbody>\n",
       "\t<tr><th scope=row>AR_1 (лин.тренд)</th><td>order=c(2,0,0), \n",
       "    seasonal=c(1,0,0), include.drift = TRUE, include.constant = TRUE                                                      </td><td>order=c(2,0,0), \n",
       "     include.drift = TRUE, include.constant = TRUE                                                                        </td><td>order=c(2,0,0),\n",
       "    seasonal=c(1,0,0), include.drift = TRUE, include.constant = TRUE)                                                      </td></tr>\n",
       "\t<tr><th scope=row>ARI</th><td>order=c(3,1,0),\n",
       "    seasonal=c(2,1,0), include.drift = FALSE, include.constant = FALSE                                                     </td><td>order=c(4,1,0),\n",
       "    include.drift = FALSE, include.constant = FALSE                                                                        </td><td>order=c(4,0,0),\n",
       "    seasonal=c(1,1,0), include.drift = FALSE, include.constant = FALSE                                                     </td></tr>\n",
       "\t<tr><th scope=row>AR_2 (лин.тренд)</th><td>order=c(3,0,0),\n",
       "    seasonal=c(2,0,0), include.drift = TRUE, include.constant = TRUE                                                       </td><td>order=c(4,0,0),\n",
       "    include.drift = TRUE, include.constant = TRUE                                                                          </td><td>order=c(11,0,0),\n",
       "    seasonal=c(2,0,0), include.drift = TRUE, include.constant = TRUE                                                      </td></tr>\n",
       "\t<tr><th scope=row>AR_2 (квадр. тренд)</th><td>order=c(3,0,0),\n",
       "    seasonal=c(2,0,0), include.drift = TRUE, include.constant = TRUE                                                       </td><td>order=c(4,0,0),\n",
       "    include.drift = TRUE, include.constant = TRUE                                                                          </td><td>order=c(11,0,0),\n",
       "    seasonal=c(2,0,0), include.drift = TRUE, include.constant = TRUE                                                      </td></tr>\n",
       "\t<tr><th scope=row>ARMA (лин.тренд)</th><td>order=c(3,0,1),\n",
       "    seasonal=c(2,0,1), include.drift = TRUE, include.constant = TRUE                                                       </td><td>order=c(4,0,1),\n",
       "     include.drift = TRUE, include.constant = TRUE                                                                         </td><td>order=c(4,0,1),\n",
       "    seasonal=c(1,0,1), include.drift = TRUE, include.constant = TRUE)                                                      </td></tr>\n",
       "\t<tr><th scope=row>ARIMA</th><td>order=c(3,1,1),\n",
       "    seasonal=c(2,1,1), include.drift = FALSE, include.constant = FALSE                                                     </td><td>order=c(4,1,1),\n",
       "  include.drift = FALSE, include.constant = FALSE                                                                          </td><td>order=c(4,1,1),\n",
       "    seasonal=c(1,1,1), include.drift = FALSE, include.constant = FALSE                                                     </td></tr>\n",
       "\t<tr><th scope=row>ARIMA (автом. подбор)</th><td>    stationary = FALSE, seasonal = TRUE, lambda=NULL, parallel=TRUE                                                                         </td><td>    stationary = FALSE, seasonal = FALSE, lambda=NULL, parallel=TRUE                                                                        </td><td>    stationary = FALSE, seasonal = TRUE, lambda=NULL, parallel=TRUE                                                                         </td></tr>\n",
       "\t<tr><th scope=row>ETS</th><td>model=\"MMM\", damped = FALSE , lambda=NULL                                                                                                   </td><td>model=\"AAA\", damped = FALSE , lambda=NULL                                                                                                   </td><td>model=\"AAA\", damped = TRUE , lambda=NULL                                                                                                    </td></tr>\n",
       "\t<tr><th scope=row>ETS (автом. подбор)</th><td>lambda=NULL                                                                                                                                 </td><td>lambda=NULL                                                                                                                                 </td><td>lambda=NULL                                                                                                                                 </td></tr>\n",
       "\t<tr><th scope=row>TBATS</th><td>use.trend = TRUE, seasonal.periods = var_freq,\n",
       "       use.arma.errors=TRUE, use.parallel=TRUE , use.box.cox=FALSE,   use.damped.trend=FALSE</td><td>use.trend = TRUE, \n",
       "       use.arma.errors=TRUE, use.parallel=TRUE , use.box.cox=FALSE,   use.damped.trend=FALSE                            </td><td>NA                                                                                                                                          </td></tr>\n",
       "</tbody>\n",
       "</table>\n"
      ],
      "text/latex": [
       "\\begin{tabular}{r|lll}\n",
       "  & Квартальные & Сезонно сглаженные & Месячные\\\\\n",
       "\\hline\n",
       "\tAR\\_1 (лин.тренд) & order=c(2,0,0), \n",
       "    seasonal=c(1,0,0), include.drift = TRUE, include.constant = TRUE                                                       & order=c(2,0,0), \n",
       "     include.drift = TRUE, include.constant = TRUE                                                                         & order=c(2,0,0),\n",
       "    seasonal=c(1,0,0), include.drift = TRUE, include.constant = TRUE)                                                      \\\\\n",
       "\tARI & order=c(3,1,0),\n",
       "    seasonal=c(2,1,0), include.drift = FALSE, include.constant = FALSE                                                      & order=c(4,1,0),\n",
       "    include.drift = FALSE, include.constant = FALSE                                                                         & order=c(4,0,0),\n",
       "    seasonal=c(1,1,0), include.drift = FALSE, include.constant = FALSE                                                     \\\\\n",
       "\tAR\\_2 (лин.тренд) & order=c(3,0,0),\n",
       "    seasonal=c(2,0,0), include.drift = TRUE, include.constant = TRUE                                                        & order=c(4,0,0),\n",
       "    include.drift = TRUE, include.constant = TRUE                                                                           & order=c(11,0,0),\n",
       "    seasonal=c(2,0,0), include.drift = TRUE, include.constant = TRUE                                                      \\\\\n",
       "\tAR\\_2 (квадр. тренд) & order=c(3,0,0),\n",
       "    seasonal=c(2,0,0), include.drift = TRUE, include.constant = TRUE                                                        & order=c(4,0,0),\n",
       "    include.drift = TRUE, include.constant = TRUE                                                                           & order=c(11,0,0),\n",
       "    seasonal=c(2,0,0), include.drift = TRUE, include.constant = TRUE                                                      \\\\\n",
       "\tARMA (лин.тренд) & order=c(3,0,1),\n",
       "    seasonal=c(2,0,1), include.drift = TRUE, include.constant = TRUE                                                        & order=c(4,0,1),\n",
       "     include.drift = TRUE, include.constant = TRUE                                                                          & order=c(4,0,1),\n",
       "    seasonal=c(1,0,1), include.drift = TRUE, include.constant = TRUE)                                                      \\\\\n",
       "\tARIMA & order=c(3,1,1),\n",
       "    seasonal=c(2,1,1), include.drift = FALSE, include.constant = FALSE                                                      & order=c(4,1,1),\n",
       "  include.drift = FALSE, include.constant = FALSE                                                                           & order=c(4,1,1),\n",
       "    seasonal=c(1,1,1), include.drift = FALSE, include.constant = FALSE                                                     \\\\\n",
       "\tARIMA (автом. подбор) &     stationary = FALSE, seasonal = TRUE, lambda=NULL, parallel=TRUE                                                                          &     stationary = FALSE, seasonal = FALSE, lambda=NULL, parallel=TRUE                                                                         &     stationary = FALSE, seasonal = TRUE, lambda=NULL, parallel=TRUE                                                                         \\\\\n",
       "\tETS & model=\"MMM\", damped = FALSE , lambda=NULL                                                                                                    & model=\"AAA\", damped = FALSE , lambda=NULL                                                                                                    & model=\"AAA\", damped = TRUE , lambda=NULL                                                                                                    \\\\\n",
       "\tETS (автом. подбор) & lambda=NULL                                                                                                                                  & lambda=NULL                                                                                                                                  & lambda=NULL                                                                                                                                 \\\\\n",
       "\tTBATS & use.trend = TRUE, seasonal.periods = var\\_freq,\n",
       "       use.arma.errors=TRUE, use.parallel=TRUE , use.box.cox=FALSE,   use.damped.trend=FALSE & use.trend = TRUE, \n",
       "       use.arma.errors=TRUE, use.parallel=TRUE , use.box.cox=FALSE,   use.damped.trend=FALSE                               & NA                                                                                                                                            \\\\\n",
       "\\end{tabular}\n"
      ],
      "text/markdown": [
       "\n",
       "| <!--/--> | Квартальные | Сезонно сглаженные | Месячные | \n",
       "|---|---|---|---|---|---|---|---|---|---|\n",
       "| AR_1 (лин.тренд) | order=c(2,0,0), \n",
       "    seasonal=c(1,0,0), include.drift = TRUE, include.constant = TRUE                                                       | order=c(2,0,0), \n",
       "     include.drift = TRUE, include.constant = TRUE                                                                         | order=c(2,0,0),\n",
       "    seasonal=c(1,0,0), include.drift = TRUE, include.constant = TRUE)                                                       | \n",
       "| ARI | order=c(3,1,0),\n",
       "    seasonal=c(2,1,0), include.drift = FALSE, include.constant = FALSE                                                      | order=c(4,1,0),\n",
       "    include.drift = FALSE, include.constant = FALSE                                                                         | order=c(4,0,0),\n",
       "    seasonal=c(1,1,0), include.drift = FALSE, include.constant = FALSE                                                      | \n",
       "| AR_2 (лин.тренд) | order=c(3,0,0),\n",
       "    seasonal=c(2,0,0), include.drift = TRUE, include.constant = TRUE                                                        | order=c(4,0,0),\n",
       "    include.drift = TRUE, include.constant = TRUE                                                                           | order=c(11,0,0),\n",
       "    seasonal=c(2,0,0), include.drift = TRUE, include.constant = TRUE                                                       | \n",
       "| AR_2 (квадр. тренд) | order=c(3,0,0),\n",
       "    seasonal=c(2,0,0), include.drift = TRUE, include.constant = TRUE                                                        | order=c(4,0,0),\n",
       "    include.drift = TRUE, include.constant = TRUE                                                                           | order=c(11,0,0),\n",
       "    seasonal=c(2,0,0), include.drift = TRUE, include.constant = TRUE                                                       | \n",
       "| ARMA (лин.тренд) | order=c(3,0,1),\n",
       "    seasonal=c(2,0,1), include.drift = TRUE, include.constant = TRUE                                                        | order=c(4,0,1),\n",
       "     include.drift = TRUE, include.constant = TRUE                                                                          | order=c(4,0,1),\n",
       "    seasonal=c(1,0,1), include.drift = TRUE, include.constant = TRUE)                                                       | \n",
       "| ARIMA | order=c(3,1,1),\n",
       "    seasonal=c(2,1,1), include.drift = FALSE, include.constant = FALSE                                                      | order=c(4,1,1),\n",
       "  include.drift = FALSE, include.constant = FALSE                                                                           | order=c(4,1,1),\n",
       "    seasonal=c(1,1,1), include.drift = FALSE, include.constant = FALSE                                                      | \n",
       "| ARIMA (автом. подбор) |     stationary = FALSE, seasonal = TRUE, lambda=NULL, parallel=TRUE                                                                          |     stationary = FALSE, seasonal = FALSE, lambda=NULL, parallel=TRUE                                                                         |     stationary = FALSE, seasonal = TRUE, lambda=NULL, parallel=TRUE                                                                          | \n",
       "| ETS | model=\"MMM\", damped = FALSE , lambda=NULL                                                                                                    | model=\"AAA\", damped = FALSE , lambda=NULL                                                                                                    | model=\"AAA\", damped = TRUE , lambda=NULL                                                                                                     | \n",
       "| ETS (автом. подбор) | lambda=NULL                                                                                                                                  | lambda=NULL                                                                                                                                  | lambda=NULL                                                                                                                                  | \n",
       "| TBATS | use.trend = TRUE, seasonal.periods = var_freq,\n",
       "       use.arma.errors=TRUE, use.parallel=TRUE , use.box.cox=FALSE,   use.damped.trend=FALSE | use.trend = TRUE, \n",
       "       use.arma.errors=TRUE, use.parallel=TRUE , use.box.cox=FALSE,   use.damped.trend=FALSE                             | NA                                                                                                                                           | \n",
       "\n",
       "\n"
      ],
      "text/plain": [
       "                      Квартальные                                                                                                                                 \n",
       "AR_1 (лин.тренд)      order=c(2,0,0), \\n    seasonal=c(1,0,0), include.drift = TRUE, include.constant = TRUE                                                      \n",
       "ARI                   order=c(3,1,0),\\n    seasonal=c(2,1,0), include.drift = FALSE, include.constant = FALSE                                                     \n",
       "AR_2 (лин.тренд)      order=c(3,0,0),\\n    seasonal=c(2,0,0), include.drift = TRUE, include.constant = TRUE                                                       \n",
       "AR_2 (квадр. тренд)   order=c(3,0,0),\\n    seasonal=c(2,0,0), include.drift = TRUE, include.constant = TRUE                                                       \n",
       "ARMA (лин.тренд)      order=c(3,0,1),\\n    seasonal=c(2,0,1), include.drift = TRUE, include.constant = TRUE                                                       \n",
       "ARIMA                 order=c(3,1,1),\\n    seasonal=c(2,1,1), include.drift = FALSE, include.constant = FALSE                                                     \n",
       "ARIMA (автом. подбор)     stationary = FALSE, seasonal = TRUE, lambda=NULL, parallel=TRUE                                                                         \n",
       "ETS                   model=\"MMM\", damped = FALSE , lambda=NULL                                                                                                   \n",
       "ETS (автом. подбор)   lambda=NULL                                                                                                                                 \n",
       "TBATS                 use.trend = TRUE, seasonal.periods = var_freq,\\n       use.arma.errors=TRUE, use.parallel=TRUE , use.box.cox=FALSE,   use.damped.trend=FALSE\n",
       "                      Сезонно сглаженные                                                                                              \n",
       "AR_1 (лин.тренд)      order=c(2,0,0), \\n     include.drift = TRUE, include.constant = TRUE                                            \n",
       "ARI                   order=c(4,1,0),\\n    include.drift = FALSE, include.constant = FALSE                                            \n",
       "AR_2 (лин.тренд)      order=c(4,0,0),\\n    include.drift = TRUE, include.constant = TRUE                                              \n",
       "AR_2 (квадр. тренд)   order=c(4,0,0),\\n    include.drift = TRUE, include.constant = TRUE                                              \n",
       "ARMA (лин.тренд)      order=c(4,0,1),\\n     include.drift = TRUE, include.constant = TRUE                                             \n",
       "ARIMA                 order=c(4,1,1),\\n  include.drift = FALSE, include.constant = FALSE                                              \n",
       "ARIMA (автом. подбор)     stationary = FALSE, seasonal = FALSE, lambda=NULL, parallel=TRUE                                            \n",
       "ETS                   model=\"AAA\", damped = FALSE , lambda=NULL                                                                       \n",
       "ETS (автом. подбор)   lambda=NULL                                                                                                     \n",
       "TBATS                 use.trend = TRUE, \\n       use.arma.errors=TRUE, use.parallel=TRUE , use.box.cox=FALSE,   use.damped.trend=FALSE\n",
       "                      Месячные                                                                               \n",
       "AR_1 (лин.тренд)      order=c(2,0,0),\\n    seasonal=c(1,0,0), include.drift = TRUE, include.constant = TRUE) \n",
       "ARI                   order=c(4,0,0),\\n    seasonal=c(1,1,0), include.drift = FALSE, include.constant = FALSE\n",
       "AR_2 (лин.тренд)      order=c(11,0,0),\\n    seasonal=c(2,0,0), include.drift = TRUE, include.constant = TRUE \n",
       "AR_2 (квадр. тренд)   order=c(11,0,0),\\n    seasonal=c(2,0,0), include.drift = TRUE, include.constant = TRUE \n",
       "ARMA (лин.тренд)      order=c(4,0,1),\\n    seasonal=c(1,0,1), include.drift = TRUE, include.constant = TRUE) \n",
       "ARIMA                 order=c(4,1,1),\\n    seasonal=c(1,1,1), include.drift = FALSE, include.constant = FALSE\n",
       "ARIMA (автом. подбор)     stationary = FALSE, seasonal = TRUE, lambda=NULL, parallel=TRUE                    \n",
       "ETS                   model=\"AAA\", damped = TRUE , lambda=NULL                                               \n",
       "ETS (автом. подбор)   lambda=NULL                                                                            \n",
       "TBATS                 NA                                                                                     "
      ]
     },
     "metadata": {},
     "output_type": "display_data"
    }
   ],
   "source": [
    "params"
   ]
  },
  {
   "cell_type": "code",
   "execution_count": 253,
   "metadata": {},
   "outputs": [
    {
     "data": {
      "text/html": [
       "367.565761059198"
      ],
      "text/latex": [
       "367.565761059198"
      ],
      "text/markdown": [
       "367.565761059198"
      ],
      "text/plain": [
       "[1] 367.5658"
      ]
     },
     "metadata": {},
     "output_type": "display_data"
    }
   ],
   "source": [
    "gdp_arima_top_cv <- function(x, h){forecast(Arima(ts(x, \n",
    "    frequency = var_freq, start = var_start_year), order=c(1,1,1), include.drift = FALSE, include.constant = FALSE), h=h)}\n",
    "e_arima_top  <-  tsCV(gdp_agg, gdp_arima_top_cv, h=var_h, \n",
    "                      window=var_window)[var_cv_low:var_cv_high,]\n",
    "sqrt(mean(e_arima_top^2, na.rm=TRUE))"
   ]
  },
  {
   "cell_type": "code",
   "execution_count": 250,
   "metadata": {},
   "outputs": [
    {
     "data": {
      "text/html": [
       "382.515639908665"
      ],
      "text/latex": [
       "382.515639908665"
      ],
      "text/markdown": [
       "382.515639908665"
      ],
      "text/plain": [
       "[1] 382.5156"
      ]
     },
     "metadata": {},
     "output_type": "display_data"
    }
   ],
   "source": [
    "gdp_arima_top_cv <- function(x, h){forecast(Arima(ts(x, \n",
    "    frequency = var_freq, start = var_start_year), order=c(3,1,2),\n",
    "    include.drift = FALSE, include.constant = FALSE), h=h)}\n",
    "e_arima_top  <-  tsCV(gdp_agg, gdp_arima_top_cv, h=var_h, \n",
    "                      window=var_window)[var_cv_low:var_cv_high,]\n",
    "sqrt(mean(e_arima_top^2, na.rm=TRUE))"
   ]
  },
  {
   "cell_type": "code",
   "execution_count": 251,
   "metadata": {},
   "outputs": [
    {
     "data": {
      "text/html": [
       "428.44179878644"
      ],
      "text/latex": [
       "428.44179878644"
      ],
      "text/markdown": [
       "428.44179878644"
      ],
      "text/plain": [
       "[1] 428.4418"
      ]
     },
     "metadata": {},
     "output_type": "display_data"
    }
   ],
   "source": [
    "gdp_arima_top_cv <- function(x, h){forecast(Arima(ts(x, \n",
    "    frequency = var_freq, start = var_start_year), order=c(3,1,1)), h=h)}\n",
    "e_arima_top  <-  tsCV(gdp_agg, gdp_arima_top_cv, h=var_h, \n",
    "                      window=var_window)[var_cv_low:var_cv_high,]\n",
    "sqrt(mean(e_arima_top^2, na.rm=TRUE))"
   ]
  },
  {
   "cell_type": "markdown",
   "metadata": {},
   "source": [
    "model_auto.arima\n"
   ]
  },
  {
   "cell_type": "code",
   "execution_count": 213,
   "metadata": {},
   "outputs": [
    {
     "data": {
      "text/html": [
       "424.647400594167"
      ],
      "text/latex": [
       "424.647400594167"
      ],
      "text/markdown": [
       "424.647400594167"
      ],
      "text/plain": [
       "[1] 424.6474"
      ]
     },
     "metadata": {},
     "output_type": "display_data"
    }
   ],
   "source": [
    "gdp_arima_top_cv <- function(x, h){forecast(auto.arima(ts(x, \n",
    "    frequency = var_freq, start = var_start_year), \n",
    "    stationary = FALSE, seasonal = FALSE, lambda=\"auto\"), h=h)}\n",
    "e_arima_top  <-  tsCV(gdp_agg, gdp_arima_top_cv, h=var_h, \n",
    "                      window=var_window)#[var_cv_low:var_cv_high,]\n",
    "sqrt(mean(e_arima_top^2, na.rm=TRUE))"
   ]
  },
  {
   "cell_type": "code",
   "execution_count": 214,
   "metadata": {},
   "outputs": [
    {
     "data": {
      "text/html": [
       "430.071032562373"
      ],
      "text/latex": [
       "430.071032562373"
      ],
      "text/markdown": [
       "430.071032562373"
      ],
      "text/plain": [
       "[1] 430.071"
      ]
     },
     "metadata": {},
     "output_type": "display_data"
    }
   ],
   "source": [
    "gdp_arima_top_cv <- function(x, h){forecast(auto.arima(ts(x, \n",
    "    frequency = var_freq, start = var_start_year), \n",
    "    stationary = FALSE, seasonal = FALSE, lambda=NULL, parallel=TRUE), h=h)}\n",
    "e_arima_top  <-  tsCV(gdp_agg, gdp_arima_top_cv, h=var_h, \n",
    "                      window=var_window)[var_cv_low:var_cv_high,]\n",
    "sqrt(mean(e_arima_top^2, na.rm=TRUE))"
   ]
  },
  {
   "cell_type": "code",
   "execution_count": 215,
   "metadata": {},
   "outputs": [],
   "source": [
    "params[7,2]  <-  '    stationary = FALSE, seasonal = FALSE, lambda=NULL, parallel=TRUE'"
   ]
  },
  {
   "cell_type": "code",
   "execution_count": 212,
   "metadata": {},
   "outputs": [
    {
     "data": {
      "text/html": [
       "435.033590003072"
      ],
      "text/latex": [
       "435.033590003072"
      ],
      "text/markdown": [
       "435.033590003072"
      ],
      "text/plain": [
       "[1] 435.0336"
      ]
     },
     "metadata": {},
     "output_type": "display_data"
    }
   ],
   "source": [
    "gdp_arima_top_cv <- function(x, h){forecast(auto.arima(ts(x, \n",
    "    frequency = var_freq, start = var_start_year), \n",
    "    stationary = FALSE, seasonal = TRUE, lambda=\"auto\"), h=h)}\n",
    "e_arima_top  <-  tsCV(gdp_agg, gdp_arima_top_cv, h=var_h, \n",
    "                      window=var_window)[var_cv_low:var_cv_high,]\n",
    "sqrt(mean(e_arima_top^2, na.rm=TRUE))"
   ]
  },
  {
   "cell_type": "markdown",
   "metadata": {},
   "source": [
    "model_ets"
   ]
  },
  {
   "cell_type": "code",
   "execution_count": 264,
   "metadata": {},
   "outputs": [
    {
     "data": {
      "text/html": [
       "263.026438077569"
      ],
      "text/latex": [
       "263.026438077569"
      ],
      "text/markdown": [
       "263.026438077569"
      ],
      "text/plain": [
       "[1] 263.0264"
      ]
     },
     "metadata": {},
     "output_type": "display_data"
    }
   ],
   "source": [
    "gdp_arima_top_cv <- function(x, h){forecast(ets(ts(x, \n",
    "    frequency = var_freq, start = var_start_year), model=\"AAA\" ,  damped = FALSE,lambda=NULL), h=h)}\n",
    "e_arima_top  <-  tsCV(gdp_agg, gdp_arima_top_cv, h=var_h, \n",
    "                      window=var_window)[var_cv_low:var_cv_high,]\n",
    "sqrt(mean(e_arima_top^2, na.rm=TRUE))"
   ]
  },
  {
   "cell_type": "code",
   "execution_count": 347,
   "metadata": {},
   "outputs": [],
   "source": [
    "params[8,2]  <-  'model=\"AAA\", damped = FALSE , lambda=NULL'"
   ]
  },
  {
   "cell_type": "code",
   "execution_count": 265,
   "metadata": {},
   "outputs": [
    {
     "data": {
      "text/html": [
       "314.841892610227"
      ],
      "text/latex": [
       "314.841892610227"
      ],
      "text/markdown": [
       "314.841892610227"
      ],
      "text/plain": [
       "[1] 314.8419"
      ]
     },
     "metadata": {},
     "output_type": "display_data"
    }
   ],
   "source": [
    "gdp_arima_top_cv <- function(x, h){forecast(ets(ts(x, \n",
    "    frequency = var_freq, start = var_start_year), model=\"AAA\",  damped = TRUE , lambda=NULL), h=h)}\n",
    "e_arima_top  <-  tsCV(gdp_agg, gdp_arima_top_cv, h=var_h, \n",
    "                      window=var_window)[var_cv_low:var_cv_high,]\n",
    "sqrt(mean(e_arima_top^2, na.rm=TRUE))"
   ]
  },
  {
   "cell_type": "code",
   "execution_count": 257,
   "metadata": {},
   "outputs": [
    {
     "data": {
      "text/html": [
       "266.389240761646"
      ],
      "text/latex": [
       "266.389240761646"
      ],
      "text/markdown": [
       "266.389240761646"
      ],
      "text/plain": [
       "[1] 266.3892"
      ]
     },
     "metadata": {},
     "output_type": "display_data"
    }
   ],
   "source": [
    "gdp_arima_top_cv <- function(x, h){forecast(ets(ts(x, \n",
    "    frequency = var_freq, start = var_start_year), model=\"MAM\", damped = TRUE , lambda=NULL), h=h)}\n",
    "e_arima_top  <-  tsCV(gdp_agg, gdp_arima_top_cv, h=var_h, \n",
    "                      window=var_window)[var_cv_low:var_cv_high,]\n",
    "sqrt(mean(e_arima_top^2, na.rm=TRUE))"
   ]
  },
  {
   "cell_type": "code",
   "execution_count": 258,
   "metadata": {},
   "outputs": [
    {
     "data": {
      "text/html": [
       "288.379497157439"
      ],
      "text/latex": [
       "288.379497157439"
      ],
      "text/markdown": [
       "288.379497157439"
      ],
      "text/plain": [
       "[1] 288.3795"
      ]
     },
     "metadata": {},
     "output_type": "display_data"
    }
   ],
   "source": [
    "gdp_arima_top_cv <- function(x, h){forecast(ets(ts(x, \n",
    "    frequency = var_freq, start = var_start_year), model=\"MAM\" , damped =FALSE , lambda=NULL), h=h)}\n",
    "e_arima_top  <-  tsCV(gdp_agg, gdp_arima_top_cv, h=var_h, \n",
    "                      window=var_window)[var_cv_low:var_cv_high,]\n",
    "sqrt(mean(e_arima_top^2, na.rm=TRUE))"
   ]
  },
  {
   "cell_type": "code",
   "execution_count": 256,
   "metadata": {},
   "outputs": [
    {
     "data": {
      "text/html": [
       "293.097139457844"
      ],
      "text/latex": [
       "293.097139457844"
      ],
      "text/markdown": [
       "293.097139457844"
      ],
      "text/plain": [
       "[1] 293.0971"
      ]
     },
     "metadata": {},
     "output_type": "display_data"
    }
   ],
   "source": [
    "gdp_arima_top_cv <- function(x, h){forecast(ets(ts(x, \n",
    "    frequency = var_freq, start = var_start_year), model=\"MMM\", damped = FALSE , lambda=NULL), h=h)}\n",
    "e_arima_top  <-  tsCV(gdp_agg, gdp_arima_top_cv, h=var_h, \n",
    "                      window=var_window)[var_cv_low:var_cv_high,]\n",
    "sqrt(mean(e_arima_top^2, na.rm=TRUE))"
   ]
  },
  {
   "cell_type": "code",
   "execution_count": 259,
   "metadata": {},
   "outputs": [
    {
     "data": {
      "text/html": [
       "285.562612575999"
      ],
      "text/latex": [
       "285.562612575999"
      ],
      "text/markdown": [
       "285.562612575999"
      ],
      "text/plain": [
       "[1] 285.5626"
      ]
     },
     "metadata": {},
     "output_type": "display_data"
    }
   ],
   "source": [
    "gdp_arima_top_cv <- function(x, h){forecast(ets(ts(x, \n",
    "    frequency = var_freq, start = var_start_year), model=\"MMM\" , lambda=NULL), h=h)}\n",
    "e_arima_top  <-  tsCV(gdp_agg, gdp_arima_top_cv, h=var_h, \n",
    "                      window=var_window)[var_cv_low:var_cv_high,]\n",
    "sqrt(mean(e_arima_top^2, na.rm=TRUE))"
   ]
  },
  {
   "cell_type": "code",
   "execution_count": 261,
   "metadata": {},
   "outputs": [
    {
     "data": {
      "text/html": [
       "393.578208196377"
      ],
      "text/latex": [
       "393.578208196377"
      ],
      "text/markdown": [
       "393.578208196377"
      ],
      "text/plain": [
       "[1] 393.5782"
      ]
     },
     "metadata": {},
     "output_type": "display_data"
    }
   ],
   "source": [
    "gdp_arima_top_cv <- function(x, h){forecast(ets(ts(x, \n",
    "    frequency = var_freq, start = var_start_year), lambda=NULL), h=h)}\n",
    "e_arima_top  <-  tsCV(gdp_agg, gdp_arima_top_cv, h=var_h, \n",
    "                      window=var_window)[var_cv_low:var_cv_high,]\n",
    "sqrt(mean(e_arima_top^2, na.rm=TRUE))"
   ]
  },
  {
   "cell_type": "code",
   "execution_count": 263,
   "metadata": {},
   "outputs": [],
   "source": [
    "params[9,2]  <-  'lambda=NULL'"
   ]
  },
  {
   "cell_type": "code",
   "execution_count": 262,
   "metadata": {},
   "outputs": [
    {
     "data": {
      "text/html": [
       "395.508380162795"
      ],
      "text/latex": [
       "395.508380162795"
      ],
      "text/markdown": [
       "395.508380162795"
      ],
      "text/plain": [
       "[1] 395.5084"
      ]
     },
     "metadata": {},
     "output_type": "display_data"
    }
   ],
   "source": [
    "gdp_arima_top_cv <- function(x, h){forecast(ets(ts(x, \n",
    "    frequency = var_freq, start = var_start_year), lambda=\"auto\"), h=h)}\n",
    "e_arima_top  <-  tsCV(gdp_agg, gdp_arima_top_cv, h=var_h, \n",
    "                      window=var_window)[var_cv_low:var_cv_high,]\n",
    "sqrt(mean(e_arima_top^2, na.rm=TRUE))"
   ]
  },
  {
   "cell_type": "markdown",
   "metadata": {},
   "source": [
    "model_tbats"
   ]
  },
  {
   "cell_type": "code",
   "execution_count": 267,
   "metadata": {},
   "outputs": [
    {
     "data": {
      "text/html": [
       "228.22214013379"
      ],
      "text/latex": [
       "228.22214013379"
      ],
      "text/markdown": [
       "228.22214013379"
      ],
      "text/plain": [
       "[1] 228.2221"
      ]
     },
     "metadata": {},
     "output_type": "display_data"
    }
   ],
   "source": [
    "gdp_arima_top_cv <- function(x, h){forecast(tbats(ts(x, \n",
    "    frequency = var_freq, start = var_start_year), use.trend = TRUE, seasonal.periods = var_freq,\n",
    "       use.arma.errors=TRUE, use.parallel=TRUE , use.box.cox=FALSE,   use.damped.trend=FALSE\n",
    "  ), h=h)}\n",
    "e_arima_top  <-  tsCV(gdp_agg, gdp_arima_top_cv, h=var_h, \n",
    "                      window=var_window)[var_cv_low:var_cv_high,]\n",
    "sqrt(mean(e_arima_top^2, na.rm=TRUE))"
   ]
  },
  {
   "cell_type": "code",
   "execution_count": 274,
   "metadata": {},
   "outputs": [
    {
     "data": {
      "text/html": [
       "400.733100734296"
      ],
      "text/latex": [
       "400.733100734296"
      ],
      "text/markdown": [
       "400.733100734296"
      ],
      "text/plain": [
       "[1] 400.7331"
      ]
     },
     "metadata": {},
     "output_type": "display_data"
    }
   ],
   "source": [
    "gdp_arima_top_cv <- function(x, h){forecast(tbats(ts(x, \n",
    "    frequency = var_freq, start = var_start_year), use.trend = TRUE, \n",
    "       use.arma.errors=TRUE, use.parallel=TRUE , use.box.cox=FALSE,   use.damped.trend=TRUE\n",
    "  ), h=h)}\n",
    "e_arima_top  <-  tsCV(gdp_agg, gdp_arima_top_cv, h=var_h, \n",
    "                      window=var_window)[var_cv_low:var_cv_high,]\n",
    "sqrt(mean(e_arima_top^2, na.rm=TRUE))"
   ]
  },
  {
   "cell_type": "code",
   "execution_count": 275,
   "metadata": {},
   "outputs": [
    {
     "data": {
      "text/html": [
       "228.22214013379"
      ],
      "text/latex": [
       "228.22214013379"
      ],
      "text/markdown": [
       "228.22214013379"
      ],
      "text/plain": [
       "[1] 228.2221"
      ]
     },
     "metadata": {},
     "output_type": "display_data"
    }
   ],
   "source": [
    "gdp_arima_top_cv <- function(x, h){forecast(tbats(ts(x, \n",
    "    frequency = var_freq, start = var_start_year), use.trend = TRUE, \n",
    "       use.arma.errors=TRUE, use.parallel=TRUE , use.box.cox=FALSE,   use.damped.trend=FALSE\n",
    "  ), h=h)}\n",
    "e_arima_top  <-  tsCV(gdp_agg, gdp_arima_top_cv, h=var_h, \n",
    "                      window=var_window)[var_cv_low:var_cv_high,]\n",
    "sqrt(mean(e_arima_top^2, na.rm=TRUE))"
   ]
  },
  {
   "cell_type": "code",
   "execution_count": 276,
   "metadata": {},
   "outputs": [],
   "source": [
    "params[10,2]  <-  'use.trend = TRUE, \n",
    "       use.arma.errors=TRUE, use.parallel=TRUE , use.box.cox=FALSE,   use.damped.trend=FALSE'"
   ]
  },
  {
   "cell_type": "code",
   "execution_count": 271,
   "metadata": {},
   "outputs": [
    {
     "data": {
      "text/html": [
       "335.218177345149"
      ],
      "text/latex": [
       "335.218177345149"
      ],
      "text/markdown": [
       "335.218177345149"
      ],
      "text/plain": [
       "[1] 335.2182"
      ]
     },
     "metadata": {},
     "output_type": "display_data"
    }
   ],
   "source": [
    "gdp_arima_top_cv <- function(x, h){forecast(tbats(ts(x, \n",
    "    frequency = var_freq, start = var_start_year), use.trend = TRUE, seasonal.periods = var_freq,\n",
    "       use.arma.errors=TRUE, use.parallel=TRUE , use.box.cox=FALSE    ), h=h)}\n",
    "e_arima_top  <-  tsCV(gdp_agg, gdp_arima_top_cv, h=var_h, \n",
    "                      window=var_window)[var_cv_low:var_cv_high,]\n",
    "sqrt(mean(e_arima_top^2, na.rm=TRUE))"
   ]
  },
  {
   "cell_type": "code",
   "execution_count": 269,
   "metadata": {},
   "outputs": [
    {
     "data": {
      "text/html": [
       "349.662268420221"
      ],
      "text/latex": [
       "349.662268420221"
      ],
      "text/markdown": [
       "349.662268420221"
      ],
      "text/plain": [
       "[1] 349.6623"
      ]
     },
     "metadata": {},
     "output_type": "display_data"
    }
   ],
   "source": [
    "gdp_arima_top_cv <- function(x, h){forecast(tbats(ts(x, \n",
    "    frequency = var_freq, start = var_start_year), use.trend = TRUE, seasonal.periods = var_freq,\n",
    "       use.arma.errors=TRUE, use.parallel=TRUE     ), h=h)}\n",
    "e_arima_top  <-  tsCV(gdp_agg, gdp_arima_top_cv, h=var_h, \n",
    "                      window=var_window)[var_cv_low:var_cv_high,]\n",
    "sqrt(mean(e_arima_top^2, na.rm=TRUE))"
   ]
  },
  {
   "cell_type": "code",
   "execution_count": 270,
   "metadata": {},
   "outputs": [
    {
     "data": {
      "text/html": [
       "355.032939820265"
      ],
      "text/latex": [
       "355.032939820265"
      ],
      "text/markdown": [
       "355.032939820265"
      ],
      "text/plain": [
       "[1] 355.0329"
      ]
     },
     "metadata": {},
     "output_type": "display_data"
    }
   ],
   "source": [
    "gdp_arima_top_cv <- function(x, h){forecast(tbats(ts(x, \n",
    "    frequency = var_freq, start = var_start_year), use.trend = TRUE, seasonal.periods = var_freq,\n",
    "       use.arma.errors=TRUE, use.parallel=TRUE , use.box.cox=TRUE    ), h=h)}\n",
    "e_arima_top  <-  tsCV(gdp_agg, gdp_arima_top_cv, h=var_h, \n",
    "                      window=var_window)[var_cv_low:var_cv_high,]\n",
    "sqrt(mean(e_arima_top^2, na.rm=TRUE))"
   ]
  },
  {
   "cell_type": "code",
   "execution_count": 268,
   "metadata": {},
   "outputs": [
    {
     "data": {
      "text/html": [
       "391.903892951081"
      ],
      "text/latex": [
       "391.903892951081"
      ],
      "text/markdown": [
       "391.903892951081"
      ],
      "text/plain": [
       "[1] 391.9039"
      ]
     },
     "metadata": {},
     "output_type": "display_data"
    }
   ],
   "source": [
    "gdp_arima_top_cv <- function(x, h){forecast(tbats(ts(x, \n",
    "    frequency = var_freq, start = var_start_year)), h=h)}\n",
    "e_arima_top  <-  tsCV(gdp_agg, gdp_arima_top_cv, h=var_h, \n",
    "                      window=var_window)[var_cv_low:var_cv_high,]\n",
    "sqrt(mean(e_arima_top^2, na.rm=TRUE))"
   ]
  },
  {
   "cell_type": "code",
   "execution_count": 272,
   "metadata": {},
   "outputs": [
    {
     "data": {
      "text/html": [
       "400.733100734296"
      ],
      "text/latex": [
       "400.733100734296"
      ],
      "text/markdown": [
       "400.733100734296"
      ],
      "text/plain": [
       "[1] 400.7331"
      ]
     },
     "metadata": {},
     "output_type": "display_data"
    }
   ],
   "source": [
    "gdp_arima_top_cv <- function(x, h){forecast(tbats(ts(x, \n",
    "    frequency = var_freq, start = var_start_year), use.trend = TRUE, seasonal.periods = var_freq,\n",
    "       use.arma.errors=TRUE, use.parallel=TRUE , use.box.cox=FALSE,   use.damped.trend=TRUE\n",
    "  ), h=h)}\n",
    "e_arima_top  <-  tsCV(gdp_agg, gdp_arima_top_cv, h=var_h, \n",
    "                      window=var_window)[var_cv_low:var_cv_high,]\n",
    "sqrt(mean(e_arima_top^2, na.rm=TRUE))"
   ]
  },
  {
   "cell_type": "code",
   "execution_count": 277,
   "metadata": {},
   "outputs": [
    {
     "data": {
      "text/html": [
       "<table>\n",
       "<thead><tr><th></th><th scope=col>Квартальные</th><th scope=col>Сезонно сглаженные</th><th scope=col>Месячные</th></tr></thead>\n",
       "<tbody>\n",
       "\t<tr><th scope=row>AR_1 (лин.тренд)</th><td>order=c(2,0,0), \n",
       "    seasonal=c(1,0,0), include.drift = TRUE, include.constant = TRUE                                                      </td><td>order=c(2,0,0), \n",
       "     include.drift = TRUE, include.constant = TRUE                                                                        </td><td>NA                                                                                                                                          </td></tr>\n",
       "\t<tr><th scope=row>ARI</th><td>order=c(3,1,0),\n",
       "    seasonal=c(2,1,0), include.drift = FALSE, include.constant = FALSE                                                     </td><td>order=c(3,1,0),\n",
       "    include.drift = FALSE, include.constant = FALSE                                                                        </td><td>NA                                                                                                                                          </td></tr>\n",
       "\t<tr><th scope=row>AR_2 (лин.тренд)</th><td>order=c(3,0,0),\n",
       "    seasonal=c(2,0,0), include.drift = TRUE, include.constant = TRUE                                                       </td><td>order=c(4,0,0),\n",
       "    include.drift = TRUE, include.constant = TRUE                                                                          </td><td>NA                                                                                                                                          </td></tr>\n",
       "\t<tr><th scope=row>AR_2 (квадр. тренд)</th><td>order=c(3,0,0),\n",
       "    seasonal=c(2,0,0), include.drift = TRUE, include.constant = TRUE                                                       </td><td>order=c(4,0,0),\n",
       "    include.drift = TRUE, include.constant = TRUE                                                                          </td><td>NA                                                                                                                                          </td></tr>\n",
       "\t<tr><th scope=row>ARMA (лин.тренд)</th><td>order=c(3,0,1),\n",
       "    seasonal=c(2,0,1), include.drift = TRUE, include.constant = TRUE                                                       </td><td>order=c(4,0,2),\n",
       "     include.drift = TRUE, include.constant = TRUE                                                                         </td><td>NA                                                                                                                                          </td></tr>\n",
       "\t<tr><th scope=row>ARIMA</th><td>order=c(2,1,1),\n",
       "    seasonal=c(1,1,1), include.drift = FALSE, include.constant = FALSE                                                     </td><td>order=c(2,1,1),\n",
       "  include.drift = FALSE, include.constant = FALSE                                                                          </td><td>NA                                                                                                                                          </td></tr>\n",
       "\t<tr><th scope=row>ARIMA (автом. подбор)</th><td>    stationary = FALSE, seasonal = TRUE, lambda=NULL, parallel=TRUE                                                                         </td><td>    stationary = FALSE, seasonal = FALSE, lambda=NULL, parallel=TRUE                                                                        </td><td>NA                                                                                                                                          </td></tr>\n",
       "\t<tr><th scope=row>ETS</th><td>model=\"MMM\", damped = FALSE , lambda=NULL                                                                                                   </td><td>model=\"AAA\", damped = FALSE , lambda=NULL                                                                                                   </td><td>NA                                                                                                                                          </td></tr>\n",
       "\t<tr><th scope=row>ETS (автом. подбор)</th><td>lambda=NULL                                                                                                                                 </td><td>lambda=NULL                                                                                                                                 </td><td>NA                                                                                                                                          </td></tr>\n",
       "\t<tr><th scope=row>TBATS</th><td>use.trend = TRUE, seasonal.periods = var_freq,\n",
       "       use.arma.errors=TRUE, use.parallel=TRUE , use.box.cox=FALSE,   use.damped.trend=FALSE</td><td>use.trend = TRUE, \n",
       "       use.arma.errors=TRUE, use.parallel=TRUE , use.box.cox=FALSE,   use.damped.trend=FALSE                            </td><td>NA                                                                                                                                          </td></tr>\n",
       "</tbody>\n",
       "</table>\n"
      ],
      "text/latex": [
       "\\begin{tabular}{r|lll}\n",
       "  & Квартальные & Сезонно сглаженные & Месячные\\\\\n",
       "\\hline\n",
       "\tAR\\_1 (лин.тренд) & order=c(2,0,0), \n",
       "    seasonal=c(1,0,0), include.drift = TRUE, include.constant = TRUE                                                       & order=c(2,0,0), \n",
       "     include.drift = TRUE, include.constant = TRUE                                                                         & NA                                                                                                                                          \\\\\n",
       "\tARI & order=c(3,1,0),\n",
       "    seasonal=c(2,1,0), include.drift = FALSE, include.constant = FALSE                                                      & order=c(3,1,0),\n",
       "    include.drift = FALSE, include.constant = FALSE                                                                         & NA                                                                                                                                          \\\\\n",
       "\tAR\\_2 (лин.тренд) & order=c(3,0,0),\n",
       "    seasonal=c(2,0,0), include.drift = TRUE, include.constant = TRUE                                                        & order=c(4,0,0),\n",
       "    include.drift = TRUE, include.constant = TRUE                                                                           & NA                                                                                                                                          \\\\\n",
       "\tAR\\_2 (квадр. тренд) & order=c(3,0,0),\n",
       "    seasonal=c(2,0,0), include.drift = TRUE, include.constant = TRUE                                                        & order=c(4,0,0),\n",
       "    include.drift = TRUE, include.constant = TRUE                                                                           & NA                                                                                                                                          \\\\\n",
       "\tARMA (лин.тренд) & order=c(3,0,1),\n",
       "    seasonal=c(2,0,1), include.drift = TRUE, include.constant = TRUE                                                        & order=c(4,0,2),\n",
       "     include.drift = TRUE, include.constant = TRUE                                                                          & NA                                                                                                                                          \\\\\n",
       "\tARIMA & order=c(2,1,1),\n",
       "    seasonal=c(1,1,1), include.drift = FALSE, include.constant = FALSE                                                      & order=c(2,1,1),\n",
       "  include.drift = FALSE, include.constant = FALSE                                                                           & NA                                                                                                                                          \\\\\n",
       "\tARIMA (автом. подбор) &     stationary = FALSE, seasonal = TRUE, lambda=NULL, parallel=TRUE                                                                          &     stationary = FALSE, seasonal = FALSE, lambda=NULL, parallel=TRUE                                                                         & NA                                                                                                                                          \\\\\n",
       "\tETS & model=\"MMM\", damped = FALSE , lambda=NULL                                                                                                    & model=\"AAA\", damped = FALSE , lambda=NULL                                                                                                    & NA                                                                                                                                          \\\\\n",
       "\tETS (автом. подбор) & lambda=NULL                                                                                                                                  & lambda=NULL                                                                                                                                  & NA                                                                                                                                          \\\\\n",
       "\tTBATS & use.trend = TRUE, seasonal.periods = var\\_freq,\n",
       "       use.arma.errors=TRUE, use.parallel=TRUE , use.box.cox=FALSE,   use.damped.trend=FALSE & use.trend = TRUE, \n",
       "       use.arma.errors=TRUE, use.parallel=TRUE , use.box.cox=FALSE,   use.damped.trend=FALSE                               & NA                                                                                                                                            \\\\\n",
       "\\end{tabular}\n"
      ],
      "text/markdown": [
       "\n",
       "| <!--/--> | Квартальные | Сезонно сглаженные | Месячные | \n",
       "|---|---|---|---|---|---|---|---|---|---|\n",
       "| AR_1 (лин.тренд) | order=c(2,0,0), \n",
       "    seasonal=c(1,0,0), include.drift = TRUE, include.constant = TRUE                                                       | order=c(2,0,0), \n",
       "     include.drift = TRUE, include.constant = TRUE                                                                         | NA                                                                                                                                           | \n",
       "| ARI | order=c(3,1,0),\n",
       "    seasonal=c(2,1,0), include.drift = FALSE, include.constant = FALSE                                                      | order=c(3,1,0),\n",
       "    include.drift = FALSE, include.constant = FALSE                                                                         | NA                                                                                                                                           | \n",
       "| AR_2 (лин.тренд) | order=c(3,0,0),\n",
       "    seasonal=c(2,0,0), include.drift = TRUE, include.constant = TRUE                                                        | order=c(4,0,0),\n",
       "    include.drift = TRUE, include.constant = TRUE                                                                           | NA                                                                                                                                           | \n",
       "| AR_2 (квадр. тренд) | order=c(3,0,0),\n",
       "    seasonal=c(2,0,0), include.drift = TRUE, include.constant = TRUE                                                        | order=c(4,0,0),\n",
       "    include.drift = TRUE, include.constant = TRUE                                                                           | NA                                                                                                                                           | \n",
       "| ARMA (лин.тренд) | order=c(3,0,1),\n",
       "    seasonal=c(2,0,1), include.drift = TRUE, include.constant = TRUE                                                        | order=c(4,0,2),\n",
       "     include.drift = TRUE, include.constant = TRUE                                                                          | NA                                                                                                                                           | \n",
       "| ARIMA | order=c(2,1,1),\n",
       "    seasonal=c(1,1,1), include.drift = FALSE, include.constant = FALSE                                                      | order=c(2,1,1),\n",
       "  include.drift = FALSE, include.constant = FALSE                                                                           | NA                                                                                                                                           | \n",
       "| ARIMA (автом. подбор) |     stationary = FALSE, seasonal = TRUE, lambda=NULL, parallel=TRUE                                                                          |     stationary = FALSE, seasonal = FALSE, lambda=NULL, parallel=TRUE                                                                         | NA                                                                                                                                           | \n",
       "| ETS | model=\"MMM\", damped = FALSE , lambda=NULL                                                                                                    | model=\"AAA\", damped = FALSE , lambda=NULL                                                                                                    | NA                                                                                                                                           | \n",
       "| ETS (автом. подбор) | lambda=NULL                                                                                                                                  | lambda=NULL                                                                                                                                  | NA                                                                                                                                           | \n",
       "| TBATS | use.trend = TRUE, seasonal.periods = var_freq,\n",
       "       use.arma.errors=TRUE, use.parallel=TRUE , use.box.cox=FALSE,   use.damped.trend=FALSE | use.trend = TRUE, \n",
       "       use.arma.errors=TRUE, use.parallel=TRUE , use.box.cox=FALSE,   use.damped.trend=FALSE                             | NA                                                                                                                                           | \n",
       "\n",
       "\n"
      ],
      "text/plain": [
       "                      Квартальные                                                                                                                                 \n",
       "AR_1 (лин.тренд)      order=c(2,0,0), \\n    seasonal=c(1,0,0), include.drift = TRUE, include.constant = TRUE                                                      \n",
       "ARI                   order=c(3,1,0),\\n    seasonal=c(2,1,0), include.drift = FALSE, include.constant = FALSE                                                     \n",
       "AR_2 (лин.тренд)      order=c(3,0,0),\\n    seasonal=c(2,0,0), include.drift = TRUE, include.constant = TRUE                                                       \n",
       "AR_2 (квадр. тренд)   order=c(3,0,0),\\n    seasonal=c(2,0,0), include.drift = TRUE, include.constant = TRUE                                                       \n",
       "ARMA (лин.тренд)      order=c(3,0,1),\\n    seasonal=c(2,0,1), include.drift = TRUE, include.constant = TRUE                                                       \n",
       "ARIMA                 order=c(2,1,1),\\n    seasonal=c(1,1,1), include.drift = FALSE, include.constant = FALSE                                                     \n",
       "ARIMA (автом. подбор)     stationary = FALSE, seasonal = TRUE, lambda=NULL, parallel=TRUE                                                                         \n",
       "ETS                   model=\"MMM\", damped = FALSE , lambda=NULL                                                                                                   \n",
       "ETS (автом. подбор)   lambda=NULL                                                                                                                                 \n",
       "TBATS                 use.trend = TRUE, seasonal.periods = var_freq,\\n       use.arma.errors=TRUE, use.parallel=TRUE , use.box.cox=FALSE,   use.damped.trend=FALSE\n",
       "                      Сезонно сглаженные                                                                                              \n",
       "AR_1 (лин.тренд)      order=c(2,0,0), \\n     include.drift = TRUE, include.constant = TRUE                                            \n",
       "ARI                   order=c(3,1,0),\\n    include.drift = FALSE, include.constant = FALSE                                            \n",
       "AR_2 (лин.тренд)      order=c(4,0,0),\\n    include.drift = TRUE, include.constant = TRUE                                              \n",
       "AR_2 (квадр. тренд)   order=c(4,0,0),\\n    include.drift = TRUE, include.constant = TRUE                                              \n",
       "ARMA (лин.тренд)      order=c(4,0,2),\\n     include.drift = TRUE, include.constant = TRUE                                             \n",
       "ARIMA                 order=c(2,1,1),\\n  include.drift = FALSE, include.constant = FALSE                                              \n",
       "ARIMA (автом. подбор)     stationary = FALSE, seasonal = FALSE, lambda=NULL, parallel=TRUE                                            \n",
       "ETS                   model=\"AAA\", damped = FALSE , lambda=NULL                                                                       \n",
       "ETS (автом. подбор)   lambda=NULL                                                                                                     \n",
       "TBATS                 use.trend = TRUE, \\n       use.arma.errors=TRUE, use.parallel=TRUE , use.box.cox=FALSE,   use.damped.trend=FALSE\n",
       "                      Месячные\n",
       "AR_1 (лин.тренд)      NA      \n",
       "ARI                   NA      \n",
       "AR_2 (лин.тренд)      NA      \n",
       "AR_2 (квадр. тренд)   NA      \n",
       "ARMA (лин.тренд)      NA      \n",
       "ARIMA                 NA      \n",
       "ARIMA (автом. подбор) NA      \n",
       "ETS                   NA      \n",
       "ETS (автом. подбор)   NA      \n",
       "TBATS                 NA      "
      ]
     },
     "metadata": {},
     "output_type": "display_data"
    }
   ],
   "source": [
    "params"
   ]
  },
  {
   "cell_type": "markdown",
   "metadata": {},
   "source": [
    "\n",
    "## РФ\n"
   ]
  },
  {
   "cell_type": "code",
   "execution_count": 2,
   "metadata": {},
   "outputs": [],
   "source": [
    "df_eu  <-  read.csv(file=\"data_hts/hts_rus_summed.csv\", header=TRUE, sep=\",\", row.names =1 )"
   ]
  },
  {
   "cell_type": "code",
   "execution_count": 3,
   "metadata": {},
   "outputs": [],
   "source": [
    "df_eu  <-  df_eu"
   ]
  },
  {
   "cell_type": "code",
   "execution_count": null,
   "metadata": {},
   "outputs": [],
   "source": []
  },
  {
   "cell_type": "code",
   "execution_count": 4,
   "metadata": {},
   "outputs": [],
   "source": [
    "var_freq  <- 12    \n",
    "var_start_year  <- 2006"
   ]
  },
  {
   "cell_type": "code",
   "execution_count": 5,
   "metadata": {},
   "outputs": [],
   "source": [
    "gdp_agg <- df_eu_sums <-  rowSums(df_eu)\n",
    "gdp_agg  <- ts(gdp_agg, frequency = var_freq, start = var_start_year) "
   ]
  },
  {
   "cell_type": "code",
   "execution_count": 283,
   "metadata": {},
   "outputs": [],
   "source": [
    "train_end_year  <-  2016\n",
    "tset_start_year  <-  2017"
   ]
  },
  {
   "cell_type": "code",
   "execution_count": 284,
   "metadata": {},
   "outputs": [],
   "source": [
    "train <- window(gdp_agg, end=c(train_end_year,var_freq))\n",
    "test <- window(gdp_agg, start=c(tset_start_year,1))"
   ]
  },
  {
   "cell_type": "code",
   "execution_count": 285,
   "metadata": {},
   "outputs": [],
   "source": [
    "var_h  <- 24"
   ]
  },
  {
   "cell_type": "code",
   "execution_count": 286,
   "metadata": {},
   "outputs": [],
   "source": [
    "var_window  <-  96\n",
    "var_cv_low   <- 96\n",
    "var_cv_high   <- 156-24"
   ]
  },
  {
   "cell_type": "code",
   "execution_count": 289,
   "metadata": {},
   "outputs": [],
   "source": [
    "var_freq  <- 12    \n",
    "var_start_year  <- 2006   \n",
    "var_h  <- 24\n",
    "var_window  <-  84 - 1\n",
    "var_topup  <-  -1\n",
    "var_iter   <- (length(gdp_agg)+var_topup)/var_freq-(var_window+1)/var_freq-2"
   ]
  },
  {
   "cell_type": "code",
   "execution_count": 290,
   "metadata": {},
   "outputs": [],
   "source": [
    "var_cv_low   <- var_window + 1\n",
    "var_cv_high   <- length(gdp_agg) - var_h"
   ]
  },
  {
   "cell_type": "code",
   "execution_count": 291,
   "metadata": {},
   "outputs": [
    {
     "data": {
      "text/html": [
       "<ol class=list-inline>\n",
       "\t<li>2006</li>\n",
       "\t<li>2006.08333333333</li>\n",
       "\t<li>2006.16666666667</li>\n",
       "\t<li>2006.25</li>\n",
       "\t<li>2006.33333333333</li>\n",
       "\t<li>2006.41666666667</li>\n",
       "\t<li>2006.5</li>\n",
       "\t<li>2006.58333333333</li>\n",
       "\t<li>2006.66666666667</li>\n",
       "\t<li>2006.75</li>\n",
       "\t<li>2006.83333333333</li>\n",
       "\t<li>2006.91666666667</li>\n",
       "</ol>\n"
      ],
      "text/latex": [
       "\\begin{enumerate*}\n",
       "\\item 2006\n",
       "\\item 2006.08333333333\n",
       "\\item 2006.16666666667\n",
       "\\item 2006.25\n",
       "\\item 2006.33333333333\n",
       "\\item 2006.41666666667\n",
       "\\item 2006.5\n",
       "\\item 2006.58333333333\n",
       "\\item 2006.66666666667\n",
       "\\item 2006.75\n",
       "\\item 2006.83333333333\n",
       "\\item 2006.91666666667\n",
       "\\end{enumerate*}\n"
      ],
      "text/markdown": [
       "1. 2006\n",
       "2. 2006.08333333333\n",
       "3. 2006.16666666667\n",
       "4. 2006.25\n",
       "5. 2006.33333333333\n",
       "6. 2006.41666666667\n",
       "7. 2006.5\n",
       "8. 2006.58333333333\n",
       "9. 2006.66666666667\n",
       "10. 2006.75\n",
       "11. 2006.83333333333\n",
       "12. 2006.91666666667\n",
       "\n",
       "\n"
      ],
      "text/plain": [
       " [1] 2006.000 2006.083 2006.167 2006.250 2006.333 2006.417 2006.500 2006.583\n",
       " [9] 2006.667 2006.750 2006.833 2006.917"
      ]
     },
     "metadata": {},
     "output_type": "display_data"
    }
   ],
   "source": [
    "time(gdp_agg)[1:12]"
   ]
  },
  {
   "cell_type": "code",
   "execution_count": 292,
   "metadata": {},
   "outputs": [
    {
     "name": "stdout",
     "output_type": "stream",
     "text": [
      "[1] 2006.000 2012.917 2013.000 2014.917\n",
      "[1] 2007.000 2013.917 2014.000 2015.917\n",
      "[1] 2008.000 2014.917 2015.000 2016.917\n",
      "[1] 2009.000 2015.917 2016.000 2017.917\n",
      "[1] 2010.000 2016.917 2017.000 2018.917\n"
     ]
    }
   ],
   "source": [
    "ac <- c()\n",
    "for (i in 0:var_iter){\n",
    "    st_year  <-  var_start_year + i\n",
    "    train_start  <- st_year \n",
    "    train_end  <- st_year + 1/var_freq*(var_window)\n",
    "    test_start  <- st_year + 1/var_freq*(var_window+1) \n",
    "    test_end  <-  st_year + 1/var_freq*(var_window+var_h)\n",
    "    \n",
    "    print(c(train_start, train_end, test_start, test_end))\n",
    "    \n",
    "    }"
   ]
  },
  {
   "cell_type": "code",
   "execution_count": 293,
   "metadata": {},
   "outputs": [
    {
     "data": {
      "text/html": [
       "4"
      ],
      "text/latex": [
       "4"
      ],
      "text/markdown": [
       "4"
      ],
      "text/plain": [
       "[1] 4"
      ]
     },
     "metadata": {},
     "output_type": "display_data"
    }
   ],
   "source": [
    "var_iter"
   ]
  },
  {
   "cell_type": "markdown",
   "metadata": {},
   "source": [
    "### tsCV()"
   ]
  },
  {
   "cell_type": "markdown",
   "metadata": {},
   "source": [
    "model_ar(4)_lin"
   ]
  },
  {
   "cell_type": "code",
   "execution_count": 296,
   "metadata": {},
   "outputs": [
    {
     "data": {
      "text/html": [
       "15619.5993270657"
      ],
      "text/latex": [
       "15619.5993270657"
      ],
      "text/markdown": [
       "15619.5993270657"
      ],
      "text/plain": [
       "[1] 15619.6"
      ]
     },
     "metadata": {},
     "output_type": "display_data"
    }
   ],
   "source": [
    "gdp_arima_top_cv <- function(x, h){forecast(Arima(ts(x, \n",
    "    frequency = var_freq, start = var_start_year), order=c(2,0,0),\n",
    "    seasonal=c(2,0,0), include.drift = TRUE, include.constant = TRUE), h=h)}\n",
    "e_arima_top  <-  tsCV(gdp_agg, gdp_arima_top_cv, h=var_h, \n",
    "                      window=var_window)[var_cv_low:var_cv_high,]\n",
    "sqrt(mean(e_arima_top^2, na.rm=TRUE))"
   ]
  },
  {
   "cell_type": "code",
   "execution_count": 297,
   "metadata": {},
   "outputs": [
    {
     "data": {
      "text/html": [
       "15862.0448155443"
      ],
      "text/latex": [
       "15862.0448155443"
      ],
      "text/markdown": [
       "15862.0448155443"
      ],
      "text/plain": [
       "[1] 15862.04"
      ]
     },
     "metadata": {},
     "output_type": "display_data"
    }
   ],
   "source": [
    "gdp_arima_top_cv <- function(x, h){forecast(Arima(ts(x, \n",
    "    frequency = var_freq, start = var_start_year), order=c(4,0,0),\n",
    "    seasonal=c(2,0,0), include.drift = TRUE, include.constant = TRUE), h=h)}\n",
    "e_arima_top  <-  tsCV(gdp_agg, gdp_arima_top_cv, h=var_h, \n",
    "                      window=var_window)[var_cv_low:var_cv_high,]\n",
    "sqrt(mean(e_arima_top^2, na.rm=TRUE))"
   ]
  },
  {
   "cell_type": "code",
   "execution_count": 299,
   "metadata": {},
   "outputs": [
    {
     "data": {
      "text/html": [
       "16592.7763993962"
      ],
      "text/latex": [
       "16592.7763993962"
      ],
      "text/markdown": [
       "16592.7763993962"
      ],
      "text/plain": [
       "[1] 16592.78"
      ]
     },
     "metadata": {},
     "output_type": "display_data"
    }
   ],
   "source": [
    "gdp_arima_top_cv <- function(x, h){forecast(Arima(ts(x, \n",
    "    frequency = var_freq, start = var_start_year), order=c(2,0,0),\n",
    "    seasonal=c(1,0,0), include.drift = TRUE, include.constant = TRUE), h=h)}\n",
    "e_arima_top  <-  tsCV(gdp_agg, gdp_arima_top_cv, h=var_h, \n",
    "                      window=var_window)[var_cv_low:var_cv_high,]\n",
    "sqrt(mean(e_arima_top^2, na.rm=TRUE))"
   ]
  },
  {
   "cell_type": "code",
   "execution_count": 300,
   "metadata": {},
   "outputs": [
    {
     "data": {
      "text/html": [
       "16648.5796783447"
      ],
      "text/latex": [
       "16648.5796783447"
      ],
      "text/markdown": [
       "16648.5796783447"
      ],
      "text/plain": [
       "[1] 16648.58"
      ]
     },
     "metadata": {},
     "output_type": "display_data"
    }
   ],
   "source": [
    "gdp_arima_top_cv <- function(x, h){forecast(Arima(ts(x, \n",
    "    frequency = var_freq, start = var_start_year), order=c(3,0,0),\n",
    "    seasonal=c(1,0,0), include.drift = TRUE, include.constant = TRUE), h=h)}\n",
    "e_arima_top  <-  tsCV(gdp_agg, gdp_arima_top_cv, h=var_h, \n",
    "                      window=var_window)[var_cv_low:var_cv_high,]\n",
    "sqrt(mean(e_arima_top^2, na.rm=TRUE))"
   ]
  },
  {
   "cell_type": "code",
   "execution_count": 301,
   "metadata": {},
   "outputs": [
    {
     "data": {
      "text/html": [
       "16784.5873046874"
      ],
      "text/latex": [
       "16784.5873046874"
      ],
      "text/markdown": [
       "16784.5873046874"
      ],
      "text/plain": [
       "[1] 16784.59"
      ]
     },
     "metadata": {},
     "output_type": "display_data"
    }
   ],
   "source": [
    "gdp_arima_top_cv <- function(x, h){forecast(Arima(ts(x, \n",
    "    frequency = var_freq, start = var_start_year), order=c(4,0,0),\n",
    "    seasonal=c(1,0,0), include.drift = TRUE, include.constant = TRUE), h=h)}\n",
    "e_arima_top  <-  tsCV(gdp_agg, gdp_arima_top_cv, h=var_h, \n",
    "                      window=var_window)[var_cv_low:var_cv_high,]\n",
    "sqrt(mean(e_arima_top^2, na.rm=TRUE))"
   ]
  },
  {
   "cell_type": "code",
   "execution_count": 350,
   "metadata": {},
   "outputs": [],
   "source": [
    "params[1,3]  <-  'order=c(2,0,0),\n",
    "    seasonal=c(1,0,0), include.drift = TRUE, include.constant = TRUE)'"
   ]
  },
  {
   "cell_type": "code",
   "execution_count": 351,
   "metadata": {},
   "outputs": [
    {
     "data": {
      "text/html": [
       "<table>\n",
       "<thead><tr><th></th><th scope=col>Квартальные</th><th scope=col>Сезонно сглаженные</th><th scope=col>Месячные</th></tr></thead>\n",
       "<tbody>\n",
       "\t<tr><th scope=row>AR_1 (лин.тренд)</th><td>order=c(2,0,0), \n",
       "    seasonal=c(1,0,0), include.drift = TRUE, include.constant = TRUE                                                      </td><td>order=c(2,0,0), \n",
       "     include.drift = TRUE, include.constant = TRUE                                                                        </td><td>order=c(2,0,0),\n",
       "    seasonal=c(1,0,0), include.drift = TRUE, include.constant = TRUE)                                                      </td></tr>\n",
       "\t<tr><th scope=row>ARI</th><td>order=c(3,1,0),\n",
       "    seasonal=c(2,1,0), include.drift = FALSE, include.constant = FALSE                                                     </td><td>order=c(3,1,0),\n",
       "    include.drift = FALSE, include.constant = FALSE                                                                        </td><td>order=c(4,0,0),\n",
       "    seasonal=c(1,1,0), include.drift = FALSE, include.constant = FALSE                                                     </td></tr>\n",
       "\t<tr><th scope=row>AR_2 (лин.тренд)</th><td>order=c(3,0,0),\n",
       "    seasonal=c(2,0,0), include.drift = TRUE, include.constant = TRUE                                                       </td><td>order=c(4,0,0),\n",
       "    include.drift = TRUE, include.constant = TRUE                                                                          </td><td>order=c(11,0,0),\n",
       "    seasonal=c(2,0,0), include.drift = TRUE, include.constant = TRUE                                                      </td></tr>\n",
       "\t<tr><th scope=row>AR_2 (квадр. тренд)</th><td>order=c(3,0,0),\n",
       "    seasonal=c(2,0,0), include.drift = TRUE, include.constant = TRUE                                                       </td><td>order=c(4,0,0),\n",
       "    include.drift = TRUE, include.constant = TRUE                                                                          </td><td>order=c(11,0,0),\n",
       "    seasonal=c(2,0,0), include.drift = TRUE, include.constant = TRUE                                                      </td></tr>\n",
       "\t<tr><th scope=row>ARMA (лин.тренд)</th><td>order=c(3,0,1),\n",
       "    seasonal=c(2,0,1), include.drift = TRUE, include.constant = TRUE                                                       </td><td>order=c(4,0,2),\n",
       "     include.drift = TRUE, include.constant = TRUE                                                                         </td><td>order=c(4,0,1),\n",
       "    seasonal=c(1,0,1), include.drift = TRUE, include.constant = TRUE)                                                      </td></tr>\n",
       "\t<tr><th scope=row>ARIMA</th><td>order=c(2,1,1),\n",
       "    seasonal=c(1,1,1), include.drift = FALSE, include.constant = FALSE                                                     </td><td>order=c(2,1,1),\n",
       "  include.drift = FALSE, include.constant = FALSE                                                                          </td><td>order=c(4,1,1),\n",
       "    seasonal=c(1,1,1), include.drift = FALSE, include.constant = FALSE                                                     </td></tr>\n",
       "\t<tr><th scope=row>ARIMA (автом. подбор)</th><td>    stationary = FALSE, seasonal = TRUE, lambda=NULL, parallel=TRUE                                                                         </td><td>    stationary = FALSE, seasonal = FALSE, lambda=NULL, parallel=TRUE                                                                        </td><td>    stationary = FALSE, seasonal = TRUE, lambda=NULL, parallel=TRUE                                                                         </td></tr>\n",
       "\t<tr><th scope=row>ETS</th><td>model=\"MMM\", damped = FALSE , lambda=NULL                                                                                                   </td><td>model=\"AAA\", damped = FALSE , lambda=NULL                                                                                                   </td><td>model=\"AAA\", damped = TRUE , lambda=NULL                                                                                                    </td></tr>\n",
       "\t<tr><th scope=row>ETS (автом. подбор)</th><td>lambda=NULL                                                                                                                                 </td><td>lambda=NULL                                                                                                                                 </td><td>lambda=NULL                                                                                                                                 </td></tr>\n",
       "\t<tr><th scope=row>TBATS</th><td>use.trend = TRUE, seasonal.periods = var_freq,\n",
       "       use.arma.errors=TRUE, use.parallel=TRUE , use.box.cox=FALSE,   use.damped.trend=FALSE</td><td>use.trend = TRUE, \n",
       "       use.arma.errors=TRUE, use.parallel=TRUE , use.box.cox=FALSE,   use.damped.trend=FALSE                            </td><td>NA                                                                                                                                          </td></tr>\n",
       "</tbody>\n",
       "</table>\n"
      ],
      "text/latex": [
       "\\begin{tabular}{r|lll}\n",
       "  & Квартальные & Сезонно сглаженные & Месячные\\\\\n",
       "\\hline\n",
       "\tAR\\_1 (лин.тренд) & order=c(2,0,0), \n",
       "    seasonal=c(1,0,0), include.drift = TRUE, include.constant = TRUE                                                       & order=c(2,0,0), \n",
       "     include.drift = TRUE, include.constant = TRUE                                                                         & order=c(2,0,0),\n",
       "    seasonal=c(1,0,0), include.drift = TRUE, include.constant = TRUE)                                                      \\\\\n",
       "\tARI & order=c(3,1,0),\n",
       "    seasonal=c(2,1,0), include.drift = FALSE, include.constant = FALSE                                                      & order=c(3,1,0),\n",
       "    include.drift = FALSE, include.constant = FALSE                                                                         & order=c(4,0,0),\n",
       "    seasonal=c(1,1,0), include.drift = FALSE, include.constant = FALSE                                                     \\\\\n",
       "\tAR\\_2 (лин.тренд) & order=c(3,0,0),\n",
       "    seasonal=c(2,0,0), include.drift = TRUE, include.constant = TRUE                                                        & order=c(4,0,0),\n",
       "    include.drift = TRUE, include.constant = TRUE                                                                           & order=c(11,0,0),\n",
       "    seasonal=c(2,0,0), include.drift = TRUE, include.constant = TRUE                                                      \\\\\n",
       "\tAR\\_2 (квадр. тренд) & order=c(3,0,0),\n",
       "    seasonal=c(2,0,0), include.drift = TRUE, include.constant = TRUE                                                        & order=c(4,0,0),\n",
       "    include.drift = TRUE, include.constant = TRUE                                                                           & order=c(11,0,0),\n",
       "    seasonal=c(2,0,0), include.drift = TRUE, include.constant = TRUE                                                      \\\\\n",
       "\tARMA (лин.тренд) & order=c(3,0,1),\n",
       "    seasonal=c(2,0,1), include.drift = TRUE, include.constant = TRUE                                                        & order=c(4,0,2),\n",
       "     include.drift = TRUE, include.constant = TRUE                                                                          & order=c(4,0,1),\n",
       "    seasonal=c(1,0,1), include.drift = TRUE, include.constant = TRUE)                                                      \\\\\n",
       "\tARIMA & order=c(2,1,1),\n",
       "    seasonal=c(1,1,1), include.drift = FALSE, include.constant = FALSE                                                      & order=c(2,1,1),\n",
       "  include.drift = FALSE, include.constant = FALSE                                                                           & order=c(4,1,1),\n",
       "    seasonal=c(1,1,1), include.drift = FALSE, include.constant = FALSE                                                     \\\\\n",
       "\tARIMA (автом. подбор) &     stationary = FALSE, seasonal = TRUE, lambda=NULL, parallel=TRUE                                                                          &     stationary = FALSE, seasonal = FALSE, lambda=NULL, parallel=TRUE                                                                         &     stationary = FALSE, seasonal = TRUE, lambda=NULL, parallel=TRUE                                                                         \\\\\n",
       "\tETS & model=\"MMM\", damped = FALSE , lambda=NULL                                                                                                    & model=\"AAA\", damped = FALSE , lambda=NULL                                                                                                    & model=\"AAA\", damped = TRUE , lambda=NULL                                                                                                    \\\\\n",
       "\tETS (автом. подбор) & lambda=NULL                                                                                                                                  & lambda=NULL                                                                                                                                  & lambda=NULL                                                                                                                                 \\\\\n",
       "\tTBATS & use.trend = TRUE, seasonal.periods = var\\_freq,\n",
       "       use.arma.errors=TRUE, use.parallel=TRUE , use.box.cox=FALSE,   use.damped.trend=FALSE & use.trend = TRUE, \n",
       "       use.arma.errors=TRUE, use.parallel=TRUE , use.box.cox=FALSE,   use.damped.trend=FALSE                               & NA                                                                                                                                            \\\\\n",
       "\\end{tabular}\n"
      ],
      "text/markdown": [
       "\n",
       "| <!--/--> | Квартальные | Сезонно сглаженные | Месячные | \n",
       "|---|---|---|---|---|---|---|---|---|---|\n",
       "| AR_1 (лин.тренд) | order=c(2,0,0), \n",
       "    seasonal=c(1,0,0), include.drift = TRUE, include.constant = TRUE                                                       | order=c(2,0,0), \n",
       "     include.drift = TRUE, include.constant = TRUE                                                                         | order=c(2,0,0),\n",
       "    seasonal=c(1,0,0), include.drift = TRUE, include.constant = TRUE)                                                       | \n",
       "| ARI | order=c(3,1,0),\n",
       "    seasonal=c(2,1,0), include.drift = FALSE, include.constant = FALSE                                                      | order=c(3,1,0),\n",
       "    include.drift = FALSE, include.constant = FALSE                                                                         | order=c(4,0,0),\n",
       "    seasonal=c(1,1,0), include.drift = FALSE, include.constant = FALSE                                                      | \n",
       "| AR_2 (лин.тренд) | order=c(3,0,0),\n",
       "    seasonal=c(2,0,0), include.drift = TRUE, include.constant = TRUE                                                        | order=c(4,0,0),\n",
       "    include.drift = TRUE, include.constant = TRUE                                                                           | order=c(11,0,0),\n",
       "    seasonal=c(2,0,0), include.drift = TRUE, include.constant = TRUE                                                       | \n",
       "| AR_2 (квадр. тренд) | order=c(3,0,0),\n",
       "    seasonal=c(2,0,0), include.drift = TRUE, include.constant = TRUE                                                        | order=c(4,0,0),\n",
       "    include.drift = TRUE, include.constant = TRUE                                                                           | order=c(11,0,0),\n",
       "    seasonal=c(2,0,0), include.drift = TRUE, include.constant = TRUE                                                       | \n",
       "| ARMA (лин.тренд) | order=c(3,0,1),\n",
       "    seasonal=c(2,0,1), include.drift = TRUE, include.constant = TRUE                                                        | order=c(4,0,2),\n",
       "     include.drift = TRUE, include.constant = TRUE                                                                          | order=c(4,0,1),\n",
       "    seasonal=c(1,0,1), include.drift = TRUE, include.constant = TRUE)                                                       | \n",
       "| ARIMA | order=c(2,1,1),\n",
       "    seasonal=c(1,1,1), include.drift = FALSE, include.constant = FALSE                                                      | order=c(2,1,1),\n",
       "  include.drift = FALSE, include.constant = FALSE                                                                           | order=c(4,1,1),\n",
       "    seasonal=c(1,1,1), include.drift = FALSE, include.constant = FALSE                                                      | \n",
       "| ARIMA (автом. подбор) |     stationary = FALSE, seasonal = TRUE, lambda=NULL, parallel=TRUE                                                                          |     stationary = FALSE, seasonal = FALSE, lambda=NULL, parallel=TRUE                                                                         |     stationary = FALSE, seasonal = TRUE, lambda=NULL, parallel=TRUE                                                                          | \n",
       "| ETS | model=\"MMM\", damped = FALSE , lambda=NULL                                                                                                    | model=\"AAA\", damped = FALSE , lambda=NULL                                                                                                    | model=\"AAA\", damped = TRUE , lambda=NULL                                                                                                     | \n",
       "| ETS (автом. подбор) | lambda=NULL                                                                                                                                  | lambda=NULL                                                                                                                                  | lambda=NULL                                                                                                                                  | \n",
       "| TBATS | use.trend = TRUE, seasonal.periods = var_freq,\n",
       "       use.arma.errors=TRUE, use.parallel=TRUE , use.box.cox=FALSE,   use.damped.trend=FALSE | use.trend = TRUE, \n",
       "       use.arma.errors=TRUE, use.parallel=TRUE , use.box.cox=FALSE,   use.damped.trend=FALSE                             | NA                                                                                                                                           | \n",
       "\n",
       "\n"
      ],
      "text/plain": [
       "                      Квартальные                                                                                                                                 \n",
       "AR_1 (лин.тренд)      order=c(2,0,0), \\n    seasonal=c(1,0,0), include.drift = TRUE, include.constant = TRUE                                                      \n",
       "ARI                   order=c(3,1,0),\\n    seasonal=c(2,1,0), include.drift = FALSE, include.constant = FALSE                                                     \n",
       "AR_2 (лин.тренд)      order=c(3,0,0),\\n    seasonal=c(2,0,0), include.drift = TRUE, include.constant = TRUE                                                       \n",
       "AR_2 (квадр. тренд)   order=c(3,0,0),\\n    seasonal=c(2,0,0), include.drift = TRUE, include.constant = TRUE                                                       \n",
       "ARMA (лин.тренд)      order=c(3,0,1),\\n    seasonal=c(2,0,1), include.drift = TRUE, include.constant = TRUE                                                       \n",
       "ARIMA                 order=c(2,1,1),\\n    seasonal=c(1,1,1), include.drift = FALSE, include.constant = FALSE                                                     \n",
       "ARIMA (автом. подбор)     stationary = FALSE, seasonal = TRUE, lambda=NULL, parallel=TRUE                                                                         \n",
       "ETS                   model=\"MMM\", damped = FALSE , lambda=NULL                                                                                                   \n",
       "ETS (автом. подбор)   lambda=NULL                                                                                                                                 \n",
       "TBATS                 use.trend = TRUE, seasonal.periods = var_freq,\\n       use.arma.errors=TRUE, use.parallel=TRUE , use.box.cox=FALSE,   use.damped.trend=FALSE\n",
       "                      Сезонно сглаженные                                                                                              \n",
       "AR_1 (лин.тренд)      order=c(2,0,0), \\n     include.drift = TRUE, include.constant = TRUE                                            \n",
       "ARI                   order=c(3,1,0),\\n    include.drift = FALSE, include.constant = FALSE                                            \n",
       "AR_2 (лин.тренд)      order=c(4,0,0),\\n    include.drift = TRUE, include.constant = TRUE                                              \n",
       "AR_2 (квадр. тренд)   order=c(4,0,0),\\n    include.drift = TRUE, include.constant = TRUE                                              \n",
       "ARMA (лин.тренд)      order=c(4,0,2),\\n     include.drift = TRUE, include.constant = TRUE                                             \n",
       "ARIMA                 order=c(2,1,1),\\n  include.drift = FALSE, include.constant = FALSE                                              \n",
       "ARIMA (автом. подбор)     stationary = FALSE, seasonal = FALSE, lambda=NULL, parallel=TRUE                                            \n",
       "ETS                   model=\"AAA\", damped = FALSE , lambda=NULL                                                                       \n",
       "ETS (автом. подбор)   lambda=NULL                                                                                                     \n",
       "TBATS                 use.trend = TRUE, \\n       use.arma.errors=TRUE, use.parallel=TRUE , use.box.cox=FALSE,   use.damped.trend=FALSE\n",
       "                      Месячные                                                                               \n",
       "AR_1 (лин.тренд)      order=c(2,0,0),\\n    seasonal=c(1,0,0), include.drift = TRUE, include.constant = TRUE) \n",
       "ARI                   order=c(4,0,0),\\n    seasonal=c(1,1,0), include.drift = FALSE, include.constant = FALSE\n",
       "AR_2 (лин.тренд)      order=c(11,0,0),\\n    seasonal=c(2,0,0), include.drift = TRUE, include.constant = TRUE \n",
       "AR_2 (квадр. тренд)   order=c(11,0,0),\\n    seasonal=c(2,0,0), include.drift = TRUE, include.constant = TRUE \n",
       "ARMA (лин.тренд)      order=c(4,0,1),\\n    seasonal=c(1,0,1), include.drift = TRUE, include.constant = TRUE) \n",
       "ARIMA                 order=c(4,1,1),\\n    seasonal=c(1,1,1), include.drift = FALSE, include.constant = FALSE\n",
       "ARIMA (автом. подбор)     stationary = FALSE, seasonal = TRUE, lambda=NULL, parallel=TRUE                    \n",
       "ETS                   model=\"AAA\", damped = TRUE , lambda=NULL                                               \n",
       "ETS (автом. подбор)   lambda=NULL                                                                            \n",
       "TBATS                 NA                                                                                     "
      ]
     },
     "metadata": {},
     "output_type": "display_data"
    }
   ],
   "source": [
    "params"
   ]
  },
  {
   "cell_type": "markdown",
   "metadata": {},
   "source": [
    "model_ar(12)_lin"
   ]
  },
  {
   "cell_type": "code",
   "execution_count": 135,
   "metadata": {},
   "outputs": [
    {
     "data": {
      "text/html": [
       "12554.9057983161"
      ],
      "text/latex": [
       "12554.9057983161"
      ],
      "text/markdown": [
       "12554.9057983161"
      ],
      "text/plain": [
       "[1] 12554.91"
      ]
     },
     "metadata": {},
     "output_type": "display_data"
    }
   ],
   "source": [
    "gdp_arima_top_cv <- function(x, h){forecast(Arima(ts(x, \n",
    "    frequency = var_freq, start = var_start_year), order=c(11,0,0),\n",
    "    seasonal=c(2,0,0), include.drift = TRUE, include.constant = TRUE), h=h)}\n",
    "e_arima_top  <-  tsCV(gdp_agg, gdp_arima_top_cv, h=var_h, \n",
    "                      window=var_window)[var_cv_low:var_cv_high,]\n",
    "sqrt(mean(e_arima_top^2, na.rm=TRUE))"
   ]
  },
  {
   "cell_type": "code",
   "execution_count": 133,
   "metadata": {},
   "outputs": [
    {
     "data": {
      "text/html": [
       "13358.5564318511"
      ],
      "text/latex": [
       "13358.5564318511"
      ],
      "text/markdown": [
       "13358.5564318511"
      ],
      "text/plain": [
       "[1] 13358.56"
      ]
     },
     "metadata": {},
     "output_type": "display_data"
    }
   ],
   "source": [
    "gdp_arima_top_cv <- function(x, h){forecast(Arima(ts(x, \n",
    "    frequency = var_freq, start = var_start_year), order=c(9,0,0),\n",
    "    seasonal=c(2,0,0), include.drift = TRUE, include.constant = TRUE), h=h)}\n",
    "e_arima_top  <-  tsCV(gdp_agg, gdp_arima_top_cv, h=var_h, \n",
    "                      window=var_window)[var_cv_low:var_cv_high,]\n",
    "sqrt(mean(e_arima_top^2, na.rm=TRUE))"
   ]
  },
  {
   "cell_type": "code",
   "execution_count": 134,
   "metadata": {},
   "outputs": [
    {
     "data": {
      "text/html": [
       "13497.3659612604"
      ],
      "text/latex": [
       "13497.3659612604"
      ],
      "text/markdown": [
       "13497.3659612604"
      ],
      "text/plain": [
       "[1] 13497.37"
      ]
     },
     "metadata": {},
     "output_type": "display_data"
    }
   ],
   "source": [
    "gdp_arima_top_cv <- function(x, h){forecast(Arima(ts(x, \n",
    "    frequency = var_freq, start = var_start_year), order=c(10,0,0),\n",
    "    seasonal=c(2,0,0), include.drift = TRUE, include.constant = TRUE), h=h)}\n",
    "e_arima_top  <-  tsCV(gdp_agg, gdp_arima_top_cv, h=var_h, \n",
    "                      window=var_window)[var_cv_low:var_cv_high,]\n",
    "sqrt(mean(e_arima_top^2, na.rm=TRUE))"
   ]
  },
  {
   "cell_type": "code",
   "execution_count": 136,
   "metadata": {},
   "outputs": [
    {
     "data": {
      "text/html": [
       "13732.5065488872"
      ],
      "text/latex": [
       "13732.5065488872"
      ],
      "text/markdown": [
       "13732.5065488872"
      ],
      "text/plain": [
       "[1] 13732.51"
      ]
     },
     "metadata": {},
     "output_type": "display_data"
    }
   ],
   "source": [
    "gdp_arima_top_cv <- function(x, h){forecast(Arima(ts(x, \n",
    "    frequency = var_freq, start = var_start_year), order=c(8,0,0),\n",
    "    seasonal=c(2,0,0), include.drift = TRUE, include.constant = TRUE), h=h)}\n",
    "e_arima_top  <-  tsCV(gdp_agg, gdp_arima_top_cv, h=var_h, \n",
    "                      window=var_window)[var_cv_low:var_cv_high,]\n",
    "sqrt(mean(e_arima_top^2, na.rm=TRUE))"
   ]
  },
  {
   "cell_type": "code",
   "execution_count": 138,
   "metadata": {},
   "outputs": [
    {
     "data": {
      "text/html": [
       "13397.5407991149"
      ],
      "text/latex": [
       "13397.5407991149"
      ],
      "text/markdown": [
       "13397.5407991149"
      ],
      "text/plain": [
       "[1] 13397.54"
      ]
     },
     "metadata": {},
     "output_type": "display_data"
    }
   ],
   "source": [
    "gdp_arima_top_cv <- function(x, h){forecast(Arima(ts(x, \n",
    "    frequency = var_freq, start = var_start_year), order=c(6,0,0),\n",
    "    seasonal=c(2,0,0), include.drift = TRUE, include.constant = TRUE), h=h)}\n",
    "e_arima_top  <-  tsCV(gdp_agg, gdp_arima_top_cv, h=var_h, \n",
    "                      window=var_window)[var_cv_low:var_cv_high,]\n",
    "sqrt(mean(e_arima_top^2, na.rm=TRUE))"
   ]
  },
  {
   "cell_type": "code",
   "execution_count": 141,
   "metadata": {},
   "outputs": [
    {
     "data": {
      "text/html": [
       "14439.7163272651"
      ],
      "text/latex": [
       "14439.7163272651"
      ],
      "text/markdown": [
       "14439.7163272651"
      ],
      "text/plain": [
       "[1] 14439.72"
      ]
     },
     "metadata": {},
     "output_type": "display_data"
    }
   ],
   "source": [
    "gdp_arima_top_cv <- function(x, h){forecast(Arima(ts(x, \n",
    "    frequency = var_freq, start = var_start_year), order=c(7,0,0),\n",
    "    seasonal=c(2,0,0), include.drift = TRUE, include.constant = TRUE), h=h)}\n",
    "e_arima_top  <-  tsCV(gdp_agg, gdp_arima_top_cv, h=var_h, \n",
    "                      window=var_window)[var_cv_low:var_cv_high,]\n",
    "sqrt(mean(e_arima_top^2, na.rm=TRUE))"
   ]
  },
  {
   "cell_type": "code",
   "execution_count": 137,
   "metadata": {},
   "outputs": [
    {
     "data": {
      "text/html": [
       "15136.3284918594"
      ],
      "text/latex": [
       "15136.3284918594"
      ],
      "text/markdown": [
       "15136.3284918594"
      ],
      "text/plain": [
       "[1] 15136.33"
      ]
     },
     "metadata": {},
     "output_type": "display_data"
    }
   ],
   "source": [
    "gdp_arima_top_cv <- function(x, h){forecast(Arima(ts(x, \n",
    "    frequency = var_freq, start = var_start_year), order=c(9,0,0),\n",
    "    seasonal=c(3,0,0), include.drift = TRUE, include.constant = TRUE), h=h)}\n",
    "e_arima_top  <-  tsCV(gdp_agg, gdp_arima_top_cv, h=var_h, \n",
    "                      window=var_window)[var_cv_low:var_cv_high,]\n",
    "sqrt(mean(e_arima_top^2, na.rm=TRUE))"
   ]
  },
  {
   "cell_type": "code",
   "execution_count": 139,
   "metadata": {},
   "outputs": [
    {
     "data": {
      "text/html": [
       "15498.6690295541"
      ],
      "text/latex": [
       "15498.6690295541"
      ],
      "text/markdown": [
       "15498.6690295541"
      ],
      "text/plain": [
       "[1] 15498.67"
      ]
     },
     "metadata": {},
     "output_type": "display_data"
    }
   ],
   "source": [
    "gdp_arima_top_cv <- function(x, h){forecast(Arima(ts(x, \n",
    "    frequency = var_freq, start = var_start_year), order=c(5,0,0),\n",
    "    seasonal=c(2,0,0), include.drift = TRUE, include.constant = TRUE), h=h)}\n",
    "e_arima_top  <-  tsCV(gdp_agg, gdp_arima_top_cv, h=var_h, \n",
    "                      window=var_window)[var_cv_low:var_cv_high,]\n",
    "sqrt(mean(e_arima_top^2, na.rm=TRUE))"
   ]
  },
  {
   "cell_type": "code",
   "execution_count": 144,
   "metadata": {},
   "outputs": [
    {
     "data": {
      "text/html": [
       "15655.9976574117"
      ],
      "text/latex": [
       "15655.9976574117"
      ],
      "text/markdown": [
       "15655.9976574117"
      ],
      "text/plain": [
       "[1] 15656"
      ]
     },
     "metadata": {},
     "output_type": "display_data"
    }
   ],
   "source": [
    "gdp_arima_top_cv <- function(x, h){forecast(Arima(ts(x, \n",
    "    frequency = var_freq, start = var_start_year), order=c(11,0,0),\n",
    "    seasonal=c(1,0,0), include.drift = TRUE, include.constant = TRUE), h=h)}\n",
    "e_arima_top  <-  tsCV(gdp_agg, gdp_arima_top_cv, h=var_h, \n",
    "                      window=var_window)[var_cv_low:var_cv_high,]\n",
    "sqrt(mean(e_arima_top^2, na.rm=TRUE))"
   ]
  },
  {
   "cell_type": "code",
   "execution_count": 221,
   "metadata": {
    "scrolled": true
   },
   "outputs": [
    {
     "data": {
      "text/html": [
       "444.402988143968"
      ],
      "text/latex": [
       "444.402988143968"
      ],
      "text/markdown": [
       "444.402988143968"
      ],
      "text/plain": [
       "[1] 444.403"
      ]
     },
     "metadata": {},
     "output_type": "display_data"
    }
   ],
   "source": [
    "gdp_arima_top_cv <- function(x, h){forecast(Arima(ts(x, \n",
    "    frequency = var_freq, start = var_start_year), order=c(4,0,0), \n",
    "    include.drift = TRUE, include.constant = TRUE), h=h)}\n",
    "e_arima_top  <-  tsCV(gdp_agg, gdp_arima_top_cv, h=var_h, \n",
    "                      window=var_window)[var_cv_low:var_cv_high,]\n",
    "sqrt(mean(e_arima_top^2, na.rm=TRUE))"
   ]
  },
  {
   "cell_type": "code",
   "execution_count": 223,
   "metadata": {},
   "outputs": [
    {
     "data": {
      "text/html": [
       "538.544225539774"
      ],
      "text/latex": [
       "538.544225539774"
      ],
      "text/markdown": [
       "538.544225539774"
      ],
      "text/plain": [
       "[1] 538.5442"
      ]
     },
     "metadata": {},
     "output_type": "display_data"
    }
   ],
   "source": [
    "gdp_arima_top_cv <- function(x, h){forecast(Arima(ts(x, \n",
    "    frequency = var_freq, start = var_start_year), order=c(8,0,0), \n",
    "    include.drift = TRUE, include.constant = TRUE), h=h)}\n",
    "e_arima_top  <-  tsCV(gdp_agg, gdp_arima_top_cv, h=var_h, \n",
    "                      window=var_window)[var_cv_low:var_cv_high,]\n",
    "sqrt(mean(e_arima_top^2, na.rm=TRUE))"
   ]
  },
  {
   "cell_type": "code",
   "execution_count": 304,
   "metadata": {},
   "outputs": [],
   "source": [
    "params[3,3]  <-  'order=c(11,0,0),\n",
    "    seasonal=c(2,0,0), include.drift = TRUE, include.constant = TRUE'"
   ]
  },
  {
   "cell_type": "markdown",
   "metadata": {},
   "source": [
    "model_ar(12)_poly"
   ]
  },
  {
   "cell_type": "code",
   "execution_count": 305,
   "metadata": {},
   "outputs": [],
   "source": [
    "params[4,3]  <- params[3,3] "
   ]
  },
  {
   "cell_type": "markdown",
   "metadata": {},
   "source": [
    "model_ari"
   ]
  },
  {
   "cell_type": "code",
   "execution_count": 312,
   "metadata": {},
   "outputs": [
    {
     "data": {
      "text/html": [
       "9575.4075445483"
      ],
      "text/latex": [
       "9575.4075445483"
      ],
      "text/markdown": [
       "9575.4075445483"
      ],
      "text/plain": [
       "[1] 9575.408"
      ]
     },
     "metadata": {},
     "output_type": "display_data"
    }
   ],
   "source": [
    "gdp_arima_top_cv <- function(x, h){forecast(Arima(ts(x, \n",
    "    frequency = var_freq, start = var_start_year), order=c(4,0,0),\n",
    "    seasonal=c(1,1,0), include.drift = FALSE, include.constant = FALSE), h=h)}\n",
    "e_arima_top  <-  tsCV(gdp_agg, gdp_arima_top_cv, h=var_h, \n",
    "                      window=var_window)[var_cv_low:var_cv_high,]\n",
    "sqrt(mean(e_arima_top^2, na.rm=TRUE))"
   ]
  },
  {
   "cell_type": "code",
   "execution_count": 313,
   "metadata": {},
   "outputs": [
    {
     "data": {
      "text/html": [
       "9582.4705632629"
      ],
      "text/latex": [
       "9582.4705632629"
      ],
      "text/markdown": [
       "9582.4705632629"
      ],
      "text/plain": [
       "[1] 9582.471"
      ]
     },
     "metadata": {},
     "output_type": "display_data"
    }
   ],
   "source": [
    "gdp_arima_top_cv <- function(x, h){forecast(Arima(ts(x, \n",
    "    frequency = var_freq, start = var_start_year), order=c(5,0,0),\n",
    "    seasonal=c(1,1,0), include.drift = FALSE, include.constant = FALSE), h=h)}\n",
    "e_arima_top  <-  tsCV(gdp_agg, gdp_arima_top_cv, h=var_h, \n",
    "                      window=var_window)[var_cv_low:var_cv_high,]\n",
    "sqrt(mean(e_arima_top^2, na.rm=TRUE))"
   ]
  },
  {
   "cell_type": "code",
   "execution_count": 314,
   "metadata": {},
   "outputs": [
    {
     "data": {
      "text/html": [
       "9589.85902363148"
      ],
      "text/latex": [
       "9589.85902363148"
      ],
      "text/markdown": [
       "9589.85902363148"
      ],
      "text/plain": [
       "[1] 9589.859"
      ]
     },
     "metadata": {},
     "output_type": "display_data"
    }
   ],
   "source": [
    "gdp_arima_top_cv <- function(x, h){forecast(Arima(ts(x, \n",
    "    frequency = var_freq, start = var_start_year), order=c(3,0,0),\n",
    "    seasonal=c(1,1,0), include.drift = FALSE, include.constant = FALSE), h=h)}\n",
    "e_arima_top  <-  tsCV(gdp_agg, gdp_arima_top_cv, h=var_h, \n",
    "                      window=var_window)[var_cv_low:var_cv_high,]\n",
    "sqrt(mean(e_arima_top^2, na.rm=TRUE))"
   ]
  },
  {
   "cell_type": "code",
   "execution_count": 315,
   "metadata": {},
   "outputs": [
    {
     "data": {
      "text/html": [
       "10792.6016098025"
      ],
      "text/latex": [
       "10792.6016098025"
      ],
      "text/markdown": [
       "10792.6016098025"
      ],
      "text/plain": [
       "[1] 10792.6"
      ]
     },
     "metadata": {},
     "output_type": "display_data"
    }
   ],
   "source": [
    "gdp_arima_top_cv <- function(x, h){forecast(Arima(ts(x, \n",
    "    frequency = var_freq, start = var_start_year), order=c(4,0,0),\n",
    "    seasonal=c(2,1,0), include.drift = FALSE, include.constant = FALSE), h=h)}\n",
    "e_arima_top  <-  tsCV(gdp_agg, gdp_arima_top_cv, h=var_h, \n",
    "                      window=var_window)[var_cv_low:var_cv_high,]\n",
    "sqrt(mean(e_arima_top^2, na.rm=TRUE))"
   ]
  },
  {
   "cell_type": "code",
   "execution_count": 308,
   "metadata": {},
   "outputs": [
    {
     "data": {
      "text/html": [
       "10527.0826938967"
      ],
      "text/latex": [
       "10527.0826938967"
      ],
      "text/markdown": [
       "10527.0826938967"
      ],
      "text/plain": [
       "[1] 10527.08"
      ]
     },
     "metadata": {},
     "output_type": "display_data"
    }
   ],
   "source": [
    "gdp_arima_top_cv <- function(x, h){forecast(Arima(ts(x, \n",
    "    frequency = var_freq, start = var_start_year), order=c(4,1,0),\n",
    "    seasonal=c(1,1,0), include.drift = FALSE, include.constant = FALSE), h=h)}\n",
    "e_arima_top  <-  tsCV(gdp_agg, gdp_arima_top_cv, h=var_h, \n",
    "                      window=var_window)[var_cv_low:var_cv_high,]\n",
    "sqrt(mean(e_arima_top^2, na.rm=TRUE))"
   ]
  },
  {
   "cell_type": "code",
   "execution_count": 311,
   "metadata": {},
   "outputs": [
    {
     "data": {
      "text/html": [
       "12772.6502201613"
      ],
      "text/latex": [
       "12772.6502201613"
      ],
      "text/markdown": [
       "12772.6502201613"
      ],
      "text/plain": [
       "[1] 12772.65"
      ]
     },
     "metadata": {},
     "output_type": "display_data"
    }
   ],
   "source": [
    "gdp_arima_top_cv <- function(x, h){forecast(Arima(ts(x, \n",
    "    frequency = var_freq, start = var_start_year), order=c(4,1,0),\n",
    "    seasonal=c(1,0,0), include.drift = FALSE, include.constant = FALSE), h=h)}\n",
    "e_arima_top  <-  tsCV(gdp_agg, gdp_arima_top_cv, h=var_h, \n",
    "                      window=var_window)[var_cv_low:var_cv_high,]\n",
    "sqrt(mean(e_arima_top^2, na.rm=TRUE))"
   ]
  },
  {
   "cell_type": "code",
   "execution_count": 310,
   "metadata": {},
   "outputs": [
    {
     "data": {
      "text/html": [
       "10667.1278726235"
      ],
      "text/latex": [
       "10667.1278726235"
      ],
      "text/markdown": [
       "10667.1278726235"
      ],
      "text/plain": [
       "[1] 10667.13"
      ]
     },
     "metadata": {},
     "output_type": "display_data"
    }
   ],
   "source": [
    "gdp_arima_top_cv <- function(x, h){forecast(Arima(ts(x, \n",
    "    frequency = var_freq, start = var_start_year), order=c(5,1,0),\n",
    "    seasonal=c(1,1,0), include.drift = FALSE, include.constant = FALSE), h=h)}\n",
    "e_arima_top  <-  tsCV(gdp_agg, gdp_arima_top_cv, h=var_h, \n",
    "                      window=var_window)[var_cv_low:var_cv_high,]\n",
    "sqrt(mean(e_arima_top^2, na.rm=TRUE))"
   ]
  },
  {
   "cell_type": "code",
   "execution_count": 309,
   "metadata": {},
   "outputs": [
    {
     "data": {
      "text/html": [
       "10701.8944018085"
      ],
      "text/latex": [
       "10701.8944018085"
      ],
      "text/markdown": [
       "10701.8944018085"
      ],
      "text/plain": [
       "[1] 10701.89"
      ]
     },
     "metadata": {},
     "output_type": "display_data"
    }
   ],
   "source": [
    "gdp_arima_top_cv <- function(x, h){forecast(Arima(ts(x, \n",
    "    frequency = var_freq, start = var_start_year), order=c(3,1,0),\n",
    "    seasonal=c(1,1,0), include.drift = FALSE, include.constant = FALSE), h=h)}\n",
    "e_arima_top  <-  tsCV(gdp_agg, gdp_arima_top_cv, h=var_h, \n",
    "                      window=var_window)[var_cv_low:var_cv_high,]\n",
    "sqrt(mean(e_arima_top^2, na.rm=TRUE))"
   ]
  },
  {
   "cell_type": "code",
   "execution_count": 306,
   "metadata": {},
   "outputs": [
    {
     "data": {
      "text/html": [
       "10462.0194682554"
      ],
      "text/latex": [
       "10462.0194682554"
      ],
      "text/markdown": [
       "10462.0194682554"
      ],
      "text/plain": [
       "[1] 10462.02"
      ]
     },
     "metadata": {},
     "output_type": "display_data"
    }
   ],
   "source": [
    "gdp_arima_top_cv <- function(x, h){forecast(Arima(ts(x, \n",
    "    frequency = var_freq, start = var_start_year), order=c(3,1,0),\n",
    "    seasonal=c(3,1,0)), h=h)}\n",
    "e_arima_top  <-  tsCV(gdp_agg, gdp_arima_top_cv, h=var_h, \n",
    "                      window=var_window)[var_cv_low:var_cv_high,]\n",
    "sqrt(mean(e_arima_top^2, na.rm=TRUE))"
   ]
  },
  {
   "cell_type": "code",
   "execution_count": 307,
   "metadata": {},
   "outputs": [
    {
     "data": {
      "text/html": [
       "12062.809671481"
      ],
      "text/latex": [
       "12062.809671481"
      ],
      "text/markdown": [
       "12062.809671481"
      ],
      "text/plain": [
       "[1] 12062.81"
      ]
     },
     "metadata": {},
     "output_type": "display_data"
    }
   ],
   "source": [
    "gdp_arima_top_cv <- function(x, h){forecast(Arima(ts(x, \n",
    "    frequency = var_freq, start = var_start_year), order=c(2,1,0),\n",
    "    seasonal=c(2,1,0)), h=h)}\n",
    "e_arima_top  <-  tsCV(gdp_agg, gdp_arima_top_cv, h=var_h, \n",
    "                      window=var_window)[var_cv_low:var_cv_high,]\n",
    "sqrt(mean(e_arima_top^2, na.rm=TRUE))"
   ]
  },
  {
   "cell_type": "code",
   "execution_count": 316,
   "metadata": {},
   "outputs": [],
   "source": [
    "params[2,3]  <-  'order=c(4,0,0),\n",
    "    seasonal=c(1,1,0), include.drift = FALSE, include.constant = FALSE'"
   ]
  },
  {
   "cell_type": "markdown",
   "metadata": {},
   "source": [
    "model_arma_lin"
   ]
  },
  {
   "cell_type": "code",
   "execution_count": 322,
   "metadata": {},
   "outputs": [
    {
     "data": {
      "text/html": [
       "17731.2015055522"
      ],
      "text/latex": [
       "17731.2015055522"
      ],
      "text/markdown": [
       "17731.2015055522"
      ],
      "text/plain": [
       "[1] 17731.2"
      ]
     },
     "metadata": {},
     "output_type": "display_data"
    }
   ],
   "source": [
    "gdp_arima_top_cv <- function(x, h){forecast(Arima(ts(x, \n",
    "    frequency = var_freq, start = var_start_year), order=c(4,0,2),\n",
    "    seasonal=c(1,0,1), include.drift = TRUE, include.constant = TRUE), h=h)}\n",
    "e_arima_top  <-  tsCV(gdp_agg, gdp_arima_top_cv, h=var_h, \n",
    "                      window=var_window)[var_cv_low:var_cv_high,]\n",
    "sqrt(mean(e_arima_top^2, na.rm=TRUE))"
   ]
  },
  {
   "cell_type": "code",
   "execution_count": 323,
   "metadata": {},
   "outputs": [
    {
     "data": {
      "text/html": [
       "17055.8732888186"
      ],
      "text/latex": [
       "17055.8732888186"
      ],
      "text/markdown": [
       "17055.8732888186"
      ],
      "text/plain": [
       "[1] 17055.87"
      ]
     },
     "metadata": {},
     "output_type": "display_data"
    }
   ],
   "source": [
    "gdp_arima_top_cv <- function(x, h){forecast(Arima(ts(x, \n",
    "    frequency = var_freq, start = var_start_year), order=c(4,0,1),\n",
    "    seasonal=c(1,0,1), include.drift = TRUE, include.constant = TRUE), h=h)}\n",
    "e_arima_top  <-  tsCV(gdp_agg, gdp_arima_top_cv, h=var_h, \n",
    "                      window=var_window)[var_cv_low:var_cv_high,]\n",
    "sqrt(mean(e_arima_top^2, na.rm=TRUE))"
   ]
  },
  {
   "cell_type": "code",
   "execution_count": 324,
   "metadata": {},
   "outputs": [],
   "source": [
    "params[5,3]  <- 'order=c(4,0,1),\n",
    "    seasonal=c(1,0,1), include.drift = TRUE, include.constant = TRUE)'"
   ]
  },
  {
   "cell_type": "markdown",
   "metadata": {},
   "source": [
    "model_arima"
   ]
  },
  {
   "cell_type": "code",
   "execution_count": 332,
   "metadata": {
    "scrolled": true
   },
   "outputs": [
    {
     "data": {
      "text/html": [
       "12995.683372925"
      ],
      "text/latex": [
       "12995.683372925"
      ],
      "text/markdown": [
       "12995.683372925"
      ],
      "text/plain": [
       "[1] 12995.68"
      ]
     },
     "metadata": {},
     "output_type": "display_data"
    }
   ],
   "source": [
    "gdp_arima_top_cv <- function(x, h){forecast(Arima(ts(x, \n",
    "    frequency = var_freq, start = var_start_year), order=c(4,1,1),\n",
    "    seasonal=c(1,1,1), include.drift = FALSE, include.constant = FALSE), h=h)}\n",
    "e_arima_top  <-  tsCV(gdp_agg, gdp_arima_top_cv, h=var_h, \n",
    "                      window=var_window)[var_cv_low:var_cv_high,]\n",
    "sqrt(mean(e_arima_top^2, na.rm=TRUE))"
   ]
  },
  {
   "cell_type": "code",
   "execution_count": 326,
   "metadata": {},
   "outputs": [
    {
     "data": {
      "text/html": [
       "14238.8812388127"
      ],
      "text/latex": [
       "14238.8812388127"
      ],
      "text/markdown": [
       "14238.8812388127"
      ],
      "text/plain": [
       "[1] 14238.88"
      ]
     },
     "metadata": {},
     "output_type": "display_data"
    }
   ],
   "source": [
    "gdp_arima_top_cv <- function(x, h){forecast(Arima(ts(x, \n",
    "    frequency = var_freq, start = var_start_year), order=c(2,1,2),\n",
    "    seasonal=c(2,1,2)), h=h)}\n",
    "e_arima_top  <-  tsCV(gdp_agg, gdp_arima_top_cv, h=var_h, \n",
    "                      window=var_window)[var_cv_low:var_cv_high,]\n",
    "sqrt(mean(e_arima_top^2, na.rm=TRUE))"
   ]
  },
  {
   "cell_type": "code",
   "execution_count": 328,
   "metadata": {},
   "outputs": [
    {
     "data": {
      "text/html": [
       "17302.7717487648"
      ],
      "text/latex": [
       "17302.7717487648"
      ],
      "text/markdown": [
       "17302.7717487648"
      ],
      "text/plain": [
       "[1] 17302.77"
      ]
     },
     "metadata": {},
     "output_type": "display_data"
    }
   ],
   "source": [
    "gdp_arima_top_cv <- function(x, h){forecast(Arima(ts(x, \n",
    "    frequency = var_freq, start = var_start_year), order=c(4,0,1),\n",
    "    seasonal=c(1,1,1), include.drift = TRUE, include.constant = TRUE), h=h)}\n",
    "e_arima_top  <-  tsCV(gdp_agg, gdp_arima_top_cv, h=var_h, \n",
    "                      window=var_window)[var_cv_low:var_cv_high,]\n",
    "sqrt(mean(e_arima_top^2, na.rm=TRUE))"
   ]
  },
  {
   "cell_type": "code",
   "execution_count": 333,
   "metadata": {},
   "outputs": [],
   "source": [
    "params[6,3]  <-  'order=c(4,1,1),\n",
    "    seasonal=c(1,1,1), include.drift = FALSE, include.constant = FALSE'"
   ]
  },
  {
   "cell_type": "markdown",
   "metadata": {},
   "source": [
    "model_auto.arima\n"
   ]
  },
  {
   "cell_type": "code",
   "execution_count": 334,
   "metadata": {},
   "outputs": [
    {
     "data": {
      "text/html": [
       "16158.7168868483"
      ],
      "text/latex": [
       "16158.7168868483"
      ],
      "text/markdown": [
       "16158.7168868483"
      ],
      "text/plain": [
       "[1] 16158.72"
      ]
     },
     "metadata": {},
     "output_type": "display_data"
    }
   ],
   "source": [
    "gdp_arima_top_cv <- function(x, h){forecast(auto.arima(ts(x, \n",
    "    frequency = var_freq, start = var_start_year), \n",
    "    stationary = FALSE, seasonal = TRUE, lambda=NULL, parallel=TRUE), h=h)}\n",
    "e_arima_top  <-  tsCV(gdp_agg, gdp_arima_top_cv, h=var_h, \n",
    "                      window=var_window)[var_cv_low:var_cv_high,]\n",
    "sqrt(mean(e_arima_top^2, na.rm=TRUE))"
   ]
  },
  {
   "cell_type": "code",
   "execution_count": 335,
   "metadata": {},
   "outputs": [],
   "source": [
    "params[7,3]  <-  '    stationary = FALSE, seasonal = TRUE, lambda=NULL, parallel=TRUE'"
   ]
  },
  {
   "cell_type": "markdown",
   "metadata": {},
   "source": [
    "model_ets"
   ]
  },
  {
   "cell_type": "code",
   "execution_count": 337,
   "metadata": {},
   "outputs": [
    {
     "data": {
      "text/html": [
       "10789.221557403"
      ],
      "text/latex": [
       "10789.221557403"
      ],
      "text/markdown": [
       "10789.221557403"
      ],
      "text/plain": [
       "[1] 10789.22"
      ]
     },
     "metadata": {},
     "output_type": "display_data"
    }
   ],
   "source": [
    "gdp_arima_top_cv <- function(x, h){forecast(ets(ts(x, \n",
    "    frequency = var_freq, start = var_start_year), model=\"AAA\",  damped = TRUE , lambda=NULL), h=h)}\n",
    "e_arima_top  <-  tsCV(gdp_agg, gdp_arima_top_cv, h=var_h, \n",
    "                      window=var_window)[var_cv_low:var_cv_high,]\n",
    "sqrt(mean(e_arima_top^2, na.rm=TRUE))"
   ]
  },
  {
   "cell_type": "code",
   "execution_count": 336,
   "metadata": {},
   "outputs": [
    {
     "data": {
      "text/html": [
       "16734.3540165819"
      ],
      "text/latex": [
       "16734.3540165819"
      ],
      "text/markdown": [
       "16734.3540165819"
      ],
      "text/plain": [
       "[1] 16734.35"
      ]
     },
     "metadata": {},
     "output_type": "display_data"
    }
   ],
   "source": [
    "gdp_arima_top_cv <- function(x, h){forecast(ets(ts(x, \n",
    "    frequency = var_freq, start = var_start_year), model=\"AAA\" ,  damped = FALSE,lambda=NULL), h=h)}\n",
    "e_arima_top  <-  tsCV(gdp_agg, gdp_arima_top_cv, h=var_h, \n",
    "                      window=var_window)[var_cv_low:var_cv_high,]\n",
    "sqrt(mean(e_arima_top^2, na.rm=TRUE))"
   ]
  },
  {
   "cell_type": "code",
   "execution_count": 346,
   "metadata": {},
   "outputs": [],
   "source": [
    "params[8,3]  <-  'model=\"AAA\", damped = TRUE , lambda=NULL'"
   ]
  },
  {
   "cell_type": "code",
   "execution_count": 342,
   "metadata": {},
   "outputs": [
    {
     "data": {
      "text/html": [
       "11527.5223357169"
      ],
      "text/latex": [
       "11527.5223357169"
      ],
      "text/markdown": [
       "11527.5223357169"
      ],
      "text/plain": [
       "[1] 11527.52"
      ]
     },
     "metadata": {},
     "output_type": "display_data"
    }
   ],
   "source": [
    "gdp_arima_top_cv <- function(x, h){forecast(ets(ts(x, \n",
    "    frequency = var_freq, start = var_start_year), lambda=NULL), h=h)}\n",
    "e_arima_top  <-  tsCV(gdp_agg, gdp_arima_top_cv, h=var_h, \n",
    "                      window=var_window)[var_cv_low:var_cv_high,]\n",
    "sqrt(mean(e_arima_top^2, na.rm=TRUE))"
   ]
  },
  {
   "cell_type": "code",
   "execution_count": 344,
   "metadata": {},
   "outputs": [],
   "source": [
    "params[9,3]  <-  'lambda=NULL'"
   ]
  },
  {
   "cell_type": "markdown",
   "metadata": {},
   "source": [
    "model_tbats"
   ]
  },
  {
   "cell_type": "code",
   "execution_count": 370,
   "metadata": {},
   "outputs": [
    {
     "data": {
      "text/html": [
       "10360.008043189"
      ],
      "text/latex": [
       "10360.008043189"
      ],
      "text/markdown": [
       "10360.008043189"
      ],
      "text/plain": [
       "[1] 10360.01"
      ]
     },
     "metadata": {},
     "output_type": "display_data"
    }
   ],
   "source": [
    "gdp_arima_top_cv <- function(x, h){forecast(tbats(ts(x, \n",
    "    frequency = var_freq, start = var_start_year), use.trend = TRUE, seasonal.periods = var_freq,\n",
    "       use.arma.errors=TRUE, use.parallel=TRUE , use.box.cox=FALSE,   use.damped.trend=TRUE\n",
    "  ), h=h)}\n",
    "e_arima_top  <-  tsCV(gdp_agg, gdp_arima_top_cv, h=var_h, \n",
    "                      window=var_window)[var_cv_low:var_cv_high,]\n",
    "sqrt(mean(e_arima_top^2, na.rm=TRUE))"
   ]
  },
  {
   "cell_type": "code",
   "execution_count": 372,
   "metadata": {},
   "outputs": [],
   "source": [
    "params[10,3]  <-  'use.trend = TRUE, seasonal.periods = var_freq,\n",
    "       use.arma.errors=TRUE, use.parallel=TRUE , use.box.cox=FALSE,   use.damped.trend=TRUE'"
   ]
  },
  {
   "cell_type": "code",
   "execution_count": 368,
   "metadata": {},
   "outputs": [
    {
     "data": {
      "text/html": [
       "12847.1904208559"
      ],
      "text/latex": [
       "12847.1904208559"
      ],
      "text/markdown": [
       "12847.1904208559"
      ],
      "text/plain": [
       "[1] 12847.19"
      ]
     },
     "metadata": {},
     "output_type": "display_data"
    }
   ],
   "source": [
    "gdp_arima_top_cv <- function(x, h){forecast(tbats(ts(x, \n",
    "    frequency = var_freq, start = var_start_year), use.trend = TRUE, seasonal.periods = var_freq,\n",
    "       use.arma.errors=TRUE, use.parallel=TRUE , use.box.cox=FALSE,   use.damped.trend=FALSE\n",
    "  ), h=h)}\n",
    "e_arima_top  <-  tsCV(gdp_agg, gdp_arima_top_cv, h=var_h, \n",
    "                      window=var_window)[var_cv_low:var_cv_high,]\n",
    "sqrt(mean(e_arima_top^2, na.rm=TRUE))"
   ]
  },
  {
   "cell_type": "code",
   "execution_count": 371,
   "metadata": {},
   "outputs": [
    {
     "data": {
      "text/html": [
       "10360.008043189"
      ],
      "text/latex": [
       "10360.008043189"
      ],
      "text/markdown": [
       "10360.008043189"
      ],
      "text/plain": [
       "[1] 10360.01"
      ]
     },
     "metadata": {},
     "output_type": "display_data"
    }
   ],
   "source": [
    "gdp_arima_top_cv <- function(x, h){forecast(tbats(ts(x, \n",
    "    frequency = var_freq, start = var_start_year), use.trend = TRUE, seasonal.periods = var_freq,\n",
    "       use.arma.errors=TRUE, use.parallel=TRUE , use.box.cox=TRUE, use.damped.trend=TRUE    ), h=h)}\n",
    "e_arima_top  <-  tsCV(gdp_agg, gdp_arima_top_cv, h=var_h, \n",
    "                      window=var_window)[var_cv_low:var_cv_high,]\n",
    "sqrt(mean(e_arima_top^2, na.rm=TRUE))"
   ]
  },
  {
   "cell_type": "code",
   "execution_count": 373,
   "metadata": {},
   "outputs": [
    {
     "data": {
      "text/html": [
       "<table>\n",
       "<thead><tr><th></th><th scope=col>Квартальные</th><th scope=col>Сезонно сглаженные</th><th scope=col>Месячные</th></tr></thead>\n",
       "<tbody>\n",
       "\t<tr><th scope=row>AR_1 (лин.тренд)</th><td>order=c(2,0,0), \n",
       "    seasonal=c(1,0,0), include.drift = TRUE, include.constant = TRUE                                                      </td><td>order=c(2,0,0), \n",
       "     include.drift = TRUE, include.constant = TRUE                                                                        </td><td>order=c(2,0,0),\n",
       "    seasonal=c(1,0,0), include.drift = TRUE, include.constant = TRUE)                                                      </td></tr>\n",
       "\t<tr><th scope=row>ARI</th><td>order=c(3,1,0),\n",
       "    seasonal=c(2,1,0), include.drift = FALSE, include.constant = FALSE                                                     </td><td>order=c(4,1,0),\n",
       "    include.drift = FALSE, include.constant = FALSE                                                                        </td><td>order=c(4,0,0),\n",
       "    seasonal=c(1,1,0), include.drift = FALSE, include.constant = FALSE                                                     </td></tr>\n",
       "\t<tr><th scope=row>AR_2 (лин.тренд)</th><td>order=c(3,0,0),\n",
       "    seasonal=c(2,0,0), include.drift = TRUE, include.constant = TRUE                                                       </td><td>order=c(4,0,0),\n",
       "    include.drift = TRUE, include.constant = TRUE                                                                          </td><td>order=c(11,0,0),\n",
       "    seasonal=c(2,0,0), include.drift = TRUE, include.constant = TRUE                                                      </td></tr>\n",
       "\t<tr><th scope=row>AR_2 (квадр. тренд)</th><td>order=c(3,0,0),\n",
       "    seasonal=c(2,0,0), include.drift = TRUE, include.constant = TRUE                                                       </td><td>order=c(4,0,0),\n",
       "    include.drift = TRUE, include.constant = TRUE                                                                          </td><td>order=c(11,0,0),\n",
       "    seasonal=c(2,0,0), include.drift = TRUE, include.constant = TRUE                                                      </td></tr>\n",
       "\t<tr><th scope=row>ARMA (лин.тренд)</th><td>order=c(3,0,1),\n",
       "    seasonal=c(2,0,1), include.drift = TRUE, include.constant = TRUE                                                       </td><td>order=c(4,0,1),\n",
       "     include.drift = TRUE, include.constant = TRUE                                                                         </td><td>order=c(4,0,1),\n",
       "    seasonal=c(1,0,1), include.drift = TRUE, include.constant = TRUE)                                                      </td></tr>\n",
       "\t<tr><th scope=row>ARIMA</th><td>order=c(3,1,1),\n",
       "    seasonal=c(2,1,1), include.drift = FALSE, include.constant = FALSE                                                     </td><td>order=c(4,1,1),\n",
       "  include.drift = FALSE, include.constant = FALSE                                                                          </td><td>order=c(4,1,1),\n",
       "    seasonal=c(1,1,1), include.drift = FALSE, include.constant = FALSE                                                     </td></tr>\n",
       "\t<tr><th scope=row>ARIMA (автом. подбор)</th><td>    stationary = FALSE, seasonal = TRUE, lambda=NULL, parallel=TRUE                                                                         </td><td>    stationary = FALSE, seasonal = FALSE, lambda=NULL, parallel=TRUE                                                                        </td><td>    stationary = FALSE, seasonal = TRUE, lambda=NULL, parallel=TRUE                                                                         </td></tr>\n",
       "\t<tr><th scope=row>ETS</th><td>model=\"MMM\", damped = FALSE , lambda=NULL                                                                                                   </td><td>model=\"AAA\", damped = FALSE , lambda=NULL                                                                                                   </td><td>model=\"AAA\", damped = TRUE , lambda=NULL                                                                                                    </td></tr>\n",
       "\t<tr><th scope=row>ETS (автом. подбор)</th><td>lambda=NULL                                                                                                                                 </td><td>lambda=NULL                                                                                                                                 </td><td>lambda=NULL                                                                                                                                 </td></tr>\n",
       "\t<tr><th scope=row>TBATS</th><td>use.trend = TRUE, seasonal.periods = var_freq,\n",
       "       use.arma.errors=TRUE, use.parallel=TRUE , use.box.cox=FALSE,   use.damped.trend=FALSE</td><td>use.trend = TRUE, \n",
       "       use.arma.errors=TRUE, use.parallel=TRUE , use.box.cox=FALSE,   use.damped.trend=FALSE                            </td><td>use.trend = TRUE, seasonal.periods = var_freq,\n",
       "       use.arma.errors=TRUE, use.parallel=TRUE , use.box.cox=FALSE,   use.damped.trend=TRUE </td></tr>\n",
       "</tbody>\n",
       "</table>\n"
      ],
      "text/latex": [
       "\\begin{tabular}{r|lll}\n",
       "  & Квартальные & Сезонно сглаженные & Месячные\\\\\n",
       "\\hline\n",
       "\tAR\\_1 (лин.тренд) & order=c(2,0,0), \n",
       "    seasonal=c(1,0,0), include.drift = TRUE, include.constant = TRUE                                                       & order=c(2,0,0), \n",
       "     include.drift = TRUE, include.constant = TRUE                                                                         & order=c(2,0,0),\n",
       "    seasonal=c(1,0,0), include.drift = TRUE, include.constant = TRUE)                                                      \\\\\n",
       "\tARI & order=c(3,1,0),\n",
       "    seasonal=c(2,1,0), include.drift = FALSE, include.constant = FALSE                                                      & order=c(4,1,0),\n",
       "    include.drift = FALSE, include.constant = FALSE                                                                         & order=c(4,0,0),\n",
       "    seasonal=c(1,1,0), include.drift = FALSE, include.constant = FALSE                                                     \\\\\n",
       "\tAR\\_2 (лин.тренд) & order=c(3,0,0),\n",
       "    seasonal=c(2,0,0), include.drift = TRUE, include.constant = TRUE                                                        & order=c(4,0,0),\n",
       "    include.drift = TRUE, include.constant = TRUE                                                                           & order=c(11,0,0),\n",
       "    seasonal=c(2,0,0), include.drift = TRUE, include.constant = TRUE                                                      \\\\\n",
       "\tAR\\_2 (квадр. тренд) & order=c(3,0,0),\n",
       "    seasonal=c(2,0,0), include.drift = TRUE, include.constant = TRUE                                                        & order=c(4,0,0),\n",
       "    include.drift = TRUE, include.constant = TRUE                                                                           & order=c(11,0,0),\n",
       "    seasonal=c(2,0,0), include.drift = TRUE, include.constant = TRUE                                                      \\\\\n",
       "\tARMA (лин.тренд) & order=c(3,0,1),\n",
       "    seasonal=c(2,0,1), include.drift = TRUE, include.constant = TRUE                                                        & order=c(4,0,1),\n",
       "     include.drift = TRUE, include.constant = TRUE                                                                          & order=c(4,0,1),\n",
       "    seasonal=c(1,0,1), include.drift = TRUE, include.constant = TRUE)                                                      \\\\\n",
       "\tARIMA & order=c(3,1,1),\n",
       "    seasonal=c(2,1,1), include.drift = FALSE, include.constant = FALSE                                                      & order=c(4,1,1),\n",
       "  include.drift = FALSE, include.constant = FALSE                                                                           & order=c(4,1,1),\n",
       "    seasonal=c(1,1,1), include.drift = FALSE, include.constant = FALSE                                                     \\\\\n",
       "\tARIMA (автом. подбор) &     stationary = FALSE, seasonal = TRUE, lambda=NULL, parallel=TRUE                                                                          &     stationary = FALSE, seasonal = FALSE, lambda=NULL, parallel=TRUE                                                                         &     stationary = FALSE, seasonal = TRUE, lambda=NULL, parallel=TRUE                                                                         \\\\\n",
       "\tETS & model=\"MMM\", damped = FALSE , lambda=NULL                                                                                                    & model=\"AAA\", damped = FALSE , lambda=NULL                                                                                                    & model=\"AAA\", damped = TRUE , lambda=NULL                                                                                                    \\\\\n",
       "\tETS (автом. подбор) & lambda=NULL                                                                                                                                  & lambda=NULL                                                                                                                                  & lambda=NULL                                                                                                                                 \\\\\n",
       "\tTBATS & use.trend = TRUE, seasonal.periods = var\\_freq,\n",
       "       use.arma.errors=TRUE, use.parallel=TRUE , use.box.cox=FALSE,   use.damped.trend=FALSE & use.trend = TRUE, \n",
       "       use.arma.errors=TRUE, use.parallel=TRUE , use.box.cox=FALSE,   use.damped.trend=FALSE                               & use.trend = TRUE, seasonal.periods = var\\_freq,\n",
       "       use.arma.errors=TRUE, use.parallel=TRUE , use.box.cox=FALSE,   use.damped.trend=TRUE \\\\\n",
       "\\end{tabular}\n"
      ],
      "text/markdown": [
       "\n",
       "| <!--/--> | Квартальные | Сезонно сглаженные | Месячные | \n",
       "|---|---|---|---|---|---|---|---|---|---|\n",
       "| AR_1 (лин.тренд) | order=c(2,0,0), \n",
       "    seasonal=c(1,0,0), include.drift = TRUE, include.constant = TRUE                                                       | order=c(2,0,0), \n",
       "     include.drift = TRUE, include.constant = TRUE                                                                         | order=c(2,0,0),\n",
       "    seasonal=c(1,0,0), include.drift = TRUE, include.constant = TRUE)                                                       | \n",
       "| ARI | order=c(3,1,0),\n",
       "    seasonal=c(2,1,0), include.drift = FALSE, include.constant = FALSE                                                      | order=c(4,1,0),\n",
       "    include.drift = FALSE, include.constant = FALSE                                                                         | order=c(4,0,0),\n",
       "    seasonal=c(1,1,0), include.drift = FALSE, include.constant = FALSE                                                      | \n",
       "| AR_2 (лин.тренд) | order=c(3,0,0),\n",
       "    seasonal=c(2,0,0), include.drift = TRUE, include.constant = TRUE                                                        | order=c(4,0,0),\n",
       "    include.drift = TRUE, include.constant = TRUE                                                                           | order=c(11,0,0),\n",
       "    seasonal=c(2,0,0), include.drift = TRUE, include.constant = TRUE                                                       | \n",
       "| AR_2 (квадр. тренд) | order=c(3,0,0),\n",
       "    seasonal=c(2,0,0), include.drift = TRUE, include.constant = TRUE                                                        | order=c(4,0,0),\n",
       "    include.drift = TRUE, include.constant = TRUE                                                                           | order=c(11,0,0),\n",
       "    seasonal=c(2,0,0), include.drift = TRUE, include.constant = TRUE                                                       | \n",
       "| ARMA (лин.тренд) | order=c(3,0,1),\n",
       "    seasonal=c(2,0,1), include.drift = TRUE, include.constant = TRUE                                                        | order=c(4,0,1),\n",
       "     include.drift = TRUE, include.constant = TRUE                                                                          | order=c(4,0,1),\n",
       "    seasonal=c(1,0,1), include.drift = TRUE, include.constant = TRUE)                                                       | \n",
       "| ARIMA | order=c(3,1,1),\n",
       "    seasonal=c(2,1,1), include.drift = FALSE, include.constant = FALSE                                                      | order=c(4,1,1),\n",
       "  include.drift = FALSE, include.constant = FALSE                                                                           | order=c(4,1,1),\n",
       "    seasonal=c(1,1,1), include.drift = FALSE, include.constant = FALSE                                                      | \n",
       "| ARIMA (автом. подбор) |     stationary = FALSE, seasonal = TRUE, lambda=NULL, parallel=TRUE                                                                          |     stationary = FALSE, seasonal = FALSE, lambda=NULL, parallel=TRUE                                                                         |     stationary = FALSE, seasonal = TRUE, lambda=NULL, parallel=TRUE                                                                          | \n",
       "| ETS | model=\"MMM\", damped = FALSE , lambda=NULL                                                                                                    | model=\"AAA\", damped = FALSE , lambda=NULL                                                                                                    | model=\"AAA\", damped = TRUE , lambda=NULL                                                                                                     | \n",
       "| ETS (автом. подбор) | lambda=NULL                                                                                                                                  | lambda=NULL                                                                                                                                  | lambda=NULL                                                                                                                                  | \n",
       "| TBATS | use.trend = TRUE, seasonal.periods = var_freq,\n",
       "       use.arma.errors=TRUE, use.parallel=TRUE , use.box.cox=FALSE,   use.damped.trend=FALSE | use.trend = TRUE, \n",
       "       use.arma.errors=TRUE, use.parallel=TRUE , use.box.cox=FALSE,   use.damped.trend=FALSE                             | use.trend = TRUE, seasonal.periods = var_freq,\n",
       "       use.arma.errors=TRUE, use.parallel=TRUE , use.box.cox=FALSE,   use.damped.trend=TRUE  | \n",
       "\n",
       "\n"
      ],
      "text/plain": [
       "                      Квартальные                                                                                                                                 \n",
       "AR_1 (лин.тренд)      order=c(2,0,0), \\n    seasonal=c(1,0,0), include.drift = TRUE, include.constant = TRUE                                                      \n",
       "ARI                   order=c(3,1,0),\\n    seasonal=c(2,1,0), include.drift = FALSE, include.constant = FALSE                                                     \n",
       "AR_2 (лин.тренд)      order=c(3,0,0),\\n    seasonal=c(2,0,0), include.drift = TRUE, include.constant = TRUE                                                       \n",
       "AR_2 (квадр. тренд)   order=c(3,0,0),\\n    seasonal=c(2,0,0), include.drift = TRUE, include.constant = TRUE                                                       \n",
       "ARMA (лин.тренд)      order=c(3,0,1),\\n    seasonal=c(2,0,1), include.drift = TRUE, include.constant = TRUE                                                       \n",
       "ARIMA                 order=c(3,1,1),\\n    seasonal=c(2,1,1), include.drift = FALSE, include.constant = FALSE                                                     \n",
       "ARIMA (автом. подбор)     stationary = FALSE, seasonal = TRUE, lambda=NULL, parallel=TRUE                                                                         \n",
       "ETS                   model=\"MMM\", damped = FALSE , lambda=NULL                                                                                                   \n",
       "ETS (автом. подбор)   lambda=NULL                                                                                                                                 \n",
       "TBATS                 use.trend = TRUE, seasonal.periods = var_freq,\\n       use.arma.errors=TRUE, use.parallel=TRUE , use.box.cox=FALSE,   use.damped.trend=FALSE\n",
       "                      Сезонно сглаженные                                                                                              \n",
       "AR_1 (лин.тренд)      order=c(2,0,0), \\n     include.drift = TRUE, include.constant = TRUE                                            \n",
       "ARI                   order=c(4,1,0),\\n    include.drift = FALSE, include.constant = FALSE                                            \n",
       "AR_2 (лин.тренд)      order=c(4,0,0),\\n    include.drift = TRUE, include.constant = TRUE                                              \n",
       "AR_2 (квадр. тренд)   order=c(4,0,0),\\n    include.drift = TRUE, include.constant = TRUE                                              \n",
       "ARMA (лин.тренд)      order=c(4,0,1),\\n     include.drift = TRUE, include.constant = TRUE                                             \n",
       "ARIMA                 order=c(4,1,1),\\n  include.drift = FALSE, include.constant = FALSE                                              \n",
       "ARIMA (автом. подбор)     stationary = FALSE, seasonal = FALSE, lambda=NULL, parallel=TRUE                                            \n",
       "ETS                   model=\"AAA\", damped = FALSE , lambda=NULL                                                                       \n",
       "ETS (автом. подбор)   lambda=NULL                                                                                                     \n",
       "TBATS                 use.trend = TRUE, \\n       use.arma.errors=TRUE, use.parallel=TRUE , use.box.cox=FALSE,   use.damped.trend=FALSE\n",
       "                      Месячные                                                                                                                                   \n",
       "AR_1 (лин.тренд)      order=c(2,0,0),\\n    seasonal=c(1,0,0), include.drift = TRUE, include.constant = TRUE)                                                     \n",
       "ARI                   order=c(4,0,0),\\n    seasonal=c(1,1,0), include.drift = FALSE, include.constant = FALSE                                                    \n",
       "AR_2 (лин.тренд)      order=c(11,0,0),\\n    seasonal=c(2,0,0), include.drift = TRUE, include.constant = TRUE                                                     \n",
       "AR_2 (квадр. тренд)   order=c(11,0,0),\\n    seasonal=c(2,0,0), include.drift = TRUE, include.constant = TRUE                                                     \n",
       "ARMA (лин.тренд)      order=c(4,0,1),\\n    seasonal=c(1,0,1), include.drift = TRUE, include.constant = TRUE)                                                     \n",
       "ARIMA                 order=c(4,1,1),\\n    seasonal=c(1,1,1), include.drift = FALSE, include.constant = FALSE                                                    \n",
       "ARIMA (автом. подбор)     stationary = FALSE, seasonal = TRUE, lambda=NULL, parallel=TRUE                                                                        \n",
       "ETS                   model=\"AAA\", damped = TRUE , lambda=NULL                                                                                                   \n",
       "ETS (автом. подбор)   lambda=NULL                                                                                                                                \n",
       "TBATS                 use.trend = TRUE, seasonal.periods = var_freq,\\n       use.arma.errors=TRUE, use.parallel=TRUE , use.box.cox=FALSE,   use.damped.trend=TRUE"
      ]
     },
     "metadata": {},
     "output_type": "display_data"
    }
   ],
   "source": [
    "params"
   ]
  },
  {
   "cell_type": "code",
   "execution_count": 375,
   "metadata": {},
   "outputs": [],
   "source": [
    "params = params[c(1,3,4,2,5:10),]"
   ]
  },
  {
   "cell_type": "code",
   "execution_count": 376,
   "metadata": {},
   "outputs": [],
   "source": [
    "saveRDS(params, \"df_params.rds\")"
   ]
  },
  {
   "cell_type": "code",
   "execution_count": 1,
   "metadata": {},
   "outputs": [
    {
     "data": {
      "text/html": [
       "<table>\n",
       "<thead><tr><th></th><th scope=col>Квартальные</th><th scope=col>Сезонно сглаженные</th><th scope=col>Месячные</th></tr></thead>\n",
       "<tbody>\n",
       "\t<tr><th scope=row>AR_1 (лин.тренд)</th><td>order=c(2,0,0), \n",
       "    seasonal=c(1,0,0), include.drift = TRUE, include.constant = TRUE                                                      </td><td>order=c(2,0,0), \n",
       "     include.drift = TRUE, include.constant = TRUE                                                                        </td><td>order=c(2,0,0),\n",
       "    seasonal=c(1,0,0), include.drift = TRUE, include.constant = TRUE)                                                      </td></tr>\n",
       "\t<tr><th scope=row>AR_2 (лин.тренд)</th><td>order=c(3,0,0),\n",
       "    seasonal=c(2,0,0), include.drift = TRUE, include.constant = TRUE                                                       </td><td>order=c(4,0,0),\n",
       "    include.drift = TRUE, include.constant = TRUE                                                                          </td><td>order=c(11,0,0),\n",
       "    seasonal=c(2,0,0), include.drift = TRUE, include.constant = TRUE                                                      </td></tr>\n",
       "\t<tr><th scope=row>AR_2 (квадр. тренд)</th><td>order=c(3,0,0),\n",
       "    seasonal=c(2,0,0), include.drift = TRUE, include.constant = TRUE                                                       </td><td>order=c(4,0,0),\n",
       "    include.drift = TRUE, include.constant = TRUE                                                                          </td><td>order=c(11,0,0),\n",
       "    seasonal=c(2,0,0), include.drift = TRUE, include.constant = TRUE                                                      </td></tr>\n",
       "\t<tr><th scope=row>ARI</th><td>order=c(3,1,0),\n",
       "    seasonal=c(2,1,0), include.drift = FALSE, include.constant = FALSE                                                     </td><td>order=c(4,1,0),\n",
       "    include.drift = FALSE, include.constant = FALSE                                                                        </td><td>order=c(4,0,0),\n",
       "    seasonal=c(1,1,0), include.drift = FALSE, include.constant = FALSE                                                     </td></tr>\n",
       "\t<tr><th scope=row>ARMA (лин.тренд)</th><td>order=c(3,0,1),\n",
       "    seasonal=c(2,0,1), include.drift = TRUE, include.constant = TRUE                                                       </td><td>order=c(4,0,1),\n",
       "     include.drift = TRUE, include.constant = TRUE                                                                         </td><td>order=c(4,0,1),\n",
       "    seasonal=c(1,0,1), include.drift = TRUE, include.constant = TRUE)                                                      </td></tr>\n",
       "\t<tr><th scope=row>ARIMA</th><td>order=c(3,1,1),\n",
       "    seasonal=c(2,1,1), include.drift = FALSE, include.constant = FALSE                                                     </td><td>order=c(4,1,1),\n",
       "  include.drift = FALSE, include.constant = FALSE                                                                          </td><td>order=c(4,1,1),\n",
       "    seasonal=c(1,1,1), include.drift = FALSE, include.constant = FALSE                                                     </td></tr>\n",
       "\t<tr><th scope=row>ARIMA (автом. подбор)</th><td>    stationary = FALSE, seasonal = TRUE, lambda=NULL, parallel=TRUE                                                                         </td><td>    stationary = FALSE, seasonal = FALSE, lambda=NULL, parallel=TRUE                                                                        </td><td>    stationary = FALSE, seasonal = TRUE, lambda=NULL, parallel=TRUE                                                                         </td></tr>\n",
       "\t<tr><th scope=row>ETS</th><td>model=\"MMM\", damped = FALSE , lambda=NULL                                                                                                   </td><td>model=\"AAA\", damped = FALSE , lambda=NULL                                                                                                   </td><td>model=\"AAA\", damped = TRUE , lambda=NULL                                                                                                    </td></tr>\n",
       "\t<tr><th scope=row>ETS (автом. подбор)</th><td>lambda=NULL                                                                                                                                 </td><td>lambda=NULL                                                                                                                                 </td><td>lambda=NULL                                                                                                                                 </td></tr>\n",
       "\t<tr><th scope=row>TBATS</th><td>use.trend = TRUE, seasonal.periods = var_freq,\n",
       "       use.arma.errors=TRUE, use.parallel=TRUE , use.box.cox=FALSE,   use.damped.trend=FALSE</td><td>use.trend = TRUE, \n",
       "       use.arma.errors=TRUE, use.parallel=TRUE , use.box.cox=FALSE,   use.damped.trend=FALSE                            </td><td>use.trend = TRUE, seasonal.periods = var_freq,\n",
       "       use.arma.errors=TRUE, use.parallel=TRUE , use.box.cox=FALSE,   use.damped.trend=TRUE </td></tr>\n",
       "</tbody>\n",
       "</table>\n"
      ],
      "text/latex": [
       "\\begin{tabular}{r|lll}\n",
       "  & Квартальные & Сезонно сглаженные & Месячные\\\\\n",
       "\\hline\n",
       "\tAR\\_1 (лин.тренд) & order=c(2,0,0), \n",
       "    seasonal=c(1,0,0), include.drift = TRUE, include.constant = TRUE                                                       & order=c(2,0,0), \n",
       "     include.drift = TRUE, include.constant = TRUE                                                                         & order=c(2,0,0),\n",
       "    seasonal=c(1,0,0), include.drift = TRUE, include.constant = TRUE)                                                      \\\\\n",
       "\tAR\\_2 (лин.тренд) & order=c(3,0,0),\n",
       "    seasonal=c(2,0,0), include.drift = TRUE, include.constant = TRUE                                                        & order=c(4,0,0),\n",
       "    include.drift = TRUE, include.constant = TRUE                                                                           & order=c(11,0,0),\n",
       "    seasonal=c(2,0,0), include.drift = TRUE, include.constant = TRUE                                                      \\\\\n",
       "\tAR\\_2 (квадр. тренд) & order=c(3,0,0),\n",
       "    seasonal=c(2,0,0), include.drift = TRUE, include.constant = TRUE                                                        & order=c(4,0,0),\n",
       "    include.drift = TRUE, include.constant = TRUE                                                                           & order=c(11,0,0),\n",
       "    seasonal=c(2,0,0), include.drift = TRUE, include.constant = TRUE                                                      \\\\\n",
       "\tARI & order=c(3,1,0),\n",
       "    seasonal=c(2,1,0), include.drift = FALSE, include.constant = FALSE                                                      & order=c(4,1,0),\n",
       "    include.drift = FALSE, include.constant = FALSE                                                                         & order=c(4,0,0),\n",
       "    seasonal=c(1,1,0), include.drift = FALSE, include.constant = FALSE                                                     \\\\\n",
       "\tARMA (лин.тренд) & order=c(3,0,1),\n",
       "    seasonal=c(2,0,1), include.drift = TRUE, include.constant = TRUE                                                        & order=c(4,0,1),\n",
       "     include.drift = TRUE, include.constant = TRUE                                                                          & order=c(4,0,1),\n",
       "    seasonal=c(1,0,1), include.drift = TRUE, include.constant = TRUE)                                                      \\\\\n",
       "\tARIMA & order=c(3,1,1),\n",
       "    seasonal=c(2,1,1), include.drift = FALSE, include.constant = FALSE                                                      & order=c(4,1,1),\n",
       "  include.drift = FALSE, include.constant = FALSE                                                                           & order=c(4,1,1),\n",
       "    seasonal=c(1,1,1), include.drift = FALSE, include.constant = FALSE                                                     \\\\\n",
       "\tARIMA (автом. подбор) &     stationary = FALSE, seasonal = TRUE, lambda=NULL, parallel=TRUE                                                                          &     stationary = FALSE, seasonal = FALSE, lambda=NULL, parallel=TRUE                                                                         &     stationary = FALSE, seasonal = TRUE, lambda=NULL, parallel=TRUE                                                                         \\\\\n",
       "\tETS & model=\"MMM\", damped = FALSE , lambda=NULL                                                                                                    & model=\"AAA\", damped = FALSE , lambda=NULL                                                                                                    & model=\"AAA\", damped = TRUE , lambda=NULL                                                                                                    \\\\\n",
       "\tETS (автом. подбор) & lambda=NULL                                                                                                                                  & lambda=NULL                                                                                                                                  & lambda=NULL                                                                                                                                 \\\\\n",
       "\tTBATS & use.trend = TRUE, seasonal.periods = var\\_freq,\n",
       "       use.arma.errors=TRUE, use.parallel=TRUE , use.box.cox=FALSE,   use.damped.trend=FALSE & use.trend = TRUE, \n",
       "       use.arma.errors=TRUE, use.parallel=TRUE , use.box.cox=FALSE,   use.damped.trend=FALSE                               & use.trend = TRUE, seasonal.periods = var\\_freq,\n",
       "       use.arma.errors=TRUE, use.parallel=TRUE , use.box.cox=FALSE,   use.damped.trend=TRUE \\\\\n",
       "\\end{tabular}\n"
      ],
      "text/markdown": [
       "\n",
       "| <!--/--> | Квартальные | Сезонно сглаженные | Месячные | \n",
       "|---|---|---|---|---|---|---|---|---|---|\n",
       "| AR_1 (лин.тренд) | order=c(2,0,0), \n",
       "    seasonal=c(1,0,0), include.drift = TRUE, include.constant = TRUE                                                       | order=c(2,0,0), \n",
       "     include.drift = TRUE, include.constant = TRUE                                                                         | order=c(2,0,0),\n",
       "    seasonal=c(1,0,0), include.drift = TRUE, include.constant = TRUE)                                                       | \n",
       "| AR_2 (лин.тренд) | order=c(3,0,0),\n",
       "    seasonal=c(2,0,0), include.drift = TRUE, include.constant = TRUE                                                        | order=c(4,0,0),\n",
       "    include.drift = TRUE, include.constant = TRUE                                                                           | order=c(11,0,0),\n",
       "    seasonal=c(2,0,0), include.drift = TRUE, include.constant = TRUE                                                       | \n",
       "| AR_2 (квадр. тренд) | order=c(3,0,0),\n",
       "    seasonal=c(2,0,0), include.drift = TRUE, include.constant = TRUE                                                        | order=c(4,0,0),\n",
       "    include.drift = TRUE, include.constant = TRUE                                                                           | order=c(11,0,0),\n",
       "    seasonal=c(2,0,0), include.drift = TRUE, include.constant = TRUE                                                       | \n",
       "| ARI | order=c(3,1,0),\n",
       "    seasonal=c(2,1,0), include.drift = FALSE, include.constant = FALSE                                                      | order=c(4,1,0),\n",
       "    include.drift = FALSE, include.constant = FALSE                                                                         | order=c(4,0,0),\n",
       "    seasonal=c(1,1,0), include.drift = FALSE, include.constant = FALSE                                                      | \n",
       "| ARMA (лин.тренд) | order=c(3,0,1),\n",
       "    seasonal=c(2,0,1), include.drift = TRUE, include.constant = TRUE                                                        | order=c(4,0,1),\n",
       "     include.drift = TRUE, include.constant = TRUE                                                                          | order=c(4,0,1),\n",
       "    seasonal=c(1,0,1), include.drift = TRUE, include.constant = TRUE)                                                       | \n",
       "| ARIMA | order=c(3,1,1),\n",
       "    seasonal=c(2,1,1), include.drift = FALSE, include.constant = FALSE                                                      | order=c(4,1,1),\n",
       "  include.drift = FALSE, include.constant = FALSE                                                                           | order=c(4,1,1),\n",
       "    seasonal=c(1,1,1), include.drift = FALSE, include.constant = FALSE                                                      | \n",
       "| ARIMA (автом. подбор) |     stationary = FALSE, seasonal = TRUE, lambda=NULL, parallel=TRUE                                                                          |     stationary = FALSE, seasonal = FALSE, lambda=NULL, parallel=TRUE                                                                         |     stationary = FALSE, seasonal = TRUE, lambda=NULL, parallel=TRUE                                                                          | \n",
       "| ETS | model=\"MMM\", damped = FALSE , lambda=NULL                                                                                                    | model=\"AAA\", damped = FALSE , lambda=NULL                                                                                                    | model=\"AAA\", damped = TRUE , lambda=NULL                                                                                                     | \n",
       "| ETS (автом. подбор) | lambda=NULL                                                                                                                                  | lambda=NULL                                                                                                                                  | lambda=NULL                                                                                                                                  | \n",
       "| TBATS | use.trend = TRUE, seasonal.periods = var_freq,\n",
       "       use.arma.errors=TRUE, use.parallel=TRUE , use.box.cox=FALSE,   use.damped.trend=FALSE | use.trend = TRUE, \n",
       "       use.arma.errors=TRUE, use.parallel=TRUE , use.box.cox=FALSE,   use.damped.trend=FALSE                             | use.trend = TRUE, seasonal.periods = var_freq,\n",
       "       use.arma.errors=TRUE, use.parallel=TRUE , use.box.cox=FALSE,   use.damped.trend=TRUE  | \n",
       "\n",
       "\n"
      ],
      "text/plain": [
       "                      Квартальные                                                                                                                                 \n",
       "AR_1 (лин.тренд)      order=c(2,0,0), \\n    seasonal=c(1,0,0), include.drift = TRUE, include.constant = TRUE                                                      \n",
       "AR_2 (лин.тренд)      order=c(3,0,0),\\n    seasonal=c(2,0,0), include.drift = TRUE, include.constant = TRUE                                                       \n",
       "AR_2 (квадр. тренд)   order=c(3,0,0),\\n    seasonal=c(2,0,0), include.drift = TRUE, include.constant = TRUE                                                       \n",
       "ARI                   order=c(3,1,0),\\n    seasonal=c(2,1,0), include.drift = FALSE, include.constant = FALSE                                                     \n",
       "ARMA (лин.тренд)      order=c(3,0,1),\\n    seasonal=c(2,0,1), include.drift = TRUE, include.constant = TRUE                                                       \n",
       "ARIMA                 order=c(3,1,1),\\n    seasonal=c(2,1,1), include.drift = FALSE, include.constant = FALSE                                                     \n",
       "ARIMA (автом. подбор)     stationary = FALSE, seasonal = TRUE, lambda=NULL, parallel=TRUE                                                                         \n",
       "ETS                   model=\"MMM\", damped = FALSE , lambda=NULL                                                                                                   \n",
       "ETS (автом. подбор)   lambda=NULL                                                                                                                                 \n",
       "TBATS                 use.trend = TRUE, seasonal.periods = var_freq,\\n       use.arma.errors=TRUE, use.parallel=TRUE , use.box.cox=FALSE,   use.damped.trend=FALSE\n",
       "                      Сезонно сглаженные                                                                                              \n",
       "AR_1 (лин.тренд)      order=c(2,0,0), \\n     include.drift = TRUE, include.constant = TRUE                                            \n",
       "AR_2 (лин.тренд)      order=c(4,0,0),\\n    include.drift = TRUE, include.constant = TRUE                                              \n",
       "AR_2 (квадр. тренд)   order=c(4,0,0),\\n    include.drift = TRUE, include.constant = TRUE                                              \n",
       "ARI                   order=c(4,1,0),\\n    include.drift = FALSE, include.constant = FALSE                                            \n",
       "ARMA (лин.тренд)      order=c(4,0,1),\\n     include.drift = TRUE, include.constant = TRUE                                             \n",
       "ARIMA                 order=c(4,1,1),\\n  include.drift = FALSE, include.constant = FALSE                                              \n",
       "ARIMA (автом. подбор)     stationary = FALSE, seasonal = FALSE, lambda=NULL, parallel=TRUE                                            \n",
       "ETS                   model=\"AAA\", damped = FALSE , lambda=NULL                                                                       \n",
       "ETS (автом. подбор)   lambda=NULL                                                                                                     \n",
       "TBATS                 use.trend = TRUE, \\n       use.arma.errors=TRUE, use.parallel=TRUE , use.box.cox=FALSE,   use.damped.trend=FALSE\n",
       "                      Месячные                                                                                                                                   \n",
       "AR_1 (лин.тренд)      order=c(2,0,0),\\n    seasonal=c(1,0,0), include.drift = TRUE, include.constant = TRUE)                                                     \n",
       "AR_2 (лин.тренд)      order=c(11,0,0),\\n    seasonal=c(2,0,0), include.drift = TRUE, include.constant = TRUE                                                     \n",
       "AR_2 (квадр. тренд)   order=c(11,0,0),\\n    seasonal=c(2,0,0), include.drift = TRUE, include.constant = TRUE                                                     \n",
       "ARI                   order=c(4,0,0),\\n    seasonal=c(1,1,0), include.drift = FALSE, include.constant = FALSE                                                    \n",
       "ARMA (лин.тренд)      order=c(4,0,1),\\n    seasonal=c(1,0,1), include.drift = TRUE, include.constant = TRUE)                                                     \n",
       "ARIMA                 order=c(4,1,1),\\n    seasonal=c(1,1,1), include.drift = FALSE, include.constant = FALSE                                                    \n",
       "ARIMA (автом. подбор)     stationary = FALSE, seasonal = TRUE, lambda=NULL, parallel=TRUE                                                                        \n",
       "ETS                   model=\"AAA\", damped = TRUE , lambda=NULL                                                                                                   \n",
       "ETS (автом. подбор)   lambda=NULL                                                                                                                                \n",
       "TBATS                 use.trend = TRUE, seasonal.periods = var_freq,\\n       use.arma.errors=TRUE, use.parallel=TRUE , use.box.cox=FALSE,   use.damped.trend=TRUE"
      ]
     },
     "metadata": {},
     "output_type": "display_data"
    }
   ],
   "source": [
    "readRDS(\"df_params.rds\")"
   ]
  },
  {
   "cell_type": "code",
   "execution_count": null,
   "metadata": {},
   "outputs": [],
   "source": []
  }
 ],
 "metadata": {
  "kernelspec": {
   "display_name": "R 3.5.1",
   "language": "R",
   "name": "ir"
  },
  "language_info": {
   "codemirror_mode": "r",
   "file_extension": ".r",
   "mimetype": "text/x-r-source",
   "name": "R",
   "pygments_lexer": "r",
   "version": "3.5.2"
  }
 },
 "nbformat": 4,
 "nbformat_minor": 2
}
