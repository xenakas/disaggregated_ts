{
 "cells": [
  {
   "cell_type": "markdown",
   "metadata": {},
   "source": [
    "#### 4"
   ]
  },
  {
   "cell_type": "code",
   "execution_count": 1,
   "metadata": {
    "scrolled": true
   },
   "outputs": [
    {
     "name": "stderr",
     "output_type": "stream",
     "text": [
      "\n",
      "Attaching package: ‘dplyr’\n",
      "\n",
      "The following objects are masked from ‘package:stats’:\n",
      "\n",
      "    filter, lag\n",
      "\n",
      "The following objects are masked from ‘package:base’:\n",
      "\n",
      "    intersect, setdiff, setequal, union\n",
      "\n",
      "\n",
      "Attaching package: ‘gridExtra’\n",
      "\n",
      "The following object is masked from ‘package:dplyr’:\n",
      "\n",
      "    combine\n",
      "\n"
     ]
    }
   ],
   "source": [
    "library(forecast)\n",
    "library(ggplot2)\n",
    "library(dplyr)\n",
    "library(gridExtra)"
   ]
  },
  {
   "cell_type": "code",
   "execution_count": 2,
   "metadata": {},
   "outputs": [
    {
     "name": "stderr",
     "output_type": "stream",
     "text": [
      "Loading required package: foreach\n",
      "Loading required package: iterators\n",
      "Loading required package: parallel\n"
     ]
    }
   ],
   "source": [
    "# library(doParallel)\n",
    "library(doMC)\n",
    "options(cores = 10)\n",
    "registerDoMC()"
   ]
  },
  {
   "cell_type": "markdown",
   "metadata": {},
   "source": [
    "### ЕС"
   ]
  },
  {
   "cell_type": "code",
   "execution_count": 3,
   "metadata": {},
   "outputs": [],
   "source": [
    "df_eu  <-  read.csv(file=\"../data_hts/hts_eu_a10.csv\", header=TRUE, sep=\",\", row.names =1 )\n",
    "df_eu  <-  df_eu/1000\n",
    "var_freq  <- 4    \n",
    "var_start_year  <- 2000   \n",
    "gdp_agg <- df_eu_sums <-  rowSums(df_eu)\n",
    "gdp_agg  <- ts(gdp_agg, frequency = var_freq, start = var_start_year) "
   ]
  },
  {
   "cell_type": "code",
   "execution_count": 4,
   "metadata": {},
   "outputs": [],
   "source": [
    "var_h  <- 8\n",
    "var_window  <-  48 - 1\n",
    "var_topup  <-  1\n",
    "var_iter   <- (length(gdp_agg)+var_topup)/var_freq-(var_window+1)/var_freq-2"
   ]
  },
  {
   "cell_type": "code",
   "execution_count": 5,
   "metadata": {},
   "outputs": [],
   "source": [
    "# var_allornot  <- var_freq\n",
    "var_allornot  <- 1\n",
    "# var_shift  <-  var_topup\n",
    "var_shift  <-  0"
   ]
  },
  {
   "cell_type": "code",
   "execution_count": 6,
   "metadata": {},
   "outputs": [],
   "source": [
    "var_arpdq   <-  c(3,1,0)\n",
    "var_sarpdq   <-  c(2,1,0)\n",
    "var_drift   <-  FALSE\n",
    "var_constant   <-  FALSE"
   ]
  },
  {
   "cell_type": "code",
   "execution_count": 7,
   "metadata": {},
   "outputs": [
    {
     "name": "stdout",
     "output_type": "stream",
     "text": [
      "[1] 2000.00 2011.75 2012.00 2013.75\n",
      "[1] 2001.00 2012.75 2013.00 2014.75\n",
      "[1] 2002.00 2013.75 2014.00 2015.75\n",
      "[1] 2003.00 2014.75 2015.00 2016.75\n",
      "[1] 2004.00 2015.75 2016.00 2017.75\n",
      "[1] 2005.00 2016.75 2017.00 2018.75\n"
     ]
    }
   ],
   "source": [
    "l <- ac <- m_top  <- l_test  <-  list()\n",
    "\n",
    "k  <- 0\n",
    "\n",
    "for (i in 0:(var_iter*var_allornot - var_shift)){\n",
    "    k  <-  k+1\n",
    "    st_year  <-  var_start_year + i/var_allornot\n",
    "    train_start  <- st_year \n",
    "    train_end  <- st_year + 1/var_freq*(var_window)\n",
    "    test_start  <- st_year + 1/var_freq*(var_window+1) \n",
    "    test_end  <-  st_year + 1/var_freq*(var_window+var_h)\n",
    "    \n",
    "    print(c(train_start, train_end, test_start, test_end))\n",
    "    \n",
    "    if (i == 0){\n",
    "        train <- window(gdp_agg, end=train_end)}\n",
    "    else{\n",
    "        if ((var_shift == 0) & (i == var_iter*var_allornot - var_shift)){\n",
    "            train <- window(gdp_agg, start=train_start-var_topup/var_freq, end=train_end-var_topup/var_freq)\n",
    "        }else{\n",
    "            train <- window(gdp_agg, start=train_start, end=train_end)\n",
    "    }}\n",
    "    \n",
    "    if ((var_shift == 0) & (i == var_iter*var_allornot - var_shift)){\n",
    "        test <- window(gdp_agg, start=test_start-var_topup/var_freq)\n",
    "    }else{    test <- window(gdp_agg, start=test_start, end=test_end)\n",
    "        \n",
    "    }\n",
    "    \n",
    "    m_top[[k]]  <- Arima(msts(train, seasonal.periods = var_freq), order=var_arpdq, seasonal=var_sarpdq, include.drift = var_drift, include.mean = var_constant, method=\"ML\")\n",
    "    \n",
    "#     print(test)\n",
    "#     print(gdp_arima)\n",
    "    l[[k]]  <-   forecast(m_top[[k]], h = var_h  )\n",
    "\n",
    "    l_test[[i+1]]  <-   test\n",
    "    \n",
    "    ac[[i+1]]  <-  accuracy(l[[k]], test)\n",
    "\n",
    "    }"
   ]
  },
  {
   "cell_type": "code",
   "execution_count": 8,
   "metadata": {},
   "outputs": [
    {
     "data": {
      "text/html": [
       "<table>\n",
       "<thead><tr><th scope=col>ME</th><th scope=col>RMSE</th><th scope=col>MAPE</th></tr></thead>\n",
       "<tbody>\n",
       "\t<tr><td>  68.431229</td><td> 69.76198  </td><td>2.2527580  </td></tr>\n",
       "\t<tr><td>   7.222098</td><td> 25.66988  </td><td>0.7072905  </td></tr>\n",
       "\t<tr><td>  31.683461</td><td> 48.16204  </td><td>1.0849013  </td></tr>\n",
       "\t<tr><td>  65.928796</td><td> 71.07610  </td><td>1.9750918  </td></tr>\n",
       "\t<tr><td>-141.389082</td><td>144.71191  </td><td>4.1607553  </td></tr>\n",
       "\t<tr><td> 101.625304</td><td>108.76481  </td><td>2.9203602  </td></tr>\n",
       "</tbody>\n",
       "</table>\n"
      ],
      "text/latex": [
       "\\begin{tabular}{r|lll}\n",
       " ME & RMSE & MAPE\\\\\n",
       "\\hline\n",
       "\t   68.431229 &  69.76198   & 2.2527580  \\\\\n",
       "\t    7.222098 &  25.66988   & 0.7072905  \\\\\n",
       "\t   31.683461 &  48.16204   & 1.0849013  \\\\\n",
       "\t   65.928796 &  71.07610   & 1.9750918  \\\\\n",
       "\t -141.389082 & 144.71191   & 4.1607553  \\\\\n",
       "\t  101.625304 & 108.76481   & 2.9203602  \\\\\n",
       "\\end{tabular}\n"
      ],
      "text/markdown": [
       "\n",
       "ME | RMSE | MAPE | \n",
       "|---|---|---|---|---|---|\n",
       "|   68.431229 |  69.76198   | 2.2527580   | \n",
       "|    7.222098 |  25.66988   | 0.7072905   | \n",
       "|   31.683461 |  48.16204   | 1.0849013   | \n",
       "|   65.928796 |  71.07610   | 1.9750918   | \n",
       "| -141.389082 | 144.71191   | 4.1607553   | \n",
       "|  101.625304 | 108.76481   | 2.9203602   | \n",
       "\n",
       "\n"
      ],
      "text/plain": [
       "  ME          RMSE      MAPE     \n",
       "1   68.431229  69.76198 2.2527580\n",
       "2    7.222098  25.66988 0.7072905\n",
       "3   31.683461  48.16204 1.0849013\n",
       "4   65.928796  71.07610 1.9750918\n",
       "5 -141.389082 144.71191 4.1607553\n",
       "6  101.625304 108.76481 2.9203602"
      ]
     },
     "metadata": {},
     "output_type": "display_data"
    }
   ],
   "source": [
    "var_acc_metrics  <-  c(1,2,5)\n",
    "df_acc_test  <- ac[[1]][2, var_acc_metrics]\n",
    "for (i in ac[2:length(ac)]){\n",
    "    x  <-  i[2, var_acc_metrics]\n",
    "    df_acc_test   <-  cbind(df_acc_test, x)\n",
    "}\n",
    "df_acc_test  <- t(df_acc_test)\n",
    "df_acc_test  <-  as.data.frame(df_acc_test)\n",
    "row.names(df_acc_test)  <-  seq(1,length(ac))\n",
    "df_acc_test"
   ]
  },
  {
   "cell_type": "code",
   "execution_count": 9,
   "metadata": {},
   "outputs": [
    {
     "data": {
      "text/html": [
       "<dl class=dl-horizontal>\n",
       "\t<dt>ME</dt>\n",
       "\t\t<dd>22.2503008463693</dd>\n",
       "\t<dt>RMSE</dt>\n",
       "\t\t<dd>78.0244535787544</dd>\n",
       "\t<dt>MAPE</dt>\n",
       "\t\t<dd>2.18352620567657</dd>\n",
       "</dl>\n"
      ],
      "text/latex": [
       "\\begin{description*}\n",
       "\\item[ME] 22.2503008463693\n",
       "\\item[RMSE] 78.0244535787544\n",
       "\\item[MAPE] 2.18352620567657\n",
       "\\end{description*}\n"
      ],
      "text/markdown": [
       "ME\n",
       ":   22.2503008463693RMSE\n",
       ":   78.0244535787544MAPE\n",
       ":   2.18352620567657\n",
       "\n"
      ],
      "text/plain": [
       "       ME      RMSE      MAPE \n",
       "22.250301 78.024454  2.183526 "
      ]
     },
     "metadata": {},
     "output_type": "display_data"
    }
   ],
   "source": [
    "colMeans(df_acc_test)"
   ]
  },
  {
   "cell_type": "code",
   "execution_count": 10,
   "metadata": {},
   "outputs": [
    {
     "data": {},
     "metadata": {},
     "output_type": "display_data"
    },
    {
     "data": {
      "image/png": "[encoded data removed]",
      "text/plain": [
       "plot without title"
      ]
     },
     "metadata": {},
     "output_type": "display_data"
    }
   ],
   "source": [
    "plot_forecasts  <-  autoplot(window(gdp_agg, start=2010))+\n",
    "    xlab(\"Время\") + ylab('ВВП') +\n",
    "    ggtitle(\"AR(3)SAR(2) с линейным трендом\") +\n",
    "    guides(colour=guide_legend(title=\" \")) +\n",
    "    theme(aspect.ratio = 0.75)\n",
    "\n",
    "for (i in 1:length(l)){\n",
    "    plot_forecasts  <-  plot_forecasts  +\n",
    "    autolayer(l[[i]], series=paste(\"Итерация\" , i, sep=\" \") ,   PI=FALSE) \n",
    "    \n",
    "}\n",
    "\n",
    "plot_forecasts\n"
   ]
  },
  {
   "cell_type": "code",
   "execution_count": 11,
   "metadata": {},
   "outputs": [
    {
     "data": {
      "text/html": [
       "<table>\n",
       "<thead><tr><th></th><th scope=col>Квартальные</th><th scope=col>Сезонно сглаженные</th><th scope=col>Месячные</th></tr></thead>\n",
       "<tbody>\n",
       "\t<tr><th scope=row>1 level</th><td>78.02445</td><td>344.6785</td><td>9104.068</td></tr>\n",
       "\t<tr><th scope=row>2</th><td>      NA</td><td>      NA</td><td>      NA</td></tr>\n",
       "\t<tr><th scope=row>3</th><td>      NA</td><td>      NA</td><td>      NA</td></tr>\n",
       "\t<tr><th scope=row>4</th><td>      NA</td><td>      NA</td><td>      NA</td></tr>\n",
       "\t<tr><th scope=row>5</th><td>      NA</td><td>      NA</td><td>      NA</td></tr>\n",
       "</tbody>\n",
       "</table>\n"
      ],
      "text/latex": [
       "\\begin{tabular}{r|lll}\n",
       "  & Квартальные & Сезонно сглаженные & Месячные\\\\\n",
       "\\hline\n",
       "\t1 level & 78.02445 & 344.6785 & 9104.068\\\\\n",
       "\t2 &       NA &       NA &       NA\\\\\n",
       "\t3 &       NA &       NA &       NA\\\\\n",
       "\t4 &       NA &       NA &       NA\\\\\n",
       "\t5 &       NA &       NA &       NA\\\\\n",
       "\\end{tabular}\n"
      ],
      "text/markdown": [
       "\n",
       "| <!--/--> | Квартальные | Сезонно сглаженные | Месячные | \n",
       "|---|---|---|---|---|\n",
       "| 1 level | 78.02445 | 344.6785 | 9104.068 | \n",
       "| 2 |       NA |       NA |       NA | \n",
       "| 3 |       NA |       NA |       NA | \n",
       "| 4 |       NA |       NA |       NA | \n",
       "| 5 |       NA |       NA |       NA | \n",
       "\n",
       "\n"
      ],
      "text/plain": [
       "        Квартальные Сезонно сглаженные Месячные\n",
       "1 level 78.02445    344.6785           9104.068\n",
       "2             NA          NA                 NA\n",
       "3             NA          NA                 NA\n",
       "4             NA          NA                 NA\n",
       "5             NA          NA                 NA"
      ]
     },
     "metadata": {},
     "output_type": "display_data"
    }
   ],
   "source": [
    "df_mean_acc <- readRDS(\"df_mean_acc.rds\")\n",
    "df_mean_acc"
   ]
  },
  {
   "cell_type": "code",
   "execution_count": 12,
   "metadata": {},
   "outputs": [
    {
     "data": {
      "text/html": [
       "<table>\n",
       "<thead><tr><th></th><th scope=col>Квартальные</th><th scope=col>Сезонно сглаженные</th><th scope=col>Месячные</th></tr></thead>\n",
       "<tbody>\n",
       "\t<tr><th scope=row>1 level</th><td>78.02445</td><td>344.6785</td><td>9104.068</td></tr>\n",
       "\t<tr><th scope=row>2</th><td>      NA</td><td>      NA</td><td>      NA</td></tr>\n",
       "\t<tr><th scope=row>3</th><td>      NA</td><td>      NA</td><td>      NA</td></tr>\n",
       "\t<tr><th scope=row>4</th><td>      NA</td><td>      NA</td><td>      NA</td></tr>\n",
       "\t<tr><th scope=row>5</th><td>      NA</td><td>      NA</td><td>      NA</td></tr>\n",
       "</tbody>\n",
       "</table>\n"
      ],
      "text/latex": [
       "\\begin{tabular}{r|lll}\n",
       "  & Квартальные & Сезонно сглаженные & Месячные\\\\\n",
       "\\hline\n",
       "\t1 level & 78.02445 & 344.6785 & 9104.068\\\\\n",
       "\t2 &       NA &       NA &       NA\\\\\n",
       "\t3 &       NA &       NA &       NA\\\\\n",
       "\t4 &       NA &       NA &       NA\\\\\n",
       "\t5 &       NA &       NA &       NA\\\\\n",
       "\\end{tabular}\n"
      ],
      "text/markdown": [
       "\n",
       "| <!--/--> | Квартальные | Сезонно сглаженные | Месячные | \n",
       "|---|---|---|---|---|\n",
       "| 1 level | 78.02445 | 344.6785 | 9104.068 | \n",
       "| 2 |       NA |       NA |       NA | \n",
       "| 3 |       NA |       NA |       NA | \n",
       "| 4 |       NA |       NA |       NA | \n",
       "| 5 |       NA |       NA |       NA | \n",
       "\n",
       "\n"
      ],
      "text/plain": [
       "        Квартальные Сезонно сглаженные Месячные\n",
       "1 level 78.02445    344.6785           9104.068\n",
       "2             NA          NA                 NA\n",
       "3             NA          NA                 NA\n",
       "4             NA          NA                 NA\n",
       "5             NA          NA                 NA"
      ]
     },
     "metadata": {},
     "output_type": "display_data"
    }
   ],
   "source": [
    "df_mean_acc[1,1]  <-  colMeans(df_acc_test)[[2]]\n",
    "df_mean_acc"
   ]
  },
  {
   "cell_type": "code",
   "execution_count": 13,
   "metadata": {},
   "outputs": [],
   "source": [
    "save_plots  <- list()"
   ]
  },
  {
   "cell_type": "code",
   "execution_count": 14,
   "metadata": {},
   "outputs": [],
   "source": [
    "save_plots[[1]]  <-  plot_forecasts"
   ]
  },
  {
   "cell_type": "code",
   "execution_count": 15,
   "metadata": {},
   "outputs": [],
   "source": [
    "df_acc  <-  df_acc_test"
   ]
  },
  {
   "cell_type": "code",
   "execution_count": 16,
   "metadata": {},
   "outputs": [],
   "source": [
    "colnames(df_acc)  <-  colnames(ac[[1]])[var_acc_metrics] \n",
    "df_acc  <-  cbind(df_acc, seq(1, length(ac)))\n",
    "colnames(df_acc)[length(var_acc_metrics)+1]  <-  'Iteration'"
   ]
  },
  {
   "cell_type": "code",
   "execution_count": 17,
   "metadata": {},
   "outputs": [],
   "source": [
    "df_acc$Iteration  <-  df_acc$Iteration*var_freq-(var_freq-1)\n",
    "df_acc$Iteration[length(df_acc$Iteration)]  <-   df_acc$Iteration[length(df_acc$Iteration)] - var_topup"
   ]
  },
  {
   "cell_type": "code",
   "execution_count": 18,
   "metadata": {},
   "outputs": [
    {
     "data": {
      "text/html": [
       "<table>\n",
       "<thead><tr><th scope=col>ME</th><th scope=col>RMSE</th><th scope=col>MAPE</th><th scope=col>Iteration</th></tr></thead>\n",
       "<tbody>\n",
       "\t<tr><td>  68.431229</td><td> 69.76198  </td><td>2.2527580  </td><td> 1         </td></tr>\n",
       "\t<tr><td>   7.222098</td><td> 25.66988  </td><td>0.7072905  </td><td> 5         </td></tr>\n",
       "\t<tr><td>  31.683461</td><td> 48.16204  </td><td>1.0849013  </td><td> 9         </td></tr>\n",
       "\t<tr><td>  65.928796</td><td> 71.07610  </td><td>1.9750918  </td><td>13         </td></tr>\n",
       "\t<tr><td>-141.389082</td><td>144.71191  </td><td>4.1607553  </td><td>17         </td></tr>\n",
       "\t<tr><td> 101.625304</td><td>108.76481  </td><td>2.9203602  </td><td>20         </td></tr>\n",
       "</tbody>\n",
       "</table>\n"
      ],
      "text/latex": [
       "\\begin{tabular}{r|llll}\n",
       " ME & RMSE & MAPE & Iteration\\\\\n",
       "\\hline\n",
       "\t   68.431229 &  69.76198   & 2.2527580   &  1         \\\\\n",
       "\t    7.222098 &  25.66988   & 0.7072905   &  5         \\\\\n",
       "\t   31.683461 &  48.16204   & 1.0849013   &  9         \\\\\n",
       "\t   65.928796 &  71.07610   & 1.9750918   & 13         \\\\\n",
       "\t -141.389082 & 144.71191   & 4.1607553   & 17         \\\\\n",
       "\t  101.625304 & 108.76481   & 2.9203602   & 20         \\\\\n",
       "\\end{tabular}\n"
      ],
      "text/markdown": [
       "\n",
       "ME | RMSE | MAPE | Iteration | \n",
       "|---|---|---|---|---|---|\n",
       "|   68.431229 |  69.76198   | 2.2527580   |  1          | \n",
       "|    7.222098 |  25.66988   | 0.7072905   |  5          | \n",
       "|   31.683461 |  48.16204   | 1.0849013   |  9          | \n",
       "|   65.928796 |  71.07610   | 1.9750918   | 13          | \n",
       "| -141.389082 | 144.71191   | 4.1607553   | 17          | \n",
       "|  101.625304 | 108.76481   | 2.9203602   | 20          | \n",
       "\n",
       "\n"
      ],
      "text/plain": [
       "  ME          RMSE      MAPE      Iteration\n",
       "1   68.431229  69.76198 2.2527580  1       \n",
       "2    7.222098  25.66988 0.7072905  5       \n",
       "3   31.683461  48.16204 1.0849013  9       \n",
       "4   65.928796  71.07610 1.9750918 13       \n",
       "5 -141.389082 144.71191 4.1607553 17       \n",
       "6  101.625304 108.76481 2.9203602 20       "
      ]
     },
     "metadata": {},
     "output_type": "display_data"
    }
   ],
   "source": [
    "df_acc"
   ]
  },
  {
   "cell_type": "code",
   "execution_count": 19,
   "metadata": {},
   "outputs": [],
   "source": [
    "var_allornot  <- var_freq\n",
    "# var_allornot  <- 1\n",
    "var_shift  <-  var_topup\n",
    "# var_shift  <-  0"
   ]
  },
  {
   "cell_type": "markdown",
   "metadata": {},
   "source": [
    "### США"
   ]
  },
  {
   "cell_type": "code",
   "execution_count": 20,
   "metadata": {},
   "outputs": [],
   "source": [
    "df_eu  <-  read.csv(file=\"../data_hts/hts_us_ind_filled.csv\", header=TRUE, sep=\",\", row.names =1 )\n",
    "df_eu  <-  df_eu/1000\n",
    "var_freq  <- 4    \n",
    "var_start_year  <- 2005   \n",
    "gdp_agg <- df_eu_sums <-  rowSums(df_eu)\n",
    "gdp_agg  <- ts(gdp_agg, frequency = var_freq, start = var_start_year) "
   ]
  },
  {
   "cell_type": "code",
   "execution_count": 21,
   "metadata": {},
   "outputs": [],
   "source": [
    "var_h  <- 8\n",
    "var_window  <-  28 - 1\n",
    "var_topup  <-  2\n",
    "var_iter   <- (length(gdp_agg)+var_topup)/var_freq-(var_window+1)/var_freq-2"
   ]
  },
  {
   "cell_type": "code",
   "execution_count": 22,
   "metadata": {},
   "outputs": [],
   "source": [
    "# var_allornot  <- var_freq\n",
    "var_allornot  <- 1\n",
    "# var_shift  <-  var_topup\n",
    "var_shift  <-  0\n",
    "\n",
    "var_arpdq   <-  c(4,1,0)\n",
    "var_sarpdq   <-  c(0,0,0)\n",
    "var_drift   <-  FALSE\n",
    "var_constant   <-  FALSE"
   ]
  },
  {
   "cell_type": "code",
   "execution_count": 23,
   "metadata": {},
   "outputs": [
    {
     "name": "stdout",
     "output_type": "stream",
     "text": [
      "[1] 2005.00 2011.75 2012.00 2013.75\n",
      "[1] 2006.00 2012.75 2013.00 2014.75\n",
      "[1] 2007.00 2013.75 2014.00 2015.75\n",
      "[1] 2008.00 2014.75 2015.00 2016.75\n",
      "[1] 2009.00 2015.75 2016.00 2017.75\n",
      "[1] 2010.00 2016.75 2017.00 2018.75\n"
     ]
    }
   ],
   "source": [
    "l <- ac <- m_top  <- l_test  <-  list()\n",
    "\n",
    "k  <- 0\n",
    "\n",
    "for (i in 0:(var_iter*var_allornot - var_shift)){\n",
    "    k  <-  k+1\n",
    "    st_year  <-  var_start_year + i/var_allornot\n",
    "    train_start  <- st_year \n",
    "    train_end  <- st_year + 1/var_freq*(var_window)\n",
    "    test_start  <- st_year + 1/var_freq*(var_window+1) \n",
    "    test_end  <-  st_year + 1/var_freq*(var_window+var_h)\n",
    "    \n",
    "    print(c(train_start, train_end, test_start, test_end))\n",
    "    \n",
    "    if (i == 0){\n",
    "        train <- window(gdp_agg, end=train_end)}\n",
    "    else{\n",
    "        if ((var_shift == 0) & (i == var_iter*var_allornot - var_shift)){\n",
    "            train <- window(gdp_agg, start=train_start-var_topup/var_freq, end=train_end-var_topup/var_freq)\n",
    "        }else{\n",
    "            train <- window(gdp_agg, start=train_start, end=train_end)\n",
    "    }}\n",
    "    \n",
    "    if ((var_shift == 0) & (i == var_iter*var_allornot - var_shift)){\n",
    "        test <- window(gdp_agg, start=test_start-var_topup/var_freq)\n",
    "    }else{    test <- window(gdp_agg, start=test_start, end=test_end)\n",
    "        \n",
    "    }\n",
    "    \n",
    "    m_top[[k]]  <- Arima(msts(train, seasonal.periods = var_freq), order=var_arpdq, seasonal=var_sarpdq, include.drift = var_drift, include.mean = var_constant, method=\"ML\")\n",
    "    \n",
    "#     print(test)\n",
    "#     print(gdp_arima)\n",
    "    l[[k]]  <-   forecast(m_top[[k]], h = var_h  )\n",
    "\n",
    "    l_test[[i+1]]  <-   test\n",
    "    \n",
    "    ac[[i+1]]  <-  accuracy(l[[k]], test)\n",
    "    \n",
    "    }"
   ]
  },
  {
   "cell_type": "code",
   "execution_count": 24,
   "metadata": {},
   "outputs": [
    {
     "data": {
      "text/html": [
       "<table>\n",
       "<thead><tr><th scope=col>ME</th><th scope=col>RMSE</th><th scope=col>MAPE</th></tr></thead>\n",
       "<tbody>\n",
       "\t<tr><td>139.9557 </td><td>201.5967 </td><td>0.8672961</td></tr>\n",
       "\t<tr><td>440.1258 </td><td>503.7295 </td><td>2.6609438</td></tr>\n",
       "\t<tr><td>413.5859 </td><td>504.9412 </td><td>2.5769405</td></tr>\n",
       "\t<tr><td>346.0710 </td><td>376.5773 </td><td>2.0040995</td></tr>\n",
       "\t<tr><td>189.2755 </td><td>236.7014 </td><td>1.0716324</td></tr>\n",
       "\t<tr><td>190.0542 </td><td>244.5249 </td><td>1.0619722</td></tr>\n",
       "</tbody>\n",
       "</table>\n"
      ],
      "text/latex": [
       "\\begin{tabular}{r|lll}\n",
       " ME & RMSE & MAPE\\\\\n",
       "\\hline\n",
       "\t 139.9557  & 201.5967  & 0.8672961\\\\\n",
       "\t 440.1258  & 503.7295  & 2.6609438\\\\\n",
       "\t 413.5859  & 504.9412  & 2.5769405\\\\\n",
       "\t 346.0710  & 376.5773  & 2.0040995\\\\\n",
       "\t 189.2755  & 236.7014  & 1.0716324\\\\\n",
       "\t 190.0542  & 244.5249  & 1.0619722\\\\\n",
       "\\end{tabular}\n"
      ],
      "text/markdown": [
       "\n",
       "ME | RMSE | MAPE | \n",
       "|---|---|---|---|---|---|\n",
       "| 139.9557  | 201.5967  | 0.8672961 | \n",
       "| 440.1258  | 503.7295  | 2.6609438 | \n",
       "| 413.5859  | 504.9412  | 2.5769405 | \n",
       "| 346.0710  | 376.5773  | 2.0040995 | \n",
       "| 189.2755  | 236.7014  | 1.0716324 | \n",
       "| 190.0542  | 244.5249  | 1.0619722 | \n",
       "\n",
       "\n"
      ],
      "text/plain": [
       "  ME       RMSE     MAPE     \n",
       "1 139.9557 201.5967 0.8672961\n",
       "2 440.1258 503.7295 2.6609438\n",
       "3 413.5859 504.9412 2.5769405\n",
       "4 346.0710 376.5773 2.0040995\n",
       "5 189.2755 236.7014 1.0716324\n",
       "6 190.0542 244.5249 1.0619722"
      ]
     },
     "metadata": {},
     "output_type": "display_data"
    }
   ],
   "source": [
    "var_acc_metrics  <-  c(1,2,5)\n",
    "df_acc_test  <- ac[[1]][2, var_acc_metrics]\n",
    "for (i in ac[2:length(ac)]){\n",
    "    x  <-  i[2, var_acc_metrics]\n",
    "    df_acc_test   <-  cbind(df_acc_test, x)\n",
    "}\n",
    "df_acc_test  <- t(df_acc_test)\n",
    "df_acc_test  <-  as.data.frame(df_acc_test)\n",
    "row.names(df_acc_test)  <-  seq(1,length(ac))\n",
    "df_acc_test"
   ]
  },
  {
   "cell_type": "code",
   "execution_count": 25,
   "metadata": {},
   "outputs": [
    {
     "data": {
      "text/html": [
       "<dl class=dl-horizontal>\n",
       "\t<dt>ME</dt>\n",
       "\t\t<dd>286.511356919279</dd>\n",
       "\t<dt>RMSE</dt>\n",
       "\t\t<dd>344.678504576422</dd>\n",
       "\t<dt>MAPE</dt>\n",
       "\t\t<dd>1.70714743856642</dd>\n",
       "</dl>\n"
      ],
      "text/latex": [
       "\\begin{description*}\n",
       "\\item[ME] 286.511356919279\n",
       "\\item[RMSE] 344.678504576422\n",
       "\\item[MAPE] 1.70714743856642\n",
       "\\end{description*}\n"
      ],
      "text/markdown": [
       "ME\n",
       ":   286.511356919279RMSE\n",
       ":   344.678504576422MAPE\n",
       ":   1.70714743856642\n",
       "\n"
      ],
      "text/plain": [
       "        ME       RMSE       MAPE \n",
       "286.511357 344.678505   1.707147 "
      ]
     },
     "metadata": {},
     "output_type": "display_data"
    }
   ],
   "source": [
    "colMeans(df_acc_test)"
   ]
  },
  {
   "cell_type": "code",
   "execution_count": 26,
   "metadata": {},
   "outputs": [
    {
     "data": {},
     "metadata": {},
     "output_type": "display_data"
    },
    {
     "data": {
      "image/png": "[encoded data removed]",
      "text/plain": [
       "plot without title"
      ]
     },
     "metadata": {},
     "output_type": "display_data"
    }
   ],
   "source": [
    "plot_forecasts  <-  autoplot(window(gdp_agg, start=2010))+\n",
    "    xlab(\"Время\") + ylab('ВВП') +\n",
    "    ggtitle(\"AR(4)\") +\n",
    "    guides(colour=guide_legend(title=\" \")) +\n",
    "    theme(aspect.ratio = 0.75)\n",
    "\n",
    "for (i in 1:length(l)){\n",
    "    plot_forecasts  <-  plot_forecasts  +\n",
    "    autolayer(l[[i]], series=paste(\"Итерация\" , i, sep=\" \") ,   PI=FALSE) \n",
    "    \n",
    "}\n",
    "\n",
    "plot_forecasts\n"
   ]
  },
  {
   "cell_type": "code",
   "execution_count": 27,
   "metadata": {},
   "outputs": [
    {
     "data": {
      "text/html": [
       "<table>\n",
       "<thead><tr><th></th><th scope=col>Квартальные</th><th scope=col>Сезонно сглаженные</th><th scope=col>Месячные</th></tr></thead>\n",
       "<tbody>\n",
       "\t<tr><th scope=row>1 level</th><td>78.02445</td><td>344.6785</td><td>9104.068</td></tr>\n",
       "\t<tr><th scope=row>2</th><td>      NA</td><td>      NA</td><td>      NA</td></tr>\n",
       "\t<tr><th scope=row>3</th><td>      NA</td><td>      NA</td><td>      NA</td></tr>\n",
       "\t<tr><th scope=row>4</th><td>      NA</td><td>      NA</td><td>      NA</td></tr>\n",
       "\t<tr><th scope=row>5</th><td>      NA</td><td>      NA</td><td>      NA</td></tr>\n",
       "</tbody>\n",
       "</table>\n"
      ],
      "text/latex": [
       "\\begin{tabular}{r|lll}\n",
       "  & Квартальные & Сезонно сглаженные & Месячные\\\\\n",
       "\\hline\n",
       "\t1 level & 78.02445 & 344.6785 & 9104.068\\\\\n",
       "\t2 &       NA &       NA &       NA\\\\\n",
       "\t3 &       NA &       NA &       NA\\\\\n",
       "\t4 &       NA &       NA &       NA\\\\\n",
       "\t5 &       NA &       NA &       NA\\\\\n",
       "\\end{tabular}\n"
      ],
      "text/markdown": [
       "\n",
       "| <!--/--> | Квартальные | Сезонно сглаженные | Месячные | \n",
       "|---|---|---|---|---|\n",
       "| 1 level | 78.02445 | 344.6785 | 9104.068 | \n",
       "| 2 |       NA |       NA |       NA | \n",
       "| 3 |       NA |       NA |       NA | \n",
       "| 4 |       NA |       NA |       NA | \n",
       "| 5 |       NA |       NA |       NA | \n",
       "\n",
       "\n"
      ],
      "text/plain": [
       "        Квартальные Сезонно сглаженные Месячные\n",
       "1 level 78.02445    344.6785           9104.068\n",
       "2             NA          NA                 NA\n",
       "3             NA          NA                 NA\n",
       "4             NA          NA                 NA\n",
       "5             NA          NA                 NA"
      ]
     },
     "metadata": {},
     "output_type": "display_data"
    }
   ],
   "source": [
    "df_mean_acc[1,2]  <- colMeans(df_acc_test)[[2]]\n",
    "df_mean_acc"
   ]
  },
  {
   "cell_type": "code",
   "execution_count": 28,
   "metadata": {},
   "outputs": [],
   "source": [
    "save_plots[[3]]  <-  plot_forecasts"
   ]
  },
  {
   "cell_type": "code",
   "execution_count": null,
   "metadata": {},
   "outputs": [],
   "source": []
  },
  {
   "cell_type": "code",
   "execution_count": 29,
   "metadata": {},
   "outputs": [],
   "source": [
    "var_allornot  <- var_freq\n",
    "# var_allornot  <- 1\n",
    "var_shift  <-  var_topup\n",
    "# var_shift  <-  0"
   ]
  },
  {
   "cell_type": "markdown",
   "metadata": {},
   "source": [
    "### РФ"
   ]
  },
  {
   "cell_type": "code",
   "execution_count": 30,
   "metadata": {},
   "outputs": [],
   "source": [
    "df_eu  <-  read.csv(file=\"../data_hts/hts_rus_summed.csv\", header=TRUE, sep=\",\", row.names =1 )\n",
    "# df_eu  <-  df_eu/1000\n",
    "var_freq  <- 12    \n",
    "var_start_year  <- 2006   \n",
    "gdp_agg <- df_eu_sums <-  rowSums(df_eu)\n",
    "gdp_agg  <- ts(gdp_agg, frequency = var_freq, start = var_start_year) "
   ]
  },
  {
   "cell_type": "code",
   "execution_count": 31,
   "metadata": {},
   "outputs": [],
   "source": [
    "var_h  <- 24\n",
    "var_window  <-  84 - 1\n",
    "var_topup  <-  -1\n",
    "var_iter   <- (length(gdp_agg)+var_topup)/var_freq-(var_window+1)/var_freq-2"
   ]
  },
  {
   "cell_type": "code",
   "execution_count": 32,
   "metadata": {},
   "outputs": [],
   "source": [
    "# var_allornot  <- var_freq\n",
    "var_allornot  <- 1\n",
    "# var_shift  <-  var_topup\n",
    "var_shift  <-  0\n",
    "\n",
    "var_arpdq   <-  c(4,0,0)\n",
    "var_sarpdq   <-  c(1,1,0)\n",
    "var_drift   <-  FALSE\n",
    "var_constant   <-  FALSE"
   ]
  },
  {
   "cell_type": "code",
   "execution_count": 33,
   "metadata": {},
   "outputs": [
    {
     "name": "stderr",
     "output_type": "stream",
     "text": [
      "Loading required package: svMisc\n",
      "\n",
      "Attaching package: ‘svMisc’\n",
      "\n",
      "The following object is masked from ‘package:utils’:\n",
      "\n",
      "    ?\n",
      "\n"
     ]
    }
   ],
   "source": [
    "require(svMisc)"
   ]
  },
  {
   "cell_type": "code",
   "execution_count": 34,
   "metadata": {},
   "outputs": [
    {
     "name": "stdout",
     "output_type": "stream",
     "text": [
      "          0%---------25%---------50%---------75%--------100%\n",
      "Progress: ||"
     ]
    }
   ],
   "source": [
    "l <- ac <- m_top  <- l_test  <-  list()\n",
    "\n",
    "k  <- 0\n",
    "err_list  <- c()\n",
    "for (i in 0:(var_iter*var_allornot - var_shift)){\n",
    "    k  <-  k+1\n",
    "    st_year  <-  var_start_year + i/var_allornot\n",
    "    train_start  <- st_year \n",
    "    train_end  <- st_year + 1/var_freq*(var_window)\n",
    "    test_start  <- st_year + 1/var_freq*(var_window+1) \n",
    "    test_end  <-  st_year + 1/var_freq*(var_window+var_h)\n",
    "    \n",
    "#     print(c(train_start, train_end, test_start, test_end))\n",
    "    \n",
    "    if (i == 0){\n",
    "        train <- window(gdp_agg, end=train_end)}\n",
    "    else{\n",
    "#         if ((var_shift == 0) & (i == var_iter*var_allornot - var_shift)){\n",
    "#             train <- window(gdp_agg, start=train_start-var_topup/var_freq, end=train_end-var_topup/var_freq)\n",
    "#         }else{\n",
    "            train <- window(gdp_agg, start=train_start, end=train_end)\n",
    "#     }\n",
    "}\n",
    "    \n",
    "#     if ((var_shift == 0) & (i == var_iter*var_allornot - var_shift)){\n",
    "#         test <- window(gdp_agg, start=test_start-var_topup/var_freq)\n",
    "#     }else{    \n",
    "        test <- window(gdp_agg, start=test_start, end=test_end)\n",
    "        \n",
    "#     }\n",
    "    \n",
    "#     m_top[[k]]  <- Arima(train, order=var_arpdq, seasonal=var_sarpdq, include.drift = var_drift, include.mean = var_constant, \n",
    "#                          method = \"ML\" )\n",
    "    \n",
    "#     model  <-  \n",
    "    m_top[[k]]  <-Arima(msts(train, seasonal.periods = var_freq), order=var_arpdq, seasonal=var_sarpdq, include.drift = var_drift, include.mean = var_constant, method=\"ML\")\n",
    "\n",
    "    \n",
    "    \n",
    "#     print(test)\n",
    "#     print(gdp_arima)\n",
    "    l[[k]]  <-   forecast(m_top[[k]], h = var_h  )\n",
    "                \n",
    "#     if (model[[2]]!=0){\n",
    "#         err_list <-  c(err_list,model[[2]])\n",
    "#     }              \n",
    "                \n",
    "                \n",
    "    l_test[[i+1]]  <-   test\n",
    "    \n",
    "    ac[[i+1]]  <-  accuracy(l[[k]], test)\n",
    "                \n",
    "    progress(i, progress.bar = TRUE)\n",
    "    \n",
    "    \n",
    "                \n",
    "    }"
   ]
  },
  {
   "cell_type": "code",
   "execution_count": 35,
   "metadata": {},
   "outputs": [
    {
     "data": {
      "text/html": [
       "<table>\n",
       "<thead><tr><th scope=col>ME</th><th scope=col>RMSE</th><th scope=col>MAPE</th></tr></thead>\n",
       "<tbody>\n",
       "\t<tr><td>  3846.34118</td><td> 6039.135   </td><td>169.26689   </td></tr>\n",
       "\t<tr><td>   -53.37748</td><td> 3974.538   </td><td> 89.11452   </td></tr>\n",
       "\t<tr><td>  -569.87468</td><td> 5696.585   </td><td> 88.37015   </td></tr>\n",
       "\t<tr><td>-10040.24571</td><td>12755.656   </td><td>196.05387   </td></tr>\n",
       "\t<tr><td>-10633.63505</td><td>13277.966   </td><td>168.83540   </td></tr>\n",
       "</tbody>\n",
       "</table>\n"
      ],
      "text/latex": [
       "\\begin{tabular}{r|lll}\n",
       " ME & RMSE & MAPE\\\\\n",
       "\\hline\n",
       "\t   3846.34118 &  6039.135    & 169.26689   \\\\\n",
       "\t    -53.37748 &  3974.538    &  89.11452   \\\\\n",
       "\t   -569.87468 &  5696.585    &  88.37015   \\\\\n",
       "\t -10040.24571 & 12755.656    & 196.05387   \\\\\n",
       "\t -10633.63505 & 13277.966    & 168.83540   \\\\\n",
       "\\end{tabular}\n"
      ],
      "text/markdown": [
       "\n",
       "ME | RMSE | MAPE | \n",
       "|---|---|---|---|---|\n",
       "|   3846.34118 |  6039.135    | 169.26689    | \n",
       "|    -53.37748 |  3974.538    |  89.11452    | \n",
       "|   -569.87468 |  5696.585    |  88.37015    | \n",
       "| -10040.24571 | 12755.656    | 196.05387    | \n",
       "| -10633.63505 | 13277.966    | 168.83540    | \n",
       "\n",
       "\n"
      ],
      "text/plain": [
       "  ME           RMSE      MAPE     \n",
       "1   3846.34118  6039.135 169.26689\n",
       "2    -53.37748  3974.538  89.11452\n",
       "3   -569.87468  5696.585  88.37015\n",
       "4 -10040.24571 12755.656 196.05387\n",
       "5 -10633.63505 13277.966 168.83540"
      ]
     },
     "metadata": {},
     "output_type": "display_data"
    }
   ],
   "source": [
    "var_acc_metrics  <-  c(1,2,5)\n",
    "df_acc_test  <- ac[[1]][2, var_acc_metrics]\n",
    "for (i in ac[2:length(ac)]){\n",
    "    x  <-  i[2, var_acc_metrics]\n",
    "    df_acc_test   <-  cbind(df_acc_test, x)\n",
    "}\n",
    "df_acc_test  <- t(df_acc_test)\n",
    "df_acc_test  <-  as.data.frame(df_acc_test)\n",
    "row.names(df_acc_test)  <-  seq(1,length(ac))\n",
    "df_acc_test"
   ]
  },
  {
   "cell_type": "code",
   "execution_count": 36,
   "metadata": {},
   "outputs": [
    {
     "data": {
      "text/html": [
       "<dl class=dl-horizontal>\n",
       "\t<dt>ME</dt>\n",
       "\t\t<dd>-3490.15834855758</dd>\n",
       "\t<dt>RMSE</dt>\n",
       "\t\t<dd>8348.77608612221</dd>\n",
       "\t<dt>MAPE</dt>\n",
       "\t\t<dd>142.328164110087</dd>\n",
       "</dl>\n"
      ],
      "text/latex": [
       "\\begin{description*}\n",
       "\\item[ME] -3490.15834855758\n",
       "\\item[RMSE] 8348.77608612221\n",
       "\\item[MAPE] 142.328164110087\n",
       "\\end{description*}\n"
      ],
      "text/markdown": [
       "ME\n",
       ":   -3490.15834855758RMSE\n",
       ":   8348.77608612221MAPE\n",
       ":   142.328164110087\n",
       "\n"
      ],
      "text/plain": [
       "        ME       RMSE       MAPE \n",
       "-3490.1583  8348.7761   142.3282 "
      ]
     },
     "metadata": {},
     "output_type": "display_data"
    }
   ],
   "source": [
    "colMeans(df_acc_test)"
   ]
  },
  {
   "cell_type": "code",
   "execution_count": 37,
   "metadata": {},
   "outputs": [
    {
     "data": {
      "text/plain": [
       "NULL"
      ]
     },
     "metadata": {},
     "output_type": "display_data"
    }
   ],
   "source": [
    "err_list"
   ]
  },
  {
   "cell_type": "code",
   "execution_count": 38,
   "metadata": {},
   "outputs": [
    {
     "data": {},
     "metadata": {},
     "output_type": "display_data"
    },
    {
     "data": {
      "image/png": "[encoded data removed]",
      "text/plain": [
       "plot without title"
      ]
     },
     "metadata": {},
     "output_type": "display_data"
    }
   ],
   "source": [
    "plot_forecasts  <-  autoplot(window(gdp_agg, start=2010))+\n",
    "    xlab(\"Время\") + ylab('ЕП') +\n",
    "    ggtitle(\"AR(11)SAR(2) с линейным трендом\") +\n",
    "    guides(colour=guide_legend(title=\" \")) +\n",
    "    theme(aspect.ratio = 0.75)\n",
    "\n",
    "for (i in 1:length(l)){\n",
    "    plot_forecasts  <-  plot_forecasts  +\n",
    "    autolayer(l[[i]], series=paste(\"Итерация\" , i, sep=\" \") ,   PI=FALSE) \n",
    "    \n",
    "}\n",
    "\n",
    "plot_forecasts\n"
   ]
  },
  {
   "cell_type": "code",
   "execution_count": 44,
   "metadata": {},
   "outputs": [
    {
     "data": {
      "text/html": [
       "<table>\n",
       "<thead><tr><th scope=col>ME</th><th scope=col>RMSE</th><th scope=col>MAPE</th></tr></thead>\n",
       "<tbody>\n",
       "\t<tr><td>  3846.34118</td><td> 6039.135   </td><td>169.26689   </td></tr>\n",
       "\t<tr><td>   -53.37748</td><td> 3974.538   </td><td> 89.11452   </td></tr>\n",
       "\t<tr><td>  -569.87468</td><td> 5696.585   </td><td> 88.37015   </td></tr>\n",
       "\t<tr><td>-10040.24571</td><td>12755.656   </td><td>196.05387   </td></tr>\n",
       "\t<tr><td>-10633.63505</td><td>13277.966   </td><td>168.83540   </td></tr>\n",
       "</tbody>\n",
       "</table>\n"
      ],
      "text/latex": [
       "\\begin{tabular}{r|lll}\n",
       " ME & RMSE & MAPE\\\\\n",
       "\\hline\n",
       "\t   3846.34118 &  6039.135    & 169.26689   \\\\\n",
       "\t    -53.37748 &  3974.538    &  89.11452   \\\\\n",
       "\t   -569.87468 &  5696.585    &  88.37015   \\\\\n",
       "\t -10040.24571 & 12755.656    & 196.05387   \\\\\n",
       "\t -10633.63505 & 13277.966    & 168.83540   \\\\\n",
       "\\end{tabular}\n"
      ],
      "text/markdown": [
       "\n",
       "ME | RMSE | MAPE | \n",
       "|---|---|---|---|---|\n",
       "|   3846.34118 |  6039.135    | 169.26689    | \n",
       "|    -53.37748 |  3974.538    |  89.11452    | \n",
       "|   -569.87468 |  5696.585    |  88.37015    | \n",
       "| -10040.24571 | 12755.656    | 196.05387    | \n",
       "| -10633.63505 | 13277.966    | 168.83540    | \n",
       "\n",
       "\n"
      ],
      "text/plain": [
       "  ME           RMSE      MAPE     \n",
       "1   3846.34118  6039.135 169.26689\n",
       "2    -53.37748  3974.538  89.11452\n",
       "3   -569.87468  5696.585  88.37015\n",
       "4 -10040.24571 12755.656 196.05387\n",
       "5 -10633.63505 13277.966 168.83540"
      ]
     },
     "metadata": {},
     "output_type": "display_data"
    }
   ],
   "source": [
    "df_acc_test"
   ]
  },
  {
   "cell_type": "code",
   "execution_count": 39,
   "metadata": {},
   "outputs": [
    {
     "data": {
      "text/html": [
       "<table>\n",
       "<thead><tr><th></th><th scope=col>Квартальные</th><th scope=col>Сезонно сглаженные</th><th scope=col>Месячные</th></tr></thead>\n",
       "<tbody>\n",
       "\t<tr><th scope=row>1 level</th><td>78.02445</td><td>344.6785</td><td>8348.776</td></tr>\n",
       "\t<tr><th scope=row>2</th><td>      NA</td><td>      NA</td><td>      NA</td></tr>\n",
       "\t<tr><th scope=row>3</th><td>      NA</td><td>      NA</td><td>      NA</td></tr>\n",
       "\t<tr><th scope=row>4</th><td>      NA</td><td>      NA</td><td>      NA</td></tr>\n",
       "\t<tr><th scope=row>5</th><td>      NA</td><td>      NA</td><td>      NA</td></tr>\n",
       "</tbody>\n",
       "</table>\n"
      ],
      "text/latex": [
       "\\begin{tabular}{r|lll}\n",
       "  & Квартальные & Сезонно сглаженные & Месячные\\\\\n",
       "\\hline\n",
       "\t1 level & 78.02445 & 344.6785 & 8348.776\\\\\n",
       "\t2 &       NA &       NA &       NA\\\\\n",
       "\t3 &       NA &       NA &       NA\\\\\n",
       "\t4 &       NA &       NA &       NA\\\\\n",
       "\t5 &       NA &       NA &       NA\\\\\n",
       "\\end{tabular}\n"
      ],
      "text/markdown": [
       "\n",
       "| <!--/--> | Квартальные | Сезонно сглаженные | Месячные | \n",
       "|---|---|---|---|---|\n",
       "| 1 level | 78.02445 | 344.6785 | 8348.776 | \n",
       "| 2 |       NA |       NA |       NA | \n",
       "| 3 |       NA |       NA |       NA | \n",
       "| 4 |       NA |       NA |       NA | \n",
       "| 5 |       NA |       NA |       NA | \n",
       "\n",
       "\n"
      ],
      "text/plain": [
       "        Квартальные Сезонно сглаженные Месячные\n",
       "1 level 78.02445    344.6785           8348.776\n",
       "2             NA          NA                 NA\n",
       "3             NA          NA                 NA\n",
       "4             NA          NA                 NA\n",
       "5             NA          NA                 NA"
      ]
     },
     "metadata": {},
     "output_type": "display_data"
    }
   ],
   "source": [
    "df_mean_acc[1,3]  <- colMeans(df_acc_test)[[2]]\n",
    "df_mean_acc"
   ]
  },
  {
   "cell_type": "code",
   "execution_count": 40,
   "metadata": {},
   "outputs": [],
   "source": [
    "save_plots[[5]]  <-  plot_forecasts"
   ]
  },
  {
   "cell_type": "code",
   "execution_count": 41,
   "metadata": {},
   "outputs": [],
   "source": [
    "var_allornot  <- var_freq\n",
    "# var_allornot  <- 1\n",
    "var_shift  <-  var_topup\n",
    "# var_shift  <-  0"
   ]
  },
  {
   "cell_type": "code",
   "execution_count": null,
   "metadata": {},
   "outputs": [],
   "source": []
  },
  {
   "cell_type": "code",
   "execution_count": 42,
   "metadata": {},
   "outputs": [
    {
     "data": {
      "text/html": [
       "<table>\n",
       "<thead><tr><th></th><th scope=col>Квартальные</th><th scope=col>Сезонно сглаженные</th><th scope=col>Месячные</th></tr></thead>\n",
       "<tbody>\n",
       "\t<tr><th scope=row>1 level</th><td>78.02445</td><td>344.6785</td><td>8348.776</td></tr>\n",
       "\t<tr><th scope=row>2</th><td>      NA</td><td>      NA</td><td>      NA</td></tr>\n",
       "\t<tr><th scope=row>3</th><td>      NA</td><td>      NA</td><td>      NA</td></tr>\n",
       "\t<tr><th scope=row>4</th><td>      NA</td><td>      NA</td><td>      NA</td></tr>\n",
       "\t<tr><th scope=row>5</th><td>      NA</td><td>      NA</td><td>      NA</td></tr>\n",
       "</tbody>\n",
       "</table>\n"
      ],
      "text/latex": [
       "\\begin{tabular}{r|lll}\n",
       "  & Квартальные & Сезонно сглаженные & Месячные\\\\\n",
       "\\hline\n",
       "\t1 level & 78.02445 & 344.6785 & 8348.776\\\\\n",
       "\t2 &       NA &       NA &       NA\\\\\n",
       "\t3 &       NA &       NA &       NA\\\\\n",
       "\t4 &       NA &       NA &       NA\\\\\n",
       "\t5 &       NA &       NA &       NA\\\\\n",
       "\\end{tabular}\n"
      ],
      "text/markdown": [
       "\n",
       "| <!--/--> | Квартальные | Сезонно сглаженные | Месячные | \n",
       "|---|---|---|---|---|\n",
       "| 1 level | 78.02445 | 344.6785 | 8348.776 | \n",
       "| 2 |       NA |       NA |       NA | \n",
       "| 3 |       NA |       NA |       NA | \n",
       "| 4 |       NA |       NA |       NA | \n",
       "| 5 |       NA |       NA |       NA | \n",
       "\n",
       "\n"
      ],
      "text/plain": [
       "        Квартальные Сезонно сглаженные Месячные\n",
       "1 level 78.02445    344.6785           8348.776\n",
       "2             NA          NA                 NA\n",
       "3             NA          NA                 NA\n",
       "4             NA          NA                 NA\n",
       "5             NA          NA                 NA"
      ]
     },
     "metadata": {},
     "output_type": "display_data"
    }
   ],
   "source": [
    "df_mean_acc"
   ]
  },
  {
   "cell_type": "code",
   "execution_count": 43,
   "metadata": {},
   "outputs": [],
   "source": [
    "saveRDS(df_mean_acc, \"df_mean_acc.rds\")"
   ]
  },
  {
   "cell_type": "code",
   "execution_count": null,
   "metadata": {},
   "outputs": [],
   "source": []
  },
  {
   "cell_type": "code",
   "execution_count": null,
   "metadata": {},
   "outputs": [],
   "source": []
  }
 ],
 "metadata": {
  "kernelspec": {
   "display_name": "R 3.5.1",
   "language": "R",
   "name": "ir"
  },
  "language_info": {
   "codemirror_mode": "r",
   "file_extension": ".r",
   "mimetype": "text/x-r-source",
   "name": "R",
   "pygments_lexer": "r",
   "version": "3.5.2"
  }
 },
 "nbformat": 4,
 "nbformat_minor": 2
}
