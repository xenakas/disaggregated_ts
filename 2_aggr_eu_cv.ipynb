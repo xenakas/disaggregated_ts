{
 "cells": [
  {
   "cell_type": "markdown",
   "metadata": {},
   "source": [
    "### 2. Выбор модели для прогнозирования ВВП ЕС"
   ]
  },
  {
   "cell_type": "markdown",
   "metadata": {},
   "source": [
    "### Проверка\n",
    "\n",
    "- [RMSFE](https://otexts.com/fpp2/accuracy.html) \n",
    "- [Methods used in M3](https://www.sciencedirect.com/science/article/pii/S0169207006000239)\n",
    "- [Regression and time series model selection in small samples](https://www.stat.berkeley.edu/~binyu/summer08/Hurvich.AICc.pdf): KL information\n",
    "\n",
    "\n",
    "10% наблюдений\n",
    "\n",
    "- rus: прогноз на 1/2 \n",
    "- eu/us: прогноз на 4/8\n",
    "\n",
    "\n",
    "- eu - каждое 4, зависимость точности вычислений и метода для рядов разной длины?"
   ]
  },
  {
   "cell_type": "code",
   "execution_count": 13,
   "metadata": {},
   "outputs": [
    {
     "name": "stderr",
     "output_type": "stream",
     "text": [
      "\n",
      "Attaching package: ‘dplyr’\n",
      "\n",
      "The following objects are masked from ‘package:stats’:\n",
      "\n",
      "    filter, lag\n",
      "\n",
      "The following objects are masked from ‘package:base’:\n",
      "\n",
      "    intersect, setdiff, setequal, union\n",
      "\n"
     ]
    }
   ],
   "source": [
    "library(forecast)\n",
    "library(ggplot2)\n",
    "library(dplyr)"
   ]
  },
  {
   "cell_type": "markdown",
   "metadata": {},
   "source": [
    "\n",
    "## Aggregated TS"
   ]
  },
  {
   "cell_type": "code",
   "execution_count": 14,
   "metadata": {},
   "outputs": [],
   "source": [
    "df_eu  <-  read.csv(file=\"hts_eu_a10.csv\", header=TRUE, sep=\",\", row.names =1 )"
   ]
  },
  {
   "cell_type": "code",
   "execution_count": 15,
   "metadata": {},
   "outputs": [],
   "source": [
    "df_eu  <-  df_eu/1000"
   ]
  },
  {
   "cell_type": "code",
   "execution_count": 16,
   "metadata": {},
   "outputs": [],
   "source": [
    "gdp_agg <- df_eu_sums <-  rowSums(df_eu)\n",
    "gdp_agg  <- ts(gdp_agg, frequency = 4, start = 2000) "
   ]
  },
  {
   "cell_type": "code",
   "execution_count": 17,
   "metadata": {},
   "outputs": [],
   "source": [
    "train <- window(gdp_agg, end=c(2016,4))\n",
    "test <- window(gdp_agg, start=c(2017,1))"
   ]
  },
  {
   "cell_type": "markdown",
   "metadata": {},
   "source": [
    "#### Модель 0: RW with drift\n",
    "\n",
    "The random walk with drift model is\n",
    "\n",
    "$$Y_t=c + Y_{t-1} + Z_t$$\n",
    "\n",
    "``rwf(y, h, drift=TRUE)``"
   ]
  },
  {
   "cell_type": "markdown",
   "metadata": {},
   "source": [
    "#### Модель 1: Theta\n",
    "\n",
    "``library(foreast)``\n",
    "\n",
    "Equivalent to simple exponential smoothing with drift \n",
    "\n",
    "$\\sim$ ETS(AAdN)"
   ]
  },
  {
   "cell_type": "code",
   "execution_count": 18,
   "metadata": {},
   "outputs": [],
   "source": [
    "gdp_rwf <- rwf(train,h=7)\n",
    "gdp_rwfwd <- rwf(train,h=7, drift=TRUE)\n",
    "gdp_snaive  <- snaive(train,h=7)\n",
    "gdp_theta  <- thetaf(train, h=7)\n",
    "gdp_arima  <- forecast(Arima(train, order=c(3,1,0), seasonal=c(3,1,0)), h=7)\n",
    "gdp_auto_arima  <- forecast(auto.arima(train, stationary = FALSE, seasonal = TRUE, lambda=\"auto\"), h=7)\n",
    "gdp_ets <- forecast(ets(train), h=7)"
   ]
  },
  {
   "cell_type": "code",
   "execution_count": 19,
   "metadata": {},
   "outputs": [
    {
     "name": "stdout",
     "output_type": "stream",
     "text": [
      "RW"
     ]
    },
    {
     "data": {
      "text/html": [
       "<table>\n",
       "<thead><tr><th></th><th scope=col>RMSE</th><th scope=col>MAPE</th><th scope=col>ACF1</th><th scope=col>Theil's U</th></tr></thead>\n",
       "<tbody>\n",
       "\t<tr><th scope=row>Training set</th><td> 61.95782 </td><td>1.882082  </td><td>-0.4830031</td><td>      NA  </td></tr>\n",
       "\t<tr><th scope=row>Test set</th><td>100.92498 </td><td>2.517203  </td><td> 0.2892763</td><td>1.698108  </td></tr>\n",
       "</tbody>\n",
       "</table>\n"
      ],
      "text/latex": [
       "\\begin{tabular}{r|llll}\n",
       "  & RMSE & MAPE & ACF1 & Theil's U\\\\\n",
       "\\hline\n",
       "\tTraining set &  61.95782  & 1.882082   & -0.4830031 &       NA  \\\\\n",
       "\tTest set & 100.92498  & 2.517203   &  0.2892763 & 1.698108  \\\\\n",
       "\\end{tabular}\n"
      ],
      "text/markdown": [
       "\n",
       "| <!--/--> | RMSE | MAPE | ACF1 | Theil's U | \n",
       "|---|---|\n",
       "| Training set |  61.95782  | 1.882082   | -0.4830031 |       NA   | \n",
       "| Test set | 100.92498  | 2.517203   |  0.2892763 | 1.698108   | \n",
       "\n",
       "\n"
      ],
      "text/plain": [
       "             RMSE      MAPE     ACF1       Theil's U\n",
       "Training set  61.95782 1.882082 -0.4830031       NA \n",
       "Test set     100.92498 2.517203  0.2892763 1.698108 "
      ]
     },
     "metadata": {},
     "output_type": "display_data"
    },
    {
     "name": "stdout",
     "output_type": "stream",
     "text": [
      "RW with drift "
     ]
    },
    {
     "data": {
      "text/html": [
       "<table>\n",
       "<thead><tr><th></th><th scope=col>RMSE</th><th scope=col>MAPE</th><th scope=col>ACF1</th><th scope=col>Theil's U</th></tr></thead>\n",
       "<tbody>\n",
       "\t<tr><th scope=row>Training set</th><td>58.84927  </td><td>1.7150060 </td><td>-0.4830031</td><td>       NA </td></tr>\n",
       "\t<tr><th scope=row>Test set</th><td>34.77671  </td><td>0.8161775 </td><td>-0.3038002</td><td>0.4691468 </td></tr>\n",
       "</tbody>\n",
       "</table>\n"
      ],
      "text/latex": [
       "\\begin{tabular}{r|llll}\n",
       "  & RMSE & MAPE & ACF1 & Theil's U\\\\\n",
       "\\hline\n",
       "\tTraining set & 58.84927   & 1.7150060  & -0.4830031 &        NA \\\\\n",
       "\tTest set & 34.77671   & 0.8161775  & -0.3038002 & 0.4691468 \\\\\n",
       "\\end{tabular}\n"
      ],
      "text/markdown": [
       "\n",
       "| <!--/--> | RMSE | MAPE | ACF1 | Theil's U | \n",
       "|---|---|\n",
       "| Training set | 58.84927   | 1.7150060  | -0.4830031 |        NA  | \n",
       "| Test set | 34.77671   | 0.8161775  | -0.3038002 | 0.4691468  | \n",
       "\n",
       "\n"
      ],
      "text/plain": [
       "             RMSE     MAPE      ACF1       Theil's U\n",
       "Training set 58.84927 1.7150060 -0.4830031        NA\n",
       "Test set     34.77671 0.8161775 -0.3038002 0.4691468"
      ]
     },
     "metadata": {},
     "output_type": "display_data"
    },
    {
     "name": "stdout",
     "output_type": "stream",
     "text": [
      "SNaive"
     ]
    },
    {
     "data": {
      "text/html": [
       "<table>\n",
       "<thead><tr><th></th><th scope=col>RMSE</th><th scope=col>MAPE</th><th scope=col>ACF1</th><th scope=col>Theil's U</th></tr></thead>\n",
       "<tbody>\n",
       "\t<tr><th scope=row>Training set</th><td>108.5054 </td><td>3.463232 </td><td>0.8651959</td><td>      NA </td></tr>\n",
       "\t<tr><th scope=row>Test set</th><td>146.0437 </td><td>3.858363 </td><td>0.5407384</td><td>2.451424 </td></tr>\n",
       "</tbody>\n",
       "</table>\n"
      ],
      "text/latex": [
       "\\begin{tabular}{r|llll}\n",
       "  & RMSE & MAPE & ACF1 & Theil's U\\\\\n",
       "\\hline\n",
       "\tTraining set & 108.5054  & 3.463232  & 0.8651959 &       NA \\\\\n",
       "\tTest set & 146.0437  & 3.858363  & 0.5407384 & 2.451424 \\\\\n",
       "\\end{tabular}\n"
      ],
      "text/markdown": [
       "\n",
       "| <!--/--> | RMSE | MAPE | ACF1 | Theil's U | \n",
       "|---|---|\n",
       "| Training set | 108.5054  | 3.463232  | 0.8651959 |       NA  | \n",
       "| Test set | 146.0437  | 3.858363  | 0.5407384 | 2.451424  | \n",
       "\n",
       "\n"
      ],
      "text/plain": [
       "             RMSE     MAPE     ACF1      Theil's U\n",
       "Training set 108.5054 3.463232 0.8651959       NA \n",
       "Test set     146.0437 3.858363 0.5407384 2.451424 "
      ]
     },
     "metadata": {},
     "output_type": "display_data"
    },
    {
     "name": "stdout",
     "output_type": "stream",
     "text": [
      "Theta"
     ]
    },
    {
     "data": {
      "text/html": [
       "<table>\n",
       "<thead><tr><th></th><th scope=col>RMSE</th><th scope=col>MAPE</th><th scope=col>ACF1</th><th scope=col>Theil's U</th></tr></thead>\n",
       "<tbody>\n",
       "\t<tr><th scope=row>Training set</th><td> 33.50994</td><td>0.9718586</td><td>0.4282525</td><td>      NA </td></tr>\n",
       "\t<tr><th scope=row>Test set</th><td>109.49660</td><td>2.9609962</td><td>0.6189463</td><td>1.829338 </td></tr>\n",
       "</tbody>\n",
       "</table>\n"
      ],
      "text/latex": [
       "\\begin{tabular}{r|llll}\n",
       "  & RMSE & MAPE & ACF1 & Theil's U\\\\\n",
       "\\hline\n",
       "\tTraining set &  33.50994 & 0.9718586 & 0.4282525 &       NA \\\\\n",
       "\tTest set & 109.49660 & 2.9609962 & 0.6189463 & 1.829338 \\\\\n",
       "\\end{tabular}\n"
      ],
      "text/markdown": [
       "\n",
       "| <!--/--> | RMSE | MAPE | ACF1 | Theil's U | \n",
       "|---|---|\n",
       "| Training set |  33.50994 | 0.9718586 | 0.4282525 |       NA  | \n",
       "| Test set | 109.49660 | 2.9609962 | 0.6189463 | 1.829338  | \n",
       "\n",
       "\n"
      ],
      "text/plain": [
       "             RMSE      MAPE      ACF1      Theil's U\n",
       "Training set  33.50994 0.9718586 0.4282525       NA \n",
       "Test set     109.49660 2.9609962 0.6189463 1.829338 "
      ]
     },
     "metadata": {},
     "output_type": "display_data"
    },
    {
     "name": "stdout",
     "output_type": "stream",
     "text": [
      "ARIMA"
     ]
    },
    {
     "data": {
      "text/html": [
       "<table>\n",
       "<thead><tr><th></th><th scope=col>RMSE</th><th scope=col>MAPE</th><th scope=col>ACF1</th><th scope=col>Theil's U</th></tr></thead>\n",
       "<tbody>\n",
       "\t<tr><th scope=row>Training set</th><td>26.09803    </td><td>0.6448732   </td><td>-0.009209395</td><td>      NA    </td></tr>\n",
       "\t<tr><th scope=row>Test set</th><td>73.73100    </td><td>2.0878054   </td><td> 0.428254693</td><td>1.215606    </td></tr>\n",
       "</tbody>\n",
       "</table>\n"
      ],
      "text/latex": [
       "\\begin{tabular}{r|llll}\n",
       "  & RMSE & MAPE & ACF1 & Theil's U\\\\\n",
       "\\hline\n",
       "\tTraining set & 26.09803     & 0.6448732    & -0.009209395 &       NA    \\\\\n",
       "\tTest set & 73.73100     & 2.0878054    &  0.428254693 & 1.215606    \\\\\n",
       "\\end{tabular}\n"
      ],
      "text/markdown": [
       "\n",
       "| <!--/--> | RMSE | MAPE | ACF1 | Theil's U | \n",
       "|---|---|\n",
       "| Training set | 26.09803     | 0.6448732    | -0.009209395 |       NA     | \n",
       "| Test set | 73.73100     | 2.0878054    |  0.428254693 | 1.215606     | \n",
       "\n",
       "\n"
      ],
      "text/plain": [
       "             RMSE     MAPE      ACF1         Theil's U\n",
       "Training set 26.09803 0.6448732 -0.009209395       NA \n",
       "Test set     73.73100 2.0878054  0.428254693 1.215606 "
      ]
     },
     "metadata": {},
     "output_type": "display_data"
    },
    {
     "name": "stdout",
     "output_type": "stream",
     "text": [
      "Auto ARIMA"
     ]
    },
    {
     "data": {
      "text/html": [
       "<table>\n",
       "<thead><tr><th></th><th scope=col>RMSE</th><th scope=col>MAPE</th><th scope=col>ACF1</th><th scope=col>Theil's U</th></tr></thead>\n",
       "<tbody>\n",
       "\t<tr><th scope=row>Training set</th><td>26.03767  </td><td>0.7036926 </td><td>0.01150891</td><td>      NA  </td></tr>\n",
       "\t<tr><th scope=row>Test set</th><td>71.54672  </td><td>2.0274846 </td><td>0.34492172</td><td>1.179196  </td></tr>\n",
       "</tbody>\n",
       "</table>\n"
      ],
      "text/latex": [
       "\\begin{tabular}{r|llll}\n",
       "  & RMSE & MAPE & ACF1 & Theil's U\\\\\n",
       "\\hline\n",
       "\tTraining set & 26.03767   & 0.7036926  & 0.01150891 &       NA  \\\\\n",
       "\tTest set & 71.54672   & 2.0274846  & 0.34492172 & 1.179196  \\\\\n",
       "\\end{tabular}\n"
      ],
      "text/markdown": [
       "\n",
       "| <!--/--> | RMSE | MAPE | ACF1 | Theil's U | \n",
       "|---|---|\n",
       "| Training set | 26.03767   | 0.7036926  | 0.01150891 |       NA   | \n",
       "| Test set | 71.54672   | 2.0274846  | 0.34492172 | 1.179196   | \n",
       "\n",
       "\n"
      ],
      "text/plain": [
       "             RMSE     MAPE      ACF1       Theil's U\n",
       "Training set 26.03767 0.7036926 0.01150891       NA \n",
       "Test set     71.54672 2.0274846 0.34492172 1.179196 "
      ]
     },
     "metadata": {},
     "output_type": "display_data"
    },
    {
     "name": "stdout",
     "output_type": "stream",
     "text": [
      "ETS"
     ]
    },
    {
     "data": {
      "text/html": [
       "<table>\n",
       "<thead><tr><th></th><th scope=col>RMSE</th><th scope=col>MAPE</th><th scope=col>ACF1</th><th scope=col>Theil's U</th></tr></thead>\n",
       "<tbody>\n",
       "\t<tr><th scope=row>Training set</th><td> 27.55759</td><td>0.736733 </td><td>0.1545656</td><td>      NA </td></tr>\n",
       "\t<tr><th scope=row>Test set</th><td>108.38764</td><td>2.874457 </td><td>0.5775032</td><td>1.824916 </td></tr>\n",
       "</tbody>\n",
       "</table>\n"
      ],
      "text/latex": [
       "\\begin{tabular}{r|llll}\n",
       "  & RMSE & MAPE & ACF1 & Theil's U\\\\\n",
       "\\hline\n",
       "\tTraining set &  27.55759 & 0.736733  & 0.1545656 &       NA \\\\\n",
       "\tTest set & 108.38764 & 2.874457  & 0.5775032 & 1.824916 \\\\\n",
       "\\end{tabular}\n"
      ],
      "text/markdown": [
       "\n",
       "| <!--/--> | RMSE | MAPE | ACF1 | Theil's U | \n",
       "|---|---|\n",
       "| Training set |  27.55759 | 0.736733  | 0.1545656 |       NA  | \n",
       "| Test set | 108.38764 | 2.874457  | 0.5775032 | 1.824916  | \n",
       "\n",
       "\n"
      ],
      "text/plain": [
       "             RMSE      MAPE     ACF1      Theil's U\n",
       "Training set  27.55759 0.736733 0.1545656       NA \n",
       "Test set     108.38764 2.874457 0.5775032 1.824916 "
      ]
     },
     "metadata": {},
     "output_type": "display_data"
    }
   ],
   "source": [
    "cat(\"RW\")\n",
    "accuracy(gdp_rwf, test)[, c(2,5,7,8)]\n",
    "cat(\"RW with drift \")\n",
    "accuracy(gdp_rwfwd, test)[, c(2,5,7,8)]\n",
    "cat(\"SNaive\")\n",
    "accuracy(gdp_snaive, test)[, c(2,5,7,8)]\n",
    "cat(\"Theta\")\n",
    "accuracy(gdp_theta, test)[, c(2,5,7,8)]\n",
    "cat(\"ARIMA\")\n",
    "accuracy(gdp_arima, test)[, c(2,5,7,8)]\n",
    "cat(\"Auto ARIMA\")\n",
    "accuracy(gdp_auto_arima, test)[, c(2,5,7,8)]\n",
    "cat(\"ETS\")\n",
    "accuracy(gdp_ets, test)[, c(2,5,7,8)]"
   ]
  },
  {
   "cell_type": "code",
   "execution_count": 20,
   "metadata": {},
   "outputs": [
    {
     "data": {},
     "metadata": {},
     "output_type": "display_data"
    },
    {
     "data": {
      "image/png": "[encoded data removed]",
      "text/plain": [
       "plot without title"
      ]
     },
     "metadata": {},
     "output_type": "display_data"
    }
   ],
   "source": [
    "autoplot(window(gdp_agg, start=2012)) +\n",
    "    autolayer(gdp_rwf, series=\"RW\", PI=FALSE) +\n",
    "    autolayer(gdp_rwfwd, series=\"RW with drift\", PI=FALSE) +\n",
    "    autolayer(gdp_snaive, series=\"SNaive\", PI=FALSE) +\n",
    "    autolayer(gdp_theta, series=\"Theta Method\", PI=FALSE) +\n",
    "    autolayer(gdp_arima, series=\"ARIMA\", PI=FALSE) +\n",
    "    autolayer(gdp_auto_arima, series=\"Auto ARIMA\", PI=FALSE) +\n",
    "    autolayer(gdp_ets, series=\"ETS\", PI=FALSE) +\n",
    "    xlab(\"Year\") + ylab(\"Mln. Euro\") +\n",
    "    ggtitle(\"Модель 0, 00\") +\n",
    "    guides(colour=guide_legend(title=\"Forecast\")) +\n",
    "    theme(aspect.ratio = 0.75)"
   ]
  },
  {
   "cell_type": "markdown",
   "metadata": {},
   "source": [
    "### tsCV()"
   ]
  },
  {
   "cell_type": "code",
   "execution_count": 52,
   "metadata": {},
   "outputs": [
    {
     "data": {
      "text/html": [
       "76.9951354087957"
      ],
      "text/latex": [
       "76.9951354087957"
      ],
      "text/markdown": [
       "76.9951354087957"
      ],
      "text/plain": [
       "[1] 76.99514"
      ]
     },
     "metadata": {},
     "output_type": "display_data"
    }
   ],
   "source": [
    "gdp_arima_top_cv <- function(x, h){forecast(Arima(x, order=c(3,0,0), seasonal=c(2,0,0), include.drift = TRUE, include.constant\n",
    "= TRUE), h=h)}\n",
    "e_arima_top  <-  tsCV(gdp_agg, gdp_arima_top_cv, h=7, window=40)[42:68,]\n",
    "sqrt(mean(e_arima^2, na.rm=TRUE))"
   ]
  },
  {
   "cell_type": "code",
   "execution_count": 54,
   "metadata": {},
   "outputs": [
    {
     "data": {
      "text/html": [
       "108.349527896402"
      ],
      "text/latex": [
       "108.349527896402"
      ],
      "text/markdown": [
       "108.349527896402"
      ],
      "text/plain": [
       "[1] 108.3495"
      ]
     },
     "metadata": {},
     "output_type": "display_data"
    }
   ],
   "source": [
    "gdp_rwf_cv <- function(x, h){rwf(x,h=h)}\n",
    "e_rwf  <-  tsCV(gdp_agg, gdp_rwf_cv, h=7, window=40)[42:68,]\n",
    "sqrt(mean(e_rwf^2, na.rm=TRUE))"
   ]
  },
  {
   "cell_type": "code",
   "execution_count": 104,
   "metadata": {},
   "outputs": [
    {
     "data": {
      "text/plain": [
       "\n",
       "\tDiebold-Mariano Test\n",
       "\n",
       "data:  e_rwfe_arima_top\n",
       "DM = 5.2208, Forecast horizon = 7, Loss function power = 1, p-value =\n",
       "4.693e-07\n",
       "alternative hypothesis: two.sided\n"
      ]
     },
     "metadata": {},
     "output_type": "display_data"
    },
    {
     "data": {
      "text/plain": [
       "\n",
       "\tDiebold-Mariano Test\n",
       "\n",
       "data:  e_rwfe_arima_top\n",
       "DM = 5.2208, Forecast horizon = 7, Loss function power = 1, p-value =\n",
       "2.346e-07\n",
       "alternative hypothesis: greater\n"
      ]
     },
     "metadata": {},
     "output_type": "display_data"
    }
   ],
   "source": [
    "dm.test(e_rwf, e_arima_top, alternative = \"two.sided\", h = 7, power = 1)\n",
    "dm.test(e_rwf, e_arima_top, alternative = \"greater\", h = 7, power = 1)"
   ]
  },
  {
   "cell_type": "code",
   "execution_count": 56,
   "metadata": {},
   "outputs": [
    {
     "data": {
      "text/html": [
       "69.4690075517561"
      ],
      "text/latex": [
       "69.4690075517561"
      ],
      "text/markdown": [
       "69.4690075517561"
      ],
      "text/plain": [
       "[1] 69.46901"
      ]
     },
     "metadata": {},
     "output_type": "display_data"
    }
   ],
   "source": [
    "gdp_rwfwd_cv <- function(x, h){rwf(x,h=h, drift=TRUE)}\n",
    "e_rwfwd  <-  tsCV(gdp_agg, gdp_rwfwd_cv, h=7, window=40)[42:68,]\n",
    "sqrt(mean(e_rwfwd^2, na.rm=TRUE))"
   ]
  },
  {
   "cell_type": "code",
   "execution_count": 103,
   "metadata": {},
   "outputs": [
    {
     "data": {
      "text/plain": [
       "\n",
       "\tDiebold-Mariano Test\n",
       "\n",
       "data:  e_rwfwde_arima_top\n",
       "DM = -0.69789, Forecast horizon = 7, Loss function power = 1, p-value =\n",
       "0.4861\n",
       "alternative hypothesis: two.sided\n"
      ]
     },
     "metadata": {},
     "output_type": "display_data"
    },
    {
     "data": {
      "text/plain": [
       "\n",
       "\tDiebold-Mariano Test\n",
       "\n",
       "data:  e_rwfwde_arima_top\n",
       "DM = -0.69789, Forecast horizon = 7, Loss function power = 1, p-value =\n",
       "0.7569\n",
       "alternative hypothesis: greater\n"
      ]
     },
     "metadata": {},
     "output_type": "display_data"
    }
   ],
   "source": [
    "dm.test(e_rwfwd, e_arima_top, alternative = \"two.sided\", h = 7, power = 1)\n",
    "dm.test(e_rwfwd, e_arima_top, alternative = \"greater\", h = 7, power = 1)"
   ]
  },
  {
   "cell_type": "code",
   "execution_count": 60,
   "metadata": {},
   "outputs": [
    {
     "data": {
      "text/html": [
       "132.540853319072"
      ],
      "text/latex": [
       "132.540853319072"
      ],
      "text/markdown": [
       "132.540853319072"
      ],
      "text/plain": [
       "[1] 132.5409"
      ]
     },
     "metadata": {},
     "output_type": "display_data"
    }
   ],
   "source": [
    "gdp_snaive_cv <- function(x, h){snaive(x,h=h)}\n",
    "e_snaive  <-  tsCV(gdp_agg, gdp_snaive_cv, h=7, window=40)[42:68,]\n",
    "sqrt(mean(e_snaive^2, na.rm=TRUE))"
   ]
  },
  {
   "cell_type": "code",
   "execution_count": 102,
   "metadata": {},
   "outputs": [
    {
     "data": {
      "text/plain": [
       "\n",
       "\tDiebold-Mariano Test\n",
       "\n",
       "data:  e_snaivee_arima_top\n",
       "DM = 6.6239, Forecast horizon = 7, Loss function power = 1, p-value =\n",
       "3.575e-10\n",
       "alternative hypothesis: two.sided\n"
      ]
     },
     "metadata": {},
     "output_type": "display_data"
    },
    {
     "data": {
      "text/plain": [
       "\n",
       "\tDiebold-Mariano Test\n",
       "\n",
       "data:  e_snaivee_arima_top\n",
       "DM = 6.6239, Forecast horizon = 7, Loss function power = 1, p-value =\n",
       "1.788e-10\n",
       "alternative hypothesis: greater\n"
      ]
     },
     "metadata": {},
     "output_type": "display_data"
    }
   ],
   "source": [
    "dm.test(e_snaive, e_arima_top, alternative = \"two.sided\", h = 7, power = 1)\n",
    "dm.test(e_snaive, e_arima_top, alternative = \"greater\", h = 7, power = 1)"
   ]
  },
  {
   "cell_type": "code",
   "execution_count": 62,
   "metadata": {},
   "outputs": [
    {
     "data": {
      "text/html": [
       "83.4331721387406"
      ],
      "text/latex": [
       "83.4331721387406"
      ],
      "text/markdown": [
       "83.4331721387406"
      ],
      "text/plain": [
       "[1] 83.43317"
      ]
     },
     "metadata": {},
     "output_type": "display_data"
    }
   ],
   "source": [
    "gdp_theta_cv <- function(x, h){thetaf(x, h=h)}\n",
    "e_theta  <-  tsCV(gdp_agg, gdp_theta_cv, h=7, window=40)[42:68,]\n",
    "sqrt(mean(e_theta^2, na.rm=TRUE))"
   ]
  },
  {
   "cell_type": "code",
   "execution_count": 101,
   "metadata": {},
   "outputs": [
    {
     "data": {
      "text/plain": [
       "\n",
       "\tDiebold-Mariano Test\n",
       "\n",
       "data:  e_thetae_arima_top\n",
       "DM = 0.62116, Forecast horizon = 7, Loss function power = 1, p-value =\n",
       "0.5352\n",
       "alternative hypothesis: two.sided\n"
      ]
     },
     "metadata": {},
     "output_type": "display_data"
    },
    {
     "data": {
      "text/plain": [
       "\n",
       "\tDiebold-Mariano Test\n",
       "\n",
       "data:  e_thetae_arima_top\n",
       "DM = 0.62116, Forecast horizon = 7, Loss function power = 1, p-value =\n",
       "0.2676\n",
       "alternative hypothesis: greater\n"
      ]
     },
     "metadata": {},
     "output_type": "display_data"
    }
   ],
   "source": [
    "dm.test(e_theta, e_arima_top, alternative = \"two.sided\", h = 7, power = 1)\n",
    "dm.test(e_theta, e_arima_top, alternative = \"greater\", h = 7, power = 1)"
   ]
  },
  {
   "cell_type": "code",
   "execution_count": 65,
   "metadata": {},
   "outputs": [
    {
     "data": {
      "text/html": [
       "76.9951354087957"
      ],
      "text/latex": [
       "76.9951354087957"
      ],
      "text/markdown": [
       "76.9951354087957"
      ],
      "text/plain": [
       "[1] 76.99514"
      ]
     },
     "metadata": {},
     "output_type": "display_data"
    }
   ],
   "source": [
    "gdp_arima212_cv <- function(x, h){forecast(Arima(x, order=c(2,1,2), seasonal=c(2,1,2)), h=h)}\n",
    "e_arima212  <-  tsCV(gdp_agg, gdp_arima212_cv, h=7, window=40)[42:68,]\n",
    "sqrt(mean(e_arima^2, na.rm=TRUE))"
   ]
  },
  {
   "cell_type": "code",
   "execution_count": 100,
   "metadata": {},
   "outputs": [
    {
     "data": {
      "text/plain": [
       "\n",
       "\tDiebold-Mariano Test\n",
       "\n",
       "data:  e_arima212e_arima_top\n",
       "DM = 2.41, Forecast horizon = 7, Loss function power = 1, p-value =\n",
       "0.01692\n",
       "alternative hypothesis: two.sided\n"
      ]
     },
     "metadata": {},
     "output_type": "display_data"
    },
    {
     "data": {
      "text/plain": [
       "\n",
       "\tDiebold-Mariano Test\n",
       "\n",
       "data:  e_arima212e_arima_top\n",
       "DM = 2.41, Forecast horizon = 7, Loss function power = 1, p-value =\n",
       "0.008459\n",
       "alternative hypothesis: greater\n"
      ]
     },
     "metadata": {},
     "output_type": "display_data"
    }
   ],
   "source": [
    "dm.test(e_arima212, e_arima_top, alternative = \"two.sided\", h = 7, power = 1)\n",
    "dm.test(e_arima212, e_arima_top, alternative = \"greater\", h = 7, power = 1)"
   ]
  },
  {
   "cell_type": "code",
   "execution_count": 72,
   "metadata": {},
   "outputs": [
    {
     "data": {
      "text/html": [
       "76.9951354087957"
      ],
      "text/latex": [
       "76.9951354087957"
      ],
      "text/markdown": [
       "76.9951354087957"
      ],
      "text/plain": [
       "[1] 76.99514"
      ]
     },
     "metadata": {},
     "output_type": "display_data"
    }
   ],
   "source": [
    "gdp_arima310_cv <- function(x, h){forecast(Arima(x, order=c(3,1,0), seasonal=c(3,1,0)), h=h)}\n",
    "e_arima310  <-  tsCV(gdp_agg, gdp_arima310_cv, h=7, window=40)[42:68,]\n",
    "sqrt(mean(e_arima^2, na.rm=TRUE))"
   ]
  },
  {
   "cell_type": "code",
   "execution_count": 99,
   "metadata": {},
   "outputs": [
    {
     "data": {
      "text/plain": [
       "\n",
       "\tDiebold-Mariano Test\n",
       "\n",
       "data:  e_arima310[3:27, ]e_arima_top[3:27, ]\n",
       "DM = 0.54377, Forecast horizon = 7, Loss function power = 1, p-value =\n",
       "0.5873\n",
       "alternative hypothesis: two.sided\n"
      ]
     },
     "metadata": {},
     "output_type": "display_data"
    },
    {
     "data": {
      "text/plain": [
       "\n",
       "\tDiebold-Mariano Test\n",
       "\n",
       "data:  e_arima310[3:27, ]e_arima_top[3:27, ]\n",
       "DM = 0.54377, Forecast horizon = 7, Loss function power = 1, p-value =\n",
       "0.2936\n",
       "alternative hypothesis: greater\n"
      ]
     },
     "metadata": {},
     "output_type": "display_data"
    }
   ],
   "source": [
    "dm.test(e_arima310[3:27,], e_arima_top[3:27,], alternative = \"two.sided\", h = 7, power = 1)\n",
    "dm.test(e_arima310[3:27,], e_arima_top[3:27,], alternative = \"greater\", h = 7, power = 1)"
   ]
  },
  {
   "cell_type": "code",
   "execution_count": 80,
   "metadata": {},
   "outputs": [
    {
     "data": {
      "text/html": [
       "87.3221205943074"
      ],
      "text/latex": [
       "87.3221205943074"
      ],
      "text/markdown": [
       "87.3221205943074"
      ],
      "text/plain": [
       "[1] 87.32212"
      ]
     },
     "metadata": {},
     "output_type": "display_data"
    }
   ],
   "source": [
    "gdp_auto_arima_cv <- function(x, h){forecast(auto.arima(x, stationary = FALSE, seasonal = TRUE, lambda=\"auto\"), h=h)}\n",
    "e_auto_arima  <-  tsCV(gdp_agg, gdp_auto_arima_cv, h=7, window=40)[42:68,]\n",
    "sqrt(mean(e_auto_arima^2, na.rm=TRUE))"
   ]
  },
  {
   "cell_type": "code",
   "execution_count": 93,
   "metadata": {},
   "outputs": [
    {
     "data": {
      "text/plain": [
       "\n",
       "\tDiebold-Mariano Test\n",
       "\n",
       "data:  e_auto_arima[, 1:5]e_arima_top[, 1:5]\n",
       "DM = 3.4675, Forecast horizon = 5, Loss function power = 1, p-value =\n",
       "0.0007067\n",
       "alternative hypothesis: two.sided\n"
      ]
     },
     "metadata": {},
     "output_type": "display_data"
    },
    {
     "data": {
      "text/plain": [
       "\n",
       "\tDiebold-Mariano Test\n",
       "\n",
       "data:  e_auto_arima[, 1:5]e_arima_top[, 1:5]\n",
       "DM = 3.4675, Forecast horizon = 5, Loss function power = 1, p-value =\n",
       "0.0003534\n",
       "alternative hypothesis: greater\n"
      ]
     },
     "metadata": {},
     "output_type": "display_data"
    }
   ],
   "source": [
    "dm.test(e_auto_arima[,1:5], e_arima_top[,1:5], alternative = \"two.sided\", h = 5, power = 1)\n",
    "dm.test(e_auto_arima[,1:5], e_arima_top[,1:5], alternative = \"greater\", h = 5, power = 1)"
   ]
  },
  {
   "cell_type": "code",
   "execution_count": 94,
   "metadata": {},
   "outputs": [
    {
     "data": {
      "text/html": [
       "81.3517494715758"
      ],
      "text/latex": [
       "81.3517494715758"
      ],
      "text/markdown": [
       "81.3517494715758"
      ],
      "text/plain": [
       "[1] 81.35175"
      ]
     },
     "metadata": {},
     "output_type": "display_data"
    }
   ],
   "source": [
    "gdp_ets_cv <- function(x, h){forecast(ets(x), h=h)}\n",
    "e_ets  <-  tsCV(gdp_agg, gdp_ets_cv, h=7, window=40)[42:68,]\n",
    "sqrt(mean(e_ets^2, na.rm=TRUE))"
   ]
  },
  {
   "cell_type": "code",
   "execution_count": 98,
   "metadata": {},
   "outputs": [
    {
     "data": {
      "text/plain": [
       "\n",
       "\tDiebold-Mariano Test\n",
       "\n",
       "data:  e_etse_arima_top\n",
       "DM = 1.8312, Forecast horizon = 7, Loss function power = 1, p-value =\n",
       "0.06865\n",
       "alternative hypothesis: two.sided\n"
      ]
     },
     "metadata": {},
     "output_type": "display_data"
    },
    {
     "data": {
      "text/plain": [
       "\n",
       "\tDiebold-Mariano Test\n",
       "\n",
       "data:  e_etse_arima_top\n",
       "DM = 1.8312, Forecast horizon = 7, Loss function power = 1, p-value =\n",
       "0.03433\n",
       "alternative hypothesis: greater\n"
      ]
     },
     "metadata": {},
     "output_type": "display_data"
    }
   ],
   "source": [
    "dm.test(e_ets, e_arima_top, alternative = \"two.sided\", h = 7, power = 1)\n",
    "dm.test(e_ets, e_arima_top, alternative = \"greater\", h = 7, power = 1)"
   ]
  },
  {
   "cell_type": "markdown",
   "metadata": {},
   "source": [
    "##### lubridate"
   ]
  },
  {
   "cell_type": "code",
   "execution_count": null,
   "metadata": {},
   "outputs": [],
   "source": [
    "library(lubridate)\n",
    "\n",
    "economics$month <- as.factor(month(economics$date))\n",
    "\n",
    "#### creating sampling seeds ####\n",
    "set.seed(123)\n",
    "seeds <- vector(mode = \"list\", length = 432)\n",
    "for(i in 1:431) seeds[[i]] <- sample.int(1000, 5)\n",
    "\n",
    "## For the last model:\n",
    "seeds[[432]] <- sample.int(1000, 1)"
   ]
  },
  {
   "cell_type": "markdown",
   "metadata": {},
   "source": [
    "#####  function"
   ]
  },
  {
   "cell_type": "code",
   "execution_count": 58,
   "metadata": {},
   "outputs": [],
   "source": [
    "df_eu  <-  read.csv(file=\"hts_eu_a10.csv\", header=TRUE, sep=\",\", row.names =1 )"
   ]
  },
  {
   "cell_type": "code",
   "execution_count": 59,
   "metadata": {},
   "outputs": [],
   "source": [
    "gdp_agg <- df_eu_sums <-  rowSums(df_eu)\n",
    "gdp_agg  <- ts(gdp_agg, frequency = 4, start = 2000) "
   ]
  },
  {
   "cell_type": "code",
   "execution_count": 28,
   "metadata": {},
   "outputs": [
    {
     "data": {
      "text/html": [
       "<ol class=list-inline>\n",
       "\t<li>2004</li>\n",
       "\t<li>2016.75</li>\n",
       "\t<li>2017</li>\n",
       "\t<li>2018.75</li>\n",
       "</ol>\n"
      ],
      "text/latex": [
       "\\begin{enumerate*}\n",
       "\\item 2004\n",
       "\\item 2016.75\n",
       "\\item 2017\n",
       "\\item 2018.75\n",
       "\\end{enumerate*}\n"
      ],
      "text/markdown": [
       "1. 2004\n",
       "2. 2016.75\n",
       "3. 2017\n",
       "4. 2018.75\n",
       "\n",
       "\n"
      ],
      "text/plain": [
       "[1] 2004.00 2016.75 2017.00 2018.75"
      ]
     },
     "metadata": {},
     "output_type": "display_data"
    }
   ],
   "source": [
    "c(train_start, train_end, test_start, test_end)"
   ]
  },
  {
   "cell_type": "code",
   "execution_count": 83,
   "metadata": {},
   "outputs": [],
   "source": [
    "gdp_agg  <-  gdp_agg/1000"
   ]
  },
  {
   "cell_type": "code",
   "execution_count": 90,
   "metadata": {},
   "outputs": [],
   "source": [
    "df_eu  <-  df_eu/1000"
   ]
  },
  {
   "cell_type": "code",
   "execution_count": 84,
   "metadata": {},
   "outputs": [
    {
     "name": "stdout",
     "output_type": "stream",
     "text": [
      "[1] 2000.00 2012.75 2013.00 2014.75\n",
      "[1] 2001.00 2013.75 2014.00 2015.75\n",
      "[1] 2002.00 2014.75 2015.00 2016.75\n",
      "[1] 2003.00 2015.75 2016.00 2017.75\n",
      "[1] 2004.00 2016.75 2017.00 2018.75\n"
     ]
    }
   ],
   "source": [
    "ac <- c()\n",
    "\n",
    "for (i in 0:4){\n",
    "    st_year  <-  2000 + i\n",
    "    train_start  <- st_year\n",
    "    train_end  <- st_year + 0.25*51\n",
    "    test_start  <- st_year + 0.25*(51+1) \n",
    "    test_end  <-  st_year + 0.25*(51+8)\n",
    "    \n",
    "    print(c(train_start, train_end, test_start, test_end))\n",
    "    \n",
    "    if (i == 0){\n",
    "        train <- window(gdp_agg, end=train_end)}\n",
    "    else{\n",
    "        train <- window(gdp_agg, start=train_start, end=train_end)\n",
    "    }\n",
    "    \n",
    "    if (i == 4){\n",
    "        test <- window(gdp_agg, start=test_start)}\n",
    "    else{\n",
    "        test <- window(gdp_agg, start=test_start, end=test_end)\n",
    "    }\n",
    "        \n",
    "    gdp_arima  <- forecast(Arima(train, order=c(3,0,0), seasonal=c(2,0,0), include.drift = TRUE, include.mean = TRUE), h = 8  )\n",
    "    \n",
    "    \n",
    "    ac  <-  c(ac, accuracy(gdp_arima, test)[2, 2])\n",
    "    \n",
    "    }"
   ]
  },
  {
   "cell_type": "code",
   "execution_count": 86,
   "metadata": {},
   "outputs": [
    {
     "data": {
      "text/html": [
       "<ol class=list-inline>\n",
       "\t<li>30004.5022683676</li>\n",
       "\t<li>70819.4634255774</li>\n",
       "\t<li>65892.6394929663</li>\n",
       "\t<li>71879.6612432632</li>\n",
       "\t<li>62743.8343003625</li>\n",
       "</ol>\n"
      ],
      "text/latex": [
       "\\begin{enumerate*}\n",
       "\\item 30004.5022683676\n",
       "\\item 70819.4634255774\n",
       "\\item 65892.6394929663\n",
       "\\item 71879.6612432632\n",
       "\\item 62743.8343003625\n",
       "\\end{enumerate*}\n"
      ],
      "text/markdown": [
       "1. 30004.5022683676\n",
       "2. 70819.4634255774\n",
       "3. 65892.6394929663\n",
       "4. 71879.6612432632\n",
       "5. 62743.8343003625\n",
       "\n",
       "\n"
      ],
      "text/plain": [
       "[1] 30004.50 70819.46 65892.64 71879.66 62743.83"
      ]
     },
     "metadata": {},
     "output_type": "display_data"
    }
   ],
   "source": [
    "ac * 1000"
   ]
  },
  {
   "cell_type": "code",
   "execution_count": 87,
   "metadata": {},
   "outputs": [
    {
     "data": {
      "text/html": [
       "60268.0201461074"
      ],
      "text/latex": [
       "60268.0201461074"
      ],
      "text/markdown": [
       "60268.0201461074"
      ],
      "text/plain": [
       "[1] 60268.02"
      ]
     },
     "metadata": {},
     "output_type": "display_data"
    }
   ],
   "source": [
    "mean(ac * 1000)"
   ]
  },
  {
   "cell_type": "code",
   "execution_count": null,
   "metadata": {},
   "outputs": [],
   "source": [
    "ac_1  <-  c()\n",
    "gdp_arima_diff  <- forecast(Arima(train, order=c(3,1,0), seasonal=c(2,1,0)), h=8)\n",
    "ac_1  <-  c(ac_1, accuracy(gdp_arima_diff, test)[2, 2])"
   ]
  },
  {
   "cell_type": "code",
   "execution_count": 65,
   "metadata": {},
   "outputs": [
    {
     "data": {
      "text/html": [
       "<ol class=list-inline>\n",
       "\t<li>23765.5156099225</li>\n",
       "\t<li>57636.2036865242</li>\n",
       "\t<li>69405.4207990838</li>\n",
       "\t<li>140445.01769176</li>\n",
       "\t<li>92540.2078652381</li>\n",
       "</ol>\n"
      ],
      "text/latex": [
       "\\begin{enumerate*}\n",
       "\\item 23765.5156099225\n",
       "\\item 57636.2036865242\n",
       "\\item 69405.4207990838\n",
       "\\item 140445.01769176\n",
       "\\item 92540.2078652381\n",
       "\\end{enumerate*}\n"
      ],
      "text/markdown": [
       "1. 23765.5156099225\n",
       "2. 57636.2036865242\n",
       "3. 69405.4207990838\n",
       "4. 140445.01769176\n",
       "5. 92540.2078652381\n",
       "\n",
       "\n"
      ],
      "text/plain": [
       "[1]  23765.52  57636.20  69405.42 140445.02  92540.21"
      ]
     },
     "metadata": {},
     "output_type": "display_data"
    }
   ],
   "source": [
    "ac_1"
   ]
  },
  {
   "cell_type": "code",
   "execution_count": 67,
   "metadata": {},
   "outputs": [
    {
     "data": {
      "text/html": [
       "76758.4731305058"
      ],
      "text/latex": [
       "76758.4731305058"
      ],
      "text/markdown": [
       "76758.4731305058"
      ],
      "text/plain": [
       "[1] 76758.47"
      ]
     },
     "metadata": {},
     "output_type": "display_data"
    }
   ],
   "source": [
    "mean(ac_1)"
   ]
  },
  {
   "cell_type": "code",
   "execution_count": null,
   "metadata": {},
   "outputs": [],
   "source": [
    "ac_3  <-  c()\n",
    "gdp_auto_arima  <- forecast(auto.arima(train, stationary = FALSE, seasonal = TRUE, lambda=\"auto\"), h=8)\n",
    "ac_3  <-  c(ac_3, accuracy(gdp_auto_arima, test)[2, 2])"
   ]
  },
  {
   "cell_type": "code",
   "execution_count": 66,
   "metadata": {},
   "outputs": [
    {
     "data": {
      "text/html": [
       "<ol class=list-inline>\n",
       "\t<li>18913.3783797339</li>\n",
       "\t<li>48795.44391186</li>\n",
       "\t<li>65843.4437650568</li>\n",
       "\t<li>61161.8865654138</li>\n",
       "\t<li>52601.0446565969</li>\n",
       "</ol>\n"
      ],
      "text/latex": [
       "\\begin{enumerate*}\n",
       "\\item 18913.3783797339\n",
       "\\item 48795.44391186\n",
       "\\item 65843.4437650568\n",
       "\\item 61161.8865654138\n",
       "\\item 52601.0446565969\n",
       "\\end{enumerate*}\n"
      ],
      "text/markdown": [
       "1. 18913.3783797339\n",
       "2. 48795.44391186\n",
       "3. 65843.4437650568\n",
       "4. 61161.8865654138\n",
       "5. 52601.0446565969\n",
       "\n",
       "\n"
      ],
      "text/plain": [
       "[1] 18913.38 48795.44 65843.44 61161.89 52601.04"
      ]
     },
     "metadata": {},
     "output_type": "display_data"
    }
   ],
   "source": [
    "ac_3"
   ]
  },
  {
   "cell_type": "code",
   "execution_count": 63,
   "metadata": {},
   "outputs": [
    {
     "data": {
      "text/html": [
       "49463.0394557323"
      ],
      "text/latex": [
       "49463.0394557323"
      ],
      "text/markdown": [
       "49463.0394557323"
      ],
      "text/plain": [
       "[1] 49463.04"
      ]
     },
     "metadata": {},
     "output_type": "display_data"
    }
   ],
   "source": [
    "mean(ac_3)"
   ]
  },
  {
   "cell_type": "code",
   "execution_count": 48,
   "metadata": {},
   "outputs": [
    {
     "data": {
      "text/html": [
       "92540.2078652381"
      ],
      "text/latex": [
       "92540.2078652381"
      ],
      "text/markdown": [
       "92540.2078652381"
      ],
      "text/plain": [
       "[1] 92540.21"
      ]
     },
     "metadata": {},
     "output_type": "display_data"
    }
   ],
   "source": [
    "accuracy(gdp_arima_diff, test)[2, 2]"
   ]
  },
  {
   "cell_type": "code",
   "execution_count": 44,
   "metadata": {},
   "outputs": [
    {
     "data": {},
     "metadata": {},
     "output_type": "display_data"
    },
    {
     "data": {
      "image/png": "[encoded data removed]",
      "text/plain": [
       "plot without title"
      ]
     },
     "metadata": {},
     "output_type": "display_data"
    }
   ],
   "source": [
    "autoplot(window(gdp_agg, start=2012)) +\n",
    "    autolayer(gdp_arima, series=\"ARIMA\", PI=FALSE) +\n",
    "    autolayer(gdp_auto_arima, series=\"Auto ARIMA\", PI=FALSE) +\n",
    "    autolayer(gdp_arima_diff, series=\"ARIMA diff\", PI=FALSE) +\n",
    "    xlab(\"Year\") + ylab(\"Mln. Euro\") +\n",
    "    ggtitle(\"Модель 0, 00\") +\n",
    "    guides(colour=guide_legend(title=\"Forecast\")) +\n",
    "    theme(aspect.ratio = 0.75)"
   ]
  },
  {
   "cell_type": "code",
   "execution_count": null,
   "metadata": {},
   "outputs": [],
   "source": []
  }
 ],
 "metadata": {
  "kernelspec": {
   "display_name": "R 3.5.1",
   "language": "R",
   "name": "ir"
  },
  "language_info": {
   "codemirror_mode": "r",
   "file_extension": ".r",
   "mimetype": "text/x-r-source",
   "name": "R",
   "pygments_lexer": "r",
   "version": "3.5.2"
  }
 },
 "nbformat": 4,
 "nbformat_minor": 2
}
