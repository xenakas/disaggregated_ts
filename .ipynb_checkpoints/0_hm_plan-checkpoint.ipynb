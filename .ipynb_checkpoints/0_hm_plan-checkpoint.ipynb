{
 "cells": [
  {
   "cell_type": "markdown",
   "metadata": {},
   "source": [
    "## Plan:"
   ]
  },
  {
   "cell_type": "code",
   "execution_count": 17,
   "metadata": {},
   "outputs": [],
   "source": [
    "require(svMisc)"
   ]
  },
  {
   "cell_type": "code",
   "execution_count": 23,
   "metadata": {},
   "outputs": [
    {
     "name": "stdout",
     "output_type": "stream",
     "text": [
      "          0%---------25%---------50%---------75%--------100%\n",
      "Progress: ||||||||||||||||||||||||||||||||||||||||||||||||||\n"
     ]
    }
   ],
   "source": [
    "for (i in 0:150) {\n",
    "    k = as.integer(i/150*100)+1\n",
    "    progress(k, progress.bar = TRUE)\n",
    "#     Sys.sleep(0.01)\n",
    "#     if (i == 101) cat(\"Done!\\n\")\n",
    "}"
   ]
  },
  {
   "cell_type": "code",
   "execution_count": null,
   "metadata": {},
   "outputs": [],
   "source": [
    "library(xtable)\n",
    "print(xtable(df_acc_test[order(df_acc_test$RMSE),]))\n",
    "\n",
    "mat <- round(matrix(c(0.9, 0.89, 200, 0.045, 2.0), c(1, 5)), 4)\n",
    "rownames(mat) <- \"$y_{t-1}$\"colnames(mat) <- c(\"$R^2$\", \"$\\\\bar{x}$\", \"F-stat\", \"S.E.E\", \"DW\")mat <- xtable(mat)print(mat, sanitize.text.function = function(x){x})\n",
    "\n",
    "align(tli.table) <- \"|rrl|l|lr|\"tli.table\n",
    "display(tli.table)[c(2,6)] <- \"f\"digits(tli.table) <- 3tli.table\n",
    "print(xtable(anova(fm3)), hline.after = c(1))"
   ]
  },
  {
   "cell_type": "code",
   "execution_count": null,
   "metadata": {},
   "outputs": [],
   "source": [
    "# Save a single object to a file\n",
    "saveRDS(mtcars, \"mtcars.rds\")\n",
    "# Restore it under a different name\n",
    "my_data <- readRDS(\"mtcars.rds\")"
   ]
  },
  {
   "cell_type": "markdown",
   "metadata": {},
   "source": [
    "1. ~~описать метрики, MASE?~~\n",
    "    - ME\n",
    "    - RMSE\n",
    "    - MAPE\n",
    "8. ~~описать CV~~\n",
    "    - EU: 48 (6)\n",
    "    - US: 28 (6)\n",
    "    - RUS: 84 (5)\n",
    "2. описать dm тест, use and abuse\n",
    "6. ~~построить картинки с DM тестом~~\n",
    "6. ~~[построить картинки с CV](https://robjhyndman.com/hyndsight/tscvexample/)~~\n",
    "7. пересчитать ARIMAX\n",
    "    - ~~выбрать лучший лаг~~my \n",
    "        - EU: Arima(order=c(3,0,0), seasonal=c(2,0,0), include.drift = TRUE, include.constant = TRUE)\n",
    "        - US: Arima(order=c(4,0,0), include.drift = TRUE, trend = poly, h=h)}\n",
    "        - RUS: Arima(order=c(11,0,0), seasonal=c(2,0,0), trend = poly, include.constant = TRUE)\n",
    "    - ~~полиномиальный тренд для РФ~~\n",
    "    - дамми для тренда \n",
    "    - transform function\n",
    "    - closest neighbor to MA?\n",
    "8. выбрать модель для кластеризации\n",
    "9. выбрать метрики кластеризации\n",
    "10. diff or trend reduction before clustering\n",
    "11. seasonality reduction before clustering\n",
    "9. описать все модели\n",
    "    - ~~AR(3)~~\n",
    "    - AR(3) + str\n",
    "    - AR(3) + xreg\n",
    "        - описать метрики для поиска ближайшего соседа\n",
    "        - xreg closest neighbor\n",
    "        - xreg cluster sum\n",
    "        - https://stackoverflow.com/questions/25224155/transfer-function-models-arimax-in-tsa\n",
    "        - https://robjhyndman.com/hyndsight/arimax/\n",
    "10. описать все методы\n",
    "    - ~~прогноз агрегата~~\n",
    "        - ~~top~~    \n",
    "    - прогноз и суммирование\n",
    "        - 2nd (state)\n",
    "        - 2nd (type)\n",
    "        - 2nd (clust)\n",
    "            - считать сумму ошибок для 2 уровня из 3 уровневой \n",
    "        - 3rd \n",
    "    - прогноз и взвешенное суммирование\n",
    "    - HB\n",
    "3. clusterization based on error correlation metric\n",
    "4. Duncan (analogous TS)  в текст\n",
    "5. офоромить \"Сносочка\"\n",
    "6. оформить таблички\n",
    "1. графики в ggplot2\n"
   ]
  },
  {
   "cell_type": "markdown",
   "metadata": {},
   "source": [
    "### CV\n",
    "- arima не считает большие числа\n",
    "- внутри tscv - ts()"
   ]
  },
  {
   "cell_type": "markdown",
   "metadata": {},
   "source": [
    "- для РФ theta method дает странные результаты, из-за близости к нулю?"
   ]
  },
  {
   "cell_type": "markdown",
   "metadata": {},
   "source": [
    "### Top level"
   ]
  },
  {
   "cell_type": "markdown",
   "metadata": {},
   "source": [
    "####    AR(3) "
   ]
  },
  {
   "cell_type": "code",
   "execution_count": 7,
   "metadata": {},
   "outputs": [
    {
     "data": {
      "text/html": [
       "<table>\n",
       "<thead><tr><th scope=col>RMSE</th><th scope=col>MAPE</th><th scope=col>ACF1</th><th scope=col>Theil's U</th></tr></thead>\n",
       "<tbody>\n",
       "\t<tr><td>30.00450 </td><td>0.8423452</td><td>0.3147106</td><td>0.4774273</td></tr>\n",
       "\t<tr><td>70.35219 </td><td>1.6318005</td><td>0.6839184</td><td>1.2522039</td></tr>\n",
       "\t<tr><td>63.19442 </td><td>1.7068541</td><td>0.2837959</td><td>0.9335619</td></tr>\n",
       "\t<tr><td>71.40787 </td><td>1.9332753</td><td>0.3711943</td><td>1.1356505</td></tr>\n",
       "\t<tr><td>55.14303 </td><td>1.5573230</td><td>0.4297768</td><td>0.9073770</td></tr>\n",
       "</tbody>\n",
       "</table>\n"
      ],
      "text/latex": [
       "\\begin{tabular}{r|llll}\n",
       " RMSE & MAPE & ACF1 & Theil's U\\\\\n",
       "\\hline\n",
       "\t 30.00450  & 0.8423452 & 0.3147106 & 0.4774273\\\\\n",
       "\t 70.35219  & 1.6318005 & 0.6839184 & 1.2522039\\\\\n",
       "\t 63.19442  & 1.7068541 & 0.2837959 & 0.9335619\\\\\n",
       "\t 71.40787  & 1.9332753 & 0.3711943 & 1.1356505\\\\\n",
       "\t 55.14303  & 1.5573230 & 0.4297768 & 0.9073770\\\\\n",
       "\\end{tabular}\n"
      ],
      "text/markdown": [
       "\n",
       "RMSE | MAPE | ACF1 | Theil's U | \n",
       "|---|---|---|---|---|\n",
       "| 30.00450  | 0.8423452 | 0.3147106 | 0.4774273 | \n",
       "| 70.35219  | 1.6318005 | 0.6839184 | 1.2522039 | \n",
       "| 63.19442  | 1.7068541 | 0.2837959 | 0.9335619 | \n",
       "| 71.40787  | 1.9332753 | 0.3711943 | 1.1356505 | \n",
       "| 55.14303  | 1.5573230 | 0.4297768 | 0.9073770 | \n",
       "\n",
       "\n"
      ],
      "text/plain": [
       "  RMSE     MAPE      ACF1      Theil's U\n",
       "1 30.00450 0.8423452 0.3147106 0.4774273\n",
       "2 70.35219 1.6318005 0.6839184 1.2522039\n",
       "3 63.19442 1.7068541 0.2837959 0.9335619\n",
       "4 71.40787 1.9332753 0.3711943 1.1356505\n",
       "5 55.14303 1.5573230 0.4297768 0.9073770"
      ]
     },
     "metadata": {},
     "output_type": "display_data"
    }
   ],
   "source": [
    "df_ac_1"
   ]
  },
  {
   "cell_type": "code",
   "execution_count": 8,
   "metadata": {},
   "outputs": [
    {
     "data": {
      "text/html": [
       "<dl class=dl-horizontal>\n",
       "\t<dt>RMSE</dt>\n",
       "\t\t<dd>58.0204038977223</dd>\n",
       "\t<dt>MAPE</dt>\n",
       "\t\t<dd>1.53431961367659</dd>\n",
       "\t<dt>ACF1</dt>\n",
       "\t\t<dd>0.416679197598027</dd>\n",
       "\t<dt>Theil's U</dt>\n",
       "\t\t<dd>0.941244121827648</dd>\n",
       "</dl>\n"
      ],
      "text/latex": [
       "\\begin{description*}\n",
       "\\item[RMSE] 58.0204038977223\n",
       "\\item[MAPE] 1.53431961367659\n",
       "\\item[ACF1] 0.416679197598027\n",
       "\\item[Theil's U] 0.941244121827648\n",
       "\\end{description*}\n"
      ],
      "text/markdown": [
       "RMSE\n",
       ":   58.0204038977223MAPE\n",
       ":   1.53431961367659ACF1\n",
       ":   0.416679197598027Theil's U\n",
       ":   0.941244121827648\n",
       "\n"
      ],
      "text/plain": [
       "      RMSE       MAPE       ACF1  Theil's U \n",
       "58.0204039  1.5343196  0.4166792  0.9412441 "
      ]
     },
     "metadata": {},
     "output_type": "display_data"
    }
   ],
   "source": [
    "colMeans(df_ac_1)"
   ]
  },
  {
   "cell_type": "code",
   "execution_count": 9,
   "metadata": {},
   "outputs": [
    {
     "data": {},
     "metadata": {},
     "output_type": "display_data"
    },
    {
     "data": {
      "image/png": "[encoded data removed]",
      "text/plain": [
       "plot without title"
      ]
     },
     "metadata": {},
     "output_type": "display_data"
    }
   ],
   "source": [
    "autoplot(window(gdp_agg, start=2010))+\n",
    "    autolayer(l[[1]], series=\"ARIMA1\", PI=FALSE) +\n",
    "    autolayer(l[[2]], series=\"ARIMA2\", PI=FALSE) +\n",
    "    autolayer(l[[3]], series=\"ARIMA3\", PI=FALSE) +\n",
    "    autolayer(l[[4]], series=\"ARIMA4\", PI=FALSE) +\n",
    "    autolayer(l[[5]], series=\"ARIMA5\", PI=FALSE) +\n",
    "    xlab(\"Year\") + ylab(\"Mln. Euro\") +\n",
    "    ggtitle(\"Модель 0, 00\") +\n",
    "    guides(colour=guide_legend(title=\"Forecast\")) +\n",
    "    theme(aspect.ratio = 0.75)"
   ]
  },
  {
   "cell_type": "markdown",
   "metadata": {},
   "source": [
    "#### AR(3) + structural break "
   ]
  },
  {
   "cell_type": "markdown",
   "metadata": {},
   "source": [
    "- структурный сдвиг одинаковый для всех выборок и начинается на 2008 (по модели):\n",
    "\n",
    "``train  ~  1 + time(train)``\n",
    "\n"
   ]
  },
  {
   "cell_type": "code",
   "execution_count": 106,
   "metadata": {
    "scrolled": true
   },
   "outputs": [
    {
     "data": {
      "text/html": [
       "<table>\n",
       "<thead><tr><th scope=col>RMSE</th><th scope=col>MAPE</th><th scope=col>ACF1</th><th scope=col>Theil's U</th></tr></thead>\n",
       "<tbody>\n",
       "\t<tr><td>41.43026 </td><td>1.220307 </td><td>0.1147186</td><td>0.6791211</td></tr>\n",
       "\t<tr><td>61.09521 </td><td>1.376503 </td><td>0.6855353</td><td>1.0880309</td></tr>\n",
       "\t<tr><td>56.10122 </td><td>1.456742 </td><td>0.4673110</td><td>0.8172604</td></tr>\n",
       "\t<tr><td>69.57626 </td><td>1.926973 </td><td>0.2951082</td><td>1.1195179</td></tr>\n",
       "\t<tr><td>41.58108 </td><td>1.182393 </td><td>0.3127301</td><td>0.6762258</td></tr>\n",
       "</tbody>\n",
       "</table>\n"
      ],
      "text/latex": [
       "\\begin{tabular}{r|llll}\n",
       " RMSE & MAPE & ACF1 & Theil's U\\\\\n",
       "\\hline\n",
       "\t 41.43026  & 1.220307  & 0.1147186 & 0.6791211\\\\\n",
       "\t 61.09521  & 1.376503  & 0.6855353 & 1.0880309\\\\\n",
       "\t 56.10122  & 1.456742  & 0.4673110 & 0.8172604\\\\\n",
       "\t 69.57626  & 1.926973  & 0.2951082 & 1.1195179\\\\\n",
       "\t 41.58108  & 1.182393  & 0.3127301 & 0.6762258\\\\\n",
       "\\end{tabular}\n"
      ],
      "text/markdown": [
       "\n",
       "RMSE | MAPE | ACF1 | Theil's U | \n",
       "|---|---|---|---|---|\n",
       "| 41.43026  | 1.220307  | 0.1147186 | 0.6791211 | \n",
       "| 61.09521  | 1.376503  | 0.6855353 | 1.0880309 | \n",
       "| 56.10122  | 1.456742  | 0.4673110 | 0.8172604 | \n",
       "| 69.57626  | 1.926973  | 0.2951082 | 1.1195179 | \n",
       "| 41.58108  | 1.182393  | 0.3127301 | 0.6762258 | \n",
       "\n",
       "\n"
      ],
      "text/plain": [
       "  RMSE     MAPE     ACF1      Theil's U\n",
       "1 41.43026 1.220307 0.1147186 0.6791211\n",
       "2 61.09521 1.376503 0.6855353 1.0880309\n",
       "3 56.10122 1.456742 0.4673110 0.8172604\n",
       "4 69.57626 1.926973 0.2951082 1.1195179\n",
       "5 41.58108 1.182393 0.3127301 0.6762258"
      ]
     },
     "metadata": {},
     "output_type": "display_data"
    }
   ],
   "source": [
    "df_ac_1s"
   ]
  },
  {
   "cell_type": "code",
   "execution_count": 107,
   "metadata": {
    "scrolled": true
   },
   "outputs": [
    {
     "data": {
      "text/html": [
       "<dl class=dl-horizontal>\n",
       "\t<dt>RMSE</dt>\n",
       "\t\t<dd>53.9568051577077</dd>\n",
       "\t<dt>MAPE</dt>\n",
       "\t\t<dd>1.43258350966006</dd>\n",
       "\t<dt>ACF1</dt>\n",
       "\t\t<dd>0.375080624723963</dd>\n",
       "\t<dt>Theil's U</dt>\n",
       "\t\t<dd>0.876031209565512</dd>\n",
       "</dl>\n"
      ],
      "text/latex": [
       "\\begin{description*}\n",
       "\\item[RMSE] 53.9568051577077\n",
       "\\item[MAPE] 1.43258350966006\n",
       "\\item[ACF1] 0.375080624723963\n",
       "\\item[Theil's U] 0.876031209565512\n",
       "\\end{description*}\n"
      ],
      "text/markdown": [
       "RMSE\n",
       ":   53.9568051577077MAPE\n",
       ":   1.43258350966006ACF1\n",
       ":   0.375080624723963Theil's U\n",
       ":   0.876031209565512\n",
       "\n"
      ],
      "text/plain": [
       "      RMSE       MAPE       ACF1  Theil's U \n",
       "53.9568052  1.4325835  0.3750806  0.8760312 "
      ]
     },
     "metadata": {},
     "output_type": "display_data"
    }
   ],
   "source": [
    "colMeans(df_ac_1s)"
   ]
  },
  {
   "cell_type": "markdown",
   "metadata": {},
   "source": [
    "### Third level "
   ]
  },
  {
   "cell_type": "markdown",
   "metadata": {},
   "source": [
    "#### AR(3) "
   ]
  },
  {
   "cell_type": "markdown",
   "metadata": {},
   "source": [
    "- ML-CSS не считает много где\n",
    "- ML оценки лучше CSS оценок (15 ряд на 2 выборке не считается, поэтому считаем, все, что не считается с помощью CSS)"
   ]
  },
  {
   "cell_type": "markdown",
   "metadata": {},
   "source": [
    "- Если ошибка нормально распределена, то минимизация MSE\n",
    "эквивалентна методу максимального правдоподобия\n",
    "- На самом деле $\\hat{\\beta}^{OLS}$, полученная по МНК совпадает с оценкой\n",
    "максимального правдоподобия, при условии, что $𝜀 ∼ 𝑁(0, 𝜎^2)$\n"
   ]
  },
  {
   "cell_type": "markdown",
   "metadata": {},
   "source": [
    "__ met  <-  \"CSS\"__"
   ]
  },
  {
   "cell_type": "code",
   "execution_count": 113,
   "metadata": {},
   "outputs": [
    {
     "data": {
      "text/html": [
       "<table>\n",
       "<thead><tr><th scope=col>ME</th><th scope=col>RMSE</th><th scope=col>MAE</th><th scope=col>MAPE</th><th scope=col>MPE</th></tr></thead>\n",
       "<tbody>\n",
       "\t<tr><td> 29.19700 </td><td>53.44973  </td><td>44.17503  </td><td>1.406911  </td><td> 0.9084537</td></tr>\n",
       "\t<tr><td> 68.73230 </td><td>87.43198  </td><td>68.73230  </td><td>2.078017  </td><td> 2.0780171</td></tr>\n",
       "\t<tr><td> 67.39017 </td><td>71.83022  </td><td>67.39017  </td><td>2.018860  </td><td> 2.0188603</td></tr>\n",
       "\t<tr><td>-70.66928 </td><td>76.20563  </td><td>70.66928  </td><td>2.098900  </td><td>-2.0989004</td></tr>\n",
       "\t<tr><td> 62.77367 </td><td>64.49063  </td><td>62.77367  </td><td>1.801197  </td><td> 1.8011968</td></tr>\n",
       "</tbody>\n",
       "</table>\n"
      ],
      "text/latex": [
       "\\begin{tabular}{r|lllll}\n",
       " ME & RMSE & MAE & MAPE & MPE\\\\\n",
       "\\hline\n",
       "\t  29.19700  & 53.44973   & 44.17503   & 1.406911   &  0.9084537\\\\\n",
       "\t  68.73230  & 87.43198   & 68.73230   & 2.078017   &  2.0780171\\\\\n",
       "\t  67.39017  & 71.83022   & 67.39017   & 2.018860   &  2.0188603\\\\\n",
       "\t -70.66928  & 76.20563   & 70.66928   & 2.098900   & -2.0989004\\\\\n",
       "\t  62.77367  & 64.49063   & 62.77367   & 1.801197   &  1.8011968\\\\\n",
       "\\end{tabular}\n"
      ],
      "text/markdown": [
       "\n",
       "ME | RMSE | MAE | MAPE | MPE | \n",
       "|---|---|---|---|---|\n",
       "|  29.19700  | 53.44973   | 44.17503   | 1.406911   |  0.9084537 | \n",
       "|  68.73230  | 87.43198   | 68.73230   | 2.078017   |  2.0780171 | \n",
       "|  67.39017  | 71.83022   | 67.39017   | 2.018860   |  2.0188603 | \n",
       "| -70.66928  | 76.20563   | 70.66928   | 2.098900   | -2.0989004 | \n",
       "|  62.77367  | 64.49063   | 62.77367   | 1.801197   |  1.8011968 | \n",
       "\n",
       "\n"
      ],
      "text/plain": [
       "  ME        RMSE     MAE      MAPE     MPE       \n",
       "1  29.19700 53.44973 44.17503 1.406911  0.9084537\n",
       "2  68.73230 87.43198 68.73230 2.078017  2.0780171\n",
       "3  67.39017 71.83022 67.39017 2.018860  2.0188603\n",
       "4 -70.66928 76.20563 70.66928 2.098900 -2.0989004\n",
       "5  62.77367 64.49063 62.77367 1.801197  1.8011968"
      ]
     },
     "metadata": {},
     "output_type": "display_data"
    }
   ],
   "source": [
    "df_ac "
   ]
  },
  {
   "cell_type": "markdown",
   "metadata": {},
   "source": [
    "__ met  <-  \"ML\"__"
   ]
  },
  {
   "cell_type": "code",
   "execution_count": 65,
   "metadata": {},
   "outputs": [
    {
     "data": {
      "text/html": [
       "<table>\n",
       "<thead><tr><th scope=col>ME</th><th scope=col>RMSE</th><th scope=col>MAE</th><th scope=col>MAPE</th><th scope=col>MPE</th></tr></thead>\n",
       "<tbody>\n",
       "\t<tr><td>-17.87512 </td><td>29.72522  </td><td>25.16467  </td><td>0.8207038 </td><td>-0.5955032</td></tr>\n",
       "\t<tr><td> 55.09397 </td><td>71.33892  </td><td>55.09397  </td><td>1.6645230 </td><td> 1.6645230</td></tr>\n",
       "\t<tr><td> 57.56785 </td><td>63.64543  </td><td>57.56785  </td><td>1.7249067 </td><td> 1.7249067</td></tr>\n",
       "\t<tr><td>-63.67907 </td><td>70.28057  </td><td>63.67907  </td><td>1.8938485 </td><td>-1.8938485</td></tr>\n",
       "\t<tr><td> 55.47911 </td><td>56.44166  </td><td>55.47911  </td><td>1.5931747 </td><td> 1.5931747</td></tr>\n",
       "</tbody>\n",
       "</table>\n"
      ],
      "text/latex": [
       "\\begin{tabular}{r|lllll}\n",
       " ME & RMSE & MAE & MAPE & MPE\\\\\n",
       "\\hline\n",
       "\t -17.87512  & 29.72522   & 25.16467   & 0.8207038  & -0.5955032\\\\\n",
       "\t  55.09397  & 71.33892   & 55.09397   & 1.6645230  &  1.6645230\\\\\n",
       "\t  57.56785  & 63.64543   & 57.56785   & 1.7249067  &  1.7249067\\\\\n",
       "\t -63.67907  & 70.28057   & 63.67907   & 1.8938485  & -1.8938485\\\\\n",
       "\t  55.47911  & 56.44166   & 55.47911   & 1.5931747  &  1.5931747\\\\\n",
       "\\end{tabular}\n"
      ],
      "text/markdown": [
       "\n",
       "ME | RMSE | MAE | MAPE | MPE | \n",
       "|---|---|---|---|---|\n",
       "| -17.87512  | 29.72522   | 25.16467   | 0.8207038  | -0.5955032 | \n",
       "|  55.09397  | 71.33892   | 55.09397   | 1.6645230  |  1.6645230 | \n",
       "|  57.56785  | 63.64543   | 57.56785   | 1.7249067  |  1.7249067 | \n",
       "| -63.67907  | 70.28057   | 63.67907   | 1.8938485  | -1.8938485 | \n",
       "|  55.47911  | 56.44166   | 55.47911   | 1.5931747  |  1.5931747 | \n",
       "\n",
       "\n"
      ],
      "text/plain": [
       "  ME        RMSE     MAE      MAPE      MPE       \n",
       "1 -17.87512 29.72522 25.16467 0.8207038 -0.5955032\n",
       "2  55.09397 71.33892 55.09397 1.6645230  1.6645230\n",
       "3  57.56785 63.64543 57.56785 1.7249067  1.7249067\n",
       "4 -63.67907 70.28057 63.67907 1.8938485 -1.8938485\n",
       "5  55.47911 56.44166 55.47911 1.5931747  1.5931747"
      ]
     },
     "metadata": {},
     "output_type": "display_data"
    }
   ],
   "source": [
    "df_ac"
   ]
  },
  {
   "cell_type": "code",
   "execution_count": 66,
   "metadata": {},
   "outputs": [
    {
     "data": {
      "text/html": [
       "<dl class=dl-horizontal>\n",
       "\t<dt>ME</dt>\n",
       "\t\t<dd>17.3173480229903</dd>\n",
       "\t<dt>RMSE</dt>\n",
       "\t\t<dd>58.2863592272794</dd>\n",
       "\t<dt>MAE</dt>\n",
       "\t\t<dd>51.3969353739808</dd>\n",
       "\t<dt>MAPE</dt>\n",
       "\t\t<dd>1.53943133473933</dd>\n",
       "\t<dt>MPE</dt>\n",
       "\t\t<dd>0.498650540884186</dd>\n",
       "</dl>\n"
      ],
      "text/latex": [
       "\\begin{description*}\n",
       "\\item[ME] 17.3173480229903\n",
       "\\item[RMSE] 58.2863592272794\n",
       "\\item[MAE] 51.3969353739808\n",
       "\\item[MAPE] 1.53943133473933\n",
       "\\item[MPE] 0.498650540884186\n",
       "\\end{description*}\n"
      ],
      "text/markdown": [
       "ME\n",
       ":   17.3173480229903RMSE\n",
       ":   58.2863592272794MAE\n",
       ":   51.3969353739808MAPE\n",
       ":   1.53943133473933MPE\n",
       ":   0.498650540884186\n",
       "\n"
      ],
      "text/plain": [
       "        ME       RMSE        MAE       MAPE        MPE \n",
       "17.3173480 58.2863592 51.3969354  1.5394313  0.4986505 "
      ]
     },
     "metadata": {},
     "output_type": "display_data"
    }
   ],
   "source": [
    "colMeans(df_ac)"
   ]
  },
  {
   "cell_type": "markdown",
   "metadata": {},
   "source": [
    "#### AR(3) + structural break (2008)"
   ]
  },
  {
   "cell_type": "code",
   "execution_count": 147,
   "metadata": {
    "scrolled": true
   },
   "outputs": [
    {
     "data": {
      "text/html": [
       "<table>\n",
       "<thead><tr><th scope=col>ME</th><th scope=col>RMSE</th><th scope=col>MAE</th><th scope=col>MAPE</th><th scope=col>MPE</th></tr></thead>\n",
       "<tbody>\n",
       "\t<tr><td>-35.58530</td><td>40.18503 </td><td>36.33378 </td><td>1.186612 </td><td>-1.163489</td></tr>\n",
       "\t<tr><td> 46.79878</td><td>62.21546 </td><td>46.79878 </td><td>1.412525 </td><td> 1.412525</td></tr>\n",
       "\t<tr><td> 46.99553</td><td>56.54978 </td><td>48.95910 </td><td>1.469497 </td><td> 1.410326</td></tr>\n",
       "\t<tr><td>-64.21756</td><td>68.95491 </td><td>64.21756 </td><td>1.906320 </td><td>-1.906320</td></tr>\n",
       "\t<tr><td> 42.14006</td><td>42.59684 </td><td>42.14006 </td><td>1.211301 </td><td> 1.211301</td></tr>\n",
       "</tbody>\n",
       "</table>\n"
      ],
      "text/latex": [
       "\\begin{tabular}{r|lllll}\n",
       " ME & RMSE & MAE & MAPE & MPE\\\\\n",
       "\\hline\n",
       "\t -35.58530 & 40.18503  & 36.33378  & 1.186612  & -1.163489\\\\\n",
       "\t  46.79878 & 62.21546  & 46.79878  & 1.412525  &  1.412525\\\\\n",
       "\t  46.99553 & 56.54978  & 48.95910  & 1.469497  &  1.410326\\\\\n",
       "\t -64.21756 & 68.95491  & 64.21756  & 1.906320  & -1.906320\\\\\n",
       "\t  42.14006 & 42.59684  & 42.14006  & 1.211301  &  1.211301\\\\\n",
       "\\end{tabular}\n"
      ],
      "text/markdown": [
       "\n",
       "ME | RMSE | MAE | MAPE | MPE | \n",
       "|---|---|---|---|---|\n",
       "| -35.58530 | 40.18503  | 36.33378  | 1.186612  | -1.163489 | \n",
       "|  46.79878 | 62.21546  | 46.79878  | 1.412525  |  1.412525 | \n",
       "|  46.99553 | 56.54978  | 48.95910  | 1.469497  |  1.410326 | \n",
       "| -64.21756 | 68.95491  | 64.21756  | 1.906320  | -1.906320 | \n",
       "|  42.14006 | 42.59684  | 42.14006  | 1.211301  |  1.211301 | \n",
       "\n",
       "\n"
      ],
      "text/plain": [
       "  ME        RMSE     MAE      MAPE     MPE      \n",
       "1 -35.58530 40.18503 36.33378 1.186612 -1.163489\n",
       "2  46.79878 62.21546 46.79878 1.412525  1.412525\n",
       "3  46.99553 56.54978 48.95910 1.469497  1.410326\n",
       "4 -64.21756 68.95491 64.21756 1.906320 -1.906320\n",
       "5  42.14006 42.59684 42.14006 1.211301  1.211301"
      ]
     },
     "metadata": {},
     "output_type": "display_data"
    }
   ],
   "source": [
    "df_ac_s"
   ]
  },
  {
   "cell_type": "code",
   "execution_count": 149,
   "metadata": {},
   "outputs": [
    {
     "data": {
      "text/html": [
       "<dl class=dl-horizontal>\n",
       "\t<dt>ME</dt>\n",
       "\t\t<dd>7.22630159357011</dd>\n",
       "\t<dt>RMSE</dt>\n",
       "\t\t<dd>54.1004052076346</dd>\n",
       "\t<dt>MAE</dt>\n",
       "\t\t<dd>47.689859046303</dd>\n",
       "\t<dt>MAPE</dt>\n",
       "\t\t<dd>1.43725118450448</dd>\n",
       "\t<dt>MPE</dt>\n",
       "\t\t<dd>0.19286877945081</dd>\n",
       "</dl>\n"
      ],
      "text/latex": [
       "\\begin{description*}\n",
       "\\item[ME] 7.22630159357011\n",
       "\\item[RMSE] 54.1004052076346\n",
       "\\item[MAE] 47.689859046303\n",
       "\\item[MAPE] 1.43725118450448\n",
       "\\item[MPE] 0.19286877945081\n",
       "\\end{description*}\n"
      ],
      "text/markdown": [
       "ME\n",
       ":   7.22630159357011RMSE\n",
       ":   54.1004052076346MAE\n",
       ":   47.689859046303MAPE\n",
       ":   1.43725118450448MPE\n",
       ":   0.19286877945081\n",
       "\n"
      ],
      "text/plain": [
       "        ME       RMSE        MAE       MAPE        MPE \n",
       " 7.2263016 54.1004052 47.6898590  1.4372512  0.1928688 "
      ]
     },
     "metadata": {},
     "output_type": "display_data"
    }
   ],
   "source": [
    "colMeans(df_ac_s)"
   ]
  },
  {
   "cell_type": "markdown",
   "metadata": {},
   "source": [
    "#### AR(3) + structural break "
   ]
  },
  {
   "cell_type": "code",
   "execution_count": 214,
   "metadata": {
    "scrolled": true
   },
   "outputs": [
    {
     "data": {
      "text/html": [
       "<table>\n",
       "<thead><tr><th scope=col>ME</th><th scope=col>RMSE</th><th scope=col>MAE</th><th scope=col>MAPE</th><th scope=col>MPE</th></tr></thead>\n",
       "<tbody>\n",
       "\t<tr><td>-35.56694</td><td>40.18198 </td><td>36.34471 </td><td>1.186941 </td><td>-1.162913</td></tr>\n",
       "\t<tr><td> 46.85718</td><td>62.25154 </td><td>46.85718 </td><td>1.414317 </td><td> 1.414317</td></tr>\n",
       "\t<tr><td> 47.03895</td><td>56.55225 </td><td>48.96649 </td><td>1.469709 </td><td> 1.411624</td></tr>\n",
       "\t<tr><td>-64.05012</td><td>68.81104 </td><td>64.05012 </td><td>1.901414 </td><td>-1.901414</td></tr>\n",
       "\t<tr><td> 42.29784</td><td>42.76788 </td><td>42.29784 </td><td>1.215777 </td><td> 1.215777</td></tr>\n",
       "</tbody>\n",
       "</table>\n"
      ],
      "text/latex": [
       "\\begin{tabular}{r|lllll}\n",
       " ME & RMSE & MAE & MAPE & MPE\\\\\n",
       "\\hline\n",
       "\t -35.56694 & 40.18198  & 36.34471  & 1.186941  & -1.162913\\\\\n",
       "\t  46.85718 & 62.25154  & 46.85718  & 1.414317  &  1.414317\\\\\n",
       "\t  47.03895 & 56.55225  & 48.96649  & 1.469709  &  1.411624\\\\\n",
       "\t -64.05012 & 68.81104  & 64.05012  & 1.901414  & -1.901414\\\\\n",
       "\t  42.29784 & 42.76788  & 42.29784  & 1.215777  &  1.215777\\\\\n",
       "\\end{tabular}\n"
      ],
      "text/markdown": [
       "\n",
       "ME | RMSE | MAE | MAPE | MPE | \n",
       "|---|---|---|---|---|\n",
       "| -35.56694 | 40.18198  | 36.34471  | 1.186941  | -1.162913 | \n",
       "|  46.85718 | 62.25154  | 46.85718  | 1.414317  |  1.414317 | \n",
       "|  47.03895 | 56.55225  | 48.96649  | 1.469709  |  1.411624 | \n",
       "| -64.05012 | 68.81104  | 64.05012  | 1.901414  | -1.901414 | \n",
       "|  42.29784 | 42.76788  | 42.29784  | 1.215777  |  1.215777 | \n",
       "\n",
       "\n"
      ],
      "text/plain": [
       "  ME        RMSE     MAE      MAPE     MPE      \n",
       "1 -35.56694 40.18198 36.34471 1.186941 -1.162913\n",
       "2  46.85718 62.25154 46.85718 1.414317  1.414317\n",
       "3  47.03895 56.55225 48.96649 1.469709  1.411624\n",
       "4 -64.05012 68.81104 64.05012 1.901414 -1.901414\n",
       "5  42.29784 42.76788 42.29784 1.215777  1.215777"
      ]
     },
     "metadata": {},
     "output_type": "display_data"
    }
   ],
   "source": [
    "df_ac_sa"
   ]
  },
  {
   "cell_type": "code",
   "execution_count": 215,
   "metadata": {},
   "outputs": [
    {
     "data": {
      "text/html": [
       "<dl class=dl-horizontal>\n",
       "\t<dt>ME</dt>\n",
       "\t\t<dd>7.31538458850289</dd>\n",
       "\t<dt>RMSE</dt>\n",
       "\t\t<dd>54.1129378913677</dd>\n",
       "\t<dt>MAE</dt>\n",
       "\t\t<dd>47.7032685476575</dd>\n",
       "\t<dt>MAPE</dt>\n",
       "\t\t<dd>1.43763163831885</dd>\n",
       "\t<dt>MPE</dt>\n",
       "\t\t<dd>0.19547817275084</dd>\n",
       "</dl>\n"
      ],
      "text/latex": [
       "\\begin{description*}\n",
       "\\item[ME] 7.31538458850289\n",
       "\\item[RMSE] 54.1129378913677\n",
       "\\item[MAE] 47.7032685476575\n",
       "\\item[MAPE] 1.43763163831885\n",
       "\\item[MPE] 0.19547817275084\n",
       "\\end{description*}\n"
      ],
      "text/markdown": [
       "ME\n",
       ":   7.31538458850289RMSE\n",
       ":   54.1129378913677MAE\n",
       ":   47.7032685476575MAPE\n",
       ":   1.43763163831885MPE\n",
       ":   0.19547817275084\n",
       "\n"
      ],
      "text/plain": [
       "        ME       RMSE        MAE       MAPE        MPE \n",
       " 7.3153846 54.1129379 47.7032685  1.4376316  0.1954782 "
      ]
     },
     "metadata": {},
     "output_type": "display_data"
    }
   ],
   "source": [
    "colMeans(df_ac_sa)"
   ]
  },
  {
   "cell_type": "markdown",
   "metadata": {},
   "source": [
    "#### AR(3)LI with neighbors (different metrics)"
   ]
  },
  {
   "cell_type": "markdown",
   "metadata": {},
   "source": [
    "- choosing number of lags for xreg (DTW)"
   ]
  },
  {
   "cell_type": "markdown",
   "metadata": {},
   "source": [
    "_1 LAG_"
   ]
  },
  {
   "cell_type": "code",
   "execution_count": 305,
   "metadata": {
    "scrolled": false
   },
   "outputs": [
    {
     "data": {
      "text/html": [
       "<table>\n",
       "<thead><tr><th></th><th scope=col>Total</th><th scope=col>AT</th><th scope=col>BE</th><th scope=col>BG</th><th scope=col>CY</th><th scope=col>CZ</th><th scope=col>DE</th><th scope=col>DK</th><th scope=col>EE</th><th scope=col>EL</th><th scope=col>⋯</th><th scope=col>UKA</th><th scope=col>UKB</th><th scope=col>UKF</th><th scope=col>UKG</th><th scope=col>UKJ</th><th scope=col>UKK</th><th scope=col>UKL</th><th scope=col>UKM</th><th scope=col>UKO</th><th scope=col>UKR</th></tr></thead>\n",
       "<tbody>\n",
       "\t<tr><th scope=row>ME</th><td>55.492717 </td><td>0.1292254 </td><td>-0.4285559</td><td>-0.7819245</td><td> -1.149823</td><td>1.404161  </td><td>21.109878 </td><td>-0.6603237</td><td> -1.003559</td><td>0.1523466 </td><td>⋯         </td><td> 0.3777341</td><td>6.788382  </td><td> 3.411565 </td><td>6.000715  </td><td>1.037404  </td><td>-2.680209 </td><td>5.195082  </td><td>5.550773  </td><td>-2.624961 </td><td> 3.642126 </td></tr>\n",
       "\t<tr><th scope=row>RMSE</th><td>56.454316 </td><td>0.6085641 </td><td> 0.5771218</td><td> 0.8913891</td><td>  1.237717</td><td>1.700282  </td><td>22.894624 </td><td> 1.1072745</td><td>  1.087434</td><td>0.5662423 </td><td>⋯         </td><td> 0.4521147</td><td>7.098195  </td><td> 3.429439 </td><td>6.072424  </td><td>1.353770  </td><td> 3.152632 </td><td>5.322240  </td><td>5.696657  </td><td> 4.923690 </td><td> 3.688942 </td></tr>\n",
       "\t<tr><th scope=row>MAE</th><td>55.492717 </td><td>0.4969950 </td><td> 0.5214705</td><td> 0.7819245</td><td>  1.149823</td><td>1.524718  </td><td>21.109878 </td><td> 0.9440658</td><td>  1.003559</td><td>0.4420568 </td><td>⋯         </td><td> 0.3904389</td><td>6.788382  </td><td> 3.411565 </td><td>6.000715  </td><td>1.116356  </td><td> 2.680209 </td><td>5.195082  </td><td>5.550773  </td><td> 4.161104 </td><td> 3.642126 </td></tr>\n",
       "\t<tr><th scope=row>MAPE</th><td> 1.593569 </td><td>0.5871874 </td><td> 0.5264923</td><td> 6.9040015</td><td> 26.404419</td><td>3.363274  </td><td> 2.796842 </td><td> 1.4835034</td><td> 18.874966</td><td>1.0957592 </td><td>⋯         </td><td>11.2925603</td><td>9.138839  </td><td>10.647020 </td><td>6.427484  </td><td>3.225036  </td><td> 7.358034 </td><td>7.333207  </td><td>8.374036  </td><td> 4.512622 </td><td>16.348190 </td></tr>\n",
       "\t<tr><th scope=row>MPE</th><td> 1.593569 </td><td>0.1442306 </td><td>-0.4296426</td><td>-6.9040015</td><td>-26.404419</td><td>3.056411  </td><td> 2.796842 </td><td>-1.0342503</td><td>-18.874966</td><td>0.3569877 </td><td>⋯         </td><td>10.8930065</td><td>9.138839  </td><td>10.647020 </td><td>6.427484  </td><td>2.981859  </td><td>-7.358034 </td><td>7.333207  </td><td>8.374036  </td><td>-2.867141 </td><td>16.348190 </td></tr>\n",
       "</tbody>\n",
       "</table>\n"
      ],
      "text/latex": [
       "\\begin{tabular}{r|lllllllllllllllllllllllllllllllllllllllllllllllllllllllllllllllllllllllllllllllllllllllllllllllllllllllllllllllllllllllllllllllllllllllllllllllllllllllllllllllllllllllllllllllllllllllllllllllllllllllllllllllllllllllllllllllllllllllllllllllllllllllllllllllllllllllllllllllllllllllllllllllllllllllllllllllllllll}\n",
       "  & Total & AT & BE & BG & CY & CZ & DE & DK & EE & EL & ⋯ & UKA & UKB & UKF & UKG & UKJ & UKK & UKL & UKM & UKO & UKR\\\\\n",
       "\\hline\n",
       "\tME & 55.492717  & 0.1292254  & -0.4285559 & -0.7819245 &  -1.149823 & 1.404161   & 21.109878  & -0.6603237 &  -1.003559 & 0.1523466  & ⋯          &  0.3777341 & 6.788382   &  3.411565  & 6.000715   & 1.037404   & -2.680209  & 5.195082   & 5.550773   & -2.624961  &  3.642126 \\\\\n",
       "\tRMSE & 56.454316  & 0.6085641  &  0.5771218 &  0.8913891 &   1.237717 & 1.700282   & 22.894624  &  1.1072745 &   1.087434 & 0.5662423  & ⋯          &  0.4521147 & 7.098195   &  3.429439  & 6.072424   & 1.353770   &  3.152632  & 5.322240   & 5.696657   &  4.923690  &  3.688942 \\\\\n",
       "\tMAE & 55.492717  & 0.4969950  &  0.5214705 &  0.7819245 &   1.149823 & 1.524718   & 21.109878  &  0.9440658 &   1.003559 & 0.4420568  & ⋯          &  0.3904389 & 6.788382   &  3.411565  & 6.000715   & 1.116356   &  2.680209  & 5.195082   & 5.550773   &  4.161104  &  3.642126 \\\\\n",
       "\tMAPE &  1.593569  & 0.5871874  &  0.5264923 &  6.9040015 &  26.404419 & 3.363274   &  2.796842  &  1.4835034 &  18.874966 & 1.0957592  & ⋯          & 11.2925603 & 9.138839   & 10.647020  & 6.427484   & 3.225036   &  7.358034  & 7.333207   & 8.374036   &  4.512622  & 16.348190 \\\\\n",
       "\tMPE &  1.593569  & 0.1442306  & -0.4296426 & -6.9040015 & -26.404419 & 3.056411   &  2.796842  & -1.0342503 & -18.874966 & 0.3569877  & ⋯          & 10.8930065 & 9.138839   & 10.647020  & 6.427484   & 2.981859   & -7.358034  & 7.333207   & 8.374036   & -2.867141  & 16.348190 \\\\\n",
       "\\end{tabular}\n"
      ],
      "text/markdown": [
       "\n",
       "| <!--/--> | Total | AT | BE | BG | CY | CZ | DE | DK | EE | EL | ⋯ | UKA | UKB | UKF | UKG | UKJ | UKK | UKL | UKM | UKO | UKR | \n",
       "|---|---|---|---|---|\n",
       "| ME | 55.492717  | 0.1292254  | -0.4285559 | -0.7819245 |  -1.149823 | 1.404161   | 21.109878  | -0.6603237 |  -1.003559 | 0.1523466  | ⋯          |  0.3777341 | 6.788382   |  3.411565  | 6.000715   | 1.037404   | -2.680209  | 5.195082   | 5.550773   | -2.624961  |  3.642126  | \n",
       "| RMSE | 56.454316  | 0.6085641  |  0.5771218 |  0.8913891 |   1.237717 | 1.700282   | 22.894624  |  1.1072745 |   1.087434 | 0.5662423  | ⋯          |  0.4521147 | 7.098195   |  3.429439  | 6.072424   | 1.353770   |  3.152632  | 5.322240   | 5.696657   |  4.923690  |  3.688942  | \n",
       "| MAE | 55.492717  | 0.4969950  |  0.5214705 |  0.7819245 |   1.149823 | 1.524718   | 21.109878  |  0.9440658 |   1.003559 | 0.4420568  | ⋯          |  0.3904389 | 6.788382   |  3.411565  | 6.000715   | 1.116356   |  2.680209  | 5.195082   | 5.550773   |  4.161104  |  3.642126  | \n",
       "| MAPE |  1.593569  | 0.5871874  |  0.5264923 |  6.9040015 |  26.404419 | 3.363274   |  2.796842  |  1.4835034 |  18.874966 | 1.0957592  | ⋯          | 11.2925603 | 9.138839   | 10.647020  | 6.427484   | 3.225036   |  7.358034  | 7.333207   | 8.374036   |  4.512622  | 16.348190  | \n",
       "| MPE |  1.593569  | 0.1442306  | -0.4296426 | -6.9040015 | -26.404419 | 3.056411   |  2.796842  | -1.0342503 | -18.874966 | 0.3569877  | ⋯          | 10.8930065 | 9.138839   | 10.647020  | 6.427484   | 2.981859   | -7.358034  | 7.333207   | 8.374036   | -2.867141  | 16.348190  | \n",
       "\n",
       "\n"
      ],
      "text/plain": [
       "     Total     AT        BE         BG         CY         CZ       DE       \n",
       "ME   55.492717 0.1292254 -0.4285559 -0.7819245  -1.149823 1.404161 21.109878\n",
       "RMSE 56.454316 0.6085641  0.5771218  0.8913891   1.237717 1.700282 22.894624\n",
       "MAE  55.492717 0.4969950  0.5214705  0.7819245   1.149823 1.524718 21.109878\n",
       "MAPE  1.593569 0.5871874  0.5264923  6.9040015  26.404419 3.363274  2.796842\n",
       "MPE   1.593569 0.1442306 -0.4296426 -6.9040015 -26.404419 3.056411  2.796842\n",
       "     DK         EE         EL        ⋯ UKA        UKB      UKF       UKG     \n",
       "ME   -0.6603237  -1.003559 0.1523466 ⋯  0.3777341 6.788382  3.411565 6.000715\n",
       "RMSE  1.1072745   1.087434 0.5662423 ⋯  0.4521147 7.098195  3.429439 6.072424\n",
       "MAE   0.9440658   1.003559 0.4420568 ⋯  0.3904389 6.788382  3.411565 6.000715\n",
       "MAPE  1.4835034  18.874966 1.0957592 ⋯ 11.2925603 9.138839 10.647020 6.427484\n",
       "MPE  -1.0342503 -18.874966 0.3569877 ⋯ 10.8930065 9.138839 10.647020 6.427484\n",
       "     UKJ      UKK       UKL      UKM      UKO       UKR      \n",
       "ME   1.037404 -2.680209 5.195082 5.550773 -2.624961  3.642126\n",
       "RMSE 1.353770  3.152632 5.322240 5.696657  4.923690  3.688942\n",
       "MAE  1.116356  2.680209 5.195082 5.550773  4.161104  3.642126\n",
       "MAPE 3.225036  7.358034 7.333207 8.374036  4.512622 16.348190\n",
       "MPE  2.981859 -7.358034 7.333207 8.374036 -2.867141 16.348190"
      ]
     },
     "metadata": {},
     "output_type": "display_data"
    }
   ],
   "source": [
    "accuracy.gts(gts_forecasts_7, gts_test)"
   ]
  },
  {
   "cell_type": "markdown",
   "metadata": {},
   "source": [
    "(diff cor)"
   ]
  },
  {
   "cell_type": "code",
   "execution_count": 55,
   "metadata": {
    "scrolled": false
   },
   "outputs": [
    {
     "data": {
      "text/html": [
       "<table>\n",
       "<thead><tr><th></th><th scope=col>Total</th><th scope=col>AT</th><th scope=col>BE</th><th scope=col>BG</th><th scope=col>CY</th><th scope=col>CZ</th><th scope=col>DE</th><th scope=col>DK</th><th scope=col>EE</th><th scope=col>EL</th><th scope=col>⋯</th><th scope=col>UKA</th><th scope=col>UKB</th><th scope=col>UKF</th><th scope=col>UKG</th><th scope=col>UKJ</th><th scope=col>UKK</th><th scope=col>UKL</th><th scope=col>UKM</th><th scope=col>UKO</th><th scope=col>UKR</th></tr></thead>\n",
       "<tbody>\n",
       "\t<tr><th scope=row>ME</th><td>55.452122  </td><td>0.1592184  </td><td>-0.3899763 </td><td>-0.7387659 </td><td> -1.114259 </td><td>1.459264   </td><td>20.77050   </td><td>-0.5963999 </td><td> -0.9606873</td><td>0.2070718  </td><td>⋯          </td><td> 1.036903  </td><td>5.701680   </td><td> 3.235307  </td><td>4.509644   </td><td>1.760525   </td><td>-1.584016  </td><td>6.318369   </td><td>4.558520   </td><td>-1.980247  </td><td> 2.537810  </td></tr>\n",
       "\t<tr><th scope=row>RMSE</th><td>56.413296  </td><td>0.6178734  </td><td> 0.5455135 </td><td> 0.8503348 </td><td>  1.202747 </td><td>1.750854   </td><td>22.57129   </td><td> 1.0574991 </td><td>  1.0457180</td><td>0.5805056  </td><td>⋯          </td><td> 1.075660  </td><td>5.996266   </td><td> 3.258633  </td><td>4.589179   </td><td>1.996958   </td><td> 2.178933  </td><td>6.439407   </td><td>4.688704   </td><td> 4.420348  </td><td> 2.613599  </td></tr>\n",
       "\t<tr><th scope=row>MAE</th><td>55.452122  </td><td>0.4960431  </td><td> 0.4894781 </td><td> 0.7387659 </td><td>  1.114259 </td><td>1.569865   </td><td>20.77050   </td><td> 0.8905905 </td><td>  0.9606873</td><td>0.4234277  </td><td>⋯          </td><td> 1.036903  </td><td>5.701680   </td><td> 3.235307  </td><td>4.509644   </td><td>1.760525   </td><td> 1.803412  </td><td>6.318369   </td><td>4.558520   </td><td> 3.703187  </td><td> 2.537810  </td></tr>\n",
       "\t<tr><th scope=row>MAPE</th><td> 1.592402  </td><td>0.5854210  </td><td> 0.4942691 </td><td> 6.5253570 </td><td> 25.583233 </td><td>3.461531   </td><td> 2.75155   </td><td> 1.3996123 </td><td> 18.0613584</td><td>1.0456769  </td><td>⋯          </td><td>30.349318  </td><td>7.668023   </td><td>10.098321  </td><td>4.822494   </td><td>5.104646   </td><td> 4.962060  </td><td>8.921811   </td><td>6.874455   </td><td> 4.013333  </td><td>11.376345  </td></tr>\n",
       "\t<tr><th scope=row>MPE</th><td> 1.592402  </td><td>0.1800530  </td><td>-0.3905533 </td><td>-6.5253570 </td><td>-25.583233 </td><td>3.180009   </td><td> 2.75155   </td><td>-0.9338171 </td><td>-18.0613584</td><td>0.4941022  </td><td>⋯          </td><td>30.349318  </td><td>7.668023   </td><td>10.098321  </td><td>4.822494   </td><td>5.104646   </td><td>-4.390577  </td><td>8.921811   </td><td>6.874455   </td><td>-2.166458  </td><td>11.376345  </td></tr>\n",
       "</tbody>\n",
       "</table>\n"
      ],
      "text/latex": [
       "\\begin{tabular}{r|lllllllllllllllllllllllllllllllllllllllllllllllllllllllllllllllllllllllllllllllllllllllllllllllllllllllllllllllllllllllllllllllllllllllllllllllllllllllllllllllllllllllllllllllllllllllllllllllllllllllllllllllllllllllllllllllllllllllllllllllllllllllllllllllllllllllllllllllllllllllllllllllllllllllllllllllllllll}\n",
       "  & Total & AT & BE & BG & CY & CZ & DE & DK & EE & EL & ⋯ & UKA & UKB & UKF & UKG & UKJ & UKK & UKL & UKM & UKO & UKR\\\\\n",
       "\\hline\n",
       "\tME & 55.452122   & 0.1592184   & -0.3899763  & -0.7387659  &  -1.114259  & 1.459264    & 20.77050    & -0.5963999  &  -0.9606873 & 0.2070718   & ⋯           &  1.036903   & 5.701680    &  3.235307   & 4.509644    & 1.760525    & -1.584016   & 6.318369    & 4.558520    & -1.980247   &  2.537810  \\\\\n",
       "\tRMSE & 56.413296   & 0.6178734   &  0.5455135  &  0.8503348  &   1.202747  & 1.750854    & 22.57129    &  1.0574991  &   1.0457180 & 0.5805056   & ⋯           &  1.075660   & 5.996266    &  3.258633   & 4.589179    & 1.996958    &  2.178933   & 6.439407    & 4.688704    &  4.420348   &  2.613599  \\\\\n",
       "\tMAE & 55.452122   & 0.4960431   &  0.4894781  &  0.7387659  &   1.114259  & 1.569865    & 20.77050    &  0.8905905  &   0.9606873 & 0.4234277   & ⋯           &  1.036903   & 5.701680    &  3.235307   & 4.509644    & 1.760525    &  1.803412   & 6.318369    & 4.558520    &  3.703187   &  2.537810  \\\\\n",
       "\tMAPE &  1.592402   & 0.5854210   &  0.4942691  &  6.5253570  &  25.583233  & 3.461531    &  2.75155    &  1.3996123  &  18.0613584 & 1.0456769   & ⋯           & 30.349318   & 7.668023    & 10.098321   & 4.822494    & 5.104646    &  4.962060   & 8.921811    & 6.874455    &  4.013333   & 11.376345  \\\\\n",
       "\tMPE &  1.592402   & 0.1800530   & -0.3905533  & -6.5253570  & -25.583233  & 3.180009    &  2.75155    & -0.9338171  & -18.0613584 & 0.4941022   & ⋯           & 30.349318   & 7.668023    & 10.098321   & 4.822494    & 5.104646    & -4.390577   & 8.921811    & 6.874455    & -2.166458   & 11.376345  \\\\\n",
       "\\end{tabular}\n"
      ],
      "text/markdown": [
       "\n",
       "| <!--/--> | Total | AT | BE | BG | CY | CZ | DE | DK | EE | EL | ⋯ | UKA | UKB | UKF | UKG | UKJ | UKK | UKL | UKM | UKO | UKR | \n",
       "|---|---|---|---|---|\n",
       "| ME | 55.452122   | 0.1592184   | -0.3899763  | -0.7387659  |  -1.114259  | 1.459264    | 20.77050    | -0.5963999  |  -0.9606873 | 0.2070718   | ⋯           |  1.036903   | 5.701680    |  3.235307   | 4.509644    | 1.760525    | -1.584016   | 6.318369    | 4.558520    | -1.980247   |  2.537810   | \n",
       "| RMSE | 56.413296   | 0.6178734   |  0.5455135  |  0.8503348  |   1.202747  | 1.750854    | 22.57129    |  1.0574991  |   1.0457180 | 0.5805056   | ⋯           |  1.075660   | 5.996266    |  3.258633   | 4.589179    | 1.996958    |  2.178933   | 6.439407    | 4.688704    |  4.420348   |  2.613599   | \n",
       "| MAE | 55.452122   | 0.4960431   |  0.4894781  |  0.7387659  |   1.114259  | 1.569865    | 20.77050    |  0.8905905  |   0.9606873 | 0.4234277   | ⋯           |  1.036903   | 5.701680    |  3.235307   | 4.509644    | 1.760525    |  1.803412   | 6.318369    | 4.558520    |  3.703187   |  2.537810   | \n",
       "| MAPE |  1.592402   | 0.5854210   |  0.4942691  |  6.5253570  |  25.583233  | 3.461531    |  2.75155    |  1.3996123  |  18.0613584 | 1.0456769   | ⋯           | 30.349318   | 7.668023    | 10.098321   | 4.822494    | 5.104646    |  4.962060   | 8.921811    | 6.874455    |  4.013333   | 11.376345   | \n",
       "| MPE |  1.592402   | 0.1800530   | -0.3905533  | -6.5253570  | -25.583233  | 3.180009    |  2.75155    | -0.9338171  | -18.0613584 | 0.4941022   | ⋯           | 30.349318   | 7.668023    | 10.098321   | 4.822494    | 5.104646    | -4.390577   | 8.921811    | 6.874455    | -2.166458   | 11.376345   | \n",
       "\n",
       "\n"
      ],
      "text/plain": [
       "     Total     AT        BE         BG         CY         CZ       DE      \n",
       "ME   55.452122 0.1592184 -0.3899763 -0.7387659  -1.114259 1.459264 20.77050\n",
       "RMSE 56.413296 0.6178734  0.5455135  0.8503348   1.202747 1.750854 22.57129\n",
       "MAE  55.452122 0.4960431  0.4894781  0.7387659   1.114259 1.569865 20.77050\n",
       "MAPE  1.592402 0.5854210  0.4942691  6.5253570  25.583233 3.461531  2.75155\n",
       "MPE   1.592402 0.1800530 -0.3905533 -6.5253570 -25.583233 3.180009  2.75155\n",
       "     DK         EE          EL        ⋯ UKA       UKB      UKF       UKG     \n",
       "ME   -0.5963999  -0.9606873 0.2070718 ⋯  1.036903 5.701680  3.235307 4.509644\n",
       "RMSE  1.0574991   1.0457180 0.5805056 ⋯  1.075660 5.996266  3.258633 4.589179\n",
       "MAE   0.8905905   0.9606873 0.4234277 ⋯  1.036903 5.701680  3.235307 4.509644\n",
       "MAPE  1.3996123  18.0613584 1.0456769 ⋯ 30.349318 7.668023 10.098321 4.822494\n",
       "MPE  -0.9338171 -18.0613584 0.4941022 ⋯ 30.349318 7.668023 10.098321 4.822494\n",
       "     UKJ      UKK       UKL      UKM      UKO       UKR      \n",
       "ME   1.760525 -1.584016 6.318369 4.558520 -1.980247  2.537810\n",
       "RMSE 1.996958  2.178933 6.439407 4.688704  4.420348  2.613599\n",
       "MAE  1.760525  1.803412 6.318369 4.558520  3.703187  2.537810\n",
       "MAPE 5.104646  4.962060 8.921811 6.874455  4.013333 11.376345\n",
       "MPE  5.104646 -4.390577 8.921811 6.874455 -2.166458 11.376345"
      ]
     },
     "metadata": {},
     "output_type": "display_data"
    }
   ],
   "source": [
    "accuracy.gts(gts_forecasts_7, gts_test)"
   ]
  },
  {
   "cell_type": "markdown",
   "metadata": {},
   "source": [
    "(diff cor, diif reg)\n"
   ]
  },
  {
   "cell_type": "markdown",
   "metadata": {},
   "source": [
    "_4 LAG_"
   ]
  },
  {
   "cell_type": "code",
   "execution_count": 373,
   "metadata": {
    "scrolled": true
   },
   "outputs": [
    {
     "data": {
      "text/html": [
       "<table>\n",
       "<thead><tr><th></th><th scope=col>Total</th><th scope=col>AT</th><th scope=col>BE</th><th scope=col>BG</th><th scope=col>CY</th><th scope=col>CZ</th><th scope=col>DE</th><th scope=col>DK</th><th scope=col>EE</th><th scope=col>EL</th><th scope=col>⋯</th><th scope=col>UKA</th><th scope=col>UKB</th><th scope=col>UKF</th><th scope=col>UKG</th><th scope=col>UKJ</th><th scope=col>UKK</th><th scope=col>UKL</th><th scope=col>UKM</th><th scope=col>UKO</th><th scope=col>UKR</th></tr></thead>\n",
       "<tbody>\n",
       "\t<tr><th scope=row>ME</th><td>55.506310 </td><td>0.1177021 </td><td>-0.4353434</td><td>-0.7886771</td><td> -1.163865</td><td>1.419461  </td><td>20.951345 </td><td>-0.6742184</td><td> -1.011770</td><td>0.1531482 </td><td>⋯         </td><td> 0.4031278</td><td>6.288661  </td><td>2.939164  </td><td>3.972186  </td><td>1.330313  </td><td>-2.502581 </td><td>5.050548  </td><td>4.892108  </td><td>3.073373  </td><td>1.164058  </td></tr>\n",
       "\t<tr><th scope=row>RMSE</th><td>56.469628 </td><td>0.6025545 </td><td> 0.5848640</td><td> 0.8999838</td><td>  1.253684</td><td>1.703976  </td><td>22.761306 </td><td> 1.1202066</td><td>  1.097518</td><td>0.5658541 </td><td>⋯         </td><td> 0.4609498</td><td>6.505448  </td><td>2.964669  </td><td>4.068284  </td><td>1.539734  </td><td> 3.060059 </td><td>5.192467  </td><td>5.076497  </td><td>3.777148  </td><td>1.604283  </td></tr>\n",
       "\t<tr><th scope=row>MAE</th><td>55.506310 </td><td>0.4948513 </td><td> 0.5298301</td><td> 0.7886771</td><td>  1.163865</td><td>1.525202  </td><td>20.951345 </td><td> 0.9580211</td><td>  1.011770</td><td>0.4423477 </td><td>⋯         </td><td> 0.4031278</td><td>6.288661  </td><td>2.939164  </td><td>3.972186  </td><td>1.330313  </td><td> 2.591409 </td><td>5.050548  </td><td>4.892108  </td><td>3.516333  </td><td>1.379944  </td></tr>\n",
       "\t<tr><th scope=row>MAPE</th><td> 1.593954 </td><td>0.5847508 </td><td> 0.5349791</td><td> 6.9562168</td><td> 26.720622</td><td>3.362582  </td><td> 2.775563 </td><td> 1.5054099</td><td> 19.021543</td><td>1.0966785 </td><td>⋯         </td><td>11.6328552</td><td>8.477114  </td><td>9.169885  </td><td>4.248025  </td><td>3.849245  </td><td> 7.116065 </td><td>7.127194  </td><td>7.377567  </td><td>3.806340  </td><td>6.166231  </td></tr>\n",
       "\t<tr><th scope=row>MPE</th><td> 1.593954 </td><td>0.1307288 </td><td>-0.4364909</td><td>-6.9562168</td><td>-26.720622</td><td>3.093432  </td><td> 2.775563 </td><td>-1.0560612</td><td>-19.021543</td><td>0.3594374 </td><td>⋯         </td><td>11.6328552</td><td>8.477114  </td><td>9.169885  </td><td>4.248025  </td><td>3.849245  </td><td>-6.881352 </td><td>7.127194  </td><td>7.377567  </td><td>3.325854  </td><td>5.184372  </td></tr>\n",
       "</tbody>\n",
       "</table>\n"
      ],
      "text/latex": [
       "\\begin{tabular}{r|lllllllllllllllllllllllllllllllllllllllllllllllllllllllllllllllllllllllllllllllllllllllllllllllllllllllllllllllllllllllllllllllllllllllllllllllllllllllllllllllllllllllllllllllllllllllllllllllllllllllllllllllllllllllllllllllllllllllllllllllllllllllllllllllllllllllllllllllllllllllllllllllllllllllllllllllllllll}\n",
       "  & Total & AT & BE & BG & CY & CZ & DE & DK & EE & EL & ⋯ & UKA & UKB & UKF & UKG & UKJ & UKK & UKL & UKM & UKO & UKR\\\\\n",
       "\\hline\n",
       "\tME & 55.506310  & 0.1177021  & -0.4353434 & -0.7886771 &  -1.163865 & 1.419461   & 20.951345  & -0.6742184 &  -1.011770 & 0.1531482  & ⋯          &  0.4031278 & 6.288661   & 2.939164   & 3.972186   & 1.330313   & -2.502581  & 5.050548   & 4.892108   & 3.073373   & 1.164058  \\\\\n",
       "\tRMSE & 56.469628  & 0.6025545  &  0.5848640 &  0.8999838 &   1.253684 & 1.703976   & 22.761306  &  1.1202066 &   1.097518 & 0.5658541  & ⋯          &  0.4609498 & 6.505448   & 2.964669   & 4.068284   & 1.539734   &  3.060059  & 5.192467   & 5.076497   & 3.777148   & 1.604283  \\\\\n",
       "\tMAE & 55.506310  & 0.4948513  &  0.5298301 &  0.7886771 &   1.163865 & 1.525202   & 20.951345  &  0.9580211 &   1.011770 & 0.4423477  & ⋯          &  0.4031278 & 6.288661   & 2.939164   & 3.972186   & 1.330313   &  2.591409  & 5.050548   & 4.892108   & 3.516333   & 1.379944  \\\\\n",
       "\tMAPE &  1.593954  & 0.5847508  &  0.5349791 &  6.9562168 &  26.720622 & 3.362582   &  2.775563  &  1.5054099 &  19.021543 & 1.0966785  & ⋯          & 11.6328552 & 8.477114   & 9.169885   & 4.248025   & 3.849245   &  7.116065  & 7.127194   & 7.377567   & 3.806340   & 6.166231  \\\\\n",
       "\tMPE &  1.593954  & 0.1307288  & -0.4364909 & -6.9562168 & -26.720622 & 3.093432   &  2.775563  & -1.0560612 & -19.021543 & 0.3594374  & ⋯          & 11.6328552 & 8.477114   & 9.169885   & 4.248025   & 3.849245   & -6.881352  & 7.127194   & 7.377567   & 3.325854   & 5.184372  \\\\\n",
       "\\end{tabular}\n"
      ],
      "text/markdown": [
       "\n",
       "| <!--/--> | Total | AT | BE | BG | CY | CZ | DE | DK | EE | EL | ⋯ | UKA | UKB | UKF | UKG | UKJ | UKK | UKL | UKM | UKO | UKR | \n",
       "|---|---|---|---|---|\n",
       "| ME | 55.506310  | 0.1177021  | -0.4353434 | -0.7886771 |  -1.163865 | 1.419461   | 20.951345  | -0.6742184 |  -1.011770 | 0.1531482  | ⋯          |  0.4031278 | 6.288661   | 2.939164   | 3.972186   | 1.330313   | -2.502581  | 5.050548   | 4.892108   | 3.073373   | 1.164058   | \n",
       "| RMSE | 56.469628  | 0.6025545  |  0.5848640 |  0.8999838 |   1.253684 | 1.703976   | 22.761306  |  1.1202066 |   1.097518 | 0.5658541  | ⋯          |  0.4609498 | 6.505448   | 2.964669   | 4.068284   | 1.539734   |  3.060059  | 5.192467   | 5.076497   | 3.777148   | 1.604283   | \n",
       "| MAE | 55.506310  | 0.4948513  |  0.5298301 |  0.7886771 |   1.163865 | 1.525202   | 20.951345  |  0.9580211 |   1.011770 | 0.4423477  | ⋯          |  0.4031278 | 6.288661   | 2.939164   | 3.972186   | 1.330313   |  2.591409  | 5.050548   | 4.892108   | 3.516333   | 1.379944   | \n",
       "| MAPE |  1.593954  | 0.5847508  |  0.5349791 |  6.9562168 |  26.720622 | 3.362582   |  2.775563  |  1.5054099 |  19.021543 | 1.0966785  | ⋯          | 11.6328552 | 8.477114   | 9.169885   | 4.248025   | 3.849245   |  7.116065  | 7.127194   | 7.377567   | 3.806340   | 6.166231   | \n",
       "| MPE |  1.593954  | 0.1307288  | -0.4364909 | -6.9562168 | -26.720622 | 3.093432   |  2.775563  | -1.0560612 | -19.021543 | 0.3594374  | ⋯          | 11.6328552 | 8.477114   | 9.169885   | 4.248025   | 3.849245   | -6.881352  | 7.127194   | 7.377567   | 3.325854   | 5.184372   | \n",
       "\n",
       "\n"
      ],
      "text/plain": [
       "     Total     AT        BE         BG         CY         CZ       DE       \n",
       "ME   55.506310 0.1177021 -0.4353434 -0.7886771  -1.163865 1.419461 20.951345\n",
       "RMSE 56.469628 0.6025545  0.5848640  0.8999838   1.253684 1.703976 22.761306\n",
       "MAE  55.506310 0.4948513  0.5298301  0.7886771   1.163865 1.525202 20.951345\n",
       "MAPE  1.593954 0.5847508  0.5349791  6.9562168  26.720622 3.362582  2.775563\n",
       "MPE   1.593954 0.1307288 -0.4364909 -6.9562168 -26.720622 3.093432  2.775563\n",
       "     DK         EE         EL        ⋯ UKA        UKB      UKF      UKG     \n",
       "ME   -0.6742184  -1.011770 0.1531482 ⋯  0.4031278 6.288661 2.939164 3.972186\n",
       "RMSE  1.1202066   1.097518 0.5658541 ⋯  0.4609498 6.505448 2.964669 4.068284\n",
       "MAE   0.9580211   1.011770 0.4423477 ⋯  0.4031278 6.288661 2.939164 3.972186\n",
       "MAPE  1.5054099  19.021543 1.0966785 ⋯ 11.6328552 8.477114 9.169885 4.248025\n",
       "MPE  -1.0560612 -19.021543 0.3594374 ⋯ 11.6328552 8.477114 9.169885 4.248025\n",
       "     UKJ      UKK       UKL      UKM      UKO      UKR     \n",
       "ME   1.330313 -2.502581 5.050548 4.892108 3.073373 1.164058\n",
       "RMSE 1.539734  3.060059 5.192467 5.076497 3.777148 1.604283\n",
       "MAE  1.330313  2.591409 5.050548 4.892108 3.516333 1.379944\n",
       "MAPE 3.849245  7.116065 7.127194 7.377567 3.806340 6.166231\n",
       "MPE  3.849245 -6.881352 7.127194 7.377567 3.325854 5.184372"
      ]
     },
     "metadata": {},
     "output_type": "display_data"
    }
   ],
   "source": [
    "accuracy.gts(gts_forecasts_7, gts_test)"
   ]
  },
  {
   "cell_type": "markdown",
   "metadata": {},
   "source": [
    "(diff cor)"
   ]
  },
  {
   "cell_type": "code",
   "execution_count": 62,
   "metadata": {},
   "outputs": [
    {
     "data": {
      "text/html": [
       "<table>\n",
       "<thead><tr><th></th><th scope=col>Total</th><th scope=col>AT</th><th scope=col>BE</th><th scope=col>BG</th><th scope=col>CY</th><th scope=col>CZ</th><th scope=col>DE</th><th scope=col>DK</th><th scope=col>EE</th><th scope=col>EL</th><th scope=col>⋯</th><th scope=col>UKA</th><th scope=col>UKB</th><th scope=col>UKF</th><th scope=col>UKG</th><th scope=col>UKJ</th><th scope=col>UKK</th><th scope=col>UKL</th><th scope=col>UKM</th><th scope=col>UKO</th><th scope=col>UKR</th></tr></thead>\n",
       "<tbody>\n",
       "\t<tr><th scope=row>ME</th><td>55.50263  </td><td>0.1226815 </td><td>-0.4428594</td><td>-0.7869648</td><td> -1.160944</td><td>1.444328  </td><td>20.956078 </td><td>-0.6338909</td><td> -1.006720</td><td>0.1543985 </td><td>⋯         </td><td>0.1677260 </td><td>4.712493  </td><td> 3.930230 </td><td>5.310681  </td><td>1.114920  </td><td>-3.301635 </td><td>5.331325  </td><td>4.590595  </td><td>2.875828  </td><td>2.080017  </td></tr>\n",
       "\t<tr><th scope=row>RMSE</th><td>56.46549  </td><td>0.6037936 </td><td> 0.5869318</td><td> 0.8957090</td><td>  1.249528</td><td>1.729284  </td><td>22.742951 </td><td> 1.0934798</td><td>  1.091032</td><td>0.5629566 </td><td>⋯         </td><td>0.3720835 </td><td>5.119455  </td><td> 3.971379 </td><td>5.618238  </td><td>1.324861  </td><td> 3.961992 </td><td>5.452578  </td><td>4.757246  </td><td>3.693626  </td><td>2.255131  </td></tr>\n",
       "\t<tr><th scope=row>MAE</th><td>55.50263  </td><td>0.4958433 </td><td> 0.5320367</td><td> 0.7869648</td><td>  1.160944</td><td>1.545661  </td><td>20.956078 </td><td> 0.9305798</td><td>  1.006720</td><td>0.4368103 </td><td>⋯         </td><td>0.3180207 </td><td>4.712493  </td><td> 3.930230 </td><td>5.310681  </td><td>1.114920  </td><td> 3.301635 </td><td>5.331325  </td><td>4.590595  </td><td>3.444472  </td><td>2.080017  </td></tr>\n",
       "\t<tr><th scope=row>MAPE</th><td> 1.59385  </td><td>0.5858771 </td><td> 0.5371368</td><td> 6.9444308</td><td> 26.655662</td><td>3.406671  </td><td> 2.776358 </td><td> 1.4624549</td><td> 18.929856</td><td>1.0830851 </td><td>⋯         </td><td>9.2886649 </td><td>6.322657  </td><td>12.270157 </td><td>5.664960  </td><td>3.222625  </td><td> 9.059123 </td><td>7.525655  </td><td>6.951024  </td><td>3.728048  </td><td>9.306082  </td></tr>\n",
       "\t<tr><th scope=row>MPE</th><td> 1.59385  </td><td>0.1367881 </td><td>-0.4441827</td><td>-6.9444308</td><td>-26.655662</td><td>3.148742  </td><td> 2.776358 </td><td>-0.9927031</td><td>-18.929856</td><td>0.3631361 </td><td>⋯         </td><td>4.6103518 </td><td>6.322657  </td><td>12.270157 </td><td>5.664960  </td><td>3.222625  </td><td>-9.059123 </td><td>7.525655  </td><td>6.951024  </td><td>3.111230  </td><td>9.306082  </td></tr>\n",
       "</tbody>\n",
       "</table>\n"
      ],
      "text/latex": [
       "\\begin{tabular}{r|lllllllllllllllllllllllllllllllllllllllllllllllllllllllllllllllllllllllllllllllllllllllllllllllllllllllllllllllllllllllllllllllllllllllllllllllllllllllllllllllllllllllllllllllllllllllllllllllllllllllllllllllllllllllllllllllllllllllllllllllllllllllllllllllllllllllllllllllllllllllllllllllllllllllllllllllllllll}\n",
       "  & Total & AT & BE & BG & CY & CZ & DE & DK & EE & EL & ⋯ & UKA & UKB & UKF & UKG & UKJ & UKK & UKL & UKM & UKO & UKR\\\\\n",
       "\\hline\n",
       "\tME & 55.50263   & 0.1226815  & -0.4428594 & -0.7869648 &  -1.160944 & 1.444328   & 20.956078  & -0.6338909 &  -1.006720 & 0.1543985  & ⋯          & 0.1677260  & 4.712493   &  3.930230  & 5.310681   & 1.114920   & -3.301635  & 5.331325   & 4.590595   & 2.875828   & 2.080017  \\\\\n",
       "\tRMSE & 56.46549   & 0.6037936  &  0.5869318 &  0.8957090 &   1.249528 & 1.729284   & 22.742951  &  1.0934798 &   1.091032 & 0.5629566  & ⋯          & 0.3720835  & 5.119455   &  3.971379  & 5.618238   & 1.324861   &  3.961992  & 5.452578   & 4.757246   & 3.693626   & 2.255131  \\\\\n",
       "\tMAE & 55.50263   & 0.4958433  &  0.5320367 &  0.7869648 &   1.160944 & 1.545661   & 20.956078  &  0.9305798 &   1.006720 & 0.4368103  & ⋯          & 0.3180207  & 4.712493   &  3.930230  & 5.310681   & 1.114920   &  3.301635  & 5.331325   & 4.590595   & 3.444472   & 2.080017  \\\\\n",
       "\tMAPE &  1.59385   & 0.5858771  &  0.5371368 &  6.9444308 &  26.655662 & 3.406671   &  2.776358  &  1.4624549 &  18.929856 & 1.0830851  & ⋯          & 9.2886649  & 6.322657   & 12.270157  & 5.664960   & 3.222625   &  9.059123  & 7.525655   & 6.951024   & 3.728048   & 9.306082  \\\\\n",
       "\tMPE &  1.59385   & 0.1367881  & -0.4441827 & -6.9444308 & -26.655662 & 3.148742   &  2.776358  & -0.9927031 & -18.929856 & 0.3631361  & ⋯          & 4.6103518  & 6.322657   & 12.270157  & 5.664960   & 3.222625   & -9.059123  & 7.525655   & 6.951024   & 3.111230   & 9.306082  \\\\\n",
       "\\end{tabular}\n"
      ],
      "text/markdown": [
       "\n",
       "| <!--/--> | Total | AT | BE | BG | CY | CZ | DE | DK | EE | EL | ⋯ | UKA | UKB | UKF | UKG | UKJ | UKK | UKL | UKM | UKO | UKR | \n",
       "|---|---|---|---|---|\n",
       "| ME | 55.50263   | 0.1226815  | -0.4428594 | -0.7869648 |  -1.160944 | 1.444328   | 20.956078  | -0.6338909 |  -1.006720 | 0.1543985  | ⋯          | 0.1677260  | 4.712493   |  3.930230  | 5.310681   | 1.114920   | -3.301635  | 5.331325   | 4.590595   | 2.875828   | 2.080017   | \n",
       "| RMSE | 56.46549   | 0.6037936  |  0.5869318 |  0.8957090 |   1.249528 | 1.729284   | 22.742951  |  1.0934798 |   1.091032 | 0.5629566  | ⋯          | 0.3720835  | 5.119455   |  3.971379  | 5.618238   | 1.324861   |  3.961992  | 5.452578   | 4.757246   | 3.693626   | 2.255131   | \n",
       "| MAE | 55.50263   | 0.4958433  |  0.5320367 |  0.7869648 |   1.160944 | 1.545661   | 20.956078  |  0.9305798 |   1.006720 | 0.4368103  | ⋯          | 0.3180207  | 4.712493   |  3.930230  | 5.310681   | 1.114920   |  3.301635  | 5.331325   | 4.590595   | 3.444472   | 2.080017   | \n",
       "| MAPE |  1.59385   | 0.5858771  |  0.5371368 |  6.9444308 |  26.655662 | 3.406671   |  2.776358  |  1.4624549 |  18.929856 | 1.0830851  | ⋯          | 9.2886649  | 6.322657   | 12.270157  | 5.664960   | 3.222625   |  9.059123  | 7.525655   | 6.951024   | 3.728048   | 9.306082   | \n",
       "| MPE |  1.59385   | 0.1367881  | -0.4441827 | -6.9444308 | -26.655662 | 3.148742   |  2.776358  | -0.9927031 | -18.929856 | 0.3631361  | ⋯          | 4.6103518  | 6.322657   | 12.270157  | 5.664960   | 3.222625   | -9.059123  | 7.525655   | 6.951024   | 3.111230   | 9.306082   | \n",
       "\n",
       "\n"
      ],
      "text/plain": [
       "     Total    AT        BE         BG         CY         CZ       DE       \n",
       "ME   55.50263 0.1226815 -0.4428594 -0.7869648  -1.160944 1.444328 20.956078\n",
       "RMSE 56.46549 0.6037936  0.5869318  0.8957090   1.249528 1.729284 22.742951\n",
       "MAE  55.50263 0.4958433  0.5320367  0.7869648   1.160944 1.545661 20.956078\n",
       "MAPE  1.59385 0.5858771  0.5371368  6.9444308  26.655662 3.406671  2.776358\n",
       "MPE   1.59385 0.1367881 -0.4441827 -6.9444308 -26.655662 3.148742  2.776358\n",
       "     DK         EE         EL        ⋯ UKA       UKB      UKF       UKG     \n",
       "ME   -0.6338909  -1.006720 0.1543985 ⋯ 0.1677260 4.712493  3.930230 5.310681\n",
       "RMSE  1.0934798   1.091032 0.5629566 ⋯ 0.3720835 5.119455  3.971379 5.618238\n",
       "MAE   0.9305798   1.006720 0.4368103 ⋯ 0.3180207 4.712493  3.930230 5.310681\n",
       "MAPE  1.4624549  18.929856 1.0830851 ⋯ 9.2886649 6.322657 12.270157 5.664960\n",
       "MPE  -0.9927031 -18.929856 0.3631361 ⋯ 4.6103518 6.322657 12.270157 5.664960\n",
       "     UKJ      UKK       UKL      UKM      UKO      UKR     \n",
       "ME   1.114920 -3.301635 5.331325 4.590595 2.875828 2.080017\n",
       "RMSE 1.324861  3.961992 5.452578 4.757246 3.693626 2.255131\n",
       "MAE  1.114920  3.301635 5.331325 4.590595 3.444472 2.080017\n",
       "MAPE 3.222625  9.059123 7.525655 6.951024 3.728048 9.306082\n",
       "MPE  3.222625 -9.059123 7.525655 6.951024 3.111230 9.306082"
      ]
     },
     "metadata": {},
     "output_type": "display_data"
    }
   ],
   "source": [
    "accuracy.gts(gts_forecasts_7, gts_test)"
   ]
  },
  {
   "cell_type": "markdown",
   "metadata": {},
   "source": [
    "(diff cor, diif reg)\n"
   ]
  },
  {
   "cell_type": "markdown",
   "metadata": {},
   "source": [
    "_1,4 LAGS_"
   ]
  },
  {
   "cell_type": "code",
   "execution_count": 361,
   "metadata": {
    "scrolled": false
   },
   "outputs": [
    {
     "data": {
      "text/html": [
       "<table>\n",
       "<thead><tr><th></th><th scope=col>Total</th><th scope=col>AT</th><th scope=col>BE</th><th scope=col>BG</th><th scope=col>CY</th><th scope=col>CZ</th><th scope=col>DE</th><th scope=col>DK</th><th scope=col>EE</th><th scope=col>EL</th><th scope=col>⋯</th><th scope=col>UKA</th><th scope=col>UKB</th><th scope=col>UKF</th><th scope=col>UKG</th><th scope=col>UKJ</th><th scope=col>UKK</th><th scope=col>UKL</th><th scope=col>UKM</th><th scope=col>UKO</th><th scope=col>UKR</th></tr></thead>\n",
       "<tbody>\n",
       "\t<tr><th scope=row>ME</th><td>55.508834 </td><td>0.1113976 </td><td>-0.4543242</td><td>-0.7925572</td><td> -1.164636</td><td>1.399850  </td><td>20.976292 </td><td>-0.6864538</td><td> -1.018363</td><td>0.1481836 </td><td>⋯         </td><td>0.1258074 </td><td>6.499921  </td><td> 3.28600  </td><td>5.623742  </td><td>0.4179086 </td><td>-2.782137 </td><td>4.242035  </td><td> 7.085545 </td><td>-0.1626509</td><td> 2.551588 </td></tr>\n",
       "\t<tr><th scope=row>RMSE</th><td>56.470494 </td><td>0.6022875 </td><td> 0.6006985</td><td> 0.9041794</td><td>  1.252933</td><td>1.692016  </td><td>22.760334 </td><td> 1.1271332</td><td>  1.102601</td><td>0.5682218 </td><td>⋯         </td><td>0.3268074 </td><td>6.688368  </td><td> 3.32328  </td><td>5.711087  </td><td>0.8728033 </td><td> 3.292932 </td><td>4.389079  </td><td> 7.327279 </td><td> 3.4337512</td><td> 2.659263 </td></tr>\n",
       "\t<tr><th scope=row>MAE</th><td>55.508834 </td><td>0.4946248 </td><td> 0.5424412</td><td> 0.7925572</td><td>  1.164636</td><td>1.515554  </td><td>20.976292 </td><td> 0.9638829</td><td>  1.018363</td><td>0.4462784 </td><td>⋯         </td><td>0.2842414 </td><td>6.499921  </td><td> 3.28600  </td><td>5.623742  </td><td>0.7269500 </td><td> 2.789581 </td><td>4.242035  </td><td> 7.085545 </td><td> 2.4939225</td><td> 2.551588 </td></tr>\n",
       "\t<tr><th scope=row>MAPE</th><td> 1.594031 </td><td>0.5847474 </td><td> 0.5475407</td><td> 6.9969219</td><td> 26.746296</td><td>3.342621  </td><td> 2.779071 </td><td> 1.5145792</td><td> 19.154888</td><td>1.1061539 </td><td>⋯         </td><td>8.2992517 </td><td>8.767680  </td><td>10.25490  </td><td>6.023740  </td><td>2.1238423 </td><td> 7.650653 </td><td>5.985910  </td><td>10.675356 </td><td> 2.6975555</td><td>11.433386 </td></tr>\n",
       "\t<tr><th scope=row>MPE</th><td> 1.594031 </td><td>0.1230153 </td><td>-0.4556918</td><td>-6.9969219</td><td>-26.746296</td><td>3.048113  </td><td> 2.779071 </td><td>-1.0753218</td><td>-19.154888</td><td>0.3462913 </td><td>⋯         </td><td>3.5993251 </td><td>8.767680  </td><td>10.25490  </td><td>6.023740  </td><td>1.1736513 </td><td>-7.630985 </td><td>5.985910  </td><td>10.675356 </td><td>-0.1974377</td><td>11.433386 </td></tr>\n",
       "</tbody>\n",
       "</table>\n"
      ],
      "text/latex": [
       "\\begin{tabular}{r|lllllllllllllllllllllllllllllllllllllllllllllllllllllllllllllllllllllllllllllllllllllllllllllllllllllllllllllllllllllllllllllllllllllllllllllllllllllllllllllllllllllllllllllllllllllllllllllllllllllllllllllllllllllllllllllllllllllllllllllllllllllllllllllllllllllllllllllllllllllllllllllllllllllllllllllllllllll}\n",
       "  & Total & AT & BE & BG & CY & CZ & DE & DK & EE & EL & ⋯ & UKA & UKB & UKF & UKG & UKJ & UKK & UKL & UKM & UKO & UKR\\\\\n",
       "\\hline\n",
       "\tME & 55.508834  & 0.1113976  & -0.4543242 & -0.7925572 &  -1.164636 & 1.399850   & 20.976292  & -0.6864538 &  -1.018363 & 0.1481836  & ⋯          & 0.1258074  & 6.499921   &  3.28600   & 5.623742   & 0.4179086  & -2.782137  & 4.242035   &  7.085545  & -0.1626509 &  2.551588 \\\\\n",
       "\tRMSE & 56.470494  & 0.6022875  &  0.6006985 &  0.9041794 &   1.252933 & 1.692016   & 22.760334  &  1.1271332 &   1.102601 & 0.5682218  & ⋯          & 0.3268074  & 6.688368   &  3.32328   & 5.711087   & 0.8728033  &  3.292932  & 4.389079   &  7.327279  &  3.4337512 &  2.659263 \\\\\n",
       "\tMAE & 55.508834  & 0.4946248  &  0.5424412 &  0.7925572 &   1.164636 & 1.515554   & 20.976292  &  0.9638829 &   1.018363 & 0.4462784  & ⋯          & 0.2842414  & 6.499921   &  3.28600   & 5.623742   & 0.7269500  &  2.789581  & 4.242035   &  7.085545  &  2.4939225 &  2.551588 \\\\\n",
       "\tMAPE &  1.594031  & 0.5847474  &  0.5475407 &  6.9969219 &  26.746296 & 3.342621   &  2.779071  &  1.5145792 &  19.154888 & 1.1061539  & ⋯          & 8.2992517  & 8.767680   & 10.25490   & 6.023740   & 2.1238423  &  7.650653  & 5.985910   & 10.675356  &  2.6975555 & 11.433386 \\\\\n",
       "\tMPE &  1.594031  & 0.1230153  & -0.4556918 & -6.9969219 & -26.746296 & 3.048113   &  2.779071  & -1.0753218 & -19.154888 & 0.3462913  & ⋯          & 3.5993251  & 8.767680   & 10.25490   & 6.023740   & 1.1736513  & -7.630985  & 5.985910   & 10.675356  & -0.1974377 & 11.433386 \\\\\n",
       "\\end{tabular}\n"
      ],
      "text/markdown": [
       "\n",
       "| <!--/--> | Total | AT | BE | BG | CY | CZ | DE | DK | EE | EL | ⋯ | UKA | UKB | UKF | UKG | UKJ | UKK | UKL | UKM | UKO | UKR | \n",
       "|---|---|---|---|---|\n",
       "| ME | 55.508834  | 0.1113976  | -0.4543242 | -0.7925572 |  -1.164636 | 1.399850   | 20.976292  | -0.6864538 |  -1.018363 | 0.1481836  | ⋯          | 0.1258074  | 6.499921   |  3.28600   | 5.623742   | 0.4179086  | -2.782137  | 4.242035   |  7.085545  | -0.1626509 |  2.551588  | \n",
       "| RMSE | 56.470494  | 0.6022875  |  0.6006985 |  0.9041794 |   1.252933 | 1.692016   | 22.760334  |  1.1271332 |   1.102601 | 0.5682218  | ⋯          | 0.3268074  | 6.688368   |  3.32328   | 5.711087   | 0.8728033  |  3.292932  | 4.389079   |  7.327279  |  3.4337512 |  2.659263  | \n",
       "| MAE | 55.508834  | 0.4946248  |  0.5424412 |  0.7925572 |   1.164636 | 1.515554   | 20.976292  |  0.9638829 |   1.018363 | 0.4462784  | ⋯          | 0.2842414  | 6.499921   |  3.28600   | 5.623742   | 0.7269500  |  2.789581  | 4.242035   |  7.085545  |  2.4939225 |  2.551588  | \n",
       "| MAPE |  1.594031  | 0.5847474  |  0.5475407 |  6.9969219 |  26.746296 | 3.342621   |  2.779071  |  1.5145792 |  19.154888 | 1.1061539  | ⋯          | 8.2992517  | 8.767680   | 10.25490   | 6.023740   | 2.1238423  |  7.650653  | 5.985910   | 10.675356  |  2.6975555 | 11.433386  | \n",
       "| MPE |  1.594031  | 0.1230153  | -0.4556918 | -6.9969219 | -26.746296 | 3.048113   |  2.779071  | -1.0753218 | -19.154888 | 0.3462913  | ⋯          | 3.5993251  | 8.767680   | 10.25490   | 6.023740   | 1.1736513  | -7.630985  | 5.985910   | 10.675356  | -0.1974377 | 11.433386  | \n",
       "\n",
       "\n"
      ],
      "text/plain": [
       "     Total     AT        BE         BG         CY         CZ       DE       \n",
       "ME   55.508834 0.1113976 -0.4543242 -0.7925572  -1.164636 1.399850 20.976292\n",
       "RMSE 56.470494 0.6022875  0.6006985  0.9041794   1.252933 1.692016 22.760334\n",
       "MAE  55.508834 0.4946248  0.5424412  0.7925572   1.164636 1.515554 20.976292\n",
       "MAPE  1.594031 0.5847474  0.5475407  6.9969219  26.746296 3.342621  2.779071\n",
       "MPE   1.594031 0.1230153 -0.4556918 -6.9969219 -26.746296 3.048113  2.779071\n",
       "     DK         EE         EL        ⋯ UKA       UKB      UKF      UKG     \n",
       "ME   -0.6864538  -1.018363 0.1481836 ⋯ 0.1258074 6.499921  3.28600 5.623742\n",
       "RMSE  1.1271332   1.102601 0.5682218 ⋯ 0.3268074 6.688368  3.32328 5.711087\n",
       "MAE   0.9638829   1.018363 0.4462784 ⋯ 0.2842414 6.499921  3.28600 5.623742\n",
       "MAPE  1.5145792  19.154888 1.1061539 ⋯ 8.2992517 8.767680 10.25490 6.023740\n",
       "MPE  -1.0753218 -19.154888 0.3462913 ⋯ 3.5993251 8.767680 10.25490 6.023740\n",
       "     UKJ       UKK       UKL      UKM       UKO        UKR      \n",
       "ME   0.4179086 -2.782137 4.242035  7.085545 -0.1626509  2.551588\n",
       "RMSE 0.8728033  3.292932 4.389079  7.327279  3.4337512  2.659263\n",
       "MAE  0.7269500  2.789581 4.242035  7.085545  2.4939225  2.551588\n",
       "MAPE 2.1238423  7.650653 5.985910 10.675356  2.6975555 11.433386\n",
       "MPE  1.1736513 -7.630985 5.985910 10.675356 -0.1974377 11.433386"
      ]
     },
     "metadata": {},
     "output_type": "display_data"
    }
   ],
   "source": [
    "accuracy.gts(gts_forecasts_7, gts_test)"
   ]
  },
  {
   "cell_type": "markdown",
   "metadata": {},
   "source": [
    "(diff cor)"
   ]
  },
  {
   "cell_type": "code",
   "execution_count": 69,
   "metadata": {
    "scrolled": true
   },
   "outputs": [
    {
     "data": {
      "text/html": [
       "<table>\n",
       "<thead><tr><th></th><th scope=col>Total</th><th scope=col>AT</th><th scope=col>BE</th><th scope=col>BG</th><th scope=col>CY</th><th scope=col>CZ</th><th scope=col>DE</th><th scope=col>DK</th><th scope=col>EE</th><th scope=col>EL</th><th scope=col>⋯</th><th scope=col>UKA</th><th scope=col>UKB</th><th scope=col>UKF</th><th scope=col>UKG</th><th scope=col>UKJ</th><th scope=col>UKK</th><th scope=col>UKL</th><th scope=col>UKM</th><th scope=col>UKO</th><th scope=col>UKR</th></tr></thead>\n",
       "<tbody>\n",
       "\t<tr><th scope=row>ME</th><td>55.480025  </td><td>0.1367887  </td><td>-0.4314460 </td><td>-0.7662182 </td><td> -1.140116 </td><td>1.461463   </td><td>20.762486  </td><td>-0.5985986 </td><td> -0.9860676</td><td>0.2088020  </td><td>⋯          </td><td> 0.5438986 </td><td>5.285674   </td><td> 4.044151  </td><td>4.661334   </td><td>1.439298   </td><td>-2.425690  </td><td>5.650834   </td><td>4.590257   </td><td>0.2172928  </td><td> 2.529574  </td></tr>\n",
       "\t<tr><th scope=row>RMSE</th><td>56.441261  </td><td>0.6066465  </td><td> 0.5760165 </td><td> 0.8754133 </td><td>  1.227556 </td><td>1.750158   </td><td>22.539508  </td><td> 1.0606955 </td><td>  1.0696977</td><td>0.5835706  </td><td>⋯          </td><td> 0.6036673 </td><td>5.702987   </td><td> 4.095668  </td><td>4.948349   </td><td>1.659092   </td><td> 3.129005  </td><td>5.768247   </td><td>4.752993   </td><td>3.4402826  </td><td> 2.666413  </td></tr>\n",
       "\t<tr><th scope=row>MAE</th><td>55.480025  </td><td>0.4938722  </td><td> 0.5198512 </td><td> 0.7662182 </td><td>  1.140116 </td><td>1.564927   </td><td>20.762486  </td><td> 0.8954374 </td><td>  0.9860676</td><td>0.4260066  </td><td>⋯          </td><td> 0.5438986 </td><td>5.285674   </td><td> 4.044151  </td><td>4.661334   </td><td>1.439298   </td><td> 2.645773  </td><td>5.650834   </td><td>4.590257   </td><td>2.5152208  </td><td> 2.529574  </td></tr>\n",
       "\t<tr><th scope=row>MAPE</th><td> 1.593204  </td><td>0.5832068  </td><td> 0.5248052 </td><td> 6.7660497 </td><td> 26.180066 </td><td>3.449419   </td><td> 2.750656  </td><td> 1.4073195 </td><td> 18.5434580</td><td>1.0522360  </td><td>⋯          </td><td>15.8039826 </td><td>7.101125   </td><td>12.628022  </td><td>4.970845   </td><td>4.171337   </td><td> 7.255110  </td><td>7.979003   </td><td>6.948751   </td><td>2.7179511  </td><td>11.331652  </td></tr>\n",
       "\t<tr><th scope=row>MPE</th><td> 1.593204  </td><td>0.1536315  </td><td>-0.4326561 </td><td>-6.7660497 </td><td>-26.180066 </td><td>3.186064   </td><td> 2.750656  </td><td>-0.9373304 </td><td>-18.5434580</td><td>0.4987541  </td><td>⋯          </td><td>15.8039826 </td><td>7.101125   </td><td>12.628022  </td><td>4.970845   </td><td>4.171337   </td><td>-6.681838  </td><td>7.979003   </td><td>6.948751   </td><td>0.2146566  </td><td>11.331652  </td></tr>\n",
       "</tbody>\n",
       "</table>\n"
      ],
      "text/latex": [
       "\\begin{tabular}{r|lllllllllllllllllllllllllllllllllllllllllllllllllllllllllllllllllllllllllllllllllllllllllllllllllllllllllllllllllllllllllllllllllllllllllllllllllllllllllllllllllllllllllllllllllllllllllllllllllllllllllllllllllllllllllllllllllllllllllllllllllllllllllllllllllllllllllllllllllllllllllllllllllllllllllllllllllllll}\n",
       "  & Total & AT & BE & BG & CY & CZ & DE & DK & EE & EL & ⋯ & UKA & UKB & UKF & UKG & UKJ & UKK & UKL & UKM & UKO & UKR\\\\\n",
       "\\hline\n",
       "\tME & 55.480025   & 0.1367887   & -0.4314460  & -0.7662182  &  -1.140116  & 1.461463    & 20.762486   & -0.5985986  &  -0.9860676 & 0.2088020   & ⋯           &  0.5438986  & 5.285674    &  4.044151   & 4.661334    & 1.439298    & -2.425690   & 5.650834    & 4.590257    & 0.2172928   &  2.529574  \\\\\n",
       "\tRMSE & 56.441261   & 0.6066465   &  0.5760165  &  0.8754133  &   1.227556  & 1.750158    & 22.539508   &  1.0606955  &   1.0696977 & 0.5835706   & ⋯           &  0.6036673  & 5.702987    &  4.095668   & 4.948349    & 1.659092    &  3.129005   & 5.768247    & 4.752993    & 3.4402826   &  2.666413  \\\\\n",
       "\tMAE & 55.480025   & 0.4938722   &  0.5198512  &  0.7662182  &   1.140116  & 1.564927    & 20.762486   &  0.8954374  &   0.9860676 & 0.4260066   & ⋯           &  0.5438986  & 5.285674    &  4.044151   & 4.661334    & 1.439298    &  2.645773   & 5.650834    & 4.590257    & 2.5152208   &  2.529574  \\\\\n",
       "\tMAPE &  1.593204   & 0.5832068   &  0.5248052  &  6.7660497  &  26.180066  & 3.449419    &  2.750656   &  1.4073195  &  18.5434580 & 1.0522360   & ⋯           & 15.8039826  & 7.101125    & 12.628022   & 4.970845    & 4.171337    &  7.255110   & 7.979003    & 6.948751    & 2.7179511   & 11.331652  \\\\\n",
       "\tMPE &  1.593204   & 0.1536315   & -0.4326561  & -6.7660497  & -26.180066  & 3.186064    &  2.750656   & -0.9373304  & -18.5434580 & 0.4987541   & ⋯           & 15.8039826  & 7.101125    & 12.628022   & 4.970845    & 4.171337    & -6.681838   & 7.979003    & 6.948751    & 0.2146566   & 11.331652  \\\\\n",
       "\\end{tabular}\n"
      ],
      "text/markdown": [
       "\n",
       "| <!--/--> | Total | AT | BE | BG | CY | CZ | DE | DK | EE | EL | ⋯ | UKA | UKB | UKF | UKG | UKJ | UKK | UKL | UKM | UKO | UKR | \n",
       "|---|---|---|---|---|\n",
       "| ME | 55.480025   | 0.1367887   | -0.4314460  | -0.7662182  |  -1.140116  | 1.461463    | 20.762486   | -0.5985986  |  -0.9860676 | 0.2088020   | ⋯           |  0.5438986  | 5.285674    |  4.044151   | 4.661334    | 1.439298    | -2.425690   | 5.650834    | 4.590257    | 0.2172928   |  2.529574   | \n",
       "| RMSE | 56.441261   | 0.6066465   |  0.5760165  |  0.8754133  |   1.227556  | 1.750158    | 22.539508   |  1.0606955  |   1.0696977 | 0.5835706   | ⋯           |  0.6036673  | 5.702987    |  4.095668   | 4.948349    | 1.659092    |  3.129005   | 5.768247    | 4.752993    | 3.4402826   |  2.666413   | \n",
       "| MAE | 55.480025   | 0.4938722   |  0.5198512  |  0.7662182  |   1.140116  | 1.564927    | 20.762486   |  0.8954374  |   0.9860676 | 0.4260066   | ⋯           |  0.5438986  | 5.285674    |  4.044151   | 4.661334    | 1.439298    |  2.645773   | 5.650834    | 4.590257    | 2.5152208   |  2.529574   | \n",
       "| MAPE |  1.593204   | 0.5832068   |  0.5248052  |  6.7660497  |  26.180066  | 3.449419    |  2.750656   |  1.4073195  |  18.5434580 | 1.0522360   | ⋯           | 15.8039826  | 7.101125    | 12.628022   | 4.970845    | 4.171337    |  7.255110   | 7.979003    | 6.948751    | 2.7179511   | 11.331652   | \n",
       "| MPE |  1.593204   | 0.1536315   | -0.4326561  | -6.7660497  | -26.180066  | 3.186064    |  2.750656   | -0.9373304  | -18.5434580 | 0.4987541   | ⋯           | 15.8039826  | 7.101125    | 12.628022   | 4.970845    | 4.171337    | -6.681838   | 7.979003    | 6.948751    | 0.2146566   | 11.331652   | \n",
       "\n",
       "\n"
      ],
      "text/plain": [
       "     Total     AT        BE         BG         CY         CZ       DE       \n",
       "ME   55.480025 0.1367887 -0.4314460 -0.7662182  -1.140116 1.461463 20.762486\n",
       "RMSE 56.441261 0.6066465  0.5760165  0.8754133   1.227556 1.750158 22.539508\n",
       "MAE  55.480025 0.4938722  0.5198512  0.7662182   1.140116 1.564927 20.762486\n",
       "MAPE  1.593204 0.5832068  0.5248052  6.7660497  26.180066 3.449419  2.750656\n",
       "MPE   1.593204 0.1536315 -0.4326561 -6.7660497 -26.180066 3.186064  2.750656\n",
       "     DK         EE          EL        ⋯ UKA        UKB      UKF       UKG     \n",
       "ME   -0.5985986  -0.9860676 0.2088020 ⋯  0.5438986 5.285674  4.044151 4.661334\n",
       "RMSE  1.0606955   1.0696977 0.5835706 ⋯  0.6036673 5.702987  4.095668 4.948349\n",
       "MAE   0.8954374   0.9860676 0.4260066 ⋯  0.5438986 5.285674  4.044151 4.661334\n",
       "MAPE  1.4073195  18.5434580 1.0522360 ⋯ 15.8039826 7.101125 12.628022 4.970845\n",
       "MPE  -0.9373304 -18.5434580 0.4987541 ⋯ 15.8039826 7.101125 12.628022 4.970845\n",
       "     UKJ      UKK       UKL      UKM      UKO       UKR      \n",
       "ME   1.439298 -2.425690 5.650834 4.590257 0.2172928  2.529574\n",
       "RMSE 1.659092  3.129005 5.768247 4.752993 3.4402826  2.666413\n",
       "MAE  1.439298  2.645773 5.650834 4.590257 2.5152208  2.529574\n",
       "MAPE 4.171337  7.255110 7.979003 6.948751 2.7179511 11.331652\n",
       "MPE  4.171337 -6.681838 7.979003 6.948751 0.2146566 11.331652"
      ]
     },
     "metadata": {},
     "output_type": "display_data"
    }
   ],
   "source": [
    "accuracy.gts(gts_forecasts_7, gts_test)"
   ]
  },
  {
   "cell_type": "markdown",
   "metadata": {},
   "source": [
    "(diff cor, diif reg)\n"
   ]
  },
  {
   "cell_type": "markdown",
   "metadata": {},
   "source": [
    "_1:4 LAGS_"
   ]
  },
  {
   "cell_type": "code",
   "execution_count": 381,
   "metadata": {
    "scrolled": true
   },
   "outputs": [
    {
     "data": {
      "text/html": [
       "<table>\n",
       "<thead><tr><th></th><th scope=col>Total</th><th scope=col>AT</th><th scope=col>BE</th><th scope=col>BG</th><th scope=col>CY</th><th scope=col>CZ</th><th scope=col>DE</th><th scope=col>DK</th><th scope=col>EE</th><th scope=col>EL</th><th scope=col>⋯</th><th scope=col>UKA</th><th scope=col>UKB</th><th scope=col>UKF</th><th scope=col>UKG</th><th scope=col>UKJ</th><th scope=col>UKK</th><th scope=col>UKL</th><th scope=col>UKM</th><th scope=col>UKO</th><th scope=col>UKR</th></tr></thead>\n",
       "<tbody>\n",
       "\t<tr><th scope=row>ME</th><td>55.472654  </td><td>0.1590869  </td><td>-0.4463927 </td><td>-0.7546724 </td><td> -1.130585 </td><td>1.454819   </td><td>20.400512  </td><td>-0.6515986 </td><td> -0.9824002</td><td>0.1541156  </td><td>⋯          </td><td>0.3026757  </td><td>5.656414   </td><td>2.705064   </td><td>6.746476   </td><td>0.5743495  </td><td>-2.784027  </td><td>2.767468   </td><td> 8.934307  </td><td>-1.121767  </td><td> 2.944837  </td></tr>\n",
       "\t<tr><th scope=row>RMSE</th><td>56.430502  </td><td>0.6373041  </td><td> 0.5913949 </td><td> 0.8654012 </td><td>  1.214329 </td><td>1.763576   </td><td>22.112192  </td><td> 1.0998026 </td><td>  1.0634346</td><td>0.5645267  </td><td>⋯          </td><td>0.4080714  </td><td>5.772976   </td><td>2.723010   </td><td>6.865435   </td><td>1.2367201  </td><td> 3.388902  </td><td>3.148715   </td><td> 9.266287  </td><td> 3.542818  </td><td> 2.997808  </td></tr>\n",
       "\t<tr><th scope=row>MAE</th><td>55.472654  </td><td>0.5131923  </td><td> 0.5348841 </td><td> 0.7546724 </td><td>  1.130585 </td><td>1.575185   </td><td>20.400512  </td><td> 0.9356173 </td><td>  0.9824002</td><td>0.4388484  </td><td>⋯          </td><td>0.3167817  </td><td>5.656414   </td><td>2.705064   </td><td>6.746476   </td><td>1.0259028  </td><td> 2.928917  </td><td>2.826543   </td><td> 8.934307  </td><td> 2.742014  </td><td> 2.944837  </td></tr>\n",
       "\t<tr><th scope=row>MAPE</th><td> 1.593002  </td><td>0.6059755  </td><td> 0.5399716 </td><td> 6.6723823 </td><td> 25.973266 </td><td>3.472807   </td><td> 2.702978  </td><td> 1.4702602 </td><td> 18.4881283</td><td>1.0867453  </td><td>⋯          </td><td>9.4741953  </td><td>7.646434   </td><td>8.445192   </td><td>7.220422   </td><td>2.9972487  </td><td> 8.031081  </td><td>3.983863   </td><td>13.457751  </td><td> 2.972307  </td><td>13.216131  </td></tr>\n",
       "\t<tr><th scope=row>MPE</th><td> 1.593002  </td><td>0.1792193  </td><td>-0.4477326 </td><td>-6.6723823 </td><td>-25.973266 </td><td>3.166431   </td><td> 2.702978  </td><td>-1.0205693 </td><td>-18.4881283</td><td>0.3614910  </td><td>⋯          </td><td>9.0656990  </td><td>7.646434   </td><td>8.445192   </td><td>7.220422   </td><td>1.6065703  </td><td>-7.648234  </td><td>3.899533   </td><td>13.457751  </td><td>-1.237750  </td><td>13.216131  </td></tr>\n",
       "</tbody>\n",
       "</table>\n"
      ],
      "text/latex": [
       "\\begin{tabular}{r|lllllllllllllllllllllllllllllllllllllllllllllllllllllllllllllllllllllllllllllllllllllllllllllllllllllllllllllllllllllllllllllllllllllllllllllllllllllllllllllllllllllllllllllllllllllllllllllllllllllllllllllllllllllllllllllllllllllllllllllllllllllllllllllllllllllllllllllllllllllllllllllllllllllllllllllllllllll}\n",
       "  & Total & AT & BE & BG & CY & CZ & DE & DK & EE & EL & ⋯ & UKA & UKB & UKF & UKG & UKJ & UKK & UKL & UKM & UKO & UKR\\\\\n",
       "\\hline\n",
       "\tME & 55.472654   & 0.1590869   & -0.4463927  & -0.7546724  &  -1.130585  & 1.454819    & 20.400512   & -0.6515986  &  -0.9824002 & 0.1541156   & ⋯           & 0.3026757   & 5.656414    & 2.705064    & 6.746476    & 0.5743495   & -2.784027   & 2.767468    &  8.934307   & -1.121767   &  2.944837  \\\\\n",
       "\tRMSE & 56.430502   & 0.6373041   &  0.5913949  &  0.8654012  &   1.214329  & 1.763576    & 22.112192   &  1.0998026  &   1.0634346 & 0.5645267   & ⋯           & 0.4080714   & 5.772976    & 2.723010    & 6.865435    & 1.2367201   &  3.388902   & 3.148715    &  9.266287   &  3.542818   &  2.997808  \\\\\n",
       "\tMAE & 55.472654   & 0.5131923   &  0.5348841  &  0.7546724  &   1.130585  & 1.575185    & 20.400512   &  0.9356173  &   0.9824002 & 0.4388484   & ⋯           & 0.3167817   & 5.656414    & 2.705064    & 6.746476    & 1.0259028   &  2.928917   & 2.826543    &  8.934307   &  2.742014   &  2.944837  \\\\\n",
       "\tMAPE &  1.593002   & 0.6059755   &  0.5399716  &  6.6723823  &  25.973266  & 3.472807    &  2.702978   &  1.4702602  &  18.4881283 & 1.0867453   & ⋯           & 9.4741953   & 7.646434    & 8.445192    & 7.220422    & 2.9972487   &  8.031081   & 3.983863    & 13.457751   &  2.972307   & 13.216131  \\\\\n",
       "\tMPE &  1.593002   & 0.1792193   & -0.4477326  & -6.6723823  & -25.973266  & 3.166431    &  2.702978   & -1.0205693  & -18.4881283 & 0.3614910   & ⋯           & 9.0656990   & 7.646434    & 8.445192    & 7.220422    & 1.6065703   & -7.648234   & 3.899533    & 13.457751   & -1.237750   & 13.216131  \\\\\n",
       "\\end{tabular}\n"
      ],
      "text/markdown": [
       "\n",
       "| <!--/--> | Total | AT | BE | BG | CY | CZ | DE | DK | EE | EL | ⋯ | UKA | UKB | UKF | UKG | UKJ | UKK | UKL | UKM | UKO | UKR | \n",
       "|---|---|---|---|---|\n",
       "| ME | 55.472654   | 0.1590869   | -0.4463927  | -0.7546724  |  -1.130585  | 1.454819    | 20.400512   | -0.6515986  |  -0.9824002 | 0.1541156   | ⋯           | 0.3026757   | 5.656414    | 2.705064    | 6.746476    | 0.5743495   | -2.784027   | 2.767468    |  8.934307   | -1.121767   |  2.944837   | \n",
       "| RMSE | 56.430502   | 0.6373041   |  0.5913949  |  0.8654012  |   1.214329  | 1.763576    | 22.112192   |  1.0998026  |   1.0634346 | 0.5645267   | ⋯           | 0.4080714   | 5.772976    | 2.723010    | 6.865435    | 1.2367201   |  3.388902   | 3.148715    |  9.266287   |  3.542818   |  2.997808   | \n",
       "| MAE | 55.472654   | 0.5131923   |  0.5348841  |  0.7546724  |   1.130585  | 1.575185    | 20.400512   |  0.9356173  |   0.9824002 | 0.4388484   | ⋯           | 0.3167817   | 5.656414    | 2.705064    | 6.746476    | 1.0259028   |  2.928917   | 2.826543    |  8.934307   |  2.742014   |  2.944837   | \n",
       "| MAPE |  1.593002   | 0.6059755   |  0.5399716  |  6.6723823  |  25.973266  | 3.472807    |  2.702978   |  1.4702602  |  18.4881283 | 1.0867453   | ⋯           | 9.4741953   | 7.646434    | 8.445192    | 7.220422    | 2.9972487   |  8.031081   | 3.983863    | 13.457751   |  2.972307   | 13.216131   | \n",
       "| MPE |  1.593002   | 0.1792193   | -0.4477326  | -6.6723823  | -25.973266  | 3.166431    |  2.702978   | -1.0205693  | -18.4881283 | 0.3614910   | ⋯           | 9.0656990   | 7.646434    | 8.445192    | 7.220422    | 1.6065703   | -7.648234   | 3.899533    | 13.457751   | -1.237750   | 13.216131   | \n",
       "\n",
       "\n"
      ],
      "text/plain": [
       "     Total     AT        BE         BG         CY         CZ       DE       \n",
       "ME   55.472654 0.1590869 -0.4463927 -0.7546724  -1.130585 1.454819 20.400512\n",
       "RMSE 56.430502 0.6373041  0.5913949  0.8654012   1.214329 1.763576 22.112192\n",
       "MAE  55.472654 0.5131923  0.5348841  0.7546724   1.130585 1.575185 20.400512\n",
       "MAPE  1.593002 0.6059755  0.5399716  6.6723823  25.973266 3.472807  2.702978\n",
       "MPE   1.593002 0.1792193 -0.4477326 -6.6723823 -25.973266 3.166431  2.702978\n",
       "     DK         EE          EL        ⋯ UKA       UKB      UKF      UKG     \n",
       "ME   -0.6515986  -0.9824002 0.1541156 ⋯ 0.3026757 5.656414 2.705064 6.746476\n",
       "RMSE  1.0998026   1.0634346 0.5645267 ⋯ 0.4080714 5.772976 2.723010 6.865435\n",
       "MAE   0.9356173   0.9824002 0.4388484 ⋯ 0.3167817 5.656414 2.705064 6.746476\n",
       "MAPE  1.4702602  18.4881283 1.0867453 ⋯ 9.4741953 7.646434 8.445192 7.220422\n",
       "MPE  -1.0205693 -18.4881283 0.3614910 ⋯ 9.0656990 7.646434 8.445192 7.220422\n",
       "     UKJ       UKK       UKL      UKM       UKO       UKR      \n",
       "ME   0.5743495 -2.784027 2.767468  8.934307 -1.121767  2.944837\n",
       "RMSE 1.2367201  3.388902 3.148715  9.266287  3.542818  2.997808\n",
       "MAE  1.0259028  2.928917 2.826543  8.934307  2.742014  2.944837\n",
       "MAPE 2.9972487  8.031081 3.983863 13.457751  2.972307 13.216131\n",
       "MPE  1.6065703 -7.648234 3.899533 13.457751 -1.237750 13.216131"
      ]
     },
     "metadata": {},
     "output_type": "display_data"
    }
   ],
   "source": [
    "accuracy.gts(gts_forecasts_7, gts_test)"
   ]
  },
  {
   "cell_type": "markdown",
   "metadata": {},
   "source": [
    "(diff cor)\n"
   ]
  },
  {
   "cell_type": "code",
   "execution_count": 76,
   "metadata": {},
   "outputs": [
    {
     "data": {
      "text/html": [
       "<table>\n",
       "<thead><tr><th></th><th scope=col>Total</th><th scope=col>AT</th><th scope=col>BE</th><th scope=col>BG</th><th scope=col>CY</th><th scope=col>CZ</th><th scope=col>DE</th><th scope=col>DK</th><th scope=col>EE</th><th scope=col>EL</th><th scope=col>⋯</th><th scope=col>UKA</th><th scope=col>UKB</th><th scope=col>UKF</th><th scope=col>UKG</th><th scope=col>UKJ</th><th scope=col>UKK</th><th scope=col>UKL</th><th scope=col>UKM</th><th scope=col>UKO</th><th scope=col>UKR</th></tr></thead>\n",
       "<tbody>\n",
       "\t<tr><th scope=row>ME</th><td>55.486926  </td><td>0.1629704  </td><td>-0.4672786 </td><td>-0.7722165 </td><td> -1.147987 </td><td>1.622229   </td><td>21.149336  </td><td>-0.6135952 </td><td> -0.9984207</td><td>0.2350245  </td><td>⋯          </td><td> 1.143715  </td><td>5.752653   </td><td> 4.748631  </td><td>5.736857   </td><td>1.134802   </td><td>-3.230846  </td><td>3.498996   </td><td>4.697373   </td><td>-0.2578611 </td><td> 2.623299  </td></tr>\n",
       "\t<tr><th scope=row>RMSE</th><td>56.446558  </td><td>0.6215258  </td><td> 0.6076255 </td><td> 0.8779022 </td><td>  1.232664 </td><td>1.928064   </td><td>23.024366  </td><td> 1.0715171 </td><td>  1.0792669</td><td>0.5843540  </td><td>⋯          </td><td> 1.269123  </td><td>5.966251   </td><td> 4.776332  </td><td>6.215630   </td><td>1.477569   </td><td> 3.854466  </td><td>3.807367   </td><td>4.862582   </td><td> 3.1386876 </td><td> 2.790034  </td></tr>\n",
       "\t<tr><th scope=row>MAE</th><td>55.486926  </td><td>0.5011165  </td><td> 0.5449281 </td><td> 0.7722165 </td><td>  1.147987 </td><td>1.718951   </td><td>21.149336  </td><td> 0.9072071 </td><td>  0.9984207</td><td>0.4192807  </td><td>⋯          </td><td> 1.143715  </td><td>5.752653   </td><td> 4.748631  </td><td>5.736857   </td><td>1.287530   </td><td> 3.230846  </td><td>3.498996   </td><td>4.697373   </td><td> 2.1415701 </td><td> 2.623299  </td></tr>\n",
       "\t<tr><th scope=row>MAPE</th><td> 1.593408  </td><td>0.5916393  </td><td> 0.5499431 </td><td> 6.8230512 </td><td> 26.365718 </td><td>3.785094   </td><td> 2.801443  </td><td> 1.4256861 </td><td> 18.7827597</td><td>1.0332117  </td><td>⋯          </td><td>33.794522  </td><td>7.750443   </td><td>14.812565  </td><td>6.114547   </td><td>3.731114   </td><td> 8.866569  </td><td>4.931939   </td><td>7.106643   </td><td> 2.3167860 </td><td>11.752325  </td></tr>\n",
       "\t<tr><th scope=row>MPE</th><td> 1.593408  </td><td>0.1841969  </td><td>-0.4690050 </td><td>-6.8230512 </td><td>-26.365718 </td><td>3.538901   </td><td> 2.801443  </td><td>-0.9608061 </td><td>-18.7827597</td><td>0.5647250  </td><td>⋯          </td><td>33.794522  </td><td>7.750443   </td><td>14.812565  </td><td>6.114547   </td><td>3.268611   </td><td>-8.866569  </td><td>4.931939   </td><td>7.106643   </td><td>-0.2981329 </td><td>11.752325  </td></tr>\n",
       "</tbody>\n",
       "</table>\n"
      ],
      "text/latex": [
       "\\begin{tabular}{r|lllllllllllllllllllllllllllllllllllllllllllllllllllllllllllllllllllllllllllllllllllllllllllllllllllllllllllllllllllllllllllllllllllllllllllllllllllllllllllllllllllllllllllllllllllllllllllllllllllllllllllllllllllllllllllllllllllllllllllllllllllllllllllllllllllllllllllllllllllllllllllllllllllllllllllllllllllll}\n",
       "  & Total & AT & BE & BG & CY & CZ & DE & DK & EE & EL & ⋯ & UKA & UKB & UKF & UKG & UKJ & UKK & UKL & UKM & UKO & UKR\\\\\n",
       "\\hline\n",
       "\tME & 55.486926   & 0.1629704   & -0.4672786  & -0.7722165  &  -1.147987  & 1.622229    & 21.149336   & -0.6135952  &  -0.9984207 & 0.2350245   & ⋯           &  1.143715   & 5.752653    &  4.748631   & 5.736857    & 1.134802    & -3.230846   & 3.498996    & 4.697373    & -0.2578611  &  2.623299  \\\\\n",
       "\tRMSE & 56.446558   & 0.6215258   &  0.6076255  &  0.8779022  &   1.232664  & 1.928064    & 23.024366   &  1.0715171  &   1.0792669 & 0.5843540   & ⋯           &  1.269123   & 5.966251    &  4.776332   & 6.215630    & 1.477569    &  3.854466   & 3.807367    & 4.862582    &  3.1386876  &  2.790034  \\\\\n",
       "\tMAE & 55.486926   & 0.5011165   &  0.5449281  &  0.7722165  &   1.147987  & 1.718951    & 21.149336   &  0.9072071  &   0.9984207 & 0.4192807   & ⋯           &  1.143715   & 5.752653    &  4.748631   & 5.736857    & 1.287530    &  3.230846   & 3.498996    & 4.697373    &  2.1415701  &  2.623299  \\\\\n",
       "\tMAPE &  1.593408   & 0.5916393   &  0.5499431  &  6.8230512  &  26.365718  & 3.785094    &  2.801443   &  1.4256861  &  18.7827597 & 1.0332117   & ⋯           & 33.794522   & 7.750443    & 14.812565   & 6.114547    & 3.731114    &  8.866569   & 4.931939    & 7.106643    &  2.3167860  & 11.752325  \\\\\n",
       "\tMPE &  1.593408   & 0.1841969   & -0.4690050  & -6.8230512  & -26.365718  & 3.538901    &  2.801443   & -0.9608061  & -18.7827597 & 0.5647250   & ⋯           & 33.794522   & 7.750443    & 14.812565   & 6.114547    & 3.268611    & -8.866569   & 4.931939    & 7.106643    & -0.2981329  & 11.752325  \\\\\n",
       "\\end{tabular}\n"
      ],
      "text/markdown": [
       "\n",
       "| <!--/--> | Total | AT | BE | BG | CY | CZ | DE | DK | EE | EL | ⋯ | UKA | UKB | UKF | UKG | UKJ | UKK | UKL | UKM | UKO | UKR | \n",
       "|---|---|---|---|---|\n",
       "| ME | 55.486926   | 0.1629704   | -0.4672786  | -0.7722165  |  -1.147987  | 1.622229    | 21.149336   | -0.6135952  |  -0.9984207 | 0.2350245   | ⋯           |  1.143715   | 5.752653    |  4.748631   | 5.736857    | 1.134802    | -3.230846   | 3.498996    | 4.697373    | -0.2578611  |  2.623299   | \n",
       "| RMSE | 56.446558   | 0.6215258   |  0.6076255  |  0.8779022  |   1.232664  | 1.928064    | 23.024366   |  1.0715171  |   1.0792669 | 0.5843540   | ⋯           |  1.269123   | 5.966251    |  4.776332   | 6.215630    | 1.477569    |  3.854466   | 3.807367    | 4.862582    |  3.1386876  |  2.790034   | \n",
       "| MAE | 55.486926   | 0.5011165   |  0.5449281  |  0.7722165  |   1.147987  | 1.718951    | 21.149336   |  0.9072071  |   0.9984207 | 0.4192807   | ⋯           |  1.143715   | 5.752653    |  4.748631   | 5.736857    | 1.287530    |  3.230846   | 3.498996    | 4.697373    |  2.1415701  |  2.623299   | \n",
       "| MAPE |  1.593408   | 0.5916393   |  0.5499431  |  6.8230512  |  26.365718  | 3.785094    |  2.801443   |  1.4256861  |  18.7827597 | 1.0332117   | ⋯           | 33.794522   | 7.750443    | 14.812565   | 6.114547    | 3.731114    |  8.866569   | 4.931939    | 7.106643    |  2.3167860  | 11.752325   | \n",
       "| MPE |  1.593408   | 0.1841969   | -0.4690050  | -6.8230512  | -26.365718  | 3.538901    |  2.801443   | -0.9608061  | -18.7827597 | 0.5647250   | ⋯           | 33.794522   | 7.750443    | 14.812565   | 6.114547    | 3.268611    | -8.866569   | 4.931939    | 7.106643    | -0.2981329  | 11.752325   | \n",
       "\n",
       "\n"
      ],
      "text/plain": [
       "     Total     AT        BE         BG         CY         CZ       DE       \n",
       "ME   55.486926 0.1629704 -0.4672786 -0.7722165  -1.147987 1.622229 21.149336\n",
       "RMSE 56.446558 0.6215258  0.6076255  0.8779022   1.232664 1.928064 23.024366\n",
       "MAE  55.486926 0.5011165  0.5449281  0.7722165   1.147987 1.718951 21.149336\n",
       "MAPE  1.593408 0.5916393  0.5499431  6.8230512  26.365718 3.785094  2.801443\n",
       "MPE   1.593408 0.1841969 -0.4690050 -6.8230512 -26.365718 3.538901  2.801443\n",
       "     DK         EE          EL        ⋯ UKA       UKB      UKF       UKG     \n",
       "ME   -0.6135952  -0.9984207 0.2350245 ⋯  1.143715 5.752653  4.748631 5.736857\n",
       "RMSE  1.0715171   1.0792669 0.5843540 ⋯  1.269123 5.966251  4.776332 6.215630\n",
       "MAE   0.9072071   0.9984207 0.4192807 ⋯  1.143715 5.752653  4.748631 5.736857\n",
       "MAPE  1.4256861  18.7827597 1.0332117 ⋯ 33.794522 7.750443 14.812565 6.114547\n",
       "MPE  -0.9608061 -18.7827597 0.5647250 ⋯ 33.794522 7.750443 14.812565 6.114547\n",
       "     UKJ      UKK       UKL      UKM      UKO        UKR      \n",
       "ME   1.134802 -3.230846 3.498996 4.697373 -0.2578611  2.623299\n",
       "RMSE 1.477569  3.854466 3.807367 4.862582  3.1386876  2.790034\n",
       "MAE  1.287530  3.230846 3.498996 4.697373  2.1415701  2.623299\n",
       "MAPE 3.731114  8.866569 4.931939 7.106643  2.3167860 11.752325\n",
       "MPE  3.268611 -8.866569 4.931939 7.106643 -0.2981329 11.752325"
      ]
     },
     "metadata": {},
     "output_type": "display_data"
    }
   ],
   "source": [
    "accuracy.gts(gts_forecasts_7, gts_test)"
   ]
  },
  {
   "cell_type": "markdown",
   "metadata": {},
   "source": [
    "#### DTW 1 LAG "
   ]
  },
  {
   "cell_type": "markdown",
   "metadata": {},
   "source": [
    "- Not enough data to fit the model  (NA for first 40)"
   ]
  },
  {
   "cell_type": "markdown",
   "metadata": {},
   "source": [
    "_different neighbors_"
   ]
  },
  {
   "cell_type": "code",
   "execution_count": 133,
   "metadata": {
    "scrolled": true
   },
   "outputs": [
    {
     "data": {
      "text/html": [
       "<table>\n",
       "<thead><tr><th scope=col>ME</th><th scope=col>RMSE</th><th scope=col>MAE</th><th scope=col>MAPE</th><th scope=col>MPE</th></tr></thead>\n",
       "<tbody>\n",
       "\t<tr><td> 58.38298</td><td>73.93487 </td><td>58.38298 </td><td>1.766278 </td><td> 1.766278</td></tr>\n",
       "\t<tr><td> 60.95709</td><td>66.71306 </td><td>60.95709 </td><td>1.826661 </td><td> 1.826661</td></tr>\n",
       "\t<tr><td>-60.13053</td><td>67.09319 </td><td>60.89235 </td><td>1.810786 </td><td>-1.789210</td></tr>\n",
       "\t<tr><td> 58.08108</td><td>59.00497 </td><td>58.08108 </td><td>1.668116 </td><td> 1.668116</td></tr>\n",
       "</tbody>\n",
       "</table>\n"
      ],
      "text/latex": [
       "\\begin{tabular}{r|lllll}\n",
       " ME & RMSE & MAE & MAPE & MPE\\\\\n",
       "\\hline\n",
       "\t  58.38298 & 73.93487  & 58.38298  & 1.766278  &  1.766278\\\\\n",
       "\t  60.95709 & 66.71306  & 60.95709  & 1.826661  &  1.826661\\\\\n",
       "\t -60.13053 & 67.09319  & 60.89235  & 1.810786  & -1.789210\\\\\n",
       "\t  58.08108 & 59.00497  & 58.08108  & 1.668116  &  1.668116\\\\\n",
       "\\end{tabular}\n"
      ],
      "text/markdown": [
       "\n",
       "ME | RMSE | MAE | MAPE | MPE | \n",
       "|---|---|---|---|\n",
       "|  58.38298 | 73.93487  | 58.38298  | 1.766278  |  1.766278 | \n",
       "|  60.95709 | 66.71306  | 60.95709  | 1.826661  |  1.826661 | \n",
       "| -60.13053 | 67.09319  | 60.89235  | 1.810786  | -1.789210 | \n",
       "|  58.08108 | 59.00497  | 58.08108  | 1.668116  |  1.668116 | \n",
       "\n",
       "\n"
      ],
      "text/plain": [
       "  ME        RMSE     MAE      MAPE     MPE      \n",
       "1  58.38298 73.93487 58.38298 1.766278  1.766278\n",
       "2  60.95709 66.71306 60.95709 1.826661  1.826661\n",
       "3 -60.13053 67.09319 60.89235 1.810786 -1.789210\n",
       "4  58.08108 59.00497 58.08108 1.668116  1.668116"
      ]
     },
     "metadata": {},
     "output_type": "display_data"
    }
   ],
   "source": [
    "df_ac_sa"
   ]
  },
  {
   "cell_type": "code",
   "execution_count": 134,
   "metadata": {
    "scrolled": true
   },
   "outputs": [
    {
     "data": {
      "text/html": [
       "<dl class=dl-horizontal>\n",
       "\t<dt>ME</dt>\n",
       "\t\t<dd>29.3226542228869</dd>\n",
       "\t<dt>RMSE</dt>\n",
       "\t\t<dd>66.6865219843931</dd>\n",
       "\t<dt>MAE</dt>\n",
       "\t\t<dd>59.578375361599</dd>\n",
       "\t<dt>MAPE</dt>\n",
       "\t\t<dd>1.76796018794315</dd>\n",
       "\t<dt>MPE</dt>\n",
       "\t\t<dd>0.867961301503564</dd>\n",
       "</dl>\n"
      ],
      "text/latex": [
       "\\begin{description*}\n",
       "\\item[ME] 29.3226542228869\n",
       "\\item[RMSE] 66.6865219843931\n",
       "\\item[MAE] 59.578375361599\n",
       "\\item[MAPE] 1.76796018794315\n",
       "\\item[MPE] 0.867961301503564\n",
       "\\end{description*}\n"
      ],
      "text/markdown": [
       "ME\n",
       ":   29.3226542228869RMSE\n",
       ":   66.6865219843931MAE\n",
       ":   59.578375361599MAPE\n",
       ":   1.76796018794315MPE\n",
       ":   0.867961301503564\n",
       "\n"
      ],
      "text/plain": [
       "        ME       RMSE        MAE       MAPE        MPE \n",
       "29.3226542 66.6865220 59.5783754  1.7679602  0.8679613 "
      ]
     },
     "metadata": {},
     "output_type": "display_data"
    }
   ],
   "source": [
    "colMeans(df_ac_sa)"
   ]
  },
  {
   "cell_type": "markdown",
   "metadata": {},
   "source": [
    "(diff cor)\n"
   ]
  },
  {
   "cell_type": "code",
   "execution_count": 90,
   "metadata": {
    "scrolled": true
   },
   "outputs": [
    {
     "data": {
      "text/html": [
       "<table>\n",
       "<thead><tr><th scope=col>ME</th><th scope=col>RMSE</th><th scope=col>MAE</th><th scope=col>MAPE</th><th scope=col>MPE</th></tr></thead>\n",
       "<tbody>\n",
       "\t<tr><td> 57.70211</td><td>73.39385 </td><td>57.70211 </td><td>1.745212 </td><td> 1.745212</td></tr>\n",
       "\t<tr><td> 60.37804</td><td>66.18653 </td><td>60.37804 </td><td>1.809276 </td><td> 1.809276</td></tr>\n",
       "\t<tr><td>-60.63590</td><td>67.54309 </td><td>61.26991 </td><td>1.822065 </td><td>-1.804109</td></tr>\n",
       "\t<tr><td> 58.18227</td><td>59.10490 </td><td>58.18227 </td><td>1.671030 </td><td> 1.671030</td></tr>\n",
       "</tbody>\n",
       "</table>\n"
      ],
      "text/latex": [
       "\\begin{tabular}{r|lllll}\n",
       " ME & RMSE & MAE & MAPE & MPE\\\\\n",
       "\\hline\n",
       "\t  57.70211 & 73.39385  & 57.70211  & 1.745212  &  1.745212\\\\\n",
       "\t  60.37804 & 66.18653  & 60.37804  & 1.809276  &  1.809276\\\\\n",
       "\t -60.63590 & 67.54309  & 61.26991  & 1.822065  & -1.804109\\\\\n",
       "\t  58.18227 & 59.10490  & 58.18227  & 1.671030  &  1.671030\\\\\n",
       "\\end{tabular}\n"
      ],
      "text/markdown": [
       "\n",
       "ME | RMSE | MAE | MAPE | MPE | \n",
       "|---|---|---|---|\n",
       "|  57.70211 | 73.39385  | 57.70211  | 1.745212  |  1.745212 | \n",
       "|  60.37804 | 66.18653  | 60.37804  | 1.809276  |  1.809276 | \n",
       "| -60.63590 | 67.54309  | 61.26991  | 1.822065  | -1.804109 | \n",
       "|  58.18227 | 59.10490  | 58.18227  | 1.671030  |  1.671030 | \n",
       "\n",
       "\n"
      ],
      "text/plain": [
       "  ME        RMSE     MAE      MAPE     MPE      \n",
       "1  57.70211 73.39385 57.70211 1.745212  1.745212\n",
       "2  60.37804 66.18653 60.37804 1.809276  1.809276\n",
       "3 -60.63590 67.54309 61.26991 1.822065 -1.804109\n",
       "4  58.18227 59.10490 58.18227 1.671030  1.671030"
      ]
     },
     "metadata": {},
     "output_type": "display_data"
    }
   ],
   "source": [
    "df_ac_sa"
   ]
  },
  {
   "cell_type": "code",
   "execution_count": 91,
   "metadata": {
    "scrolled": false
   },
   "outputs": [
    {
     "data": {
      "text/html": [
       "<dl class=dl-horizontal>\n",
       "\t<dt>ME</dt>\n",
       "\t\t<dd>28.9066306105547</dd>\n",
       "\t<dt>RMSE</dt>\n",
       "\t\t<dd>66.5570942317873</dd>\n",
       "\t<dt>MAE</dt>\n",
       "\t\t<dd>59.3830832197358</dd>\n",
       "\t<dt>MAPE</dt>\n",
       "\t\t<dd>1.76189571234502</dd>\n",
       "\t<dt>MPE</dt>\n",
       "\t\t<dd>0.855352176760205</dd>\n",
       "</dl>\n"
      ],
      "text/latex": [
       "\\begin{description*}\n",
       "\\item[ME] 28.9066306105547\n",
       "\\item[RMSE] 66.5570942317873\n",
       "\\item[MAE] 59.3830832197358\n",
       "\\item[MAPE] 1.76189571234502\n",
       "\\item[MPE] 0.855352176760205\n",
       "\\end{description*}\n"
      ],
      "text/markdown": [
       "ME\n",
       ":   28.9066306105547RMSE\n",
       ":   66.5570942317873MAE\n",
       ":   59.3830832197358MAPE\n",
       ":   1.76189571234502MPE\n",
       ":   0.855352176760205\n",
       "\n"
      ],
      "text/plain": [
       "        ME       RMSE        MAE       MAPE        MPE \n",
       "28.9066306 66.5570942 59.3830832  1.7618957  0.8553522 "
      ]
     },
     "metadata": {},
     "output_type": "display_data"
    }
   ],
   "source": [
    "colMeans(df_ac_sa)"
   ]
  },
  {
   "cell_type": "markdown",
   "metadata": {},
   "source": [
    "(diff cor, diif reg)\n"
   ]
  },
  {
   "cell_type": "code",
   "execution_count": null,
   "metadata": {},
   "outputs": [],
   "source": []
  },
  {
   "cell_type": "markdown",
   "metadata": {},
   "source": [
    "_same neighbors_"
   ]
  },
  {
   "cell_type": "code",
   "execution_count": 140,
   "metadata": {
    "scrolled": true
   },
   "outputs": [
    {
     "data": {
      "text/html": [
       "<table>\n",
       "<thead><tr><th scope=col>ME</th><th scope=col>RMSE</th><th scope=col>MAE</th><th scope=col>MAPE</th><th scope=col>MPE</th></tr></thead>\n",
       "<tbody>\n",
       "\t<tr><td> 44.22245</td><td>63.20955 </td><td>46.06633 </td><td>1.387081 </td><td> 1.328244</td></tr>\n",
       "\t<tr><td> 57.58658</td><td>63.66138 </td><td>57.58658 </td><td>1.725470 </td><td> 1.725470</td></tr>\n",
       "\t<tr><td>-63.97691</td><td>70.54877 </td><td>63.97691 </td><td>1.902630 </td><td>-1.902630</td></tr>\n",
       "\t<tr><td> 55.50024</td><td>56.46211 </td><td>55.50024 </td><td>1.593783 </td><td> 1.593783</td></tr>\n",
       "</tbody>\n",
       "</table>\n"
      ],
      "text/latex": [
       "\\begin{tabular}{r|lllll}\n",
       " ME & RMSE & MAE & MAPE & MPE\\\\\n",
       "\\hline\n",
       "\t  44.22245 & 63.20955  & 46.06633  & 1.387081  &  1.328244\\\\\n",
       "\t  57.58658 & 63.66138  & 57.58658  & 1.725470  &  1.725470\\\\\n",
       "\t -63.97691 & 70.54877  & 63.97691  & 1.902630  & -1.902630\\\\\n",
       "\t  55.50024 & 56.46211  & 55.50024  & 1.593783  &  1.593783\\\\\n",
       "\\end{tabular}\n"
      ],
      "text/markdown": [
       "\n",
       "ME | RMSE | MAE | MAPE | MPE | \n",
       "|---|---|---|---|\n",
       "|  44.22245 | 63.20955  | 46.06633  | 1.387081  |  1.328244 | \n",
       "|  57.58658 | 63.66138  | 57.58658  | 1.725470  |  1.725470 | \n",
       "| -63.97691 | 70.54877  | 63.97691  | 1.902630  | -1.902630 | \n",
       "|  55.50024 | 56.46211  | 55.50024  | 1.593783  |  1.593783 | \n",
       "\n",
       "\n"
      ],
      "text/plain": [
       "  ME        RMSE     MAE      MAPE     MPE      \n",
       "1  44.22245 63.20955 46.06633 1.387081  1.328244\n",
       "2  57.58658 63.66138 57.58658 1.725470  1.725470\n",
       "3 -63.97691 70.54877 63.97691 1.902630 -1.902630\n",
       "4  55.50024 56.46211 55.50024 1.593783  1.593783"
      ]
     },
     "metadata": {},
     "output_type": "display_data"
    }
   ],
   "source": [
    "df_ac_sa"
   ]
  },
  {
   "cell_type": "code",
   "execution_count": 141,
   "metadata": {
    "scrolled": false
   },
   "outputs": [
    {
     "data": {
      "text/html": [
       "<dl class=dl-horizontal>\n",
       "\t<dt>ME</dt>\n",
       "\t\t<dd>23.3330888436393</dd>\n",
       "\t<dt>RMSE</dt>\n",
       "\t\t<dd>63.4704543736142</dd>\n",
       "\t<dt>MAE</dt>\n",
       "\t\t<dd>55.7825162118098</dd>\n",
       "\t<dt>MAPE</dt>\n",
       "\t\t<dd>1.65224104323188</dd>\n",
       "\t<dt>MPE</dt>\n",
       "\t\t<dd>0.686216784843954</dd>\n",
       "</dl>\n"
      ],
      "text/latex": [
       "\\begin{description*}\n",
       "\\item[ME] 23.3330888436393\n",
       "\\item[RMSE] 63.4704543736142\n",
       "\\item[MAE] 55.7825162118098\n",
       "\\item[MAPE] 1.65224104323188\n",
       "\\item[MPE] 0.686216784843954\n",
       "\\end{description*}\n"
      ],
      "text/markdown": [
       "ME\n",
       ":   23.3330888436393RMSE\n",
       ":   63.4704543736142MAE\n",
       ":   55.7825162118098MAPE\n",
       ":   1.65224104323188MPE\n",
       ":   0.686216784843954\n",
       "\n"
      ],
      "text/plain": [
       "        ME       RMSE        MAE       MAPE        MPE \n",
       "23.3330888 63.4704544 55.7825162  1.6522410  0.6862168 "
      ]
     },
     "metadata": {},
     "output_type": "display_data"
    }
   ],
   "source": [
    "colMeans(df_ac_sa)"
   ]
  },
  {
   "cell_type": "markdown",
   "metadata": {},
   "source": [
    "(diff cor)"
   ]
  },
  {
   "cell_type": "code",
   "execution_count": 95,
   "metadata": {
    "scrolled": true
   },
   "outputs": [
    {
     "data": {
      "text/html": [
       "<table>\n",
       "<thead><tr><th scope=col>ME</th><th scope=col>RMSE</th><th scope=col>MAE</th><th scope=col>MAPE</th><th scope=col>MPE</th></tr></thead>\n",
       "<tbody>\n",
       "\t<tr><td> 55.06192</td><td>71.29769 </td><td>55.06192 </td><td>1.663559 </td><td> 1.663559</td></tr>\n",
       "\t<tr><td> 57.54528</td><td>63.61898 </td><td>57.54528 </td><td>1.724232 </td><td> 1.724232</td></tr>\n",
       "\t<tr><td>-63.63923</td><td>70.24252 </td><td>63.63923 </td><td>1.892674 </td><td>-1.892674</td></tr>\n",
       "\t<tr><td> 55.46205</td><td>56.42360 </td><td>55.46205 </td><td>1.592687 </td><td> 1.592687</td></tr>\n",
       "</tbody>\n",
       "</table>\n"
      ],
      "text/latex": [
       "\\begin{tabular}{r|lllll}\n",
       " ME & RMSE & MAE & MAPE & MPE\\\\\n",
       "\\hline\n",
       "\t  55.06192 & 71.29769  & 55.06192  & 1.663559  &  1.663559\\\\\n",
       "\t  57.54528 & 63.61898  & 57.54528  & 1.724232  &  1.724232\\\\\n",
       "\t -63.63923 & 70.24252  & 63.63923  & 1.892674  & -1.892674\\\\\n",
       "\t  55.46205 & 56.42360  & 55.46205  & 1.592687  &  1.592687\\\\\n",
       "\\end{tabular}\n"
      ],
      "text/markdown": [
       "\n",
       "ME | RMSE | MAE | MAPE | MPE | \n",
       "|---|---|---|---|\n",
       "|  55.06192 | 71.29769  | 55.06192  | 1.663559  |  1.663559 | \n",
       "|  57.54528 | 63.61898  | 57.54528  | 1.724232  |  1.724232 | \n",
       "| -63.63923 | 70.24252  | 63.63923  | 1.892674  | -1.892674 | \n",
       "|  55.46205 | 56.42360  | 55.46205  | 1.592687  |  1.592687 | \n",
       "\n",
       "\n"
      ],
      "text/plain": [
       "  ME        RMSE     MAE      MAPE     MPE      \n",
       "1  55.06192 71.29769 55.06192 1.663559  1.663559\n",
       "2  57.54528 63.61898 57.54528 1.724232  1.724232\n",
       "3 -63.63923 70.24252 63.63923 1.892674 -1.892674\n",
       "4  55.46205 56.42360 55.46205 1.592687  1.592687"
      ]
     },
     "metadata": {},
     "output_type": "display_data"
    }
   ],
   "source": [
    "df_ac_sa"
   ]
  },
  {
   "cell_type": "code",
   "execution_count": 96,
   "metadata": {
    "scrolled": false
   },
   "outputs": [
    {
     "data": {
      "text/html": [
       "<dl class=dl-horizontal>\n",
       "\t<dt>ME</dt>\n",
       "\t\t<dd>26.1075044632982</dd>\n",
       "\t<dt>RMSE</dt>\n",
       "\t\t<dd>65.3956946370337</dd>\n",
       "\t<dt>MAE</dt>\n",
       "\t\t<dd>57.9271190068365</dd>\n",
       "\t<dt>MAPE</dt>\n",
       "\t\t<dd>1.71828793004957</dd>\n",
       "\t<dt>MPE</dt>\n",
       "\t\t<dd>0.771950872116886</dd>\n",
       "</dl>\n"
      ],
      "text/latex": [
       "\\begin{description*}\n",
       "\\item[ME] 26.1075044632982\n",
       "\\item[RMSE] 65.3956946370337\n",
       "\\item[MAE] 57.9271190068365\n",
       "\\item[MAPE] 1.71828793004957\n",
       "\\item[MPE] 0.771950872116886\n",
       "\\end{description*}\n"
      ],
      "text/markdown": [
       "ME\n",
       ":   26.1075044632982RMSE\n",
       ":   65.3956946370337MAE\n",
       ":   57.9271190068365MAPE\n",
       ":   1.71828793004957MPE\n",
       ":   0.771950872116886\n",
       "\n"
      ],
      "text/plain": [
       "        ME       RMSE        MAE       MAPE        MPE \n",
       "26.1075045 65.3956946 57.9271190  1.7182879  0.7719509 "
      ]
     },
     "metadata": {},
     "output_type": "display_data"
    }
   ],
   "source": [
    "colMeans(df_ac_sa)"
   ]
  },
  {
   "cell_type": "markdown",
   "metadata": {},
   "source": [
    "(diff cor, diif reg)\n"
   ]
  },
  {
   "cell_type": "markdown",
   "metadata": {},
   "source": [
    "####   Weighted sum (?clustering based on error correlation metric)"
   ]
  },
  {
   "cell_type": "markdown",
   "metadata": {},
   "source": [
    "####    HB"
   ]
  },
  {
   "cell_type": "markdown",
   "metadata": {},
   "source": [
    "2. Second level\n",
    "    - AR(3) \n",
    "    - AR(3) + structural break \n",
    "    - AR(3)LI with neighbors\n",
    "    - weighted sum\n",
    "    - HB \n",
    "3. Second level (grouped sum from 3 level) (?clustering based on error correlation metric)\n",
    "    - AR(3) \n",
    "    - AR(3) + structural break \n",
    "    - weighted sum\n",
    "    - HB\n",
    "6. Repeat for US and RUS \n",
    "7. DM test"
   ]
  },
  {
   "cell_type": "code",
   "execution_count": 2,
   "metadata": {},
   "outputs": [
    {
     "data": {
      "text/plain": [
       "19.0"
      ]
     },
     "execution_count": 2,
     "metadata": {},
     "output_type": "execute_result"
    }
   ],
   "source": [
    "(75+1)/4"
   ]
  },
  {
   "cell_type": "code",
   "execution_count": 13,
   "metadata": {},
   "outputs": [
    {
     "data": {
      "text/plain": [
       "[52, 56, 60, 64, 68, 72, 76]"
      ]
     },
     "execution_count": 13,
     "metadata": {},
     "output_type": "execute_result"
    }
   ],
   "source": [
    "list(range(52, 77, 4))"
   ]
  },
  {
   "cell_type": "code",
   "execution_count": 14,
   "metadata": {},
   "outputs": [
    {
     "data": {
      "text/plain": [
       "6"
      ]
     },
     "execution_count": 14,
     "metadata": {},
     "output_type": "execute_result"
    }
   ],
   "source": [
    "len(list(range(52, 77, 4))) - 1"
   ]
  },
  {
   "cell_type": "markdown",
   "metadata": {},
   "source": [
    "Hypotheses:\n",
    "\n",
    "- various time series react differently on various covariates\n",
    "    - look for new regressors (adding closest (by different   metrics) neighbor helps)\n",
    "    - [add stuctural change dummy](https://datascienceplus.com/dummy-variable-for-examining-structural-instability-in-regression-an-alternative-to-chow-test/), [Testing for unit roots and\n",
    "structural breaks](https://www.resakss-asia.org/files/2017/02/Day8_Session4_Structural-Breaks.pdf), [модели  марковскими переключениями](http://quantile.ru/11/11-Literacy.pdf) \n",
    "- compare optimal weights combination, [BU, TD](https://otexts.com/fpp2/top-down.html) and HB\n",
    "    - dummy for structural change to prior for $\\theta's$    \n",
    "    - [ForecastCombinations](https://cran.r-project.org/web/packages/ForecastCombinations/ForecastCombinations.pdf), [ForecastComb](https://cran.r-project.org/web/packages/ForecastComb/ForecastComb.pdf), [Forecast Combinations in R](https://journal.r-project.org/archive/2018/RJ-2018-052/RJ-2018-052.pdf), [R packages for forecast combinations](https://robjhyndman.com/hyndsight/forecast-combinations/), [optimal combination](http://webdoc.sub.gwdg.de/ebook/serien/e/monash_univ/wp9-07.pdf)\n",
    "    - check error-correlation metric\n",
    "    \n",
    "    \n",
    "    \n",
    "    \n"
   ]
  },
  {
   "cell_type": "markdown",
   "metadata": {},
   "source": [
    "One way to improve accuracy is through aggregation of data. This\n",
    "can mean aggregating the historical data prior to making a forecast, or\n",
    "aggregating the forecasts themselves. The purpose is to use information at\n",
    "one level of aggregation to improve forecasts at another level of aggregation.\n",
    "\n",
    "\n",
    "For the most common approaches to forecasting (ARIMA, state space,\n",
    "exponential smoothing) such methods or models are available:\n",
    "- Vector autoregressive (VAR) models, where time series share common\n",
    "parameters (e.g., Chatfield, 2000)\n",
    "- Multivariate state space models (e.g., Harvey, 1989), including\n",
    "Bayesian approaches (Pole et al., 1994).\n",
    "- Multivariate (or vector) exponential smoothing (Jones, 1966; Enns\n",
    "et al., 1982; Harvey, 1986).\n",
    "- Analogous series. In Duncan et al. (1993, 2001) a Bayesian approach\n",
    "is taken to pooling analogous time series. \n",
    "\n",
    "Parameters estimated\n",
    "from the group model are combined with conventional parameters.\n",
    "Empirical results showed that accuracy can be improved.\n",
    "Because these methods use the covariance structure between the time series,\n",
    "they can, at least theoretically, make better forecasts than simple BU, TD\n",
    "or GSI approaches. For example, in Wei and Abraham (1981) it is shown\n",
    "that a joint modeling approach always gives better linear forecasts than a\n",
    "BU approach for weakly stationary series."
   ]
  },
  {
   "cell_type": "markdown",
   "metadata": {},
   "source": [
    "## I. Forecasting"
   ]
  },
  {
   "cell_type": "markdown",
   "metadata": {},
   "source": [
    "#### Модель 0: RW with drift\n",
    "\n",
    "The random walk with drift model is\n",
    "\n",
    "$$Y_t=c + Y_{t-1} + Z_t$$\n",
    "\n",
    "``rwf(y, h, drift=TRUE)``\n",
    "\n",
    "? a seasonal random walk (i.e., the observation from one year back)\n",
    "\n",
    "https://people.duke.edu/~rnau/411searw.htm"
   ]
  },
  {
   "cell_type": "markdown",
   "metadata": {},
   "source": [
    "The random walk is often the best forecast method during early stages of a pattern\n",
    "regime change, because it is completely reactive. Other methods need to process signals\n",
    "from the data to discount historical data from before pattern changes, causing lags in\n",
    "responses and higher forecast errors. During steady time trends, however, the random\n",
    "walk will often be the worst forecast method, because it does not include a trend forecast\n",
    "component. \n"
   ]
  },
  {
   "cell_type": "markdown",
   "metadata": {},
   "source": [
    "#### Модель 1: Theta\n",
    "\n",
    "``library(foreast)``\n",
    "\n",
    "Equivalent to simple exponential smoothing with drift \n",
    "\n",
    "$\\sim$ ETS(AAdN)\n",
    "\n",
    "- [Unmasking the Theta method](https://robjhyndman.com/papers/Theta.pdf)\n",
    "\n",
    "- [The theta model: a decomposition approach to forecasting](https://www.sciencedirect.com/science/article/pii/S0169207000000662)"
   ]
  },
  {
   "cell_type": "markdown",
   "metadata": {},
   "source": [
    "#### Модель 2: RF\n",
    "\n",
    "Пара-тройка регрессоров:\n",
    "\n",
    "- лаг [-1] \n",
    "- лаг сезонный [-1] для eu/us\n",
    "- близкие ряды \n",
    "- прочие?"
   ]
  },
  {
   "cell_type": "markdown",
   "metadata": {},
   "source": [
    "#### Модель 3: лучшие предикторы - близкие ряды?\n",
    "\n",
    "\n",
    "- [Autoregressive Integrated Moving Average with ExplanatoryVariable (ARIMAX) Model forThailand Export](https://forecasters.org/wp-content/uploads/gravity_forms/7-2a51b93047891f1ec3608bdbd77ca58d/2013/07/Kongcharoen_Chaleampong_ISF2013.pdf)\n",
    "\n",
    "- [Learning Leading Indicatorsfor Time Series Predictions](https://arxiv.org/pdf/1507.01978.pdf)"
   ]
  },
  {
   "cell_type": "markdown",
   "metadata": {},
   "source": [
    "#### ПРОГНОЗИРОВАНИЕ ПО МОДЕЛЯМ AR, МА, ARMA, ARIMA\n",
    "\n",
    "В последнем случае для остационаривания ряда следует вычесть из него соответствующий детерминированный тренд (разумеется, на практике производится оценивание этого\n",
    "тренда, и вычитается оцененный тренд). В свою очередь, если ряд имеет стохастический тренд, то вычитание из этого ряда оцененного детерминированного тренда не приводит к стационарному ряду. \n",
    "\n",
    "В связи с этим перед применением метода Бокса — Дженкинса обычно принимают решение о том, как\n",
    "производить остационаривание ряда: используя дифференцирование ряда или\n",
    "вычитая из него оцененный тренд.\n",
    "\n",
    "Первоначально основой для принятия одного из этих двух решений являлся\n",
    "анализ коррелограммы ряда. Для коррелограммы интегрированного ряда\n",
    "характерно достаточно медленное затухание выборочной автокорреляционной функции $r(k)$ и близкое к 1 значение этой функции на единичном запаздывании (значение $r(1)$). Однако подобный характер коррелограммы имеют\n",
    "и ряды с детерминированным линейным трендом, дифференцирование которых нежелательно. Поэтому в настоящее время решение принимают, основываясь на результатах проверки в отношении ряда $x_t$ гипотезы единичного\n",
    "корня. \n",
    "\n",
    "Наиболее распространенным инструментом проверки гипотезы о наличии единичного корня является критерий Дики — Фуллера, предполагающий, что рассматриваемый процесс можно\n",
    "представить в виде процесса $AR (p)$:\n",
    "\n",
    "$a(L)x_t = e_t$\n",
    "\n",
    "Критерий Дики — Фуллера имеет варианты, описывающие различные типы\n",
    "поведения реализаций процесса и учитывающие значение $р$.\n",
    "\n",
    "Если временной ряд обладает выраженной сезонностью, то перед применением критерия Дики — Фуллера рекомендуется провести «десезонизацию»\n",
    "ряда, т.е. применять этот критерий к ряду остатков, полученных при оценивании уравнения регрессии ряда на все сезонные дамми-переменные (при \n",
    "этом константа не включается в оцениваемое уравнение).\n",
    "\n",
    "\n",
    "Если гипотеза единичного корня не отвергается, то для достижения стационарности ряда его следует продифференцировать, и для такого ряда используется обозначение ARIMA(p, d , q). \n",
    "\n",
    "\n"
   ]
  },
  {
   "cell_type": "markdown",
   "metadata": {},
   "source": [
    "### EU & US"
   ]
  },
  {
   "cell_type": "markdown",
   "metadata": {},
   "source": [
    "#### Модель 4: bvarr/BMR\n",
    "\n",
    "###### [Shrinkage and Regularized Regression](https://jrnold.github.io/bayesian_notes/shrinkage-and-regularized-regression.html)\n",
    "\n",
    "https://www.sciencedirect.com/science/article/pii/0304407689900365\n",
    "\n",
    "https://www.ecb.europa.eu/pub/pdf/scpwps/ecbwp966.pdf"
   ]
  },
  {
   "cell_type": "markdown",
   "metadata": {},
   "source": [
    "- [bvarr](https://github.com/bdemeshev/bvarr), [bvarrKK](https://github.com/bdemeshev/bvarrKK), [bvar_om](https://github.com/bdemeshev/bvar_om)\n",
    "\n",
    "- [BMR: documantation](https://www.kthohr.com/bmr.html), [pdf](https://www.kthohr.com/bmr/BMR.pdf)\n",
    "\n",
    "- https://github.com/joergrieger/bvar\n",
    "\n",
    "- [bvarsv](https://cran.r-project.org/web/packages/bvarsv/bvarsv.pdf)\n",
    "\n",
    "- [MSBVAR: Markov-switching Bayesian VAR](https://cran.r-project.org/package=MSBVAR)\n",
    "\n",
    "[Панели](http://bdemeshev.github.io/r_cycle/cycle_files/09_panel_regression.html)\n",
    "\n",
    "[BVAR](http://bdemeshev.github.io/r_cycle/cycle_files/21_bayesian_var.html)\n",
    "\n",
    "[STAN](http://bdemeshev.github.io/r_cycle/cycle_files/33_stan_intro.html)\n",
    "\n",
    "[MCMC](http://bdemeshev.github.io/r_cycle/cycle_files/15_mcmc_pack.html)\n",
    "\n",
    "[HB](http://bdemeshev.github.io/r_cycle/cycle_files/32_bayesian_hierarchical_logit.html)"
   ]
  },
  {
   "cell_type": "markdown",
   "metadata": {},
   "source": [
    "### Проверка\n",
    "\n",
    "10% наблюдений\n",
    "\n",
    "- rus: прогноз на 1/2 \n",
    "- eu/us: прогноз на 4/8"
   ]
  }
 ],
 "metadata": {
  "kernelspec": {
   "display_name": "R 3.5.1",
   "language": "R",
   "name": "ir"
  },
  "language_info": {
   "codemirror_mode": "r",
   "file_extension": ".r",
   "mimetype": "text/x-r-source",
   "name": "R",
   "pygments_lexer": "r",
   "version": "3.5.2"
  }
 },
 "nbformat": 4,
 "nbformat_minor": 2
}
