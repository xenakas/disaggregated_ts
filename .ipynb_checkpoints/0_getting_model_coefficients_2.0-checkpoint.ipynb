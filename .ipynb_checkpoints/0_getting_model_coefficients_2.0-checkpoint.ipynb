{
 "cells": [
  {
   "cell_type": "code",
   "execution_count": 1,
   "metadata": {},
   "outputs": [],
   "source": [
    "all_models  <-  list()"
   ]
  },
  {
   "cell_type": "code",
   "execution_count": 2,
   "metadata": {},
   "outputs": [],
   "source": [
    "modelz  <-  c('model1_ar(2)_lin',\n",
    "'model2_ar(12)_lin',\n",
    "'model3_ar(12)_poly',\n",
    "'model4_ari',\n",
    "'model5_arma',\n",
    "'model6_arima',\n",
    "'model7_auto.arima',\n",
    "'model8_ets',\n",
    "'model9_auto.ets',\n",
    "'model_10_tbats')"
   ]
  },
  {
   "cell_type": "code",
   "execution_count": 3,
   "metadata": {},
   "outputs": [],
   "source": [
    "for (i in 1:length(modelz)){\n",
    "    all_models[[i]]  <- readRDS(paste(modelz[i],'all_models_list.rds', sep='/'))\n",
    "}\n",
    "\n",
    "# paramz = readRDS(\"df_params.rds\")"
   ]
  },
  {
   "cell_type": "markdown",
   "metadata": {},
   "source": [
    "al_models\n",
    "\n",
    "models 1-6 - arimas\n",
    "models 8 - ets\n",
    "\n",
    "levels:\n",
    "- global model\n",
    "- country\n",
    "- type\n",
    "- iteration\n",
    "- model"
   ]
  },
  {
   "cell_type": "code",
   "execution_count": 13,
   "metadata": {},
   "outputs": [
    {
     "data": {
      "text/plain": [
       "     Length Class  Mode\n",
       "[1,] 4      -none- list\n",
       "[2,] 4      -none- list\n",
       "[3,] 4      -none- list"
      ]
     },
     "metadata": {},
     "output_type": "display_data"
    },
    {
     "data": {
      "text/plain": [
       "     Length Class  Mode\n",
       "[1,] 6      -none- list\n",
       "[2,] 6      -none- list\n",
       "[3,] 6      -none- list\n",
       "[4,] 6      -none- list"
      ]
     },
     "metadata": {},
     "output_type": "display_data"
    },
    {
     "data": {
      "text/plain": [
       "     Length Class  Mode\n",
       "[1,] 309    -none- list\n",
       "[2,] 309    -none- list\n",
       "[3,] 309    -none- list\n",
       "[4,] 309    -none- list\n",
       "[5,] 309    -none- list\n",
       "[6,] 309    -none- list"
      ]
     },
     "metadata": {},
     "output_type": "display_data"
    },
    {
     "data": {
      "text/plain": [
       "       Length Class Mode\n",
       "  [1,] 19     ARIMA list\n",
       "  [2,] 19     ARIMA list\n",
       "  [3,] 19     ARIMA list\n",
       "  [4,] 19     ARIMA list\n",
       "  [5,] 19     ARIMA list\n",
       "  [6,] 19     ARIMA list\n",
       "  [7,] 19     ARIMA list\n",
       "  [8,] 19     ARIMA list\n",
       "  [9,] 19     ARIMA list\n",
       " [10,] 19     ARIMA list\n",
       " [11,] 19     ARIMA list\n",
       " [12,] 19     ARIMA list\n",
       " [13,] 19     ARIMA list\n",
       " [14,] 19     ARIMA list\n",
       " [15,] 19     ARIMA list\n",
       " [16,] 19     ARIMA list\n",
       " [17,] 19     ARIMA list\n",
       " [18,] 19     ARIMA list\n",
       " [19,] 19     ARIMA list\n",
       " [20,] 19     ARIMA list\n",
       " [21,] 19     ARIMA list\n",
       " [22,] 19     ARIMA list\n",
       " [23,] 19     ARIMA list\n",
       " [24,] 19     ARIMA list\n",
       " [25,] 19     ARIMA list\n",
       " [26,] 19     ARIMA list\n",
       " [27,] 19     ARIMA list\n",
       " [28,] 19     ARIMA list\n",
       " [29,] 19     ARIMA list\n",
       " [30,] 19     ARIMA list\n",
       " [31,] 19     ARIMA list\n",
       " [32,] 19     ARIMA list\n",
       " [33,] 19     ARIMA list\n",
       " [34,] 19     ARIMA list\n",
       " [35,] 19     ARIMA list\n",
       " [36,] 19     ARIMA list\n",
       " [37,] 19     ARIMA list\n",
       " [38,] 19     ARIMA list\n",
       " [39,] 19     ARIMA list\n",
       " [40,] 19     ARIMA list\n",
       " [41,] 19     ARIMA list\n",
       " [42,] 19     ARIMA list\n",
       " [43,] 19     ARIMA list\n",
       " [44,] 19     ARIMA list\n",
       " [45,] 19     ARIMA list\n",
       " [46,] 19     ARIMA list\n",
       " [47,] 19     ARIMA list\n",
       " [48,] 19     ARIMA list\n",
       " [49,] 19     ARIMA list\n",
       " [50,] 19     ARIMA list\n",
       " [51,] 19     ARIMA list\n",
       " [52,] 19     ARIMA list\n",
       " [53,] 19     ARIMA list\n",
       " [54,] 19     ARIMA list\n",
       " [55,] 19     ARIMA list\n",
       " [56,] 19     ARIMA list\n",
       " [57,] 19     ARIMA list\n",
       " [58,] 19     ARIMA list\n",
       " [59,] 19     ARIMA list\n",
       " [60,] 19     ARIMA list\n",
       " [61,] 19     ARIMA list\n",
       " [62,] 19     ARIMA list\n",
       " [63,] 19     ARIMA list\n",
       " [64,] 19     ARIMA list\n",
       " [65,] 19     ARIMA list\n",
       " [66,] 19     ARIMA list\n",
       " [67,] 19     ARIMA list\n",
       " [68,] 19     ARIMA list\n",
       " [69,] 19     ARIMA list\n",
       " [70,] 19     ARIMA list\n",
       " [71,] 19     ARIMA list\n",
       " [72,] 19     ARIMA list\n",
       " [73,] 19     ARIMA list\n",
       " [74,] 19     ARIMA list\n",
       " [75,] 19     ARIMA list\n",
       " [76,] 19     ARIMA list\n",
       " [77,] 19     ARIMA list\n",
       " [78,] 19     ARIMA list\n",
       " [79,] 19     ARIMA list\n",
       " [80,] 19     ARIMA list\n",
       " [81,] 19     ARIMA list\n",
       " [82,] 19     ARIMA list\n",
       " [83,] 19     ARIMA list\n",
       " [84,] 19     ARIMA list\n",
       " [85,] 19     ARIMA list\n",
       " [86,] 19     ARIMA list\n",
       " [87,] 19     ARIMA list\n",
       " [88,] 19     ARIMA list\n",
       " [89,] 19     ARIMA list\n",
       " [90,] 19     ARIMA list\n",
       " [91,] 19     ARIMA list\n",
       " [92,] 19     ARIMA list\n",
       " [93,] 19     ARIMA list\n",
       " [94,] 19     ARIMA list\n",
       " [95,] 19     ARIMA list\n",
       " [96,] 19     ARIMA list\n",
       " [97,] 19     ARIMA list\n",
       " [98,] 19     ARIMA list\n",
       " [99,] 19     ARIMA list\n",
       "[100,] 19     ARIMA list\n",
       "[101,] 19     ARIMA list\n",
       "[102,] 19     ARIMA list\n",
       "[103,] 19     ARIMA list\n",
       "[104,] 19     ARIMA list\n",
       "[105,] 19     ARIMA list\n",
       "[106,] 19     ARIMA list\n",
       "[107,] 19     ARIMA list\n",
       "[108,] 19     ARIMA list\n",
       "[109,] 19     ARIMA list\n",
       "[110,] 19     ARIMA list\n",
       "[111,] 19     ARIMA list\n",
       "[112,] 19     ARIMA list\n",
       "[113,] 19     ARIMA list\n",
       "[114,] 19     ARIMA list\n",
       "[115,] 19     ARIMA list\n",
       "[116,] 19     ARIMA list\n",
       "[117,] 19     ARIMA list\n",
       "[118,] 19     ARIMA list\n",
       "[119,] 19     ARIMA list\n",
       "[120,] 19     ARIMA list\n",
       "[121,] 19     ARIMA list\n",
       "[122,] 19     ARIMA list\n",
       "[123,] 19     ARIMA list\n",
       "[124,] 19     ARIMA list\n",
       "[125,] 19     ARIMA list\n",
       "[126,] 19     ARIMA list\n",
       "[127,] 19     ARIMA list\n",
       "[128,] 19     ARIMA list\n",
       "[129,] 19     ARIMA list\n",
       "[130,] 19     ARIMA list\n",
       "[131,] 19     ARIMA list\n",
       "[132,] 19     ARIMA list\n",
       "[133,] 19     ARIMA list\n",
       "[134,] 19     ARIMA list\n",
       "[135,] 19     ARIMA list\n",
       "[136,] 19     ARIMA list\n",
       "[137,] 19     ARIMA list\n",
       "[138,] 19     ARIMA list\n",
       "[139,] 19     ARIMA list\n",
       "[140,] 19     ARIMA list\n",
       "[141,] 19     ARIMA list\n",
       "[142,] 19     ARIMA list\n",
       "[143,] 19     ARIMA list\n",
       "[144,] 19     ARIMA list\n",
       "[145,] 19     ARIMA list\n",
       "[146,] 19     ARIMA list\n",
       "[147,] 19     ARIMA list\n",
       "[148,] 19     ARIMA list\n",
       "[149,] 19     ARIMA list\n",
       "[150,] 19     ARIMA list\n",
       "[151,] 19     ARIMA list\n",
       "[152,] 19     ARIMA list\n",
       "[153,] 19     ARIMA list\n",
       "[154,] 19     ARIMA list\n",
       "[155,] 19     ARIMA list\n",
       "[156,] 19     ARIMA list\n",
       "[157,] 19     ARIMA list\n",
       "[158,] 19     ARIMA list\n",
       "[159,] 19     ARIMA list\n",
       "[160,] 19     ARIMA list\n",
       "[161,] 19     ARIMA list\n",
       "[162,] 19     ARIMA list\n",
       "[163,] 19     ARIMA list\n",
       "[164,] 19     ARIMA list\n",
       "[165,] 19     ARIMA list\n",
       "[166,] 19     ARIMA list\n",
       "[167,] 19     ARIMA list\n",
       "[168,] 19     ARIMA list\n",
       "[169,] 19     ARIMA list\n",
       "[170,] 19     ARIMA list\n",
       "[171,] 19     ARIMA list\n",
       "[172,] 19     ARIMA list\n",
       "[173,] 19     ARIMA list\n",
       "[174,] 19     ARIMA list\n",
       "[175,] 19     ARIMA list\n",
       "[176,] 19     ARIMA list\n",
       "[177,] 19     ARIMA list\n",
       "[178,] 19     ARIMA list\n",
       "[179,] 19     ARIMA list\n",
       "[180,] 19     ARIMA list\n",
       "[181,] 19     ARIMA list\n",
       "[182,] 19     ARIMA list\n",
       "[183,] 19     ARIMA list\n",
       "[184,] 19     ARIMA list\n",
       "[185,] 19     ARIMA list\n",
       "[186,] 19     ARIMA list\n",
       "[187,] 19     ARIMA list\n",
       "[188,] 19     ARIMA list\n",
       "[189,] 19     ARIMA list\n",
       "[190,] 19     ARIMA list\n",
       "[191,] 19     ARIMA list\n",
       "[192,] 19     ARIMA list\n",
       "[193,] 19     ARIMA list\n",
       "[194,] 19     ARIMA list\n",
       "[195,] 19     ARIMA list\n",
       "[196,] 19     ARIMA list\n",
       "[197,] 19     ARIMA list\n",
       "[198,] 19     ARIMA list\n",
       "[199,] 19     ARIMA list\n",
       "[200,] 19     ARIMA list\n",
       "[201,] 19     ARIMA list\n",
       "[202,] 19     ARIMA list\n",
       "[203,] 19     ARIMA list\n",
       "[204,] 19     ARIMA list\n",
       "[205,] 19     ARIMA list\n",
       "[206,] 19     ARIMA list\n",
       "[207,] 19     ARIMA list\n",
       "[208,] 19     ARIMA list\n",
       "[209,] 19     ARIMA list\n",
       "[210,] 19     ARIMA list\n",
       "[211,] 19     ARIMA list\n",
       "[212,] 19     ARIMA list\n",
       "[213,] 19     ARIMA list\n",
       "[214,] 19     ARIMA list\n",
       "[215,] 19     ARIMA list\n",
       "[216,] 19     ARIMA list\n",
       "[217,] 19     ARIMA list\n",
       "[218,] 19     ARIMA list\n",
       "[219,] 19     ARIMA list\n",
       "[220,] 19     ARIMA list\n",
       "[221,] 19     ARIMA list\n",
       "[222,] 19     ARIMA list\n",
       "[223,] 19     ARIMA list\n",
       "[224,] 19     ARIMA list\n",
       "[225,] 19     ARIMA list\n",
       "[226,] 19     ARIMA list\n",
       "[227,] 19     ARIMA list\n",
       "[228,] 19     ARIMA list\n",
       "[229,] 19     ARIMA list\n",
       "[230,] 19     ARIMA list\n",
       "[231,] 19     ARIMA list\n",
       "[232,] 19     ARIMA list\n",
       "[233,] 19     ARIMA list\n",
       "[234,] 19     ARIMA list\n",
       "[235,] 19     ARIMA list\n",
       "[236,] 19     ARIMA list\n",
       "[237,] 19     ARIMA list\n",
       "[238,] 19     ARIMA list\n",
       "[239,] 19     ARIMA list\n",
       "[240,] 19     ARIMA list\n",
       "[241,] 19     ARIMA list\n",
       "[242,] 19     ARIMA list\n",
       "[243,] 19     ARIMA list\n",
       "[244,] 19     ARIMA list\n",
       "[245,] 19     ARIMA list\n",
       "[246,] 19     ARIMA list\n",
       "[247,] 19     ARIMA list\n",
       "[248,] 19     ARIMA list\n",
       "[249,] 19     ARIMA list\n",
       "[250,] 19     ARIMA list\n",
       "[251,] 19     ARIMA list\n",
       "[252,] 19     ARIMA list\n",
       "[253,] 19     ARIMA list\n",
       "[254,] 19     ARIMA list\n",
       "[255,] 19     ARIMA list\n",
       "[256,] 19     ARIMA list\n",
       "[257,] 19     ARIMA list\n",
       "[258,] 19     ARIMA list\n",
       "[259,] 19     ARIMA list\n",
       "[260,] 19     ARIMA list\n",
       "[261,] 19     ARIMA list\n",
       "[262,] 19     ARIMA list\n",
       "[263,] 19     ARIMA list\n",
       "[264,] 19     ARIMA list\n",
       "[265,] 19     ARIMA list\n",
       "[266,] 19     ARIMA list\n",
       "[267,] 19     ARIMA list\n",
       "[268,] 19     ARIMA list\n",
       "[269,] 19     ARIMA list\n",
       "[270,] 19     ARIMA list\n",
       "[271,] 19     ARIMA list\n",
       "[272,] 19     ARIMA list\n",
       "[273,] 19     ARIMA list\n",
       "[274,] 19     ARIMA list\n",
       "[275,] 19     ARIMA list\n",
       "[276,] 19     ARIMA list\n",
       "[277,] 19     ARIMA list\n",
       "[278,] 19     ARIMA list\n",
       "[279,] 19     ARIMA list\n",
       "[280,] 19     ARIMA list\n",
       "[281,] 19     ARIMA list\n",
       "[282,] 19     ARIMA list\n",
       "[283,] 19     ARIMA list\n",
       "[284,] 19     ARIMA list\n",
       "[285,] 19     ARIMA list\n",
       "[286,] 19     ARIMA list\n",
       "[287,] 19     ARIMA list\n",
       "[288,] 19     ARIMA list\n",
       "[289,] 19     ARIMA list\n",
       "[290,] 19     ARIMA list\n",
       "[291,] 19     ARIMA list\n",
       "[292,] 19     ARIMA list\n",
       "[293,] 19     ARIMA list\n",
       "[294,] 19     ARIMA list\n",
       "[295,] 19     ARIMA list\n",
       "[296,] 19     ARIMA list\n",
       "[297,] 19     ARIMA list\n",
       "[298,] 19     ARIMA list\n",
       "[299,] 19     ARIMA list\n",
       "[300,] 19     ARIMA list\n",
       "[301,] 19     ARIMA list\n",
       "[302,] 19     ARIMA list\n",
       "[303,] 19     ARIMA list\n",
       "[304,] 19     ARIMA list\n",
       "[305,] 19     ARIMA list\n",
       "[306,] 19     ARIMA list\n",
       "[307,] 19     ARIMA list\n",
       "[308,] 19     ARIMA list\n",
       "[309,] 19     ARIMA list"
      ]
     },
     "metadata": {},
     "output_type": "display_data"
    }
   ],
   "source": [
    "summary(all_models[[1]]) # model\n",
    "summary(all_models[[1]][[1]]) # country\n",
    "summary(all_models[[1]][[1]][[1]]) # type\n",
    "summary(all_models[[1]][[1]][[1]][[1]]) # iteration"
   ]
  },
  {
   "cell_type": "code",
   "execution_count": 4,
   "metadata": {},
   "outputs": [],
   "source": [
    "top_models  <-  readRDS(\"top_models_list.rds\")"
   ]
  },
  {
   "cell_type": "markdown",
   "metadata": {},
   "source": [
    "levels:\n",
    "- global model\n",
    "- country\n",
    "- iteration\n",
    "- model"
   ]
  },
  {
   "cell_type": "code",
   "execution_count": 11,
   "metadata": {},
   "outputs": [
    {
     "data": {
      "text/plain": [
       "     Length Class  Mode\n",
       "[1,] 6      -none- list\n",
       "[2,] 6      -none- list\n",
       "[3,] 5      -none- list"
      ]
     },
     "metadata": {},
     "output_type": "display_data"
    },
    {
     "data": {
      "text/plain": [
       "     Length Class Mode\n",
       "[1,] 19     ARIMA list\n",
       "[2,] 19     ARIMA list\n",
       "[3,] 19     ARIMA list\n",
       "[4,] 19     ARIMA list\n",
       "[5,] 19     ARIMA list\n",
       "[6,] 19     ARIMA list"
      ]
     },
     "metadata": {},
     "output_type": "display_data"
    },
    {
     "data": {
      "text/plain": [
       "          Length Class  Mode     \n",
       "coef       5     -none- numeric  \n",
       "sigma2     1     -none- numeric  \n",
       "var.coef  25     -none- numeric  \n",
       "mask       5     -none- logical  \n",
       "loglik     1     -none- numeric  \n",
       "aic        1     -none- numeric  \n",
       "arma       7     -none- numeric  \n",
       "residuals 48     ts     numeric  \n",
       "call       7     -none- call     \n",
       "series     1     -none- character\n",
       "code       1     -none- numeric  \n",
       "n.cond     1     -none- numeric  \n",
       "nobs       1     -none- numeric  \n",
       "model     10     -none- list     \n",
       "aicc       1     -none- numeric  \n",
       "bic        1     -none- numeric  \n",
       "xreg      48     -none- numeric  \n",
       "x         48     ts     numeric  \n",
       "fitted    48     ts     numeric  "
      ]
     },
     "metadata": {},
     "output_type": "display_data"
    }
   ],
   "source": [
    "summary(top_models[[1]]) # model\n",
    "summary(top_models[[1]][[1]]) # country\n",
    "summary(top_models[[1]][[1]][[1]]) # iteration"
   ]
  },
  {
   "cell_type": "code",
   "execution_count": 7,
   "metadata": {},
   "outputs": [
    {
     "data": {
      "text/plain": [
       "\n",
       "Call:\n",
       "Arima(y = msts(train, seasonal.periods = var_freq), order = var_arpdq, seasonal = var_sarpdq, \n",
       "    include.mean = var_constant, include.drift = var_drift, method = \"ML\")\n",
       "\n",
       "Coefficients:\n",
       "         ar1      ar2    sar1  intercept    drift\n",
       "      1.4138  -0.6210  0.9127  2139.9301  17.9593\n",
       "s.e.  0.1135   0.1132  0.0461   179.8832   4.4154\n",
       "\n",
       "sigma^2 estimated as 1005:  log likelihood = -235.89,  aic = 483.78"
      ]
     },
     "metadata": {},
     "output_type": "display_data"
    }
   ],
   "source": [
    "top_models[[1]][[1]][[1]]"
   ]
  },
  {
   "cell_type": "code",
   "execution_count": null,
   "metadata": {},
   "outputs": [],
   "source": []
  },
  {
   "cell_type": "code",
   "execution_count": 14,
   "metadata": {},
   "outputs": [],
   "source": [
    "top_global  <-  list()\n",
    "for (i in 1:6){ # global model\n",
    "    all_countries  <- list()\n",
    "    for (j in 1:3){ # country\n",
    "        all_iters  <- as.data.frame(top_models[[i]][[j]][[1]][[1]]) \n",
    "        for (k in 2:length(top_models[[i]][[j]])){ #iteration\n",
    "            all_iters  <-  cbind(as.data.frame(all_iters), as.data.frame(top_models[[i]][[j]][[k]][[1]]))\n",
    "        } \n",
    "        colnames(all_iters)  <-  seq(1,length(top_models[[i]][[j]]))\n",
    "        all_countries[[j]]  <- t(all_iters)   \n",
    "    }\n",
    "    top_global[[i]]  <-  all_countries\n",
    "}"
   ]
  },
  {
   "cell_type": "code",
   "execution_count": 15,
   "metadata": {},
   "outputs": [],
   "source": [
    "for (i in 8){ # global model\n",
    "    all_countries  <- list()\n",
    "    for (j in 1:3){ # country\n",
    "        all_iters  <- as.data.frame(top_models[[i]][[j]][[1]][[11]]) \n",
    "        for (k in 2:length(top_models[[i]][[j]])){ #iteration\n",
    "            all_iters  <-  cbind(as.data.frame(all_iters), as.data.frame(top_models[[i]][[j]][[k]][[11]]))\n",
    "        } \n",
    "        colnames(all_iters)  <-  seq(1,length(top_models[[i]][[j]]))\n",
    "        all_countries[[j]]  <- t(all_iters)   \n",
    "    }\n",
    "    top_global[[i]]  <-  all_countries\n",
    "}"
   ]
  },
  {
   "cell_type": "code",
   "execution_count": null,
   "metadata": {},
   "outputs": [],
   "source": []
  },
  {
   "cell_type": "markdown",
   "metadata": {},
   "source": [
    "- i - choose model\n",
    "- all_countries[[country]][[type]][[iteration]][ ts_number , coef ]"
   ]
  },
  {
   "cell_type": "code",
   "execution_count": 18,
   "metadata": {},
   "outputs": [],
   "source": [
    "var_off_eu = length(all_countries[[1]][[2]][[1]][,2]) \n",
    "var_off_us = length(all_countries[[2]][[2]][[1]][,2]) \n",
    "var_off_rus = length(all_countries[[3]][[2]][[1]][,2]) "
   ]
  },
  {
   "cell_type": "code",
   "execution_count": 19,
   "metadata": {},
   "outputs": [
    {
     "data": {
      "text/html": [
       "29"
      ],
      "text/latex": [
       "29"
      ],
      "text/markdown": [
       "29"
      ],
      "text/plain": [
       "[1] 29"
      ]
     },
     "metadata": {},
     "output_type": "display_data"
    },
    {
     "data": {
      "text/html": [
       "51"
      ],
      "text/latex": [
       "51"
      ],
      "text/markdown": [
       "51"
      ],
      "text/plain": [
       "[1] 51"
      ]
     },
     "metadata": {},
     "output_type": "display_data"
    },
    {
     "data": {
      "text/html": [
       "81"
      ],
      "text/latex": [
       "81"
      ],
      "text/markdown": [
       "81"
      ],
      "text/plain": [
       "[1] 81"
      ]
     },
     "metadata": {},
     "output_type": "display_data"
    }
   ],
   "source": [
    "var_off_eu\n",
    "var_off_us\n",
    "var_off_rus"
   ]
  },
  {
   "cell_type": "code",
   "execution_count": 20,
   "metadata": {},
   "outputs": [],
   "source": [
    "library(ggplot2)"
   ]
  },
  {
   "cell_type": "code",
   "execution_count": 21,
   "metadata": {},
   "outputs": [],
   "source": [
    "var_country  <-  1\n",
    "var_type  <- 3\n",
    "var_iter  <- 5\n",
    "var_coef  <- 1\n",
    "\n",
    "\n",
    "i = 1\n",
    "all_countries  <- list()\n",
    "for (j in 1:3){ # country\n",
    "    all_types  <- list()\n",
    "    for (l in 1:4){ #type\n",
    "        all_hi  <- list()\n",
    "        for (m in 1:length(all_models[[i]][[j]][[l]])){        \n",
    "            all_iters  <- as.data.frame(all_models[[i]][[j]][[l]][[m]][[1]][[1]]) \n",
    "            for (k in 2:length(all_models[[i]][[j]][[l]][[m]])){ #iteration\n",
    "            all_iters  <-  tryCatch(cbind(as.data.frame(all_iters), as.data.frame(all_models[[i]][[j]][[l]][[m]][[k]][[1]])),\n",
    "                                    error = function(e)  {cbind(as.data.frame(all_iters), NA)}\n",
    "        )} \n",
    "            colnames(all_iters)  <-  seq(1,dim(all_iters)[2])\n",
    "#             all_types[[l]]  <- t(all_iters)\n",
    "            all_hi[[m]]  <- t(all_iters)\n",
    "            }\n",
    "            all_types[[l]]  <- all_hi   \n",
    "}\n",
    "all_countries[[j]]  <-  all_types\n",
    "}"
   ]
  },
  {
   "cell_type": "code",
   "execution_count": 22,
   "metadata": {},
   "outputs": [
    {
     "data": {},
     "metadata": {},
     "output_type": "display_data"
    },
    {
     "data": {
      "image/png": "[encoded data removed]",
      "text/plain": [
       "plot without title"
      ]
     },
     "metadata": {},
     "output_type": "display_data"
    }
   ],
   "source": [
    "rows_top  <-  all_countries[[var_country]][[1]][[var_iter]][ var_coef , ]\n",
    "rows_countries  <-  all_countries[[var_country]][[2]][[var_iter]][ 2:dim(all_countries[[var_country]][[2]][[var_iter]])[1] , ]\n",
    "rows_types  <-     all_countries[[var_country]][[3]][[var_iter]][ 2:dim(all_countries[[var_country]][[3]][[var_iter]])[1] , ]\n",
    "rows_clusters  <-  all_countries[[var_country]][[4]][[var_iter]][ 2:dim(all_countries[[var_country]][[4]][[var_iter]])[1] , ]\n",
    "rows  <-  all_countries[[var_country]][[1]][[var_iter]][ (var_off_rus+1):dim(all_countries[[var_country]][[1]][[var_iter]])[1] , ]\n",
    "\n",
    "rows  <- as.data.frame(rows)\n",
    "rows_countries  <- as.data.frame(rows_countries)\n",
    "\n",
    "ggplot(rows, aes(x=rows[,var_coef]) ) + geom_histogram(bins = 50) + \n",
    "    geom_vline(aes(xintercept=rows_top[[var_coef]]), color=\"red\") #+\n",
    "#     geom_vline(xintercept=rows_countries[,1], color=\"yellow\") +\n",
    "#     geom_vline(xintercept=rows_types[,1], color=\"green\") +\n",
    "#     geom_vline(xintercept=rows_clusters[,1], color=\"blue\") "
   ]
  },
  {
   "cell_type": "code",
   "execution_count": 289,
   "metadata": {},
   "outputs": [
    {
     "data": {},
     "metadata": {},
     "output_type": "display_data"
    },
    {
     "data": {
      "image/png": "[encoded data removed]",
      "text/plain": [
       "plot without title"
      ]
     },
     "metadata": {},
     "output_type": "display_data"
    }
   ],
   "source": [
    "var_country  <-  2\n",
    "var_type  <- 3\n",
    "var_iter  <- 5\n",
    "var_coef  <- 1\n",
    "rows_top  <-  all_countries[[var_country]][[1]][[var_iter]][ var_coef , ]\n",
    "rows_countries  <-  all_countries[[var_country]][[2]][[var_iter]][ 2:dim(all_countries[[var_country]][[2]][[var_iter]])[1] , ]\n",
    "rows_types  <-     all_countries[[var_country]][[3]][[var_iter]][ 2:dim(all_countries[[var_country]][[3]][[var_iter]])[1] , ]\n",
    "rows_clusters  <-  all_countries[[var_country]][[4]][[var_iter]][ 2:dim(all_countries[[var_country]][[4]][[var_iter]])[1] , ]\n",
    "rows  <-  all_countries[[var_country]][[1]][[var_iter]][ (var_off_rus+1):dim(all_countries[[var_country]][[1]][[var_iter]])[1] , ]\n",
    "\n",
    "rows  <- as.data.frame(rows)\n",
    "rows_countries  <- as.data.frame(rows_countries)\n",
    "\n",
    "ggplot(rows, aes(x=rows[,var_coef]) ) + geom_histogram(bins = 50) + \n",
    "    geom_vline(aes(xintercept=rows_top[[var_coef]]), color=\"red\") #+\n",
    "#     geom_vline(xintercept=rows_countries[,1], color=\"yellow\") +\n",
    "#     geom_vline(xintercept=rows_types[,1], color=\"green\") +\n",
    "#     geom_vline(xintercept=rows_clusters[,1], color=\"blue\")"
   ]
  },
  {
   "cell_type": "code",
   "execution_count": 290,
   "metadata": {},
   "outputs": [
    {
     "data": {},
     "metadata": {},
     "output_type": "display_data"
    },
    {
     "data": {
      "image/png": "[encoded data removed]",
      "text/plain": [
       "plot without title"
      ]
     },
     "metadata": {},
     "output_type": "display_data"
    }
   ],
   "source": [
    "var_country  <-  3\n",
    "var_type  <- 3\n",
    "var_iter  <- 5\n",
    "var_coef  <- 1\n",
    "rows_top  <-  all_countries[[var_country]][[1]][[var_iter]][ var_coef , ]\n",
    "rows_countries  <-  all_countries[[var_country]][[2]][[var_iter]][ 2:dim(all_countries[[var_country]][[2]][[var_iter]])[1] , ]\n",
    "rows_types  <-     all_countries[[var_country]][[3]][[var_iter]][ 2:dim(all_countries[[var_country]][[3]][[var_iter]])[1] , ]\n",
    "rows_clusters  <-  all_countries[[var_country]][[4]][[var_iter]][ 2:dim(all_countries[[var_country]][[4]][[var_iter]])[1] , ]\n",
    "rows  <-  all_countries[[var_country]][[1]][[var_iter]][ (var_off_rus+1):dim(all_countries[[var_country]][[1]][[var_iter]])[1] , ]\n",
    "\n",
    "rows  <- as.data.frame(rows)\n",
    "rows_countries  <- as.data.frame(rows_countries)\n",
    "\n",
    "ggplot(rows, aes(x=rows[,var_coef]) ) + geom_histogram(bins = 50) + \n",
    "    geom_vline(aes(xintercept=rows_top[[var_coef]]), color=\"red\") #+\n",
    "#     geom_vline(xintercept=rows_countries[,1], color=\"yellow\") +\n",
    "#     geom_vline(xintercept=rows_types[,1], color=\"green\") +\n",
    "#     geom_vline(xintercept=rows_clusters[,1], color=\"blue\") "
   ]
  }
 ],
 "metadata": {
  "kernelspec": {
   "display_name": "R 3.5.1",
   "language": "R",
   "name": "ir"
  },
  "language_info": {
   "codemirror_mode": "r",
   "file_extension": ".r",
   "mimetype": "text/x-r-source",
   "name": "R",
   "pygments_lexer": "r",
   "version": "3.5.2"
  }
 },
 "nbformat": 4,
 "nbformat_minor": 2
}
