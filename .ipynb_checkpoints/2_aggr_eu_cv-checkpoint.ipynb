{
 "cells": [
  {
   "cell_type": "markdown",
   "metadata": {},
   "source": [
    "### 2. Выбор модели для прогнозирования ВВП ЕС"
   ]
  },
  {
   "cell_type": "markdown",
   "metadata": {},
   "source": [
    "### Проверка\n",
    "\n",
    "- [RMSFE](https://otexts.com/fpp2/accuracy.html) \n",
    "- [Methods used in M3](https://www.sciencedirect.com/science/article/pii/S0169207006000239)\n",
    "- [Regression and time series model selection in small samples](https://www.stat.berkeley.edu/~binyu/summer08/Hurvich.AICc.pdf): KL information\n",
    "\n",
    "\n",
    "10% наблюдений\n",
    "\n",
    "- rus: прогноз на 1/2 \n",
    "- eu/us: прогноз на 4/8\n",
    "\n",
    "\n",
    "- eu - каждое 4, зависимость точности вычислений и метода для рядов разной длины?"
   ]
  },
  {
   "cell_type": "code",
   "execution_count": 18,
   "metadata": {},
   "outputs": [],
   "source": [
    "library(forecast)\n",
    "library(ggplot2)\n",
    "library(dplyr)"
   ]
  },
  {
   "cell_type": "markdown",
   "metadata": {},
   "source": [
    "\n",
    "## Aggregated TS"
   ]
  },
  {
   "cell_type": "code",
   "execution_count": 19,
   "metadata": {},
   "outputs": [],
   "source": [
    "df_eu  <-  read.csv(file=\"hts_eu_a10.csv\", header=TRUE, sep=\",\", row.names =1 )"
   ]
  },
  {
   "cell_type": "code",
   "execution_count": 23,
   "metadata": {},
   "outputs": [],
   "source": [
    "gdp_agg <- df_eu_sums <-  rowSums(df_eu)\n",
    "gdp_agg  <- ts(gdp_agg, frequency = 4, start = 2000) "
   ]
  },
  {
   "cell_type": "code",
   "execution_count": 24,
   "metadata": {},
   "outputs": [],
   "source": [
    "train <- window(gdp_agg, end=c(2016,4))\n",
    "test <- window(gdp_agg, start=c(2017,1))"
   ]
  },
  {
   "cell_type": "markdown",
   "metadata": {},
   "source": [
    "#### Модель 0: RW with drift\n",
    "\n",
    "The random walk with drift model is\n",
    "\n",
    "$$Y_t=c + Y_{t-1} + Z_t$$\n",
    "\n",
    "``rwf(y, h, drift=TRUE)``"
   ]
  },
  {
   "cell_type": "markdown",
   "metadata": {},
   "source": [
    "#### Модель 1: Theta\n",
    "\n",
    "``library(foreast)``\n",
    "\n",
    "Equivalent to simple exponential smoothing with drift \n",
    "\n",
    "$\\sim$ ETS(AAdN)"
   ]
  },
  {
   "cell_type": "code",
   "execution_count": 29,
   "metadata": {},
   "outputs": [],
   "source": [
    "gdp_rwf <- rwf(train,h=7)\n",
    "gdp_rwfwd <- rwf(train,h=7, drift=TRUE)\n",
    "gdp_snaive  <- snaive(train,h=7)\n",
    "gdp_theta  <- thetaf(train, h=7)\n",
    "gdp_arima  <- forecast(Arima(train, order=c(3,1,0), seasonal=c(3,1,0)), h=7)\n",
    "gdp_auto_arima  <- forecast(auto.arima(train, stationary = FALSE, seasonal = TRUE, lambda=\"auto\"), h=7)\n",
    "gdp_ets <- forecast(ets(train), h=7)"
   ]
  },
  {
   "cell_type": "code",
   "execution_count": 30,
   "metadata": {},
   "outputs": [
    {
     "name": "stdout",
     "output_type": "stream",
     "text": [
      "RW"
     ]
    },
    {
     "data": {
      "text/html": [
       "<table>\n",
       "<thead><tr><th></th><th scope=col>RMSE</th><th scope=col>MAPE</th><th scope=col>ACF1</th><th scope=col>Theil's U</th></tr></thead>\n",
       "<tbody>\n",
       "\t<tr><th scope=row>Training set</th><td> 61957.82 </td><td>1.882082  </td><td>-0.4830031</td><td>      NA  </td></tr>\n",
       "\t<tr><th scope=row>Test set</th><td>100924.98 </td><td>2.517203  </td><td> 0.2892763</td><td>1.698108  </td></tr>\n",
       "</tbody>\n",
       "</table>\n"
      ],
      "text/latex": [
       "\\begin{tabular}{r|llll}\n",
       "  & RMSE & MAPE & ACF1 & Theil's U\\\\\n",
       "\\hline\n",
       "\tTraining set &  61957.82  & 1.882082   & -0.4830031 &       NA  \\\\\n",
       "\tTest set & 100924.98  & 2.517203   &  0.2892763 & 1.698108  \\\\\n",
       "\\end{tabular}\n"
      ],
      "text/markdown": [
       "\n",
       "| <!--/--> | RMSE | MAPE | ACF1 | Theil's U | \n",
       "|---|---|\n",
       "| Training set |  61957.82  | 1.882082   | -0.4830031 |       NA   | \n",
       "| Test set | 100924.98  | 2.517203   |  0.2892763 | 1.698108   | \n",
       "\n",
       "\n"
      ],
      "text/plain": [
       "             RMSE      MAPE     ACF1       Theil's U\n",
       "Training set  61957.82 1.882082 -0.4830031       NA \n",
       "Test set     100924.98 2.517203  0.2892763 1.698108 "
      ]
     },
     "metadata": {},
     "output_type": "display_data"
    },
    {
     "name": "stdout",
     "output_type": "stream",
     "text": [
      "RW with drift "
     ]
    },
    {
     "data": {
      "text/html": [
       "<table>\n",
       "<thead><tr><th></th><th scope=col>RMSE</th><th scope=col>MAPE</th><th scope=col>ACF1</th><th scope=col>Theil's U</th></tr></thead>\n",
       "<tbody>\n",
       "\t<tr><th scope=row>Training set</th><td>58849.27  </td><td>1.7150060 </td><td>-0.4830031</td><td>       NA </td></tr>\n",
       "\t<tr><th scope=row>Test set</th><td>34776.71  </td><td>0.8161775 </td><td>-0.3038002</td><td>0.4691468 </td></tr>\n",
       "</tbody>\n",
       "</table>\n"
      ],
      "text/latex": [
       "\\begin{tabular}{r|llll}\n",
       "  & RMSE & MAPE & ACF1 & Theil's U\\\\\n",
       "\\hline\n",
       "\tTraining set & 58849.27   & 1.7150060  & -0.4830031 &        NA \\\\\n",
       "\tTest set & 34776.71   & 0.8161775  & -0.3038002 & 0.4691468 \\\\\n",
       "\\end{tabular}\n"
      ],
      "text/markdown": [
       "\n",
       "| <!--/--> | RMSE | MAPE | ACF1 | Theil's U | \n",
       "|---|---|\n",
       "| Training set | 58849.27   | 1.7150060  | -0.4830031 |        NA  | \n",
       "| Test set | 34776.71   | 0.8161775  | -0.3038002 | 0.4691468  | \n",
       "\n",
       "\n"
      ],
      "text/plain": [
       "             RMSE     MAPE      ACF1       Theil's U\n",
       "Training set 58849.27 1.7150060 -0.4830031        NA\n",
       "Test set     34776.71 0.8161775 -0.3038002 0.4691468"
      ]
     },
     "metadata": {},
     "output_type": "display_data"
    },
    {
     "name": "stdout",
     "output_type": "stream",
     "text": [
      "SNaive"
     ]
    },
    {
     "data": {
      "text/html": [
       "<table>\n",
       "<thead><tr><th></th><th scope=col>RMSE</th><th scope=col>MAPE</th><th scope=col>ACF1</th><th scope=col>Theil's U</th></tr></thead>\n",
       "<tbody>\n",
       "\t<tr><th scope=row>Training set</th><td>108505.4 </td><td>3.463232 </td><td>0.8651959</td><td>      NA </td></tr>\n",
       "\t<tr><th scope=row>Test set</th><td>146043.7 </td><td>3.858363 </td><td>0.5407384</td><td>2.451424 </td></tr>\n",
       "</tbody>\n",
       "</table>\n"
      ],
      "text/latex": [
       "\\begin{tabular}{r|llll}\n",
       "  & RMSE & MAPE & ACF1 & Theil's U\\\\\n",
       "\\hline\n",
       "\tTraining set & 108505.4  & 3.463232  & 0.8651959 &       NA \\\\\n",
       "\tTest set & 146043.7  & 3.858363  & 0.5407384 & 2.451424 \\\\\n",
       "\\end{tabular}\n"
      ],
      "text/markdown": [
       "\n",
       "| <!--/--> | RMSE | MAPE | ACF1 | Theil's U | \n",
       "|---|---|\n",
       "| Training set | 108505.4  | 3.463232  | 0.8651959 |       NA  | \n",
       "| Test set | 146043.7  | 3.858363  | 0.5407384 | 2.451424  | \n",
       "\n",
       "\n"
      ],
      "text/plain": [
       "             RMSE     MAPE     ACF1      Theil's U\n",
       "Training set 108505.4 3.463232 0.8651959       NA \n",
       "Test set     146043.7 3.858363 0.5407384 2.451424 "
      ]
     },
     "metadata": {},
     "output_type": "display_data"
    },
    {
     "name": "stdout",
     "output_type": "stream",
     "text": [
      "Theta"
     ]
    },
    {
     "data": {
      "text/html": [
       "<table>\n",
       "<thead><tr><th></th><th scope=col>RMSE</th><th scope=col>MAPE</th><th scope=col>ACF1</th><th scope=col>Theil's U</th></tr></thead>\n",
       "<tbody>\n",
       "\t<tr><th scope=row>Training set</th><td> 35986.47</td><td>1.041397 </td><td>0.3294760</td><td>      NA </td></tr>\n",
       "\t<tr><th scope=row>Test set</th><td>109496.60</td><td>2.960996 </td><td>0.6189463</td><td>1.829338 </td></tr>\n",
       "</tbody>\n",
       "</table>\n"
      ],
      "text/latex": [
       "\\begin{tabular}{r|llll}\n",
       "  & RMSE & MAPE & ACF1 & Theil's U\\\\\n",
       "\\hline\n",
       "\tTraining set &  35986.47 & 1.041397  & 0.3294760 &       NA \\\\\n",
       "\tTest set & 109496.60 & 2.960996  & 0.6189463 & 1.829338 \\\\\n",
       "\\end{tabular}\n"
      ],
      "text/markdown": [
       "\n",
       "| <!--/--> | RMSE | MAPE | ACF1 | Theil's U | \n",
       "|---|---|\n",
       "| Training set |  35986.47 | 1.041397  | 0.3294760 |       NA  | \n",
       "| Test set | 109496.60 | 2.960996  | 0.6189463 | 1.829338  | \n",
       "\n",
       "\n"
      ],
      "text/plain": [
       "             RMSE      MAPE     ACF1      Theil's U\n",
       "Training set  35986.47 1.041397 0.3294760       NA \n",
       "Test set     109496.60 2.960996 0.6189463 1.829338 "
      ]
     },
     "metadata": {},
     "output_type": "display_data"
    },
    {
     "name": "stdout",
     "output_type": "stream",
     "text": [
      "ARIMA"
     ]
    },
    {
     "data": {
      "text/html": [
       "<table>\n",
       "<thead><tr><th></th><th scope=col>RMSE</th><th scope=col>MAPE</th><th scope=col>ACF1</th><th scope=col>Theil's U</th></tr></thead>\n",
       "<tbody>\n",
       "\t<tr><th scope=row>Training set</th><td>26098.09    </td><td>0.644872    </td><td>-0.009179265</td><td>      NA    </td></tr>\n",
       "\t<tr><th scope=row>Test set</th><td>73731.22    </td><td>2.087809    </td><td> 0.428303763</td><td>1.215612    </td></tr>\n",
       "</tbody>\n",
       "</table>\n"
      ],
      "text/latex": [
       "\\begin{tabular}{r|llll}\n",
       "  & RMSE & MAPE & ACF1 & Theil's U\\\\\n",
       "\\hline\n",
       "\tTraining set & 26098.09     & 0.644872     & -0.009179265 &       NA    \\\\\n",
       "\tTest set & 73731.22     & 2.087809     &  0.428303763 & 1.215612    \\\\\n",
       "\\end{tabular}\n"
      ],
      "text/markdown": [
       "\n",
       "| <!--/--> | RMSE | MAPE | ACF1 | Theil's U | \n",
       "|---|---|\n",
       "| Training set | 26098.09     | 0.644872     | -0.009179265 |       NA     | \n",
       "| Test set | 73731.22     | 2.087809     |  0.428303763 | 1.215612     | \n",
       "\n",
       "\n"
      ],
      "text/plain": [
       "             RMSE     MAPE     ACF1         Theil's U\n",
       "Training set 26098.09 0.644872 -0.009179265       NA \n",
       "Test set     73731.22 2.087809  0.428303763 1.215612 "
      ]
     },
     "metadata": {},
     "output_type": "display_data"
    },
    {
     "name": "stdout",
     "output_type": "stream",
     "text": [
      "Auto ARIMA"
     ]
    },
    {
     "data": {
      "text/html": [
       "<table>\n",
       "<thead><tr><th></th><th scope=col>RMSE</th><th scope=col>MAPE</th><th scope=col>ACF1</th><th scope=col>Theil's U</th></tr></thead>\n",
       "<tbody>\n",
       "\t<tr><th scope=row>Training set</th><td>26037.71  </td><td>0.7036918 </td><td>0.01152308</td><td>      NA  </td></tr>\n",
       "\t<tr><th scope=row>Test set</th><td>71543.72  </td><td>2.0273982 </td><td>0.34491357</td><td>1.179147  </td></tr>\n",
       "</tbody>\n",
       "</table>\n"
      ],
      "text/latex": [
       "\\begin{tabular}{r|llll}\n",
       "  & RMSE & MAPE & ACF1 & Theil's U\\\\\n",
       "\\hline\n",
       "\tTraining set & 26037.71   & 0.7036918  & 0.01152308 &       NA  \\\\\n",
       "\tTest set & 71543.72   & 2.0273982  & 0.34491357 & 1.179147  \\\\\n",
       "\\end{tabular}\n"
      ],
      "text/markdown": [
       "\n",
       "| <!--/--> | RMSE | MAPE | ACF1 | Theil's U | \n",
       "|---|---|\n",
       "| Training set | 26037.71   | 0.7036918  | 0.01152308 |       NA   | \n",
       "| Test set | 71543.72   | 2.0273982  | 0.34491357 | 1.179147   | \n",
       "\n",
       "\n"
      ],
      "text/plain": [
       "             RMSE     MAPE      ACF1       Theil's U\n",
       "Training set 26037.71 0.7036918 0.01152308       NA \n",
       "Test set     71543.72 2.0273982 0.34491357 1.179147 "
      ]
     },
     "metadata": {},
     "output_type": "display_data"
    },
    {
     "name": "stdout",
     "output_type": "stream",
     "text": [
      "ETS"
     ]
    },
    {
     "data": {
      "text/html": [
       "<table>\n",
       "<thead><tr><th></th><th scope=col>RMSE</th><th scope=col>MAPE</th><th scope=col>ACF1</th><th scope=col>Theil's U</th></tr></thead>\n",
       "<tbody>\n",
       "\t<tr><th scope=row>Training set</th><td> 26248.54 </td><td>0.7079164 </td><td>0.02269934</td><td>     NA   </td></tr>\n",
       "\t<tr><th scope=row>Test set</th><td>115786.51 </td><td>3.0346545 </td><td>0.58515778</td><td>1.95051   </td></tr>\n",
       "</tbody>\n",
       "</table>\n"
      ],
      "text/latex": [
       "\\begin{tabular}{r|llll}\n",
       "  & RMSE & MAPE & ACF1 & Theil's U\\\\\n",
       "\\hline\n",
       "\tTraining set &  26248.54  & 0.7079164  & 0.02269934 &      NA   \\\\\n",
       "\tTest set & 115786.51  & 3.0346545  & 0.58515778 & 1.95051   \\\\\n",
       "\\end{tabular}\n"
      ],
      "text/markdown": [
       "\n",
       "| <!--/--> | RMSE | MAPE | ACF1 | Theil's U | \n",
       "|---|---|\n",
       "| Training set |  26248.54  | 0.7079164  | 0.02269934 |      NA    | \n",
       "| Test set | 115786.51  | 3.0346545  | 0.58515778 | 1.95051    | \n",
       "\n",
       "\n"
      ],
      "text/plain": [
       "             RMSE      MAPE      ACF1       Theil's U\n",
       "Training set  26248.54 0.7079164 0.02269934      NA  \n",
       "Test set     115786.51 3.0346545 0.58515778 1.95051  "
      ]
     },
     "metadata": {},
     "output_type": "display_data"
    }
   ],
   "source": [
    "cat(\"RW\")\n",
    "accuracy(gdp_rwf, test)[, c(2,5,7,8)]\n",
    "cat(\"RW with drift \")\n",
    "accuracy(gdp_rwfwd, test)[, c(2,5,7,8)]\n",
    "cat(\"SNaive\")\n",
    "accuracy(gdp_snaive, test)[, c(2,5,7,8)]\n",
    "cat(\"Theta\")\n",
    "accuracy(gdp_theta, test)[, c(2,5,7,8)]\n",
    "cat(\"ARIMA\")\n",
    "accuracy(gdp_arima, test)[, c(2,5,7,8)]\n",
    "cat(\"Auto ARIMA\")\n",
    "accuracy(gdp_auto_arima, test)[, c(2,5,7,8)]\n",
    "cat(\"ETS\")\n",
    "accuracy(gdp_ets, test)[, c(2,5,7,8)]"
   ]
  },
  {
   "cell_type": "code",
   "execution_count": 31,
   "metadata": {},
   "outputs": [
    {
     "data": {},
     "metadata": {},
     "output_type": "display_data"
    },
    {
     "data": {
      "image/png": "[encoded data removed]",
      "text/plain": [
       "plot without title"
      ]
     },
     "metadata": {},
     "output_type": "display_data"
    }
   ],
   "source": [
    "autoplot(window(gdp_agg, start=2012)) +\n",
    "    autolayer(gdp_rwf, series=\"RW\", PI=FALSE) +\n",
    "    autolayer(gdp_rwfwd, series=\"RW with drift\", PI=FALSE) +\n",
    "    autolayer(gdp_snaive, series=\"SNaive\", PI=FALSE) +\n",
    "    autolayer(gdp_theta, series=\"Theta Method\", PI=FALSE) +\n",
    "    autolayer(gdp_arima, series=\"ARIMA\", PI=FALSE) +\n",
    "    autolayer(gdp_auto_arima, series=\"Auto ARIMA\", PI=FALSE) +\n",
    "    autolayer(gdp_ets, series=\"ETS\", PI=FALSE) +\n",
    "    xlab(\"Year\") + ylab(\"Mln. Euro\") +\n",
    "    ggtitle(\"Модель 0, 00\") +\n",
    "    guides(colour=guide_legend(title=\"Forecast\")) +\n",
    "    theme(aspect.ratio = 0.75)"
   ]
  },
  {
   "cell_type": "markdown",
   "metadata": {},
   "source": [
    "### tsCV()"
   ]
  },
  {
   "cell_type": "code",
   "execution_count": 89,
   "metadata": {},
   "outputs": [
    {
     "data": {
      "text/html": [
       "109830.210410896"
      ],
      "text/latex": [
       "109830.210410896"
      ],
      "text/markdown": [
       "109830.210410896"
      ],
      "text/plain": [
       "[1] 109830.2"
      ]
     },
     "metadata": {},
     "output_type": "display_data"
    }
   ],
   "source": [
    "gdp_rwf_cv <- function(x, h){rwf(x,h=h)}\n",
    "e_rwf  <-  tsCV(gdp_agg, gdp_rwf_cv, h=7, window=40)[40:68,]\n",
    "sqrt(mean(e_rwf^2, na.rm=TRUE))"
   ]
  },
  {
   "cell_type": "code",
   "execution_count": 90,
   "metadata": {},
   "outputs": [
    {
     "data": {
      "text/html": [
       "69499.5688876076"
      ],
      "text/latex": [
       "69499.5688876076"
      ],
      "text/markdown": [
       "69499.5688876076"
      ],
      "text/plain": [
       "[1] 69499.57"
      ]
     },
     "metadata": {},
     "output_type": "display_data"
    }
   ],
   "source": [
    "gdp_rwfwd_cv <- function(x, h){rwf(x,h=h, drift=TRUE)}\n",
    "e_rwfwd  <-  tsCV(gdp_agg, gdp_rwfwd_cv, h=7, window=40)[40:68,]\n",
    "sqrt(mean(e_rwfwd^2, na.rm=TRUE))"
   ]
  },
  {
   "cell_type": "code",
   "execution_count": 91,
   "metadata": {},
   "outputs": [
    {
     "data": {
      "text/html": [
       "133383.708051683"
      ],
      "text/latex": [
       "133383.708051683"
      ],
      "text/markdown": [
       "133383.708051683"
      ],
      "text/plain": [
       "[1] 133383.7"
      ]
     },
     "metadata": {},
     "output_type": "display_data"
    }
   ],
   "source": [
    "gdp_snaive_cv <- function(x, h){snaive(x,h=h)}\n",
    "e_snaive  <-  tsCV(gdp_agg, gdp_snaive_cv, h=7, window=40)[40:68,]\n",
    "sqrt(mean(e_snaive^2, na.rm=TRUE))"
   ]
  },
  {
   "cell_type": "code",
   "execution_count": 92,
   "metadata": {},
   "outputs": [
    {
     "data": {
      "text/html": [
       "82904.0728796307"
      ],
      "text/latex": [
       "82904.0728796307"
      ],
      "text/markdown": [
       "82904.0728796307"
      ],
      "text/plain": [
       "[1] 82904.07"
      ]
     },
     "metadata": {},
     "output_type": "display_data"
    }
   ],
   "source": [
    "gdp_theta_cv <- function(x, h){thetaf(x, h=h)}\n",
    "e_theta  <-  tsCV(gdp_agg, gdp_theta_cv, h=7, window=40)[40:68,]\n",
    "sqrt(mean(e_theta^2, na.rm=TRUE))"
   ]
  },
  {
   "cell_type": "code",
   "execution_count": 93,
   "metadata": {},
   "outputs": [
    {
     "data": {
      "text/html": [
       "89977.8967551398"
      ],
      "text/latex": [
       "89977.8967551398"
      ],
      "text/markdown": [
       "89977.8967551398"
      ],
      "text/plain": [
       "[1] 89977.9"
      ]
     },
     "metadata": {},
     "output_type": "display_data"
    }
   ],
   "source": [
    "gdp_arima_cv <- function(x, h){forecast(Arima(x, order=c(2,1,2), seasonal=c(2,1,2)), h=h)}\n",
    "e_arima  <-  tsCV(gdp_agg, gdp_arima_cv, h=7, window=40)[40:68,]\n",
    "sqrt(mean(e_arima^2, na.rm=TRUE))"
   ]
  },
  {
   "cell_type": "code",
   "execution_count": 129,
   "metadata": {},
   "outputs": [
    {
     "data": {
      "text/html": [
       "81632.0574651191"
      ],
      "text/latex": [
       "81632.0574651191"
      ],
      "text/markdown": [
       "81632.0574651191"
      ],
      "text/plain": [
       "[1] 81632.06"
      ]
     },
     "metadata": {},
     "output_type": "display_data"
    }
   ],
   "source": [
    "gdp_arima_cv <- function(x, h){forecast(Arima(x, order=c(3,1,0), seasonal=c(3,1,0)), h=h)}\n",
    "e_arima  <-  tsCV(gdp_agg, gdp_arima_cv, h=7, window=40)[40:68,]\n",
    "sqrt(mean(e_arima^2, na.rm=TRUE))"
   ]
  },
  {
   "cell_type": "code",
   "execution_count": 141,
   "metadata": {},
   "outputs": [
    {
     "data": {
      "text/html": [
       "70020.4838961491"
      ],
      "text/latex": [
       "70020.4838961491"
      ],
      "text/markdown": [
       "70020.4838961491"
      ],
      "text/plain": [
       "[1] 70020.48"
      ]
     },
     "metadata": {},
     "output_type": "display_data"
    }
   ],
   "source": [
    "gdp_arima_cv <- function(x, h){forecast(Arima(x, order=c(3,0,0), seasonal=c(2,0,0), include.drift = TRUE, include.constant\n",
    "= TRUE), h=h)}\n",
    "e_arima  <-  tsCV(gdp_agg, gdp_arima_cv, h=7, window=40)[40:68,]\n",
    "sqrt(mean(e_arima^2, na.rm=TRUE))"
   ]
  },
  {
   "cell_type": "code",
   "execution_count": 143,
   "metadata": {
    "scrolled": true
   },
   "outputs": [
    {
     "data": {
      "text/html": [
       "<pre class=language-r><code>function (y, forecastfunction, h = 1, window = NULL, xreg = NULL, \n",
       "<span style=white-space:pre-wrap>    initial = 0, ...) </span>\n",
       "{\n",
       "<span style=white-space:pre-wrap>    y &lt;- as.ts(y)</span>\n",
       "<span style=white-space:pre-wrap>    n &lt;- length(y)</span>\n",
       "<span style=white-space:pre-wrap>    e &lt;- ts(matrix(NA_real_, nrow = n, ncol = h))</span>\n",
       "<span style=white-space:pre-wrap>    if (initial &gt;= n) </span>\n",
       "<span style=white-space:pre-wrap>        stop(\"initial period too long\")</span>\n",
       "<span style=white-space:pre-wrap>    tsp(e) &lt;- tsp(y)</span>\n",
       "<span style=white-space:pre-wrap>    if (!is.null(xreg)) {</span>\n",
       "<span style=white-space:pre-wrap>        xreg &lt;- ts(as.matrix(xreg))</span>\n",
       "<span style=white-space:pre-wrap>        tsp(xreg) &lt;- tsp(y)</span>\n",
       "<span style=white-space:pre-wrap>    }</span>\n",
       "<span style=white-space:pre-wrap>    if (is.null(window)) </span>\n",
       "<span style=white-space:pre-wrap>        indx &lt;- seq(1 + initial, n - 1L)</span>\n",
       "<span style=white-space:pre-wrap>    else indx &lt;- seq(window + initial, n - 1L, by = 1L)</span>\n",
       "<span style=white-space:pre-wrap>    for (i in indx) {</span>\n",
       "<span style=white-space:pre-wrap>        y_subset &lt;- subset(y, start = ifelse(is.null(window), </span>\n",
       "<span style=white-space:pre-wrap>            1L, ifelse(i - window &gt;= 0L, i - window + 1L, stop(\"small window\"))), </span>\n",
       "<span style=white-space:pre-wrap>            end = i)</span>\n",
       "<span style=white-space:pre-wrap>        if (is.null(xreg)) {</span>\n",
       "<span style=white-space:pre-wrap>            fc &lt;- try(suppressWarnings(forecastfunction(y_subset, </span>\n",
       "<span style=white-space:pre-wrap>                h = h, ...)), silent = TRUE)</span>\n",
       "<span style=white-space:pre-wrap>        }</span>\n",
       "<span style=white-space:pre-wrap>        else {</span>\n",
       "<span style=white-space:pre-wrap>            xreg_subset &lt;- as.matrix(subset(xreg, start = ifelse(is.null(window), </span>\n",
       "<span style=white-space:pre-wrap>                1L, ifelse(i - window &gt;= 0L, i - window + 1L, </span>\n",
       "<span style=white-space:pre-wrap>                  stop(\"small window\")))))</span>\n",
       "<span style=white-space:pre-wrap>            fc &lt;- try(suppressWarnings(forecastfunction(y_subset, </span>\n",
       "<span style=white-space:pre-wrap>                h = h, xreg = xreg_subset, ...)), silent = TRUE)</span>\n",
       "<span style=white-space:pre-wrap>        }</span>\n",
       "<span style=white-space:pre-wrap>        if (!is.element(\"try-error\", class(fc))) {</span>\n",
       "<span style=white-space:pre-wrap>            e[i, ] &lt;- y[i + (1:h)] - fc$mean</span>\n",
       "<span style=white-space:pre-wrap>        }</span>\n",
       "<span style=white-space:pre-wrap>    }</span>\n",
       "<span style=white-space:pre-wrap>    if (h == 1) {</span>\n",
       "<span style=white-space:pre-wrap>        return(e[, 1L])</span>\n",
       "<span style=white-space:pre-wrap>    }</span>\n",
       "<span style=white-space:pre-wrap>    else {</span>\n",
       "<span style=white-space:pre-wrap>        colnames(e) &lt;- paste(\"h=\", 1:h, sep = \"\")</span>\n",
       "<span style=white-space:pre-wrap>        return(e)</span>\n",
       "<span style=white-space:pre-wrap>    }</span>\n",
       "}</code></pre>"
      ],
      "text/latex": [
       "\\begin{minted}{r}\n",
       "function (y, forecastfunction, h = 1, window = NULL, xreg = NULL, \n",
       "    initial = 0, ...) \n",
       "\\{\n",
       "    y <- as.ts(y)\n",
       "    n <- length(y)\n",
       "    e <- ts(matrix(NA\\_real\\_, nrow = n, ncol = h))\n",
       "    if (initial >= n) \n",
       "        stop(\"initial period too long\")\n",
       "    tsp(e) <- tsp(y)\n",
       "    if (!is.null(xreg)) \\{\n",
       "        xreg <- ts(as.matrix(xreg))\n",
       "        tsp(xreg) <- tsp(y)\n",
       "    \\}\n",
       "    if (is.null(window)) \n",
       "        indx <- seq(1 + initial, n - 1L)\n",
       "    else indx <- seq(window + initial, n - 1L, by = 1L)\n",
       "    for (i in indx) \\{\n",
       "        y\\_subset <- subset(y, start = ifelse(is.null(window), \n",
       "            1L, ifelse(i - window >= 0L, i - window + 1L, stop(\"small window\"))), \n",
       "            end = i)\n",
       "        if (is.null(xreg)) \\{\n",
       "            fc <- try(suppressWarnings(forecastfunction(y\\_subset, \n",
       "                h = h, ...)), silent = TRUE)\n",
       "        \\}\n",
       "        else \\{\n",
       "            xreg\\_subset <- as.matrix(subset(xreg, start = ifelse(is.null(window), \n",
       "                1L, ifelse(i - window >= 0L, i - window + 1L, \n",
       "                  stop(\"small window\")))))\n",
       "            fc <- try(suppressWarnings(forecastfunction(y\\_subset, \n",
       "                h = h, xreg = xreg\\_subset, ...)), silent = TRUE)\n",
       "        \\}\n",
       "        if (!is.element(\"try-error\", class(fc))) \\{\n",
       "            e{[}i, {]} <- y{[}i + (1:h){]} - fc\\$mean\n",
       "        \\}\n",
       "    \\}\n",
       "    if (h == 1) \\{\n",
       "        return(e{[}, 1L{]})\n",
       "    \\}\n",
       "    else \\{\n",
       "        colnames(e) <- paste(\"h=\", 1:h, sep = \"\")\n",
       "        return(e)\n",
       "    \\}\n",
       "\\}\n",
       "\\end{minted}"
      ],
      "text/markdown": [
       "```r\n",
       "function (y, forecastfunction, h = 1, window = NULL, xreg = NULL, \n",
       "    initial = 0, ...) \n",
       "{\n",
       "    y <- as.ts(y)\n",
       "    n <- length(y)\n",
       "    e <- ts(matrix(NA_real_, nrow = n, ncol = h))\n",
       "    if (initial >= n) \n",
       "        stop(\"initial period too long\")\n",
       "    tsp(e) <- tsp(y)\n",
       "    if (!is.null(xreg)) {\n",
       "        xreg <- ts(as.matrix(xreg))\n",
       "        tsp(xreg) <- tsp(y)\n",
       "    }\n",
       "    if (is.null(window)) \n",
       "        indx <- seq(1 + initial, n - 1L)\n",
       "    else indx <- seq(window + initial, n - 1L, by = 1L)\n",
       "    for (i in indx) {\n",
       "        y_subset <- subset(y, start = ifelse(is.null(window), \n",
       "            1L, ifelse(i - window >= 0L, i - window + 1L, stop(\"small window\"))), \n",
       "            end = i)\n",
       "        if (is.null(xreg)) {\n",
       "            fc <- try(suppressWarnings(forecastfunction(y_subset, \n",
       "                h = h, ...)), silent = TRUE)\n",
       "        }\n",
       "        else {\n",
       "            xreg_subset <- as.matrix(subset(xreg, start = ifelse(is.null(window), \n",
       "                1L, ifelse(i - window >= 0L, i - window + 1L, \n",
       "                  stop(\"small window\")))))\n",
       "            fc <- try(suppressWarnings(forecastfunction(y_subset, \n",
       "                h = h, xreg = xreg_subset, ...)), silent = TRUE)\n",
       "        }\n",
       "        if (!is.element(\"try-error\", class(fc))) {\n",
       "            e[i, ] <- y[i + (1:h)] - fc$mean\n",
       "        }\n",
       "    }\n",
       "    if (h == 1) {\n",
       "        return(e[, 1L])\n",
       "    }\n",
       "    else {\n",
       "        colnames(e) <- paste(\"h=\", 1:h, sep = \"\")\n",
       "        return(e)\n",
       "    }\n",
       "}\n",
       "```"
      ],
      "text/plain": [
       "function (y, forecastfunction, h = 1, window = NULL, xreg = NULL, \n",
       "    initial = 0, ...) \n",
       "{\n",
       "    y <- as.ts(y)\n",
       "    n <- length(y)\n",
       "    e <- ts(matrix(NA_real_, nrow = n, ncol = h))\n",
       "    if (initial >= n) \n",
       "        stop(\"initial period too long\")\n",
       "    tsp(e) <- tsp(y)\n",
       "    if (!is.null(xreg)) {\n",
       "        xreg <- ts(as.matrix(xreg))\n",
       "        tsp(xreg) <- tsp(y)\n",
       "    }\n",
       "    if (is.null(window)) \n",
       "        indx <- seq(1 + initial, n - 1L)\n",
       "    else indx <- seq(window + initial, n - 1L, by = 1L)\n",
       "    for (i in indx) {\n",
       "        y_subset <- subset(y, start = ifelse(is.null(window), \n",
       "            1L, ifelse(i - window >= 0L, i - window + 1L, stop(\"small window\"))), \n",
       "            end = i)\n",
       "        if (is.null(xreg)) {\n",
       "            fc <- try(suppressWarnings(forecastfunction(y_subset, \n",
       "                h = h, ...)), silent = TRUE)\n",
       "        }\n",
       "        else {\n",
       "            xreg_subset <- as.matrix(subset(xreg, start = ifelse(is.null(window), \n",
       "                1L, ifelse(i - window >= 0L, i - window + 1L, \n",
       "                  stop(\"small window\")))))\n",
       "            fc <- try(suppressWarnings(forecastfunction(y_subset, \n",
       "                h = h, xreg = xreg_subset, ...)), silent = TRUE)\n",
       "        }\n",
       "        if (!is.element(\"try-error\", class(fc))) {\n",
       "            e[i, ] <- y[i + (1:h)] - fc$mean\n",
       "        }\n",
       "    }\n",
       "    if (h == 1) {\n",
       "        return(e[, 1L])\n",
       "    }\n",
       "    else {\n",
       "        colnames(e) <- paste(\"h=\", 1:h, sep = \"\")\n",
       "        return(e)\n",
       "    }\n",
       "}\n",
       "<bytecode: 0x55cb51fea118>\n",
       "<environment: namespace:forecast>"
      ]
     },
     "metadata": {},
     "output_type": "display_data"
    }
   ],
   "source": [
    "tsCV"
   ]
  },
  {
   "cell_type": "code",
   "execution_count": 94,
   "metadata": {},
   "outputs": [
    {
     "data": {
      "text/html": [
       "634321.153055466"
      ],
      "text/latex": [
       "634321.153055466"
      ],
      "text/markdown": [
       "634321.153055466"
      ],
      "text/plain": [
       "[1] 634321.2"
      ]
     },
     "metadata": {},
     "output_type": "display_data"
    }
   ],
   "source": [
    "gdp_auto_arima_cv <- function(x, h){forecast(auto.arima(x, stationary = FALSE, seasonal = TRUE, lambda=\"auto\"), h=h)}\n",
    "e_auto_arima  <-  tsCV(gdp_agg, gdp_auto_arima_cv, h=7, window=40)[40:68,]\n",
    "sqrt(mean(e_auto_arima^2, na.rm=TRUE))"
   ]
  },
  {
   "cell_type": "code",
   "execution_count": 103,
   "metadata": {},
   "outputs": [
    {
     "data": {
      "text/plain": [
       "Series: gdp_agg[12:52] \n",
       "ARIMA(0,1,0) \n",
       "Box Cox transformation: lambda= 1.999924 \n",
       "\n",
       "sigma^2 estimated as 3.004e+22:  log likelihood=-1091.89\n",
       "AIC=2185.79   AICc=2185.89   BIC=2187.48"
      ]
     },
     "metadata": {},
     "output_type": "display_data"
    }
   ],
   "source": [
    "auto.arima(gdp_agg[12:52], stationary = FALSE, seasonal = TRUE, lambda=\"auto\")"
   ]
  },
  {
   "cell_type": "code",
   "execution_count": 118,
   "metadata": {},
   "outputs": [],
   "source": [
    "aa  <- forecast(auto.arima(gdp_agg[12:52], stationary = FALSE, seasonal = TRUE, lambda=\"auto\"), h=7)"
   ]
  },
  {
   "cell_type": "code",
   "execution_count": 127,
   "metadata": {},
   "outputs": [
    {
     "data": {
      "text/html": [
       "<dl class=dl-horizontal>\n",
       "\t<dt>2013-01-01</dt>\n",
       "\t\t<dd>2977964.98333333</dd>\n",
       "\t<dt>2013-04-01</dt>\n",
       "\t\t<dd>3035742.23333333</dd>\n",
       "\t<dt>2013-07-01</dt>\n",
       "\t\t<dd>3044227.3</dd>\n",
       "\t<dt>2013-10-01</dt>\n",
       "\t\t<dd>3122904.5</dd>\n",
       "\t<dt>2014-01-01</dt>\n",
       "\t\t<dd>3072483.68333333</dd>\n",
       "\t<dt>2014-04-01</dt>\n",
       "\t\t<dd>3133907.11666667</dd>\n",
       "\t<dt>2014-07-01</dt>\n",
       "\t\t<dd>3160757.2</dd>\n",
       "\t<dt>2014-10-01</dt>\n",
       "\t\t<dd>3236918.3</dd>\n",
       "</dl>\n"
      ],
      "text/latex": [
       "\\begin{description*}\n",
       "\\item[2013-01-01] 2977964.98333333\n",
       "\\item[2013-04-01] 3035742.23333333\n",
       "\\item[2013-07-01] 3044227.3\n",
       "\\item[2013-10-01] 3122904.5\n",
       "\\item[2014-01-01] 3072483.68333333\n",
       "\\item[2014-04-01] 3133907.11666667\n",
       "\\item[2014-07-01] 3160757.2\n",
       "\\item[2014-10-01] 3236918.3\n",
       "\\end{description*}\n"
      ],
      "text/markdown": [
       "2013-01-01\n",
       ":   2977964.983333332013-04-01\n",
       ":   3035742.233333332013-07-01\n",
       ":   3044227.32013-10-01\n",
       ":   3122904.52014-01-01\n",
       ":   3072483.683333332014-04-01\n",
       ":   3133907.116666672014-07-01\n",
       ":   3160757.22014-10-01\n",
       ":   3236918.3\n",
       "\n"
      ],
      "text/plain": [
       "2013-01-01 2013-04-01 2013-07-01 2013-10-01 2014-01-01 2014-04-01 2014-07-01 \n",
       "   2977965    3035742    3044227    3122904    3072484    3133907    3160757 \n",
       "2014-10-01 \n",
       "   3236918 "
      ]
     },
     "metadata": {},
     "output_type": "display_data"
    }
   ],
   "source": [
    "gdp_agg[53:60]"
   ]
  },
  {
   "cell_type": "code",
   "execution_count": 128,
   "metadata": {},
   "outputs": [
    {
     "data": {
      "text/html": [
       "<table>\n",
       "<thead><tr><th></th><th scope=col>ME</th><th scope=col>RMSE</th><th scope=col>MAE</th><th scope=col>MPE</th><th scope=col>MAPE</th></tr></thead>\n",
       "<tbody>\n",
       "\t<tr><th scope=row>Test set</th><td>2584.026  </td><td>59762.27  </td><td>51835.78  </td><td>0.04617924</td><td>1.685234  </td></tr>\n",
       "</tbody>\n",
       "</table>\n"
      ],
      "text/latex": [
       "\\begin{tabular}{r|lllll}\n",
       "  & ME & RMSE & MAE & MPE & MAPE\\\\\n",
       "\\hline\n",
       "\tTest set & 2584.026   & 59762.27   & 51835.78   & 0.04617924 & 1.685234  \\\\\n",
       "\\end{tabular}\n"
      ],
      "text/markdown": [
       "\n",
       "| <!--/--> | ME | RMSE | MAE | MPE | MAPE | \n",
       "|---|\n",
       "| Test set | 2584.026   | 59762.27   | 51835.78   | 0.04617924 | 1.685234   | \n",
       "\n",
       "\n"
      ],
      "text/plain": [
       "         ME       RMSE     MAE      MPE        MAPE    \n",
       "Test set 2584.026 59762.27 51835.78 0.04617924 1.685234"
      ]
     },
     "metadata": {},
     "output_type": "display_data"
    }
   ],
   "source": [
    "accuracy(aa$mean, gdp_agg[53:59])"
   ]
  },
  {
   "cell_type": "code",
   "execution_count": 123,
   "metadata": {},
   "outputs": [
    {
     "name": "stderr",
     "output_type": "stream",
     "text": [
      "Warning message:\n",
      "“Ignoring unknown parameters: PI”"
     ]
    },
    {
     "data": {},
     "metadata": {},
     "output_type": "display_data"
    },
    {
     "data": {
      "image/png": "[encoded data removed]",
      "text/plain": [
       "plot without title"
      ]
     },
     "metadata": {},
     "output_type": "display_data"
    }
   ],
   "source": [
    "autoplot(window(gdp_agg, start=2002.75, end = 2014.5)) +\n",
    "    autolayer(ts(aa$mean,  frequency = 4, start=2014.75), series=\"Auto ARIMA\", PI=FALSE) +\n",
    "    xlab(\"Year\") + ylab(\"Mln. Euro\") +\n",
    "    ggtitle(\"Модель 0, 00\") +\n",
    "    guides(colour=guide_legend(title=\"Forecast\")) +\n",
    "    theme(aspect.ratio = 0.75)"
   ]
  },
  {
   "cell_type": "code",
   "execution_count": 95,
   "metadata": {},
   "outputs": [
    {
     "data": {
      "text/html": [
       "83601.8585404167"
      ],
      "text/latex": [
       "83601.8585404167"
      ],
      "text/markdown": [
       "83601.8585404167"
      ],
      "text/plain": [
       "[1] 83601.86"
      ]
     },
     "metadata": {},
     "output_type": "display_data"
    }
   ],
   "source": [
    "gdp_ets_cv <- function(x, h){forecast(ets(x), h=h)}\n",
    "e_ets  <-  tsCV(gdp_agg, gdp_ets_cv, h=7, window=40)[40:68,]\n",
    "sqrt(mean(e_ets^2, na.rm=TRUE))"
   ]
  },
  {
   "cell_type": "markdown",
   "metadata": {},
   "source": [
    "##### lubridate"
   ]
  },
  {
   "cell_type": "code",
   "execution_count": null,
   "metadata": {},
   "outputs": [],
   "source": [
    "library(lubridate)\n",
    "\n",
    "economics$month <- as.factor(month(economics$date))\n",
    "\n",
    "#### creating sampling seeds ####\n",
    "set.seed(123)\n",
    "seeds <- vector(mode = \"list\", length = 432)\n",
    "for(i in 1:431) seeds[[i]] <- sample.int(1000, 5)\n",
    "\n",
    "## For the last model:\n",
    "seeds[[432]] <- sample.int(1000, 1)"
   ]
  },
  {
   "cell_type": "markdown",
   "metadata": {},
   "source": [
    "#####  function"
   ]
  },
  {
   "cell_type": "code",
   "execution_count": 58,
   "metadata": {},
   "outputs": [],
   "source": [
    "df_eu  <-  read.csv(file=\"hts_eu_a10.csv\", header=TRUE, sep=\",\", row.names =1 )"
   ]
  },
  {
   "cell_type": "code",
   "execution_count": 59,
   "metadata": {},
   "outputs": [],
   "source": [
    "gdp_agg <- df_eu_sums <-  rowSums(df_eu)\n",
    "gdp_agg  <- ts(gdp_agg, frequency = 4, start = 2000) "
   ]
  },
  {
   "cell_type": "code",
   "execution_count": 28,
   "metadata": {},
   "outputs": [
    {
     "data": {
      "text/html": [
       "<ol class=list-inline>\n",
       "\t<li>2004</li>\n",
       "\t<li>2016.75</li>\n",
       "\t<li>2017</li>\n",
       "\t<li>2018.75</li>\n",
       "</ol>\n"
      ],
      "text/latex": [
       "\\begin{enumerate*}\n",
       "\\item 2004\n",
       "\\item 2016.75\n",
       "\\item 2017\n",
       "\\item 2018.75\n",
       "\\end{enumerate*}\n"
      ],
      "text/markdown": [
       "1. 2004\n",
       "2. 2016.75\n",
       "3. 2017\n",
       "4. 2018.75\n",
       "\n",
       "\n"
      ],
      "text/plain": [
       "[1] 2004.00 2016.75 2017.00 2018.75"
      ]
     },
     "metadata": {},
     "output_type": "display_data"
    }
   ],
   "source": [
    "c(train_start, train_end, test_start, test_end)"
   ]
  },
  {
   "cell_type": "code",
   "execution_count": 83,
   "metadata": {},
   "outputs": [],
   "source": [
    "gdp_agg  <-  gdp_agg/1000"
   ]
  },
  {
   "cell_type": "code",
   "execution_count": 90,
   "metadata": {},
   "outputs": [],
   "source": [
    "df_eu  <-  df_eu/1000"
   ]
  },
  {
   "cell_type": "code",
   "execution_count": 84,
   "metadata": {},
   "outputs": [
    {
     "name": "stdout",
     "output_type": "stream",
     "text": [
      "[1] 2000.00 2012.75 2013.00 2014.75\n",
      "[1] 2001.00 2013.75 2014.00 2015.75\n",
      "[1] 2002.00 2014.75 2015.00 2016.75\n",
      "[1] 2003.00 2015.75 2016.00 2017.75\n",
      "[1] 2004.00 2016.75 2017.00 2018.75\n"
     ]
    }
   ],
   "source": [
    "ac <- c()\n",
    "\n",
    "for (i in 0:4){\n",
    "    st_year  <-  2000 + i\n",
    "    train_start  <- st_year\n",
    "    train_end  <- st_year + 0.25*51\n",
    "    test_start  <- st_year + 0.25*(51+1) \n",
    "    test_end  <-  st_year + 0.25*(51+8)\n",
    "    \n",
    "    print(c(train_start, train_end, test_start, test_end))\n",
    "    \n",
    "    if (i == 0){\n",
    "        train <- window(gdp_agg, end=train_end)}\n",
    "    else{\n",
    "        train <- window(gdp_agg, start=train_start, end=train_end)\n",
    "    }\n",
    "    \n",
    "    if (i == 4){\n",
    "        test <- window(gdp_agg, start=test_start)}\n",
    "    else{\n",
    "        test <- window(gdp_agg, start=test_start, end=test_end)\n",
    "    }\n",
    "        \n",
    "    gdp_arima  <- forecast(Arima(train, order=c(3,0,0), seasonal=c(2,0,0), include.drift = TRUE, include.mean = TRUE), h = 8  )\n",
    "    \n",
    "    \n",
    "    ac  <-  c(ac, accuracy(gdp_arima, test)[2, 2])\n",
    "    \n",
    "    }"
   ]
  },
  {
   "cell_type": "code",
   "execution_count": 86,
   "metadata": {},
   "outputs": [
    {
     "data": {
      "text/html": [
       "<ol class=list-inline>\n",
       "\t<li>30004.5022683676</li>\n",
       "\t<li>70819.4634255774</li>\n",
       "\t<li>65892.6394929663</li>\n",
       "\t<li>71879.6612432632</li>\n",
       "\t<li>62743.8343003625</li>\n",
       "</ol>\n"
      ],
      "text/latex": [
       "\\begin{enumerate*}\n",
       "\\item 30004.5022683676\n",
       "\\item 70819.4634255774\n",
       "\\item 65892.6394929663\n",
       "\\item 71879.6612432632\n",
       "\\item 62743.8343003625\n",
       "\\end{enumerate*}\n"
      ],
      "text/markdown": [
       "1. 30004.5022683676\n",
       "2. 70819.4634255774\n",
       "3. 65892.6394929663\n",
       "4. 71879.6612432632\n",
       "5. 62743.8343003625\n",
       "\n",
       "\n"
      ],
      "text/plain": [
       "[1] 30004.50 70819.46 65892.64 71879.66 62743.83"
      ]
     },
     "metadata": {},
     "output_type": "display_data"
    }
   ],
   "source": [
    "ac * 1000"
   ]
  },
  {
   "cell_type": "code",
   "execution_count": 87,
   "metadata": {},
   "outputs": [
    {
     "data": {
      "text/html": [
       "60268.0201461074"
      ],
      "text/latex": [
       "60268.0201461074"
      ],
      "text/markdown": [
       "60268.0201461074"
      ],
      "text/plain": [
       "[1] 60268.02"
      ]
     },
     "metadata": {},
     "output_type": "display_data"
    }
   ],
   "source": [
    "mean(ac * 1000)"
   ]
  },
  {
   "cell_type": "code",
   "execution_count": null,
   "metadata": {},
   "outputs": [],
   "source": [
    "ac_1  <-  c()\n",
    "gdp_arima_diff  <- forecast(Arima(train, order=c(3,1,0), seasonal=c(2,1,0)), h=8)\n",
    "ac_1  <-  c(ac_1, accuracy(gdp_arima_diff, test)[2, 2])"
   ]
  },
  {
   "cell_type": "code",
   "execution_count": 65,
   "metadata": {},
   "outputs": [
    {
     "data": {
      "text/html": [
       "<ol class=list-inline>\n",
       "\t<li>23765.5156099225</li>\n",
       "\t<li>57636.2036865242</li>\n",
       "\t<li>69405.4207990838</li>\n",
       "\t<li>140445.01769176</li>\n",
       "\t<li>92540.2078652381</li>\n",
       "</ol>\n"
      ],
      "text/latex": [
       "\\begin{enumerate*}\n",
       "\\item 23765.5156099225\n",
       "\\item 57636.2036865242\n",
       "\\item 69405.4207990838\n",
       "\\item 140445.01769176\n",
       "\\item 92540.2078652381\n",
       "\\end{enumerate*}\n"
      ],
      "text/markdown": [
       "1. 23765.5156099225\n",
       "2. 57636.2036865242\n",
       "3. 69405.4207990838\n",
       "4. 140445.01769176\n",
       "5. 92540.2078652381\n",
       "\n",
       "\n"
      ],
      "text/plain": [
       "[1]  23765.52  57636.20  69405.42 140445.02  92540.21"
      ]
     },
     "metadata": {},
     "output_type": "display_data"
    }
   ],
   "source": [
    "ac_1"
   ]
  },
  {
   "cell_type": "code",
   "execution_count": 67,
   "metadata": {},
   "outputs": [
    {
     "data": {
      "text/html": [
       "76758.4731305058"
      ],
      "text/latex": [
       "76758.4731305058"
      ],
      "text/markdown": [
       "76758.4731305058"
      ],
      "text/plain": [
       "[1] 76758.47"
      ]
     },
     "metadata": {},
     "output_type": "display_data"
    }
   ],
   "source": [
    "mean(ac_1)"
   ]
  },
  {
   "cell_type": "code",
   "execution_count": null,
   "metadata": {},
   "outputs": [],
   "source": [
    "ac_3  <-  c()\n",
    "gdp_auto_arima  <- forecast(auto.arima(train, stationary = FALSE, seasonal = TRUE, lambda=\"auto\"), h=8)\n",
    "ac_3  <-  c(ac_3, accuracy(gdp_auto_arima, test)[2, 2])"
   ]
  },
  {
   "cell_type": "code",
   "execution_count": 66,
   "metadata": {},
   "outputs": [
    {
     "data": {
      "text/html": [
       "<ol class=list-inline>\n",
       "\t<li>18913.3783797339</li>\n",
       "\t<li>48795.44391186</li>\n",
       "\t<li>65843.4437650568</li>\n",
       "\t<li>61161.8865654138</li>\n",
       "\t<li>52601.0446565969</li>\n",
       "</ol>\n"
      ],
      "text/latex": [
       "\\begin{enumerate*}\n",
       "\\item 18913.3783797339\n",
       "\\item 48795.44391186\n",
       "\\item 65843.4437650568\n",
       "\\item 61161.8865654138\n",
       "\\item 52601.0446565969\n",
       "\\end{enumerate*}\n"
      ],
      "text/markdown": [
       "1. 18913.3783797339\n",
       "2. 48795.44391186\n",
       "3. 65843.4437650568\n",
       "4. 61161.8865654138\n",
       "5. 52601.0446565969\n",
       "\n",
       "\n"
      ],
      "text/plain": [
       "[1] 18913.38 48795.44 65843.44 61161.89 52601.04"
      ]
     },
     "metadata": {},
     "output_type": "display_data"
    }
   ],
   "source": [
    "ac_3"
   ]
  },
  {
   "cell_type": "code",
   "execution_count": 63,
   "metadata": {},
   "outputs": [
    {
     "data": {
      "text/html": [
       "49463.0394557323"
      ],
      "text/latex": [
       "49463.0394557323"
      ],
      "text/markdown": [
       "49463.0394557323"
      ],
      "text/plain": [
       "[1] 49463.04"
      ]
     },
     "metadata": {},
     "output_type": "display_data"
    }
   ],
   "source": [
    "mean(ac_3)"
   ]
  },
  {
   "cell_type": "code",
   "execution_count": 48,
   "metadata": {},
   "outputs": [
    {
     "data": {
      "text/html": [
       "92540.2078652381"
      ],
      "text/latex": [
       "92540.2078652381"
      ],
      "text/markdown": [
       "92540.2078652381"
      ],
      "text/plain": [
       "[1] 92540.21"
      ]
     },
     "metadata": {},
     "output_type": "display_data"
    }
   ],
   "source": [
    "accuracy(gdp_arima_diff, test)[2, 2]"
   ]
  },
  {
   "cell_type": "code",
   "execution_count": 44,
   "metadata": {},
   "outputs": [
    {
     "data": {},
     "metadata": {},
     "output_type": "display_data"
    },
    {
     "data": {
      "image/png": "[encoded data removed]",
      "text/plain": [
       "plot without title"
      ]
     },
     "metadata": {},
     "output_type": "display_data"
    }
   ],
   "source": [
    "autoplot(window(gdp_agg, start=2012)) +\n",
    "    autolayer(gdp_arima, series=\"ARIMA\", PI=FALSE) +\n",
    "    autolayer(gdp_auto_arima, series=\"Auto ARIMA\", PI=FALSE) +\n",
    "    autolayer(gdp_arima_diff, series=\"ARIMA diff\", PI=FALSE) +\n",
    "    xlab(\"Year\") + ylab(\"Mln. Euro\") +\n",
    "    ggtitle(\"Модель 0, 00\") +\n",
    "    guides(colour=guide_legend(title=\"Forecast\")) +\n",
    "    theme(aspect.ratio = 0.75)"
   ]
  },
  {
   "cell_type": "code",
   "execution_count": null,
   "metadata": {},
   "outputs": [],
   "source": []
  }
 ],
 "metadata": {
  "kernelspec": {
   "display_name": "R 3.5.1",
   "language": "R",
   "name": "ir"
  },
  "language_info": {
   "codemirror_mode": "r",
   "file_extension": ".r",
   "mimetype": "text/x-r-source",
   "name": "R",
   "pygments_lexer": "r",
   "version": "3.5.2"
  }
 },
 "nbformat": 4,
 "nbformat_minor": 2
}
