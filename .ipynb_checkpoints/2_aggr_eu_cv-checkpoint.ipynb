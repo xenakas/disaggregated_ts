{
 "cells": [
  {
   "cell_type": "markdown",
   "metadata": {},
   "source": [
    "### 2. Выбор модели для прогнозирования ВВП ЕС"
   ]
  },
  {
   "cell_type": "code",
   "execution_count": 115,
   "metadata": {},
   "outputs": [],
   "source": [
    "library(forecast)\n",
    "library(ggplot2)\n",
    "library(dplyr)"
   ]
  },
  {
   "cell_type": "markdown",
   "metadata": {},
   "source": [
    "\n",
    "## Aggregated TS"
   ]
  },
  {
   "cell_type": "code",
   "execution_count": 116,
   "metadata": {},
   "outputs": [],
   "source": [
    "df_eu  <-  read.csv(file=\"hts_eu_a10.csv\", header=TRUE, sep=\",\", row.names =1 )"
   ]
  },
  {
   "cell_type": "code",
   "execution_count": 117,
   "metadata": {},
   "outputs": [],
   "source": [
    "df_eu  <-  df_eu/1000"
   ]
  },
  {
   "cell_type": "code",
   "execution_count": 118,
   "metadata": {},
   "outputs": [],
   "source": [
    "var_freq  <- 4    \n",
    "var_start_year  <- 2000   "
   ]
  },
  {
   "cell_type": "code",
   "execution_count": 119,
   "metadata": {},
   "outputs": [],
   "source": [
    "gdp_agg <- df_eu_sums <-  rowSums(df_eu)\n",
    "gdp_agg  <- ts(gdp_agg, frequency = var_freq, start = var_start_year) "
   ]
  },
  {
   "cell_type": "code",
   "execution_count": 120,
   "metadata": {},
   "outputs": [],
   "source": [
    "train_end_year  <-  2016\n",
    "tset_start_year  <-  2017"
   ]
  },
  {
   "cell_type": "code",
   "execution_count": 121,
   "metadata": {},
   "outputs": [],
   "source": [
    "train <- window(gdp_agg, end=c(train_end_year,var_freq))\n",
    "test <- window(gdp_agg, start=c(tset_start_year,1))"
   ]
  },
  {
   "cell_type": "markdown",
   "metadata": {},
   "source": [
    "#### Модель 0: RW with drift\n",
    "\n",
    "The random walk with drift model is\n",
    "\n",
    "$$Y_t=c + Y_{t-1} + Z_t$$\n",
    "\n",
    "``rwf(y, h, drift=TRUE)``"
   ]
  },
  {
   "cell_type": "markdown",
   "metadata": {},
   "source": [
    "#### Модель 1: Theta\n",
    "\n",
    "``library(foreast)``\n",
    "\n",
    "Equivalent to simple exponential smoothing with drift \n",
    "\n",
    "$\\sim$ ETS(AAdN)"
   ]
  },
  {
   "cell_type": "code",
   "execution_count": 122,
   "metadata": {},
   "outputs": [],
   "source": [
    "var_h  <- 7"
   ]
  },
  {
   "cell_type": "code",
   "execution_count": 123,
   "metadata": {},
   "outputs": [],
   "source": [
    "gdp_rwf <- rwf(train,h=var_h)\n",
    "gdp_rwfwd <- rwf(train,h=var_h, drift=TRUE)\n",
    "gdp_snaive  <- snaive(train,h=var_h)\n",
    "gdp_theta  <- thetaf(train, h=var_h)\n",
    "gdp_arima  <- forecast(Arima(train, order=c(3,1,0), seasonal=c(3,1,0)), h=var_h)\n",
    "gdp_auto_arima  <- forecast(auto.arima(train, stationary = FALSE, seasonal = TRUE, lambda=\"auto\"), h=var_h)\n",
    "gdp_ets <- forecast(ets(train), h=var_h)"
   ]
  },
  {
   "cell_type": "code",
   "execution_count": 124,
   "metadata": {},
   "outputs": [
    {
     "data": {
      "text/html": [
       "<table>\n",
       "<thead><tr><th></th><th scope=col>ME</th><th scope=col>RMSE</th><th scope=col>MAE</th><th scope=col>MPE</th><th scope=col>MAPE</th><th scope=col>MASE</th><th scope=col>ACF1</th><th scope=col>Theil's U</th></tr></thead>\n",
       "<tbody>\n",
       "\t<tr><th scope=row>Training set</th><td>19.37870  </td><td> 61.95782 </td><td>52.18350  </td><td>0.6939835 </td><td>1.882082  </td><td>0.5400781 </td><td>-0.4830031</td><td>      NA  </td></tr>\n",
       "\t<tr><th scope=row>Test set</th><td>77.53338  </td><td>100.92498 </td><td>88.23899  </td><td>2.1983856 </td><td>2.517203  </td><td>0.9132379 </td><td> 0.2892763</td><td>1.698108  </td></tr>\n",
       "</tbody>\n",
       "</table>\n"
      ],
      "text/latex": [
       "\\begin{tabular}{r|llllllll}\n",
       "  & ME & RMSE & MAE & MPE & MAPE & MASE & ACF1 & Theil's U\\\\\n",
       "\\hline\n",
       "\tTraining set & 19.37870   &  61.95782  & 52.18350   & 0.6939835  & 1.882082   & 0.5400781  & -0.4830031 &       NA  \\\\\n",
       "\tTest set & 77.53338   & 100.92498  & 88.23899   & 2.1983856  & 2.517203   & 0.9132379  &  0.2892763 & 1.698108  \\\\\n",
       "\\end{tabular}\n"
      ],
      "text/markdown": [
       "\n",
       "| <!--/--> | ME | RMSE | MAE | MPE | MAPE | MASE | ACF1 | Theil's U | \n",
       "|---|---|\n",
       "| Training set | 19.37870   |  61.95782  | 52.18350   | 0.6939835  | 1.882082   | 0.5400781  | -0.4830031 |       NA   | \n",
       "| Test set | 77.53338   | 100.92498  | 88.23899   | 2.1983856  | 2.517203   | 0.9132379  |  0.2892763 | 1.698108   | \n",
       "\n",
       "\n"
      ],
      "text/plain": [
       "             ME       RMSE      MAE      MPE       MAPE     MASE     \n",
       "Training set 19.37870  61.95782 52.18350 0.6939835 1.882082 0.5400781\n",
       "Test set     77.53338 100.92498 88.23899 2.1983856 2.517203 0.9132379\n",
       "             ACF1       Theil's U\n",
       "Training set -0.4830031       NA \n",
       "Test set      0.2892763 1.698108 "
      ]
     },
     "metadata": {},
     "output_type": "display_data"
    }
   ],
   "source": [
    "accuracy(gdp_rwf, test)"
   ]
  },
  {
   "cell_type": "code",
   "execution_count": 125,
   "metadata": {},
   "outputs": [],
   "source": [
    "var_acc_metrics  <-  c(1,2,5)"
   ]
  },
  {
   "cell_type": "code",
   "execution_count": 126,
   "metadata": {},
   "outputs": [],
   "source": [
    "list_forecasts  <- list(gdp_rwf, gdp_rwfwd, gdp_snaive, \n",
    "                        gdp_theta, gdp_arima, gdp_auto_arima, gdp_ets) \n",
    "list_forecasts_names  <- c(\"RW\", \"RW with drift \",\"SNaive\", \"Theta\", \n",
    "                           \"ARIMA\", \"Auto ARIMA\", \"ETS\") "
   ]
  },
  {
   "cell_type": "code",
   "execution_count": 127,
   "metadata": {},
   "outputs": [],
   "source": [
    "df_acc_test  <- as.data.frame(accuracy(list_forecasts[[1]], test)[2, var_acc_metrics])\n",
    "for (i in list_forecasts[2:length(list_forecasts)]){\n",
    "    x  <-  as.data.frame(accuracy(i, test)[2, var_acc_metrics])\n",
    "    df_acc_test   <-  cbind(df_acc_test, x)\n",
    "}\n",
    "df_acc_test  <- t(df_acc_test)\n",
    "df_acc_test  <-  as.data.frame(df_acc_test)\n",
    "row.names(df_acc_test)  <-  list_forecasts_names\n"
   ]
  },
  {
   "cell_type": "code",
   "execution_count": 128,
   "metadata": {},
   "outputs": [
    {
     "data": {
      "text/html": [
       "<table>\n",
       "<thead><tr><th></th><th scope=col>ME</th><th scope=col>RMSE</th><th scope=col>MAPE</th></tr></thead>\n",
       "<tbody>\n",
       "\t<tr><th scope=row>RW with drift </th><td>  0.01856923</td><td> 34.77671   </td><td>0.8161775   </td></tr>\n",
       "\t<tr><th scope=row>Auto ARIMA</th><td> 70.50313847</td><td> 71.54672   </td><td>2.0274846   </td></tr>\n",
       "\t<tr><th scope=row>ARIMA</th><td> 72.67030985</td><td> 73.73100   </td><td>2.0878054   </td></tr>\n",
       "\t<tr><th scope=row>RW</th><td> 77.53337619</td><td>100.92498   </td><td>2.5172025   </td></tr>\n",
       "\t<tr><th scope=row>ETS</th><td>100.50018977</td><td>108.38764   </td><td>2.8744570   </td></tr>\n",
       "\t<tr><th scope=row>Theta</th><td>103.38465963</td><td>109.49660   </td><td>2.9609962   </td></tr>\n",
       "\t<tr><th scope=row>SNaive</th><td>134.85807143</td><td>146.04369   </td><td>3.8583627   </td></tr>\n",
       "</tbody>\n",
       "</table>\n"
      ],
      "text/latex": [
       "\\begin{tabular}{r|lll}\n",
       "  & ME & RMSE & MAPE\\\\\n",
       "\\hline\n",
       "\tRW with drift  &   0.01856923 &  34.77671    & 0.8161775   \\\\\n",
       "\tAuto ARIMA &  70.50313847 &  71.54672    & 2.0274846   \\\\\n",
       "\tARIMA &  72.67030985 &  73.73100    & 2.0878054   \\\\\n",
       "\tRW &  77.53337619 & 100.92498    & 2.5172025   \\\\\n",
       "\tETS & 100.50018977 & 108.38764    & 2.8744570   \\\\\n",
       "\tTheta & 103.38465963 & 109.49660    & 2.9609962   \\\\\n",
       "\tSNaive & 134.85807143 & 146.04369    & 3.8583627   \\\\\n",
       "\\end{tabular}\n"
      ],
      "text/markdown": [
       "\n",
       "| <!--/--> | ME | RMSE | MAPE | \n",
       "|---|---|---|---|---|---|---|\n",
       "| RW with drift  |   0.01856923 |  34.77671    | 0.8161775    | \n",
       "| Auto ARIMA |  70.50313847 |  71.54672    | 2.0274846    | \n",
       "| ARIMA |  72.67030985 |  73.73100    | 2.0878054    | \n",
       "| RW |  77.53337619 | 100.92498    | 2.5172025    | \n",
       "| ETS | 100.50018977 | 108.38764    | 2.8744570    | \n",
       "| Theta | 103.38465963 | 109.49660    | 2.9609962    | \n",
       "| SNaive | 134.85807143 | 146.04369    | 3.8583627    | \n",
       "\n",
       "\n"
      ],
      "text/plain": [
       "               ME           RMSE      MAPE     \n",
       "RW with drift    0.01856923  34.77671 0.8161775\n",
       "Auto ARIMA      70.50313847  71.54672 2.0274846\n",
       "ARIMA           72.67030985  73.73100 2.0878054\n",
       "RW              77.53337619 100.92498 2.5172025\n",
       "ETS            100.50018977 108.38764 2.8744570\n",
       "Theta          103.38465963 109.49660 2.9609962\n",
       "SNaive         134.85807143 146.04369 3.8583627"
      ]
     },
     "metadata": {},
     "output_type": "display_data"
    }
   ],
   "source": [
    "df_acc_test[order(df_acc_test$RMSE),]"
   ]
  },
  {
   "cell_type": "code",
   "execution_count": 129,
   "metadata": {},
   "outputs": [
    {
     "data": {},
     "metadata": {},
     "output_type": "display_data"
    },
    {
     "data": {
      "image/png": "[encoded data removed]",
      "text/plain": [
       "plot without title"
      ]
     },
     "metadata": {},
     "output_type": "display_data"
    }
   ],
   "source": [
    "autoplot(window(gdp_agg, start=2012)) +\n",
    "    autolayer(gdp_rwf, series=\"RW\", PI=FALSE) +\n",
    "    autolayer(gdp_rwfwd, series=\"RW with drift\", PI=FALSE) +\n",
    "    autolayer(gdp_snaive, series=\"SNaive\", PI=FALSE) +\n",
    "    autolayer(gdp_theta, series=\"Theta Method\", PI=FALSE) +\n",
    "    autolayer(gdp_arima, series=\"ARIMA\", PI=FALSE) +\n",
    "    autolayer(gdp_auto_arima, series=\"Auto ARIMA\", PI=FALSE) +\n",
    "    autolayer(gdp_ets, series=\"ETS\", PI=FALSE) +\n",
    "    xlab(\"Year\") + ylab(\"Mln. Euro\") +\n",
    "    ggtitle(\"Модель 0, 00\") +\n",
    "    guides(colour=guide_legend(title=\"Forecast\")) +\n",
    "    theme(aspect.ratio = 0.75)"
   ]
  },
  {
   "cell_type": "markdown",
   "metadata": {},
   "source": [
    "### tsCV()"
   ]
  },
  {
   "cell_type": "code",
   "execution_count": 130,
   "metadata": {},
   "outputs": [
    {
     "data": {
      "text/html": [
       "76.9951354087957"
      ],
      "text/latex": [
       "76.9951354087957"
      ],
      "text/markdown": [
       "76.9951354087957"
      ],
      "text/plain": [
       "[1] 76.99514"
      ]
     },
     "metadata": {},
     "output_type": "display_data"
    }
   ],
   "source": [
    "gdp_arima_top_cv <- function(x, h){forecast(Arima(x, order=c(3,0,0), seasonal=c(2,0,0), include.drift = TRUE, include.constant\n",
    "= TRUE), h=h)}\n",
    "e_arima_top  <-  tsCV(gdp_agg, gdp_arima_top_cv, h=7, window=40)[42:68,]\n",
    "sqrt(mean(e_arima_top^2, na.rm=TRUE))"
   ]
  },
  {
   "cell_type": "code",
   "execution_count": 131,
   "metadata": {},
   "outputs": [
    {
     "data": {
      "text/html": [
       "108.349527896402"
      ],
      "text/latex": [
       "108.349527896402"
      ],
      "text/markdown": [
       "108.349527896402"
      ],
      "text/plain": [
       "[1] 108.3495"
      ]
     },
     "metadata": {},
     "output_type": "display_data"
    }
   ],
   "source": [
    "gdp_rwf_cv <- function(x, h){rwf(x,h=h)}\n",
    "e_rwf  <-  tsCV(gdp_agg, gdp_rwf_cv, h=7, window=40)[42:68,]\n",
    "sqrt(mean(e_rwf^2, na.rm=TRUE))"
   ]
  },
  {
   "cell_type": "code",
   "execution_count": 111,
   "metadata": {},
   "outputs": [
    {
     "data": {
      "text/plain": [
       "\n",
       "\tDiebold-Mariano Test\n",
       "\n",
       "data:  e_rwf[, 1]e_arima_top[, 1]\n",
       "DM = 4.6441, Forecast horizon = 1, Loss function power = 2, p-value =\n",
       "8.599e-05\n",
       "alternative hypothesis: two.sided\n"
      ]
     },
     "metadata": {},
     "output_type": "display_data"
    },
    {
     "data": {
      "text/plain": [
       "\n",
       "\tDiebold-Mariano Test\n",
       "\n",
       "data:  e_rwf[, 7]e_arima_top[, 7]\n",
       "DM = 1.9624, Forecast horizon = 7, Loss function power = 2, p-value =\n",
       "0.0605\n",
       "alternative hypothesis: two.sided\n"
      ]
     },
     "metadata": {},
     "output_type": "display_data"
    }
   ],
   "source": [
    "dm.test(e_rwf[,1], e_arima_top[,1], alternative = \"two.sided\", h = 1, power = 2)\n",
    "dm.test(e_rwf[,7], e_arima_top[,7], alternative = \"two.sided\", h = 7, power = 2)"
   ]
  },
  {
   "cell_type": "code",
   "execution_count": 114,
   "metadata": {},
   "outputs": [
    {
     "data": {
      "text/plain": [
       "\n",
       "\tDiebold-Mariano Test\n",
       "\n",
       "data:  e_rwf[, 1]e_arima_top[, 1]\n",
       "DM = 4.6441, Forecast horizon = 1, Loss function power = 2, p-value =\n",
       "4.3e-05\n",
       "alternative hypothesis: greater\n"
      ]
     },
     "metadata": {},
     "output_type": "display_data"
    },
    {
     "data": {
      "text/plain": [
       "\n",
       "\tDiebold-Mariano Test\n",
       "\n",
       "data:  e_arima_top[, 7]e_rwf[, 7]\n",
       "DM = -1.9624, Forecast horizon = 7, Loss function power = 2, p-value =\n",
       "0.9697\n",
       "alternative hypothesis: greater\n"
      ]
     },
     "metadata": {},
     "output_type": "display_data"
    }
   ],
   "source": [
    "dm.test(e_rwf[,1], e_arima_top[,1], alternative = \"greater\", h = 1, power = 2)\n",
    "dm.test(e_arima_top[,7], e_rwf[,7], alternative = \"greater\", h = 7, power = 2)"
   ]
  },
  {
   "cell_type": "code",
   "execution_count": 136,
   "metadata": {},
   "outputs": [
    {
     "data": {
      "text/html": [
       "93.9230973468985"
      ],
      "text/latex": [
       "93.9230973468985"
      ],
      "text/markdown": [
       "93.9230973468985"
      ],
      "text/plain": [
       "[1] 93.9231"
      ]
     },
     "metadata": {},
     "output_type": "display_data"
    }
   ],
   "source": [
    "gdp_arima212_cv <- function(x, h){forecast(Arima(x, order=c(2,1,2), seasonal=c(2,1,2)), h=h)}\n",
    "e_arima212  <-  tsCV(gdp_agg, gdp_arima212_cv, h=7, window=40)[42:68,]\n",
    "sqrt(mean(e_arima212^2, na.rm=TRUE))"
   ]
  },
  {
   "cell_type": "code",
   "execution_count": 137,
   "metadata": {},
   "outputs": [
    {
     "data": {
      "text/html": [
       "82.6621872966403"
      ],
      "text/latex": [
       "82.6621872966403"
      ],
      "text/markdown": [
       "82.6621872966403"
      ],
      "text/plain": [
       "[1] 82.66219"
      ]
     },
     "metadata": {},
     "output_type": "display_data"
    }
   ],
   "source": [
    "gdp_arima310_cv <- function(x, h){forecast(Arima(x, order=c(3,1,0), seasonal=c(3,1,0)), h=h)}\n",
    "e_arima310  <-  tsCV(gdp_agg, gdp_arima310_cv, h=7, window=40)[42:68,]\n",
    "sqrt(mean(e_arima310^2, na.rm=TRUE))"
   ]
  },
  {
   "cell_type": "code",
   "execution_count": 138,
   "metadata": {},
   "outputs": [
    {
     "data": {
      "text/html": [
       "87.3221205943074"
      ],
      "text/latex": [
       "87.3221205943074"
      ],
      "text/markdown": [
       "87.3221205943074"
      ],
      "text/plain": [
       "[1] 87.32212"
      ]
     },
     "metadata": {},
     "output_type": "display_data"
    }
   ],
   "source": [
    "gdp_auto_arima_cv <- function(x, h){forecast(auto.arima(x, stationary = FALSE, seasonal = TRUE, lambda=\"auto\"), h=h)}\n",
    "e_auto_arima  <-  tsCV(gdp_agg, gdp_auto_arima_cv, h=7, window=40)[42:68,]\n",
    "sqrt(mean(e_auto_arima^2, na.rm=TRUE))"
   ]
  },
  {
   "cell_type": "markdown",
   "metadata": {},
   "source": [
    "##### lubridate"
   ]
  },
  {
   "cell_type": "code",
   "execution_count": null,
   "metadata": {},
   "outputs": [],
   "source": [
    "library(lubridate)\n",
    "\n",
    "economics$month <- as.factor(month(economics$date))\n",
    "\n",
    "#### creating sampling seeds ####\n",
    "set.seed(123)\n",
    "seeds <- vector(mode = \"list\", length = 432)\n",
    "for(i in 1:431) seeds[[i]] <- sample.int(1000, 5)\n",
    "\n",
    "## For the last model:\n",
    "seeds[[432]] <- sample.int(1000, 1)"
   ]
  },
  {
   "cell_type": "markdown",
   "metadata": {},
   "source": [
    "#####  function"
   ]
  },
  {
   "cell_type": "code",
   "execution_count": 168,
   "metadata": {},
   "outputs": [],
   "source": [
    "var_freq  <- 4    \n",
    "var_start_year  <- 2000   \n",
    "train_end_year  <-  2016\n",
    "tset_start_year  <-  2017\n",
    "var_h  <- 8\n",
    "var_window  <-  50"
   ]
  },
  {
   "cell_type": "code",
   "execution_count": 172,
   "metadata": {},
   "outputs": [
    {
     "data": {
      "text/html": [
       "4.375"
      ],
      "text/latex": [
       "4.375"
      ],
      "text/markdown": [
       "4.375"
      ],
      "text/plain": [
       "[1] 4.375"
      ]
     },
     "metadata": {},
     "output_type": "display_data"
    }
   ],
   "source": [
    "(length(gdp_agg[41:75]))/8"
   ]
  },
  {
   "cell_type": "code",
   "execution_count": 178,
   "metadata": {},
   "outputs": [
    {
     "data": {
      "text/html": [
       "3.25"
      ],
      "text/latex": [
       "3.25"
      ],
      "text/markdown": [
       "3.25"
      ],
      "text/plain": [
       "[1] 3.25"
      ]
     },
     "metadata": {},
     "output_type": "display_data"
    }
   ],
   "source": [
    "(length(gdp_agg)-50+1)/8"
   ]
  },
  {
   "cell_type": "code",
   "execution_count": 176,
   "metadata": {},
   "outputs": [
    {
     "name": "stdout",
     "output_type": "stream",
     "text": [
      "[1] 2000.00 2012.75 2013.00 2014.75\n",
      "[1] 2001.00 2013.75 2014.00 2015.75\n",
      "[1] 2002.00 2014.75 2015.00 2016.75\n",
      "[1] 2003.00 2015.75 2016.00 2017.75\n",
      "[1] 2004.00 2016.75 2017.00 2018.75\n"
     ]
    }
   ],
   "source": [
    "ac <- c()\n",
    "\n",
    "for (i in 0:4){\n",
    "    st_year  <-  var_start_year + i\n",
    "    train_start  <- st_year \n",
    "    train_end  <- st_year + 0.25*(var_window+1)\n",
    "    test_start  <- st_year + 0.25*(var_window+1+1) \n",
    "    test_end  <-  st_year + 0.25*(var_window+var_h+1)\n",
    "    \n",
    "    print(c(train_start, train_end, test_start, test_end))\n",
    "    \n",
    "#     if (i == 0){\n",
    "#         train <- window(gdp_agg, end=train_end)}\n",
    "#     else{\n",
    "#         train <- window(gdp_agg, start=train_start, end=train_end)\n",
    "#     }\n",
    "    \n",
    "#     if (i == 4){\n",
    "#         test <- window(gdp_agg, start=test_start)}\n",
    "#     else{\n",
    "#         test <- window(gdp_agg, start=test_start, end=test_end)\n",
    "#     }\n",
    "        \n",
    "#     gdp_arima  <- forecast(Arima(train, order=c(3,0,0), seasonal=c(2,0,0), include.drift = TRUE, include.mean = TRUE), h = 8  )\n",
    "    \n",
    "    \n",
    "#     ac  <-  c(ac, accuracy(gdp_arima, test)[2, 2])\n",
    "    \n",
    "    }"
   ]
  },
  {
   "cell_type": "code",
   "execution_count": 152,
   "metadata": {},
   "outputs": [
    {
     "data": {
      "text/html": [
       "<ol class=list-inline>\n",
       "\t<li>30004.502268165</li>\n",
       "\t<li>70819.4634280239</li>\n",
       "\t<li>65892.6394891557</li>\n",
       "\t<li>71879.6612424072</li>\n",
       "\t<li>62743.8343015834</li>\n",
       "</ol>\n"
      ],
      "text/latex": [
       "\\begin{enumerate*}\n",
       "\\item 30004.502268165\n",
       "\\item 70819.4634280239\n",
       "\\item 65892.6394891557\n",
       "\\item 71879.6612424072\n",
       "\\item 62743.8343015834\n",
       "\\end{enumerate*}\n"
      ],
      "text/markdown": [
       "1. 30004.502268165\n",
       "2. 70819.4634280239\n",
       "3. 65892.6394891557\n",
       "4. 71879.6612424072\n",
       "5. 62743.8343015834\n",
       "\n",
       "\n"
      ],
      "text/plain": [
       "[1] 30004.50 70819.46 65892.64 71879.66 62743.83"
      ]
     },
     "metadata": {},
     "output_type": "display_data"
    }
   ],
   "source": [
    "ac * 1000"
   ]
  },
  {
   "cell_type": "code",
   "execution_count": 153,
   "metadata": {},
   "outputs": [
    {
     "data": {
      "text/html": [
       "60268.020145867"
      ],
      "text/latex": [
       "60268.020145867"
      ],
      "text/markdown": [
       "60268.020145867"
      ],
      "text/plain": [
       "[1] 60268.02"
      ]
     },
     "metadata": {},
     "output_type": "display_data"
    }
   ],
   "source": [
    "mean(ac * 1000)"
   ]
  },
  {
   "cell_type": "code",
   "execution_count": 20,
   "metadata": {},
   "outputs": [],
   "source": [
    "ac_1  <-  c()\n",
    "gdp_arima_diff  <- forecast(Arima(train, order=c(3,1,0), seasonal=c(2,1,0)), h=8)\n",
    "ac_1  <-  c(ac_1, accuracy(gdp_arima_diff, test)[2, 2])"
   ]
  },
  {
   "cell_type": "code",
   "execution_count": 21,
   "metadata": {},
   "outputs": [
    {
     "data": {
      "text/html": [
       "0.092540211793964"
      ],
      "text/latex": [
       "0.092540211793964"
      ],
      "text/markdown": [
       "0.092540211793964"
      ],
      "text/plain": [
       "[1] 0.09254021"
      ]
     },
     "metadata": {},
     "output_type": "display_data"
    }
   ],
   "source": [
    "ac_1"
   ]
  },
  {
   "cell_type": "code",
   "execution_count": 22,
   "metadata": {},
   "outputs": [
    {
     "data": {
      "text/html": [
       "0.092540211793964"
      ],
      "text/latex": [
       "0.092540211793964"
      ],
      "text/markdown": [
       "0.092540211793964"
      ],
      "text/plain": [
       "[1] 0.09254021"
      ]
     },
     "metadata": {},
     "output_type": "display_data"
    }
   ],
   "source": [
    "mean(ac_1)"
   ]
  },
  {
   "cell_type": "code",
   "execution_count": 23,
   "metadata": {},
   "outputs": [],
   "source": [
    "ac_3  <-  c()\n",
    "gdp_auto_arima  <- forecast(auto.arima(train, stationary = FALSE, seasonal = TRUE, lambda=\"auto\"), h=8)\n",
    "ac_3  <-  c(ac_3, accuracy(gdp_auto_arima, test)[2, 2])"
   ]
  },
  {
   "cell_type": "code",
   "execution_count": 24,
   "metadata": {},
   "outputs": [
    {
     "data": {
      "text/html": [
       "0.0866734413341529"
      ],
      "text/latex": [
       "0.0866734413341529"
      ],
      "text/markdown": [
       "0.0866734413341529"
      ],
      "text/plain": [
       "[1] 0.08667344"
      ]
     },
     "metadata": {},
     "output_type": "display_data"
    }
   ],
   "source": [
    "ac_3"
   ]
  },
  {
   "cell_type": "code",
   "execution_count": 25,
   "metadata": {},
   "outputs": [
    {
     "data": {
      "text/html": [
       "0.0866734413341529"
      ],
      "text/latex": [
       "0.0866734413341529"
      ],
      "text/markdown": [
       "0.0866734413341529"
      ],
      "text/plain": [
       "[1] 0.08667344"
      ]
     },
     "metadata": {},
     "output_type": "display_data"
    }
   ],
   "source": [
    "mean(ac_3)"
   ]
  },
  {
   "cell_type": "code",
   "execution_count": 26,
   "metadata": {},
   "outputs": [
    {
     "data": {
      "text/html": [
       "0.092540211793964"
      ],
      "text/latex": [
       "0.092540211793964"
      ],
      "text/markdown": [
       "0.092540211793964"
      ],
      "text/plain": [
       "[1] 0.09254021"
      ]
     },
     "metadata": {},
     "output_type": "display_data"
    }
   ],
   "source": [
    "accuracy(gdp_arima_diff, test)[2, 2]"
   ]
  },
  {
   "cell_type": "code",
   "execution_count": 27,
   "metadata": {},
   "outputs": [
    {
     "data": {},
     "metadata": {},
     "output_type": "display_data"
    },
    {
     "data": {
      "image/png": "[encoded data removed]",
      "text/plain": [
       "plot without title"
      ]
     },
     "metadata": {},
     "output_type": "display_data"
    }
   ],
   "source": [
    "autoplot(window(gdp_agg, start=2012)) +\n",
    "    autolayer(gdp_arima, series=\"ARIMA\", PI=FALSE) +\n",
    "    autolayer(gdp_auto_arima, series=\"Auto ARIMA\", PI=FALSE) +\n",
    "    autolayer(gdp_arima_diff, series=\"ARIMA diff\", PI=FALSE) +\n",
    "    xlab(\"Year\") + ylab(\"Mln. Euro\") +\n",
    "    ggtitle(\"Модель 0, 00\") +\n",
    "    guides(colour=guide_legend(title=\"Forecast\")) +\n",
    "    theme(aspect.ratio = 0.75)"
   ]
  },
  {
   "cell_type": "code",
   "execution_count": null,
   "metadata": {},
   "outputs": [],
   "source": []
  },
  {
   "cell_type": "code",
   "execution_count": null,
   "metadata": {},
   "outputs": [],
   "source": []
  }
 ],
 "metadata": {
  "kernelspec": {
   "display_name": "R 3.5.1",
   "language": "R",
   "name": "ir"
  },
  "language_info": {
   "codemirror_mode": "r",
   "file_extension": ".r",
   "mimetype": "text/x-r-source",
   "name": "R",
   "pygments_lexer": "r",
   "version": "3.5.2"
  }
 },
 "nbformat": 4,
 "nbformat_minor": 2
}
