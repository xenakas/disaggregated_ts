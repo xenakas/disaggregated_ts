{
 "cells": [
  {
   "cell_type": "markdown",
   "metadata": {},
   "source": [
    "### 2. Выбор модели для прогнозирования ВВП ЕС"
   ]
  },
  {
   "cell_type": "code",
   "execution_count": 3,
   "metadata": {},
   "outputs": [
    {
     "name": "stderr",
     "output_type": "stream",
     "text": [
      "\n",
      "Attaching package: ‘dplyr’\n",
      "\n",
      "The following objects are masked from ‘package:stats’:\n",
      "\n",
      "    filter, lag\n",
      "\n",
      "The following objects are masked from ‘package:base’:\n",
      "\n",
      "    intersect, setdiff, setequal, union\n",
      "\n"
     ]
    }
   ],
   "source": [
    "library(forecast)\n",
    "library(ggplot2)\n",
    "library(dplyr)"
   ]
  },
  {
   "cell_type": "markdown",
   "metadata": {},
   "source": [
    "\n",
    "## Aggregated TS"
   ]
  },
  {
   "cell_type": "code",
   "execution_count": 4,
   "metadata": {},
   "outputs": [],
   "source": [
    "df_eu  <-  read.csv(file=\"hts_eu_a10.csv\", header=TRUE, sep=\",\", row.names =1 )"
   ]
  },
  {
   "cell_type": "code",
   "execution_count": 5,
   "metadata": {},
   "outputs": [],
   "source": [
    "df_eu  <-  df_eu/1000"
   ]
  },
  {
   "cell_type": "code",
   "execution_count": 6,
   "metadata": {},
   "outputs": [],
   "source": [
    "var_freq  <- 4    \n",
    "var_start_year  <- 2000   "
   ]
  },
  {
   "cell_type": "code",
   "execution_count": 7,
   "metadata": {},
   "outputs": [],
   "source": [
    "gdp_agg <- df_eu_sums <-  rowSums(df_eu)\n",
    "gdp_agg  <- ts(gdp_agg, frequency = var_freq, start = var_start_year) "
   ]
  },
  {
   "cell_type": "code",
   "execution_count": 8,
   "metadata": {},
   "outputs": [],
   "source": [
    "train_end_year  <-  2016\n",
    "tset_start_year  <-  2017"
   ]
  },
  {
   "cell_type": "code",
   "execution_count": 9,
   "metadata": {},
   "outputs": [],
   "source": [
    "train <- window(gdp_agg, end=c(train_end_year,var_freq))\n",
    "test <- window(gdp_agg, start=c(tset_start_year,1))"
   ]
  },
  {
   "cell_type": "markdown",
   "metadata": {},
   "source": [
    "#### Модель 0: RW with drift\n",
    "\n",
    "The random walk with drift model is\n",
    "\n",
    "$$Y_t=c + Y_{t-1} + Z_t$$\n",
    "\n",
    "``rwf(y, h, drift=TRUE)``"
   ]
  },
  {
   "cell_type": "markdown",
   "metadata": {},
   "source": [
    "#### Модель 1: Theta\n",
    "\n",
    "``library(foreast)``\n",
    "\n",
    "Equivalent to simple exponential smoothing with drift \n",
    "\n",
    "$\\sim$ ETS(AAdN)"
   ]
  },
  {
   "cell_type": "code",
   "execution_count": 10,
   "metadata": {},
   "outputs": [],
   "source": [
    "var_h  <- 7"
   ]
  },
  {
   "cell_type": "code",
   "execution_count": 11,
   "metadata": {},
   "outputs": [],
   "source": [
    "gdp_rwf <- rwf(train,h=var_h)\n",
    "gdp_rwfwd <- rwf(train,h=var_h, drift=TRUE)\n",
    "gdp_snaive  <- snaive(train,h=var_h)\n",
    "gdp_theta  <- thetaf(train, h=var_h)\n",
    "gdp_arima  <- forecast(Arima(train, order=c(3,1,0), seasonal=c(3,1,0)), h=var_h)\n",
    "gdp_auto_arima  <- forecast(auto.arima(train, stationary = FALSE, seasonal = TRUE, lambda=\"auto\"), h=var_h)\n",
    "gdp_ets <- forecast(ets(train), h=var_h)"
   ]
  },
  {
   "cell_type": "code",
   "execution_count": 12,
   "metadata": {},
   "outputs": [
    {
     "data": {
      "text/html": [
       "<table>\n",
       "<thead><tr><th></th><th scope=col>ME</th><th scope=col>RMSE</th><th scope=col>MAE</th><th scope=col>MPE</th><th scope=col>MAPE</th><th scope=col>MASE</th><th scope=col>ACF1</th><th scope=col>Theil's U</th></tr></thead>\n",
       "<tbody>\n",
       "\t<tr><th scope=row>Training set</th><td>19.37870  </td><td> 61.95782 </td><td>52.18350  </td><td>0.6939835 </td><td>1.882082  </td><td>0.5400781 </td><td>-0.4830031</td><td>      NA  </td></tr>\n",
       "\t<tr><th scope=row>Test set</th><td>77.53338  </td><td>100.92498 </td><td>88.23899  </td><td>2.1983856 </td><td>2.517203  </td><td>0.9132379 </td><td> 0.2892763</td><td>1.698108  </td></tr>\n",
       "</tbody>\n",
       "</table>\n"
      ],
      "text/latex": [
       "\\begin{tabular}{r|llllllll}\n",
       "  & ME & RMSE & MAE & MPE & MAPE & MASE & ACF1 & Theil's U\\\\\n",
       "\\hline\n",
       "\tTraining set & 19.37870   &  61.95782  & 52.18350   & 0.6939835  & 1.882082   & 0.5400781  & -0.4830031 &       NA  \\\\\n",
       "\tTest set & 77.53338   & 100.92498  & 88.23899   & 2.1983856  & 2.517203   & 0.9132379  &  0.2892763 & 1.698108  \\\\\n",
       "\\end{tabular}\n"
      ],
      "text/markdown": [
       "\n",
       "| <!--/--> | ME | RMSE | MAE | MPE | MAPE | MASE | ACF1 | Theil's U | \n",
       "|---|---|\n",
       "| Training set | 19.37870   |  61.95782  | 52.18350   | 0.6939835  | 1.882082   | 0.5400781  | -0.4830031 |       NA   | \n",
       "| Test set | 77.53338   | 100.92498  | 88.23899   | 2.1983856  | 2.517203   | 0.9132379  |  0.2892763 | 1.698108   | \n",
       "\n",
       "\n"
      ],
      "text/plain": [
       "             ME       RMSE      MAE      MPE       MAPE     MASE     \n",
       "Training set 19.37870  61.95782 52.18350 0.6939835 1.882082 0.5400781\n",
       "Test set     77.53338 100.92498 88.23899 2.1983856 2.517203 0.9132379\n",
       "             ACF1       Theil's U\n",
       "Training set -0.4830031       NA \n",
       "Test set      0.2892763 1.698108 "
      ]
     },
     "metadata": {},
     "output_type": "display_data"
    }
   ],
   "source": [
    "accuracy(gdp_rwf, test)"
   ]
  },
  {
   "cell_type": "code",
   "execution_count": 125,
   "metadata": {},
   "outputs": [],
   "source": [
    "var_acc_metrics  <-  c(1,2,5)"
   ]
  },
  {
   "cell_type": "code",
   "execution_count": 126,
   "metadata": {},
   "outputs": [],
   "source": [
    "list_forecasts  <- list(gdp_rwf, gdp_rwfwd, gdp_snaive, \n",
    "                        gdp_theta, gdp_arima, gdp_auto_arima, gdp_ets) \n",
    "list_forecasts_names  <- c(\"RW\", \"RW with drift \",\"SNaive\", \"Theta\", \n",
    "                           \"ARIMA\", \"Auto ARIMA\", \"ETS\") "
   ]
  },
  {
   "cell_type": "code",
   "execution_count": 127,
   "metadata": {},
   "outputs": [],
   "source": [
    "df_acc_test  <- as.data.frame(accuracy(list_forecasts[[1]], test)[2, var_acc_metrics])\n",
    "for (i in list_forecasts[2:length(list_forecasts)]){\n",
    "    x  <-  as.data.frame(accuracy(i, test)[2, var_acc_metrics])\n",
    "    df_acc_test   <-  cbind(df_acc_test, x)\n",
    "}\n",
    "df_acc_test  <- t(df_acc_test)\n",
    "df_acc_test  <-  as.data.frame(df_acc_test)\n",
    "row.names(df_acc_test)  <-  list_forecasts_names\n"
   ]
  },
  {
   "cell_type": "code",
   "execution_count": 128,
   "metadata": {},
   "outputs": [
    {
     "data": {
      "text/html": [
       "<table>\n",
       "<thead><tr><th></th><th scope=col>ME</th><th scope=col>RMSE</th><th scope=col>MAPE</th></tr></thead>\n",
       "<tbody>\n",
       "\t<tr><th scope=row>RW with drift </th><td>  0.01856923</td><td> 34.77671   </td><td>0.8161775   </td></tr>\n",
       "\t<tr><th scope=row>Auto ARIMA</th><td> 70.50313847</td><td> 71.54672   </td><td>2.0274846   </td></tr>\n",
       "\t<tr><th scope=row>ARIMA</th><td> 72.67030985</td><td> 73.73100   </td><td>2.0878054   </td></tr>\n",
       "\t<tr><th scope=row>RW</th><td> 77.53337619</td><td>100.92498   </td><td>2.5172025   </td></tr>\n",
       "\t<tr><th scope=row>ETS</th><td>100.50018977</td><td>108.38764   </td><td>2.8744570   </td></tr>\n",
       "\t<tr><th scope=row>Theta</th><td>103.38465963</td><td>109.49660   </td><td>2.9609962   </td></tr>\n",
       "\t<tr><th scope=row>SNaive</th><td>134.85807143</td><td>146.04369   </td><td>3.8583627   </td></tr>\n",
       "</tbody>\n",
       "</table>\n"
      ],
      "text/latex": [
       "\\begin{tabular}{r|lll}\n",
       "  & ME & RMSE & MAPE\\\\\n",
       "\\hline\n",
       "\tRW with drift  &   0.01856923 &  34.77671    & 0.8161775   \\\\\n",
       "\tAuto ARIMA &  70.50313847 &  71.54672    & 2.0274846   \\\\\n",
       "\tARIMA &  72.67030985 &  73.73100    & 2.0878054   \\\\\n",
       "\tRW &  77.53337619 & 100.92498    & 2.5172025   \\\\\n",
       "\tETS & 100.50018977 & 108.38764    & 2.8744570   \\\\\n",
       "\tTheta & 103.38465963 & 109.49660    & 2.9609962   \\\\\n",
       "\tSNaive & 134.85807143 & 146.04369    & 3.8583627   \\\\\n",
       "\\end{tabular}\n"
      ],
      "text/markdown": [
       "\n",
       "| <!--/--> | ME | RMSE | MAPE | \n",
       "|---|---|---|---|---|---|---|\n",
       "| RW with drift  |   0.01856923 |  34.77671    | 0.8161775    | \n",
       "| Auto ARIMA |  70.50313847 |  71.54672    | 2.0274846    | \n",
       "| ARIMA |  72.67030985 |  73.73100    | 2.0878054    | \n",
       "| RW |  77.53337619 | 100.92498    | 2.5172025    | \n",
       "| ETS | 100.50018977 | 108.38764    | 2.8744570    | \n",
       "| Theta | 103.38465963 | 109.49660    | 2.9609962    | \n",
       "| SNaive | 134.85807143 | 146.04369    | 3.8583627    | \n",
       "\n",
       "\n"
      ],
      "text/plain": [
       "               ME           RMSE      MAPE     \n",
       "RW with drift    0.01856923  34.77671 0.8161775\n",
       "Auto ARIMA      70.50313847  71.54672 2.0274846\n",
       "ARIMA           72.67030985  73.73100 2.0878054\n",
       "RW              77.53337619 100.92498 2.5172025\n",
       "ETS            100.50018977 108.38764 2.8744570\n",
       "Theta          103.38465963 109.49660 2.9609962\n",
       "SNaive         134.85807143 146.04369 3.8583627"
      ]
     },
     "metadata": {},
     "output_type": "display_data"
    }
   ],
   "source": [
    "df_acc_test[order(df_acc_test$RMSE),]"
   ]
  },
  {
   "cell_type": "code",
   "execution_count": 129,
   "metadata": {},
   "outputs": [
    {
     "data": {},
     "metadata": {},
     "output_type": "display_data"
    },
    {
     "data": {
      "image/png": "[encoded data removed]",
      "text/plain": [
       "plot without title"
      ]
     },
     "metadata": {},
     "output_type": "display_data"
    }
   ],
   "source": [
    "autoplot(window(gdp_agg, start=2012)) +\n",
    "    autolayer(gdp_rwf, series=\"RW\", PI=FALSE) +\n",
    "    autolayer(gdp_rwfwd, series=\"RW with drift\", PI=FALSE) +\n",
    "    autolayer(gdp_snaive, series=\"SNaive\", PI=FALSE) +\n",
    "    autolayer(gdp_theta, series=\"Theta Method\", PI=FALSE) +\n",
    "    autolayer(gdp_arima, series=\"ARIMA\", PI=FALSE) +\n",
    "    autolayer(gdp_auto_arima, series=\"Auto ARIMA\", PI=FALSE) +\n",
    "    autolayer(gdp_ets, series=\"ETS\", PI=FALSE) +\n",
    "    xlab(\"Year\") + ylab(\"Mln. Euro\") +\n",
    "    ggtitle(\"Модель 0, 00\") +\n",
    "    guides(colour=guide_legend(title=\"Forecast\")) +\n",
    "    theme(aspect.ratio = 0.75)"
   ]
  },
  {
   "cell_type": "markdown",
   "metadata": {},
   "source": [
    "### tsCV()"
   ]
  },
  {
   "cell_type": "code",
   "execution_count": 130,
   "metadata": {},
   "outputs": [
    {
     "data": {
      "text/html": [
       "76.9951354087957"
      ],
      "text/latex": [
       "76.9951354087957"
      ],
      "text/markdown": [
       "76.9951354087957"
      ],
      "text/plain": [
       "[1] 76.99514"
      ]
     },
     "metadata": {},
     "output_type": "display_data"
    }
   ],
   "source": [
    "gdp_arima_top_cv <- function(x, h){forecast(Arima(x, order=c(3,0,0), seasonal=c(2,0,0), include.drift = TRUE, include.constant\n",
    "= TRUE), h=h)}\n",
    "e_arima_top  <-  tsCV(gdp_agg, gdp_arima_top_cv, h=7, window=40)[42:68,]\n",
    "sqrt(mean(e_arima_top^2, na.rm=TRUE))"
   ]
  },
  {
   "cell_type": "code",
   "execution_count": 131,
   "metadata": {},
   "outputs": [
    {
     "data": {
      "text/html": [
       "108.349527896402"
      ],
      "text/latex": [
       "108.349527896402"
      ],
      "text/markdown": [
       "108.349527896402"
      ],
      "text/plain": [
       "[1] 108.3495"
      ]
     },
     "metadata": {},
     "output_type": "display_data"
    }
   ],
   "source": [
    "gdp_rwf_cv <- function(x, h){rwf(x,h=h)}\n",
    "e_rwf  <-  tsCV(gdp_agg, gdp_rwf_cv, h=7, window=40)[42:68,]\n",
    "sqrt(mean(e_rwf^2, na.rm=TRUE))"
   ]
  },
  {
   "cell_type": "code",
   "execution_count": 179,
   "metadata": {},
   "outputs": [],
   "source": [
    "?tsCV"
   ]
  },
  {
   "cell_type": "code",
   "execution_count": 111,
   "metadata": {},
   "outputs": [
    {
     "data": {
      "text/plain": [
       "\n",
       "\tDiebold-Mariano Test\n",
       "\n",
       "data:  e_rwf[, 1]e_arima_top[, 1]\n",
       "DM = 4.6441, Forecast horizon = 1, Loss function power = 2, p-value =\n",
       "8.599e-05\n",
       "alternative hypothesis: two.sided\n"
      ]
     },
     "metadata": {},
     "output_type": "display_data"
    },
    {
     "data": {
      "text/plain": [
       "\n",
       "\tDiebold-Mariano Test\n",
       "\n",
       "data:  e_rwf[, 7]e_arima_top[, 7]\n",
       "DM = 1.9624, Forecast horizon = 7, Loss function power = 2, p-value =\n",
       "0.0605\n",
       "alternative hypothesis: two.sided\n"
      ]
     },
     "metadata": {},
     "output_type": "display_data"
    }
   ],
   "source": [
    "dm.test(e_rwf[,1], e_arima_top[,1], alternative = \"two.sided\", h = 1, power = 2)\n",
    "dm.test(e_rwf[,7], e_arima_top[,7], alternative = \"two.sided\", h = 7, power = 2)"
   ]
  },
  {
   "cell_type": "code",
   "execution_count": 114,
   "metadata": {},
   "outputs": [
    {
     "data": {
      "text/plain": [
       "\n",
       "\tDiebold-Mariano Test\n",
       "\n",
       "data:  e_rwf[, 1]e_arima_top[, 1]\n",
       "DM = 4.6441, Forecast horizon = 1, Loss function power = 2, p-value =\n",
       "4.3e-05\n",
       "alternative hypothesis: greater\n"
      ]
     },
     "metadata": {},
     "output_type": "display_data"
    },
    {
     "data": {
      "text/plain": [
       "\n",
       "\tDiebold-Mariano Test\n",
       "\n",
       "data:  e_arima_top[, 7]e_rwf[, 7]\n",
       "DM = -1.9624, Forecast horizon = 7, Loss function power = 2, p-value =\n",
       "0.9697\n",
       "alternative hypothesis: greater\n"
      ]
     },
     "metadata": {},
     "output_type": "display_data"
    }
   ],
   "source": [
    "dm.test(e_rwf[,1], e_arima_top[,1], alternative = \"greater\", h = 1, power = 2)\n",
    "dm.test(e_arima_top[,7], e_rwf[,7], alternative = \"greater\", h = 7, power = 2)"
   ]
  },
  {
   "cell_type": "code",
   "execution_count": 136,
   "metadata": {},
   "outputs": [
    {
     "data": {
      "text/html": [
       "93.9230973468985"
      ],
      "text/latex": [
       "93.9230973468985"
      ],
      "text/markdown": [
       "93.9230973468985"
      ],
      "text/plain": [
       "[1] 93.9231"
      ]
     },
     "metadata": {},
     "output_type": "display_data"
    }
   ],
   "source": [
    "gdp_arima212_cv <- function(x, h){forecast(Arima(x, order=c(2,1,2), seasonal=c(2,1,2)), h=h)}\n",
    "e_arima212  <-  tsCV(gdp_agg, gdp_arima212_cv, h=7, window=40)[42:68,]\n",
    "sqrt(mean(e_arima212^2, na.rm=TRUE))"
   ]
  },
  {
   "cell_type": "code",
   "execution_count": 137,
   "metadata": {},
   "outputs": [
    {
     "data": {
      "text/html": [
       "82.6621872966403"
      ],
      "text/latex": [
       "82.6621872966403"
      ],
      "text/markdown": [
       "82.6621872966403"
      ],
      "text/plain": [
       "[1] 82.66219"
      ]
     },
     "metadata": {},
     "output_type": "display_data"
    }
   ],
   "source": [
    "gdp_arima310_cv <- function(x, h){forecast(Arima(x, order=c(3,1,0), seasonal=c(3,1,0)), h=h)}\n",
    "e_arima310  <-  tsCV(gdp_agg, gdp_arima310_cv, h=7, window=40)[42:68,]\n",
    "sqrt(mean(e_arima310^2, na.rm=TRUE))"
   ]
  },
  {
   "cell_type": "code",
   "execution_count": 138,
   "metadata": {},
   "outputs": [
    {
     "data": {
      "text/html": [
       "87.3221205943074"
      ],
      "text/latex": [
       "87.3221205943074"
      ],
      "text/markdown": [
       "87.3221205943074"
      ],
      "text/plain": [
       "[1] 87.32212"
      ]
     },
     "metadata": {},
     "output_type": "display_data"
    }
   ],
   "source": [
    "gdp_auto_arima_cv <- function(x, h){forecast(auto.arima(x, stationary = FALSE, seasonal = TRUE, lambda=\"auto\"), h=h)}\n",
    "e_auto_arima  <-  tsCV(gdp_agg, gdp_auto_arima_cv, h=7, window=40)[42:68,]\n",
    "sqrt(mean(e_auto_arima^2, na.rm=TRUE))"
   ]
  },
  {
   "cell_type": "markdown",
   "metadata": {},
   "source": [
    "##### lubridate"
   ]
  },
  {
   "cell_type": "code",
   "execution_count": null,
   "metadata": {},
   "outputs": [],
   "source": [
    "library(lubridate)\n",
    "\n",
    "economics$month <- as.factor(month(economics$date))\n",
    "\n",
    "#### creating sampling seeds ####\n",
    "set.seed(123)\n",
    "seeds <- vector(mode = \"list\", length = 432)\n",
    "for(i in 1:431) seeds[[i]] <- sample.int(1000, 5)\n",
    "\n",
    "## For the last model:\n",
    "seeds[[432]] <- sample.int(1000, 1)"
   ]
  },
  {
   "cell_type": "markdown",
   "metadata": {},
   "source": [
    "#####  function"
   ]
  },
  {
   "cell_type": "code",
   "execution_count": 13,
   "metadata": {},
   "outputs": [],
   "source": [
    "var_freq  <- 4    \n",
    "var_start_year  <- 2000   \n",
    "var_h  <- 8\n",
    "var_window  <-  48 - 1\n",
    "var_topup  <-  1\n",
    "var_iter   <- (length(gdp_agg)+var_topup)/var_freq-(var_window+1)/var_freq-2\n"
   ]
  },
  {
   "cell_type": "code",
   "execution_count": 14,
   "metadata": {},
   "outputs": [
    {
     "name": "stdout",
     "output_type": "stream",
     "text": [
      "[1] 2000.00 2011.75 2012.00 2013.75\n",
      "[1] 48  8\n",
      "[1] 2001.00 2012.75 2013.00 2014.75\n",
      "[1] 48  8\n",
      "[1] 2002.00 2013.75 2014.00 2015.75\n",
      "[1] 48  8\n",
      "[1] 2003.00 2014.75 2015.00 2016.75\n",
      "[1] 48  8\n",
      "[1] 2004.00 2015.75 2016.00 2017.75\n",
      "[1] 48  8\n",
      "[1] 2005.00 2016.75 2017.00 2018.75\n",
      "[1] 48  8\n"
     ]
    }
   ],
   "source": [
    "ac <- list()\n",
    "\n",
    "for (i in 0:var_iter){\n",
    "    st_year  <-  var_start_year + i\n",
    "    train_start  <- st_year \n",
    "    train_end  <- st_year + 1/var_freq*(var_window)\n",
    "    test_start  <- st_year + 1/var_freq*(var_window+1) \n",
    "    test_end  <-  st_year + 1/var_freq*(var_window+var_h)\n",
    "    \n",
    "    print(c(train_start, train_end, test_start, test_end))\n",
    "    \n",
    "    if (i == 0){\n",
    "        train <- window(gdp_agg, end=train_end)}\n",
    "    else{\n",
    "        train <- window(gdp_agg, start=train_start, end=train_end)\n",
    "    }\n",
    "    \n",
    "    if (i == var_iter){\n",
    "        test <- window(gdp_agg, start=test_start-1/var_freq)}\n",
    "    else{\n",
    "        test <- window(gdp_agg, start=test_start, end=test_end)\n",
    "    }\n",
    "        \n",
    "    print(c(length(train), length(test)))\n",
    "\n",
    "    \n",
    "    gdp_arima  <- forecast(Arima(train, order=c(3,0,0), seasonal=c(2,0,0), include.drift = TRUE, include.mean = TRUE), h = 8  )\n",
    "    \n",
    "    ac[[i+1]]  <-  accuracy(gdp_arima, test)\n",
    "    \n",
    "    }"
   ]
  },
  {
   "cell_type": "code",
   "execution_count": 17,
   "metadata": {},
   "outputs": [],
   "source": [
    "var_acc_metrics  <-  c(1,2,5)"
   ]
  },
  {
   "cell_type": "code",
   "execution_count": 18,
   "metadata": {},
   "outputs": [
    {
     "data": {
      "text/html": [
       "<table>\n",
       "<thead><tr><th></th><th scope=col>ME</th><th scope=col>RMSE</th><th scope=col>MAPE</th></tr></thead>\n",
       "<tbody>\n",
       "\t<tr><th scope=row>Training set</th><td> 1.195534</td><td>32.41012 </td><td>0.9382277</td></tr>\n",
       "\t<tr><th scope=row>Test set</th><td>35.493703</td><td>59.45370 </td><td>1.5052923</td></tr>\n",
       "</tbody>\n",
       "</table>\n"
      ],
      "text/latex": [
       "\\begin{tabular}{r|lll}\n",
       "  & ME & RMSE & MAPE\\\\\n",
       "\\hline\n",
       "\tTraining set &  1.195534 & 32.41012  & 0.9382277\\\\\n",
       "\tTest set & 35.493703 & 59.45370  & 1.5052923\\\\\n",
       "\\end{tabular}\n"
      ],
      "text/markdown": [
       "\n",
       "| <!--/--> | ME | RMSE | MAPE | \n",
       "|---|---|\n",
       "| Training set |  1.195534 | 32.41012  | 0.9382277 | \n",
       "| Test set | 35.493703 | 59.45370  | 1.5052923 | \n",
       "\n",
       "\n"
      ],
      "text/plain": [
       "             ME        RMSE     MAPE     \n",
       "Training set  1.195534 32.41012 0.9382277\n",
       "Test set     35.493703 59.45370 1.5052923"
      ]
     },
     "metadata": {},
     "output_type": "display_data"
    }
   ],
   "source": [
    "ac[[2]][,var_acc_metrics]"
   ]
  },
  {
   "cell_type": "code",
   "execution_count": 19,
   "metadata": {},
   "outputs": [
    {
     "data": {
      "text/html": [
       "<ol class=list-inline>\n",
       "\t<li>1</li>\n",
       "\t<li>2</li>\n",
       "\t<li>3</li>\n",
       "\t<li>4</li>\n",
       "\t<li>5</li>\n",
       "\t<li>6</li>\n",
       "</ol>\n"
      ],
      "text/latex": [
       "\\begin{enumerate*}\n",
       "\\item 1\n",
       "\\item 2\n",
       "\\item 3\n",
       "\\item 4\n",
       "\\item 5\n",
       "\\item 6\n",
       "\\end{enumerate*}\n"
      ],
      "text/markdown": [
       "1. 1\n",
       "2. 2\n",
       "3. 3\n",
       "4. 4\n",
       "5. 5\n",
       "6. 6\n",
       "\n",
       "\n"
      ],
      "text/plain": [
       "[1] 1 2 3 4 5 6"
      ]
     },
     "metadata": {},
     "output_type": "display_data"
    }
   ],
   "source": [
    "seq(1, var_iter+1)"
   ]
  },
  {
   "cell_type": "code",
   "execution_count": 27,
   "metadata": {},
   "outputs": [
    {
     "data": {
      "text/html": [
       "'a a'"
      ],
      "text/latex": [
       "'a a'"
      ],
      "text/markdown": [
       "'a a'"
      ],
      "text/plain": [
       "[1] \"a a\""
      ]
     },
     "metadata": {},
     "output_type": "display_data"
    }
   ],
   "source": [
    "paste('a', 'a')"
   ]
  },
  {
   "cell_type": "code",
   "execution_count": 28,
   "metadata": {},
   "outputs": [],
   "source": [
    "cn  <- colnames(ac[[1]])[var_acc_metrics]"
   ]
  },
  {
   "cell_type": "code",
   "execution_count": 29,
   "metadata": {},
   "outputs": [
    {
     "data": {
      "text/html": [
       "<ol class=list-inline>\n",
       "\t<li>'ME'</li>\n",
       "\t<li>'RMSE'</li>\n",
       "\t<li>'MAPE'</li>\n",
       "</ol>\n"
      ],
      "text/latex": [
       "\\begin{enumerate*}\n",
       "\\item 'ME'\n",
       "\\item 'RMSE'\n",
       "\\item 'MAPE'\n",
       "\\end{enumerate*}\n"
      ],
      "text/markdown": [
       "1. 'ME'\n",
       "2. 'RMSE'\n",
       "3. 'MAPE'\n",
       "\n",
       "\n"
      ],
      "text/plain": [
       "[1] \"ME\"   \"RMSE\" \"MAPE\""
      ]
     },
     "metadata": {},
     "output_type": "display_data"
    }
   ],
   "source": [
    "cn"
   ]
  },
  {
   "cell_type": "code",
   "execution_count": 67,
   "metadata": {},
   "outputs": [],
   "source": [
    "# ac_list  <- list()\n",
    "k=0\n",
    "df_acc  <-  data.frame(matrix(ncol=2*length(var_acc_metrics),nrow=var_iter+1))\n",
    "colnames(df_acc)  <-  colnames(ac[[1]])[var_acc_metrics] \n",
    "df_acc  <-  cbind(df_acc, seq(1, var_iter+1))\n",
    "for (i in var_acc_metrics){\n",
    "    k=k+1    \n",
    "    for (j in 1:length(ac)){\n",
    "        for (l in 1:2){\n",
    "            m = k + (l-1)*3\n",
    "            if (l == 1){\n",
    "                colnames(df_acc)[m]  <-  paste(cn[k],'train', sep=\"_\")\n",
    "             } else {\n",
    "                colnames(df_acc)[m]  <-  paste(cn[k],'test', sep=\"_\")\n",
    "            }   \n",
    "            df_acc[j,m] <- ac[[j]][l,i] \n",
    "        }\n",
    "    }\n",
    "}"
   ]
  },
  {
   "cell_type": "code",
   "execution_count": 76,
   "metadata": {},
   "outputs": [],
   "source": [
    "colnames(df_acc)[2*length(var_acc_metrics)+1]  <-  'Iteration'"
   ]
  },
  {
   "cell_type": "code",
   "execution_count": 69,
   "metadata": {},
   "outputs": [
    {
     "data": {
      "text/html": [
       "<table>\n",
       "<thead><tr><th scope=col>ME_train</th><th scope=col>RMSE_train</th><th scope=col>MAPE_train</th><th scope=col>ME_test</th><th scope=col>RMSE_test</th><th scope=col>MAPE_test</th><th scope=col>h</th></tr></thead>\n",
       "<tbody>\n",
       "\t<tr><td>1.0748768</td><td>30.10110 </td><td>0.8899481</td><td>-25.11856</td><td>39.80315 </td><td>1.047253 </td><td>1        </td></tr>\n",
       "\t<tr><td>1.1955339</td><td>32.41012 </td><td>0.9382277</td><td> 35.49370</td><td>59.45370 </td><td>1.505292 </td><td>2        </td></tr>\n",
       "\t<tr><td>0.8886413</td><td>31.11230 </td><td>0.9009608</td><td> 56.58739</td><td>73.48258 </td><td>1.709209 </td><td>3        </td></tr>\n",
       "\t<tr><td>1.0133220</td><td>30.73450 </td><td>0.8612081</td><td> 60.65981</td><td>66.00735 </td><td>1.815791 </td><td>4        </td></tr>\n",
       "\t<tr><td>0.4987918</td><td>30.61044 </td><td>0.8299661</td><td>-63.86244</td><td>71.66316 </td><td>1.941324 </td><td>5        </td></tr>\n",
       "\t<tr><td>0.8896766</td><td>33.26403 </td><td>0.8876536</td><td> 64.98109</td><td>66.31346 </td><td>1.865292 </td><td>6        </td></tr>\n",
       "</tbody>\n",
       "</table>\n"
      ],
      "text/latex": [
       "\\begin{tabular}{r|lllllll}\n",
       " ME\\_train & RMSE\\_train & MAPE\\_train & ME\\_test & RMSE\\_test & MAPE\\_test & h\\\\\n",
       "\\hline\n",
       "\t 1.0748768 & 30.10110  & 0.8899481 & -25.11856 & 39.80315  & 1.047253  & 1        \\\\\n",
       "\t 1.1955339 & 32.41012  & 0.9382277 &  35.49370 & 59.45370  & 1.505292  & 2        \\\\\n",
       "\t 0.8886413 & 31.11230  & 0.9009608 &  56.58739 & 73.48258  & 1.709209  & 3        \\\\\n",
       "\t 1.0133220 & 30.73450  & 0.8612081 &  60.65981 & 66.00735  & 1.815791  & 4        \\\\\n",
       "\t 0.4987918 & 30.61044  & 0.8299661 & -63.86244 & 71.66316  & 1.941324  & 5        \\\\\n",
       "\t 0.8896766 & 33.26403  & 0.8876536 &  64.98109 & 66.31346  & 1.865292  & 6        \\\\\n",
       "\\end{tabular}\n"
      ],
      "text/markdown": [
       "\n",
       "ME_train | RMSE_train | MAPE_train | ME_test | RMSE_test | MAPE_test | h | \n",
       "|---|---|---|---|---|---|\n",
       "| 1.0748768 | 30.10110  | 0.8899481 | -25.11856 | 39.80315  | 1.047253  | 1         | \n",
       "| 1.1955339 | 32.41012  | 0.9382277 |  35.49370 | 59.45370  | 1.505292  | 2         | \n",
       "| 0.8886413 | 31.11230  | 0.9009608 |  56.58739 | 73.48258  | 1.709209  | 3         | \n",
       "| 1.0133220 | 30.73450  | 0.8612081 |  60.65981 | 66.00735  | 1.815791  | 4         | \n",
       "| 0.4987918 | 30.61044  | 0.8299661 | -63.86244 | 71.66316  | 1.941324  | 5         | \n",
       "| 0.8896766 | 33.26403  | 0.8876536 |  64.98109 | 66.31346  | 1.865292  | 6         | \n",
       "\n",
       "\n"
      ],
      "text/plain": [
       "  ME_train  RMSE_train MAPE_train ME_test   RMSE_test MAPE_test h\n",
       "1 1.0748768 30.10110   0.8899481  -25.11856 39.80315  1.047253  1\n",
       "2 1.1955339 32.41012   0.9382277   35.49370 59.45370  1.505292  2\n",
       "3 0.8886413 31.11230   0.9009608   56.58739 73.48258  1.709209  3\n",
       "4 1.0133220 30.73450   0.8612081   60.65981 66.00735  1.815791  4\n",
       "5 0.4987918 30.61044   0.8299661  -63.86244 71.66316  1.941324  5\n",
       "6 0.8896766 33.26403   0.8876536   64.98109 66.31346  1.865292  6"
      ]
     },
     "metadata": {},
     "output_type": "display_data"
    }
   ],
   "source": [
    "df_acc"
   ]
  },
  {
   "cell_type": "code",
   "execution_count": 55,
   "metadata": {},
   "outputs": [],
   "source": [
    "library(ggplot2)"
   ]
  },
  {
   "cell_type": "code",
   "execution_count": 112,
   "metadata": {},
   "outputs": [],
   "source": [
    "# Basic line plot with points\n",
    "p1  <- ggplot(data=df_acc, aes(x=Iteration, y=ME_train)) +\n",
    "    geom_line(aes(x=Iteration, y=ME_test), colour = \"red\" ) + \n",
    "    geom_line() + labs(title = \" \")  +\n",
    "    theme(aspect.ratio = 1)+\n",
    "labs(y = \"ME\", x = 'Итерация')\n",
    "\n",
    "\n",
    "p2  <-  ggplot(data=df_acc, aes(x=Iteration, y=RMSE_train)) +\n",
    "    geom_line(aes(x=Iteration, y=RMSE_test), colour = \"red\" ) + \n",
    "    geom_line()+\n",
    "    theme(aspect.ratio = 1)+\n",
    "labs(y = \"RMSE\", x = 'Итерация')+ labs(title = \"Квартальные данные\") +\n",
    "  theme(plot.title = element_text(hjust = 0.5))\n",
    "\n",
    "p3  <-  ggplot(data=df_acc, aes(x=Iteration, y=MAPE_train)) +\n",
    "    geom_line(aes(x=Iteration, y=MAPE_test), colour = \"red\" ) + \n",
    "    geom_line()+ labs(title = \" \") +\n",
    "    theme(aspect.ratio = 1)+\n",
    "labs(y = \"MAPE\", x = 'Итерация')\n"
   ]
  },
  {
   "cell_type": "code",
   "execution_count": 113,
   "metadata": {},
   "outputs": [
    {
     "data": {
      "image/png": "[encoded data removed]",
      "text/plain": [
       "plot without title"
      ]
     },
     "metadata": {},
     "output_type": "display_data"
    }
   ],
   "source": [
    "library(gridExtra)\n",
    "grid.arrange(p1, p2, p3, ncol = 3)"
   ]
  },
  {
   "cell_type": "code",
   "execution_count": null,
   "metadata": {},
   "outputs": [],
   "source": [
    "# df_acc_test  <- as.data.frame(accuracy(list_forecasts[[1]], test)[2, var_acc_metrics])\n",
    "# for (i in list_forecasts[2:length(list_forecasts)]){\n",
    "#     x  <-  as.data.frame(accuracy(i, test)[2, var_acc_metrics])\n",
    "#     df_acc_test   <-  cbind(df_acc_test, x)\n",
    "# }\n",
    "# df_acc_test  <- t(df_acc_test)\n",
    "# df_acc_test  <-  as.data.frame(df_acc_test)\n",
    "# row.names(df_acc_test)  <-  list_forecasts_names\n",
    "\n",
    "\n",
    "# df_acc_test[order(df_acc_test$RMSE),]"
   ]
  },
  {
   "cell_type": "code",
   "execution_count": null,
   "metadata": {},
   "outputs": [],
   "source": []
  }
 ],
 "metadata": {
  "kernelspec": {
   "display_name": "R 3.5.1",
   "language": "R",
   "name": "ir"
  },
  "language_info": {
   "codemirror_mode": "r",
   "file_extension": ".r",
   "mimetype": "text/x-r-source",
   "name": "R",
   "pygments_lexer": "r",
   "version": "3.5.2"
  }
 },
 "nbformat": 4,
 "nbformat_minor": 2
}
