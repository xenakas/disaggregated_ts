{
 "cells": [
  {
   "cell_type": "markdown",
   "metadata": {},
   "source": [
    "#### 9"
   ]
  },
  {
   "cell_type": "code",
   "execution_count": 1,
   "metadata": {
    "scrolled": true
   },
   "outputs": [
    {
     "name": "stderr",
     "output_type": "stream",
     "text": [
      "\n",
      "Attaching package: ‘dplyr’\n",
      "\n",
      "The following objects are masked from ‘package:stats’:\n",
      "\n",
      "    filter, lag\n",
      "\n",
      "The following objects are masked from ‘package:base’:\n",
      "\n",
      "    intersect, setdiff, setequal, union\n",
      "\n",
      "\n",
      "Attaching package: ‘gridExtra’\n",
      "\n",
      "The following object is masked from ‘package:dplyr’:\n",
      "\n",
      "    combine\n",
      "\n"
     ]
    }
   ],
   "source": [
    "library(forecast)\n",
    "library(ggplot2)\n",
    "library(dplyr)\n",
    "library(gridExtra)"
   ]
  },
  {
   "cell_type": "code",
   "execution_count": 2,
   "metadata": {},
   "outputs": [
    {
     "name": "stderr",
     "output_type": "stream",
     "text": [
      "Loading required package: foreach\n",
      "Loading required package: iterators\n",
      "Loading required package: parallel\n"
     ]
    }
   ],
   "source": [
    "# library(doParallel)\n",
    "library(doMC)\n",
    "options(cores = 10)\n",
    "registerDoMC()"
   ]
  },
  {
   "cell_type": "markdown",
   "metadata": {},
   "source": [
    "### ЕС"
   ]
  },
  {
   "cell_type": "code",
   "execution_count": 3,
   "metadata": {},
   "outputs": [],
   "source": [
    "df_eu  <-  read.csv(file=\"../data_hts/hts_eu_a10.csv\", header=TRUE, sep=\",\", row.names =1 )\n",
    "df_eu  <-  df_eu/1000\n",
    "var_freq  <- 4    \n",
    "var_start_year  <- 2000   \n",
    "gdp_agg <- df_eu_sums <-  rowSums(df_eu)\n",
    "gdp_agg  <- ts(gdp_agg, frequency = var_freq, start = var_start_year) "
   ]
  },
  {
   "cell_type": "code",
   "execution_count": 4,
   "metadata": {},
   "outputs": [],
   "source": [
    "var_h  <- 8\n",
    "var_window  <-  48 - 1\n",
    "var_topup  <-  1\n",
    "var_iter   <- (length(gdp_agg)+var_topup)/var_freq-(var_window+1)/var_freq-2"
   ]
  },
  {
   "cell_type": "code",
   "execution_count": 5,
   "metadata": {},
   "outputs": [],
   "source": [
    "# var_allornot  <- var_freq\n",
    "var_allornot  <- 1\n",
    "# var_shift  <-  var_topup\n",
    "var_shift  <-  0"
   ]
  },
  {
   "cell_type": "code",
   "execution_count": 6,
   "metadata": {},
   "outputs": [],
   "source": [
    "var_arpdq   <-  c(3,1,1)\n",
    "var_sarpdq   <-  c(2,1,1)\n",
    "var_drift   <-  FALSE\n",
    "var_constant   <-  FALSE\n",
    "var_ets  <- \"MMM\"\n",
    "var_damped  <- FALSE"
   ]
  },
  {
   "cell_type": "code",
   "execution_count": 7,
   "metadata": {},
   "outputs": [
    {
     "name": "stdout",
     "output_type": "stream",
     "text": [
      "[1] 2000.00 2011.75 2012.00 2013.75\n",
      "[1] 2001.00 2012.75 2013.00 2014.75\n",
      "[1] 2002.00 2013.75 2014.00 2015.75\n",
      "[1] 2003.00 2014.75 2015.00 2016.75\n",
      "[1] 2004.00 2015.75 2016.00 2017.75\n",
      "[1] 2005.00 2016.75 2017.00 2018.75\n"
     ]
    }
   ],
   "source": [
    "l <- ac <- m_top  <- l_test  <-  list()\n",
    "\n",
    "k  <- 0\n",
    "\n",
    "for (i in 0:(var_iter*var_allornot - var_shift)){\n",
    "    k  <-  k+1\n",
    "    st_year  <-  var_start_year + i/var_allornot\n",
    "    train_start  <- st_year \n",
    "    train_end  <- st_year + 1/var_freq*(var_window)\n",
    "    test_start  <- st_year + 1/var_freq*(var_window+1) \n",
    "    test_end  <-  st_year + 1/var_freq*(var_window+var_h)\n",
    "    \n",
    "    print(c(train_start, train_end, test_start, test_end))\n",
    "    \n",
    "    if (i == 0){\n",
    "        train <- window(gdp_agg, end=train_end)}\n",
    "    else{\n",
    "        if ((var_shift == 0) & (i == var_iter*var_allornot - var_shift)){\n",
    "            train <- window(gdp_agg, start=train_start-var_topup/var_freq, end=train_end-var_topup/var_freq)\n",
    "        }else{\n",
    "            train <- window(gdp_agg, start=train_start, end=train_end)\n",
    "    }}\n",
    "    \n",
    "    if ((var_shift == 0) & (i == var_iter*var_allornot - var_shift)){\n",
    "        test <- window(gdp_agg, start=test_start-var_topup/var_freq)\n",
    "    }else{    test <- window(gdp_agg, start=test_start, end=test_end)\n",
    "        \n",
    "    }\n",
    "    \n",
    "    m_top[[k]]  <- ets(msts(train, seasonal.periods = var_freq), lambda=NULL)\n",
    "    \n",
    "#     print(test)\n",
    "#     print(gdp_arima)\n",
    "    l[[k]]  <-   forecast(m_top[[k]], h = var_h  )\n",
    "\n",
    "    l_test[[i+1]]  <-   test\n",
    "    \n",
    "    ac[[i+1]]  <-  accuracy(l[[k]], test)\n",
    "\n",
    "    }"
   ]
  },
  {
   "cell_type": "code",
   "execution_count": 8,
   "metadata": {},
   "outputs": [
    {
     "data": {
      "text/html": [
       "<table>\n",
       "<thead><tr><th scope=col>ME</th><th scope=col>RMSE</th><th scope=col>MAPE</th></tr></thead>\n",
       "<tbody>\n",
       "\t<tr><td> 20.79276</td><td> 25.01813</td><td>0.7043804</td></tr>\n",
       "\t<tr><td> 28.54744</td><td> 50.10987</td><td>1.2606182</td></tr>\n",
       "\t<tr><td> 62.53900</td><td> 75.97260</td><td>1.8966513</td></tr>\n",
       "\t<tr><td>102.20027</td><td>104.18849</td><td>3.0638459</td></tr>\n",
       "\t<tr><td>-31.50011</td><td> 49.07131</td><td>1.2274496</td></tr>\n",
       "\t<tr><td>191.39850</td><td>209.06627</td><td>5.4874125</td></tr>\n",
       "</tbody>\n",
       "</table>\n"
      ],
      "text/latex": [
       "\\begin{tabular}{r|lll}\n",
       " ME & RMSE & MAPE\\\\\n",
       "\\hline\n",
       "\t  20.79276 &  25.01813 & 0.7043804\\\\\n",
       "\t  28.54744 &  50.10987 & 1.2606182\\\\\n",
       "\t  62.53900 &  75.97260 & 1.8966513\\\\\n",
       "\t 102.20027 & 104.18849 & 3.0638459\\\\\n",
       "\t -31.50011 &  49.07131 & 1.2274496\\\\\n",
       "\t 191.39850 & 209.06627 & 5.4874125\\\\\n",
       "\\end{tabular}\n"
      ],
      "text/markdown": [
       "\n",
       "ME | RMSE | MAPE | \n",
       "|---|---|---|---|---|---|\n",
       "|  20.79276 |  25.01813 | 0.7043804 | \n",
       "|  28.54744 |  50.10987 | 1.2606182 | \n",
       "|  62.53900 |  75.97260 | 1.8966513 | \n",
       "| 102.20027 | 104.18849 | 3.0638459 | \n",
       "| -31.50011 |  49.07131 | 1.2274496 | \n",
       "| 191.39850 | 209.06627 | 5.4874125 | \n",
       "\n",
       "\n"
      ],
      "text/plain": [
       "  ME        RMSE      MAPE     \n",
       "1  20.79276  25.01813 0.7043804\n",
       "2  28.54744  50.10987 1.2606182\n",
       "3  62.53900  75.97260 1.8966513\n",
       "4 102.20027 104.18849 3.0638459\n",
       "5 -31.50011  49.07131 1.2274496\n",
       "6 191.39850 209.06627 5.4874125"
      ]
     },
     "metadata": {},
     "output_type": "display_data"
    }
   ],
   "source": [
    "var_acc_metrics  <-  c(1,2,5)\n",
    "df_acc_test  <- ac[[1]][2, var_acc_metrics]\n",
    "for (i in ac[2:length(ac)]){\n",
    "    x  <-  i[2, var_acc_metrics]\n",
    "    df_acc_test   <-  cbind(df_acc_test, x)\n",
    "}\n",
    "df_acc_test  <- t(df_acc_test)\n",
    "df_acc_test  <-  as.data.frame(df_acc_test)\n",
    "row.names(df_acc_test)  <-  seq(1,length(ac))\n",
    "df_acc_test"
   ]
  },
  {
   "cell_type": "code",
   "execution_count": 9,
   "metadata": {},
   "outputs": [
    {
     "data": {
      "text/html": [
       "<dl class=dl-horizontal>\n",
       "\t<dt>ME</dt>\n",
       "\t\t<dd>62.3296437176543</dd>\n",
       "\t<dt>RMSE</dt>\n",
       "\t\t<dd>85.5711109626886</dd>\n",
       "\t<dt>MAPE</dt>\n",
       "\t\t<dd>2.27339297890542</dd>\n",
       "</dl>\n"
      ],
      "text/latex": [
       "\\begin{description*}\n",
       "\\item[ME] 62.3296437176543\n",
       "\\item[RMSE] 85.5711109626886\n",
       "\\item[MAPE] 2.27339297890542\n",
       "\\end{description*}\n"
      ],
      "text/markdown": [
       "ME\n",
       ":   62.3296437176543RMSE\n",
       ":   85.5711109626886MAPE\n",
       ":   2.27339297890542\n",
       "\n"
      ],
      "text/plain": [
       "       ME      RMSE      MAPE \n",
       "62.329644 85.571111  2.273393 "
      ]
     },
     "metadata": {},
     "output_type": "display_data"
    }
   ],
   "source": [
    "colMeans(df_acc_test)"
   ]
  },
  {
   "cell_type": "code",
   "execution_count": 10,
   "metadata": {},
   "outputs": [
    {
     "data": {},
     "metadata": {},
     "output_type": "display_data"
    },
    {
     "data": {
      "image/png": "[encoded data removed]",
      "text/plain": [
       "plot without title"
      ]
     },
     "metadata": {},
     "output_type": "display_data"
    }
   ],
   "source": [
    "plot_forecasts  <-  autoplot(window(gdp_agg, start=2010))+\n",
    "    xlab(\"Время\") + ylab('ВВП') +\n",
    "    ggtitle(\"AR(3)SAR(2) с линейным трендом\") +\n",
    "    guides(colour=guide_legend(title=\" \")) +\n",
    "    theme(aspect.ratio = 0.75)\n",
    "\n",
    "for (i in 1:length(l)){\n",
    "    plot_forecasts  <-  plot_forecasts  +\n",
    "    autolayer(l[[i]], series=paste(\"Итерация\" , i, sep=\" \") ,   PI=FALSE) \n",
    "    \n",
    "}\n",
    "\n",
    "plot_forecasts\n"
   ]
  },
  {
   "cell_type": "code",
   "execution_count": 11,
   "metadata": {},
   "outputs": [
    {
     "data": {
      "text/html": [
       "<table>\n",
       "<thead><tr><th></th><th scope=col>Квартальные</th><th scope=col>Сезонно сглаженные</th><th scope=col>Месячные</th></tr></thead>\n",
       "<tbody>\n",
       "\t<tr><th scope=row>1 level</th><td>85.57111</td><td>309.7325</td><td>7735.429</td></tr>\n",
       "\t<tr><th scope=row>2</th><td>      NA</td><td>      NA</td><td>      NA</td></tr>\n",
       "\t<tr><th scope=row>3</th><td>      NA</td><td>      NA</td><td>      NA</td></tr>\n",
       "\t<tr><th scope=row>4</th><td>      NA</td><td>      NA</td><td>      NA</td></tr>\n",
       "\t<tr><th scope=row>5</th><td>      NA</td><td>      NA</td><td>      NA</td></tr>\n",
       "</tbody>\n",
       "</table>\n"
      ],
      "text/latex": [
       "\\begin{tabular}{r|lll}\n",
       "  & Квартальные & Сезонно сглаженные & Месячные\\\\\n",
       "\\hline\n",
       "\t1 level & 85.57111 & 309.7325 & 7735.429\\\\\n",
       "\t2 &       NA &       NA &       NA\\\\\n",
       "\t3 &       NA &       NA &       NA\\\\\n",
       "\t4 &       NA &       NA &       NA\\\\\n",
       "\t5 &       NA &       NA &       NA\\\\\n",
       "\\end{tabular}\n"
      ],
      "text/markdown": [
       "\n",
       "| <!--/--> | Квартальные | Сезонно сглаженные | Месячные | \n",
       "|---|---|---|---|---|\n",
       "| 1 level | 85.57111 | 309.7325 | 7735.429 | \n",
       "| 2 |       NA |       NA |       NA | \n",
       "| 3 |       NA |       NA |       NA | \n",
       "| 4 |       NA |       NA |       NA | \n",
       "| 5 |       NA |       NA |       NA | \n",
       "\n",
       "\n"
      ],
      "text/plain": [
       "        Квартальные Сезонно сглаженные Месячные\n",
       "1 level 85.57111    309.7325           7735.429\n",
       "2             NA          NA                 NA\n",
       "3             NA          NA                 NA\n",
       "4             NA          NA                 NA\n",
       "5             NA          NA                 NA"
      ]
     },
     "metadata": {},
     "output_type": "display_data"
    }
   ],
   "source": [
    "df_mean_acc <- readRDS(\"df_mean_acc.rds\")\n",
    "df_mean_acc"
   ]
  },
  {
   "cell_type": "code",
   "execution_count": 12,
   "metadata": {},
   "outputs": [
    {
     "data": {
      "text/html": [
       "<table>\n",
       "<thead><tr><th></th><th scope=col>Квартальные</th><th scope=col>Сезонно сглаженные</th><th scope=col>Месячные</th></tr></thead>\n",
       "<tbody>\n",
       "\t<tr><th scope=row>1 level</th><td>85.57111</td><td>309.7325</td><td>7735.429</td></tr>\n",
       "\t<tr><th scope=row>2</th><td>      NA</td><td>      NA</td><td>      NA</td></tr>\n",
       "\t<tr><th scope=row>3</th><td>      NA</td><td>      NA</td><td>      NA</td></tr>\n",
       "\t<tr><th scope=row>4</th><td>      NA</td><td>      NA</td><td>      NA</td></tr>\n",
       "\t<tr><th scope=row>5</th><td>      NA</td><td>      NA</td><td>      NA</td></tr>\n",
       "</tbody>\n",
       "</table>\n"
      ],
      "text/latex": [
       "\\begin{tabular}{r|lll}\n",
       "  & Квартальные & Сезонно сглаженные & Месячные\\\\\n",
       "\\hline\n",
       "\t1 level & 85.57111 & 309.7325 & 7735.429\\\\\n",
       "\t2 &       NA &       NA &       NA\\\\\n",
       "\t3 &       NA &       NA &       NA\\\\\n",
       "\t4 &       NA &       NA &       NA\\\\\n",
       "\t5 &       NA &       NA &       NA\\\\\n",
       "\\end{tabular}\n"
      ],
      "text/markdown": [
       "\n",
       "| <!--/--> | Квартальные | Сезонно сглаженные | Месячные | \n",
       "|---|---|---|---|---|\n",
       "| 1 level | 85.57111 | 309.7325 | 7735.429 | \n",
       "| 2 |       NA |       NA |       NA | \n",
       "| 3 |       NA |       NA |       NA | \n",
       "| 4 |       NA |       NA |       NA | \n",
       "| 5 |       NA |       NA |       NA | \n",
       "\n",
       "\n"
      ],
      "text/plain": [
       "        Квартальные Сезонно сглаженные Месячные\n",
       "1 level 85.57111    309.7325           7735.429\n",
       "2             NA          NA                 NA\n",
       "3             NA          NA                 NA\n",
       "4             NA          NA                 NA\n",
       "5             NA          NA                 NA"
      ]
     },
     "metadata": {},
     "output_type": "display_data"
    }
   ],
   "source": [
    "df_mean_acc[1,1]  <-  colMeans(df_acc_test)[[2]]\n",
    "df_mean_acc"
   ]
  },
  {
   "cell_type": "code",
   "execution_count": 13,
   "metadata": {},
   "outputs": [],
   "source": [
    "save_plots  <- list()"
   ]
  },
  {
   "cell_type": "code",
   "execution_count": 14,
   "metadata": {},
   "outputs": [],
   "source": [
    "save_plots[[1]]  <-  plot_forecasts"
   ]
  },
  {
   "cell_type": "code",
   "execution_count": 15,
   "metadata": {},
   "outputs": [],
   "source": [
    "df_acc  <-  df_acc_test"
   ]
  },
  {
   "cell_type": "code",
   "execution_count": 16,
   "metadata": {},
   "outputs": [],
   "source": [
    "colnames(df_acc)  <-  colnames(ac[[1]])[var_acc_metrics] \n",
    "df_acc  <-  cbind(df_acc, seq(1, length(ac)))\n",
    "colnames(df_acc)[length(var_acc_metrics)+1]  <-  'Iteration'"
   ]
  },
  {
   "cell_type": "code",
   "execution_count": 17,
   "metadata": {},
   "outputs": [],
   "source": [
    "df_acc$Iteration  <-  df_acc$Iteration*var_freq-(var_freq-1)\n",
    "df_acc$Iteration[length(df_acc$Iteration)]  <-   df_acc$Iteration[length(df_acc$Iteration)] - var_topup"
   ]
  },
  {
   "cell_type": "code",
   "execution_count": 18,
   "metadata": {},
   "outputs": [
    {
     "data": {
      "text/html": [
       "<table>\n",
       "<thead><tr><th scope=col>ME</th><th scope=col>RMSE</th><th scope=col>MAPE</th><th scope=col>Iteration</th></tr></thead>\n",
       "<tbody>\n",
       "\t<tr><td> 20.79276</td><td> 25.01813</td><td>0.7043804</td><td> 1       </td></tr>\n",
       "\t<tr><td> 28.54744</td><td> 50.10987</td><td>1.2606182</td><td> 5       </td></tr>\n",
       "\t<tr><td> 62.53900</td><td> 75.97260</td><td>1.8966513</td><td> 9       </td></tr>\n",
       "\t<tr><td>102.20027</td><td>104.18849</td><td>3.0638459</td><td>13       </td></tr>\n",
       "\t<tr><td>-31.50011</td><td> 49.07131</td><td>1.2274496</td><td>17       </td></tr>\n",
       "\t<tr><td>191.39850</td><td>209.06627</td><td>5.4874125</td><td>20       </td></tr>\n",
       "</tbody>\n",
       "</table>\n"
      ],
      "text/latex": [
       "\\begin{tabular}{r|llll}\n",
       " ME & RMSE & MAPE & Iteration\\\\\n",
       "\\hline\n",
       "\t  20.79276 &  25.01813 & 0.7043804 &  1       \\\\\n",
       "\t  28.54744 &  50.10987 & 1.2606182 &  5       \\\\\n",
       "\t  62.53900 &  75.97260 & 1.8966513 &  9       \\\\\n",
       "\t 102.20027 & 104.18849 & 3.0638459 & 13       \\\\\n",
       "\t -31.50011 &  49.07131 & 1.2274496 & 17       \\\\\n",
       "\t 191.39850 & 209.06627 & 5.4874125 & 20       \\\\\n",
       "\\end{tabular}\n"
      ],
      "text/markdown": [
       "\n",
       "ME | RMSE | MAPE | Iteration | \n",
       "|---|---|---|---|---|---|\n",
       "|  20.79276 |  25.01813 | 0.7043804 |  1        | \n",
       "|  28.54744 |  50.10987 | 1.2606182 |  5        | \n",
       "|  62.53900 |  75.97260 | 1.8966513 |  9        | \n",
       "| 102.20027 | 104.18849 | 3.0638459 | 13        | \n",
       "| -31.50011 |  49.07131 | 1.2274496 | 17        | \n",
       "| 191.39850 | 209.06627 | 5.4874125 | 20        | \n",
       "\n",
       "\n"
      ],
      "text/plain": [
       "  ME        RMSE      MAPE      Iteration\n",
       "1  20.79276  25.01813 0.7043804  1       \n",
       "2  28.54744  50.10987 1.2606182  5       \n",
       "3  62.53900  75.97260 1.8966513  9       \n",
       "4 102.20027 104.18849 3.0638459 13       \n",
       "5 -31.50011  49.07131 1.2274496 17       \n",
       "6 191.39850 209.06627 5.4874125 20       "
      ]
     },
     "metadata": {},
     "output_type": "display_data"
    }
   ],
   "source": [
    "df_acc"
   ]
  },
  {
   "cell_type": "code",
   "execution_count": 19,
   "metadata": {},
   "outputs": [],
   "source": [
    "var_allornot  <- var_freq\n",
    "# var_allornot  <- 1\n",
    "var_shift  <-  var_topup\n",
    "# var_shift  <-  0"
   ]
  },
  {
   "cell_type": "markdown",
   "metadata": {},
   "source": [
    "### США"
   ]
  },
  {
   "cell_type": "code",
   "execution_count": 20,
   "metadata": {},
   "outputs": [],
   "source": [
    "df_eu  <-  read.csv(file=\"../data_hts/hts_us_ind_filled.csv\", header=TRUE, sep=\",\", row.names =1 )\n",
    "df_eu  <-  df_eu/1000\n",
    "var_freq  <- 4    \n",
    "var_start_year  <- 2005   \n",
    "gdp_agg <- df_eu_sums <-  rowSums(df_eu)\n",
    "gdp_agg  <- ts(gdp_agg, frequency = var_freq, start = var_start_year) "
   ]
  },
  {
   "cell_type": "code",
   "execution_count": 21,
   "metadata": {},
   "outputs": [],
   "source": [
    "var_h  <- 8\n",
    "var_window  <-  28 - 1\n",
    "var_topup  <-  2\n",
    "var_iter   <- (length(gdp_agg)+var_topup)/var_freq-(var_window+1)/var_freq-2"
   ]
  },
  {
   "cell_type": "code",
   "execution_count": 22,
   "metadata": {},
   "outputs": [],
   "source": [
    "# var_allornot  <- var_freq\n",
    "var_allornot  <- 1\n",
    "# var_shift  <-  var_topup\n",
    "var_shift  <-  0\n",
    "\n",
    "var_arpdq   <-  c(4,1,1)\n",
    "var_sarpdq   <-  c(0,0,0)\n",
    "var_drift   <-  FALSE\n",
    "var_constant   <-  FALSE\n",
    "var_ets  <- \"AAA\"\n",
    "var_damped  <- FALSE"
   ]
  },
  {
   "cell_type": "code",
   "execution_count": 23,
   "metadata": {},
   "outputs": [
    {
     "name": "stdout",
     "output_type": "stream",
     "text": [
      "[1] 2005.00 2011.75 2012.00 2013.75\n",
      "[1] 2006.00 2012.75 2013.00 2014.75\n",
      "[1] 2007.00 2013.75 2014.00 2015.75\n",
      "[1] 2008.00 2014.75 2015.00 2016.75\n",
      "[1] 2009.00 2015.75 2016.00 2017.75\n",
      "[1] 2010.00 2016.75 2017.00 2018.75\n"
     ]
    }
   ],
   "source": [
    "l <- ac <- m_top  <- l_test  <-  list()\n",
    "\n",
    "k  <- 0\n",
    "\n",
    "for (i in 0:(var_iter*var_allornot - var_shift)){\n",
    "    k  <-  k+1\n",
    "    st_year  <-  var_start_year + i/var_allornot\n",
    "    train_start  <- st_year \n",
    "    train_end  <- st_year + 1/var_freq*(var_window)\n",
    "    test_start  <- st_year + 1/var_freq*(var_window+1) \n",
    "    test_end  <-  st_year + 1/var_freq*(var_window+var_h)\n",
    "    \n",
    "    print(c(train_start, train_end, test_start, test_end))\n",
    "    \n",
    "    if (i == 0){\n",
    "        train <- window(gdp_agg, end=train_end)}\n",
    "    else{\n",
    "        if ((var_shift == 0) & (i == var_iter*var_allornot - var_shift)){\n",
    "            train <- window(gdp_agg, start=train_start-var_topup/var_freq, end=train_end-var_topup/var_freq)\n",
    "        }else{\n",
    "            train <- window(gdp_agg, start=train_start, end=train_end)\n",
    "    }}\n",
    "    \n",
    "    if ((var_shift == 0) & (i == var_iter*var_allornot - var_shift)){\n",
    "        test <- window(gdp_agg, start=test_start-var_topup/var_freq)\n",
    "    }else{    test <- window(gdp_agg, start=test_start, end=test_end)\n",
    "        \n",
    "    }\n",
    "    \n",
    "    m_top[[k]]  <- ets(msts(train, seasonal.periods = var_freq), lambda=NULL)\n",
    "    \n",
    "#     print(test)\n",
    "#     print(gdp_arima)\n",
    "    l[[k]]  <-   forecast(m_top[[k]], h = var_h  )\n",
    "\n",
    "    l_test[[i+1]]  <-   test\n",
    "    \n",
    "    ac[[i+1]]  <-  accuracy(l[[k]], test)\n",
    "    \n",
    "    }"
   ]
  },
  {
   "cell_type": "code",
   "execution_count": 24,
   "metadata": {},
   "outputs": [
    {
     "data": {
      "text/html": [
       "<table>\n",
       "<thead><tr><th scope=col>ME</th><th scope=col>RMSE</th><th scope=col>MAPE</th></tr></thead>\n",
       "<tbody>\n",
       "\t<tr><td>274.969142</td><td>311.23470 </td><td>1.7002064 </td></tr>\n",
       "\t<tr><td>414.462246</td><td>479.50419 </td><td>2.5048592 </td></tr>\n",
       "\t<tr><td>462.264736</td><td>540.72280 </td><td>2.8038137 </td></tr>\n",
       "\t<tr><td>395.695541</td><td>423.26892 </td><td>2.2924620 </td></tr>\n",
       "\t<tr><td> -1.654262</td><td> 39.40472 </td><td>0.1852617 </td></tr>\n",
       "\t<tr><td> 16.837277</td><td> 64.25948 </td><td>0.2819420 </td></tr>\n",
       "</tbody>\n",
       "</table>\n"
      ],
      "text/latex": [
       "\\begin{tabular}{r|lll}\n",
       " ME & RMSE & MAPE\\\\\n",
       "\\hline\n",
       "\t 274.969142 & 311.23470  & 1.7002064 \\\\\n",
       "\t 414.462246 & 479.50419  & 2.5048592 \\\\\n",
       "\t 462.264736 & 540.72280  & 2.8038137 \\\\\n",
       "\t 395.695541 & 423.26892  & 2.2924620 \\\\\n",
       "\t  -1.654262 &  39.40472  & 0.1852617 \\\\\n",
       "\t  16.837277 &  64.25948  & 0.2819420 \\\\\n",
       "\\end{tabular}\n"
      ],
      "text/markdown": [
       "\n",
       "ME | RMSE | MAPE | \n",
       "|---|---|---|---|---|---|\n",
       "| 274.969142 | 311.23470  | 1.7002064  | \n",
       "| 414.462246 | 479.50419  | 2.5048592  | \n",
       "| 462.264736 | 540.72280  | 2.8038137  | \n",
       "| 395.695541 | 423.26892  | 2.2924620  | \n",
       "|  -1.654262 |  39.40472  | 0.1852617  | \n",
       "|  16.837277 |  64.25948  | 0.2819420  | \n",
       "\n",
       "\n"
      ],
      "text/plain": [
       "  ME         RMSE      MAPE     \n",
       "1 274.969142 311.23470 1.7002064\n",
       "2 414.462246 479.50419 2.5048592\n",
       "3 462.264736 540.72280 2.8038137\n",
       "4 395.695541 423.26892 2.2924620\n",
       "5  -1.654262  39.40472 0.1852617\n",
       "6  16.837277  64.25948 0.2819420"
      ]
     },
     "metadata": {},
     "output_type": "display_data"
    }
   ],
   "source": [
    "var_acc_metrics  <-  c(1,2,5)\n",
    "df_acc_test  <- ac[[1]][2, var_acc_metrics]\n",
    "for (i in ac[2:length(ac)]){\n",
    "    x  <-  i[2, var_acc_metrics]\n",
    "    df_acc_test   <-  cbind(df_acc_test, x)\n",
    "}\n",
    "df_acc_test  <- t(df_acc_test)\n",
    "df_acc_test  <-  as.data.frame(df_acc_test)\n",
    "row.names(df_acc_test)  <-  seq(1,length(ac))\n",
    "df_acc_test"
   ]
  },
  {
   "cell_type": "code",
   "execution_count": 25,
   "metadata": {},
   "outputs": [
    {
     "data": {
      "text/html": [
       "<dl class=dl-horizontal>\n",
       "\t<dt>ME</dt>\n",
       "\t\t<dd>260.429113226247</dd>\n",
       "\t<dt>RMSE</dt>\n",
       "\t\t<dd>309.732468163292</dd>\n",
       "\t<dt>MAPE</dt>\n",
       "\t\t<dd>1.62809081810551</dd>\n",
       "</dl>\n"
      ],
      "text/latex": [
       "\\begin{description*}\n",
       "\\item[ME] 260.429113226247\n",
       "\\item[RMSE] 309.732468163292\n",
       "\\item[MAPE] 1.62809081810551\n",
       "\\end{description*}\n"
      ],
      "text/markdown": [
       "ME\n",
       ":   260.429113226247RMSE\n",
       ":   309.732468163292MAPE\n",
       ":   1.62809081810551\n",
       "\n"
      ],
      "text/plain": [
       "        ME       RMSE       MAPE \n",
       "260.429113 309.732468   1.628091 "
      ]
     },
     "metadata": {},
     "output_type": "display_data"
    }
   ],
   "source": [
    "colMeans(df_acc_test)"
   ]
  },
  {
   "cell_type": "code",
   "execution_count": 26,
   "metadata": {},
   "outputs": [
    {
     "data": {},
     "metadata": {},
     "output_type": "display_data"
    },
    {
     "data": {
      "image/png": "[encoded data removed]",
      "text/plain": [
       "plot without title"
      ]
     },
     "metadata": {},
     "output_type": "display_data"
    }
   ],
   "source": [
    "plot_forecasts  <-  autoplot(window(gdp_agg, start=2010))+\n",
    "    xlab(\"Время\") + ylab('ВВП') +\n",
    "    ggtitle(\"AR(4)\") +\n",
    "    guides(colour=guide_legend(title=\" \")) +\n",
    "    theme(aspect.ratio = 0.75)\n",
    "\n",
    "for (i in 1:length(l)){\n",
    "    plot_forecasts  <-  plot_forecasts  +\n",
    "    autolayer(l[[i]], series=paste(\"Итерация\" , i, sep=\" \") ,   PI=FALSE) \n",
    "    \n",
    "}\n",
    "\n",
    "plot_forecasts\n"
   ]
  },
  {
   "cell_type": "code",
   "execution_count": 27,
   "metadata": {},
   "outputs": [
    {
     "data": {
      "text/html": [
       "<table>\n",
       "<thead><tr><th></th><th scope=col>Квартальные</th><th scope=col>Сезонно сглаженные</th><th scope=col>Месячные</th></tr></thead>\n",
       "<tbody>\n",
       "\t<tr><th scope=row>1 level</th><td>85.57111</td><td>309.7325</td><td>7735.429</td></tr>\n",
       "\t<tr><th scope=row>2</th><td>      NA</td><td>      NA</td><td>      NA</td></tr>\n",
       "\t<tr><th scope=row>3</th><td>      NA</td><td>      NA</td><td>      NA</td></tr>\n",
       "\t<tr><th scope=row>4</th><td>      NA</td><td>      NA</td><td>      NA</td></tr>\n",
       "\t<tr><th scope=row>5</th><td>      NA</td><td>      NA</td><td>      NA</td></tr>\n",
       "</tbody>\n",
       "</table>\n"
      ],
      "text/latex": [
       "\\begin{tabular}{r|lll}\n",
       "  & Квартальные & Сезонно сглаженные & Месячные\\\\\n",
       "\\hline\n",
       "\t1 level & 85.57111 & 309.7325 & 7735.429\\\\\n",
       "\t2 &       NA &       NA &       NA\\\\\n",
       "\t3 &       NA &       NA &       NA\\\\\n",
       "\t4 &       NA &       NA &       NA\\\\\n",
       "\t5 &       NA &       NA &       NA\\\\\n",
       "\\end{tabular}\n"
      ],
      "text/markdown": [
       "\n",
       "| <!--/--> | Квартальные | Сезонно сглаженные | Месячные | \n",
       "|---|---|---|---|---|\n",
       "| 1 level | 85.57111 | 309.7325 | 7735.429 | \n",
       "| 2 |       NA |       NA |       NA | \n",
       "| 3 |       NA |       NA |       NA | \n",
       "| 4 |       NA |       NA |       NA | \n",
       "| 5 |       NA |       NA |       NA | \n",
       "\n",
       "\n"
      ],
      "text/plain": [
       "        Квартальные Сезонно сглаженные Месячные\n",
       "1 level 85.57111    309.7325           7735.429\n",
       "2             NA          NA                 NA\n",
       "3             NA          NA                 NA\n",
       "4             NA          NA                 NA\n",
       "5             NA          NA                 NA"
      ]
     },
     "metadata": {},
     "output_type": "display_data"
    }
   ],
   "source": [
    "df_mean_acc[1,2]  <- colMeans(df_acc_test)[[2]]\n",
    "df_mean_acc"
   ]
  },
  {
   "cell_type": "code",
   "execution_count": 28,
   "metadata": {},
   "outputs": [],
   "source": [
    "save_plots[[3]]  <-  plot_forecasts"
   ]
  },
  {
   "cell_type": "code",
   "execution_count": null,
   "metadata": {},
   "outputs": [],
   "source": []
  },
  {
   "cell_type": "code",
   "execution_count": 30,
   "metadata": {},
   "outputs": [],
   "source": [
    "var_allornot  <- var_freq\n",
    "# var_allornot  <- 1\n",
    "var_shift  <-  var_topup\n",
    "# var_shift  <-  0"
   ]
  },
  {
   "cell_type": "markdown",
   "metadata": {},
   "source": [
    "### РФ"
   ]
  },
  {
   "cell_type": "code",
   "execution_count": 31,
   "metadata": {},
   "outputs": [],
   "source": [
    "df_eu  <-  read.csv(file=\"../data_hts/hts_rus_summed.csv\", header=TRUE, sep=\",\", row.names =1 )\n",
    "# df_eu  <-  df_eu/1000\n",
    "var_freq  <- 12    \n",
    "var_start_year  <- 2006   \n",
    "gdp_agg <- df_eu_sums <-  rowSums(df_eu)\n",
    "gdp_agg  <- ts(gdp_agg, frequency = var_freq, start = var_start_year) "
   ]
  },
  {
   "cell_type": "code",
   "execution_count": 32,
   "metadata": {},
   "outputs": [],
   "source": [
    "var_h  <- 24\n",
    "var_window  <-  84 - 1\n",
    "var_topup  <-  -1\n",
    "var_iter   <- (length(gdp_agg)+var_topup)/var_freq-(var_window+1)/var_freq-2"
   ]
  },
  {
   "cell_type": "code",
   "execution_count": 33,
   "metadata": {},
   "outputs": [],
   "source": [
    "# var_allornot  <- var_freq\n",
    "var_allornot  <- 1\n",
    "# var_shift  <-  var_topup\n",
    "var_shift  <-  0\n",
    "\n",
    "var_drift   <-  FALSE\n",
    "var_constant   <-  FALSE\n",
    "var_ets  <- \"AAA\"\n",
    "var_damped  <- TRUE\n"
   ]
  },
  {
   "cell_type": "code",
   "execution_count": 34,
   "metadata": {},
   "outputs": [
    {
     "name": "stderr",
     "output_type": "stream",
     "text": [
      "Loading required package: svMisc\n",
      "\n",
      "Attaching package: ‘svMisc’\n",
      "\n",
      "The following object is masked from ‘package:utils’:\n",
      "\n",
      "    ?\n",
      "\n"
     ]
    }
   ],
   "source": [
    "require(svMisc)"
   ]
  },
  {
   "cell_type": "code",
   "execution_count": 35,
   "metadata": {},
   "outputs": [
    {
     "name": "stdout",
     "output_type": "stream",
     "text": [
      "          0%---------25%---------50%---------75%--------100%\n",
      "Progress: ||"
     ]
    }
   ],
   "source": [
    "l <- ac <- m_top  <- l_test  <-  list()\n",
    "\n",
    "k  <- 0\n",
    "err_list  <- c()\n",
    "for (i in 0:(var_iter*var_allornot - var_shift)){\n",
    "    k  <-  k+1\n",
    "    st_year  <-  var_start_year + i/var_allornot\n",
    "    train_start  <- st_year \n",
    "    train_end  <- st_year + 1/var_freq*(var_window)\n",
    "    test_start  <- st_year + 1/var_freq*(var_window+1) \n",
    "    test_end  <-  st_year + 1/var_freq*(var_window+var_h)\n",
    "    \n",
    "#     print(c(train_start, train_end, test_start, test_end))\n",
    "    \n",
    "    if (i == 0){\n",
    "        train <- window(gdp_agg, end=train_end)}\n",
    "    else{\n",
    "#         if ((var_shift == 0) & (i == var_iter*var_allornot - var_shift)){\n",
    "#             train <- window(gdp_agg, start=train_start-var_topup/var_freq, end=train_end-var_topup/var_freq)\n",
    "#         }else{\n",
    "            train <- window(gdp_agg, start=train_start, end=train_end)\n",
    "#     }\n",
    "}\n",
    "    \n",
    "#     if ((var_shift == 0) & (i == var_iter*var_allornot - var_shift)){\n",
    "#         test <- window(gdp_agg, start=test_start-var_topup/var_freq)\n",
    "#     }else{    \n",
    "        test <- window(gdp_agg, start=test_start, end=test_end)\n",
    "        \n",
    "#     }\n",
    "    \n",
    "#     m_top[[k]]  <- Arima(train, order=var_arpdq, seasonal=var_sarpdq, include.drift = var_drift, include.mean = var_constant, \n",
    "#                          method = \"ML\" )\n",
    "    \n",
    "#     model  <-  \n",
    "    m_top[[k]]  <- ets(msts(train, seasonal.periods = var_freq), lambda=NULL)\n",
    "    \n",
    "    \n",
    "#     print(test)\n",
    "#     print(gdp_arima)\n",
    "    l[[k]]  <-   forecast(m_top[[k]], h = var_h  )\n",
    "                \n",
    "#     if (model[[2]]!=0){\n",
    "#         err_list <-  c(err_list,model[[2]])\n",
    "#     }              \n",
    "                \n",
    "                \n",
    "    l_test[[i+1]]  <-   test\n",
    "    \n",
    "    ac[[i+1]]  <-  accuracy(l[[k]], test)\n",
    "                \n",
    "    progress(i, progress.bar = TRUE)\n",
    "    \n",
    "    \n",
    "                \n",
    "    }"
   ]
  },
  {
   "cell_type": "code",
   "execution_count": 36,
   "metadata": {},
   "outputs": [
    {
     "data": {
      "text/html": [
       "<table>\n",
       "<thead><tr><th scope=col>ME</th><th scope=col>RMSE</th><th scope=col>MAPE</th></tr></thead>\n",
       "<tbody>\n",
       "\t<tr><td>  -747.8398</td><td> 4826.518  </td><td>144.28888  </td></tr>\n",
       "\t<tr><td>  1200.7674</td><td> 5450.598  </td><td> 74.51572  </td></tr>\n",
       "\t<tr><td>  2561.7148</td><td> 6761.000  </td><td> 97.83755  </td></tr>\n",
       "\t<tr><td>-13039.2542</td><td>15181.075  </td><td>240.67184  </td></tr>\n",
       "\t<tr><td> -4996.8928</td><td> 7856.917  </td><td> 66.74349  </td></tr>\n",
       "</tbody>\n",
       "</table>\n"
      ],
      "text/latex": [
       "\\begin{tabular}{r|lll}\n",
       " ME & RMSE & MAPE\\\\\n",
       "\\hline\n",
       "\t   -747.8398 &  4826.518   & 144.28888  \\\\\n",
       "\t   1200.7674 &  5450.598   &  74.51572  \\\\\n",
       "\t   2561.7148 &  6761.000   &  97.83755  \\\\\n",
       "\t -13039.2542 & 15181.075   & 240.67184  \\\\\n",
       "\t  -4996.8928 &  7856.917   &  66.74349  \\\\\n",
       "\\end{tabular}\n"
      ],
      "text/markdown": [
       "\n",
       "ME | RMSE | MAPE | \n",
       "|---|---|---|---|---|\n",
       "|   -747.8398 |  4826.518   | 144.28888   | \n",
       "|   1200.7674 |  5450.598   |  74.51572   | \n",
       "|   2561.7148 |  6761.000   |  97.83755   | \n",
       "| -13039.2542 | 15181.075   | 240.67184   | \n",
       "|  -4996.8928 |  7856.917   |  66.74349   | \n",
       "\n",
       "\n"
      ],
      "text/plain": [
       "  ME          RMSE      MAPE     \n",
       "1   -747.8398  4826.518 144.28888\n",
       "2   1200.7674  5450.598  74.51572\n",
       "3   2561.7148  6761.000  97.83755\n",
       "4 -13039.2542 15181.075 240.67184\n",
       "5  -4996.8928  7856.917  66.74349"
      ]
     },
     "metadata": {},
     "output_type": "display_data"
    }
   ],
   "source": [
    "var_acc_metrics  <-  c(1,2,5)\n",
    "df_acc_test  <- ac[[1]][2, var_acc_metrics]\n",
    "for (i in ac[2:length(ac)]){\n",
    "    x  <-  i[2, var_acc_metrics]\n",
    "    df_acc_test   <-  cbind(df_acc_test, x)\n",
    "}\n",
    "df_acc_test  <- t(df_acc_test)\n",
    "df_acc_test  <-  as.data.frame(df_acc_test)\n",
    "row.names(df_acc_test)  <-  seq(1,length(ac))\n",
    "df_acc_test"
   ]
  },
  {
   "cell_type": "code",
   "execution_count": 37,
   "metadata": {},
   "outputs": [
    {
     "data": {
      "text/html": [
       "<dl class=dl-horizontal>\n",
       "\t<dt>ME</dt>\n",
       "\t\t<dd>-3004.30091011317</dd>\n",
       "\t<dt>RMSE</dt>\n",
       "\t\t<dd>8015.22153825579</dd>\n",
       "\t<dt>MAPE</dt>\n",
       "\t\t<dd>124.811497518429</dd>\n",
       "</dl>\n"
      ],
      "text/latex": [
       "\\begin{description*}\n",
       "\\item[ME] -3004.30091011317\n",
       "\\item[RMSE] 8015.22153825579\n",
       "\\item[MAPE] 124.811497518429\n",
       "\\end{description*}\n"
      ],
      "text/markdown": [
       "ME\n",
       ":   -3004.30091011317RMSE\n",
       ":   8015.22153825579MAPE\n",
       ":   124.811497518429\n",
       "\n"
      ],
      "text/plain": [
       "        ME       RMSE       MAPE \n",
       "-3004.3009  8015.2215   124.8115 "
      ]
     },
     "metadata": {},
     "output_type": "display_data"
    }
   ],
   "source": [
    "colMeans(df_acc_test)"
   ]
  },
  {
   "cell_type": "code",
   "execution_count": 38,
   "metadata": {},
   "outputs": [
    {
     "data": {
      "text/plain": [
       "NULL"
      ]
     },
     "metadata": {},
     "output_type": "display_data"
    }
   ],
   "source": [
    "err_list"
   ]
  },
  {
   "cell_type": "code",
   "execution_count": 39,
   "metadata": {},
   "outputs": [
    {
     "data": {},
     "metadata": {},
     "output_type": "display_data"
    },
    {
     "data": {
      "image/png": "[encoded data removed]",
      "text/plain": [
       "plot without title"
      ]
     },
     "metadata": {},
     "output_type": "display_data"
    }
   ],
   "source": [
    "plot_forecasts  <-  autoplot(window(gdp_agg, start=2010))+\n",
    "    xlab(\"Время\") + ylab('ЕП') +\n",
    "    ggtitle(\"AR(11)SAR(2) с линейным трендом\") +\n",
    "    guides(colour=guide_legend(title=\" \")) +\n",
    "    theme(aspect.ratio = 0.75)\n",
    "\n",
    "for (i in 1:length(l)){\n",
    "    plot_forecasts  <-  plot_forecasts  +\n",
    "    autolayer(l[[i]], series=paste(\"Итерация\" , i, sep=\" \") ,   PI=FALSE) \n",
    "    \n",
    "}\n",
    "\n",
    "plot_forecasts\n"
   ]
  },
  {
   "cell_type": "code",
   "execution_count": 40,
   "metadata": {},
   "outputs": [
    {
     "data": {
      "text/html": [
       "<table>\n",
       "<thead><tr><th></th><th scope=col>Квартальные</th><th scope=col>Сезонно сглаженные</th><th scope=col>Месячные</th></tr></thead>\n",
       "<tbody>\n",
       "\t<tr><th scope=row>1 level</th><td>85.57111</td><td>309.7325</td><td>7735.429</td></tr>\n",
       "\t<tr><th scope=row>2</th><td>      NA</td><td>      NA</td><td>      NA</td></tr>\n",
       "\t<tr><th scope=row>3</th><td>      NA</td><td>      NA</td><td>      NA</td></tr>\n",
       "\t<tr><th scope=row>4</th><td>      NA</td><td>      NA</td><td>      NA</td></tr>\n",
       "\t<tr><th scope=row>5</th><td>      NA</td><td>      NA</td><td>      NA</td></tr>\n",
       "</tbody>\n",
       "</table>\n"
      ],
      "text/latex": [
       "\\begin{tabular}{r|lll}\n",
       "  & Квартальные & Сезонно сглаженные & Месячные\\\\\n",
       "\\hline\n",
       "\t1 level & 85.57111 & 309.7325 & 7735.429\\\\\n",
       "\t2 &       NA &       NA &       NA\\\\\n",
       "\t3 &       NA &       NA &       NA\\\\\n",
       "\t4 &       NA &       NA &       NA\\\\\n",
       "\t5 &       NA &       NA &       NA\\\\\n",
       "\\end{tabular}\n"
      ],
      "text/markdown": [
       "\n",
       "| <!--/--> | Квартальные | Сезонно сглаженные | Месячные | \n",
       "|---|---|---|---|---|\n",
       "| 1 level | 85.57111 | 309.7325 | 7735.429 | \n",
       "| 2 |       NA |       NA |       NA | \n",
       "| 3 |       NA |       NA |       NA | \n",
       "| 4 |       NA |       NA |       NA | \n",
       "| 5 |       NA |       NA |       NA | \n",
       "\n",
       "\n"
      ],
      "text/plain": [
       "        Квартальные Сезонно сглаженные Месячные\n",
       "1 level 85.57111    309.7325           7735.429\n",
       "2             NA          NA                 NA\n",
       "3             NA          NA                 NA\n",
       "4             NA          NA                 NA\n",
       "5             NA          NA                 NA"
      ]
     },
     "metadata": {},
     "output_type": "display_data"
    }
   ],
   "source": [
    "df_mean_acc"
   ]
  },
  {
   "cell_type": "code",
   "execution_count": 41,
   "metadata": {},
   "outputs": [
    {
     "data": {
      "text/html": [
       "<table>\n",
       "<thead><tr><th></th><th scope=col>Квартальные</th><th scope=col>Сезонно сглаженные</th><th scope=col>Месячные</th></tr></thead>\n",
       "<tbody>\n",
       "\t<tr><th scope=row>1 level</th><td>85.57111</td><td>309.7325</td><td>8015.222</td></tr>\n",
       "\t<tr><th scope=row>2</th><td>      NA</td><td>      NA</td><td>      NA</td></tr>\n",
       "\t<tr><th scope=row>3</th><td>      NA</td><td>      NA</td><td>      NA</td></tr>\n",
       "\t<tr><th scope=row>4</th><td>      NA</td><td>      NA</td><td>      NA</td></tr>\n",
       "\t<tr><th scope=row>5</th><td>      NA</td><td>      NA</td><td>      NA</td></tr>\n",
       "</tbody>\n",
       "</table>\n"
      ],
      "text/latex": [
       "\\begin{tabular}{r|lll}\n",
       "  & Квартальные & Сезонно сглаженные & Месячные\\\\\n",
       "\\hline\n",
       "\t1 level & 85.57111 & 309.7325 & 8015.222\\\\\n",
       "\t2 &       NA &       NA &       NA\\\\\n",
       "\t3 &       NA &       NA &       NA\\\\\n",
       "\t4 &       NA &       NA &       NA\\\\\n",
       "\t5 &       NA &       NA &       NA\\\\\n",
       "\\end{tabular}\n"
      ],
      "text/markdown": [
       "\n",
       "| <!--/--> | Квартальные | Сезонно сглаженные | Месячные | \n",
       "|---|---|---|---|---|\n",
       "| 1 level | 85.57111 | 309.7325 | 8015.222 | \n",
       "| 2 |       NA |       NA |       NA | \n",
       "| 3 |       NA |       NA |       NA | \n",
       "| 4 |       NA |       NA |       NA | \n",
       "| 5 |       NA |       NA |       NA | \n",
       "\n",
       "\n"
      ],
      "text/plain": [
       "        Квартальные Сезонно сглаженные Месячные\n",
       "1 level 85.57111    309.7325           8015.222\n",
       "2             NA          NA                 NA\n",
       "3             NA          NA                 NA\n",
       "4             NA          NA                 NA\n",
       "5             NA          NA                 NA"
      ]
     },
     "metadata": {},
     "output_type": "display_data"
    }
   ],
   "source": [
    "df_mean_acc[1,3]  <- colMeans(df_acc_test)[[2]]\n",
    "df_mean_acc"
   ]
  },
  {
   "cell_type": "code",
   "execution_count": 42,
   "metadata": {},
   "outputs": [],
   "source": [
    "save_plots[[5]]  <-  plot_forecasts"
   ]
  },
  {
   "cell_type": "code",
   "execution_count": 43,
   "metadata": {},
   "outputs": [],
   "source": [
    "var_allornot  <- var_freq\n",
    "# var_allornot  <- 1\n",
    "var_shift  <-  var_topup\n",
    "# var_shift  <-  0"
   ]
  },
  {
   "cell_type": "code",
   "execution_count": null,
   "metadata": {},
   "outputs": [],
   "source": []
  },
  {
   "cell_type": "code",
   "execution_count": 44,
   "metadata": {},
   "outputs": [
    {
     "data": {
      "text/html": [
       "<table>\n",
       "<thead><tr><th></th><th scope=col>Квартальные</th><th scope=col>Сезонно сглаженные</th><th scope=col>Месячные</th></tr></thead>\n",
       "<tbody>\n",
       "\t<tr><th scope=row>1 level</th><td>85.57111</td><td>309.7325</td><td>8015.222</td></tr>\n",
       "\t<tr><th scope=row>2</th><td>      NA</td><td>      NA</td><td>      NA</td></tr>\n",
       "\t<tr><th scope=row>3</th><td>      NA</td><td>      NA</td><td>      NA</td></tr>\n",
       "\t<tr><th scope=row>4</th><td>      NA</td><td>      NA</td><td>      NA</td></tr>\n",
       "\t<tr><th scope=row>5</th><td>      NA</td><td>      NA</td><td>      NA</td></tr>\n",
       "</tbody>\n",
       "</table>\n"
      ],
      "text/latex": [
       "\\begin{tabular}{r|lll}\n",
       "  & Квартальные & Сезонно сглаженные & Месячные\\\\\n",
       "\\hline\n",
       "\t1 level & 85.57111 & 309.7325 & 8015.222\\\\\n",
       "\t2 &       NA &       NA &       NA\\\\\n",
       "\t3 &       NA &       NA &       NA\\\\\n",
       "\t4 &       NA &       NA &       NA\\\\\n",
       "\t5 &       NA &       NA &       NA\\\\\n",
       "\\end{tabular}\n"
      ],
      "text/markdown": [
       "\n",
       "| <!--/--> | Квартальные | Сезонно сглаженные | Месячные | \n",
       "|---|---|---|---|---|\n",
       "| 1 level | 85.57111 | 309.7325 | 8015.222 | \n",
       "| 2 |       NA |       NA |       NA | \n",
       "| 3 |       NA |       NA |       NA | \n",
       "| 4 |       NA |       NA |       NA | \n",
       "| 5 |       NA |       NA |       NA | \n",
       "\n",
       "\n"
      ],
      "text/plain": [
       "        Квартальные Сезонно сглаженные Месячные\n",
       "1 level 85.57111    309.7325           8015.222\n",
       "2             NA          NA                 NA\n",
       "3             NA          NA                 NA\n",
       "4             NA          NA                 NA\n",
       "5             NA          NA                 NA"
      ]
     },
     "metadata": {},
     "output_type": "display_data"
    }
   ],
   "source": [
    "df_mean_acc"
   ]
  },
  {
   "cell_type": "code",
   "execution_count": 45,
   "metadata": {},
   "outputs": [],
   "source": [
    "saveRDS(df_mean_acc, \"df_mean_acc.rds\")"
   ]
  },
  {
   "cell_type": "code",
   "execution_count": null,
   "metadata": {},
   "outputs": [],
   "source": []
  },
  {
   "cell_type": "code",
   "execution_count": null,
   "metadata": {},
   "outputs": [],
   "source": []
  }
 ],
 "metadata": {
  "kernelspec": {
   "display_name": "R 3.5.1",
   "language": "R",
   "name": "ir"
  },
  "language_info": {
   "codemirror_mode": "r",
   "file_extension": ".r",
   "mimetype": "text/x-r-source",
   "name": "R",
   "pygments_lexer": "r",
   "version": "3.5.2"
  }
 },
 "nbformat": 4,
 "nbformat_minor": 2
}
