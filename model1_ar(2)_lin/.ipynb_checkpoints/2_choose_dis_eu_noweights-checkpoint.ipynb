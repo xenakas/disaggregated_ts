{
 "cells": [
  {
   "cell_type": "markdown",
   "metadata": {},
   "source": [
    "#### 1"
   ]
  },
  {
   "cell_type": "code",
   "execution_count": 1,
   "metadata": {
    "scrolled": true
   },
   "outputs": [
    {
     "name": "stderr",
     "output_type": "stream",
     "text": [
      "\n",
      "Attaching package: ‘dplyr’\n",
      "\n",
      "The following objects are masked from ‘package:stats’:\n",
      "\n",
      "    filter, lag\n",
      "\n",
      "The following objects are masked from ‘package:base’:\n",
      "\n",
      "    intersect, setdiff, setequal, union\n",
      "\n",
      "\n",
      "Attaching package: ‘gridExtra’\n",
      "\n",
      "The following object is masked from ‘package:dplyr’:\n",
      "\n",
      "    combine\n",
      "\n"
     ]
    }
   ],
   "source": [
    "library(forecast)\n",
    "library(ggplot2)\n",
    "library(dplyr)\n",
    "library(gridExtra)"
   ]
  },
  {
   "cell_type": "code",
   "execution_count": 2,
   "metadata": {},
   "outputs": [
    {
     "name": "stderr",
     "output_type": "stream",
     "text": [
      "Loading required package: foreach\n",
      "Loading required package: iterators\n",
      "Loading required package: parallel\n",
      "Loading required package: svMisc\n",
      "\n",
      "Attaching package: ‘svMisc’\n",
      "\n",
      "The following object is masked from ‘package:utils’:\n",
      "\n",
      "    ?\n",
      "\n"
     ]
    }
   ],
   "source": [
    "# library(doParallel)\n",
    "library(doMC)\n",
    "options(cores = 10)\n",
    "registerDoMC()\n",
    "require(svMisc)"
   ]
  },
  {
   "cell_type": "code",
   "execution_count": 3,
   "metadata": {},
   "outputs": [
    {
     "name": "stderr",
     "output_type": "stream",
     "text": [
      "\n",
      "Attaching package: ‘data.table’\n",
      "\n",
      "The following objects are masked from ‘package:dplyr’:\n",
      "\n",
      "    between, first, last\n",
      "\n"
     ]
    }
   ],
   "source": [
    "library(data.table)\n",
    "library(hts)  "
   ]
  },
  {
   "cell_type": "markdown",
   "metadata": {},
   "source": [
    "### 3,  no weights"
   ]
  },
  {
   "cell_type": "code",
   "execution_count": 4,
   "metadata": {},
   "outputs": [],
   "source": [
    "df_eu  <-  read.csv(file=\"../data_hts/hts_eu_a10.csv\", header=TRUE, sep=\",\", row.names =1 )\n",
    "df_eu  <-  df_eu/1000\n",
    "var_freq  <- 4    \n",
    "var_start_year  <- 2000   \n",
    "gdp_agg <- df_eu_sums <-  rowSums(df_eu)\n",
    "gdp_agg  <- ts(gdp_agg, frequency = var_freq, start = var_start_year) "
   ]
  },
  {
   "cell_type": "code",
   "execution_count": 5,
   "metadata": {},
   "outputs": [],
   "source": [
    "var_h  <- 8\n",
    "var_window  <-  48 - 1\n",
    "var_topup  <-  1\n",
    "var_iter   <- (length(gdp_agg)+var_topup)/var_freq-(var_window+1)/var_freq-2"
   ]
  },
  {
   "cell_type": "code",
   "execution_count": 6,
   "metadata": {},
   "outputs": [],
   "source": [
    "# var_allornot  <- var_freq\n",
    "var_allornot  <- 1\n",
    "# var_shift  <-  var_topup\n",
    "var_shift  <-  0\n",
    "\n",
    "var_arpdq   <-  c(2,0,0)\n",
    "var_sarpdq   <-  c(1,0,0)\n",
    "var_drift   <-  TRUE\n",
    "var_constant   <-  TRUE\n",
    "\n",
    "var_char  <-  c(2,1)"
   ]
  },
  {
   "cell_type": "code",
   "execution_count": 7,
   "metadata": {},
   "outputs": [],
   "source": [
    "df_eu  <-  as.data.table(df_eu)\n",
    "data  <-  df_eu\n",
    "y  <-  hts(data, characters = var_char)\n",
    "s  <-  smatrix(y)\n",
    "# gts_train  <- window(y, start=20, end=67)\n",
    "# gts_test  <- window(y, start=68, end=75)\n",
    "# allts <- aggts(gts_train)\n",
    "# allf <- matrix(, nrow=var_h, ncol=ncol(allts))"
   ]
  },
  {
   "cell_type": "code",
   "execution_count": 8,
   "metadata": {},
   "outputs": [
    {
     "data": {
      "text/html": [
       "29"
      ],
      "text/latex": [
       "29"
      ],
      "text/markdown": [
       "29"
      ],
      "text/plain": [
       "[1] 29"
      ]
     },
     "metadata": {},
     "output_type": "display_data"
    }
   ],
   "source": [
    "var_countries  <-  dim(read.csv(file=\"../clustering/hts_eu_a10_state.csv\", header=TRUE, sep=\",\", row.names =1 ))[2]+1\n",
    "var_countries"
   ]
  },
  {
   "cell_type": "code",
   "execution_count": 9,
   "metadata": {},
   "outputs": [
    {
     "name": "stdout",
     "output_type": "stream",
     "text": [
      "[1]  1 48 49 56\n",
      "Hierarchical Time Series \n",
      "3 Levels \n",
      "Number of nodes at each level: 1 28 280 \n",
      "Total number of series: 309 \n",
      "Number of observations per series: 8 \n",
      "Top level series: \n",
      "Time Series:\n",
      "Start = 49 \n",
      "End = 56 \n",
      "Frequency = 1 \n",
      "[1] 2969.945 3023.125 3023.878 3083.761 3047.698 3103.115 3106.278 3159.838\n",
      "Hierarchical Time Series \n",
      "3 Levels \n",
      "Number of nodes at each level: 1 28 280 \n",
      "Total number of series: 309 \n",
      "Number of observations per series: 8 \n",
      "Top level series: \n",
      "Time Series:\n",
      "Start = 49 \n",
      "End = 56 \n",
      "Frequency = 1 \n",
      "[1] 2958.070 3010.722 3033.490 3075.700 2977.965 3035.742 3044.227 3122.905\n",
      "          0%---------25%---------50%---------75%--------100%\n",
      "Progress: [1]  5 52 53 60\n",
      "Hierarchical Time Series \n",
      "3 Levels \n",
      "Number of nodes at each level: 1 28 280 \n",
      "Total number of series: 309 \n",
      "Number of observations per series: 8 \n",
      "Top level series: \n",
      "Time Series:\n",
      "Start = 49 \n",
      "End = 56 \n",
      "Frequency = 1 \n",
      "[1] 3017.996 3063.746 3072.364 3120.252 3076.105 3124.020 3133.605 3182.169\n",
      "Hierarchical Time Series \n",
      "3 Levels \n",
      "Number of nodes at each level: 1 28 280 \n",
      "Total number of series: 309 \n",
      "Number of observations per series: 8 \n",
      "Top level series: \n",
      "Time Series:\n",
      "Start = 53 \n",
      "End = 60 \n",
      "Frequency = 1 \n",
      "[1] 2977.965 3035.742 3044.227 3122.905 3072.484 3133.907 3160.757 3236.918\n",
      "[1]  9 56 57 64\n",
      "Hierarchical Time Series \n",
      "3 Levels \n",
      "Number of nodes at each level: 1 28 280 \n",
      "Total number of series: 309 \n",
      "Number of observations per series: 8 \n",
      "Top level series: \n",
      "Time Series:\n",
      "Start = 49 \n",
      "End = 56 \n",
      "Frequency = 1 \n",
      "[1] 3061.041 3115.980 3121.123 3179.671 3125.985 3176.896 3184.578 3236.822\n",
      "Hierarchical Time Series \n",
      "3 Levels \n",
      "Number of nodes at each level: 1 28 280 \n",
      "Total number of series: 309 \n",
      "Number of observations per series: 8 \n",
      "Top level series: \n",
      "Time Series:\n",
      "Start = 57 \n",
      "End = 64 \n",
      "Frequency = 1 \n",
      "[1] 3072.484 3133.907 3160.757 3236.918 3227.776 3311.839 3325.372 3405.251\n",
      "|[1] 13 60 61 68\n",
      "Hierarchical Time Series \n",
      "3 Levels \n",
      "Number of nodes at each level: 1 28 280 \n",
      "Total number of series: 309 \n",
      "Number of observations per series: 8 \n",
      "Top level series: \n",
      "Time Series:\n",
      "Start = 49 \n",
      "End = 56 \n",
      "Frequency = 1 \n",
      "[1] 3183.483 3226.585 3234.540 3291.005 3241.894 3281.394 3290.408 3343.114\n",
      "Hierarchical Time Series \n",
      "3 Levels \n",
      "Number of nodes at each level: 1 28 280 \n",
      "Total number of series: 309 \n",
      "Number of observations per series: 8 \n",
      "Top level series: \n",
      "Time Series:\n",
      "Start = 61 \n",
      "End = 68 \n",
      "Frequency = 1 \n",
      "[1] 3227.776 3311.839 3325.372 3405.251 3304.666 3362.395 3318.470 3395.389\n",
      "|[1] 17 64 65 72\n",
      "Hierarchical Time Series \n",
      "3 Levels \n",
      "Number of nodes at each level: 1 28 280 \n",
      "Total number of series: 309 \n",
      "Number of observations per series: 8 \n",
      "Top level series: \n",
      "Time Series:\n",
      "Start = 49 \n",
      "End = 56 \n",
      "Frequency = 1 \n",
      "[1] 3361.610 3409.313 3408.470 3469.634 3422.364 3462.769 3465.683 3522.771\n",
      "Hierarchical Time Series \n",
      "3 Levels \n",
      "Number of nodes at each level: 1 28 280 \n",
      "Total number of series: 309 \n",
      "Number of observations per series: 8 \n",
      "Top level series: \n",
      "Time Series:\n",
      "Start = 65 \n",
      "End = 72 \n",
      "Frequency = 1 \n",
      "[1] 3304.666 3362.395 3318.470 3395.389 3357.919 3432.684 3434.182 3530.894\n",
      "[1] 21 68 69 76\n",
      "Hierarchical Time Series \n",
      "3 Levels \n",
      "Number of nodes at each level: 1 28 280 \n",
      "Total number of series: 309 \n",
      "Number of observations per series: 8 \n",
      "Top level series: \n",
      "Time Series:\n",
      "Start = 49 \n",
      "End = 56 \n",
      "Frequency = 1 \n",
      "[1] 3369.691 3299.227 3353.642 3351.259 3413.817 3366.953 3421.568 3429.211\n",
      "Hierarchical Time Series \n",
      "3 Levels \n",
      "Number of nodes at each level: 1 28 280 \n",
      "Total number of series: 309 \n",
      "Number of observations per series: 8 \n",
      "Top level series: \n",
      "Time Series:\n",
      "Start = 68 \n",
      "End = 75 \n",
      "Frequency = 1 \n",
      "[1] 3395.389 3357.919 3432.684 3434.182 3530.894 3471.013 3542.181 3541.582\n"
     ]
    }
   ],
   "source": [
    "l <- ac <- m_top  <- l_test  <-  l_top  <-  list()\n",
    "\n",
    "df_ac  <-  data.frame(matrix(ncol = 0, nrow = 0))\n",
    "\n",
    "k  <- 0\n",
    "\n",
    "for (i in 0:(var_iter*var_allornot - var_shift)){\n",
    "    k  <-  k+1\n",
    "    st_year  <-  var_start_year + i/var_allornot\n",
    "    train_start  <- st_year \n",
    "    train_end  <- st_year + 1/var_freq*(var_window)\n",
    "    test_start  <- st_year + 1/var_freq*(var_window+1) \n",
    "    test_end  <-  st_year + 1/var_freq*(var_window+var_h)\n",
    "    \n",
    "    dates  <-  (c(train_start, train_end, test_start, test_end, train_start-var_topup/var_freq, train_end-var_topup/var_freq, test_start-var_topup/var_freq)-var_start_year)*var_freq+1\n",
    "    \n",
    "    train_start  <- dates[1] \n",
    "    train_end  <- dates[2]\n",
    "    test_start  <- dates[3]\n",
    "    test_end  <- dates[4]\n",
    "    \n",
    "    print(c(train_start, train_end, test_start, test_end))\n",
    "    \n",
    "    \n",
    "    if (i == 0){\n",
    "        gts_train <- window(y, end=train_end)    \n",
    "    }\n",
    "    else{\n",
    "        if ((var_shift == 0) & (i == var_iter*var_allornot - var_shift)){\n",
    "            gts_train <- window(y, start=dates[5], end=dates[6])\n",
    "        }else{\n",
    "            gts_train <- window(y, start=train_start, end=train_end)\n",
    "    }}\n",
    "    \n",
    "    if ((var_shift == 0) & (i == var_iter*var_allornot - var_shift)){\n",
    "        gts_test <- window(y, start=dates[7])\n",
    "      \n",
    "    }else{  \n",
    "     gts_test <- window(y, start=test_start, end=test_end)\n",
    "          \n",
    "    }\n",
    "    \n",
    "    allts <- aggts(gts_train)\n",
    "    \n",
    "    ms <-  foreach(j=1:ncol(allts)) %dopar% {\n",
    "        model  <- tryCatch(        \n",
    "        Arima(msts(allts[,j], seasonal.periods = var_freq), order=var_arpdq, seasonal=var_sarpdq,  include.drift = var_drift, include.mean = var_constant, method=\"ML\"), \n",
    "            error = function(e) \n",
    "#                               {tryCatch( \n",
    "                Arima(msts(allts[,j], seasonal.periods = var_freq), order=var_arpdq, seasonal=var_sarpdq, include.drift = var_drift, include.mean = var_constant, method=\"CSS\") #,\n",
    "#                          error = function(e)              \n",
    "#                             auto.arima(msts(allts[,j], seasonal.periods = var_freq))\n",
    "#                          )}\n",
    "                        \n",
    "            )\n",
    "        \n",
    "    }\n",
    "    \n",
    "     \n",
    "        \n",
    "    allf <- matrix(, nrow=var_h, ncol=ncol(allts))\n",
    "        \n",
    "    \n",
    "    for(j in 1:ncol(allts)){  \n",
    "    allf[,j] <- forecast(ms[[j]], h=var_h)$mean\n",
    "    \n",
    "    \n",
    "    }\n",
    "\n",
    "    \n",
    "    allf <- ts(allf)\n",
    "    colnames(allf)  <-  colnames(allts)  \n",
    "    g <- get_nodes(gts_train)\n",
    "    y.f <- combinef(allf, nodes = g, weights = c(rep(0, var_countries), rep(1, (ncol(allts)-var_countries) )))\n",
    "    forecasts_7  <- y.f[[1]]\n",
    "    colnames(forecasts_7)  <- colnames(y[[1]])\n",
    "    data_f5  <- rbind(gts_train[[1]], forecasts_7)\n",
    "    y_f5  <- hts(data_f5, characters = var_char)\n",
    "        \n",
    "#     if (i == 4){\n",
    "#         gts_forecasts_7 <- window(y_f5, start=test_start)}\n",
    "#     else{\n",
    "#     gts_forecasts_7 <- window(y_f5, start=test_start, end=test_end)\n",
    "# #     }\n",
    "\n",
    "#     if ((var_shift == 0) & (i == var_iter*var_allornot - var_shift)){\n",
    "#         gts_forecasts_7 <- window(y_f5, start=dates[7])\n",
    "      \n",
    "#     }else{  \n",
    "     gts_forecasts_7 <- window(y_f5, start=dim(y_f5[[1]])[1]-var_h+1)\n",
    "          \n",
    "#     }\n",
    "         \n",
    "    print(gts_forecasts_7)\n",
    "    print(gts_test)\n",
    "            \n",
    "    \n",
    "    l[[k]]  <- allf\n",
    "\n",
    "    ac[[k]]  <-  accuracy.gts(gts_forecasts_7, gts_test)[, 1] \n",
    "\n",
    "    progress(i, progress.bar = TRUE)\n",
    "            \n",
    "    }"
   ]
  },
  {
   "cell_type": "code",
   "execution_count": 10,
   "metadata": {},
   "outputs": [],
   "source": [
    "var_acc_metrics  <-  c(1,2,4)\n",
    "df_acc_test  <- ac[[1]][var_acc_metrics]\n",
    "for (i in ac[2:length(ac)]){\n",
    "    x  <-  i[var_acc_metrics]\n",
    "    df_acc_test   <-  cbind(df_acc_test, x)\n",
    "}\n",
    "df_acc_test  <- t(df_acc_test)\n",
    "df_acc_test  <-  as.data.frame(df_acc_test)\n",
    "row.names(df_acc_test)  <-  seq(1,length(ac))\n",
    "df_acc  <- df_acc_test\n",
    "df_acc  <-  cbind(df_acc, seq(1, length(ac)))\n",
    "colnames(df_acc)[length(var_acc_metrics)+1]  <-  'Iteration'"
   ]
  },
  {
   "cell_type": "code",
   "execution_count": 11,
   "metadata": {},
   "outputs": [],
   "source": [
    "df_acc$Iteration  <-  df_acc$Iteration*var_freq-(var_freq-1)"
   ]
  },
  {
   "cell_type": "code",
   "execution_count": 12,
   "metadata": {},
   "outputs": [],
   "source": [
    "df_acc$Iteration[length(df_acc$Iteration)]  <-   df_acc$Iteration[length(df_acc$Iteration)] - var_topup"
   ]
  },
  {
   "cell_type": "code",
   "execution_count": 13,
   "metadata": {},
   "outputs": [
    {
     "data": {
      "text/html": [
       "<table>\n",
       "<thead><tr><th scope=col>ME</th><th scope=col>RMSE</th><th scope=col>MAPE</th><th scope=col>Iteration</th></tr></thead>\n",
       "<tbody>\n",
       "\t<tr><td>-32.3518992</td><td> 43.39974  </td><td>1.1467822  </td><td> 1         </td></tr>\n",
       "\t<tr><td> -0.6690132</td><td> 29.64593  </td><td>0.7824632  </td><td> 5         </td></tr>\n",
       "\t<tr><td> 84.0260515</td><td>101.28098  </td><td>2.5469041  </td><td> 9         </td></tr>\n",
       "\t<tr><td> 69.8414736</td><td> 74.62738  </td><td>2.0908235  </td><td>13         </td></tr>\n",
       "\t<tr><td>-48.2520199</td><td> 56.09484  </td><td>1.4950328  </td><td>17         </td></tr>\n",
       "\t<tr><td> 87.5594908</td><td> 92.82995  </td><td>2.5142120  </td><td>20         </td></tr>\n",
       "</tbody>\n",
       "</table>\n"
      ],
      "text/latex": [
       "\\begin{tabular}{r|llll}\n",
       " ME & RMSE & MAPE & Iteration\\\\\n",
       "\\hline\n",
       "\t -32.3518992 &  43.39974   & 1.1467822   &  1         \\\\\n",
       "\t  -0.6690132 &  29.64593   & 0.7824632   &  5         \\\\\n",
       "\t  84.0260515 & 101.28098   & 2.5469041   &  9         \\\\\n",
       "\t  69.8414736 &  74.62738   & 2.0908235   & 13         \\\\\n",
       "\t -48.2520199 &  56.09484   & 1.4950328   & 17         \\\\\n",
       "\t  87.5594908 &  92.82995   & 2.5142120   & 20         \\\\\n",
       "\\end{tabular}\n"
      ],
      "text/markdown": [
       "\n",
       "ME | RMSE | MAPE | Iteration | \n",
       "|---|---|---|---|---|---|\n",
       "| -32.3518992 |  43.39974   | 1.1467822   |  1          | \n",
       "|  -0.6690132 |  29.64593   | 0.7824632   |  5          | \n",
       "|  84.0260515 | 101.28098   | 2.5469041   |  9          | \n",
       "|  69.8414736 |  74.62738   | 2.0908235   | 13          | \n",
       "| -48.2520199 |  56.09484   | 1.4950328   | 17          | \n",
       "|  87.5594908 |  92.82995   | 2.5142120   | 20          | \n",
       "\n",
       "\n"
      ],
      "text/plain": [
       "  ME          RMSE      MAPE      Iteration\n",
       "1 -32.3518992  43.39974 1.1467822  1       \n",
       "2  -0.6690132  29.64593 0.7824632  5       \n",
       "3  84.0260515 101.28098 2.5469041  9       \n",
       "4  69.8414736  74.62738 2.0908235 13       \n",
       "5 -48.2520199  56.09484 1.4950328 17       \n",
       "6  87.5594908  92.82995 2.5142120 20       "
      ]
     },
     "metadata": {},
     "output_type": "display_data"
    }
   ],
   "source": [
    "df_acc"
   ]
  },
  {
   "cell_type": "code",
   "execution_count": 14,
   "metadata": {},
   "outputs": [],
   "source": [
    "# plot_forecasts  <-  autoplot(window(gdp_agg, start=2010))+\n",
    "#     xlab(\"Время\") + ylab('ВВП') +\n",
    "#     ggtitle(\"AR(3)SAR(2) с линейным трендом\") +\n",
    "#     guides(colour=guide_legend(title=\" \")) +\n",
    "#     theme(aspect.ratio = 0.75)\n",
    "\n",
    "# # for (i in 0:(var_iter*var_allornot - var_shift)){\n",
    "# #     k  <-  k+1\n",
    "# #     st_year  <-  var_start_year + i/var_allornot\n",
    "# #     train_start  <- st_year \n",
    "# #     train_end  <- st_year + 1/var_freq*(var_window)\n",
    "# #     test_start  <- st_year + 1/var_freq*(var_window+1) \n",
    "# #     test_end  <-  st_year + 1/var_freq*(var_window+var_h)\n",
    "    \n",
    "# #     dates  <-  (c(train_start, train_end, test_start, test_end, train_start-var_topup/var_freq, train_end-var_topup/var_freq, test_start-var_topup/var_freq)-var_start_year)*var_freq+1\n",
    "\n",
    "    \n",
    "\n",
    "# for (i in 1:length(l)){\n",
    "#     if (i!=length(l)){\n",
    "#     plot_forecasts  <-  plot_forecasts  + \n",
    "#     autolayer(msts(l[[i]][,1], seasonal.periods = var_freq, start=var_start_year + i/var_allornot+1/var_freq*(var_window+1)-1), series=paste(\"Итерация\" , i, sep=\" \") ) \n",
    "#     }else{\n",
    "#             plot_forecasts  <-  plot_forecasts  + \n",
    "#     autolayer(msts(l[[i]][,1], seasonal.periods = var_freq, start=var_start_year + i/var_allornot+1/var_freq*(var_window+1)-1-var_topup/var_freq), series=paste(\"Итерация\" , i, sep=\" \") ) \n",
    "\n",
    "        \n",
    "#     }\n",
    "# }\n",
    "\n",
    "# plot_forecasts\n"
   ]
  },
  {
   "cell_type": "code",
   "execution_count": 15,
   "metadata": {},
   "outputs": [
    {
     "data": {
      "text/html": [
       "<dl class=dl-horizontal>\n",
       "\t<dt>ME</dt>\n",
       "\t\t<dd>26.6923472662212</dd>\n",
       "\t<dt>RMSE</dt>\n",
       "\t\t<dd>66.3131369817521</dd>\n",
       "\t<dt>MAPE</dt>\n",
       "\t\t<dd>1.76270297651946</dd>\n",
       "\t<dt>Iteration</dt>\n",
       "\t\t<dd>10.8333333333333</dd>\n",
       "</dl>\n"
      ],
      "text/latex": [
       "\\begin{description*}\n",
       "\\item[ME] 26.6923472662212\n",
       "\\item[RMSE] 66.3131369817521\n",
       "\\item[MAPE] 1.76270297651946\n",
       "\\item[Iteration] 10.8333333333333\n",
       "\\end{description*}\n"
      ],
      "text/markdown": [
       "ME\n",
       ":   26.6923472662212RMSE\n",
       ":   66.3131369817521MAPE\n",
       ":   1.76270297651946Iteration\n",
       ":   10.8333333333333\n",
       "\n"
      ],
      "text/plain": [
       "       ME      RMSE      MAPE Iteration \n",
       "26.692347 66.313137  1.762703 10.833333 "
      ]
     },
     "metadata": {},
     "output_type": "display_data"
    }
   ],
   "source": [
    "colMeans(df_acc)"
   ]
  },
  {
   "cell_type": "code",
   "execution_count": 23,
   "metadata": {},
   "outputs": [],
   "source": [
    "df_mean_acc <-  readRDS('df_mean_acc.rds')"
   ]
  },
  {
   "cell_type": "code",
   "execution_count": 24,
   "metadata": {},
   "outputs": [
    {
     "data": {
      "text/html": [
       "<table>\n",
       "<thead><tr><th></th><th scope=col>Квартальные</th><th scope=col>Сезонно сглаженные</th><th scope=col>Месячные</th></tr></thead>\n",
       "<tbody>\n",
       "\t<tr><th scope=row>1 level</th><td>64.30372</td><td>299.5702</td><td>15884.63</td></tr>\n",
       "\t<tr><th scope=row>3 level</th><td>64.24503</td><td>298.8763</td><td>15346.86</td></tr>\n",
       "\t<tr><th scope=row>2 level (state)</th><td>64.23140</td><td>298.8923</td><td>15342.24</td></tr>\n",
       "\t<tr><th scope=row>2 level (type)</th><td>64.10458</td><td>299.4158</td><td>15511.31</td></tr>\n",
       "\t<tr><th scope=row>2 level (clusetered)</th><td>64.25570</td><td>297.5359</td><td>15338.88</td></tr>\n",
       "</tbody>\n",
       "</table>\n"
      ],
      "text/latex": [
       "\\begin{tabular}{r|lll}\n",
       "  & Квартальные & Сезонно сглаженные & Месячные\\\\\n",
       "\\hline\n",
       "\t1 level & 64.30372 & 299.5702 & 15884.63\\\\\n",
       "\t3 level & 64.24503 & 298.8763 & 15346.86\\\\\n",
       "\t2 level (state) & 64.23140 & 298.8923 & 15342.24\\\\\n",
       "\t2 level (type) & 64.10458 & 299.4158 & 15511.31\\\\\n",
       "\t2 level (clusetered) & 64.25570 & 297.5359 & 15338.88\\\\\n",
       "\\end{tabular}\n"
      ],
      "text/markdown": [
       "\n",
       "| <!--/--> | Квартальные | Сезонно сглаженные | Месячные | \n",
       "|---|---|---|---|---|\n",
       "| 1 level | 64.30372 | 299.5702 | 15884.63 | \n",
       "| 3 level | 64.24503 | 298.8763 | 15346.86 | \n",
       "| 2 level (state) | 64.23140 | 298.8923 | 15342.24 | \n",
       "| 2 level (type) | 64.10458 | 299.4158 | 15511.31 | \n",
       "| 2 level (clusetered) | 64.25570 | 297.5359 | 15338.88 | \n",
       "\n",
       "\n"
      ],
      "text/plain": [
       "                     Квартальные Сезонно сглаженные Месячные\n",
       "1 level              64.30372    299.5702           15884.63\n",
       "3 level              64.24503    298.8763           15346.86\n",
       "2 level (state)      64.23140    298.8923           15342.24\n",
       "2 level (type)       64.10458    299.4158           15511.31\n",
       "2 level (clusetered) 64.25570    297.5359           15338.88"
      ]
     },
     "metadata": {},
     "output_type": "display_data"
    }
   ],
   "source": [
    "# df_mean_acc <- readRDS(\"df_mean_acc.rds\")\n",
    "df_mean_acc"
   ]
  },
  {
   "cell_type": "code",
   "execution_count": 22,
   "metadata": {},
   "outputs": [],
   "source": [
    "# df_mean_acc  <-  rbind(df_mean_acc, NA)  \n",
    "# rownames(df_mean_acc)[6]  <-  c('3 level (no)')"
   ]
  },
  {
   "cell_type": "code",
   "execution_count": 25,
   "metadata": {},
   "outputs": [
    {
     "data": {
      "text/html": [
       "<table>\n",
       "<thead><tr><th></th><th scope=col>Квартальные</th><th scope=col>Сезонно сглаженные</th><th scope=col>Месячные</th></tr></thead>\n",
       "<tbody>\n",
       "\t<tr><th scope=row>1 level</th><td>64.30372</td><td>299.5702</td><td>15884.63</td></tr>\n",
       "\t<tr><th scope=row>3 level</th><td>66.31314</td><td>298.8763</td><td>15346.86</td></tr>\n",
       "\t<tr><th scope=row>2 level (state)</th><td>64.23140</td><td>298.8923</td><td>15342.24</td></tr>\n",
       "\t<tr><th scope=row>2 level (type)</th><td>64.10458</td><td>299.4158</td><td>15511.31</td></tr>\n",
       "\t<tr><th scope=row>2 level (clusetered)</th><td>64.25570</td><td>297.5359</td><td>15338.88</td></tr>\n",
       "</tbody>\n",
       "</table>\n"
      ],
      "text/latex": [
       "\\begin{tabular}{r|lll}\n",
       "  & Квартальные & Сезонно сглаженные & Месячные\\\\\n",
       "\\hline\n",
       "\t1 level & 64.30372 & 299.5702 & 15884.63\\\\\n",
       "\t3 level & 66.31314 & 298.8763 & 15346.86\\\\\n",
       "\t2 level (state) & 64.23140 & 298.8923 & 15342.24\\\\\n",
       "\t2 level (type) & 64.10458 & 299.4158 & 15511.31\\\\\n",
       "\t2 level (clusetered) & 64.25570 & 297.5359 & 15338.88\\\\\n",
       "\\end{tabular}\n"
      ],
      "text/markdown": [
       "\n",
       "| <!--/--> | Квартальные | Сезонно сглаженные | Месячные | \n",
       "|---|---|---|---|---|\n",
       "| 1 level | 64.30372 | 299.5702 | 15884.63 | \n",
       "| 3 level | 66.31314 | 298.8763 | 15346.86 | \n",
       "| 2 level (state) | 64.23140 | 298.8923 | 15342.24 | \n",
       "| 2 level (type) | 64.10458 | 299.4158 | 15511.31 | \n",
       "| 2 level (clusetered) | 64.25570 | 297.5359 | 15338.88 | \n",
       "\n",
       "\n"
      ],
      "text/plain": [
       "                     Квартальные Сезонно сглаженные Месячные\n",
       "1 level              64.30372    299.5702           15884.63\n",
       "3 level              66.31314    298.8763           15346.86\n",
       "2 level (state)      64.23140    298.8923           15342.24\n",
       "2 level (type)       64.10458    299.4158           15511.31\n",
       "2 level (clusetered) 64.25570    297.5359           15338.88"
      ]
     },
     "metadata": {},
     "output_type": "display_data"
    }
   ],
   "source": [
    "df_mean_acc[2,1]  <-  colMeans(df_acc)[[2]] \n",
    "df_mean_acc"
   ]
  },
  {
   "cell_type": "code",
   "execution_count": 127,
   "metadata": {
    "scrolled": false
   },
   "outputs": [
    {
     "data": {
      "image/png": "[encoded data removed]",
      "text/plain": [
       "plot without title"
      ]
     },
     "metadata": {},
     "output_type": "display_data"
    }
   ],
   "source": [
    "# Basic line plot with points\n",
    "\n",
    "plots_test_all <- readRDS(\"plots_test_not_all.rds\")\n",
    "\n",
    "var_col_test  <-  'violet'\n",
    "# var_col_train  <-  'red'\n",
    "\n",
    "for (i in 1:3) {\n",
    "    \n",
    "    k = i + 0\n",
    "    \n",
    "    if  (i==1) {\n",
    "        \n",
    "        plots_test_all[[k]]  <-  plots_test_all[[k]] + \n",
    "geom_line(aes(x=Iteration, y=ME), colour = var_col_test, data =  df_acc) \n",
    "    \n",
    "        } else if (i==2) { \n",
    "        plots_test_all[[k]]  <-  plots_test_all[[k]] + \n",
    "geom_line(aes(x=Iteration, y=RMSE), colour = var_col_test, data =  df_acc) \n",
    "        } else if (i==3)  {\n",
    "        plots_test_all[[k]]  <-  plots_test_all[[k]] + \n",
    "geom_line(aes(x=Iteration, y=MAPE), colour = var_col_test, data =  df_acc) \n",
    " \n",
    "    }        \n",
    "    }\n",
    "\n",
    "grid.arrange(grobs = plots_test_all, ncol = 3)"
   ]
  },
  {
   "cell_type": "markdown",
   "metadata": {},
   "source": [
    "#### 2 state, no weights"
   ]
  },
  {
   "cell_type": "code",
   "execution_count": 26,
   "metadata": {},
   "outputs": [],
   "source": [
    "df_eu  <-  read.csv(file=\"../clustering/hts_eu_a10_state.csv\", header=TRUE, sep=\",\", row.names =1 )\n",
    "df_eu  <-  df_eu/1000\n",
    "var_freq  <- 4    \n",
    "var_start_year  <- 2000   \n",
    "gdp_agg <- df_eu_sums <-  rowSums(df_eu)\n",
    "gdp_agg  <- ts(gdp_agg, frequency = var_freq, start = var_start_year) "
   ]
  },
  {
   "cell_type": "code",
   "execution_count": 27,
   "metadata": {},
   "outputs": [],
   "source": [
    "var_h  <- 8\n",
    "var_window  <-  48 - 1\n",
    "var_topup  <-  1\n",
    "var_iter   <- (length(gdp_agg)+var_topup)/var_freq-(var_window+1)/var_freq-2"
   ]
  },
  {
   "cell_type": "code",
   "execution_count": 28,
   "metadata": {},
   "outputs": [],
   "source": [
    "# var_allornot  <- var_freq\n",
    "var_allornot  <- 1\n",
    "# var_shift  <-  var_topup\n",
    "var_shift  <-  0\n",
    "\n",
    "# var_arpdq   <-  c(3,0,0)\n",
    "# var_sarpdq   <-  c(2,0,0)\n",
    "# var_char  <-  c(2,1)"
   ]
  },
  {
   "cell_type": "code",
   "execution_count": 29,
   "metadata": {},
   "outputs": [
    {
     "name": "stderr",
     "output_type": "stream",
     "text": [
      "Since argument characters are not specified, the default labelling system is used.\n"
     ]
    }
   ],
   "source": [
    "df_eu  <-  as.data.table(df_eu)\n",
    "data  <-  df_eu\n",
    "y  <-  hts(data)\n",
    "s  <-  smatrix(y)\n",
    "# gts_train  <- window(y, start=20, end=67)\n",
    "# gts_test  <- window(y, start=68, end=75)\n",
    "# allts <- aggts(y)\n",
    "# allf <- matrix(, nrow=var_h, ncol=ncol(allts))"
   ]
  },
  {
   "cell_type": "code",
   "execution_count": 30,
   "metadata": {},
   "outputs": [
    {
     "name": "stdout",
     "output_type": "stream",
     "text": [
      "[1]  1 48 49 56\n"
     ]
    },
    {
     "name": "stderr",
     "output_type": "stream",
     "text": [
      "Since argument characters are not specified, the default labelling system is used.\n"
     ]
    },
    {
     "name": "stdout",
     "output_type": "stream",
     "text": [
      "Hierarchical Time Series \n",
      "2 Levels \n",
      "Number of nodes at each level: 1 28 \n",
      "Total number of series: 29 \n",
      "Number of observations per series: 8 \n",
      "Top level series: \n",
      "Time Series:\n",
      "Start = 49 \n",
      "End = 56 \n",
      "Frequency = 1 \n",
      "[1] 2957.519 3008.732 3004.238 3063.536 3018.857 3074.927 3072.248 3129.008\n",
      "Hierarchical Time Series \n",
      "2 Levels \n",
      "Number of nodes at each level: 1 28 \n",
      "Total number of series: 29 \n",
      "Number of observations per series: 8 \n",
      "Top level series: \n",
      "Time Series:\n",
      "Start = 49 \n",
      "End = 56 \n",
      "Frequency = 1 \n",
      "[1] 2958.070 3010.722 3033.490 3075.700 2977.965 3035.742 3044.227 3122.905\n",
      "          0%---------25%---------50%---------75%--------100%\n",
      "Progress: [1]  5 52 53 60\n"
     ]
    },
    {
     "name": "stderr",
     "output_type": "stream",
     "text": [
      "Since argument characters are not specified, the default labelling system is used.\n"
     ]
    },
    {
     "name": "stdout",
     "output_type": "stream",
     "text": [
      "Hierarchical Time Series \n",
      "2 Levels \n",
      "Number of nodes at each level: 1 28 \n",
      "Total number of series: 29 \n",
      "Number of observations per series: 8 \n",
      "Top level series: \n",
      "Time Series:\n",
      "Start = 49 \n",
      "End = 56 \n",
      "Frequency = 1 \n",
      "[1] 3014.787 3057.501 3059.353 3104.727 3052.032 3095.629 3096.612 3145.770\n",
      "Hierarchical Time Series \n",
      "2 Levels \n",
      "Number of nodes at each level: 1 28 \n",
      "Total number of series: 29 \n",
      "Number of observations per series: 8 \n",
      "Top level series: \n",
      "Time Series:\n",
      "Start = 53 \n",
      "End = 60 \n",
      "Frequency = 1 \n",
      "[1] 2977.965 3035.742 3044.227 3122.905 3072.484 3133.907 3160.757 3236.918\n",
      "[1]  9 56 57 64\n"
     ]
    },
    {
     "name": "stderr",
     "output_type": "stream",
     "text": [
      "Since argument characters are not specified, the default labelling system is used.\n"
     ]
    },
    {
     "name": "stdout",
     "output_type": "stream",
     "text": [
      "Hierarchical Time Series \n",
      "2 Levels \n",
      "Number of nodes at each level: 1 28 \n",
      "Total number of series: 29 \n",
      "Number of observations per series: 8 \n",
      "Top level series: \n",
      "Time Series:\n",
      "Start = 49 \n",
      "End = 56 \n",
      "Frequency = 1 \n",
      "[1] 3064.124 3121.291 3121.915 3180.419 3126.309 3179.627 3181.315 3237.702\n",
      "Hierarchical Time Series \n",
      "2 Levels \n",
      "Number of nodes at each level: 1 28 \n",
      "Total number of series: 29 \n",
      "Number of observations per series: 8 \n",
      "Top level series: \n",
      "Time Series:\n",
      "Start = 57 \n",
      "End = 64 \n",
      "Frequency = 1 \n",
      "[1] 3072.484 3133.907 3160.757 3236.918 3227.776 3311.839 3325.372 3405.251\n",
      "|[1] 13 60 61 68\n"
     ]
    },
    {
     "name": "stderr",
     "output_type": "stream",
     "text": [
      "Since argument characters are not specified, the default labelling system is used.\n"
     ]
    },
    {
     "name": "stdout",
     "output_type": "stream",
     "text": [
      "Hierarchical Time Series \n",
      "2 Levels \n",
      "Number of nodes at each level: 1 28 \n",
      "Total number of series: 29 \n",
      "Number of observations per series: 8 \n",
      "Top level series: \n",
      "Time Series:\n",
      "Start = 49 \n",
      "End = 56 \n",
      "Frequency = 1 \n",
      "[1] 3182.289 3225.841 3228.667 3287.957 3234.645 3274.885 3276.370 3334.552\n",
      "Hierarchical Time Series \n",
      "2 Levels \n",
      "Number of nodes at each level: 1 28 \n",
      "Total number of series: 29 \n",
      "Number of observations per series: 8 \n",
      "Top level series: \n",
      "Time Series:\n",
      "Start = 61 \n",
      "End = 68 \n",
      "Frequency = 1 \n",
      "[1] 3227.776 3311.839 3325.372 3405.251 3304.666 3362.395 3318.470 3395.389\n",
      "|[1] 17 64 65 72\n"
     ]
    },
    {
     "name": "stderr",
     "output_type": "stream",
     "text": [
      "Since argument characters are not specified, the default labelling system is used.\n"
     ]
    },
    {
     "name": "stdout",
     "output_type": "stream",
     "text": [
      "Hierarchical Time Series \n",
      "2 Levels \n",
      "Number of nodes at each level: 1 28 \n",
      "Total number of series: 29 \n",
      "Number of observations per series: 8 \n",
      "Top level series: \n",
      "Time Series:\n",
      "Start = 49 \n",
      "End = 56 \n",
      "Frequency = 1 \n",
      "[1] 3361.915 3416.347 3415.257 3477.457 3428.028 3475.302 3475.401 3535.986\n",
      "Hierarchical Time Series \n",
      "2 Levels \n",
      "Number of nodes at each level: 1 28 \n",
      "Total number of series: 29 \n",
      "Number of observations per series: 8 \n",
      "Top level series: \n",
      "Time Series:\n",
      "Start = 65 \n",
      "End = 72 \n",
      "Frequency = 1 \n",
      "[1] 3304.666 3362.395 3318.470 3395.389 3357.919 3432.684 3434.182 3530.894\n",
      "[1] 21 68 69 76\n"
     ]
    },
    {
     "name": "stderr",
     "output_type": "stream",
     "text": [
      "Since argument characters are not specified, the default labelling system is used.\n"
     ]
    },
    {
     "name": "stdout",
     "output_type": "stream",
     "text": [
      "Hierarchical Time Series \n",
      "2 Levels \n",
      "Number of nodes at each level: 1 28 \n",
      "Total number of series: 29 \n",
      "Number of observations per series: 8 \n",
      "Top level series: \n",
      "Time Series:\n",
      "Start = 49 \n",
      "End = 56 \n",
      "Frequency = 1 \n",
      "[1] 3365.806 3294.802 3355.263 3349.729 3412.927 3363.100 3423.855 3424.977\n",
      "Hierarchical Time Series \n",
      "2 Levels \n",
      "Number of nodes at each level: 1 28 \n",
      "Total number of series: 29 \n",
      "Number of observations per series: 8 \n",
      "Top level series: \n",
      "Time Series:\n",
      "Start = 68 \n",
      "End = 75 \n",
      "Frequency = 1 \n",
      "[1] 3395.389 3357.919 3432.684 3434.182 3530.894 3471.013 3542.181 3541.582\n"
     ]
    }
   ],
   "source": [
    "l <- ac <- m_top  <- l_test  <-  l_top  <-  list()\n",
    "\n",
    "df_ac  <-  data.frame(matrix(ncol = 0, nrow = 0))\n",
    "\n",
    "k  <- 0\n",
    "\n",
    "for (i in 0:(var_iter*var_allornot - var_shift)){\n",
    "    k  <-  k+1\n",
    "    st_year  <-  var_start_year + i/var_allornot\n",
    "    train_start  <- st_year \n",
    "    train_end  <- st_year + 1/var_freq*(var_window)\n",
    "    test_start  <- st_year + 1/var_freq*(var_window+1) \n",
    "    test_end  <-  st_year + 1/var_freq*(var_window+var_h)\n",
    "    \n",
    "    dates  <-  (c(train_start, train_end, test_start, test_end, train_start-var_topup/var_freq, train_end-var_topup/var_freq, test_start-var_topup/var_freq)-var_start_year)*var_freq+1\n",
    "    \n",
    "    train_start  <- dates[1] \n",
    "    train_end  <- dates[2]\n",
    "    test_start  <- dates[3]\n",
    "    test_end  <- dates[4]\n",
    "    \n",
    "    print(c(train_start, train_end, test_start, test_end))\n",
    "    \n",
    "    \n",
    "    if (i == 0){\n",
    "        gts_train <- window(y, end=train_end)    \n",
    "    }\n",
    "    else{\n",
    "        if ((var_shift == 0) & (i == var_iter*var_allornot - var_shift)){\n",
    "            gts_train <- window(y, start=dates[5], end=dates[6])\n",
    "        }else{\n",
    "            gts_train <- window(y, start=train_start, end=train_end)\n",
    "    }}\n",
    "    \n",
    "    if ((var_shift == 0) & (i == var_iter*var_allornot - var_shift)){\n",
    "        gts_test <- window(y, start=dates[7])\n",
    "      \n",
    "    }else{  \n",
    "     gts_test <- window(y, start=test_start, end=test_end)\n",
    "          \n",
    "    }\n",
    "    \n",
    "    \n",
    "    allts <- aggts(gts_train)\n",
    "    \n",
    "    ms <-  foreach(j=1:ncol(allts)) %dopar% {\n",
    "        model  <- tryCatch(        \n",
    "        Arima(msts(allts[,j], seasonal.periods = var_freq), order=var_arpdq, seasonal=var_sarpdq,  include.drift = var_drift, include.mean = var_constant, method=\"ML\"), \n",
    "            error = function(e) \n",
    "#                               {tryCatch( \n",
    "                Arima(msts(allts[,j], seasonal.periods = var_freq), order=var_arpdq, seasonal=var_sarpdq, include.drift = var_drift, include.mean = var_constant, method=\"CSS\") #,\n",
    "#                          error = function(e)              \n",
    "#                             auto.arima(msts(allts[,j], seasonal.periods = var_freq))\n",
    "#                          )}\n",
    "                        \n",
    "            )\n",
    "        \n",
    "    }\n",
    "    \n",
    "     \n",
    "        \n",
    "    allf <- matrix(, nrow=var_h, ncol=ncol(allts))\n",
    "        \n",
    "    \n",
    "    for(j in 1:ncol(allts)){  \n",
    "    allf[,j] <- forecast(ms[[j]], h=var_h)$mean\n",
    "    \n",
    "    \n",
    "    }\n",
    "\n",
    "    \n",
    "    allf <- ts(allf)\n",
    "    colnames(allf)  <-  colnames(allts)  \n",
    "    g <- get_nodes(gts_train)\n",
    "    y.f <- combinef(allf, nodes = g, weights = c(0,rep(1, dim(df_eu)[2])))\n",
    "    forecasts_7  <- y.f[[1]]\n",
    "    colnames(forecasts_7)  <- colnames(y[[1]])\n",
    "    data_f5  <- rbind(gts_train[[1]], forecasts_7)\n",
    "    y_f5  <- hts(data_f5)\n",
    "        \n",
    "#     if (i == 4){\n",
    "#         gts_forecasts_7 <- window(y_f5, start=test_start)}\n",
    "#     else{\n",
    "#     gts_forecasts_7 <- window(y_f5, start=test_start, end=test_end)\n",
    "# #     }\n",
    "\n",
    "#     if ((var_shift == 0) & (i == var_iter*var_allornot - var_shift)){\n",
    "#         gts_forecasts_7 <- window(y_f5, start=dates[7])\n",
    "      \n",
    "#     }else{  \n",
    "     gts_forecasts_7 <- window(y_f5, start=dim(y_f5[[1]])[1]-var_h+1)\n",
    "          \n",
    "#     }\n",
    "         \n",
    "    print(gts_forecasts_7)\n",
    "    print(gts_test)\n",
    "            \n",
    "    \n",
    "    l[[k]]  <- allf\n",
    "\n",
    "    ac[[k]]  <-  accuracy.gts(gts_forecasts_7, gts_test)[, 1] \n",
    "\n",
    "    progress(i, progress.bar = TRUE)\n",
    "            \n",
    "    }"
   ]
  },
  {
   "cell_type": "code",
   "execution_count": 31,
   "metadata": {},
   "outputs": [],
   "source": [
    "var_acc_metrics  <-  c(1,2,4)\n",
    "df_acc_test  <- ac[[1]][var_acc_metrics]\n",
    "for (i in ac[2:length(ac)]){\n",
    "    x  <-  i[var_acc_metrics]\n",
    "    df_acc_test   <-  cbind(df_acc_test, x)\n",
    "}\n",
    "df_acc_test  <- t(df_acc_test)\n",
    "df_acc_test  <-  as.data.frame(df_acc_test)\n",
    "row.names(df_acc_test)  <-  seq(1,length(ac))\n",
    "df_acc  <- df_acc_test\n",
    "df_acc  <-  cbind(df_acc, seq(1, length(ac)))\n",
    "colnames(df_acc)[length(var_acc_metrics)+1]  <-  'Iteration'"
   ]
  },
  {
   "cell_type": "code",
   "execution_count": 32,
   "metadata": {},
   "outputs": [],
   "source": [
    "df_acc$Iteration  <-  df_acc$Iteration*var_freq-(var_freq-1)\n",
    "df_acc$Iteration[length(df_acc$Iteration)]  <-   df_acc$Iteration[length(df_acc$Iteration)] - var_topup"
   ]
  },
  {
   "cell_type": "code",
   "execution_count": 33,
   "metadata": {},
   "outputs": [
    {
     "data": {
      "text/html": [
       "<table>\n",
       "<thead><tr><th scope=col>ME</th><th scope=col>RMSE</th><th scope=col>MAPE</th><th scope=col>Iteration</th></tr></thead>\n",
       "<tbody>\n",
       "\t<tr><td> -8.780502</td><td> 25.09469 </td><td>0.6530478 </td><td> 1        </td></tr>\n",
       "\t<tr><td> 19.811661</td><td> 45.68171 </td><td>1.2205670 </td><td> 5        </td></tr>\n",
       "\t<tr><td> 82.700283</td><td>100.95222 </td><td>2.5046289 </td><td> 9        </td></tr>\n",
       "\t<tr><td> 75.743736</td><td> 79.53668 </td><td>2.2675411 </td><td>13        </td></tr>\n",
       "\t<tr><td>-56.137031</td><td> 61.99599 </td><td>1.6680676 </td><td>17        </td></tr>\n",
       "\t<tr><td> 89.423190</td><td> 94.30307 </td><td>2.5685547 </td><td>20        </td></tr>\n",
       "</tbody>\n",
       "</table>\n"
      ],
      "text/latex": [
       "\\begin{tabular}{r|llll}\n",
       " ME & RMSE & MAPE & Iteration\\\\\n",
       "\\hline\n",
       "\t  -8.780502 &  25.09469  & 0.6530478  &  1        \\\\\n",
       "\t  19.811661 &  45.68171  & 1.2205670  &  5        \\\\\n",
       "\t  82.700283 & 100.95222  & 2.5046289  &  9        \\\\\n",
       "\t  75.743736 &  79.53668  & 2.2675411  & 13        \\\\\n",
       "\t -56.137031 &  61.99599  & 1.6680676  & 17        \\\\\n",
       "\t  89.423190 &  94.30307  & 2.5685547  & 20        \\\\\n",
       "\\end{tabular}\n"
      ],
      "text/markdown": [
       "\n",
       "ME | RMSE | MAPE | Iteration | \n",
       "|---|---|---|---|---|---|\n",
       "|  -8.780502 |  25.09469  | 0.6530478  |  1         | \n",
       "|  19.811661 |  45.68171  | 1.2205670  |  5         | \n",
       "|  82.700283 | 100.95222  | 2.5046289  |  9         | \n",
       "|  75.743736 |  79.53668  | 2.2675411  | 13         | \n",
       "| -56.137031 |  61.99599  | 1.6680676  | 17         | \n",
       "|  89.423190 |  94.30307  | 2.5685547  | 20         | \n",
       "\n",
       "\n"
      ],
      "text/plain": [
       "  ME         RMSE      MAPE      Iteration\n",
       "1  -8.780502  25.09469 0.6530478  1       \n",
       "2  19.811661  45.68171 1.2205670  5       \n",
       "3  82.700283 100.95222 2.5046289  9       \n",
       "4  75.743736  79.53668 2.2675411 13       \n",
       "5 -56.137031  61.99599 1.6680676 17       \n",
       "6  89.423190  94.30307 2.5685547 20       "
      ]
     },
     "metadata": {},
     "output_type": "display_data"
    }
   ],
   "source": [
    "df_acc"
   ]
  },
  {
   "cell_type": "code",
   "execution_count": 34,
   "metadata": {},
   "outputs": [
    {
     "data": {
      "text/html": [
       "<dl class=dl-horizontal>\n",
       "\t<dt>ME</dt>\n",
       "\t\t<dd>33.7935560661773</dd>\n",
       "\t<dt>RMSE</dt>\n",
       "\t\t<dd>67.9273926814176</dd>\n",
       "\t<dt>MAPE</dt>\n",
       "\t\t<dd>1.81373452646599</dd>\n",
       "\t<dt>Iteration</dt>\n",
       "\t\t<dd>10.8333333333333</dd>\n",
       "</dl>\n"
      ],
      "text/latex": [
       "\\begin{description*}\n",
       "\\item[ME] 33.7935560661773\n",
       "\\item[RMSE] 67.9273926814176\n",
       "\\item[MAPE] 1.81373452646599\n",
       "\\item[Iteration] 10.8333333333333\n",
       "\\end{description*}\n"
      ],
      "text/markdown": [
       "ME\n",
       ":   33.7935560661773RMSE\n",
       ":   67.9273926814176MAPE\n",
       ":   1.81373452646599Iteration\n",
       ":   10.8333333333333\n",
       "\n"
      ],
      "text/plain": [
       "       ME      RMSE      MAPE Iteration \n",
       "33.793556 67.927393  1.813735 10.833333 "
      ]
     },
     "metadata": {},
     "output_type": "display_data"
    }
   ],
   "source": [
    "colMeans(df_acc)"
   ]
  },
  {
   "cell_type": "code",
   "execution_count": 138,
   "metadata": {},
   "outputs": [],
   "source": [
    "# df_mean_acc <- readRDS(\"df_mean_acc.rds\")\n",
    "# rownames(df_mean_acc)[2:5]  <-  c('3 level', '2 level (state)', '2 level (type)' ,'2 level (clusetered)' )"
   ]
  },
  {
   "cell_type": "code",
   "execution_count": 139,
   "metadata": {},
   "outputs": [],
   "source": [
    "# df_mean_acc  <-  rbind(df_mean_acc, NA)  \n",
    "# rownames(df_mean_acc)[7]  <-  c('2 level (state) no')"
   ]
  },
  {
   "cell_type": "code",
   "execution_count": 36,
   "metadata": {},
   "outputs": [
    {
     "data": {
      "text/html": [
       "<table>\n",
       "<thead><tr><th></th><th scope=col>Квартальные</th><th scope=col>Сезонно сглаженные</th><th scope=col>Месячные</th></tr></thead>\n",
       "<tbody>\n",
       "\t<tr><th scope=row>1 level</th><td>64.30372</td><td>299.5702</td><td>15884.63</td></tr>\n",
       "\t<tr><th scope=row>3 level</th><td>66.31314</td><td>298.8763</td><td>15346.86</td></tr>\n",
       "\t<tr><th scope=row>2 level (state)</th><td>67.92739</td><td>298.8923</td><td>15342.24</td></tr>\n",
       "\t<tr><th scope=row>2 level (type)</th><td>64.10458</td><td>299.4158</td><td>15511.31</td></tr>\n",
       "\t<tr><th scope=row>2 level (clusetered)</th><td>64.25570</td><td>297.5359</td><td>15338.88</td></tr>\n",
       "</tbody>\n",
       "</table>\n"
      ],
      "text/latex": [
       "\\begin{tabular}{r|lll}\n",
       "  & Квартальные & Сезонно сглаженные & Месячные\\\\\n",
       "\\hline\n",
       "\t1 level & 64.30372 & 299.5702 & 15884.63\\\\\n",
       "\t3 level & 66.31314 & 298.8763 & 15346.86\\\\\n",
       "\t2 level (state) & 67.92739 & 298.8923 & 15342.24\\\\\n",
       "\t2 level (type) & 64.10458 & 299.4158 & 15511.31\\\\\n",
       "\t2 level (clusetered) & 64.25570 & 297.5359 & 15338.88\\\\\n",
       "\\end{tabular}\n"
      ],
      "text/markdown": [
       "\n",
       "| <!--/--> | Квартальные | Сезонно сглаженные | Месячные | \n",
       "|---|---|---|---|---|\n",
       "| 1 level | 64.30372 | 299.5702 | 15884.63 | \n",
       "| 3 level | 66.31314 | 298.8763 | 15346.86 | \n",
       "| 2 level (state) | 67.92739 | 298.8923 | 15342.24 | \n",
       "| 2 level (type) | 64.10458 | 299.4158 | 15511.31 | \n",
       "| 2 level (clusetered) | 64.25570 | 297.5359 | 15338.88 | \n",
       "\n",
       "\n"
      ],
      "text/plain": [
       "                     Квартальные Сезонно сглаженные Месячные\n",
       "1 level              64.30372    299.5702           15884.63\n",
       "3 level              66.31314    298.8763           15346.86\n",
       "2 level (state)      67.92739    298.8923           15342.24\n",
       "2 level (type)       64.10458    299.4158           15511.31\n",
       "2 level (clusetered) 64.25570    297.5359           15338.88"
      ]
     },
     "metadata": {},
     "output_type": "display_data"
    }
   ],
   "source": [
    "df_mean_acc[3,1]  <-  colMeans(df_acc)[[2]] \n",
    "df_mean_acc"
   ]
  },
  {
   "cell_type": "code",
   "execution_count": 141,
   "metadata": {
    "scrolled": false
   },
   "outputs": [],
   "source": [
    "# # Basic line plot with points\n",
    "\n",
    "# # plots_test_all <- readRDS(\"plots_test_not_all.rds\")\n",
    "\n",
    "# var_col_test  <-  'yellow'\n",
    "# # var_col_train  <-  'red'\n",
    "\n",
    "# for (i in 1:3) {\n",
    "    \n",
    "#     k = i + 0\n",
    "    \n",
    "#     if  (i==1) {\n",
    "        \n",
    "#         plots_test_all[[k]]  <-  plots_test_all[[k]] + \n",
    "# geom_line(aes(x=Iteration, y=ME), colour = var_col_test, data =  df_acc) \n",
    "    \n",
    "#         } else if (i==2) { \n",
    "#         plots_test_all[[k]]  <-  plots_test_all[[k]] + \n",
    "# geom_line(aes(x=Iteration, y=RMSE), colour = var_col_test, data =  df_acc) \n",
    "#         } else if (i==3)  {\n",
    "#         plots_test_all[[k]]  <-  plots_test_all[[k]] + \n",
    "# geom_line(aes(x=Iteration, y=MAPE), colour = var_col_test, data =  df_acc) \n",
    " \n",
    "#     }        \n",
    "#     }\n",
    "\n",
    "# grid.arrange(grobs = plots_test_all, ncol = 3)"
   ]
  },
  {
   "cell_type": "markdown",
   "metadata": {},
   "source": [
    "#### 2 type, no weights"
   ]
  },
  {
   "cell_type": "code",
   "execution_count": 37,
   "metadata": {},
   "outputs": [],
   "source": [
    "df_eu  <-  read.csv(file=\"../clustering/hts_eu_a10_type.csv\", header=TRUE, sep=\",\", row.names =1 )\n",
    "df_eu  <-  df_eu/1000\n",
    "var_freq  <- 4    \n",
    "var_start_year  <- 2000   \n",
    "gdp_agg <- df_eu_sums <-  rowSums(df_eu)\n",
    "gdp_agg  <- ts(gdp_agg, frequency = var_freq, start = var_start_year) "
   ]
  },
  {
   "cell_type": "code",
   "execution_count": 38,
   "metadata": {},
   "outputs": [],
   "source": [
    "var_h  <- 8\n",
    "var_window  <-  48 - 1\n",
    "var_topup  <-  1\n",
    "var_iter   <- (length(gdp_agg)+var_topup)/var_freq-(var_window+1)/var_freq-2"
   ]
  },
  {
   "cell_type": "code",
   "execution_count": 39,
   "metadata": {},
   "outputs": [],
   "source": [
    "# var_allornot  <- var_freq\n",
    "var_allornot  <- 1\n",
    "# var_shift  <-  var_topup\n",
    "var_shift  <-  0\n",
    "\n",
    "# var_arpdq   <-  c(3,0,0)\n",
    "# var_sarpdq   <-  c(2,0,0)\n",
    "# var_char  <-  c(2,1)"
   ]
  },
  {
   "cell_type": "code",
   "execution_count": 40,
   "metadata": {},
   "outputs": [
    {
     "name": "stderr",
     "output_type": "stream",
     "text": [
      "Since argument characters are not specified, the default labelling system is used.\n"
     ]
    }
   ],
   "source": [
    "df_eu  <-  as.data.table(df_eu)\n",
    "data  <-  df_eu\n",
    "y  <-  hts(data)\n",
    "s  <-  smatrix(y)\n",
    "# gts_train  <- window(y, start=20, end=67)\n",
    "# gts_test  <- window(y, start=68, end=75)\n",
    "# allts <- aggts(y)\n",
    "# allf <- matrix(, nrow=var_h, ncol=ncol(allts))"
   ]
  },
  {
   "cell_type": "code",
   "execution_count": 41,
   "metadata": {},
   "outputs": [
    {
     "name": "stdout",
     "output_type": "stream",
     "text": [
      "[1]  1 48 49 56\n"
     ]
    },
    {
     "name": "stderr",
     "output_type": "stream",
     "text": [
      "Since argument characters are not specified, the default labelling system is used.\n"
     ]
    },
    {
     "name": "stdout",
     "output_type": "stream",
     "text": [
      "Hierarchical Time Series \n",
      "2 Levels \n",
      "Number of nodes at each level: 1 10 \n",
      "Total number of series: 11 \n",
      "Number of observations per series: 8 \n",
      "Top level series: \n",
      "Time Series:\n",
      "Start = 49 \n",
      "End = 56 \n",
      "Frequency = 1 \n",
      "[1] 2971.593 3011.963 3016.552 3081.636 3053.012 3096.365 3105.865 3163.773\n",
      "Hierarchical Time Series \n",
      "2 Levels \n",
      "Number of nodes at each level: 1 10 \n",
      "Total number of series: 11 \n",
      "Number of observations per series: 8 \n",
      "Top level series: \n",
      "Time Series:\n",
      "Start = 49 \n",
      "End = 56 \n",
      "Frequency = 1 \n",
      "[1] 2958.070 3010.722 3033.490 3075.700 2977.965 3035.742 3044.227 3122.905\n",
      "          0%---------25%---------50%---------75%--------100%\n",
      "Progress: [1]  5 52 53 60\n"
     ]
    },
    {
     "name": "stderr",
     "output_type": "stream",
     "text": [
      "Since argument characters are not specified, the default labelling system is used.\n"
     ]
    },
    {
     "name": "stdout",
     "output_type": "stream",
     "text": [
      "Hierarchical Time Series \n",
      "2 Levels \n",
      "Number of nodes at each level: 1 10 \n",
      "Total number of series: 11 \n",
      "Number of observations per series: 8 \n",
      "Top level series: \n",
      "Time Series:\n",
      "Start = 49 \n",
      "End = 56 \n",
      "Frequency = 1 \n",
      "[1] 3024.620 3071.699 3095.058 3139.310 3099.310 3146.086 3170.988 3212.583\n",
      "Hierarchical Time Series \n",
      "2 Levels \n",
      "Number of nodes at each level: 1 10 \n",
      "Total number of series: 11 \n",
      "Number of observations per series: 8 \n",
      "Top level series: \n",
      "Time Series:\n",
      "Start = 53 \n",
      "End = 60 \n",
      "Frequency = 1 \n",
      "[1] 2977.965 3035.742 3044.227 3122.905 3072.484 3133.907 3160.757 3236.918\n",
      "[1]  9 56 57 64\n"
     ]
    },
    {
     "name": "stderr",
     "output_type": "stream",
     "text": [
      "Since argument characters are not specified, the default labelling system is used.\n"
     ]
    },
    {
     "name": "stdout",
     "output_type": "stream",
     "text": [
      "Hierarchical Time Series \n",
      "2 Levels \n",
      "Number of nodes at each level: 1 10 \n",
      "Total number of series: 11 \n",
      "Number of observations per series: 8 \n",
      "Top level series: \n",
      "Time Series:\n",
      "Start = 49 \n",
      "End = 56 \n",
      "Frequency = 1 \n",
      "[1] 3060.523 3123.572 3136.414 3202.094 3141.508 3194.424 3205.985 3262.795\n",
      "Hierarchical Time Series \n",
      "2 Levels \n",
      "Number of nodes at each level: 1 10 \n",
      "Total number of series: 11 \n",
      "Number of observations per series: 8 \n",
      "Top level series: \n",
      "Time Series:\n",
      "Start = 57 \n",
      "End = 64 \n",
      "Frequency = 1 \n",
      "[1] 3072.484 3133.907 3160.757 3236.918 3227.776 3311.839 3325.372 3405.251\n",
      "|[1] 13 60 61 68\n"
     ]
    },
    {
     "name": "stderr",
     "output_type": "stream",
     "text": [
      "Since argument characters are not specified, the default labelling system is used.\n"
     ]
    },
    {
     "name": "stdout",
     "output_type": "stream",
     "text": [
      "Hierarchical Time Series \n",
      "2 Levels \n",
      "Number of nodes at each level: 1 10 \n",
      "Total number of series: 11 \n",
      "Number of observations per series: 8 \n",
      "Top level series: \n",
      "Time Series:\n",
      "Start = 49 \n",
      "End = 56 \n",
      "Frequency = 1 \n",
      "[1] 3188.035 3232.628 3249.245 3306.848 3258.341 3297.319 3315.408 3367.536\n",
      "Hierarchical Time Series \n",
      "2 Levels \n",
      "Number of nodes at each level: 1 10 \n",
      "Total number of series: 11 \n",
      "Number of observations per series: 8 \n",
      "Top level series: \n",
      "Time Series:\n",
      "Start = 61 \n",
      "End = 68 \n",
      "Frequency = 1 \n",
      "[1] 3227.776 3311.839 3325.372 3405.251 3304.666 3362.395 3318.470 3395.389\n",
      "|[1] 17 64 65 72\n"
     ]
    },
    {
     "name": "stderr",
     "output_type": "stream",
     "text": [
      "Since argument characters are not specified, the default labelling system is used.\n"
     ]
    },
    {
     "name": "stdout",
     "output_type": "stream",
     "text": [
      "Hierarchical Time Series \n",
      "2 Levels \n",
      "Number of nodes at each level: 1 10 \n",
      "Total number of series: 11 \n",
      "Number of observations per series: 8 \n",
      "Top level series: \n",
      "Time Series:\n",
      "Start = 49 \n",
      "End = 56 \n",
      "Frequency = 1 \n",
      "[1] 3378.872 3430.707 3426.910 3480.692 3445.069 3489.178 3491.342 3542.635\n",
      "Hierarchical Time Series \n",
      "2 Levels \n",
      "Number of nodes at each level: 1 10 \n",
      "Total number of series: 11 \n",
      "Number of observations per series: 8 \n",
      "Top level series: \n",
      "Time Series:\n",
      "Start = 65 \n",
      "End = 72 \n",
      "Frequency = 1 \n",
      "[1] 3304.666 3362.395 3318.470 3395.389 3357.919 3432.684 3434.182 3530.894\n",
      "[1] 21 68 69 76\n"
     ]
    },
    {
     "name": "stderr",
     "output_type": "stream",
     "text": [
      "Since argument characters are not specified, the default labelling system is used.\n"
     ]
    },
    {
     "name": "stdout",
     "output_type": "stream",
     "text": [
      "Hierarchical Time Series \n",
      "2 Levels \n",
      "Number of nodes at each level: 1 10 \n",
      "Total number of series: 11 \n",
      "Number of observations per series: 8 \n",
      "Top level series: \n",
      "Time Series:\n",
      "Start = 49 \n",
      "End = 56 \n",
      "Frequency = 1 \n",
      "[1] 3372.474 3295.386 3364.607 3354.650 3420.925 3365.360 3434.189 3432.202\n",
      "Hierarchical Time Series \n",
      "2 Levels \n",
      "Number of nodes at each level: 1 10 \n",
      "Total number of series: 11 \n",
      "Number of observations per series: 8 \n",
      "Top level series: \n",
      "Time Series:\n",
      "Start = 68 \n",
      "End = 75 \n",
      "Frequency = 1 \n",
      "[1] 3395.389 3357.919 3432.684 3434.182 3530.894 3471.013 3542.181 3541.582\n"
     ]
    }
   ],
   "source": [
    "l <- ac <- m_top  <- l_test  <-  l_top  <-  list()\n",
    "\n",
    "df_ac  <-  data.frame(matrix(ncol = 0, nrow = 0))\n",
    "\n",
    "k  <- 0\n",
    "\n",
    "for (i in 0:(var_iter*var_allornot - var_shift)){\n",
    "    k  <-  k+1\n",
    "    st_year  <-  var_start_year + i/var_allornot\n",
    "    train_start  <- st_year \n",
    "    train_end  <- st_year + 1/var_freq*(var_window)\n",
    "    test_start  <- st_year + 1/var_freq*(var_window+1) \n",
    "    test_end  <-  st_year + 1/var_freq*(var_window+var_h)\n",
    "    \n",
    "    dates  <-  (c(train_start, train_end, test_start, test_end, train_start-var_topup/var_freq, train_end-var_topup/var_freq, test_start-var_topup/var_freq)-var_start_year)*var_freq+1\n",
    "    \n",
    "    train_start  <- dates[1] \n",
    "    train_end  <- dates[2]\n",
    "    test_start  <- dates[3]\n",
    "    test_end  <- dates[4]\n",
    "    \n",
    "    print(c(train_start, train_end, test_start, test_end))\n",
    "    \n",
    "    \n",
    "    if (i == 0){\n",
    "        gts_train <- window(y, end=train_end)    \n",
    "    }\n",
    "    else{\n",
    "        if ((var_shift == 0) & (i == var_iter*var_allornot - var_shift)){\n",
    "            gts_train <- window(y, start=dates[5], end=dates[6])\n",
    "        }else{\n",
    "            gts_train <- window(y, start=train_start, end=train_end)\n",
    "    }}\n",
    "    \n",
    "    if ((var_shift == 0) & (i == var_iter*var_allornot - var_shift)){\n",
    "        gts_test <- window(y, start=dates[7])\n",
    "      \n",
    "    }else{  \n",
    "     gts_test <- window(y, start=test_start, end=test_end)\n",
    "          \n",
    "    }\n",
    "    \n",
    "    \n",
    "    allts <- aggts(gts_train)\n",
    "    \n",
    "    ms <-  foreach(j=1:ncol(allts)) %dopar% {\n",
    "        model  <- tryCatch(        \n",
    "        Arima(msts(allts[,j], seasonal.periods = var_freq), order=var_arpdq, seasonal=var_sarpdq,  include.drift = var_drift, include.mean = var_constant, method=\"ML\"), \n",
    "            error = function(e) \n",
    "#                               {tryCatch( \n",
    "                Arima(msts(allts[,j], seasonal.periods = var_freq), order=var_arpdq, seasonal=var_sarpdq, include.drift = var_drift, include.mean = var_constant, method=\"CSS\") #,\n",
    "#                          error = function(e)              \n",
    "#                             auto.arima(msts(allts[,j], seasonal.periods = var_freq))\n",
    "#                          )}\n",
    "                        \n",
    "            )\n",
    "        \n",
    "    }\n",
    "    \n",
    "     \n",
    "        \n",
    "    allf <- matrix(, nrow=var_h, ncol=ncol(allts))\n",
    "        \n",
    "    \n",
    "    for(j in 1:ncol(allts)){  \n",
    "    allf[,j] <- forecast(ms[[j]], h=var_h)$mean\n",
    "    \n",
    "    \n",
    "    }\n",
    "\n",
    "    \n",
    "    allf <- ts(allf)\n",
    "    colnames(allf)  <-  colnames(allts)  \n",
    "    g <- get_nodes(gts_train)\n",
    "    y.f <- combinef(allf, nodes = g, weights = c(0,rep(1, dim(df_eu)[2])))\n",
    "    forecasts_7  <- y.f[[1]]\n",
    "    colnames(forecasts_7)  <- colnames(y[[1]])\n",
    "    data_f5  <- rbind(gts_train[[1]], forecasts_7)\n",
    "    y_f5  <- hts(data_f5)\n",
    "        \n",
    "#     if (i == 4){\n",
    "#         gts_forecasts_7 <- window(y_f5, start=test_start)}\n",
    "#     else{\n",
    "#     gts_forecasts_7 <- window(y_f5, start=test_start, end=test_end)\n",
    "# #     }\n",
    "\n",
    "#     if ((var_shift == 0) & (i == var_iter*var_allornot - var_shift)){\n",
    "#         gts_forecasts_7 <- window(y_f5, start=dates[7])\n",
    "      \n",
    "#     }else{  \n",
    "     gts_forecasts_7 <- window(y_f5, start=dim(y_f5[[1]])[1]-var_h+1)\n",
    "          \n",
    "#     }\n",
    "         \n",
    "    print(gts_forecasts_7)\n",
    "    print(gts_test)\n",
    "            \n",
    "    \n",
    "    l[[k]]  <- allf\n",
    "\n",
    "    ac[[k]]  <-  accuracy.gts(gts_forecasts_7, gts_test)[, 1] \n",
    "\n",
    "    progress(i, progress.bar = TRUE)\n",
    "            \n",
    "    }"
   ]
  },
  {
   "cell_type": "code",
   "execution_count": 42,
   "metadata": {},
   "outputs": [],
   "source": [
    "var_acc_metrics  <-  c(1,2,4)\n",
    "df_acc_test  <- ac[[1]][var_acc_metrics]\n",
    "for (i in ac[2:length(ac)]){\n",
    "    x  <-  i[var_acc_metrics]\n",
    "    df_acc_test   <-  cbind(df_acc_test, x)\n",
    "}\n",
    "df_acc_test  <- t(df_acc_test)\n",
    "df_acc_test  <-  as.data.frame(df_acc_test)\n",
    "row.names(df_acc_test)  <-  seq(1,length(ac))\n",
    "df_acc  <- df_acc_test\n",
    "df_acc  <-  cbind(df_acc, seq(1, length(ac)))\n",
    "colnames(df_acc)[length(var_acc_metrics)+1]  <-  'Iteration'"
   ]
  },
  {
   "cell_type": "code",
   "execution_count": 43,
   "metadata": {},
   "outputs": [],
   "source": [
    "df_acc$Iteration  <-  df_acc$Iteration*var_freq-(var_freq-1)\n",
    "df_acc$Iteration[length(df_acc$Iteration)]  <-   df_acc$Iteration[length(df_acc$Iteration)] - var_topup"
   ]
  },
  {
   "cell_type": "code",
   "execution_count": 44,
   "metadata": {},
   "outputs": [
    {
     "data": {
      "text/html": [
       "<table>\n",
       "<thead><tr><th scope=col>ME</th><th scope=col>RMSE</th><th scope=col>MAPE</th><th scope=col>Iteration</th></tr></thead>\n",
       "<tbody>\n",
       "\t<tr><td>-30.24215</td><td>43.70804 </td><td>1.137520 </td><td> 1       </td></tr>\n",
       "\t<tr><td>-21.84342</td><td>31.39918 </td><td>0.910421 </td><td> 5       </td></tr>\n",
       "\t<tr><td> 68.37348</td><td>85.02252 </td><td>2.069579 </td><td> 9       </td></tr>\n",
       "\t<tr><td> 54.47462</td><td>61.74354 </td><td>1.631470 </td><td>13       </td></tr>\n",
       "\t<tr><td>-68.60071</td><td>73.65524 </td><td>2.036914 </td><td>17       </td></tr>\n",
       "\t<tr><td> 83.25648</td><td>88.23090 </td><td>2.391475 </td><td>20       </td></tr>\n",
       "</tbody>\n",
       "</table>\n"
      ],
      "text/latex": [
       "\\begin{tabular}{r|llll}\n",
       " ME & RMSE & MAPE & Iteration\\\\\n",
       "\\hline\n",
       "\t -30.24215 & 43.70804  & 1.137520  &  1       \\\\\n",
       "\t -21.84342 & 31.39918  & 0.910421  &  5       \\\\\n",
       "\t  68.37348 & 85.02252  & 2.069579  &  9       \\\\\n",
       "\t  54.47462 & 61.74354  & 1.631470  & 13       \\\\\n",
       "\t -68.60071 & 73.65524  & 2.036914  & 17       \\\\\n",
       "\t  83.25648 & 88.23090  & 2.391475  & 20       \\\\\n",
       "\\end{tabular}\n"
      ],
      "text/markdown": [
       "\n",
       "ME | RMSE | MAPE | Iteration | \n",
       "|---|---|---|---|---|---|\n",
       "| -30.24215 | 43.70804  | 1.137520  |  1        | \n",
       "| -21.84342 | 31.39918  | 0.910421  |  5        | \n",
       "|  68.37348 | 85.02252  | 2.069579  |  9        | \n",
       "|  54.47462 | 61.74354  | 1.631470  | 13        | \n",
       "| -68.60071 | 73.65524  | 2.036914  | 17        | \n",
       "|  83.25648 | 88.23090  | 2.391475  | 20        | \n",
       "\n",
       "\n"
      ],
      "text/plain": [
       "  ME        RMSE     MAPE     Iteration\n",
       "1 -30.24215 43.70804 1.137520  1       \n",
       "2 -21.84342 31.39918 0.910421  5       \n",
       "3  68.37348 85.02252 2.069579  9       \n",
       "4  54.47462 61.74354 1.631470 13       \n",
       "5 -68.60071 73.65524 2.036914 17       \n",
       "6  83.25648 88.23090 2.391475 20       "
      ]
     },
     "metadata": {},
     "output_type": "display_data"
    }
   ],
   "source": [
    "df_acc"
   ]
  },
  {
   "cell_type": "code",
   "execution_count": 45,
   "metadata": {},
   "outputs": [
    {
     "data": {
      "text/plain": [
       "Time Series:\n",
       "Start = 1 \n",
       "End = 8 \n",
       "Frequency = 1 \n",
       "[1] 3387.363 3444.186 3434.405 3488.269 3458.890 3504.159 3494.324 3546.542"
      ]
     },
     "metadata": {},
     "output_type": "display_data"
    }
   ],
   "source": [
    "l[[5]][,1]"
   ]
  },
  {
   "cell_type": "code",
   "execution_count": 46,
   "metadata": {},
   "outputs": [
    {
     "data": {
      "text/html": [
       "<dl class=dl-horizontal>\n",
       "\t<dt>ME</dt>\n",
       "\t\t<dd>14.2363808733528</dd>\n",
       "\t<dt>RMSE</dt>\n",
       "\t\t<dd>63.9599039305177</dd>\n",
       "\t<dt>MAPE</dt>\n",
       "\t\t<dd>1.69622977838152</dd>\n",
       "\t<dt>Iteration</dt>\n",
       "\t\t<dd>10.8333333333333</dd>\n",
       "</dl>\n"
      ],
      "text/latex": [
       "\\begin{description*}\n",
       "\\item[ME] 14.2363808733528\n",
       "\\item[RMSE] 63.9599039305177\n",
       "\\item[MAPE] 1.69622977838152\n",
       "\\item[Iteration] 10.8333333333333\n",
       "\\end{description*}\n"
      ],
      "text/markdown": [
       "ME\n",
       ":   14.2363808733528RMSE\n",
       ":   63.9599039305177MAPE\n",
       ":   1.69622977838152Iteration\n",
       ":   10.8333333333333\n",
       "\n"
      ],
      "text/plain": [
       "       ME      RMSE      MAPE Iteration \n",
       " 14.23638  63.95990   1.69623  10.83333 "
      ]
     },
     "metadata": {},
     "output_type": "display_data"
    }
   ],
   "source": [
    "colMeans(df_acc)"
   ]
  },
  {
   "cell_type": "code",
   "execution_count": 182,
   "metadata": {},
   "outputs": [],
   "source": [
    "# df_mean_acc <- readRDS(\"df_mean_acc.rds\")\n",
    "# rownames(df_mean_acc)[2:5]  <-  c('3 level', '2 level (state)', '2 level (type)' ,'2 level (clusetered)' )"
   ]
  },
  {
   "cell_type": "code",
   "execution_count": 183,
   "metadata": {},
   "outputs": [],
   "source": [
    "# df_mean_acc  <-  rbind(df_mean_acc, NA)  \n",
    "# rownames(df_mean_acc)[8]  <-  c('2 level (type) no')"
   ]
  },
  {
   "cell_type": "code",
   "execution_count": 47,
   "metadata": {},
   "outputs": [
    {
     "data": {
      "text/html": [
       "<table>\n",
       "<thead><tr><th></th><th scope=col>Квартальные</th><th scope=col>Сезонно сглаженные</th><th scope=col>Месячные</th></tr></thead>\n",
       "<tbody>\n",
       "\t<tr><th scope=row>1 level</th><td>64.30372</td><td>299.5702</td><td>15884.63</td></tr>\n",
       "\t<tr><th scope=row>3 level</th><td>66.31314</td><td>298.8763</td><td>15346.86</td></tr>\n",
       "\t<tr><th scope=row>2 level (state)</th><td>67.92739</td><td>298.8923</td><td>15342.24</td></tr>\n",
       "\t<tr><th scope=row>2 level (type)</th><td>63.95990</td><td>299.4158</td><td>15511.31</td></tr>\n",
       "\t<tr><th scope=row>2 level (clusetered)</th><td>64.25570</td><td>297.5359</td><td>15338.88</td></tr>\n",
       "</tbody>\n",
       "</table>\n"
      ],
      "text/latex": [
       "\\begin{tabular}{r|lll}\n",
       "  & Квартальные & Сезонно сглаженные & Месячные\\\\\n",
       "\\hline\n",
       "\t1 level & 64.30372 & 299.5702 & 15884.63\\\\\n",
       "\t3 level & 66.31314 & 298.8763 & 15346.86\\\\\n",
       "\t2 level (state) & 67.92739 & 298.8923 & 15342.24\\\\\n",
       "\t2 level (type) & 63.95990 & 299.4158 & 15511.31\\\\\n",
       "\t2 level (clusetered) & 64.25570 & 297.5359 & 15338.88\\\\\n",
       "\\end{tabular}\n"
      ],
      "text/markdown": [
       "\n",
       "| <!--/--> | Квартальные | Сезонно сглаженные | Месячные | \n",
       "|---|---|---|---|---|\n",
       "| 1 level | 64.30372 | 299.5702 | 15884.63 | \n",
       "| 3 level | 66.31314 | 298.8763 | 15346.86 | \n",
       "| 2 level (state) | 67.92739 | 298.8923 | 15342.24 | \n",
       "| 2 level (type) | 63.95990 | 299.4158 | 15511.31 | \n",
       "| 2 level (clusetered) | 64.25570 | 297.5359 | 15338.88 | \n",
       "\n",
       "\n"
      ],
      "text/plain": [
       "                     Квартальные Сезонно сглаженные Месячные\n",
       "1 level              64.30372    299.5702           15884.63\n",
       "3 level              66.31314    298.8763           15346.86\n",
       "2 level (state)      67.92739    298.8923           15342.24\n",
       "2 level (type)       63.95990    299.4158           15511.31\n",
       "2 level (clusetered) 64.25570    297.5359           15338.88"
      ]
     },
     "metadata": {},
     "output_type": "display_data"
    }
   ],
   "source": [
    "df_mean_acc[4,1]  <-  colMeans(df_acc)[[2]] \n",
    "df_mean_acc"
   ]
  },
  {
   "cell_type": "code",
   "execution_count": 48,
   "metadata": {
    "scrolled": false
   },
   "outputs": [],
   "source": [
    "# # Basic line plot with points\n",
    "\n",
    "# # plots_test_all <- readRDS(\"plots_test_not_all.rds\")\n",
    "\n",
    "# var_col_test  <-  'yellow'\n",
    "# # var_col_train  <-  'red'\n",
    "\n",
    "# for (i in 1:3) {\n",
    "    \n",
    "#     k = i + 0\n",
    "    \n",
    "#     if  (i==1) {\n",
    "        \n",
    "#         plots_test_all[[k]]  <-  plots_test_all[[k]] + \n",
    "# geom_line(aes(x=Iteration, y=ME), colour = var_col_test, data =  df_acc) \n",
    "    \n",
    "#         } else if (i==2) { \n",
    "#         plots_test_all[[k]]  <-  plots_test_all[[k]] + \n",
    "# geom_line(aes(x=Iteration, y=RMSE), colour = var_col_test, data =  df_acc) \n",
    "#         } else if (i==3)  {\n",
    "#         plots_test_all[[k]]  <-  plots_test_all[[k]] + \n",
    "# geom_line(aes(x=Iteration, y=MAPE), colour = var_col_test, data =  df_acc) \n",
    " \n",
    "#     }        \n",
    "#     }\n",
    "\n",
    "# grid.arrange(grobs = plots_test_all, ncol = 3)"
   ]
  },
  {
   "cell_type": "markdown",
   "metadata": {},
   "source": [
    "#### 2 clust, no weights"
   ]
  },
  {
   "cell_type": "code",
   "execution_count": 49,
   "metadata": {},
   "outputs": [],
   "source": [
    "df_eu  <-  read.csv(file=\"../clustering/hts_eu_a10_clust.csv\", header=TRUE, sep=\",\", row.names =1 )\n",
    "df_eu  <-  df_eu/1000\n",
    "var_freq  <- 4    \n",
    "var_start_year  <- 2000   \n",
    "gdp_agg <- df_eu_sums <-  rowSums(df_eu)\n",
    "gdp_agg  <- ts(gdp_agg, frequency = var_freq, start = var_start_year) "
   ]
  },
  {
   "cell_type": "code",
   "execution_count": 50,
   "metadata": {},
   "outputs": [],
   "source": [
    "var_h  <- 8\n",
    "var_window  <-  48 - 1\n",
    "var_topup  <-  1\n",
    "var_iter   <- (length(gdp_agg)+var_topup)/var_freq-(var_window+1)/var_freq-2"
   ]
  },
  {
   "cell_type": "code",
   "execution_count": 51,
   "metadata": {},
   "outputs": [],
   "source": [
    "# var_allornot  <- var_freq\n",
    "var_allornot  <- 1\n",
    "# var_shift  <-  var_topup\n",
    "var_shift  <-  0\n",
    "\n",
    "# var_arpdq   <-  c(3,0,0)\n",
    "# var_sarpdq   <-  c(2,0,0)\n",
    "# var_char  <-  c(2,1)"
   ]
  },
  {
   "cell_type": "code",
   "execution_count": 52,
   "metadata": {},
   "outputs": [
    {
     "name": "stderr",
     "output_type": "stream",
     "text": [
      "Since argument characters are not specified, the default labelling system is used.\n"
     ]
    }
   ],
   "source": [
    "df_eu  <-  as.data.table(df_eu)\n",
    "data  <-  df_eu\n",
    "y  <-  hts(data)\n",
    "s  <-  smatrix(y)\n",
    "# gts_train  <- window(y, start=20, end=67)\n",
    "# gts_test  <- window(y, start=68, end=75)\n",
    "# allts <- aggts(y)\n",
    "# allf <- matrix(, nrow=var_h, ncol=ncol(allts))"
   ]
  },
  {
   "cell_type": "code",
   "execution_count": 53,
   "metadata": {},
   "outputs": [
    {
     "name": "stdout",
     "output_type": "stream",
     "text": [
      "[1]  1 48 49 56\n"
     ]
    },
    {
     "name": "stderr",
     "output_type": "stream",
     "text": [
      "Since argument characters are not specified, the default labelling system is used.\n"
     ]
    },
    {
     "name": "stdout",
     "output_type": "stream",
     "text": [
      "Hierarchical Time Series \n",
      "2 Levels \n",
      "Number of nodes at each level: 1 25 \n",
      "Total number of series: 26 \n",
      "Number of observations per series: 8 \n",
      "Top level series: \n",
      "Time Series:\n",
      "Start = 49 \n",
      "End = 56 \n",
      "Frequency = 1 \n",
      "[1] 2956.064 3005.987 3006.135 3065.306 3021.350 3080.456 3086.969 3141.700\n",
      "Hierarchical Time Series \n",
      "2 Levels \n",
      "Number of nodes at each level: 1 25 \n",
      "Total number of series: 26 \n",
      "Number of observations per series: 8 \n",
      "Top level series: \n",
      "Time Series:\n",
      "Start = 49 \n",
      "End = 56 \n",
      "Frequency = 1 \n",
      "[1] 2958.070 3010.722 3033.490 3075.700 2977.965 3035.742 3044.227 3122.905\n",
      "          0%---------25%---------50%---------75%--------100%\n",
      "Progress: [1]  5 52 53 60\n"
     ]
    },
    {
     "name": "stderr",
     "output_type": "stream",
     "text": [
      "Since argument characters are not specified, the default labelling system is used.\n"
     ]
    },
    {
     "name": "stdout",
     "output_type": "stream",
     "text": [
      "Hierarchical Time Series \n",
      "2 Levels \n",
      "Number of nodes at each level: 1 25 \n",
      "Total number of series: 26 \n",
      "Number of observations per series: 8 \n",
      "Top level series: \n",
      "Time Series:\n",
      "Start = 49 \n",
      "End = 56 \n",
      "Frequency = 1 \n",
      "[1] 3014.971 3061.849 3073.150 3118.537 3066.139 3113.292 3124.515 3169.976\n",
      "Hierarchical Time Series \n",
      "2 Levels \n",
      "Number of nodes at each level: 1 25 \n",
      "Total number of series: 26 \n",
      "Number of observations per series: 8 \n",
      "Top level series: \n",
      "Time Series:\n",
      "Start = 53 \n",
      "End = 60 \n",
      "Frequency = 1 \n",
      "[1] 2977.965 3035.742 3044.227 3122.905 3072.484 3133.907 3160.757 3236.918\n",
      "[1]  9 56 57 64\n"
     ]
    },
    {
     "name": "stderr",
     "output_type": "stream",
     "text": [
      "Since argument characters are not specified, the default labelling system is used.\n"
     ]
    },
    {
     "name": "stdout",
     "output_type": "stream",
     "text": [
      "Hierarchical Time Series \n",
      "2 Levels \n",
      "Number of nodes at each level: 1 25 \n",
      "Total number of series: 26 \n",
      "Number of observations per series: 8 \n",
      "Top level series: \n",
      "Time Series:\n",
      "Start = 49 \n",
      "End = 56 \n",
      "Frequency = 1 \n",
      "[1] 3063.022 3121.562 3129.251 3184.717 3125.817 3176.402 3183.964 3232.381\n",
      "Hierarchical Time Series \n",
      "2 Levels \n",
      "Number of nodes at each level: 1 25 \n",
      "Total number of series: 26 \n",
      "Number of observations per series: 8 \n",
      "Top level series: \n",
      "Time Series:\n",
      "Start = 57 \n",
      "End = 64 \n",
      "Frequency = 1 \n",
      "[1] 3072.484 3133.907 3160.757 3236.918 3227.776 3311.839 3325.372 3405.251\n",
      "|[1] 13 60 61 68\n"
     ]
    },
    {
     "name": "stderr",
     "output_type": "stream",
     "text": [
      "Since argument characters are not specified, the default labelling system is used.\n"
     ]
    },
    {
     "name": "stdout",
     "output_type": "stream",
     "text": [
      "Hierarchical Time Series \n",
      "2 Levels \n",
      "Number of nodes at each level: 1 25 \n",
      "Total number of series: 26 \n",
      "Number of observations per series: 8 \n",
      "Top level series: \n",
      "Time Series:\n",
      "Start = 49 \n",
      "End = 56 \n",
      "Frequency = 1 \n",
      "[1] 3183.994 3229.027 3236.528 3292.969 3240.342 3280.165 3287.748 3340.017\n",
      "Hierarchical Time Series \n",
      "2 Levels \n",
      "Number of nodes at each level: 1 25 \n",
      "Total number of series: 26 \n",
      "Number of observations per series: 8 \n",
      "Top level series: \n",
      "Time Series:\n",
      "Start = 61 \n",
      "End = 68 \n",
      "Frequency = 1 \n",
      "[1] 3227.776 3311.839 3325.372 3405.251 3304.666 3362.395 3318.470 3395.389\n",
      "|[1] 17 64 65 72\n"
     ]
    },
    {
     "name": "stderr",
     "output_type": "stream",
     "text": [
      "Since argument characters are not specified, the default labelling system is used.\n"
     ]
    },
    {
     "name": "stdout",
     "output_type": "stream",
     "text": [
      "Hierarchical Time Series \n",
      "2 Levels \n",
      "Number of nodes at each level: 1 25 \n",
      "Total number of series: 26 \n",
      "Number of observations per series: 8 \n",
      "Top level series: \n",
      "Time Series:\n",
      "Start = 49 \n",
      "End = 56 \n",
      "Frequency = 1 \n",
      "[1] 3370.935 3421.165 3422.697 3482.600 3441.191 3481.550 3484.422 3539.516\n",
      "Hierarchical Time Series \n",
      "2 Levels \n",
      "Number of nodes at each level: 1 25 \n",
      "Total number of series: 26 \n",
      "Number of observations per series: 8 \n",
      "Top level series: \n",
      "Time Series:\n",
      "Start = 65 \n",
      "End = 72 \n",
      "Frequency = 1 \n",
      "[1] 3304.666 3362.395 3318.470 3395.389 3357.919 3432.684 3434.182 3530.894\n",
      "[1] 21 68 69 76\n"
     ]
    },
    {
     "name": "stderr",
     "output_type": "stream",
     "text": [
      "Since argument characters are not specified, the default labelling system is used.\n"
     ]
    },
    {
     "name": "stdout",
     "output_type": "stream",
     "text": [
      "Hierarchical Time Series \n",
      "2 Levels \n",
      "Number of nodes at each level: 1 25 \n",
      "Total number of series: 26 \n",
      "Number of observations per series: 8 \n",
      "Top level series: \n",
      "Time Series:\n",
      "Start = 49 \n",
      "End = 56 \n",
      "Frequency = 1 \n",
      "[1] 3365.600 3295.892 3354.462 3351.046 3411.219 3364.171 3421.964 3427.338\n",
      "Hierarchical Time Series \n",
      "2 Levels \n",
      "Number of nodes at each level: 1 25 \n",
      "Total number of series: 26 \n",
      "Number of observations per series: 8 \n",
      "Top level series: \n",
      "Time Series:\n",
      "Start = 68 \n",
      "End = 75 \n",
      "Frequency = 1 \n",
      "[1] 3395.389 3357.919 3432.684 3434.182 3530.894 3471.013 3542.181 3541.582\n"
     ]
    }
   ],
   "source": [
    "l <- ac <- m_top  <- l_test  <-  l_top  <-  list()\n",
    "\n",
    "df_ac  <-  data.frame(matrix(ncol = 0, nrow = 0))\n",
    "\n",
    "k  <- 0\n",
    "\n",
    "for (i in 0:(var_iter*var_allornot - var_shift)){\n",
    "    k  <-  k+1\n",
    "    st_year  <-  var_start_year + i/var_allornot\n",
    "    train_start  <- st_year \n",
    "    train_end  <- st_year + 1/var_freq*(var_window)\n",
    "    test_start  <- st_year + 1/var_freq*(var_window+1) \n",
    "    test_end  <-  st_year + 1/var_freq*(var_window+var_h)\n",
    "    \n",
    "    dates  <-  (c(train_start, train_end, test_start, test_end, train_start-var_topup/var_freq, train_end-var_topup/var_freq, test_start-var_topup/var_freq)-var_start_year)*var_freq+1\n",
    "    \n",
    "    train_start  <- dates[1] \n",
    "    train_end  <- dates[2]\n",
    "    test_start  <- dates[3]\n",
    "    test_end  <- dates[4]\n",
    "    \n",
    "    print(c(train_start, train_end, test_start, test_end))\n",
    "    \n",
    "    \n",
    "    if (i == 0){\n",
    "        gts_train <- window(y, end=train_end)    \n",
    "    }\n",
    "    else{\n",
    "        if ((var_shift == 0) & (i == var_iter*var_allornot - var_shift)){\n",
    "            gts_train <- window(y, start=dates[5], end=dates[6])\n",
    "        }else{\n",
    "            gts_train <- window(y, start=train_start, end=train_end)\n",
    "    }}\n",
    "    \n",
    "    if ((var_shift == 0) & (i == var_iter*var_allornot - var_shift)){\n",
    "        gts_test <- window(y, start=dates[7])\n",
    "      \n",
    "    }else{  \n",
    "     gts_test <- window(y, start=test_start, end=test_end)\n",
    "          \n",
    "    }\n",
    "    \n",
    "    \n",
    "    allts <- aggts(gts_train)\n",
    "    \n",
    "    ms <-  foreach(j=1:ncol(allts)) %dopar% {\n",
    "        model  <- tryCatch(        \n",
    "        Arima(msts(allts[,j], seasonal.periods = var_freq), order=var_arpdq, seasonal=var_sarpdq,  include.drift = var_drift, include.mean = var_constant, method=\"ML\"), \n",
    "            error = function(e) \n",
    "#                               {tryCatch( \n",
    "                Arima(msts(allts[,j], seasonal.periods = var_freq), order=var_arpdq, seasonal=var_sarpdq, include.drift = var_drift, include.mean = var_constant, method=\"CSS\") #,\n",
    "#                          error = function(e)              \n",
    "#                             auto.arima(msts(allts[,j], seasonal.periods = var_freq))\n",
    "#                          )}\n",
    "                        \n",
    "            )\n",
    "        \n",
    "    }\n",
    "    \n",
    "     \n",
    "        \n",
    "    allf <- matrix(, nrow=var_h, ncol=ncol(allts))\n",
    "        \n",
    "    \n",
    "    for(j in 1:ncol(allts)){  \n",
    "    allf[,j] <- forecast(ms[[j]], h=var_h)$mean\n",
    "    \n",
    "    \n",
    "    }\n",
    "\n",
    "    \n",
    "    allf <- ts(allf)\n",
    "    colnames(allf)  <-  colnames(allts)  \n",
    "    g <- get_nodes(gts_train)\n",
    "    y.f <- combinef(allf, nodes = g, weights = c(0,rep(1, dim(df_eu)[2])))\n",
    "    forecasts_7  <- y.f[[1]]\n",
    "    colnames(forecasts_7)  <- colnames(y[[1]])\n",
    "    data_f5  <- rbind(gts_train[[1]], forecasts_7)\n",
    "    y_f5  <- hts(data_f5)\n",
    "        \n",
    "#     if (i == 4){\n",
    "#         gts_forecasts_7 <- window(y_f5, start=test_start)}\n",
    "#     else{\n",
    "#     gts_forecasts_7 <- window(y_f5, start=test_start, end=test_end)\n",
    "# #     }\n",
    "\n",
    "#     if ((var_shift == 0) & (i == var_iter*var_allornot - var_shift)){\n",
    "#         gts_forecasts_7 <- window(y_f5, start=dates[7])\n",
    "      \n",
    "#     }else{  \n",
    "     gts_forecasts_7 <- window(y_f5, start=dim(y_f5[[1]])[1]-var_h+1)\n",
    "          \n",
    "#     }\n",
    "         \n",
    "    print(gts_forecasts_7)\n",
    "    print(gts_test)\n",
    "            \n",
    "    \n",
    "    l[[k]]  <- allf\n",
    "\n",
    "    ac[[k]]  <-  accuracy.gts(gts_forecasts_7, gts_test)[, 1] \n",
    "\n",
    "    progress(i, progress.bar = TRUE)\n",
    "            \n",
    "    }"
   ]
  },
  {
   "cell_type": "code",
   "execution_count": 54,
   "metadata": {},
   "outputs": [],
   "source": [
    "var_acc_metrics  <-  c(1,2,4)\n",
    "df_acc_test  <- ac[[1]][var_acc_metrics]\n",
    "for (i in ac[2:length(ac)]){\n",
    "    x  <-  i[var_acc_metrics]\n",
    "    df_acc_test   <-  cbind(df_acc_test, x)\n",
    "}\n",
    "df_acc_test  <- t(df_acc_test)\n",
    "df_acc_test  <-  as.data.frame(df_acc_test)\n",
    "row.names(df_acc_test)  <-  seq(1,length(ac))\n",
    "df_acc  <- df_acc_test\n",
    "df_acc  <-  cbind(df_acc, seq(1, length(ac)))\n",
    "colnames(df_acc)[length(var_acc_metrics)+1]  <-  'Iteration'"
   ]
  },
  {
   "cell_type": "code",
   "execution_count": 55,
   "metadata": {},
   "outputs": [],
   "source": [
    "df_acc$Iteration  <-  df_acc$Iteration*var_freq-(var_freq-1)\n",
    "df_acc$Iteration[length(df_acc$Iteration)]  <-   df_acc$Iteration[length(df_acc$Iteration)] - var_topup"
   ]
  },
  {
   "cell_type": "code",
   "execution_count": 56,
   "metadata": {},
   "outputs": [
    {
     "data": {
      "text/html": [
       "<table>\n",
       "<thead><tr><th scope=col>ME</th><th scope=col>RMSE</th><th scope=col>MAPE</th><th scope=col>Iteration</th></tr></thead>\n",
       "<tbody>\n",
       "\t<tr><td>-13.14304</td><td> 29.46285</td><td>0.800060 </td><td> 1       </td></tr>\n",
       "\t<tr><td>  5.30957</td><td> 33.85007</td><td>0.908950 </td><td> 5       </td></tr>\n",
       "\t<tr><td> 82.14838</td><td>101.59874</td><td>2.486070 </td><td> 9       </td></tr>\n",
       "\t<tr><td> 70.04570</td><td> 74.31701</td><td>2.096809 </td><td>13       </td></tr>\n",
       "\t<tr><td>-63.43468</td><td> 69.13318</td><td>1.884133 </td><td>17       </td></tr>\n",
       "\t<tr><td> 89.26925</td><td> 94.21156</td><td>2.563914 </td><td>20       </td></tr>\n",
       "</tbody>\n",
       "</table>\n"
      ],
      "text/latex": [
       "\\begin{tabular}{r|llll}\n",
       " ME & RMSE & MAPE & Iteration\\\\\n",
       "\\hline\n",
       "\t -13.14304 &  29.46285 & 0.800060  &  1       \\\\\n",
       "\t   5.30957 &  33.85007 & 0.908950  &  5       \\\\\n",
       "\t  82.14838 & 101.59874 & 2.486070  &  9       \\\\\n",
       "\t  70.04570 &  74.31701 & 2.096809  & 13       \\\\\n",
       "\t -63.43468 &  69.13318 & 1.884133  & 17       \\\\\n",
       "\t  89.26925 &  94.21156 & 2.563914  & 20       \\\\\n",
       "\\end{tabular}\n"
      ],
      "text/markdown": [
       "\n",
       "ME | RMSE | MAPE | Iteration | \n",
       "|---|---|---|---|---|---|\n",
       "| -13.14304 |  29.46285 | 0.800060  |  1        | \n",
       "|   5.30957 |  33.85007 | 0.908950  |  5        | \n",
       "|  82.14838 | 101.59874 | 2.486070  |  9        | \n",
       "|  70.04570 |  74.31701 | 2.096809  | 13        | \n",
       "| -63.43468 |  69.13318 | 1.884133  | 17        | \n",
       "|  89.26925 |  94.21156 | 2.563914  | 20        | \n",
       "\n",
       "\n"
      ],
      "text/plain": [
       "  ME        RMSE      MAPE     Iteration\n",
       "1 -13.14304  29.46285 0.800060  1       \n",
       "2   5.30957  33.85007 0.908950  5       \n",
       "3  82.14838 101.59874 2.486070  9       \n",
       "4  70.04570  74.31701 2.096809 13       \n",
       "5 -63.43468  69.13318 1.884133 17       \n",
       "6  89.26925  94.21156 2.563914 20       "
      ]
     },
     "metadata": {},
     "output_type": "display_data"
    }
   ],
   "source": [
    "df_acc"
   ]
  },
  {
   "cell_type": "code",
   "execution_count": 57,
   "metadata": {},
   "outputs": [
    {
     "data": {
      "text/plain": [
       "Time Series:\n",
       "Start = 1 \n",
       "End = 8 \n",
       "Frequency = 1 \n",
       "[1] 3387.363 3444.186 3434.405 3488.269 3458.890 3504.159 3494.324 3546.542"
      ]
     },
     "metadata": {},
     "output_type": "display_data"
    }
   ],
   "source": [
    "l[[5]][,1]"
   ]
  },
  {
   "cell_type": "code",
   "execution_count": 58,
   "metadata": {},
   "outputs": [
    {
     "data": {
      "text/html": [
       "<dl class=dl-horizontal>\n",
       "\t<dt>ME</dt>\n",
       "\t\t<dd>28.3658630276524</dd>\n",
       "\t<dt>RMSE</dt>\n",
       "\t\t<dd>67.0955687310331</dd>\n",
       "\t<dt>MAPE</dt>\n",
       "\t\t<dd>1.78998929698025</dd>\n",
       "\t<dt>Iteration</dt>\n",
       "\t\t<dd>10.8333333333333</dd>\n",
       "</dl>\n"
      ],
      "text/latex": [
       "\\begin{description*}\n",
       "\\item[ME] 28.3658630276524\n",
       "\\item[RMSE] 67.0955687310331\n",
       "\\item[MAPE] 1.78998929698025\n",
       "\\item[Iteration] 10.8333333333333\n",
       "\\end{description*}\n"
      ],
      "text/markdown": [
       "ME\n",
       ":   28.3658630276524RMSE\n",
       ":   67.0955687310331MAPE\n",
       ":   1.78998929698025Iteration\n",
       ":   10.8333333333333\n",
       "\n"
      ],
      "text/plain": [
       "       ME      RMSE      MAPE Iteration \n",
       "28.365863 67.095569  1.789989 10.833333 "
      ]
     },
     "metadata": {},
     "output_type": "display_data"
    }
   ],
   "source": [
    "colMeans(df_acc)"
   ]
  },
  {
   "cell_type": "code",
   "execution_count": 90,
   "metadata": {},
   "outputs": [],
   "source": [
    "# df_mean_acc <- readRDS(\"df_mean_acc.rds\")\n",
    "# rownames(df_mean_acc)[2:5]  <-  c('3 level', '2 level (state)', '2 level (type)' ,'2 level (clusetered)' )"
   ]
  },
  {
   "cell_type": "code",
   "execution_count": 91,
   "metadata": {},
   "outputs": [],
   "source": [
    "# df_mean_acc  <-  rbind(df_mean_acc, NA)  \n",
    "# rownames(df_mean_acc)[9]  <-  c('2 level (clust) no')"
   ]
  },
  {
   "cell_type": "code",
   "execution_count": 59,
   "metadata": {},
   "outputs": [
    {
     "data": {
      "text/html": [
       "<table>\n",
       "<thead><tr><th></th><th scope=col>Квартальные</th><th scope=col>Сезонно сглаженные</th><th scope=col>Месячные</th></tr></thead>\n",
       "<tbody>\n",
       "\t<tr><th scope=row>1 level</th><td>64.30372</td><td>299.5702</td><td>15884.63</td></tr>\n",
       "\t<tr><th scope=row>3 level</th><td>66.31314</td><td>298.8763</td><td>15346.86</td></tr>\n",
       "\t<tr><th scope=row>2 level (state)</th><td>67.92739</td><td>298.8923</td><td>15342.24</td></tr>\n",
       "\t<tr><th scope=row>2 level (type)</th><td>63.95990</td><td>299.4158</td><td>15511.31</td></tr>\n",
       "\t<tr><th scope=row>2 level (clusetered)</th><td>67.09557</td><td>297.5359</td><td>15338.88</td></tr>\n",
       "</tbody>\n",
       "</table>\n"
      ],
      "text/latex": [
       "\\begin{tabular}{r|lll}\n",
       "  & Квартальные & Сезонно сглаженные & Месячные\\\\\n",
       "\\hline\n",
       "\t1 level & 64.30372 & 299.5702 & 15884.63\\\\\n",
       "\t3 level & 66.31314 & 298.8763 & 15346.86\\\\\n",
       "\t2 level (state) & 67.92739 & 298.8923 & 15342.24\\\\\n",
       "\t2 level (type) & 63.95990 & 299.4158 & 15511.31\\\\\n",
       "\t2 level (clusetered) & 67.09557 & 297.5359 & 15338.88\\\\\n",
       "\\end{tabular}\n"
      ],
      "text/markdown": [
       "\n",
       "| <!--/--> | Квартальные | Сезонно сглаженные | Месячные | \n",
       "|---|---|---|---|---|\n",
       "| 1 level | 64.30372 | 299.5702 | 15884.63 | \n",
       "| 3 level | 66.31314 | 298.8763 | 15346.86 | \n",
       "| 2 level (state) | 67.92739 | 298.8923 | 15342.24 | \n",
       "| 2 level (type) | 63.95990 | 299.4158 | 15511.31 | \n",
       "| 2 level (clusetered) | 67.09557 | 297.5359 | 15338.88 | \n",
       "\n",
       "\n"
      ],
      "text/plain": [
       "                     Квартальные Сезонно сглаженные Месячные\n",
       "1 level              64.30372    299.5702           15884.63\n",
       "3 level              66.31314    298.8763           15346.86\n",
       "2 level (state)      67.92739    298.8923           15342.24\n",
       "2 level (type)       63.95990    299.4158           15511.31\n",
       "2 level (clusetered) 67.09557    297.5359           15338.88"
      ]
     },
     "metadata": {},
     "output_type": "display_data"
    }
   ],
   "source": [
    "df_mean_acc[5,1]  <-  colMeans(df_acc)[[2]] \n",
    "df_mean_acc"
   ]
  },
  {
   "cell_type": "code",
   "execution_count": 60,
   "metadata": {
    "scrolled": false
   },
   "outputs": [],
   "source": [
    "# # Basic line plot with points\n",
    "\n",
    "# # plots_test_all <- readRDS(\"plots_test_not_all.rds\")\n",
    "\n",
    "# var_col_test  <-  'yellow'\n",
    "# # var_col_train  <-  'red'\n",
    "\n",
    "# for (i in 1:3) {\n",
    "    \n",
    "#     k = i + 0\n",
    "    \n",
    "#     if  (i==1) {\n",
    "        \n",
    "#         plots_test_all[[k]]  <-  plots_test_all[[k]] + \n",
    "# geom_line(aes(x=Iteration, y=ME), colour = var_col_test, data =  df_acc) \n",
    "    \n",
    "#         } else if (i==2) { \n",
    "#         plots_test_all[[k]]  <-  plots_test_all[[k]] + \n",
    "# geom_line(aes(x=Iteration, y=RMSE), colour = var_col_test, data =  df_acc) \n",
    "#         } else if (i==3)  {\n",
    "#         plots_test_all[[k]]  <-  plots_test_all[[k]] + \n",
    "# geom_line(aes(x=Iteration, y=MAPE), colour = var_col_test, data =  df_acc) \n",
    " \n",
    "#     }        \n",
    "#     }\n",
    "\n",
    "# grid.arrange(grobs = plots_test_all, ncol = 3)"
   ]
  },
  {
   "cell_type": "code",
   "execution_count": 61,
   "metadata": {},
   "outputs": [],
   "source": [
    "saveRDS(df_mean_acc, \"df_mean_acc_no_weights.rds\")"
   ]
  },
  {
   "cell_type": "code",
   "execution_count": 62,
   "metadata": {},
   "outputs": [
    {
     "data": {
      "text/html": [
       "<table>\n",
       "<thead><tr><th></th><th scope=col>Квартальные</th><th scope=col>Сезонно сглаженные</th><th scope=col>Месячные</th></tr></thead>\n",
       "<tbody>\n",
       "\t<tr><th scope=row>1 level</th><td>64.30372</td><td>299.5702</td><td>15884.63</td></tr>\n",
       "\t<tr><th scope=row>3 level</th><td>66.31314</td><td>298.8763</td><td>15346.86</td></tr>\n",
       "\t<tr><th scope=row>2 level (state)</th><td>67.92739</td><td>298.8923</td><td>15342.24</td></tr>\n",
       "\t<tr><th scope=row>2 level (type)</th><td>63.95990</td><td>299.4158</td><td>15511.31</td></tr>\n",
       "\t<tr><th scope=row>2 level (clusetered)</th><td>67.09557</td><td>297.5359</td><td>15338.88</td></tr>\n",
       "</tbody>\n",
       "</table>\n"
      ],
      "text/latex": [
       "\\begin{tabular}{r|lll}\n",
       "  & Квартальные & Сезонно сглаженные & Месячные\\\\\n",
       "\\hline\n",
       "\t1 level & 64.30372 & 299.5702 & 15884.63\\\\\n",
       "\t3 level & 66.31314 & 298.8763 & 15346.86\\\\\n",
       "\t2 level (state) & 67.92739 & 298.8923 & 15342.24\\\\\n",
       "\t2 level (type) & 63.95990 & 299.4158 & 15511.31\\\\\n",
       "\t2 level (clusetered) & 67.09557 & 297.5359 & 15338.88\\\\\n",
       "\\end{tabular}\n"
      ],
      "text/markdown": [
       "\n",
       "| <!--/--> | Квартальные | Сезонно сглаженные | Месячные | \n",
       "|---|---|---|---|---|\n",
       "| 1 level | 64.30372 | 299.5702 | 15884.63 | \n",
       "| 3 level | 66.31314 | 298.8763 | 15346.86 | \n",
       "| 2 level (state) | 67.92739 | 298.8923 | 15342.24 | \n",
       "| 2 level (type) | 63.95990 | 299.4158 | 15511.31 | \n",
       "| 2 level (clusetered) | 67.09557 | 297.5359 | 15338.88 | \n",
       "\n",
       "\n"
      ],
      "text/plain": [
       "                     Квартальные Сезонно сглаженные Месячные\n",
       "1 level              64.30372    299.5702           15884.63\n",
       "3 level              66.31314    298.8763           15346.86\n",
       "2 level (state)      67.92739    298.8923           15342.24\n",
       "2 level (type)       63.95990    299.4158           15511.31\n",
       "2 level (clusetered) 67.09557    297.5359           15338.88"
      ]
     },
     "metadata": {},
     "output_type": "display_data"
    }
   ],
   "source": [
    "df_mean_acc"
   ]
  },
  {
   "cell_type": "code",
   "execution_count": 70,
   "metadata": {},
   "outputs": [],
   "source": [
    "\n",
    "\n",
    "# saveRDS(plots_test_all, \"plots_test_not_all.rds\")"
   ]
  },
  {
   "cell_type": "code",
   "execution_count": null,
   "metadata": {},
   "outputs": [],
   "source": []
  }
 ],
 "metadata": {
  "kernelspec": {
   "display_name": "R 3.5.1",
   "language": "R",
   "name": "ir"
  },
  "language_info": {
   "codemirror_mode": "r",
   "file_extension": ".r",
   "mimetype": "text/x-r-source",
   "name": "R",
   "pygments_lexer": "r",
   "version": "3.5.2"
  }
 },
 "nbformat": 4,
 "nbformat_minor": 2
}
