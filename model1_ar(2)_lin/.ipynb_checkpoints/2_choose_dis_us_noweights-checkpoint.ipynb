{
 "cells": [
  {
   "cell_type": "markdown",
   "metadata": {},
   "source": [
    "#### 1"
   ]
  },
  {
   "cell_type": "code",
   "execution_count": 1,
   "metadata": {
    "scrolled": true
   },
   "outputs": [
    {
     "name": "stderr",
     "output_type": "stream",
     "text": [
      "\n",
      "Attaching package: ‘dplyr’\n",
      "\n",
      "The following objects are masked from ‘package:stats’:\n",
      "\n",
      "    filter, lag\n",
      "\n",
      "The following objects are masked from ‘package:base’:\n",
      "\n",
      "    intersect, setdiff, setequal, union\n",
      "\n",
      "\n",
      "Attaching package: ‘gridExtra’\n",
      "\n",
      "The following object is masked from ‘package:dplyr’:\n",
      "\n",
      "    combine\n",
      "\n"
     ]
    }
   ],
   "source": [
    "library(forecast)\n",
    "library(ggplot2)\n",
    "library(dplyr)\n",
    "library(gridExtra)"
   ]
  },
  {
   "cell_type": "code",
   "execution_count": 2,
   "metadata": {},
   "outputs": [
    {
     "name": "stderr",
     "output_type": "stream",
     "text": [
      "Loading required package: foreach\n",
      "Loading required package: iterators\n",
      "Loading required package: parallel\n",
      "Loading required package: svMisc\n",
      "\n",
      "Attaching package: ‘svMisc’\n",
      "\n",
      "The following object is masked from ‘package:utils’:\n",
      "\n",
      "    ?\n",
      "\n"
     ]
    }
   ],
   "source": [
    "# library(doParallel)\n",
    "library(doMC)\n",
    "options(cores = 10)\n",
    "registerDoMC()\n",
    "require(svMisc)"
   ]
  },
  {
   "cell_type": "code",
   "execution_count": 3,
   "metadata": {},
   "outputs": [
    {
     "name": "stderr",
     "output_type": "stream",
     "text": [
      "\n",
      "Attaching package: ‘data.table’\n",
      "\n",
      "The following objects are masked from ‘package:dplyr’:\n",
      "\n",
      "    between, first, last\n",
      "\n"
     ]
    }
   ],
   "source": [
    "library(data.table)\n",
    "library(hts)  "
   ]
  },
  {
   "cell_type": "code",
   "execution_count": 4,
   "metadata": {},
   "outputs": [],
   "source": [
    "df_eu  <-  read.csv(file=\"../data_hts/hts_us_ind_filled.csv\", header=TRUE, sep=\",\", row.names =1 )\n",
    "df_eu  <-  df_eu/1000\n",
    "var_freq  <- 4    \n",
    "var_start_year  <- 2005   \n",
    "gdp_agg <- df_eu_sums <-  rowSums(df_eu)\n",
    "gdp_agg  <- ts(gdp_agg, frequency = var_freq, start = var_start_year) "
   ]
  },
  {
   "cell_type": "code",
   "execution_count": 5,
   "metadata": {},
   "outputs": [],
   "source": [
    "var_h  <- 8\n",
    "var_window  <-  28 - 1\n",
    "var_topup  <-  2\n",
    "var_iter   <- (length(gdp_agg)+var_topup)/var_freq-(var_window+1)/var_freq-2"
   ]
  },
  {
   "cell_type": "code",
   "execution_count": 6,
   "metadata": {},
   "outputs": [],
   "source": [
    "# var_allornot  <- var_freq\n",
    "var_allornot  <- 1\n",
    "# var_shift  <-  var_topup\n",
    "var_shift  <-  0\n",
    "\n",
    "\n",
    "var_arpdq   <-  c(2,0,0)\n",
    "var_sarpdq   <-  c(0,0,0)\n",
    "var_drift   <-  TRUE\n",
    "var_constant   <-  TRUE\n",
    "\n",
    "var_char  <-  c(2,3)"
   ]
  },
  {
   "cell_type": "code",
   "execution_count": 7,
   "metadata": {},
   "outputs": [],
   "source": [
    "df_eu  <-  as.data.table(df_eu)\n",
    "data  <-  df_eu\n",
    "y  <-  hts(data, characters = var_char)\n",
    "s  <-  smatrix(y)\n",
    "# gts_train  <- window(y, start=19, end=46)\n",
    "# gts_test  <- window(y, start=47, end=54)\n",
    "# allts <- aggts(gts_train)\n",
    "# allf <- matrix(, nrow=var_h, ncol=ncol(allts))"
   ]
  },
  {
   "cell_type": "code",
   "execution_count": 11,
   "metadata": {},
   "outputs": [
    {
     "data": {
      "text/html": [
       "51"
      ],
      "text/latex": [
       "51"
      ],
      "text/markdown": [
       "51"
      ],
      "text/plain": [
       "[1] 51"
      ]
     },
     "metadata": {},
     "output_type": "display_data"
    }
   ],
   "source": [
    "var_countries  <-  dim(read.csv(file=\"../clustering/hts_us_ind_filled_state.csv\", header=TRUE, sep=\",\", row.names =1 ))[2]+1\n",
    "var_countries"
   ]
  },
  {
   "cell_type": "code",
   "execution_count": 12,
   "metadata": {},
   "outputs": [
    {
     "name": "stdout",
     "output_type": "stream",
     "text": [
      "[1]  1 28 29 36\n",
      "Hierarchical Time Series \n",
      "3 Levels \n",
      "Number of nodes at each level: 1 50 1046 \n",
      "Total number of series: 1097 \n",
      "Number of observations per series: 8 \n",
      "Top level series: \n",
      "Time Series:\n",
      "Start = 29 \n",
      "End = 36 \n",
      "Frequency = 1 \n",
      "[1] 15868.66 15877.34 15876.26 15875.01 15879.51 15892.21 15913.43 15941.13\n",
      "Hierarchical Time Series \n",
      "3 Levels \n",
      "Number of nodes at each level: 1 50 1046 \n",
      "Total number of series: 1097 \n",
      "Number of observations per series: 8 \n",
      "Top level series: \n",
      "Time Series:\n",
      "Start = 29 \n",
      "End = 36 \n",
      "Frequency = 1 \n",
      "[1] 15927.61 15976.18 15983.30 15994.87 16128.30 16136.38 16254.91 16372.60\n",
      "          0%---------25%---------50%---------75%--------100%\n",
      "Progress: [1]  5 32 33 40\n",
      "Hierarchical Time Series \n",
      "3 Levels \n",
      "Number of nodes at each level: 1 50 1046 \n",
      "Total number of series: 1097 \n",
      "Number of observations per series: 8 \n",
      "Top level series: \n",
      "Time Series:\n",
      "Start = 29 \n",
      "End = 36 \n",
      "Frequency = 1 \n",
      "[1] 16001.46 15995.33 15989.46 15990.73 16000.84 16018.19 16040.27 16065.24\n",
      "Hierarchical Time Series \n",
      "3 Levels \n",
      "Number of nodes at each level: 1 50 1046 \n",
      "Total number of series: 1097 \n",
      "Number of observations per series: 8 \n",
      "Top level series: \n",
      "Time Series:\n",
      "Start = 33 \n",
      "End = 40 \n",
      "Frequency = 1 \n",
      "[1] 16128.30 16136.38 16254.91 16372.60 16316.98 16522.48 16733.98 16809.04\n",
      "[1]  9 36 37 44\n",
      "Hierarchical Time Series \n",
      "3 Levels \n",
      "Number of nodes at each level: 1 50 1046 \n",
      "Total number of series: 1097 \n",
      "Number of observations per series: 8 \n",
      "Top level series: \n",
      "Time Series:\n",
      "Start = 29 \n",
      "End = 36 \n",
      "Frequency = 1 \n",
      "[1] 16386.79 16384.72 16384.26 16390.87 16404.90 16426.24 16453.72 16486.18\n",
      "Hierarchical Time Series \n",
      "3 Levels \n",
      "Number of nodes at each level: 1 50 1046 \n",
      "Total number of series: 1097 \n",
      "Number of observations per series: 8 \n",
      "Top level series: \n",
      "Time Series:\n",
      "Start = 37 \n",
      "End = 44 \n",
      "Frequency = 1 \n",
      "[1] 16316.98 16522.48 16733.98 16809.04 16949.40 17070.24 17129.69 17147.05\n",
      "|[1] 13 40 41 48\n",
      "Hierarchical Time Series \n",
      "3 Levels \n",
      "Number of nodes at each level: 1 50 1046 \n",
      "Total number of series: 1097 \n",
      "Number of observations per series: 8 \n",
      "Top level series: \n",
      "Time Series:\n",
      "Start = 29 \n",
      "End = 36 \n",
      "Frequency = 1 \n",
      "[1] 16799.42 16794.18 16804.23 16827.21 16858.46 16894.17 16931.53 16969.41\n",
      "Hierarchical Time Series \n",
      "3 Levels \n",
      "Number of nodes at each level: 1 50 1046 \n",
      "Total number of series: 1097 \n",
      "Number of observations per series: 8 \n",
      "Top level series: \n",
      "Time Series:\n",
      "Start = 41 \n",
      "End = 48 \n",
      "Frequency = 1 \n",
      "[1] 16949.40 17070.24 17129.69 17147.05 17237.31 17306.78 17369.38 17427.95\n",
      "|[1] 17 44 45 52\n",
      "Hierarchical Time Series \n",
      "3 Levels \n",
      "Number of nodes at each level: 1 50 1046 \n",
      "Total number of series: 1097 \n",
      "Number of observations per series: 8 \n",
      "Top level series: \n",
      "Time Series:\n",
      "Start = 29 \n",
      "End = 36 \n",
      "Frequency = 1 \n",
      "[1] 17200.91 17276.17 17346.84 17415.69 17482.84 17550.95 17619.49 17689.14\n",
      "Hierarchical Time Series \n",
      "3 Levels \n",
      "Number of nodes at each level: 1 50 1046 \n",
      "Total number of series: 1097 \n",
      "Number of observations per series: 8 \n",
      "Top level series: \n",
      "Time Series:\n",
      "Start = 45 \n",
      "End = 52 \n",
      "Frequency = 1 \n",
      "[1] 17237.31 17306.78 17369.38 17427.95 17501.51 17637.46 17757.34 17851.87\n",
      "[1] 21 48 49 56\n",
      "Hierarchical Time Series \n",
      "3 Levels \n",
      "Number of nodes at each level: 1 50 1046 \n",
      "Total number of series: 1097 \n",
      "Number of observations per series: 8 \n",
      "Top level series: \n",
      "Time Series:\n",
      "Start = 29 \n",
      "End = 36 \n",
      "Frequency = 1 \n",
      "[1] 17381.34 17467.92 17546.23 17629.00 17709.10 17789.49 17868.85 17949.16\n",
      "Hierarchical Time Series \n",
      "3 Levels \n",
      "Number of nodes at each level: 1 50 1046 \n",
      "Total number of series: 1097 \n",
      "Number of observations per series: 8 \n",
      "Top level series: \n",
      "Time Series:\n",
      "Start = 47 \n",
      "End = 54 \n",
      "Frequency = 1 \n",
      "[1] 17369.38 17427.95 17501.51 17637.46 17757.34 17851.87 17934.57 18122.00\n"
     ]
    }
   ],
   "source": [
    "l <- ac <- m_top  <- l_test  <-  l_top  <-  list()\n",
    "\n",
    "df_ac  <-  data.frame(matrix(ncol = 0, nrow = 0))\n",
    "\n",
    "k  <- 0\n",
    "\n",
    "for (i in 0:(var_iter*var_allornot - var_shift)){\n",
    "    k  <-  k+1\n",
    "    st_year  <-  var_start_year + i/var_allornot\n",
    "    train_start  <- st_year \n",
    "    train_end  <- st_year + 1/var_freq*(var_window)\n",
    "    test_start  <- st_year + 1/var_freq*(var_window+1) \n",
    "    test_end  <-  st_year + 1/var_freq*(var_window+var_h)\n",
    "    \n",
    "    dates  <-  (c(train_start, train_end, test_start, test_end, train_start-var_topup/var_freq, train_end-var_topup/var_freq, test_start-var_topup/var_freq)-var_start_year)*var_freq+1\n",
    "    \n",
    "    train_start  <- dates[1] \n",
    "    train_end  <- dates[2]\n",
    "    test_start  <- dates[3]\n",
    "    test_end  <- dates[4]\n",
    "    \n",
    "    print(c(train_start, train_end, test_start, test_end))\n",
    "    \n",
    "    \n",
    "    if (i == 0){\n",
    "        gts_train <- window(y, end=train_end)    \n",
    "    }\n",
    "    else{\n",
    "        if ((var_shift == 0) & (i == var_iter*var_allornot - var_shift)){\n",
    "            gts_train <- window(y, start=dates[5], end=dates[6])\n",
    "        }else{\n",
    "            gts_train <- window(y, start=train_start, end=train_end)\n",
    "    }}\n",
    "    \n",
    "    if ((var_shift == 0) & (i == var_iter*var_allornot - var_shift)){\n",
    "        gts_test <- window(y, start=dates[7])\n",
    "      \n",
    "    }else{  \n",
    "     gts_test <- window(y, start=test_start, end=test_end)\n",
    "          \n",
    "    }\n",
    "    \n",
    "    \n",
    "    allts <- aggts(gts_train)\n",
    "    \n",
    "    ms <-  foreach(j=1:ncol(allts)) %dopar% {\n",
    "        model  <- tryCatch(        \n",
    "        Arima(msts(allts[,j], seasonal.periods = var_freq), order=var_arpdq, seasonal=var_sarpdq,  include.drift = var_drift, include.mean = var_constant, method=\"ML\"), \n",
    "            error = function(e) \n",
    "#                               {tryCatch( \n",
    "                Arima(msts(allts[,j], seasonal.periods = var_freq), order=var_arpdq, seasonal=var_sarpdq, include.drift = var_drift, include.mean = var_constant, method=\"CSS\") #,\n",
    "#                          error = function(e)              \n",
    "#                             auto.arima(msts(allts[,j], seasonal.periods = var_freq))\n",
    "#                          )}\n",
    "                        \n",
    "            )\n",
    "        \n",
    "    }\n",
    "    \n",
    "     \n",
    "        \n",
    "    allf <- matrix(, nrow=var_h, ncol=ncol(allts))\n",
    "        \n",
    "    \n",
    "    for(j in 1:ncol(allts)){  \n",
    "    allf[,j] <- forecast(ms[[j]], h=var_h)$mean\n",
    "    \n",
    "    \n",
    "    }\n",
    "\n",
    "    \n",
    "    allf <- ts(allf)\n",
    "    colnames(allf)  <-  colnames(allts)  \n",
    "    g <- get_nodes(gts_train)\n",
    "    y.f <- combinef(allf, nodes = g, weights = c(rep(0, var_countries), rep(1, (ncol(allts)-var_countries) )))\n",
    "    forecasts_7  <- y.f[[1]]\n",
    "    colnames(forecasts_7)  <- colnames(y[[1]])\n",
    "    data_f5  <- rbind(gts_train[[1]], forecasts_7)\n",
    "    y_f5  <- hts(data_f5, characters = var_char)\n",
    "        \n",
    "#     if (i == 4){\n",
    "#         gts_forecasts_7 <- window(y_f5, start=test_start)}\n",
    "#     else{\n",
    "#     gts_forecasts_7 <- window(y_f5, start=test_start, end=test_end)\n",
    "# #     }\n",
    "\n",
    "#     if ((var_shift == 0) & (i == var_iter*var_allornot - var_shift)){\n",
    "#         gts_forecasts_7 <- window(y_f5, start=dates[7])\n",
    "      \n",
    "#     }else{  \n",
    "     gts_forecasts_7 <- window(y_f5, start=dim(y_f5[[1]])[1]-var_h+1)\n",
    "          \n",
    "#     }\n",
    "         \n",
    "    print(gts_forecasts_7)\n",
    "    print(gts_test)\n",
    "            \n",
    "    \n",
    "    l[[k]]  <- allf\n",
    "\n",
    "    ac[[k]]  <-  accuracy.gts(gts_forecasts_7, gts_test)[, 1] \n",
    "\n",
    "    progress(i, progress.bar = TRUE)\n",
    "            \n",
    "    }"
   ]
  },
  {
   "cell_type": "code",
   "execution_count": 13,
   "metadata": {},
   "outputs": [],
   "source": [
    "var_acc_metrics  <-  c(1,2,4)\n",
    "df_acc_test  <- ac[[1]][var_acc_metrics]\n",
    "for (i in ac[2:length(ac)]){\n",
    "    x  <-  i[var_acc_metrics]\n",
    "    df_acc_test   <-  cbind(df_acc_test, x)\n",
    "}\n",
    "df_acc_test  <- t(df_acc_test)\n",
    "df_acc_test  <-  as.data.frame(df_acc_test)\n",
    "row.names(df_acc_test)  <-  seq(1,length(ac))\n",
    "df_acc  <- df_acc_test\n",
    "df_acc  <-  cbind(df_acc, seq(1, length(ac)))\n",
    "colnames(df_acc)[length(var_acc_metrics)+1]  <-  'Iteration'"
   ]
  },
  {
   "cell_type": "code",
   "execution_count": 14,
   "metadata": {},
   "outputs": [],
   "source": [
    "df_acc$Iteration  <-  df_acc$Iteration*var_freq-(var_freq-1)"
   ]
  },
  {
   "cell_type": "code",
   "execution_count": 15,
   "metadata": {},
   "outputs": [],
   "source": [
    "df_acc$Iteration[length(df_acc$Iteration)]  <-   df_acc$Iteration[length(df_acc$Iteration)] - var_topup"
   ]
  },
  {
   "cell_type": "code",
   "execution_count": 16,
   "metadata": {},
   "outputs": [
    {
     "data": {
      "text/html": [
       "<table>\n",
       "<thead><tr><th scope=col>ME</th><th scope=col>RMSE</th><th scope=col>MAPE</th><th scope=col>Iteration</th></tr></thead>\n",
       "<tbody>\n",
       "\t<tr><td>206.32841</td><td>240.66837</td><td>1.2749808</td><td> 1       </td></tr>\n",
       "\t<tr><td>396.64316</td><td>452.90472</td><td>2.3982625</td><td> 5       </td></tr>\n",
       "\t<tr><td>420.14436</td><td>490.65082</td><td>2.5780781</td><td> 9       </td></tr>\n",
       "\t<tr><td>344.89925</td><td>357.53899</td><td>2.0001457</td><td>13       </td></tr>\n",
       "\t<tr><td> 63.44524</td><td> 83.84084</td><td>0.3591411</td><td>17       </td></tr>\n",
       "\t<tr><td> 32.62230</td><td> 74.35127</td><td>0.3178750</td><td>19       </td></tr>\n",
       "</tbody>\n",
       "</table>\n"
      ],
      "text/latex": [
       "\\begin{tabular}{r|llll}\n",
       " ME & RMSE & MAPE & Iteration\\\\\n",
       "\\hline\n",
       "\t 206.32841 & 240.66837 & 1.2749808 &  1       \\\\\n",
       "\t 396.64316 & 452.90472 & 2.3982625 &  5       \\\\\n",
       "\t 420.14436 & 490.65082 & 2.5780781 &  9       \\\\\n",
       "\t 344.89925 & 357.53899 & 2.0001457 & 13       \\\\\n",
       "\t  63.44524 &  83.84084 & 0.3591411 & 17       \\\\\n",
       "\t  32.62230 &  74.35127 & 0.3178750 & 19       \\\\\n",
       "\\end{tabular}\n"
      ],
      "text/markdown": [
       "\n",
       "ME | RMSE | MAPE | Iteration | \n",
       "|---|---|---|---|---|---|\n",
       "| 206.32841 | 240.66837 | 1.2749808 |  1        | \n",
       "| 396.64316 | 452.90472 | 2.3982625 |  5        | \n",
       "| 420.14436 | 490.65082 | 2.5780781 |  9        | \n",
       "| 344.89925 | 357.53899 | 2.0001457 | 13        | \n",
       "|  63.44524 |  83.84084 | 0.3591411 | 17        | \n",
       "|  32.62230 |  74.35127 | 0.3178750 | 19        | \n",
       "\n",
       "\n"
      ],
      "text/plain": [
       "  ME        RMSE      MAPE      Iteration\n",
       "1 206.32841 240.66837 1.2749808  1       \n",
       "2 396.64316 452.90472 2.3982625  5       \n",
       "3 420.14436 490.65082 2.5780781  9       \n",
       "4 344.89925 357.53899 2.0001457 13       \n",
       "5  63.44524  83.84084 0.3591411 17       \n",
       "6  32.62230  74.35127 0.3178750 19       "
      ]
     },
     "metadata": {},
     "output_type": "display_data"
    }
   ],
   "source": [
    "df_acc"
   ]
  },
  {
   "cell_type": "code",
   "execution_count": 17,
   "metadata": {},
   "outputs": [
    {
     "data": {
      "text/plain": [
       "Time Series:\n",
       "Start = 1 \n",
       "End = 8 \n",
       "Frequency = 1 \n",
       "[1] 17201.85 17263.46 17329.96 17399.85 17472.09 17545.94 17620.93 17696.69"
      ]
     },
     "metadata": {},
     "output_type": "display_data"
    }
   ],
   "source": [
    "l[[5]][,1]"
   ]
  },
  {
   "cell_type": "code",
   "execution_count": 18,
   "metadata": {},
   "outputs": [
    {
     "data": {
      "text/html": [
       "<table>\n",
       "<thead><tr><th scope=col>ME</th><th scope=col>RMSE</th><th scope=col>MAPE</th><th scope=col>Iteration</th></tr></thead>\n",
       "<tbody>\n",
       "\t<tr><td>206.32841</td><td>240.66837</td><td>1.2749808</td><td> 1       </td></tr>\n",
       "\t<tr><td>396.64316</td><td>452.90472</td><td>2.3982625</td><td> 5       </td></tr>\n",
       "\t<tr><td>420.14436</td><td>490.65082</td><td>2.5780781</td><td> 9       </td></tr>\n",
       "\t<tr><td>344.89925</td><td>357.53899</td><td>2.0001457</td><td>13       </td></tr>\n",
       "\t<tr><td> 63.44524</td><td> 83.84084</td><td>0.3591411</td><td>17       </td></tr>\n",
       "\t<tr><td> 32.62230</td><td> 74.35127</td><td>0.3178750</td><td>19       </td></tr>\n",
       "</tbody>\n",
       "</table>\n"
      ],
      "text/latex": [
       "\\begin{tabular}{r|llll}\n",
       " ME & RMSE & MAPE & Iteration\\\\\n",
       "\\hline\n",
       "\t 206.32841 & 240.66837 & 1.2749808 &  1       \\\\\n",
       "\t 396.64316 & 452.90472 & 2.3982625 &  5       \\\\\n",
       "\t 420.14436 & 490.65082 & 2.5780781 &  9       \\\\\n",
       "\t 344.89925 & 357.53899 & 2.0001457 & 13       \\\\\n",
       "\t  63.44524 &  83.84084 & 0.3591411 & 17       \\\\\n",
       "\t  32.62230 &  74.35127 & 0.3178750 & 19       \\\\\n",
       "\\end{tabular}\n"
      ],
      "text/markdown": [
       "\n",
       "ME | RMSE | MAPE | Iteration | \n",
       "|---|---|---|---|---|---|\n",
       "| 206.32841 | 240.66837 | 1.2749808 |  1        | \n",
       "| 396.64316 | 452.90472 | 2.3982625 |  5        | \n",
       "| 420.14436 | 490.65082 | 2.5780781 |  9        | \n",
       "| 344.89925 | 357.53899 | 2.0001457 | 13        | \n",
       "|  63.44524 |  83.84084 | 0.3591411 | 17        | \n",
       "|  32.62230 |  74.35127 | 0.3178750 | 19        | \n",
       "\n",
       "\n"
      ],
      "text/plain": [
       "  ME        RMSE      MAPE      Iteration\n",
       "1 206.32841 240.66837 1.2749808  1       \n",
       "2 396.64316 452.90472 2.3982625  5       \n",
       "3 420.14436 490.65082 2.5780781  9       \n",
       "4 344.89925 357.53899 2.0001457 13       \n",
       "5  63.44524  83.84084 0.3591411 17       \n",
       "6  32.62230  74.35127 0.3178750 19       "
      ]
     },
     "metadata": {},
     "output_type": "display_data"
    }
   ],
   "source": [
    "df_acc"
   ]
  },
  {
   "cell_type": "code",
   "execution_count": 19,
   "metadata": {},
   "outputs": [
    {
     "data": {
      "text/html": [
       "<dl class=dl-horizontal>\n",
       "\t<dt>ME</dt>\n",
       "\t\t<dd>244.013788894204</dd>\n",
       "\t<dt>RMSE</dt>\n",
       "\t\t<dd>283.325835090815</dd>\n",
       "\t<dt>MAPE</dt>\n",
       "\t\t<dd>1.48808054506883</dd>\n",
       "\t<dt>Iteration</dt>\n",
       "\t\t<dd>10.6666666666667</dd>\n",
       "</dl>\n"
      ],
      "text/latex": [
       "\\begin{description*}\n",
       "\\item[ME] 244.013788894204\n",
       "\\item[RMSE] 283.325835090815\n",
       "\\item[MAPE] 1.48808054506883\n",
       "\\item[Iteration] 10.6666666666667\n",
       "\\end{description*}\n"
      ],
      "text/markdown": [
       "ME\n",
       ":   244.013788894204RMSE\n",
       ":   283.325835090815MAPE\n",
       ":   1.48808054506883Iteration\n",
       ":   10.6666666666667\n",
       "\n"
      ],
      "text/plain": [
       "        ME       RMSE       MAPE  Iteration \n",
       "244.013789 283.325835   1.488081  10.666667 "
      ]
     },
     "metadata": {},
     "output_type": "display_data"
    }
   ],
   "source": [
    "colMeans(df_acc)"
   ]
  },
  {
   "cell_type": "code",
   "execution_count": 21,
   "metadata": {},
   "outputs": [
    {
     "data": {
      "text/html": [
       "<table>\n",
       "<thead><tr><th></th><th scope=col>Квартальные</th><th scope=col>Сезонно сглаженные</th><th scope=col>Месячные</th></tr></thead>\n",
       "<tbody>\n",
       "\t<tr><th scope=row>1 level</th><td>64.30372</td><td>299.5702</td><td>15884.63</td></tr>\n",
       "\t<tr><th scope=row>3 level</th><td>66.31314</td><td>298.8763</td><td>15346.86</td></tr>\n",
       "\t<tr><th scope=row>2 level (state)</th><td>67.92739</td><td>298.8923</td><td>15342.24</td></tr>\n",
       "\t<tr><th scope=row>2 level (type)</th><td>63.95990</td><td>299.4158</td><td>15511.31</td></tr>\n",
       "\t<tr><th scope=row>2 level (clusetered)</th><td>67.09557</td><td>297.5359</td><td>15338.88</td></tr>\n",
       "</tbody>\n",
       "</table>\n"
      ],
      "text/latex": [
       "\\begin{tabular}{r|lll}\n",
       "  & Квартальные & Сезонно сглаженные & Месячные\\\\\n",
       "\\hline\n",
       "\t1 level & 64.30372 & 299.5702 & 15884.63\\\\\n",
       "\t3 level & 66.31314 & 298.8763 & 15346.86\\\\\n",
       "\t2 level (state) & 67.92739 & 298.8923 & 15342.24\\\\\n",
       "\t2 level (type) & 63.95990 & 299.4158 & 15511.31\\\\\n",
       "\t2 level (clusetered) & 67.09557 & 297.5359 & 15338.88\\\\\n",
       "\\end{tabular}\n"
      ],
      "text/markdown": [
       "\n",
       "| <!--/--> | Квартальные | Сезонно сглаженные | Месячные | \n",
       "|---|---|---|---|---|\n",
       "| 1 level | 64.30372 | 299.5702 | 15884.63 | \n",
       "| 3 level | 66.31314 | 298.8763 | 15346.86 | \n",
       "| 2 level (state) | 67.92739 | 298.8923 | 15342.24 | \n",
       "| 2 level (type) | 63.95990 | 299.4158 | 15511.31 | \n",
       "| 2 level (clusetered) | 67.09557 | 297.5359 | 15338.88 | \n",
       "\n",
       "\n"
      ],
      "text/plain": [
       "                     Квартальные Сезонно сглаженные Месячные\n",
       "1 level              64.30372    299.5702           15884.63\n",
       "3 level              66.31314    298.8763           15346.86\n",
       "2 level (state)      67.92739    298.8923           15342.24\n",
       "2 level (type)       63.95990    299.4158           15511.31\n",
       "2 level (clusetered) 67.09557    297.5359           15338.88"
      ]
     },
     "metadata": {},
     "output_type": "display_data"
    }
   ],
   "source": [
    "df_mean_acc <- readRDS(\"df_mean_acc_no_weights.rds\")\n",
    "# rownames(df_mean_acc)[2:5]  <-  c('3 level', '2 level (state)', '2 level (type)' ,'2 level (clusetered)' )\n",
    "df_mean_acc"
   ]
  },
  {
   "cell_type": "code",
   "execution_count": 22,
   "metadata": {},
   "outputs": [
    {
     "data": {
      "text/html": [
       "<table>\n",
       "<thead><tr><th></th><th scope=col>Квартальные</th><th scope=col>Сезонно сглаженные</th><th scope=col>Месячные</th></tr></thead>\n",
       "<tbody>\n",
       "\t<tr><th scope=row>1 level</th><td>64.30372</td><td>299.5702</td><td>15884.63</td></tr>\n",
       "\t<tr><th scope=row>3 level</th><td>66.31314</td><td>283.3258</td><td>15346.86</td></tr>\n",
       "\t<tr><th scope=row>2 level (state)</th><td>67.92739</td><td>298.8923</td><td>15342.24</td></tr>\n",
       "\t<tr><th scope=row>2 level (type)</th><td>63.95990</td><td>299.4158</td><td>15511.31</td></tr>\n",
       "\t<tr><th scope=row>2 level (clusetered)</th><td>67.09557</td><td>297.5359</td><td>15338.88</td></tr>\n",
       "</tbody>\n",
       "</table>\n"
      ],
      "text/latex": [
       "\\begin{tabular}{r|lll}\n",
       "  & Квартальные & Сезонно сглаженные & Месячные\\\\\n",
       "\\hline\n",
       "\t1 level & 64.30372 & 299.5702 & 15884.63\\\\\n",
       "\t3 level & 66.31314 & 283.3258 & 15346.86\\\\\n",
       "\t2 level (state) & 67.92739 & 298.8923 & 15342.24\\\\\n",
       "\t2 level (type) & 63.95990 & 299.4158 & 15511.31\\\\\n",
       "\t2 level (clusetered) & 67.09557 & 297.5359 & 15338.88\\\\\n",
       "\\end{tabular}\n"
      ],
      "text/markdown": [
       "\n",
       "| <!--/--> | Квартальные | Сезонно сглаженные | Месячные | \n",
       "|---|---|---|---|---|\n",
       "| 1 level | 64.30372 | 299.5702 | 15884.63 | \n",
       "| 3 level | 66.31314 | 283.3258 | 15346.86 | \n",
       "| 2 level (state) | 67.92739 | 298.8923 | 15342.24 | \n",
       "| 2 level (type) | 63.95990 | 299.4158 | 15511.31 | \n",
       "| 2 level (clusetered) | 67.09557 | 297.5359 | 15338.88 | \n",
       "\n",
       "\n"
      ],
      "text/plain": [
       "                     Квартальные Сезонно сглаженные Месячные\n",
       "1 level              64.30372    299.5702           15884.63\n",
       "3 level              66.31314    283.3258           15346.86\n",
       "2 level (state)      67.92739    298.8923           15342.24\n",
       "2 level (type)       63.95990    299.4158           15511.31\n",
       "2 level (clusetered) 67.09557    297.5359           15338.88"
      ]
     },
     "metadata": {},
     "output_type": "display_data"
    }
   ],
   "source": [
    "df_mean_acc[2,2]  <-  colMeans(df_acc)[[2]] \n",
    "df_mean_acc"
   ]
  },
  {
   "cell_type": "markdown",
   "metadata": {},
   "source": [
    "#### 2 state"
   ]
  },
  {
   "cell_type": "code",
   "execution_count": 24,
   "metadata": {},
   "outputs": [],
   "source": [
    "df_eu  <-  read.csv(file=\"../clustering/hts_us_ind_filled_state.csv\", header=TRUE, sep=\",\", row.names =1 )\n",
    "df_eu  <-  df_eu/1000\n"
   ]
  },
  {
   "cell_type": "code",
   "execution_count": 25,
   "metadata": {},
   "outputs": [],
   "source": [
    "# var_allornot  <- var_freq\n",
    "var_allornot  <- 1\n",
    "# var_shift  <-  var_topup\n",
    "var_shift  <-  0"
   ]
  },
  {
   "cell_type": "code",
   "execution_count": 26,
   "metadata": {},
   "outputs": [
    {
     "name": "stderr",
     "output_type": "stream",
     "text": [
      "Since argument characters are not specified, the default labelling system is used.\n"
     ]
    }
   ],
   "source": [
    "df_eu  <-  as.data.table(df_eu)\n",
    "data  <-  df_eu\n",
    "y  <-  hts(data)\n",
    "s  <-  smatrix(y)\n",
    "# gts_train  <- window(y, start=20, end=67)\n",
    "# gts_test  <- window(y, start=68, end=75)\n",
    "allts <- aggts(y)\n",
    "allf <- matrix(, nrow=var_h, ncol=ncol(allts))"
   ]
  },
  {
   "cell_type": "code",
   "execution_count": 27,
   "metadata": {},
   "outputs": [
    {
     "name": "stdout",
     "output_type": "stream",
     "text": [
      "[1]  1 28 29 36\n"
     ]
    },
    {
     "name": "stderr",
     "output_type": "stream",
     "text": [
      "Since argument characters are not specified, the default labelling system is used.\n"
     ]
    },
    {
     "name": "stdout",
     "output_type": "stream",
     "text": [
      "Hierarchical Time Series \n",
      "2 Levels \n",
      "Number of nodes at each level: 1 50 \n",
      "Total number of series: 51 \n",
      "Number of observations per series: 8 \n",
      "Top level series: \n",
      "Time Series:\n",
      "Start = 29 \n",
      "End = 36 \n",
      "Frequency = 1 \n",
      "[1] 15883.36 15915.01 15934.70 15953.78 15975.32 16000.51 16029.13 16060.52\n",
      "Hierarchical Time Series \n",
      "2 Levels \n",
      "Number of nodes at each level: 1 50 \n",
      "Total number of series: 51 \n",
      "Number of observations per series: 8 \n",
      "Top level series: \n",
      "Time Series:\n",
      "Start = 29 \n",
      "End = 36 \n",
      "Frequency = 1 \n",
      "[1] 15927.61 15976.18 15983.30 15994.87 16128.30 16136.38 16254.91 16372.60\n",
      "          0%---------25%---------50%---------75%--------100%\n",
      "Progress: [1]  5 32 33 40\n"
     ]
    },
    {
     "name": "stderr",
     "output_type": "stream",
     "text": [
      "Since argument characters are not specified, the default labelling system is used.\n"
     ]
    },
    {
     "name": "stdout",
     "output_type": "stream",
     "text": [
      "Hierarchical Time Series \n",
      "2 Levels \n",
      "Number of nodes at each level: 1 50 \n",
      "Total number of series: 51 \n",
      "Number of observations per series: 8 \n",
      "Top level series: \n",
      "Time Series:\n",
      "Start = 29 \n",
      "End = 36 \n",
      "Frequency = 1 \n",
      "[1] 15977.53 15967.76 15966.34 15970.24 15977.36 15986.73 15998.20 16011.99\n",
      "Hierarchical Time Series \n",
      "2 Levels \n",
      "Number of nodes at each level: 1 50 \n",
      "Total number of series: 51 \n",
      "Number of observations per series: 8 \n",
      "Top level series: \n",
      "Time Series:\n",
      "Start = 33 \n",
      "End = 40 \n",
      "Frequency = 1 \n",
      "[1] 16128.30 16136.38 16254.91 16372.60 16316.98 16522.48 16733.98 16809.04\n",
      "[1]  9 36 37 44\n"
     ]
    },
    {
     "name": "stderr",
     "output_type": "stream",
     "text": [
      "Since argument characters are not specified, the default labelling system is used.\n"
     ]
    },
    {
     "name": "stdout",
     "output_type": "stream",
     "text": [
      "Hierarchical Time Series \n",
      "2 Levels \n",
      "Number of nodes at each level: 1 50 \n",
      "Total number of series: 51 \n",
      "Number of observations per series: 8 \n",
      "Top level series: \n",
      "Time Series:\n",
      "Start = 29 \n",
      "End = 36 \n",
      "Frequency = 1 \n",
      "[1] 16390.86 16392.19 16396.21 16405.93 16420.70 16439.25 16460.68 16484.42\n",
      "Hierarchical Time Series \n",
      "2 Levels \n",
      "Number of nodes at each level: 1 50 \n",
      "Total number of series: 51 \n",
      "Number of observations per series: 8 \n",
      "Top level series: \n",
      "Time Series:\n",
      "Start = 37 \n",
      "End = 44 \n",
      "Frequency = 1 \n",
      "[1] 16316.98 16522.48 16733.98 16809.04 16949.40 17070.24 17129.69 17147.05\n",
      "|[1] 13 40 41 48\n"
     ]
    },
    {
     "name": "stderr",
     "output_type": "stream",
     "text": [
      "Since argument characters are not specified, the default labelling system is used.\n"
     ]
    },
    {
     "name": "stdout",
     "output_type": "stream",
     "text": [
      "Hierarchical Time Series \n",
      "2 Levels \n",
      "Number of nodes at each level: 1 50 \n",
      "Total number of series: 51 \n",
      "Number of observations per series: 8 \n",
      "Top level series: \n",
      "Time Series:\n",
      "Start = 29 \n",
      "End = 36 \n",
      "Frequency = 1 \n",
      "[1] 16814.03 16813.16 16822.93 16845.44 16877.63 16915.70 16956.80 16999.38\n",
      "Hierarchical Time Series \n",
      "2 Levels \n",
      "Number of nodes at each level: 1 50 \n",
      "Total number of series: 51 \n",
      "Number of observations per series: 8 \n",
      "Top level series: \n",
      "Time Series:\n",
      "Start = 41 \n",
      "End = 48 \n",
      "Frequency = 1 \n",
      "[1] 16949.40 17070.24 17129.69 17147.05 17237.31 17306.78 17369.38 17427.95\n",
      "|[1] 17 44 45 52\n"
     ]
    },
    {
     "name": "stderr",
     "output_type": "stream",
     "text": [
      "Since argument characters are not specified, the default labelling system is used.\n"
     ]
    },
    {
     "name": "stdout",
     "output_type": "stream",
     "text": [
      "Hierarchical Time Series \n",
      "2 Levels \n",
      "Number of nodes at each level: 1 50 \n",
      "Total number of series: 51 \n",
      "Number of observations per series: 8 \n",
      "Top level series: \n",
      "Time Series:\n",
      "Start = 29 \n",
      "End = 36 \n",
      "Frequency = 1 \n",
      "[1] 17213.33 17294.98 17373.12 17445.58 17515.55 17586.48 17659.15 17732.94\n",
      "Hierarchical Time Series \n",
      "2 Levels \n",
      "Number of nodes at each level: 1 50 \n",
      "Total number of series: 51 \n",
      "Number of observations per series: 8 \n",
      "Top level series: \n",
      "Time Series:\n",
      "Start = 45 \n",
      "End = 52 \n",
      "Frequency = 1 \n",
      "[1] 17237.31 17306.78 17369.38 17427.95 17501.51 17637.46 17757.34 17851.87\n",
      "[1] 21 48 49 56\n"
     ]
    },
    {
     "name": "stderr",
     "output_type": "stream",
     "text": [
      "Since argument characters are not specified, the default labelling system is used.\n"
     ]
    },
    {
     "name": "stdout",
     "output_type": "stream",
     "text": [
      "Hierarchical Time Series \n",
      "2 Levels \n",
      "Number of nodes at each level: 1 50 \n",
      "Total number of series: 51 \n",
      "Number of observations per series: 8 \n",
      "Top level series: \n",
      "Time Series:\n",
      "Start = 29 \n",
      "End = 36 \n",
      "Frequency = 1 \n",
      "[1] 17390.00 17477.06 17557.65 17635.53 17711.52 17787.18 17863.02 17939.19\n",
      "Hierarchical Time Series \n",
      "2 Levels \n",
      "Number of nodes at each level: 1 50 \n",
      "Total number of series: 51 \n",
      "Number of observations per series: 8 \n",
      "Top level series: \n",
      "Time Series:\n",
      "Start = 47 \n",
      "End = 54 \n",
      "Frequency = 1 \n",
      "[1] 17369.38 17427.95 17501.51 17637.46 17757.34 17851.87 17934.57 18122.00\n"
     ]
    }
   ],
   "source": [
    "l <- ac <- m_top  <- l_test  <-  l_top  <-  list()\n",
    "\n",
    "df_ac  <-  data.frame(matrix(ncol = 0, nrow = 0))\n",
    "\n",
    "k  <- 0\n",
    "\n",
    "for (i in 0:(var_iter*var_allornot - var_shift)){\n",
    "    k  <-  k+1\n",
    "    st_year  <-  var_start_year + i/var_allornot\n",
    "    train_start  <- st_year \n",
    "    train_end  <- st_year + 1/var_freq*(var_window)\n",
    "    test_start  <- st_year + 1/var_freq*(var_window+1) \n",
    "    test_end  <-  st_year + 1/var_freq*(var_window+var_h)\n",
    "    \n",
    "    dates  <-  (c(train_start, train_end, test_start, test_end, train_start-var_topup/var_freq, train_end-var_topup/var_freq, test_start-var_topup/var_freq)-var_start_year)*var_freq+1\n",
    "    \n",
    "    train_start  <- dates[1] \n",
    "    train_end  <- dates[2]\n",
    "    test_start  <- dates[3]\n",
    "    test_end  <- dates[4]\n",
    "    \n",
    "    print(c(train_start, train_end, test_start, test_end))\n",
    "    \n",
    "    \n",
    "    if (i == 0){\n",
    "        gts_train <- window(y, end=train_end)    \n",
    "    }\n",
    "    else{\n",
    "        if ((var_shift == 0) & (i == var_iter*var_allornot - var_shift)){\n",
    "            gts_train <- window(y, start=dates[5], end=dates[6])\n",
    "        }else{\n",
    "            gts_train <- window(y, start=train_start, end=train_end)\n",
    "    }}\n",
    "    \n",
    "    if ((var_shift == 0) & (i == var_iter*var_allornot - var_shift)){\n",
    "        gts_test <- window(y, start=dates[7])\n",
    "      \n",
    "    }else{  \n",
    "     gts_test <- window(y, start=test_start, end=test_end)\n",
    "          \n",
    "    }\n",
    "     \n",
    "    \n",
    "    \n",
    "    allts <- aggts(gts_train)\n",
    "    \n",
    "    ms <-  foreach(j=1:ncol(allts)) %dopar% {\n",
    "        model  <- tryCatch(        \n",
    "        Arima(msts(allts[,j], seasonal.periods = var_freq), order=var_arpdq, seasonal=var_sarpdq,  include.drift = var_drift, include.mean = var_constant, method=\"ML\"), \n",
    "            error = function(e) \n",
    "#                               {tryCatch( \n",
    "                Arima(msts(allts[,j], seasonal.periods = var_freq), order=var_arpdq, seasonal=var_sarpdq, include.drift = var_drift, include.mean = var_constant, method=\"CSS\") #,\n",
    "#                          error = function(e)              \n",
    "#                             auto.arima(msts(allts[,j], seasonal.periods = var_freq))\n",
    "#                          )}\n",
    "                        \n",
    "            )\n",
    "        \n",
    "    }\n",
    "    \n",
    "     \n",
    "        \n",
    "    allf <- matrix(, nrow=var_h, ncol=ncol(allts))\n",
    "        \n",
    "    \n",
    "    for(j in 1:ncol(allts)){  \n",
    "    allf[,j] <- forecast(ms[[j]], h=var_h)$mean\n",
    "    \n",
    "    \n",
    "    }\n",
    "\n",
    "    \n",
    "    allf <- ts(allf)\n",
    "    colnames(allf)  <-  colnames(allts)  \n",
    "    g <- get_nodes(gts_train)\n",
    "    y.f <- combinef(allf, nodes = g, weights = c(0,rep(1, dim(df_eu)[2])))\n",
    "    forecasts_7  <- y.f[[1]]\n",
    "    colnames(forecasts_7)  <- colnames(y[[1]])\n",
    "    data_f5  <- rbind(gts_train[[1]], forecasts_7)\n",
    "    y_f5  <- hts(data_f5)\n",
    "        \n",
    "#     if (i == 4){\n",
    "#         gts_forecasts_7 <- window(y_f5, start=test_start)}\n",
    "#     else{\n",
    "#     gts_forecasts_7 <- window(y_f5, start=test_start, end=test_end)\n",
    "# #     }\n",
    "\n",
    "#     if ((var_shift == 0) & (i == var_iter*var_allornot - var_shift)){\n",
    "#         gts_forecasts_7 <- window(y_f5, start=dates[7])\n",
    "      \n",
    "#     }else{  \n",
    "     gts_forecasts_7 <- window(y_f5, start=dim(y_f5[[1]])[1]-var_h+1)\n",
    "          \n",
    "#     }\n",
    "         \n",
    "    print(gts_forecasts_7)\n",
    "    print(gts_test)\n",
    "            \n",
    "    \n",
    "    l[[k]]  <- allf\n",
    "\n",
    "    ac[[k]]  <-  accuracy.gts(gts_forecasts_7, gts_test)[, 1] \n",
    "\n",
    "    progress(i, progress.bar = TRUE)\n",
    "            \n",
    "    }"
   ]
  },
  {
   "cell_type": "code",
   "execution_count": 28,
   "metadata": {},
   "outputs": [],
   "source": [
    "var_acc_metrics  <-  c(1,2,4)\n",
    "df_acc_test  <- ac[[1]][var_acc_metrics]\n",
    "for (i in ac[2:length(ac)]){\n",
    "    x  <-  i[var_acc_metrics]\n",
    "    df_acc_test   <-  cbind(df_acc_test, x)\n",
    "}\n",
    "df_acc_test  <- t(df_acc_test)\n",
    "df_acc_test  <-  as.data.frame(df_acc_test)\n",
    "row.names(df_acc_test)  <-  seq(1,length(ac))\n",
    "df_acc  <- df_acc_test\n",
    "df_acc  <-  cbind(df_acc, seq(1, length(ac)))\n",
    "colnames(df_acc)[length(var_acc_metrics)+1]  <-  'Iteration'"
   ]
  },
  {
   "cell_type": "code",
   "execution_count": 29,
   "metadata": {},
   "outputs": [],
   "source": [
    "df_acc$Iteration  <-  df_acc$Iteration*var_freq-(var_freq-1)\n",
    "df_acc$Iteration[length(df_acc$Iteration)]  <-   df_acc$Iteration[length(df_acc$Iteration)] - var_topup"
   ]
  },
  {
   "cell_type": "code",
   "execution_count": 30,
   "metadata": {},
   "outputs": [
    {
     "data": {
      "text/html": [
       "<table>\n",
       "<thead><tr><th scope=col>ME</th><th scope=col>RMSE</th><th scope=col>MAPE</th><th scope=col>Iteration</th></tr></thead>\n",
       "<tbody>\n",
       "\t<tr><td>127.72906</td><td>158.10939</td><td>0.7884221</td><td> 1       </td></tr>\n",
       "\t<tr><td>427.31637</td><td>484.17021</td><td>2.5844137</td><td> 5       </td></tr>\n",
       "\t<tr><td>411.07751</td><td>482.61654</td><td>2.5304585</td><td> 9       </td></tr>\n",
       "\t<tr><td>324.08996</td><td>336.46762</td><td>1.8793937</td><td>13       </td></tr>\n",
       "\t<tr><td> 33.55801</td><td> 58.75820</td><td>0.2397905</td><td>17       </td></tr>\n",
       "\t<tr><td> 30.11459</td><td> 79.69887</td><td>0.3450407</td><td>19       </td></tr>\n",
       "</tbody>\n",
       "</table>\n"
      ],
      "text/latex": [
       "\\begin{tabular}{r|llll}\n",
       " ME & RMSE & MAPE & Iteration\\\\\n",
       "\\hline\n",
       "\t 127.72906 & 158.10939 & 0.7884221 &  1       \\\\\n",
       "\t 427.31637 & 484.17021 & 2.5844137 &  5       \\\\\n",
       "\t 411.07751 & 482.61654 & 2.5304585 &  9       \\\\\n",
       "\t 324.08996 & 336.46762 & 1.8793937 & 13       \\\\\n",
       "\t  33.55801 &  58.75820 & 0.2397905 & 17       \\\\\n",
       "\t  30.11459 &  79.69887 & 0.3450407 & 19       \\\\\n",
       "\\end{tabular}\n"
      ],
      "text/markdown": [
       "\n",
       "ME | RMSE | MAPE | Iteration | \n",
       "|---|---|---|---|---|---|\n",
       "| 127.72906 | 158.10939 | 0.7884221 |  1        | \n",
       "| 427.31637 | 484.17021 | 2.5844137 |  5        | \n",
       "| 411.07751 | 482.61654 | 2.5304585 |  9        | \n",
       "| 324.08996 | 336.46762 | 1.8793937 | 13        | \n",
       "|  33.55801 |  58.75820 | 0.2397905 | 17        | \n",
       "|  30.11459 |  79.69887 | 0.3450407 | 19        | \n",
       "\n",
       "\n"
      ],
      "text/plain": [
       "  ME        RMSE      MAPE      Iteration\n",
       "1 127.72906 158.10939 0.7884221  1       \n",
       "2 427.31637 484.17021 2.5844137  5       \n",
       "3 411.07751 482.61654 2.5304585  9       \n",
       "4 324.08996 336.46762 1.8793937 13       \n",
       "5  33.55801  58.75820 0.2397905 17       \n",
       "6  30.11459  79.69887 0.3450407 19       "
      ]
     },
     "metadata": {},
     "output_type": "display_data"
    }
   ],
   "source": [
    "df_acc"
   ]
  },
  {
   "cell_type": "code",
   "execution_count": 31,
   "metadata": {},
   "outputs": [
    {
     "data": {
      "text/plain": [
       "Time Series:\n",
       "Start = 1 \n",
       "End = 8 \n",
       "Frequency = 1 \n",
       "[1] 17201.85 17263.46 17329.96 17399.85 17472.09 17545.94 17620.93 17696.69"
      ]
     },
     "metadata": {},
     "output_type": "display_data"
    }
   ],
   "source": [
    "l[[5]][,1]"
   ]
  },
  {
   "cell_type": "code",
   "execution_count": 32,
   "metadata": {},
   "outputs": [
    {
     "data": {
      "text/html": [
       "<dl class=dl-horizontal>\n",
       "\t<dt>ME</dt>\n",
       "\t\t<dd>225.647581391846</dd>\n",
       "\t<dt>RMSE</dt>\n",
       "\t\t<dd>266.636803203555</dd>\n",
       "\t<dt>MAPE</dt>\n",
       "\t\t<dd>1.39458652408212</dd>\n",
       "\t<dt>Iteration</dt>\n",
       "\t\t<dd>10.6666666666667</dd>\n",
       "</dl>\n"
      ],
      "text/latex": [
       "\\begin{description*}\n",
       "\\item[ME] 225.647581391846\n",
       "\\item[RMSE] 266.636803203555\n",
       "\\item[MAPE] 1.39458652408212\n",
       "\\item[Iteration] 10.6666666666667\n",
       "\\end{description*}\n"
      ],
      "text/markdown": [
       "ME\n",
       ":   225.647581391846RMSE\n",
       ":   266.636803203555MAPE\n",
       ":   1.39458652408212Iteration\n",
       ":   10.6666666666667\n",
       "\n"
      ],
      "text/plain": [
       "        ME       RMSE       MAPE  Iteration \n",
       "225.647581 266.636803   1.394587  10.666667 "
      ]
     },
     "metadata": {},
     "output_type": "display_data"
    },
    {
     "data": {
      "text/html": [
       "<table>\n",
       "<thead><tr><th></th><th scope=col>Квартальные</th><th scope=col>Сезонно сглаженные</th><th scope=col>Месячные</th></tr></thead>\n",
       "<tbody>\n",
       "\t<tr><th scope=row>1 level</th><td>64.30372</td><td>299.5702</td><td>15884.63</td></tr>\n",
       "\t<tr><th scope=row>3 level</th><td>66.31314</td><td>283.3258</td><td>15346.86</td></tr>\n",
       "\t<tr><th scope=row>2 level (state)</th><td>67.92739</td><td>298.8923</td><td>15342.24</td></tr>\n",
       "\t<tr><th scope=row>2 level (type)</th><td>63.95990</td><td>299.4158</td><td>15511.31</td></tr>\n",
       "\t<tr><th scope=row>2 level (clusetered)</th><td>67.09557</td><td>297.5359</td><td>15338.88</td></tr>\n",
       "</tbody>\n",
       "</table>\n"
      ],
      "text/latex": [
       "\\begin{tabular}{r|lll}\n",
       "  & Квартальные & Сезонно сглаженные & Месячные\\\\\n",
       "\\hline\n",
       "\t1 level & 64.30372 & 299.5702 & 15884.63\\\\\n",
       "\t3 level & 66.31314 & 283.3258 & 15346.86\\\\\n",
       "\t2 level (state) & 67.92739 & 298.8923 & 15342.24\\\\\n",
       "\t2 level (type) & 63.95990 & 299.4158 & 15511.31\\\\\n",
       "\t2 level (clusetered) & 67.09557 & 297.5359 & 15338.88\\\\\n",
       "\\end{tabular}\n"
      ],
      "text/markdown": [
       "\n",
       "| <!--/--> | Квартальные | Сезонно сглаженные | Месячные | \n",
       "|---|---|---|---|---|\n",
       "| 1 level | 64.30372 | 299.5702 | 15884.63 | \n",
       "| 3 level | 66.31314 | 283.3258 | 15346.86 | \n",
       "| 2 level (state) | 67.92739 | 298.8923 | 15342.24 | \n",
       "| 2 level (type) | 63.95990 | 299.4158 | 15511.31 | \n",
       "| 2 level (clusetered) | 67.09557 | 297.5359 | 15338.88 | \n",
       "\n",
       "\n"
      ],
      "text/plain": [
       "                     Квартальные Сезонно сглаженные Месячные\n",
       "1 level              64.30372    299.5702           15884.63\n",
       "3 level              66.31314    283.3258           15346.86\n",
       "2 level (state)      67.92739    298.8923           15342.24\n",
       "2 level (type)       63.95990    299.4158           15511.31\n",
       "2 level (clusetered) 67.09557    297.5359           15338.88"
      ]
     },
     "metadata": {},
     "output_type": "display_data"
    }
   ],
   "source": [
    "colMeans(df_acc)\n",
    "df_mean_acc"
   ]
  },
  {
   "cell_type": "code",
   "execution_count": 59,
   "metadata": {},
   "outputs": [],
   "source": [
    "# df_mean_acc <- readRDS(\"df_mean_acc.rds\")\n",
    "# rownames(df_mean_acc)[2:5]  <-  c('3 level', '2 level (state)', '2 level (type)' ,'2 level (clusetered)' )"
   ]
  },
  {
   "cell_type": "code",
   "execution_count": 33,
   "metadata": {},
   "outputs": [
    {
     "data": {
      "text/html": [
       "<table>\n",
       "<thead><tr><th></th><th scope=col>Квартальные</th><th scope=col>Сезонно сглаженные</th><th scope=col>Месячные</th></tr></thead>\n",
       "<tbody>\n",
       "\t<tr><th scope=row>1 level</th><td>64.30372</td><td>299.5702</td><td>15884.63</td></tr>\n",
       "\t<tr><th scope=row>3 level</th><td>66.31314</td><td>283.3258</td><td>15346.86</td></tr>\n",
       "\t<tr><th scope=row>2 level (state)</th><td>67.92739</td><td>266.6368</td><td>15342.24</td></tr>\n",
       "\t<tr><th scope=row>2 level (type)</th><td>63.95990</td><td>299.4158</td><td>15511.31</td></tr>\n",
       "\t<tr><th scope=row>2 level (clusetered)</th><td>67.09557</td><td>297.5359</td><td>15338.88</td></tr>\n",
       "</tbody>\n",
       "</table>\n"
      ],
      "text/latex": [
       "\\begin{tabular}{r|lll}\n",
       "  & Квартальные & Сезонно сглаженные & Месячные\\\\\n",
       "\\hline\n",
       "\t1 level & 64.30372 & 299.5702 & 15884.63\\\\\n",
       "\t3 level & 66.31314 & 283.3258 & 15346.86\\\\\n",
       "\t2 level (state) & 67.92739 & 266.6368 & 15342.24\\\\\n",
       "\t2 level (type) & 63.95990 & 299.4158 & 15511.31\\\\\n",
       "\t2 level (clusetered) & 67.09557 & 297.5359 & 15338.88\\\\\n",
       "\\end{tabular}\n"
      ],
      "text/markdown": [
       "\n",
       "| <!--/--> | Квартальные | Сезонно сглаженные | Месячные | \n",
       "|---|---|---|---|---|\n",
       "| 1 level | 64.30372 | 299.5702 | 15884.63 | \n",
       "| 3 level | 66.31314 | 283.3258 | 15346.86 | \n",
       "| 2 level (state) | 67.92739 | 266.6368 | 15342.24 | \n",
       "| 2 level (type) | 63.95990 | 299.4158 | 15511.31 | \n",
       "| 2 level (clusetered) | 67.09557 | 297.5359 | 15338.88 | \n",
       "\n",
       "\n"
      ],
      "text/plain": [
       "                     Квартальные Сезонно сглаженные Месячные\n",
       "1 level              64.30372    299.5702           15884.63\n",
       "3 level              66.31314    283.3258           15346.86\n",
       "2 level (state)      67.92739    266.6368           15342.24\n",
       "2 level (type)       63.95990    299.4158           15511.31\n",
       "2 level (clusetered) 67.09557    297.5359           15338.88"
      ]
     },
     "metadata": {},
     "output_type": "display_data"
    }
   ],
   "source": [
    "df_mean_acc[3,2]  <-  colMeans(df_acc)[[2]] \n",
    "df_mean_acc"
   ]
  },
  {
   "cell_type": "markdown",
   "metadata": {},
   "source": [
    "#### 2 type"
   ]
  },
  {
   "cell_type": "code",
   "execution_count": 34,
   "metadata": {},
   "outputs": [],
   "source": [
    "df_eu  <-  read.csv(file=\"../clustering/hts_us_ind_filled_type.csv\", header=TRUE, sep=\",\", row.names =1 )\n",
    "df_eu  <-  df_eu/1000\n"
   ]
  },
  {
   "cell_type": "code",
   "execution_count": 35,
   "metadata": {},
   "outputs": [],
   "source": [
    "# var_allornot  <- var_freq\n",
    "var_allornot  <- 1\n",
    "# var_shift  <-  var_topup\n",
    "var_shift  <-  0"
   ]
  },
  {
   "cell_type": "code",
   "execution_count": 36,
   "metadata": {},
   "outputs": [
    {
     "name": "stderr",
     "output_type": "stream",
     "text": [
      "Since argument characters are not specified, the default labelling system is used.\n"
     ]
    }
   ],
   "source": [
    "df_eu  <-  as.data.table(df_eu)\n",
    "data  <-  df_eu\n",
    "y  <-  hts(data)\n",
    "s  <-  smatrix(y)\n",
    "# gts_train  <- window(y, start=20, end=67)\n",
    "# gts_test  <- window(y, start=68, end=75)\n",
    "allts <- aggts(y)\n",
    "allf <- matrix(, nrow=var_h, ncol=ncol(allts))"
   ]
  },
  {
   "cell_type": "code",
   "execution_count": 37,
   "metadata": {},
   "outputs": [
    {
     "name": "stdout",
     "output_type": "stream",
     "text": [
      "[1]  1 28 29 36\n"
     ]
    },
    {
     "name": "stderr",
     "output_type": "stream",
     "text": [
      "Since argument characters are not specified, the default labelling system is used.\n"
     ]
    },
    {
     "name": "stdout",
     "output_type": "stream",
     "text": [
      "Hierarchical Time Series \n",
      "2 Levels \n",
      "Number of nodes at each level: 1 21 \n",
      "Total number of series: 22 \n",
      "Number of observations per series: 8 \n",
      "Top level series: \n",
      "Time Series:\n",
      "Start = 29 \n",
      "End = 36 \n",
      "Frequency = 1 \n",
      "[1] 15871.03 15863.76 15833.42 15797.43 15766.92 15749.82 15751.19 15772.67\n",
      "Hierarchical Time Series \n",
      "2 Levels \n",
      "Number of nodes at each level: 1 21 \n",
      "Total number of series: 22 \n",
      "Number of observations per series: 8 \n",
      "Top level series: \n",
      "Time Series:\n",
      "Start = 29 \n",
      "End = 36 \n",
      "Frequency = 1 \n",
      "[1] 15927.61 15976.18 15983.30 15994.87 16128.30 16136.38 16254.91 16372.60\n",
      "          0%---------25%---------50%---------75%--------100%\n",
      "Progress: [1]  5 32 33 40\n"
     ]
    },
    {
     "name": "stderr",
     "output_type": "stream",
     "text": [
      "Since argument characters are not specified, the default labelling system is used.\n"
     ]
    },
    {
     "name": "stdout",
     "output_type": "stream",
     "text": [
      "Hierarchical Time Series \n",
      "2 Levels \n",
      "Number of nodes at each level: 1 21 \n",
      "Total number of series: 22 \n",
      "Number of observations per series: 8 \n",
      "Top level series: \n",
      "Time Series:\n",
      "Start = 29 \n",
      "End = 36 \n",
      "Frequency = 1 \n",
      "[1] 16012.17 16019.78 16027.31 16042.83 16067.70 16099.77 16136.14 16174.66\n",
      "Hierarchical Time Series \n",
      "2 Levels \n",
      "Number of nodes at each level: 1 21 \n",
      "Total number of series: 22 \n",
      "Number of observations per series: 8 \n",
      "Top level series: \n",
      "Time Series:\n",
      "Start = 33 \n",
      "End = 40 \n",
      "Frequency = 1 \n",
      "[1] 16128.30 16136.38 16254.91 16372.60 16316.98 16522.48 16733.98 16809.04\n",
      "[1]  9 36 37 44\n"
     ]
    },
    {
     "name": "stderr",
     "output_type": "stream",
     "text": [
      "Since argument characters are not specified, the default labelling system is used.\n"
     ]
    },
    {
     "name": "stdout",
     "output_type": "stream",
     "text": [
      "Hierarchical Time Series \n",
      "2 Levels \n",
      "Number of nodes at each level: 1 21 \n",
      "Total number of series: 22 \n",
      "Number of observations per series: 8 \n",
      "Top level series: \n",
      "Time Series:\n",
      "Start = 29 \n",
      "End = 36 \n",
      "Frequency = 1 \n",
      "[1] 16364.25 16331.79 16307.58 16301.76 16311.15 16329.95 16353.56 16379.50\n",
      "Hierarchical Time Series \n",
      "2 Levels \n",
      "Number of nodes at each level: 1 21 \n",
      "Total number of series: 22 \n",
      "Number of observations per series: 8 \n",
      "Top level series: \n",
      "Time Series:\n",
      "Start = 37 \n",
      "End = 44 \n",
      "Frequency = 1 \n",
      "[1] 16316.98 16522.48 16733.98 16809.04 16949.40 17070.24 17129.69 17147.05\n",
      "|[1] 13 40 41 48\n"
     ]
    },
    {
     "name": "stderr",
     "output_type": "stream",
     "text": [
      "Since argument characters are not specified, the default labelling system is used.\n"
     ]
    },
    {
     "name": "stdout",
     "output_type": "stream",
     "text": [
      "Hierarchical Time Series \n",
      "2 Levels \n",
      "Number of nodes at each level: 1 21 \n",
      "Total number of series: 22 \n",
      "Number of observations per series: 8 \n",
      "Top level series: \n",
      "Time Series:\n",
      "Start = 29 \n",
      "End = 36 \n",
      "Frequency = 1 \n",
      "[1] 16801.63 16773.81 16766.96 16791.95 16841.81 16903.65 16966.61 17024.71\n",
      "Hierarchical Time Series \n",
      "2 Levels \n",
      "Number of nodes at each level: 1 21 \n",
      "Total number of series: 22 \n",
      "Number of observations per series: 8 \n",
      "Top level series: \n",
      "Time Series:\n",
      "Start = 41 \n",
      "End = 48 \n",
      "Frequency = 1 \n",
      "[1] 16949.40 17070.24 17129.69 17147.05 17237.31 17306.78 17369.38 17427.95\n",
      "|[1] 17 44 45 52\n"
     ]
    },
    {
     "name": "stderr",
     "output_type": "stream",
     "text": [
      "Since argument characters are not specified, the default labelling system is used.\n"
     ]
    },
    {
     "name": "stdout",
     "output_type": "stream",
     "text": [
      "Hierarchical Time Series \n",
      "2 Levels \n",
      "Number of nodes at each level: 1 21 \n",
      "Total number of series: 22 \n",
      "Number of observations per series: 8 \n",
      "Top level series: \n",
      "Time Series:\n",
      "Start = 29 \n",
      "End = 36 \n",
      "Frequency = 1 \n",
      "[1] 17203.46 17269.23 17343.64 17419.00 17494.03 17568.53 17643.00 17717.52\n",
      "Hierarchical Time Series \n",
      "2 Levels \n",
      "Number of nodes at each level: 1 21 \n",
      "Total number of series: 22 \n",
      "Number of observations per series: 8 \n",
      "Top level series: \n",
      "Time Series:\n",
      "Start = 45 \n",
      "End = 52 \n",
      "Frequency = 1 \n",
      "[1] 17237.31 17306.78 17369.38 17427.95 17501.51 17637.46 17757.34 17851.87\n",
      "[1] 21 48 49 56\n"
     ]
    },
    {
     "name": "stderr",
     "output_type": "stream",
     "text": [
      "Since argument characters are not specified, the default labelling system is used.\n"
     ]
    },
    {
     "name": "stdout",
     "output_type": "stream",
     "text": [
      "Hierarchical Time Series \n",
      "2 Levels \n",
      "Number of nodes at each level: 1 21 \n",
      "Total number of series: 22 \n",
      "Number of observations per series: 8 \n",
      "Top level series: \n",
      "Time Series:\n",
      "Start = 29 \n",
      "End = 36 \n",
      "Frequency = 1 \n",
      "[1] 17411.19 17499.66 17575.74 17653.26 17732.18 17813.65 17896.18 17979.33\n",
      "Hierarchical Time Series \n",
      "2 Levels \n",
      "Number of nodes at each level: 1 21 \n",
      "Total number of series: 22 \n",
      "Number of observations per series: 8 \n",
      "Top level series: \n",
      "Time Series:\n",
      "Start = 47 \n",
      "End = 54 \n",
      "Frequency = 1 \n",
      "[1] 17369.38 17427.95 17501.51 17637.46 17757.34 17851.87 17934.57 18122.00\n"
     ]
    }
   ],
   "source": [
    "l <- ac <- m_top  <- l_test  <-  l_top  <-  list()\n",
    "\n",
    "df_ac  <-  data.frame(matrix(ncol = 0, nrow = 0))\n",
    "\n",
    "k  <- 0\n",
    "\n",
    "for (i in 0:(var_iter*var_allornot - var_shift)){\n",
    "    k  <-  k+1\n",
    "    st_year  <-  var_start_year + i/var_allornot\n",
    "    train_start  <- st_year \n",
    "    train_end  <- st_year + 1/var_freq*(var_window)\n",
    "    test_start  <- st_year + 1/var_freq*(var_window+1) \n",
    "    test_end  <-  st_year + 1/var_freq*(var_window+var_h)\n",
    "    \n",
    "    dates  <-  (c(train_start, train_end, test_start, test_end, train_start-var_topup/var_freq, train_end-var_topup/var_freq, test_start-var_topup/var_freq)-var_start_year)*var_freq+1\n",
    "    \n",
    "    train_start  <- dates[1] \n",
    "    train_end  <- dates[2]\n",
    "    test_start  <- dates[3]\n",
    "    test_end  <- dates[4]\n",
    "    \n",
    "    print(c(train_start, train_end, test_start, test_end))\n",
    "    \n",
    "    \n",
    "    if (i == 0){\n",
    "        gts_train <- window(y, end=train_end)    \n",
    "    }\n",
    "    else{\n",
    "        if ((var_shift == 0) & (i == var_iter*var_allornot - var_shift)){\n",
    "            gts_train <- window(y, start=dates[5], end=dates[6])\n",
    "        }else{\n",
    "            gts_train <- window(y, start=train_start, end=train_end)\n",
    "    }}\n",
    "    \n",
    "    if ((var_shift == 0) & (i == var_iter*var_allornot - var_shift)){\n",
    "        gts_test <- window(y, start=dates[7])\n",
    "      \n",
    "    }else{  \n",
    "     gts_test <- window(y, start=test_start, end=test_end)\n",
    "          \n",
    "    }\n",
    "    \n",
    "    \n",
    "    allts <- aggts(gts_train)\n",
    "    \n",
    "    ms <-  foreach(j=1:ncol(allts)) %dopar% {\n",
    "        model  <- tryCatch(        \n",
    "        Arima(msts(allts[,j], seasonal.periods = var_freq), order=var_arpdq, seasonal=var_sarpdq,  include.drift = var_drift, include.mean = var_constant, method=\"ML\"), \n",
    "            error = function(e) \n",
    "#                               {tryCatch( \n",
    "                Arima(msts(allts[,j], seasonal.periods = var_freq), order=var_arpdq, seasonal=var_sarpdq, include.drift = var_drift, include.mean = var_constant, method=\"CSS\") #,\n",
    "#                          error = function(e)              \n",
    "#                             auto.arima(msts(allts[,j], seasonal.periods = var_freq))\n",
    "#                          )}\n",
    "                        \n",
    "            )\n",
    "        \n",
    "    }\n",
    "    \n",
    "     \n",
    "        \n",
    "    allf <- matrix(, nrow=var_h, ncol=ncol(allts))\n",
    "        \n",
    "    \n",
    "    for(j in 1:ncol(allts)){  \n",
    "    allf[,j] <- forecast(ms[[j]], h=var_h)$mean\n",
    "    \n",
    "    \n",
    "    }\n",
    "\n",
    "    \n",
    "    allf <- ts(allf)\n",
    "    colnames(allf)  <-  colnames(allts)  \n",
    "    g <- get_nodes(gts_train)\n",
    "    y.f <- combinef(allf, nodes = g, weights = c(0,rep(1, dim(df_eu)[2])))\n",
    "    forecasts_7  <- y.f[[1]]\n",
    "    colnames(forecasts_7)  <- colnames(y[[1]])\n",
    "    data_f5  <- rbind(gts_train[[1]], forecasts_7)\n",
    "    y_f5  <- hts(data_f5)\n",
    "        \n",
    "#     if (i == 4){\n",
    "#         gts_forecasts_7 <- window(y_f5, start=test_start)}\n",
    "#     else{\n",
    "#     gts_forecasts_7 <- window(y_f5, start=test_start, end=test_end)\n",
    "# #     }\n",
    "\n",
    "#     if ((var_shift == 0) & (i == var_iter*var_allornot - var_shift)){\n",
    "#         gts_forecasts_7 <- window(y_f5, start=dates[7])\n",
    "      \n",
    "#     }else{  \n",
    "     gts_forecasts_7 <- window(y_f5, start=dim(y_f5[[1]])[1]-var_h+1)\n",
    "          \n",
    "#     }\n",
    "         \n",
    "    print(gts_forecasts_7)\n",
    "    print(gts_test)\n",
    "            \n",
    "    \n",
    "    l[[k]]  <- allf\n",
    "\n",
    "    ac[[k]]  <-  accuracy.gts(gts_forecasts_7, gts_test)[, 1] \n",
    "\n",
    "    progress(i, progress.bar = TRUE)\n",
    "            \n",
    "    }"
   ]
  },
  {
   "cell_type": "code",
   "execution_count": 38,
   "metadata": {},
   "outputs": [],
   "source": [
    "var_acc_metrics  <-  c(1,2,4)\n",
    "df_acc_test  <- ac[[1]][var_acc_metrics]\n",
    "for (i in ac[2:length(ac)]){\n",
    "    x  <-  i[var_acc_metrics]\n",
    "    df_acc_test   <-  cbind(df_acc_test, x)\n",
    "}\n",
    "df_acc_test  <- t(df_acc_test)\n",
    "df_acc_test  <-  as.data.frame(df_acc_test)\n",
    "row.names(df_acc_test)  <-  seq(1,length(ac))\n",
    "df_acc  <- df_acc_test\n",
    "df_acc  <-  cbind(df_acc, seq(1, length(ac)))\n",
    "colnames(df_acc)[length(var_acc_metrics)+1]  <-  'Iteration'"
   ]
  },
  {
   "cell_type": "code",
   "execution_count": 39,
   "metadata": {},
   "outputs": [],
   "source": [
    "df_acc$Iteration  <-  df_acc$Iteration*var_freq-(var_freq-1)\n",
    "df_acc$Iteration[length(df_acc$Iteration)]  <-   df_acc$Iteration[length(df_acc$Iteration)] - var_topup"
   ]
  },
  {
   "cell_type": "code",
   "execution_count": 40,
   "metadata": {},
   "outputs": [
    {
     "data": {
      "text/html": [
       "<table>\n",
       "<thead><tr><th scope=col>ME</th><th scope=col>RMSE</th><th scope=col>MAPE</th><th scope=col>Iteration</th></tr></thead>\n",
       "<tbody>\n",
       "\t<tr><td>295.990437</td><td>348.38435 </td><td>1.8288074 </td><td> 1        </td></tr>\n",
       "\t<tr><td>336.788796</td><td>385.40574 </td><td>2.0362203 </td><td> 5        </td></tr>\n",
       "\t<tr><td>499.912785</td><td>572.78131 </td><td>3.0149054 </td><td> 9        </td></tr>\n",
       "\t<tr><td>345.833838</td><td>355.51645 </td><td>2.0066491 </td><td>13        </td></tr>\n",
       "\t<tr><td> 53.898772</td><td> 70.02536 </td><td>0.3053663 </td><td>17        </td></tr>\n",
       "\t<tr><td>  5.113081</td><td> 67.61253 </td><td>0.3153757 </td><td>19        </td></tr>\n",
       "</tbody>\n",
       "</table>\n"
      ],
      "text/latex": [
       "\\begin{tabular}{r|llll}\n",
       " ME & RMSE & MAPE & Iteration\\\\\n",
       "\\hline\n",
       "\t 295.990437 & 348.38435  & 1.8288074  &  1        \\\\\n",
       "\t 336.788796 & 385.40574  & 2.0362203  &  5        \\\\\n",
       "\t 499.912785 & 572.78131  & 3.0149054  &  9        \\\\\n",
       "\t 345.833838 & 355.51645  & 2.0066491  & 13        \\\\\n",
       "\t  53.898772 &  70.02536  & 0.3053663  & 17        \\\\\n",
       "\t   5.113081 &  67.61253  & 0.3153757  & 19        \\\\\n",
       "\\end{tabular}\n"
      ],
      "text/markdown": [
       "\n",
       "ME | RMSE | MAPE | Iteration | \n",
       "|---|---|---|---|---|---|\n",
       "| 295.990437 | 348.38435  | 1.8288074  |  1         | \n",
       "| 336.788796 | 385.40574  | 2.0362203  |  5         | \n",
       "| 499.912785 | 572.78131  | 3.0149054  |  9         | \n",
       "| 345.833838 | 355.51645  | 2.0066491  | 13         | \n",
       "|  53.898772 |  70.02536  | 0.3053663  | 17         | \n",
       "|   5.113081 |  67.61253  | 0.3153757  | 19         | \n",
       "\n",
       "\n"
      ],
      "text/plain": [
       "  ME         RMSE      MAPE      Iteration\n",
       "1 295.990437 348.38435 1.8288074  1       \n",
       "2 336.788796 385.40574 2.0362203  5       \n",
       "3 499.912785 572.78131 3.0149054  9       \n",
       "4 345.833838 355.51645 2.0066491 13       \n",
       "5  53.898772  70.02536 0.3053663 17       \n",
       "6   5.113081  67.61253 0.3153757 19       "
      ]
     },
     "metadata": {},
     "output_type": "display_data"
    }
   ],
   "source": [
    "df_acc"
   ]
  },
  {
   "cell_type": "code",
   "execution_count": 41,
   "metadata": {},
   "outputs": [
    {
     "data": {
      "text/plain": [
       "Time Series:\n",
       "Start = 1 \n",
       "End = 8 \n",
       "Frequency = 1 \n",
       "[1] 17201.85 17263.46 17329.96 17399.85 17472.09 17545.94 17620.93 17696.69"
      ]
     },
     "metadata": {},
     "output_type": "display_data"
    }
   ],
   "source": [
    "l[[5]][,1]"
   ]
  },
  {
   "cell_type": "code",
   "execution_count": 42,
   "metadata": {},
   "outputs": [
    {
     "data": {
      "text/plain": [
       "         Qtr1     Qtr2     Qtr3     Qtr4\n",
       "2005 14810.82 14901.49 15022.51 15101.40\n",
       "2006 15314.55 15358.25 15361.53 15464.20\n",
       "2007 15476.48 15549.12 15617.51 15731.15\n",
       "2008 15625.38 15697.53 15581.97 15215.99\n",
       "2009 15077.69 15056.99 15107.67 15245.91\n",
       "2010 15272.78 15415.95 15513.26 15593.13\n",
       "2011 15535.51 15632.94 15617.13 15821.82\n",
       "2012 15927.61 15976.18 15983.30 15994.87\n",
       "2013 16128.30 16136.38 16254.91 16372.60\n",
       "2014 16316.98 16522.48 16733.98 16809.04\n",
       "2015 16949.40 17070.24 17129.69 17147.05\n",
       "2016 17237.31 17306.78 17369.38 17427.95\n",
       "2017 17501.51 17637.46 17757.34 17851.87\n",
       "2018 17934.57 18122.00                  "
      ]
     },
     "metadata": {},
     "output_type": "display_data"
    }
   ],
   "source": [
    "gdp_agg"
   ]
  },
  {
   "cell_type": "code",
   "execution_count": 43,
   "metadata": {},
   "outputs": [
    {
     "data": {
      "text/html": [
       "<dl class=dl-horizontal>\n",
       "\t<dt>ME</dt>\n",
       "\t\t<dd>256.256284819113</dd>\n",
       "\t<dt>RMSE</dt>\n",
       "\t\t<dd>299.954290140296</dd>\n",
       "\t<dt>MAPE</dt>\n",
       "\t\t<dd>1.5845540153692</dd>\n",
       "\t<dt>Iteration</dt>\n",
       "\t\t<dd>10.6666666666667</dd>\n",
       "</dl>\n"
      ],
      "text/latex": [
       "\\begin{description*}\n",
       "\\item[ME] 256.256284819113\n",
       "\\item[RMSE] 299.954290140296\n",
       "\\item[MAPE] 1.5845540153692\n",
       "\\item[Iteration] 10.6666666666667\n",
       "\\end{description*}\n"
      ],
      "text/markdown": [
       "ME\n",
       ":   256.256284819113RMSE\n",
       ":   299.954290140296MAPE\n",
       ":   1.5845540153692Iteration\n",
       ":   10.6666666666667\n",
       "\n"
      ],
      "text/plain": [
       "        ME       RMSE       MAPE  Iteration \n",
       "256.256285 299.954290   1.584554  10.666667 "
      ]
     },
     "metadata": {},
     "output_type": "display_data"
    }
   ],
   "source": [
    "colMeans(df_acc)"
   ]
  },
  {
   "cell_type": "code",
   "execution_count": 44,
   "metadata": {},
   "outputs": [],
   "source": [
    "# df_mean_acc <- readRDS(\"df_mean_acc.rds\")\n",
    "# rownames(df_mean_acc)[2:5]  <-  c('3 level', '2 level (state)', '2 level (type)' ,'2 level (clusetered)' )"
   ]
  },
  {
   "cell_type": "code",
   "execution_count": 45,
   "metadata": {},
   "outputs": [
    {
     "data": {
      "text/html": [
       "<table>\n",
       "<thead><tr><th></th><th scope=col>Квартальные</th><th scope=col>Сезонно сглаженные</th><th scope=col>Месячные</th></tr></thead>\n",
       "<tbody>\n",
       "\t<tr><th scope=row>1 level</th><td>64.30372</td><td>299.5702</td><td>15884.63</td></tr>\n",
       "\t<tr><th scope=row>3 level</th><td>66.31314</td><td>283.3258</td><td>15346.86</td></tr>\n",
       "\t<tr><th scope=row>2 level (state)</th><td>67.92739</td><td>266.6368</td><td>15342.24</td></tr>\n",
       "\t<tr><th scope=row>2 level (type)</th><td>63.95990</td><td>299.4158</td><td>15511.31</td></tr>\n",
       "\t<tr><th scope=row>2 level (clusetered)</th><td>67.09557</td><td>297.5359</td><td>15338.88</td></tr>\n",
       "</tbody>\n",
       "</table>\n"
      ],
      "text/latex": [
       "\\begin{tabular}{r|lll}\n",
       "  & Квартальные & Сезонно сглаженные & Месячные\\\\\n",
       "\\hline\n",
       "\t1 level & 64.30372 & 299.5702 & 15884.63\\\\\n",
       "\t3 level & 66.31314 & 283.3258 & 15346.86\\\\\n",
       "\t2 level (state) & 67.92739 & 266.6368 & 15342.24\\\\\n",
       "\t2 level (type) & 63.95990 & 299.4158 & 15511.31\\\\\n",
       "\t2 level (clusetered) & 67.09557 & 297.5359 & 15338.88\\\\\n",
       "\\end{tabular}\n"
      ],
      "text/markdown": [
       "\n",
       "| <!--/--> | Квартальные | Сезонно сглаженные | Месячные | \n",
       "|---|---|---|---|---|\n",
       "| 1 level | 64.30372 | 299.5702 | 15884.63 | \n",
       "| 3 level | 66.31314 | 283.3258 | 15346.86 | \n",
       "| 2 level (state) | 67.92739 | 266.6368 | 15342.24 | \n",
       "| 2 level (type) | 63.95990 | 299.4158 | 15511.31 | \n",
       "| 2 level (clusetered) | 67.09557 | 297.5359 | 15338.88 | \n",
       "\n",
       "\n"
      ],
      "text/plain": [
       "                     Квартальные Сезонно сглаженные Месячные\n",
       "1 level              64.30372    299.5702           15884.63\n",
       "3 level              66.31314    283.3258           15346.86\n",
       "2 level (state)      67.92739    266.6368           15342.24\n",
       "2 level (type)       63.95990    299.4158           15511.31\n",
       "2 level (clusetered) 67.09557    297.5359           15338.88"
      ]
     },
     "metadata": {},
     "output_type": "display_data"
    }
   ],
   "source": [
    "df_mean_acc"
   ]
  },
  {
   "cell_type": "code",
   "execution_count": 46,
   "metadata": {},
   "outputs": [
    {
     "data": {
      "text/html": [
       "<table>\n",
       "<thead><tr><th></th><th scope=col>Квартальные</th><th scope=col>Сезонно сглаженные</th><th scope=col>Месячные</th></tr></thead>\n",
       "<tbody>\n",
       "\t<tr><th scope=row>1 level</th><td>64.30372</td><td>299.5702</td><td>15884.63</td></tr>\n",
       "\t<tr><th scope=row>3 level</th><td>66.31314</td><td>283.3258</td><td>15346.86</td></tr>\n",
       "\t<tr><th scope=row>2 level (state)</th><td>67.92739</td><td>266.6368</td><td>15342.24</td></tr>\n",
       "\t<tr><th scope=row>2 level (type)</th><td>63.95990</td><td>299.9543</td><td>15511.31</td></tr>\n",
       "\t<tr><th scope=row>2 level (clusetered)</th><td>67.09557</td><td>297.5359</td><td>15338.88</td></tr>\n",
       "</tbody>\n",
       "</table>\n"
      ],
      "text/latex": [
       "\\begin{tabular}{r|lll}\n",
       "  & Квартальные & Сезонно сглаженные & Месячные\\\\\n",
       "\\hline\n",
       "\t1 level & 64.30372 & 299.5702 & 15884.63\\\\\n",
       "\t3 level & 66.31314 & 283.3258 & 15346.86\\\\\n",
       "\t2 level (state) & 67.92739 & 266.6368 & 15342.24\\\\\n",
       "\t2 level (type) & 63.95990 & 299.9543 & 15511.31\\\\\n",
       "\t2 level (clusetered) & 67.09557 & 297.5359 & 15338.88\\\\\n",
       "\\end{tabular}\n"
      ],
      "text/markdown": [
       "\n",
       "| <!--/--> | Квартальные | Сезонно сглаженные | Месячные | \n",
       "|---|---|---|---|---|\n",
       "| 1 level | 64.30372 | 299.5702 | 15884.63 | \n",
       "| 3 level | 66.31314 | 283.3258 | 15346.86 | \n",
       "| 2 level (state) | 67.92739 | 266.6368 | 15342.24 | \n",
       "| 2 level (type) | 63.95990 | 299.9543 | 15511.31 | \n",
       "| 2 level (clusetered) | 67.09557 | 297.5359 | 15338.88 | \n",
       "\n",
       "\n"
      ],
      "text/plain": [
       "                     Квартальные Сезонно сглаженные Месячные\n",
       "1 level              64.30372    299.5702           15884.63\n",
       "3 level              66.31314    283.3258           15346.86\n",
       "2 level (state)      67.92739    266.6368           15342.24\n",
       "2 level (type)       63.95990    299.9543           15511.31\n",
       "2 level (clusetered) 67.09557    297.5359           15338.88"
      ]
     },
     "metadata": {},
     "output_type": "display_data"
    }
   ],
   "source": [
    "df_mean_acc[4,2]  <-  colMeans(df_acc)[[2]] \n",
    "df_mean_acc"
   ]
  },
  {
   "cell_type": "markdown",
   "metadata": {},
   "source": [
    "#### 2 clust"
   ]
  },
  {
   "cell_type": "code",
   "execution_count": 47,
   "metadata": {},
   "outputs": [],
   "source": [
    "df_eu  <-  read.csv(file=\"../clustering/hts_us_ind_filled_clust.csv\", header=TRUE, sep=\",\", row.names =1 )\n",
    "df_eu  <-  df_eu/1000\n"
   ]
  },
  {
   "cell_type": "code",
   "execution_count": 48,
   "metadata": {},
   "outputs": [],
   "source": [
    "# var_allornot  <- var_freq\n",
    "var_allornot  <- 1\n",
    "# var_shift  <-  var_topup\n",
    "var_shift  <-  0"
   ]
  },
  {
   "cell_type": "code",
   "execution_count": 49,
   "metadata": {},
   "outputs": [
    {
     "name": "stderr",
     "output_type": "stream",
     "text": [
      "Since argument characters are not specified, the default labelling system is used.\n"
     ]
    }
   ],
   "source": [
    "df_eu  <-  as.data.table(df_eu)\n",
    "data  <-  df_eu\n",
    "y  <-  hts(data)\n",
    "s  <-  smatrix(y)\n",
    "# gts_train  <- window(y, start=20, end=67)\n",
    "# gts_test  <- window(y, start=68, end=75)\n",
    "allts <- aggts(y)\n",
    "allf <- matrix(, nrow=var_h, ncol=ncol(allts))"
   ]
  },
  {
   "cell_type": "code",
   "execution_count": 50,
   "metadata": {},
   "outputs": [
    {
     "name": "stdout",
     "output_type": "stream",
     "text": [
      "[1]  1 28 29 36\n"
     ]
    },
    {
     "name": "stderr",
     "output_type": "stream",
     "text": [
      "Since argument characters are not specified, the default labelling system is used.\n"
     ]
    },
    {
     "name": "stdout",
     "output_type": "stream",
     "text": [
      "Hierarchical Time Series \n",
      "2 Levels \n",
      "Number of nodes at each level: 1 25 \n",
      "Total number of series: 26 \n",
      "Number of observations per series: 8 \n",
      "Top level series: \n",
      "Time Series:\n",
      "Start = 29 \n",
      "End = 36 \n",
      "Frequency = 1 \n",
      "[1] 15899.52 15927.66 15938.13 15942.30 15945.46 15950.82 15960.44 15975.39\n",
      "Hierarchical Time Series \n",
      "2 Levels \n",
      "Number of nodes at each level: 1 25 \n",
      "Total number of series: 26 \n",
      "Number of observations per series: 8 \n",
      "Top level series: \n",
      "Time Series:\n",
      "Start = 29 \n",
      "End = 36 \n",
      "Frequency = 1 \n",
      "[1] 15927.61 15976.18 15983.30 15994.87 16128.30 16136.38 16254.91 16372.60\n",
      "          0%---------25%---------50%---------75%--------100%\n",
      "Progress: [1]  5 32 33 40\n"
     ]
    },
    {
     "name": "stderr",
     "output_type": "stream",
     "text": [
      "Since argument characters are not specified, the default labelling system is used.\n"
     ]
    },
    {
     "name": "stdout",
     "output_type": "stream",
     "text": [
      "Hierarchical Time Series \n",
      "2 Levels \n",
      "Number of nodes at each level: 1 25 \n",
      "Total number of series: 26 \n",
      "Number of observations per series: 8 \n",
      "Top level series: \n",
      "Time Series:\n",
      "Start = 29 \n",
      "End = 36 \n",
      "Frequency = 1 \n",
      "[1] 16019.31 16032.23 16044.35 16058.88 16076.80 16097.98 16122.26 16149.68\n",
      "Hierarchical Time Series \n",
      "2 Levels \n",
      "Number of nodes at each level: 1 25 \n",
      "Total number of series: 26 \n",
      "Number of observations per series: 8 \n",
      "Top level series: \n",
      "Time Series:\n",
      "Start = 33 \n",
      "End = 40 \n",
      "Frequency = 1 \n",
      "[1] 16128.30 16136.38 16254.91 16372.60 16316.98 16522.48 16733.98 16809.04\n",
      "[1]  9 36 37 44\n"
     ]
    },
    {
     "name": "stderr",
     "output_type": "stream",
     "text": [
      "Since argument characters are not specified, the default labelling system is used.\n"
     ]
    },
    {
     "name": "stdout",
     "output_type": "stream",
     "text": [
      "Hierarchical Time Series \n",
      "2 Levels \n",
      "Number of nodes at each level: 1 25 \n",
      "Total number of series: 26 \n",
      "Number of observations per series: 8 \n",
      "Top level series: \n",
      "Time Series:\n",
      "Start = 29 \n",
      "End = 36 \n",
      "Frequency = 1 \n",
      "[1] 16426.41 16438.54 16429.34 16412.31 16396.65 16388.94 16393.74 16413.81\n",
      "Hierarchical Time Series \n",
      "2 Levels \n",
      "Number of nodes at each level: 1 25 \n",
      "Total number of series: 26 \n",
      "Number of observations per series: 8 \n",
      "Top level series: \n",
      "Time Series:\n",
      "Start = 37 \n",
      "End = 44 \n",
      "Frequency = 1 \n",
      "[1] 16316.98 16522.48 16733.98 16809.04 16949.40 17070.24 17129.69 17147.05\n",
      "|[1] 13 40 41 48\n"
     ]
    },
    {
     "name": "stderr",
     "output_type": "stream",
     "text": [
      "Since argument characters are not specified, the default labelling system is used.\n"
     ]
    },
    {
     "name": "stdout",
     "output_type": "stream",
     "text": [
      "Hierarchical Time Series \n",
      "2 Levels \n",
      "Number of nodes at each level: 1 25 \n",
      "Total number of series: 26 \n",
      "Number of observations per series: 8 \n",
      "Top level series: \n",
      "Time Series:\n",
      "Start = 29 \n",
      "End = 36 \n",
      "Frequency = 1 \n",
      "[1] 16844.99 16871.42 16908.54 16958.86 17016.98 17076.20 17131.92 17182.59\n",
      "Hierarchical Time Series \n",
      "2 Levels \n",
      "Number of nodes at each level: 1 25 \n",
      "Total number of series: 26 \n",
      "Number of observations per series: 8 \n",
      "Top level series: \n",
      "Time Series:\n",
      "Start = 41 \n",
      "End = 48 \n",
      "Frequency = 1 \n",
      "[1] 16949.40 17070.24 17129.69 17147.05 17237.31 17306.78 17369.38 17427.95\n",
      "|[1] 17 44 45 52\n"
     ]
    },
    {
     "name": "stderr",
     "output_type": "stream",
     "text": [
      "Since argument characters are not specified, the default labelling system is used.\n"
     ]
    },
    {
     "name": "stdout",
     "output_type": "stream",
     "text": [
      "Hierarchical Time Series \n",
      "2 Levels \n",
      "Number of nodes at each level: 1 25 \n",
      "Total number of series: 26 \n",
      "Number of observations per series: 8 \n",
      "Top level series: \n",
      "Time Series:\n",
      "Start = 29 \n",
      "End = 36 \n",
      "Frequency = 1 \n",
      "[1] 17195.66 17263.37 17333.93 17402.52 17469.66 17537.21 17606.25 17676.74\n",
      "Hierarchical Time Series \n",
      "2 Levels \n",
      "Number of nodes at each level: 1 25 \n",
      "Total number of series: 26 \n",
      "Number of observations per series: 8 \n",
      "Top level series: \n",
      "Time Series:\n",
      "Start = 45 \n",
      "End = 52 \n",
      "Frequency = 1 \n",
      "[1] 17237.31 17306.78 17369.38 17427.95 17501.51 17637.46 17757.34 17851.87\n",
      "[1] 21 48 49 56\n"
     ]
    },
    {
     "name": "stderr",
     "output_type": "stream",
     "text": [
      "Since argument characters are not specified, the default labelling system is used.\n"
     ]
    },
    {
     "name": "stdout",
     "output_type": "stream",
     "text": [
      "Hierarchical Time Series \n",
      "2 Levels \n",
      "Number of nodes at each level: 1 25 \n",
      "Total number of series: 26 \n",
      "Number of observations per series: 8 \n",
      "Top level series: \n",
      "Time Series:\n",
      "Start = 29 \n",
      "End = 36 \n",
      "Frequency = 1 \n",
      "[1] 17386.08 17465.36 17542.97 17621.64 17701.64 17782.60 17864.00 17945.57\n",
      "Hierarchical Time Series \n",
      "2 Levels \n",
      "Number of nodes at each level: 1 25 \n",
      "Total number of series: 26 \n",
      "Number of observations per series: 8 \n",
      "Top level series: \n",
      "Time Series:\n",
      "Start = 47 \n",
      "End = 54 \n",
      "Frequency = 1 \n",
      "[1] 17369.38 17427.95 17501.51 17637.46 17757.34 17851.87 17934.57 18122.00\n"
     ]
    }
   ],
   "source": [
    "l <- ac <- m_top  <- l_test  <-  l_top  <-  list()\n",
    "\n",
    "df_ac  <-  data.frame(matrix(ncol = 0, nrow = 0))\n",
    "\n",
    "k  <- 0\n",
    "\n",
    "for (i in 0:(var_iter*var_allornot - var_shift)){\n",
    "    k  <-  k+1\n",
    "    st_year  <-  var_start_year + i/var_allornot\n",
    "    train_start  <- st_year \n",
    "    train_end  <- st_year + 1/var_freq*(var_window)\n",
    "    test_start  <- st_year + 1/var_freq*(var_window+1) \n",
    "    test_end  <-  st_year + 1/var_freq*(var_window+var_h)\n",
    "    \n",
    "    dates  <-  (c(train_start, train_end, test_start, test_end, train_start-var_topup/var_freq, train_end-var_topup/var_freq, test_start-var_topup/var_freq)-var_start_year)*var_freq+1\n",
    "    \n",
    "    train_start  <- dates[1] \n",
    "    train_end  <- dates[2]\n",
    "    test_start  <- dates[3]\n",
    "    test_end  <- dates[4]\n",
    "    \n",
    "    print(c(train_start, train_end, test_start, test_end))\n",
    "    \n",
    "    \n",
    "    if (i == 0){\n",
    "        gts_train <- window(y, end=train_end)    \n",
    "    }\n",
    "    else{\n",
    "        if ((var_shift == 0) & (i == var_iter*var_allornot - var_shift)){\n",
    "            gts_train <- window(y, start=dates[5], end=dates[6])\n",
    "        }else{\n",
    "            gts_train <- window(y, start=train_start, end=train_end)\n",
    "    }}\n",
    "    \n",
    "    if ((var_shift == 0) & (i == var_iter*var_allornot - var_shift)){\n",
    "        gts_test <- window(y, start=dates[7])\n",
    "      \n",
    "    }else{  \n",
    "     gts_test <- window(y, start=test_start, end=test_end)\n",
    "          \n",
    "    }\n",
    "    \n",
    "    \n",
    "    allts <- aggts(gts_train)\n",
    "    \n",
    "    ms <-  foreach(j=1:ncol(allts)) %dopar% {\n",
    "        model  <- tryCatch(        \n",
    "        Arima(msts(allts[,j], seasonal.periods = var_freq), order=var_arpdq, seasonal=var_sarpdq,  include.drift = var_drift, include.mean = var_constant, method=\"ML\"), \n",
    "            error = function(e) \n",
    "#                               {tryCatch( \n",
    "                Arima(msts(allts[,j], seasonal.periods = var_freq), order=var_arpdq, seasonal=var_sarpdq, include.drift = var_drift, include.mean = var_constant, method=\"CSS\") #,\n",
    "#                          error = function(e)              \n",
    "#                             auto.arima(msts(allts[,j], seasonal.periods = var_freq))\n",
    "#                          )}\n",
    "                        \n",
    "            )\n",
    "        \n",
    "    }\n",
    "    \n",
    "     \n",
    "        \n",
    "    allf <- matrix(, nrow=var_h, ncol=ncol(allts))\n",
    "        \n",
    "    \n",
    "    for(j in 1:ncol(allts)){  \n",
    "    allf[,j] <- forecast(ms[[j]], h=var_h)$mean\n",
    "    \n",
    "    \n",
    "    }\n",
    "\n",
    "    \n",
    "    allf <- ts(allf)\n",
    "    colnames(allf)  <-  colnames(allts)  \n",
    "    g <- get_nodes(gts_train)\n",
    "    y.f <- combinef(allf, nodes = g, weights = c(0,rep(1, dim(df_eu)[2])))\n",
    "    forecasts_7  <- y.f[[1]]\n",
    "    colnames(forecasts_7)  <- colnames(y[[1]])\n",
    "    data_f5  <- rbind(gts_train[[1]], forecasts_7)\n",
    "    y_f5  <- hts(data_f5)\n",
    "        \n",
    "#     if (i == 4){\n",
    "#         gts_forecasts_7 <- window(y_f5, start=test_start)}\n",
    "#     else{\n",
    "#     gts_forecasts_7 <- window(y_f5, start=test_start, end=test_end)\n",
    "# #     }\n",
    "\n",
    "#     if ((var_shift == 0) & (i == var_iter*var_allornot - var_shift)){\n",
    "#         gts_forecasts_7 <- window(y_f5, start=dates[7])\n",
    "      \n",
    "#     }else{  \n",
    "     gts_forecasts_7 <- window(y_f5, start=dim(y_f5[[1]])[1]-var_h+1)\n",
    "          \n",
    "#     }\n",
    "         \n",
    "    print(gts_forecasts_7)\n",
    "    print(gts_test)\n",
    "            \n",
    "    \n",
    "    l[[k]]  <- allf\n",
    "\n",
    "    ac[[k]]  <-  accuracy.gts(gts_forecasts_7, gts_test)[, 1] \n",
    "\n",
    "    progress(i, progress.bar = TRUE)\n",
    "            \n",
    "    }"
   ]
  },
  {
   "cell_type": "code",
   "execution_count": 51,
   "metadata": {},
   "outputs": [],
   "source": [
    "var_acc_metrics  <-  c(1,2,4)\n",
    "df_acc_test  <- ac[[1]][var_acc_metrics]\n",
    "for (i in ac[2:length(ac)]){\n",
    "    x  <-  i[var_acc_metrics]\n",
    "    df_acc_test   <-  cbind(df_acc_test, x)\n",
    "}\n",
    "df_acc_test  <- t(df_acc_test)\n",
    "df_acc_test  <-  as.data.frame(df_acc_test)\n",
    "row.names(df_acc_test)  <-  seq(1,length(ac))\n",
    "df_acc  <- df_acc_test\n",
    "df_acc  <-  cbind(df_acc, seq(1, length(ac)))\n",
    "colnames(df_acc)[length(var_acc_metrics)+1]  <-  'Iteration'"
   ]
  },
  {
   "cell_type": "code",
   "execution_count": 52,
   "metadata": {},
   "outputs": [],
   "source": [
    "df_acc$Iteration  <-  df_acc$Iteration*var_freq-(var_freq-1)\n",
    "df_acc$Iteration[length(df_acc$Iteration)]  <-   df_acc$Iteration[length(df_acc$Iteration)] - var_topup"
   ]
  },
  {
   "cell_type": "code",
   "execution_count": 53,
   "metadata": {},
   "outputs": [
    {
     "data": {
      "text/html": [
       "<table>\n",
       "<thead><tr><th scope=col>ME</th><th scope=col>RMSE</th><th scope=col>MAPE</th><th scope=col>Iteration</th></tr></thead>\n",
       "<tbody>\n",
       "\t<tr><td>154.30445</td><td>200.09374</td><td>0.9515775</td><td> 1       </td></tr>\n",
       "\t<tr><td>334.14755</td><td>389.28117</td><td>2.0190122</td><td> 5       </td></tr>\n",
       "\t<tr><td>422.38911</td><td>514.56031</td><td>2.6480233</td><td> 9       </td></tr>\n",
       "\t<tr><td>205.78734</td><td>210.07584</td><td>1.1943446</td><td>13       </td></tr>\n",
       "\t<tr><td> 75.53105</td><td> 93.59733</td><td>0.4280813</td><td>17       </td></tr>\n",
       "\t<tr><td> 36.52683</td><td> 77.18202</td><td>0.3382661</td><td>19       </td></tr>\n",
       "</tbody>\n",
       "</table>\n"
      ],
      "text/latex": [
       "\\begin{tabular}{r|llll}\n",
       " ME & RMSE & MAPE & Iteration\\\\\n",
       "\\hline\n",
       "\t 154.30445 & 200.09374 & 0.9515775 &  1       \\\\\n",
       "\t 334.14755 & 389.28117 & 2.0190122 &  5       \\\\\n",
       "\t 422.38911 & 514.56031 & 2.6480233 &  9       \\\\\n",
       "\t 205.78734 & 210.07584 & 1.1943446 & 13       \\\\\n",
       "\t  75.53105 &  93.59733 & 0.4280813 & 17       \\\\\n",
       "\t  36.52683 &  77.18202 & 0.3382661 & 19       \\\\\n",
       "\\end{tabular}\n"
      ],
      "text/markdown": [
       "\n",
       "ME | RMSE | MAPE | Iteration | \n",
       "|---|---|---|---|---|---|\n",
       "| 154.30445 | 200.09374 | 0.9515775 |  1        | \n",
       "| 334.14755 | 389.28117 | 2.0190122 |  5        | \n",
       "| 422.38911 | 514.56031 | 2.6480233 |  9        | \n",
       "| 205.78734 | 210.07584 | 1.1943446 | 13        | \n",
       "|  75.53105 |  93.59733 | 0.4280813 | 17        | \n",
       "|  36.52683 |  77.18202 | 0.3382661 | 19        | \n",
       "\n",
       "\n"
      ],
      "text/plain": [
       "  ME        RMSE      MAPE      Iteration\n",
       "1 154.30445 200.09374 0.9515775  1       \n",
       "2 334.14755 389.28117 2.0190122  5       \n",
       "3 422.38911 514.56031 2.6480233  9       \n",
       "4 205.78734 210.07584 1.1943446 13       \n",
       "5  75.53105  93.59733 0.4280813 17       \n",
       "6  36.52683  77.18202 0.3382661 19       "
      ]
     },
     "metadata": {},
     "output_type": "display_data"
    }
   ],
   "source": [
    "df_acc"
   ]
  },
  {
   "cell_type": "code",
   "execution_count": 54,
   "metadata": {},
   "outputs": [
    {
     "data": {
      "text/plain": [
       "Time Series:\n",
       "Start = 1 \n",
       "End = 8 \n",
       "Frequency = 1 \n",
       "[1] 17201.85 17263.46 17329.96 17399.85 17472.09 17545.94 17620.93 17696.69"
      ]
     },
     "metadata": {},
     "output_type": "display_data"
    }
   ],
   "source": [
    "l[[5]][,1]"
   ]
  },
  {
   "cell_type": "code",
   "execution_count": 58,
   "metadata": {},
   "outputs": [
    {
     "data": {
      "text/html": [
       "<dl class=dl-horizontal>\n",
       "\t<dt>ME</dt>\n",
       "\t\t<dd>204.781053842501</dd>\n",
       "\t<dt>RMSE</dt>\n",
       "\t\t<dd>247.465067693259</dd>\n",
       "\t<dt>MAPE</dt>\n",
       "\t\t<dd>1.26321750198047</dd>\n",
       "\t<dt>Iteration</dt>\n",
       "\t\t<dd>10.6666666666667</dd>\n",
       "</dl>\n"
      ],
      "text/latex": [
       "\\begin{description*}\n",
       "\\item[ME] 204.781053842501\n",
       "\\item[RMSE] 247.465067693259\n",
       "\\item[MAPE] 1.26321750198047\n",
       "\\item[Iteration] 10.6666666666667\n",
       "\\end{description*}\n"
      ],
      "text/markdown": [
       "ME\n",
       ":   204.781053842501RMSE\n",
       ":   247.465067693259MAPE\n",
       ":   1.26321750198047Iteration\n",
       ":   10.6666666666667\n",
       "\n"
      ],
      "text/plain": [
       "        ME       RMSE       MAPE  Iteration \n",
       "204.781054 247.465068   1.263218  10.666667 "
      ]
     },
     "metadata": {},
     "output_type": "display_data"
    }
   ],
   "source": [
    "colMeans(df_acc)"
   ]
  },
  {
   "cell_type": "code",
   "execution_count": 87,
   "metadata": {},
   "outputs": [],
   "source": [
    "# df_mean_acc <- readRDS(\"df_mean_acc.rds\")\n",
    "# rownames(df_mean_acc)[2:5]  <-  c('3 level', '2 level (state)', '2 level (type)' ,'2 level (clusetered)' )"
   ]
  },
  {
   "cell_type": "code",
   "execution_count": 56,
   "metadata": {},
   "outputs": [
    {
     "data": {
      "text/html": [
       "<table>\n",
       "<thead><tr><th></th><th scope=col>Квартальные</th><th scope=col>Сезонно сглаженные</th><th scope=col>Месячные</th></tr></thead>\n",
       "<tbody>\n",
       "\t<tr><th scope=row>1 level</th><td>64.30372</td><td>299.5702</td><td>15884.63</td></tr>\n",
       "\t<tr><th scope=row>3 level</th><td>66.31314</td><td>283.3258</td><td>15346.86</td></tr>\n",
       "\t<tr><th scope=row>2 level (state)</th><td>67.92739</td><td>266.6368</td><td>15342.24</td></tr>\n",
       "\t<tr><th scope=row>2 level (type)</th><td>63.95990</td><td>299.9543</td><td>15511.31</td></tr>\n",
       "\t<tr><th scope=row>2 level (clusetered)</th><td>67.09557</td><td>297.5359</td><td>15338.88</td></tr>\n",
       "</tbody>\n",
       "</table>\n"
      ],
      "text/latex": [
       "\\begin{tabular}{r|lll}\n",
       "  & Квартальные & Сезонно сглаженные & Месячные\\\\\n",
       "\\hline\n",
       "\t1 level & 64.30372 & 299.5702 & 15884.63\\\\\n",
       "\t3 level & 66.31314 & 283.3258 & 15346.86\\\\\n",
       "\t2 level (state) & 67.92739 & 266.6368 & 15342.24\\\\\n",
       "\t2 level (type) & 63.95990 & 299.9543 & 15511.31\\\\\n",
       "\t2 level (clusetered) & 67.09557 & 297.5359 & 15338.88\\\\\n",
       "\\end{tabular}\n"
      ],
      "text/markdown": [
       "\n",
       "| <!--/--> | Квартальные | Сезонно сглаженные | Месячные | \n",
       "|---|---|---|---|---|\n",
       "| 1 level | 64.30372 | 299.5702 | 15884.63 | \n",
       "| 3 level | 66.31314 | 283.3258 | 15346.86 | \n",
       "| 2 level (state) | 67.92739 | 266.6368 | 15342.24 | \n",
       "| 2 level (type) | 63.95990 | 299.9543 | 15511.31 | \n",
       "| 2 level (clusetered) | 67.09557 | 297.5359 | 15338.88 | \n",
       "\n",
       "\n"
      ],
      "text/plain": [
       "                     Квартальные Сезонно сглаженные Месячные\n",
       "1 level              64.30372    299.5702           15884.63\n",
       "3 level              66.31314    283.3258           15346.86\n",
       "2 level (state)      67.92739    266.6368           15342.24\n",
       "2 level (type)       63.95990    299.9543           15511.31\n",
       "2 level (clusetered) 67.09557    297.5359           15338.88"
      ]
     },
     "metadata": {},
     "output_type": "display_data"
    }
   ],
   "source": [
    "df_mean_acc"
   ]
  },
  {
   "cell_type": "code",
   "execution_count": 57,
   "metadata": {},
   "outputs": [
    {
     "data": {
      "text/html": [
       "<table>\n",
       "<thead><tr><th></th><th scope=col>Квартальные</th><th scope=col>Сезонно сглаженные</th><th scope=col>Месячные</th></tr></thead>\n",
       "<tbody>\n",
       "\t<tr><th scope=row>1 level</th><td>64.30372</td><td>299.5702</td><td>15884.63</td></tr>\n",
       "\t<tr><th scope=row>3 level</th><td>66.31314</td><td>283.3258</td><td>15346.86</td></tr>\n",
       "\t<tr><th scope=row>2 level (state)</th><td>67.92739</td><td>266.6368</td><td>15342.24</td></tr>\n",
       "\t<tr><th scope=row>2 level (type)</th><td>63.95990</td><td>299.9543</td><td>15511.31</td></tr>\n",
       "\t<tr><th scope=row>2 level (clusetered)</th><td>67.09557</td><td>247.4651</td><td>15338.88</td></tr>\n",
       "</tbody>\n",
       "</table>\n"
      ],
      "text/latex": [
       "\\begin{tabular}{r|lll}\n",
       "  & Квартальные & Сезонно сглаженные & Месячные\\\\\n",
       "\\hline\n",
       "\t1 level & 64.30372 & 299.5702 & 15884.63\\\\\n",
       "\t3 level & 66.31314 & 283.3258 & 15346.86\\\\\n",
       "\t2 level (state) & 67.92739 & 266.6368 & 15342.24\\\\\n",
       "\t2 level (type) & 63.95990 & 299.9543 & 15511.31\\\\\n",
       "\t2 level (clusetered) & 67.09557 & 247.4651 & 15338.88\\\\\n",
       "\\end{tabular}\n"
      ],
      "text/markdown": [
       "\n",
       "| <!--/--> | Квартальные | Сезонно сглаженные | Месячные | \n",
       "|---|---|---|---|---|\n",
       "| 1 level | 64.30372 | 299.5702 | 15884.63 | \n",
       "| 3 level | 66.31314 | 283.3258 | 15346.86 | \n",
       "| 2 level (state) | 67.92739 | 266.6368 | 15342.24 | \n",
       "| 2 level (type) | 63.95990 | 299.9543 | 15511.31 | \n",
       "| 2 level (clusetered) | 67.09557 | 247.4651 | 15338.88 | \n",
       "\n",
       "\n"
      ],
      "text/plain": [
       "                     Квартальные Сезонно сглаженные Месячные\n",
       "1 level              64.30372    299.5702           15884.63\n",
       "3 level              66.31314    283.3258           15346.86\n",
       "2 level (state)      67.92739    266.6368           15342.24\n",
       "2 level (type)       63.95990    299.9543           15511.31\n",
       "2 level (clusetered) 67.09557    247.4651           15338.88"
      ]
     },
     "metadata": {},
     "output_type": "display_data"
    }
   ],
   "source": [
    "df_mean_acc[5,2]  <-  colMeans(df_acc)[[2]] \n",
    "df_mean_acc"
   ]
  },
  {
   "cell_type": "code",
   "execution_count": 59,
   "metadata": {},
   "outputs": [],
   "source": [
    "saveRDS(df_mean_acc, \"df_mean_acc_no_weights.rds\")\n",
    "# saveRDS(plots_test_all, \"plots_test_not_all.rds\")"
   ]
  },
  {
   "cell_type": "code",
   "execution_count": null,
   "metadata": {},
   "outputs": [],
   "source": []
  }
 ],
 "metadata": {
  "kernelspec": {
   "display_name": "R 3.5.1",
   "language": "R",
   "name": "ir"
  },
  "language_info": {
   "codemirror_mode": "r",
   "file_extension": ".r",
   "mimetype": "text/x-r-source",
   "name": "R",
   "pygments_lexer": "r",
   "version": "3.5.2"
  }
 },
 "nbformat": 4,
 "nbformat_minor": 2
}
