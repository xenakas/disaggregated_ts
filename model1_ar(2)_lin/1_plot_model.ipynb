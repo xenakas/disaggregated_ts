{
 "cells": [
  {
   "cell_type": "markdown",
   "metadata": {},
   "source": [
    "#### 1"
   ]
  },
  {
   "cell_type": "code",
   "execution_count": 1,
   "metadata": {
    "scrolled": true
   },
   "outputs": [
    {
     "name": "stderr",
     "output_type": "stream",
     "text": [
      "\n",
      "Attaching package: ‘dplyr’\n",
      "\n",
      "The following objects are masked from ‘package:stats’:\n",
      "\n",
      "    filter, lag\n",
      "\n",
      "The following objects are masked from ‘package:base’:\n",
      "\n",
      "    intersect, setdiff, setequal, union\n",
      "\n",
      "\n",
      "Attaching package: ‘gridExtra’\n",
      "\n",
      "The following object is masked from ‘package:dplyr’:\n",
      "\n",
      "    combine\n",
      "\n"
     ]
    }
   ],
   "source": [
    "library(forecast)\n",
    "library(ggplot2)\n",
    "library(dplyr)\n",
    "library(gridExtra)"
   ]
  },
  {
   "cell_type": "code",
   "execution_count": 2,
   "metadata": {},
   "outputs": [
    {
     "name": "stderr",
     "output_type": "stream",
     "text": [
      "Loading required package: foreach\n",
      "Loading required package: iterators\n",
      "Loading required package: parallel\n"
     ]
    }
   ],
   "source": [
    "# library(doParallel)\n",
    "library(doMC)\n",
    "options(cores = 10)\n",
    "registerDoMC()"
   ]
  },
  {
   "cell_type": "markdown",
   "metadata": {},
   "source": [
    "### ЕС"
   ]
  },
  {
   "cell_type": "code",
   "execution_count": 3,
   "metadata": {},
   "outputs": [],
   "source": [
    "df_eu  <-  read.csv(file=\"../data_hts/hts_eu_a10.csv\", header=TRUE, sep=\",\", row.names =1 )\n",
    "df_eu  <-  df_eu/1000\n",
    "var_freq  <- 4    \n",
    "var_start_year  <- 2000   \n",
    "gdp_agg <- df_eu_sums <-  rowSums(df_eu)\n",
    "gdp_agg  <- ts(gdp_agg, frequency = var_freq, start = var_start_year) "
   ]
  },
  {
   "cell_type": "code",
   "execution_count": 4,
   "metadata": {},
   "outputs": [],
   "source": [
    "var_h  <- 8\n",
    "var_window  <-  48 - 1\n",
    "var_topup  <-  1\n",
    "var_iter   <- (length(gdp_agg)+var_topup)/var_freq-(var_window+1)/var_freq-2"
   ]
  },
  {
   "cell_type": "code",
   "execution_count": 5,
   "metadata": {},
   "outputs": [],
   "source": [
    "# var_allornot  <- var_freq\n",
    "var_allornot  <- 1\n",
    "# var_shift  <-  var_topup\n",
    "var_shift  <-  0"
   ]
  },
  {
   "cell_type": "code",
   "execution_count": 6,
   "metadata": {},
   "outputs": [],
   "source": [
    "var_arpdq   <-  c(2,0,0)\n",
    "var_sarpdq   <-  c(1,0,0)\n",
    "var_drift   <-  TRUE\n",
    "var_constant   <-  TRUE"
   ]
  },
  {
   "cell_type": "code",
   "execution_count": 10,
   "metadata": {},
   "outputs": [
    {
     "name": "stdout",
     "output_type": "stream",
     "text": [
      "[1] 2000.00 2011.75 2012.00 2013.75\n",
      "[1] 2001.00 2012.75 2013.00 2014.75\n",
      "[1] 2002.00 2013.75 2014.00 2015.75\n",
      "[1] 2003.00 2014.75 2015.00 2016.75\n",
      "[1] 2004.00 2015.75 2016.00 2017.75\n",
      "[1] 2005.00 2016.75 2017.00 2018.75\n"
     ]
    }
   ],
   "source": [
    "l <- ac <- m_top  <- l_test  <-  list()\n",
    "\n",
    "k  <- 0\n",
    "\n",
    "for (i in 0:(var_iter*var_allornot - var_shift)){\n",
    "    k  <-  k+1\n",
    "    st_year  <-  var_start_year + i/var_allornot\n",
    "    train_start  <- st_year \n",
    "    train_end  <- st_year + 1/var_freq*(var_window)\n",
    "    test_start  <- st_year + 1/var_freq*(var_window+1) \n",
    "    test_end  <-  st_year + 1/var_freq*(var_window+var_h)\n",
    "    \n",
    "    print(c(train_start, train_end, test_start, test_end))\n",
    "    \n",
    "    if (i == 0){\n",
    "        train <- window(gdp_agg, end=train_end)}\n",
    "    else{\n",
    "        if ((var_shift == 0) & (i == var_iter*var_allornot - var_shift)){\n",
    "            train <- window(gdp_agg, start=train_start-var_topup/var_freq, end=train_end-var_topup/var_freq)\n",
    "        }else{\n",
    "            train <- window(gdp_agg, start=train_start, end=train_end)\n",
    "    }}\n",
    "    \n",
    "    if ((var_shift == 0) & (i == var_iter*var_allornot - var_shift)){\n",
    "        test <- window(gdp_agg, start=test_start-var_topup/var_freq)\n",
    "    }else{    test <- window(gdp_agg, start=test_start, end=test_end)\n",
    "        \n",
    "    }\n",
    "    \n",
    "    m_top[[k]]  <- Arima(msts(train, seasonal.periods = var_freq), order=var_arpdq, seasonal=var_sarpdq, include.drift = var_drift, include.mean = var_constant, method=\"ML\")\n",
    "    \n",
    "    \n",
    "#     print(test)\n",
    "#     print(gdp_arima)\n",
    "    l[[k]]  <-   forecast(m_top[[k]], h = var_h  )\n",
    "\n",
    "    l_test[[i+1]]  <-   test\n",
    "    \n",
    "    ac[[i+1]]  <-  accuracy(l[[k]], test)\n",
    "\n",
    "    }"
   ]
  },
  {
   "cell_type": "code",
   "execution_count": 13,
   "metadata": {},
   "outputs": [
    {
     "data": {
      "text/html": [
       "<table>\n",
       "<thead><tr><th scope=col>ME</th><th scope=col>RMSE</th><th scope=col>MAPE</th></tr></thead>\n",
       "<tbody>\n",
       "\t<tr><td>-25.00987</td><td>38.78631 </td><td>1.0159748</td></tr>\n",
       "\t<tr><td>-12.54340</td><td>26.38626 </td><td>0.6777473</td></tr>\n",
       "\t<tr><td> 58.39044</td><td>75.52040 </td><td>1.7638530</td></tr>\n",
       "\t<tr><td> 60.76418</td><td>66.53333 </td><td>1.8199697</td></tr>\n",
       "\t<tr><td>-77.69241</td><td>82.73608 </td><td>2.3059571</td></tr>\n",
       "\t<tr><td> 89.44136</td><td>95.85995 </td><td>2.5887075</td></tr>\n",
       "</tbody>\n",
       "</table>\n"
      ],
      "text/latex": [
       "\\begin{tabular}{r|lll}\n",
       " ME & RMSE & MAPE\\\\\n",
       "\\hline\n",
       "\t -25.00987 & 38.78631  & 1.0159748\\\\\n",
       "\t -12.54340 & 26.38626  & 0.6777473\\\\\n",
       "\t  58.39044 & 75.52040  & 1.7638530\\\\\n",
       "\t  60.76418 & 66.53333  & 1.8199697\\\\\n",
       "\t -77.69241 & 82.73608  & 2.3059571\\\\\n",
       "\t  89.44136 & 95.85995  & 2.5887075\\\\\n",
       "\\end{tabular}\n"
      ],
      "text/markdown": [
       "\n",
       "ME | RMSE | MAPE | \n",
       "|---|---|---|---|---|---|\n",
       "| -25.00987 | 38.78631  | 1.0159748 | \n",
       "| -12.54340 | 26.38626  | 0.6777473 | \n",
       "|  58.39044 | 75.52040  | 1.7638530 | \n",
       "|  60.76418 | 66.53333  | 1.8199697 | \n",
       "| -77.69241 | 82.73608  | 2.3059571 | \n",
       "|  89.44136 | 95.85995  | 2.5887075 | \n",
       "\n",
       "\n"
      ],
      "text/plain": [
       "  ME        RMSE     MAPE     \n",
       "1 -25.00987 38.78631 1.0159748\n",
       "2 -12.54340 26.38626 0.6777473\n",
       "3  58.39044 75.52040 1.7638530\n",
       "4  60.76418 66.53333 1.8199697\n",
       "5 -77.69241 82.73608 2.3059571\n",
       "6  89.44136 95.85995 2.5887075"
      ]
     },
     "metadata": {},
     "output_type": "display_data"
    }
   ],
   "source": [
    "var_acc_metrics  <-  c(1,2,5)\n",
    "df_acc_test  <- ac[[1]][2, var_acc_metrics]\n",
    "for (i in ac[2:length(ac)]){\n",
    "    x  <-  i[2, var_acc_metrics]\n",
    "    df_acc_test   <-  cbind(df_acc_test, x)\n",
    "}\n",
    "df_acc_test  <- t(df_acc_test)\n",
    "df_acc_test  <-  as.data.frame(df_acc_test)\n",
    "row.names(df_acc_test)  <-  seq(1,length(ac))\n",
    "df_acc_test"
   ]
  },
  {
   "cell_type": "code",
   "execution_count": 14,
   "metadata": {},
   "outputs": [
    {
     "data": {
      "text/html": [
       "<dl class=dl-horizontal>\n",
       "\t<dt>ME</dt>\n",
       "\t\t<dd>15.558382542434</dd>\n",
       "\t<dt>RMSE</dt>\n",
       "\t\t<dd>64.3037217189796</dd>\n",
       "\t<dt>MAPE</dt>\n",
       "\t\t<dd>1.69536823848068</dd>\n",
       "</dl>\n"
      ],
      "text/latex": [
       "\\begin{description*}\n",
       "\\item[ME] 15.558382542434\n",
       "\\item[RMSE] 64.3037217189796\n",
       "\\item[MAPE] 1.69536823848068\n",
       "\\end{description*}\n"
      ],
      "text/markdown": [
       "ME\n",
       ":   15.558382542434RMSE\n",
       ":   64.3037217189796MAPE\n",
       ":   1.69536823848068\n",
       "\n"
      ],
      "text/plain": [
       "       ME      RMSE      MAPE \n",
       "15.558383 64.303722  1.695368 "
      ]
     },
     "metadata": {},
     "output_type": "display_data"
    }
   ],
   "source": [
    "colMeans(df_acc_test)"
   ]
  },
  {
   "cell_type": "code",
   "execution_count": 15,
   "metadata": {},
   "outputs": [
    {
     "data": {},
     "metadata": {},
     "output_type": "display_data"
    },
    {
     "data": {
      "image/png": "[encoded data removed]",
      "text/plain": [
       "plot without title"
      ]
     },
     "metadata": {},
     "output_type": "display_data"
    }
   ],
   "source": [
    "plot_forecasts  <-  autoplot(window(gdp_agg, start=2010))+\n",
    "    xlab(\"Время\") + ylab('ВВП') +\n",
    "    ggtitle(\"AR(3)SAR(2) с линейным трендом\") +\n",
    "    guides(colour=guide_legend(title=\" \")) +\n",
    "    theme(aspect.ratio = 0.75)\n",
    "\n",
    "for (i in 1:length(l)){\n",
    "    plot_forecasts  <-  plot_forecasts  +\n",
    "    autolayer(l[[i]], series=paste(\"Итерация\" , i, sep=\" \") ,   PI=FALSE) \n",
    "    \n",
    "}\n",
    "\n",
    "plot_forecasts\n"
   ]
  },
  {
   "cell_type": "code",
   "execution_count": 11,
   "metadata": {},
   "outputs": [
    {
     "data": {
      "text/html": [
       "<table>\n",
       "<thead><tr><th></th><th scope=col>Квартальные</th><th scope=col>Сезонно сглаженные</th><th scope=col>Месячные</th></tr></thead>\n",
       "<tbody>\n",
       "\t<tr><th scope=row>1 level</th><td>64.30372</td><td>299.5702</td><td>16018.61</td></tr>\n",
       "\t<tr><th scope=row>2</th><td>      NA</td><td>      NA</td><td>      NA</td></tr>\n",
       "\t<tr><th scope=row>3</th><td>      NA</td><td>      NA</td><td>      NA</td></tr>\n",
       "\t<tr><th scope=row>4</th><td>      NA</td><td>      NA</td><td>      NA</td></tr>\n",
       "\t<tr><th scope=row>5</th><td>      NA</td><td>      NA</td><td>      NA</td></tr>\n",
       "</tbody>\n",
       "</table>\n"
      ],
      "text/latex": [
       "\\begin{tabular}{r|lll}\n",
       "  & Квартальные & Сезонно сглаженные & Месячные\\\\\n",
       "\\hline\n",
       "\t1 level & 64.30372 & 299.5702 & 16018.61\\\\\n",
       "\t2 &       NA &       NA &       NA\\\\\n",
       "\t3 &       NA &       NA &       NA\\\\\n",
       "\t4 &       NA &       NA &       NA\\\\\n",
       "\t5 &       NA &       NA &       NA\\\\\n",
       "\\end{tabular}\n"
      ],
      "text/markdown": [
       "\n",
       "| <!--/--> | Квартальные | Сезонно сглаженные | Месячные | \n",
       "|---|---|---|---|---|\n",
       "| 1 level | 64.30372 | 299.5702 | 16018.61 | \n",
       "| 2 |       NA |       NA |       NA | \n",
       "| 3 |       NA |       NA |       NA | \n",
       "| 4 |       NA |       NA |       NA | \n",
       "| 5 |       NA |       NA |       NA | \n",
       "\n",
       "\n"
      ],
      "text/plain": [
       "        Квартальные Сезонно сглаженные Месячные\n",
       "1 level 64.30372    299.5702           16018.61\n",
       "2             NA          NA                 NA\n",
       "3             NA          NA                 NA\n",
       "4             NA          NA                 NA\n",
       "5             NA          NA                 NA"
      ]
     },
     "metadata": {},
     "output_type": "display_data"
    }
   ],
   "source": [
    "df_mean_acc <- readRDS(\"df_mean_acc.rds\")\n",
    "df_mean_acc"
   ]
  },
  {
   "cell_type": "code",
   "execution_count": 12,
   "metadata": {},
   "outputs": [
    {
     "data": {
      "text/html": [
       "<table>\n",
       "<thead><tr><th></th><th scope=col>Квартальные</th><th scope=col>Сезонно сглаженные</th><th scope=col>Месячные</th></tr></thead>\n",
       "<tbody>\n",
       "\t<tr><th scope=row>1 level</th><td>64.30372</td><td>299.5702</td><td>16018.61</td></tr>\n",
       "\t<tr><th scope=row>2</th><td>      NA</td><td>      NA</td><td>      NA</td></tr>\n",
       "\t<tr><th scope=row>3</th><td>      NA</td><td>      NA</td><td>      NA</td></tr>\n",
       "\t<tr><th scope=row>4</th><td>      NA</td><td>      NA</td><td>      NA</td></tr>\n",
       "\t<tr><th scope=row>5</th><td>      NA</td><td>      NA</td><td>      NA</td></tr>\n",
       "</tbody>\n",
       "</table>\n"
      ],
      "text/latex": [
       "\\begin{tabular}{r|lll}\n",
       "  & Квартальные & Сезонно сглаженные & Месячные\\\\\n",
       "\\hline\n",
       "\t1 level & 64.30372 & 299.5702 & 16018.61\\\\\n",
       "\t2 &       NA &       NA &       NA\\\\\n",
       "\t3 &       NA &       NA &       NA\\\\\n",
       "\t4 &       NA &       NA &       NA\\\\\n",
       "\t5 &       NA &       NA &       NA\\\\\n",
       "\\end{tabular}\n"
      ],
      "text/markdown": [
       "\n",
       "| <!--/--> | Квартальные | Сезонно сглаженные | Месячные | \n",
       "|---|---|---|---|---|\n",
       "| 1 level | 64.30372 | 299.5702 | 16018.61 | \n",
       "| 2 |       NA |       NA |       NA | \n",
       "| 3 |       NA |       NA |       NA | \n",
       "| 4 |       NA |       NA |       NA | \n",
       "| 5 |       NA |       NA |       NA | \n",
       "\n",
       "\n"
      ],
      "text/plain": [
       "        Квартальные Сезонно сглаженные Месячные\n",
       "1 level 64.30372    299.5702           16018.61\n",
       "2             NA          NA                 NA\n",
       "3             NA          NA                 NA\n",
       "4             NA          NA                 NA\n",
       "5             NA          NA                 NA"
      ]
     },
     "metadata": {},
     "output_type": "display_data"
    }
   ],
   "source": [
    "df_mean_acc[1,1]  <-  colMeans(df_acc_test)[[2]]\n",
    "df_mean_acc"
   ]
  },
  {
   "cell_type": "code",
   "execution_count": 13,
   "metadata": {},
   "outputs": [],
   "source": [
    "save_plots  <- list()"
   ]
  },
  {
   "cell_type": "code",
   "execution_count": 14,
   "metadata": {},
   "outputs": [],
   "source": [
    "save_plots[[1]]  <-  plot_forecasts"
   ]
  },
  {
   "cell_type": "code",
   "execution_count": 15,
   "metadata": {},
   "outputs": [],
   "source": [
    "df_acc  <-  df_acc_test"
   ]
  },
  {
   "cell_type": "code",
   "execution_count": 16,
   "metadata": {},
   "outputs": [],
   "source": [
    "colnames(df_acc)  <-  colnames(ac[[1]])[var_acc_metrics] \n",
    "df_acc  <-  cbind(df_acc, seq(1, length(ac)))\n",
    "colnames(df_acc)[length(var_acc_metrics)+1]  <-  'Iteration'"
   ]
  },
  {
   "cell_type": "code",
   "execution_count": 17,
   "metadata": {},
   "outputs": [],
   "source": [
    "df_acc$Iteration  <-  df_acc$Iteration*var_freq-(var_freq-1)\n",
    "df_acc$Iteration[length(df_acc$Iteration)]  <-   df_acc$Iteration[length(df_acc$Iteration)] - var_topup"
   ]
  },
  {
   "cell_type": "code",
   "execution_count": 18,
   "metadata": {},
   "outputs": [
    {
     "data": {
      "text/html": [
       "<table>\n",
       "<thead><tr><th scope=col>ME</th><th scope=col>RMSE</th><th scope=col>MAPE</th><th scope=col>Iteration</th></tr></thead>\n",
       "<tbody>\n",
       "\t<tr><td>-25.00987</td><td>38.78631 </td><td>1.0159748</td><td> 1       </td></tr>\n",
       "\t<tr><td>-12.54340</td><td>26.38626 </td><td>0.6777473</td><td> 5       </td></tr>\n",
       "\t<tr><td> 58.39044</td><td>75.52040 </td><td>1.7638530</td><td> 9       </td></tr>\n",
       "\t<tr><td> 60.76418</td><td>66.53333 </td><td>1.8199697</td><td>13       </td></tr>\n",
       "\t<tr><td>-77.69241</td><td>82.73608 </td><td>2.3059571</td><td>17       </td></tr>\n",
       "\t<tr><td> 89.44136</td><td>95.85995 </td><td>2.5887075</td><td>20       </td></tr>\n",
       "</tbody>\n",
       "</table>\n"
      ],
      "text/latex": [
       "\\begin{tabular}{r|llll}\n",
       " ME & RMSE & MAPE & Iteration\\\\\n",
       "\\hline\n",
       "\t -25.00987 & 38.78631  & 1.0159748 &  1       \\\\\n",
       "\t -12.54340 & 26.38626  & 0.6777473 &  5       \\\\\n",
       "\t  58.39044 & 75.52040  & 1.7638530 &  9       \\\\\n",
       "\t  60.76418 & 66.53333  & 1.8199697 & 13       \\\\\n",
       "\t -77.69241 & 82.73608  & 2.3059571 & 17       \\\\\n",
       "\t  89.44136 & 95.85995  & 2.5887075 & 20       \\\\\n",
       "\\end{tabular}\n"
      ],
      "text/markdown": [
       "\n",
       "ME | RMSE | MAPE | Iteration | \n",
       "|---|---|---|---|---|---|\n",
       "| -25.00987 | 38.78631  | 1.0159748 |  1        | \n",
       "| -12.54340 | 26.38626  | 0.6777473 |  5        | \n",
       "|  58.39044 | 75.52040  | 1.7638530 |  9        | \n",
       "|  60.76418 | 66.53333  | 1.8199697 | 13        | \n",
       "| -77.69241 | 82.73608  | 2.3059571 | 17        | \n",
       "|  89.44136 | 95.85995  | 2.5887075 | 20        | \n",
       "\n",
       "\n"
      ],
      "text/plain": [
       "  ME        RMSE     MAPE      Iteration\n",
       "1 -25.00987 38.78631 1.0159748  1       \n",
       "2 -12.54340 26.38626 0.6777473  5       \n",
       "3  58.39044 75.52040 1.7638530  9       \n",
       "4  60.76418 66.53333 1.8199697 13       \n",
       "5 -77.69241 82.73608 2.3059571 17       \n",
       "6  89.44136 95.85995 2.5887075 20       "
      ]
     },
     "metadata": {},
     "output_type": "display_data"
    }
   ],
   "source": [
    "df_acc"
   ]
  },
  {
   "cell_type": "code",
   "execution_count": 19,
   "metadata": {},
   "outputs": [],
   "source": [
    "var_allornot  <- var_freq\n",
    "# var_allornot  <- 1\n",
    "var_shift  <-  var_topup\n",
    "# var_shift  <-  0"
   ]
  },
  {
   "cell_type": "markdown",
   "metadata": {},
   "source": [
    "### США"
   ]
  },
  {
   "cell_type": "code",
   "execution_count": 16,
   "metadata": {},
   "outputs": [],
   "source": [
    "df_eu  <-  read.csv(file=\"../data_hts/hts_us_ind_filled.csv\", header=TRUE, sep=\",\", row.names =1 )\n",
    "df_eu  <-  df_eu/1000\n",
    "var_freq  <- 4    \n",
    "var_start_year  <- 2005   \n",
    "gdp_agg <- df_eu_sums <-  rowSums(df_eu)\n",
    "gdp_agg  <- ts(gdp_agg, frequency = var_freq, start = var_start_year) "
   ]
  },
  {
   "cell_type": "code",
   "execution_count": 17,
   "metadata": {},
   "outputs": [],
   "source": [
    "var_h  <- 8\n",
    "var_window  <-  28 - 1\n",
    "var_topup  <-  2\n",
    "var_iter   <- (length(gdp_agg)+var_topup)/var_freq-(var_window+1)/var_freq-2"
   ]
  },
  {
   "cell_type": "code",
   "execution_count": 18,
   "metadata": {},
   "outputs": [],
   "source": [
    "# var_allornot  <- var_freq\n",
    "var_allornot  <- 1\n",
    "# var_shift  <-  var_topup\n",
    "var_shift  <-  0\n",
    "\n",
    "var_arpdq   <-  c(2,0,0)\n",
    "var_sarpdq   <-  c(0,0,0)\n",
    "var_drift   <-  TRUE\n",
    "var_constant   <-  TRUE"
   ]
  },
  {
   "cell_type": "code",
   "execution_count": 19,
   "metadata": {},
   "outputs": [
    {
     "name": "stdout",
     "output_type": "stream",
     "text": [
      "[1] 2005.00 2011.75 2012.00 2013.75\n",
      "[1] 2006.00 2012.75 2013.00 2014.75\n",
      "[1] 2007.00 2013.75 2014.00 2015.75\n",
      "[1] 2008.00 2014.75 2015.00 2016.75\n",
      "[1] 2009.00 2015.75 2016.00 2017.75\n",
      "[1] 2010.00 2016.75 2017.00 2018.75\n"
     ]
    }
   ],
   "source": [
    "l <- ac <- m_top  <- l_test  <-  list()\n",
    "\n",
    "k  <- 0\n",
    "\n",
    "for (i in 0:(var_iter*var_allornot - var_shift)){\n",
    "    k  <-  k+1\n",
    "    st_year  <-  var_start_year + i/var_allornot\n",
    "    train_start  <- st_year \n",
    "    train_end  <- st_year + 1/var_freq*(var_window)\n",
    "    test_start  <- st_year + 1/var_freq*(var_window+1) \n",
    "    test_end  <-  st_year + 1/var_freq*(var_window+var_h)\n",
    "    \n",
    "    print(c(train_start, train_end, test_start, test_end))\n",
    "    \n",
    "    if (i == 0){\n",
    "        train <- window(gdp_agg, end=train_end)}\n",
    "    else{\n",
    "        if ((var_shift == 0) & (i == var_iter*var_allornot - var_shift)){\n",
    "            train <- window(gdp_agg, start=train_start-var_topup/var_freq, end=train_end-var_topup/var_freq)\n",
    "        }else{\n",
    "            train <- window(gdp_agg, start=train_start, end=train_end)\n",
    "    }}\n",
    "    \n",
    "    if ((var_shift == 0) & (i == var_iter*var_allornot - var_shift)){\n",
    "        test <- window(gdp_agg, start=test_start-var_topup/var_freq)\n",
    "    }else{    test <- window(gdp_agg, start=test_start, end=test_end)\n",
    "        \n",
    "    }\n",
    "    \n",
    "    m_top[[k]]  <- Arima(msts(train, seasonal.periods = var_freq), order=var_arpdq, seasonal=var_sarpdq, include.drift = var_drift, include.mean = var_constant, method=\"ML\")\n",
    "    \n",
    "#     print(test)\n",
    "#     print(gdp_arima)\n",
    "    l[[k]]  <-   forecast(m_top[[k]], h = var_h  )\n",
    "\n",
    "    l_test[[i+1]]  <-   test\n",
    "    \n",
    "    ac[[i+1]]  <-  accuracy(l[[k]], test)\n",
    "    \n",
    "    }"
   ]
  },
  {
   "cell_type": "code",
   "execution_count": 20,
   "metadata": {},
   "outputs": [
    {
     "data": {
      "text/html": [
       "<table>\n",
       "<thead><tr><th scope=col>ME</th><th scope=col>RMSE</th><th scope=col>MAPE</th></tr></thead>\n",
       "<tbody>\n",
       "\t<tr><td>141.03468</td><td>189.22139</td><td>0.8692019</td></tr>\n",
       "\t<tr><td>452.96350</td><td>512.33253</td><td>2.7397202</td></tr>\n",
       "\t<tr><td>415.42592</td><td>496.35479</td><td>2.5838557</td></tr>\n",
       "\t<tr><td>401.83926</td><td>420.54107</td><td>2.3298533</td></tr>\n",
       "\t<tr><td> 69.85368</td><td> 84.71127</td><td>0.3960819</td></tr>\n",
       "\t<tr><td> 59.43400</td><td> 94.26028</td><td>0.3974249</td></tr>\n",
       "</tbody>\n",
       "</table>\n"
      ],
      "text/latex": [
       "\\begin{tabular}{r|lll}\n",
       " ME & RMSE & MAPE\\\\\n",
       "\\hline\n",
       "\t 141.03468 & 189.22139 & 0.8692019\\\\\n",
       "\t 452.96350 & 512.33253 & 2.7397202\\\\\n",
       "\t 415.42592 & 496.35479 & 2.5838557\\\\\n",
       "\t 401.83926 & 420.54107 & 2.3298533\\\\\n",
       "\t  69.85368 &  84.71127 & 0.3960819\\\\\n",
       "\t  59.43400 &  94.26028 & 0.3974249\\\\\n",
       "\\end{tabular}\n"
      ],
      "text/markdown": [
       "\n",
       "ME | RMSE | MAPE | \n",
       "|---|---|---|---|---|---|\n",
       "| 141.03468 | 189.22139 | 0.8692019 | \n",
       "| 452.96350 | 512.33253 | 2.7397202 | \n",
       "| 415.42592 | 496.35479 | 2.5838557 | \n",
       "| 401.83926 | 420.54107 | 2.3298533 | \n",
       "|  69.85368 |  84.71127 | 0.3960819 | \n",
       "|  59.43400 |  94.26028 | 0.3974249 | \n",
       "\n",
       "\n"
      ],
      "text/plain": [
       "  ME        RMSE      MAPE     \n",
       "1 141.03468 189.22139 0.8692019\n",
       "2 452.96350 512.33253 2.7397202\n",
       "3 415.42592 496.35479 2.5838557\n",
       "4 401.83926 420.54107 2.3298533\n",
       "5  69.85368  84.71127 0.3960819\n",
       "6  59.43400  94.26028 0.3974249"
      ]
     },
     "metadata": {},
     "output_type": "display_data"
    }
   ],
   "source": [
    "var_acc_metrics  <-  c(1,2,5)\n",
    "df_acc_test  <- ac[[1]][2, var_acc_metrics]\n",
    "for (i in ac[2:length(ac)]){\n",
    "    x  <-  i[2, var_acc_metrics]\n",
    "    df_acc_test   <-  cbind(df_acc_test, x)\n",
    "}\n",
    "df_acc_test  <- t(df_acc_test)\n",
    "df_acc_test  <-  as.data.frame(df_acc_test)\n",
    "row.names(df_acc_test)  <-  seq(1,length(ac))\n",
    "df_acc_test"
   ]
  },
  {
   "cell_type": "code",
   "execution_count": 21,
   "metadata": {},
   "outputs": [],
   "source": []
  },
  {
   "cell_type": "code",
   "execution_count": 26,
   "metadata": {},
   "outputs": [
    {
     "data": {},
     "metadata": {},
     "output_type": "display_data"
    },
    {
     "data": {
      "image/png": "[encoded data removed]",
      "text/plain": [
       "plot without title"
      ]
     },
     "metadata": {},
     "output_type": "display_data"
    }
   ],
   "source": [
    "plot_forecasts  <-  autoplot(window(gdp_agg, start=2010))+\n",
    "    xlab(\"Время\") + ylab('ВВП') +\n",
    "    ggtitle(\"AR(4)\") +\n",
    "    guides(colour=guide_legend(title=\" \")) +\n",
    "    theme(aspect.ratio = 0.75)\n",
    "\n",
    "for (i in 1:length(l)){\n",
    "    plot_forecasts  <-  plot_forecasts  +\n",
    "    autolayer(l[[i]], series=paste(\"Итерация\" , i, sep=\" \") ,   PI=FALSE) \n",
    "    \n",
    "}\n",
    "\n",
    "plot_forecasts\n"
   ]
  },
  {
   "cell_type": "code",
   "execution_count": 27,
   "metadata": {},
   "outputs": [
    {
     "data": {
      "text/html": [
       "<table>\n",
       "<thead><tr><th></th><th scope=col>Квартальные</th><th scope=col>Сезонно сглаженные</th><th scope=col>Месячные</th></tr></thead>\n",
       "<tbody>\n",
       "\t<tr><th scope=row>1 level</th><td>64.30372</td><td>299.5702</td><td>16018.61</td></tr>\n",
       "\t<tr><th scope=row>2</th><td>      NA</td><td>      NA</td><td>      NA</td></tr>\n",
       "\t<tr><th scope=row>3</th><td>      NA</td><td>      NA</td><td>      NA</td></tr>\n",
       "\t<tr><th scope=row>4</th><td>      NA</td><td>      NA</td><td>      NA</td></tr>\n",
       "\t<tr><th scope=row>5</th><td>      NA</td><td>      NA</td><td>      NA</td></tr>\n",
       "</tbody>\n",
       "</table>\n"
      ],
      "text/latex": [
       "\\begin{tabular}{r|lll}\n",
       "  & Квартальные & Сезонно сглаженные & Месячные\\\\\n",
       "\\hline\n",
       "\t1 level & 64.30372 & 299.5702 & 16018.61\\\\\n",
       "\t2 &       NA &       NA &       NA\\\\\n",
       "\t3 &       NA &       NA &       NA\\\\\n",
       "\t4 &       NA &       NA &       NA\\\\\n",
       "\t5 &       NA &       NA &       NA\\\\\n",
       "\\end{tabular}\n"
      ],
      "text/markdown": [
       "\n",
       "| <!--/--> | Квартальные | Сезонно сглаженные | Месячные | \n",
       "|---|---|---|---|---|\n",
       "| 1 level | 64.30372 | 299.5702 | 16018.61 | \n",
       "| 2 |       NA |       NA |       NA | \n",
       "| 3 |       NA |       NA |       NA | \n",
       "| 4 |       NA |       NA |       NA | \n",
       "| 5 |       NA |       NA |       NA | \n",
       "\n",
       "\n"
      ],
      "text/plain": [
       "        Квартальные Сезонно сглаженные Месячные\n",
       "1 level 64.30372    299.5702           16018.61\n",
       "2             NA          NA                 NA\n",
       "3             NA          NA                 NA\n",
       "4             NA          NA                 NA\n",
       "5             NA          NA                 NA"
      ]
     },
     "metadata": {},
     "output_type": "display_data"
    }
   ],
   "source": [
    "df_mean_acc[1,2]  <- colMeans(df_acc_test)[[2]]\n",
    "df_mean_acc"
   ]
  },
  {
   "cell_type": "code",
   "execution_count": 28,
   "metadata": {},
   "outputs": [],
   "source": [
    "save_plots[[3]]  <-  plot_forecasts"
   ]
  },
  {
   "cell_type": "code",
   "execution_count": null,
   "metadata": {},
   "outputs": [],
   "source": []
  },
  {
   "cell_type": "code",
   "execution_count": 29,
   "metadata": {},
   "outputs": [],
   "source": [
    "var_allornot  <- var_freq\n",
    "# var_allornot  <- 1\n",
    "var_shift  <-  var_topup\n",
    "# var_shift  <-  0"
   ]
  },
  {
   "cell_type": "markdown",
   "metadata": {},
   "source": [
    "### РФ"
   ]
  },
  {
   "cell_type": "code",
   "execution_count": 22,
   "metadata": {},
   "outputs": [],
   "source": [
    "df_eu  <-  read.csv(file=\"../data_hts/hts_rus_summed.csv\", header=TRUE, sep=\",\", row.names =1 )\n",
    "# df_eu  <-  df_eu/1000\n",
    "var_freq  <- 12    \n",
    "var_start_year  <- 2006   \n",
    "gdp_agg <- df_eu_sums <-  rowSums(df_eu)\n",
    "gdp_agg  <- ts(gdp_agg, frequency = var_freq, start = var_start_year) "
   ]
  },
  {
   "cell_type": "code",
   "execution_count": 23,
   "metadata": {},
   "outputs": [],
   "source": [
    "var_h  <- 24\n",
    "var_window  <-  84 - 1\n",
    "var_topup  <-  -1\n",
    "var_iter   <- (length(gdp_agg)+var_topup)/var_freq-(var_window+1)/var_freq-2"
   ]
  },
  {
   "cell_type": "markdown",
   "metadata": {},
   "source": [
    "### Top Level: AR(3)"
   ]
  },
  {
   "cell_type": "code",
   "execution_count": 24,
   "metadata": {},
   "outputs": [],
   "source": [
    "# var_allornot  <- var_freq\n",
    "var_allornot  <- 1\n",
    "# var_shift  <-  var_topup\n",
    "var_shift  <-  0\n",
    "\n",
    "var_arpdq   <-  c(2,0,0)\n",
    "var_sarpdq   <-  c(1,0,0)\n",
    "var_drift   <-  TRUE\n",
    "var_constant   <-  TRUE"
   ]
  },
  {
   "cell_type": "code",
   "execution_count": 25,
   "metadata": {},
   "outputs": [
    {
     "name": "stderr",
     "output_type": "stream",
     "text": [
      "Loading required package: svMisc\n",
      "\n",
      "Attaching package: ‘svMisc’\n",
      "\n",
      "The following object is masked from ‘package:utils’:\n",
      "\n",
      "    ?\n",
      "\n"
     ]
    }
   ],
   "source": [
    "require(svMisc)"
   ]
  },
  {
   "cell_type": "code",
   "execution_count": 26,
   "metadata": {},
   "outputs": [
    {
     "name": "stdout",
     "output_type": "stream",
     "text": [
      "          0%---------25%---------50%---------75%--------100%\n",
      "Progress: ||"
     ]
    }
   ],
   "source": [
    "l <- ac <- m_top  <- l_test  <-  list()\n",
    "\n",
    "k  <- 0\n",
    "err_list  <- c()\n",
    "for (i in 0:(var_iter*var_allornot - var_shift)){\n",
    "    k  <-  k+1\n",
    "    st_year  <-  var_start_year + i/var_allornot\n",
    "    train_start  <- st_year \n",
    "    train_end  <- st_year + 1/var_freq*(var_window)\n",
    "    test_start  <- st_year + 1/var_freq*(var_window+1) \n",
    "    test_end  <-  st_year + 1/var_freq*(var_window+var_h)\n",
    "    \n",
    "#     print(c(train_start, train_end, test_start, test_end))\n",
    "    \n",
    "    if (i == 0){\n",
    "        train <- window(gdp_agg, end=train_end)}\n",
    "    else{\n",
    "#         if ((var_shift == 0) & (i == var_iter*var_allornot - var_shift)){\n",
    "#             train <- window(gdp_agg, start=train_start-var_topup/var_freq, end=train_end-var_topup/var_freq)\n",
    "#         }else{\n",
    "            train <- window(gdp_agg, start=train_start, end=train_end)\n",
    "#     }\n",
    "}\n",
    "    \n",
    "#     if ((var_shift == 0) & (i == var_iter*var_allornot - var_shift)){\n",
    "#         test <- window(gdp_agg, start=test_start-var_topup/var_freq)\n",
    "#     }else{    \n",
    "        test <- window(gdp_agg, start=test_start, end=test_end)\n",
    "        \n",
    "#     }\n",
    "    \n",
    "#     m_top[[k]]  <- Arima(train, order=var_arpdq, seasonal=var_sarpdq, include.drift = var_drift, include.mean = var_constant, \n",
    "#                          method = \"ML\" )\n",
    "    \n",
    "#     model  <-  \n",
    "    m_top[[k]]  <-Arima(msts(train, seasonal.periods = var_freq), order=var_arpdq, seasonal=var_sarpdq, include.drift = var_drift, include.mean = var_constant, method=\"ML\")\n",
    "\n",
    "    \n",
    "    \n",
    "#     print(test)\n",
    "#     print(gdp_arima)\n",
    "    l[[k]]  <-   forecast(m_top[[k]], h = var_h  )\n",
    "                \n",
    "#     if (model[[2]]!=0){\n",
    "#         err_list <-  c(err_list,model[[2]])\n",
    "#     }              \n",
    "                \n",
    "                \n",
    "    l_test[[i+1]]  <-   test\n",
    "    \n",
    "    ac[[i+1]]  <-  accuracy(l[[k]], test)\n",
    "                \n",
    "    progress(i, progress.bar = TRUE)\n",
    "    \n",
    "    \n",
    "                \n",
    "    }"
   ]
  },
  {
   "cell_type": "code",
   "execution_count": 35,
   "metadata": {},
   "outputs": [
    {
     "data": {
      "text/html": [
       "<table>\n",
       "<thead><tr><th scope=col>ME</th><th scope=col>RMSE</th><th scope=col>MAPE</th></tr></thead>\n",
       "<tbody>\n",
       "\t<tr><td>-11219.98</td><td>13208.47 </td><td>496.1877 </td></tr>\n",
       "\t<tr><td>-10245.83</td><td>12617.09 </td><td>264.9225 </td></tr>\n",
       "\t<tr><td>-10489.34</td><td>13682.13 </td><td>234.0641 </td></tr>\n",
       "\t<tr><td>-16927.34</td><td>20401.02 </td><td>287.5583 </td></tr>\n",
       "\t<tr><td>-17609.61</td><td>19514.44 </td><td>218.9841 </td></tr>\n",
       "</tbody>\n",
       "</table>\n"
      ],
      "text/latex": [
       "\\begin{tabular}{r|lll}\n",
       " ME & RMSE & MAPE\\\\\n",
       "\\hline\n",
       "\t -11219.98 & 13208.47  & 496.1877 \\\\\n",
       "\t -10245.83 & 12617.09  & 264.9225 \\\\\n",
       "\t -10489.34 & 13682.13  & 234.0641 \\\\\n",
       "\t -16927.34 & 20401.02  & 287.5583 \\\\\n",
       "\t -17609.61 & 19514.44  & 218.9841 \\\\\n",
       "\\end{tabular}\n"
      ],
      "text/markdown": [
       "\n",
       "ME | RMSE | MAPE | \n",
       "|---|---|---|---|---|\n",
       "| -11219.98 | 13208.47  | 496.1877  | \n",
       "| -10245.83 | 12617.09  | 264.9225  | \n",
       "| -10489.34 | 13682.13  | 234.0641  | \n",
       "| -16927.34 | 20401.02  | 287.5583  | \n",
       "| -17609.61 | 19514.44  | 218.9841  | \n",
       "\n",
       "\n"
      ],
      "text/plain": [
       "  ME        RMSE     MAPE    \n",
       "1 -11219.98 13208.47 496.1877\n",
       "2 -10245.83 12617.09 264.9225\n",
       "3 -10489.34 13682.13 234.0641\n",
       "4 -16927.34 20401.02 287.5583\n",
       "5 -17609.61 19514.44 218.9841"
      ]
     },
     "metadata": {},
     "output_type": "display_data"
    }
   ],
   "source": [
    "var_acc_metrics  <-  c(1,2,5)\n",
    "df_acc_test  <- ac[[1]][2, var_acc_metrics]\n",
    "for (i in ac[2:length(ac)]){\n",
    "    x  <-  i[2, var_acc_metrics]\n",
    "    df_acc_test   <-  cbind(df_acc_test, x)\n",
    "}\n",
    "df_acc_test  <- t(df_acc_test)\n",
    "df_acc_test  <-  as.data.frame(df_acc_test)\n",
    "row.names(df_acc_test)  <-  seq(1,length(ac))\n",
    "df_acc_test"
   ]
  },
  {
   "cell_type": "code",
   "execution_count": 36,
   "metadata": {},
   "outputs": [
    {
     "data": {
      "text/html": [
       "<dl class=dl-horizontal>\n",
       "\t<dt>ME</dt>\n",
       "\t\t<dd>-13298.420698461</dd>\n",
       "\t<dt>RMSE</dt>\n",
       "\t\t<dd>15884.6294195559</dd>\n",
       "\t<dt>MAPE</dt>\n",
       "\t\t<dd>300.343320107897</dd>\n",
       "</dl>\n"
      ],
      "text/latex": [
       "\\begin{description*}\n",
       "\\item[ME] -13298.420698461\n",
       "\\item[RMSE] 15884.6294195559\n",
       "\\item[MAPE] 300.343320107897\n",
       "\\end{description*}\n"
      ],
      "text/markdown": [
       "ME\n",
       ":   -13298.420698461RMSE\n",
       ":   15884.6294195559MAPE\n",
       ":   300.343320107897\n",
       "\n"
      ],
      "text/plain": [
       "         ME        RMSE        MAPE \n",
       "-13298.4207  15884.6294    300.3433 "
      ]
     },
     "metadata": {},
     "output_type": "display_data"
    }
   ],
   "source": [
    "colMeans(df_acc_test)"
   ]
  },
  {
   "cell_type": "code",
   "execution_count": 27,
   "metadata": {},
   "outputs": [],
   "source": []
  },
  {
   "cell_type": "code",
   "execution_count": 38,
   "metadata": {},
   "outputs": [
    {
     "data": {},
     "metadata": {},
     "output_type": "display_data"
    },
    {
     "data": {
      "image/png": "[encoded data removed]",
      "text/plain": [
       "plot without title"
      ]
     },
     "metadata": {},
     "output_type": "display_data"
    }
   ],
   "source": [
    "plot_forecasts  <-  autoplot(window(gdp_agg, start=2010))+\n",
    "    xlab(\"Время\") + ylab('ЕП') +\n",
    "    ggtitle(\"AR(11)SAR(2) с линейным трендом\") +\n",
    "    guides(colour=guide_legend(title=\" \")) +\n",
    "    theme(aspect.ratio = 0.75)\n",
    "\n",
    "for (i in 1:length(l)){\n",
    "    plot_forecasts  <-  plot_forecasts  +\n",
    "    autolayer(l[[i]], series=paste(\"Итерация\" , i, sep=\" \") ,   PI=FALSE) \n",
    "    \n",
    "}\n",
    "\n",
    "plot_forecasts\n"
   ]
  },
  {
   "cell_type": "code",
   "execution_count": 39,
   "metadata": {},
   "outputs": [
    {
     "data": {
      "text/html": [
       "<table>\n",
       "<thead><tr><th></th><th scope=col>Квартальные</th><th scope=col>Сезонно сглаженные</th><th scope=col>Месячные</th></tr></thead>\n",
       "<tbody>\n",
       "\t<tr><th scope=row>1 level</th><td>64.30372</td><td>299.5702</td><td>15884.63</td></tr>\n",
       "\t<tr><th scope=row>2</th><td>      NA</td><td>      NA</td><td>      NA</td></tr>\n",
       "\t<tr><th scope=row>3</th><td>      NA</td><td>      NA</td><td>      NA</td></tr>\n",
       "\t<tr><th scope=row>4</th><td>      NA</td><td>      NA</td><td>      NA</td></tr>\n",
       "\t<tr><th scope=row>5</th><td>      NA</td><td>      NA</td><td>      NA</td></tr>\n",
       "</tbody>\n",
       "</table>\n"
      ],
      "text/latex": [
       "\\begin{tabular}{r|lll}\n",
       "  & Квартальные & Сезонно сглаженные & Месячные\\\\\n",
       "\\hline\n",
       "\t1 level & 64.30372 & 299.5702 & 15884.63\\\\\n",
       "\t2 &       NA &       NA &       NA\\\\\n",
       "\t3 &       NA &       NA &       NA\\\\\n",
       "\t4 &       NA &       NA &       NA\\\\\n",
       "\t5 &       NA &       NA &       NA\\\\\n",
       "\\end{tabular}\n"
      ],
      "text/markdown": [
       "\n",
       "| <!--/--> | Квартальные | Сезонно сглаженные | Месячные | \n",
       "|---|---|---|---|---|\n",
       "| 1 level | 64.30372 | 299.5702 | 15884.63 | \n",
       "| 2 |       NA |       NA |       NA | \n",
       "| 3 |       NA |       NA |       NA | \n",
       "| 4 |       NA |       NA |       NA | \n",
       "| 5 |       NA |       NA |       NA | \n",
       "\n",
       "\n"
      ],
      "text/plain": [
       "        Квартальные Сезонно сглаженные Месячные\n",
       "1 level 64.30372    299.5702           15884.63\n",
       "2             NA          NA                 NA\n",
       "3             NA          NA                 NA\n",
       "4             NA          NA                 NA\n",
       "5             NA          NA                 NA"
      ]
     },
     "metadata": {},
     "output_type": "display_data"
    }
   ],
   "source": [
    "df_mean_acc[1,3]  <- colMeans(df_acc_test)[[2]]\n",
    "df_mean_acc"
   ]
  },
  {
   "cell_type": "code",
   "execution_count": 40,
   "metadata": {},
   "outputs": [],
   "source": [
    "save_plots[[5]]  <-  plot_forecasts"
   ]
  },
  {
   "cell_type": "code",
   "execution_count": 41,
   "metadata": {},
   "outputs": [],
   "source": [
    "var_allornot  <- var_freq\n",
    "# var_allornot  <- 1\n",
    "var_shift  <-  var_topup\n",
    "# var_shift  <-  0"
   ]
  },
  {
   "cell_type": "code",
   "execution_count": null,
   "metadata": {},
   "outputs": [],
   "source": []
  },
  {
   "cell_type": "code",
   "execution_count": 42,
   "metadata": {},
   "outputs": [
    {
     "data": {
      "text/html": [
       "<table>\n",
       "<thead><tr><th></th><th scope=col>Квартальные</th><th scope=col>Сезонно сглаженные</th><th scope=col>Месячные</th></tr></thead>\n",
       "<tbody>\n",
       "\t<tr><th scope=row>1 level</th><td>64.30372</td><td>299.5702</td><td>15884.63</td></tr>\n",
       "\t<tr><th scope=row>2</th><td>      NA</td><td>      NA</td><td>      NA</td></tr>\n",
       "\t<tr><th scope=row>3</th><td>      NA</td><td>      NA</td><td>      NA</td></tr>\n",
       "\t<tr><th scope=row>4</th><td>      NA</td><td>      NA</td><td>      NA</td></tr>\n",
       "\t<tr><th scope=row>5</th><td>      NA</td><td>      NA</td><td>      NA</td></tr>\n",
       "</tbody>\n",
       "</table>\n"
      ],
      "text/latex": [
       "\\begin{tabular}{r|lll}\n",
       "  & Квартальные & Сезонно сглаженные & Месячные\\\\\n",
       "\\hline\n",
       "\t1 level & 64.30372 & 299.5702 & 15884.63\\\\\n",
       "\t2 &       NA &       NA &       NA\\\\\n",
       "\t3 &       NA &       NA &       NA\\\\\n",
       "\t4 &       NA &       NA &       NA\\\\\n",
       "\t5 &       NA &       NA &       NA\\\\\n",
       "\\end{tabular}\n"
      ],
      "text/markdown": [
       "\n",
       "| <!--/--> | Квартальные | Сезонно сглаженные | Месячные | \n",
       "|---|---|---|---|---|\n",
       "| 1 level | 64.30372 | 299.5702 | 15884.63 | \n",
       "| 2 |       NA |       NA |       NA | \n",
       "| 3 |       NA |       NA |       NA | \n",
       "| 4 |       NA |       NA |       NA | \n",
       "| 5 |       NA |       NA |       NA | \n",
       "\n",
       "\n"
      ],
      "text/plain": [
       "        Квартальные Сезонно сглаженные Месячные\n",
       "1 level 64.30372    299.5702           15884.63\n",
       "2             NA          NA                 NA\n",
       "3             NA          NA                 NA\n",
       "4             NA          NA                 NA\n",
       "5             NA          NA                 NA"
      ]
     },
     "metadata": {},
     "output_type": "display_data"
    }
   ],
   "source": [
    "df_mean_acc"
   ]
  },
  {
   "cell_type": "code",
   "execution_count": 43,
   "metadata": {},
   "outputs": [],
   "source": [
    "saveRDS(df_mean_acc, \"df_mean_acc.rds\")"
   ]
  },
  {
   "cell_type": "code",
   "execution_count": null,
   "metadata": {},
   "outputs": [],
   "source": [
    "top_models_list[[1]]  <-  "
   ]
  },
  {
   "cell_type": "code",
   "execution_count": 28,
   "metadata": {},
   "outputs": [
    {
     "name": "stderr",
     "output_type": "stream",
     "text": [
      "Warning message in sqrt(diag(x$var.coef)):\n",
      "“NaNs produced”"
     ]
    },
    {
     "data": {
      "text/plain": [
       "[[1]]\n",
       "[[1]][[1]]\n",
       "Series: msts(train, seasonal.periods = var_freq) \n",
       "ARIMA(2,0,0)(1,0,0)[4] with drift \n",
       "\n",
       "Coefficients:\n",
       "         ar1      ar2    sar1  intercept    drift\n",
       "      1.4138  -0.6210  0.9127  2139.9301  17.9593\n",
       "s.e.  0.1135   0.1132  0.0461   179.8832   4.4154\n",
       "\n",
       "sigma^2 estimated as 1005:  log likelihood=-235.89\n",
       "AIC=483.78   AICc=485.82   BIC=495\n",
       "\n",
       "[[1]][[2]]\n",
       "Series: msts(train, seasonal.periods = var_freq) \n",
       "ARIMA(2,0,0)(1,0,0)[4] with drift \n",
       "\n",
       "Coefficients:\n",
       "         ar1      ar2    sar1  intercept    drift\n",
       "      1.4110  -0.6200  0.9069  2219.0563  17.4781\n",
       "s.e.  0.1144   0.1139  0.0478   174.0724   4.3510\n",
       "\n",
       "sigma^2 estimated as 1017:  log likelihood=-236.05\n",
       "AIC=484.09   AICc=486.14   BIC=495.32\n",
       "\n",
       "[[1]][[3]]\n",
       "Series: msts(train, seasonal.periods = var_freq) \n",
       "ARIMA(2,0,0)(1,0,0)[4] with drift \n",
       "\n",
       "Coefficients:\n",
       "         ar1      ar2    sar1  intercept    drift\n",
       "      1.4030  -0.6173  0.9187  2308.0904  16.8391\n",
       "s.e.  0.1163   0.1162  0.0459   186.9164   4.4926\n",
       "\n",
       "sigma^2 estimated as 1079:  log likelihood=-237.7\n",
       "AIC=487.39   AICc=489.44   BIC=498.62\n",
       "\n",
       "[[1]][[4]]\n",
       "Series: msts(train, seasonal.periods = var_freq) \n",
       "ARIMA(2,0,0)(1,0,0)[4] with drift \n",
       "\n",
       "Coefficients:\n",
       "         ar1      ar2    sar1  intercept    drift\n",
       "      1.4121  -0.6225  0.9047  2386.4397  16.9681\n",
       "s.e.  0.1161   0.1168  0.0485   173.7221   4.3829\n",
       "\n",
       "sigma^2 estimated as 1049:  log likelihood=-236.74\n",
       "AIC=485.48   AICc=487.53   BIC=496.7\n",
       "\n",
       "[[1]][[5]]\n",
       "Series: msts(train, seasonal.periods = var_freq) \n",
       "ARIMA(2,0,0)(1,0,0)[4] with drift \n",
       "\n",
       "Coefficients:\n",
       "         ar1      ar2    sar1  intercept    drift\n",
       "      1.4313  -0.6229  0.9120  2439.9640  19.2311\n",
       "s.e.  0.1140   0.1148  0.0467   196.8256   4.8558\n",
       "\n",
       "sigma^2 estimated as 1041:  log likelihood=-236.81\n",
       "AIC=485.62   AICc=487.67   BIC=496.85\n",
       "\n",
       "[[1]][[6]]\n",
       "Series: msts(train, seasonal.periods = var_freq) \n",
       "ARIMA(2,0,0)(1,0,0)[4] with drift \n",
       "\n",
       "Coefficients:\n",
       "         ar1  ar2    sar1  intercept    drift\n",
       "      1.7559   -1  0.9362   2562.297  15.9382\n",
       "s.e.  0.0624  NaN  0.0374    223.333   5.1237\n",
       "\n",
       "sigma^2 estimated as 1511:  log likelihood=-246.55\n",
       "AIC=505.1   AICc=507.15   BIC=516.32\n",
       "\n",
       "\n",
       "[[2]]\n",
       "[[2]][[1]]\n",
       "Series: msts(train, seasonal.periods = var_freq) \n",
       "ARIMA(2,0,0) with drift \n",
       "\n",
       "Coefficients:\n",
       "         ar1      ar2   intercept    drift\n",
       "      1.2466  -0.4118  14978.4981  27.7712\n",
       "s.e.  0.1737   0.1760    212.9603  12.4861\n",
       "\n",
       "sigma^2 estimated as 12223:  log likelihood=-170.27\n",
       "AIC=350.54   AICc=353.27   BIC=357.2\n",
       "\n",
       "[[2]][[2]]\n",
       "Series: msts(train, seasonal.periods = var_freq) \n",
       "ARIMA(2,0,0) with drift \n",
       "\n",
       "Coefficients:\n",
       "         ar1      ar2   intercept    drift\n",
       "      1.2367  -0.4094  15254.0569  19.9847\n",
       "s.e.  0.1650   0.1674    177.4405  10.3928\n",
       "\n",
       "sigma^2 estimated as 10691:  log likelihood=-168.37\n",
       "AIC=346.74   AICc=349.47   BIC=353.4\n",
       "\n",
       "[[2]][[3]]\n",
       "Series: msts(train, seasonal.periods = var_freq) \n",
       "ARIMA(2,0,0) with drift \n",
       "\n",
       "Coefficients:\n",
       "         ar1      ar2   intercept    drift\n",
       "      1.2652  -0.4015  15224.1261  33.2419\n",
       "s.e.  0.1687   0.1730    222.3243  12.5537\n",
       "\n",
       "sigma^2 estimated as 11801:  log likelihood=-169.85\n",
       "AIC=349.71   AICc=352.44   BIC=356.37\n",
       "\n",
       "[[2]][[4]]\n",
       "Series: msts(train, seasonal.periods = var_freq) \n",
       "ARIMA(2,0,0) with drift \n",
       "\n",
       "Coefficients:\n",
       "         ar1      ar2   intercept    drift\n",
       "      1.3186  -0.5453  15064.2534  52.1541\n",
       "s.e.  0.1609   0.2059    184.3556   9.9738\n",
       "\n",
       "sigma^2 estimated as 12426:  log likelihood=-170.56\n",
       "AIC=351.12   AICc=353.85   BIC=357.79\n",
       "\n",
       "[[2]][[5]]\n",
       "Series: msts(train, seasonal.periods = var_freq) \n",
       "ARIMA(2,0,0) with drift \n",
       "\n",
       "Coefficients:\n",
       "         ar1     ar2   intercept    drift\n",
       "      0.6840  0.0060  14902.0698  77.5183\n",
       "s.e.  0.1928  0.2003     71.9343   4.1467\n",
       "\n",
       "sigma^2 estimated as 5414:  log likelihood=-158.25\n",
       "AIC=326.49   AICc=329.22   BIC=333.15\n",
       "\n",
       "[[2]][[6]]\n",
       "Series: msts(train, seasonal.periods = var_freq) \n",
       "ARIMA(2,0,0) with drift \n",
       "\n",
       "Coefficients:\n",
       "         ar1     ar2   intercept    drift\n",
       "      0.6617  0.0325  15004.2398  80.7706\n",
       "s.e.  0.1853  0.1880     68.3179   3.9468\n",
       "\n",
       "sigma^2 estimated as 4937:  log likelihood=-156.95\n",
       "AIC=323.9   AICc=326.63   BIC=330.56\n",
       "\n",
       "\n",
       "[[3]]\n",
       "[[3]][[1]]\n",
       "Series: msts(train, seasonal.periods = var_freq) \n",
       "ARIMA(2,0,0)(1,0,0)[12] with drift \n",
       "\n",
       "Coefficients:\n",
       "         ar1      ar2    sar1   intercept    drift\n",
       "      0.6883  -0.1706  0.7002  -62187.524  806.135\n",
       "s.e.  0.1152   0.1171  0.0765    6654.961  115.132\n",
       "\n",
       "sigma^2 estimated as 61723446:  log likelihood=-874.3\n",
       "AIC=1760.6   AICc=1761.7   BIC=1775.19\n",
       "\n",
       "[[3]][[2]]\n",
       "Series: msts(train, seasonal.periods = var_freq) \n",
       "ARIMA(2,0,0)(1,0,0)[12] with drift \n",
       "\n",
       "Coefficients:\n",
       "         ar1      ar2    sar1   intercept     drift\n",
       "      0.6139  -0.1276  0.6804  -43614.843  602.8884\n",
       "s.e.  0.1077   0.1081  0.0773    5768.797  101.8896\n",
       "\n",
       "sigma^2 estimated as 56877917:  log likelihood=-870.51\n",
       "AIC=1753.01   AICc=1754.1   BIC=1767.6\n",
       "\n",
       "[[3]][[3]]\n",
       "Series: msts(train, seasonal.periods = var_freq) \n",
       "ARIMA(2,0,0)(1,0,0)[12] with drift \n",
       "\n",
       "Coefficients:\n",
       "         ar1      ar2    sar1   intercept     drift\n",
       "      0.6429  -0.1369  0.6786  -33404.190  494.4263\n",
       "s.e.  0.1086   0.1094  0.0788    5972.135  105.6318\n",
       "\n",
       "sigma^2 estimated as 56682048:  log likelihood=-870.35\n",
       "AIC=1752.71   AICc=1753.8   BIC=1767.29\n",
       "\n",
       "[[3]][[4]]\n",
       "Series: msts(train, seasonal.periods = var_freq) \n",
       "ARIMA(2,0,0)(1,0,0)[12] with drift \n",
       "\n",
       "Coefficients:\n",
       "         ar1      ar2    sar1   intercept     drift\n",
       "      0.6786  -0.1263  0.6718  -23746.844  387.4077\n",
       "s.e.  0.1092   0.1086  0.0810    6495.987  115.4784\n",
       "\n",
       "sigma^2 estimated as 56480690:  log likelihood=-870.13\n",
       "AIC=1752.26   AICc=1753.35   BIC=1766.85\n",
       "\n",
       "[[3]][[5]]\n",
       "Series: msts(train, seasonal.periods = var_freq) \n",
       "ARIMA(2,0,0)(1,0,0)[12] with drift \n",
       "\n",
       "Coefficients:\n",
       "         ar1     ar2    sar1   intercept     drift\n",
       "      0.5889  0.0336  0.7680  -19254.647  273.1697\n",
       "s.e.  0.1135  0.1142  0.0675    8423.285  138.1171\n",
       "\n",
       "sigma^2 estimated as 49974478:  log likelihood=-866.73\n",
       "AIC=1745.46   AICc=1746.55   BIC=1760.05\n",
       "\n"
      ]
     },
     "metadata": {},
     "output_type": "display_data"
    }
   ],
   "source": [
    "this_models_list"
   ]
  },
  {
   "cell_type": "code",
   "execution_count": null,
   "metadata": {},
   "outputs": [],
   "source": []
  }
 ],
 "metadata": {
  "kernelspec": {
   "display_name": "R 3.5.1",
   "language": "R",
   "name": "ir"
  },
  "language_info": {
   "codemirror_mode": "r",
   "file_extension": ".r",
   "mimetype": "text/x-r-source",
   "name": "R",
   "pygments_lexer": "r",
   "version": "3.5.2"
  }
 },
 "nbformat": 4,
 "nbformat_minor": 2
}
