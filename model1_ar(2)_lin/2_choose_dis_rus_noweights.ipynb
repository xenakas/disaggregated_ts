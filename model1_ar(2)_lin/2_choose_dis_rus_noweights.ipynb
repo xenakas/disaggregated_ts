{
 "cells": [
  {
   "cell_type": "markdown",
   "metadata": {},
   "source": [
    "#### 1"
   ]
  },
  {
   "cell_type": "code",
   "execution_count": 1,
   "metadata": {
    "scrolled": true
   },
   "outputs": [
    {
     "name": "stderr",
     "output_type": "stream",
     "text": [
      "\n",
      "Attaching package: ‘dplyr’\n",
      "\n",
      "The following objects are masked from ‘package:stats’:\n",
      "\n",
      "    filter, lag\n",
      "\n",
      "The following objects are masked from ‘package:base’:\n",
      "\n",
      "    intersect, setdiff, setequal, union\n",
      "\n",
      "\n",
      "Attaching package: ‘gridExtra’\n",
      "\n",
      "The following object is masked from ‘package:dplyr’:\n",
      "\n",
      "    combine\n",
      "\n"
     ]
    }
   ],
   "source": [
    "library(forecast)\n",
    "library(ggplot2)\n",
    "library(dplyr)\n",
    "library(gridExtra)"
   ]
  },
  {
   "cell_type": "code",
   "execution_count": 2,
   "metadata": {},
   "outputs": [
    {
     "name": "stderr",
     "output_type": "stream",
     "text": [
      "Loading required package: foreach\n",
      "Loading required package: iterators\n",
      "Loading required package: parallel\n",
      "Loading required package: svMisc\n",
      "\n",
      "Attaching package: ‘svMisc’\n",
      "\n",
      "The following object is masked from ‘package:utils’:\n",
      "\n",
      "    ?\n",
      "\n"
     ]
    }
   ],
   "source": [
    "# library(doParallel)\n",
    "library(doMC)\n",
    "options(cores = 10)\n",
    "registerDoMC()\n",
    "require(svMisc)"
   ]
  },
  {
   "cell_type": "code",
   "execution_count": 3,
   "metadata": {},
   "outputs": [
    {
     "name": "stderr",
     "output_type": "stream",
     "text": [
      "\n",
      "Attaching package: ‘data.table’\n",
      "\n",
      "The following objects are masked from ‘package:dplyr’:\n",
      "\n",
      "    between, first, last\n",
      "\n"
     ]
    }
   ],
   "source": [
    "library(data.table)\n",
    "library(hts)  "
   ]
  },
  {
   "cell_type": "code",
   "execution_count": 4,
   "metadata": {},
   "outputs": [],
   "source": [
    "df_eu  <-  read.csv(file=\"../data_hts/hts_rus_summed.csv\", header=TRUE, sep=\",\", row.names =1 )\n",
    "# df_eu  <-  df_eu/1000\n",
    "var_freq  <- 12    \n",
    "var_start_year  <- 2006      \n",
    "gdp_agg <- df_eu_sums <-  rowSums(df_eu)\n",
    "gdp_agg  <- ts(gdp_agg, frequency = var_freq, start = var_start_year) "
   ]
  },
  {
   "cell_type": "code",
   "execution_count": 5,
   "metadata": {},
   "outputs": [],
   "source": [
    "var_h  <- 24\n",
    "var_window  <-  84 - 1\n",
    "var_topup  <-  -1\n",
    "var_iter   <- (length(gdp_agg)+var_topup)/var_freq-(var_window+1)/var_freq-2"
   ]
  },
  {
   "cell_type": "code",
   "execution_count": 6,
   "metadata": {},
   "outputs": [],
   "source": [
    "# var_allornot  <- var_freq\n",
    "var_allornot  <- 1\n",
    "# var_shift  <-  var_topup\n",
    "var_shift  <-  0\n",
    "\n",
    "var_arpdq   <-  c(2,0,0)\n",
    "var_sarpdq   <-  c(1,0,0)\n",
    "var_drift   <-  TRUE\n",
    "var_constant   <-  TRUE\n",
    "\n",
    "var_char  <-  c(4,2)"
   ]
  },
  {
   "cell_type": "code",
   "execution_count": 7,
   "metadata": {},
   "outputs": [],
   "source": [
    "df_eu  <-  as.data.table(df_eu)\n",
    "data  <-  df_eu\n",
    "y  <-  hts(data, characters = var_char)\n",
    "s  <-  smatrix(y)\n",
    "# gts_train  <- window(y, start=19, end=46)\n",
    "# gts_test  <- window(y, start=47, end=54)\n",
    "# allts <- aggts(gts_train)\n",
    "# allf <- matrix(, nrow=var_h, ncol=ncol(allts))"
   ]
  },
  {
   "cell_type": "code",
   "execution_count": 8,
   "metadata": {},
   "outputs": [
    {
     "data": {
      "text/html": [
       "81"
      ],
      "text/latex": [
       "81"
      ],
      "text/markdown": [
       "81"
      ],
      "text/plain": [
       "[1] 81"
      ]
     },
     "metadata": {},
     "output_type": "display_data"
    }
   ],
   "source": [
    "var_countries  <-  dim(read.csv(file=\"../clustering/hts_rus_summed_state.csv\", header=TRUE, sep=\",\", row.names =1 ))[2]+1\n",
    "var_countries\n"
   ]
  },
  {
   "cell_type": "code",
   "execution_count": 9,
   "metadata": {},
   "outputs": [
    {
     "name": "stdout",
     "output_type": "stream",
     "text": [
      "[1]   1  84  85 108\n",
      "Hierarchical Time Series \n",
      "3 Levels \n",
      "Number of nodes at each level: 1 80 320 \n",
      "Total number of series: 401 \n",
      "Number of observations per series: 24 \n",
      "Top level series: \n",
      "Time Series:\n",
      "Start = 85 \n",
      "End = 108 \n",
      "Frequency = 1 \n",
      " [1] -4896.81750  1643.05791  5966.87984    45.48826  6254.84774  9173.73539\n",
      " [7] 17897.91381 22701.81144 15356.73933 18939.87088 13488.40643  8877.97005\n",
      "[13]  9995.90298 13671.31077 16679.30287 13109.15106 17749.10747 19186.64059\n",
      "[19] 24620.69955 27667.15791 23344.44777 26846.98551 23459.07566 21464.56754\n",
      "Hierarchical Time Series \n",
      "3 Levels \n",
      "Number of nodes at each level: 1 80 320 \n",
      "Total number of series: 401 \n",
      "Number of observations per series: 24 \n",
      "Top level series: \n",
      "Time Series:\n",
      "Start = 85 \n",
      "End = 108 \n",
      "Frequency = 1 \n",
      " [1] -21804  -5608 -15157  -9048  -8227   6992  23186  23066  11709  11702\n",
      "[11]   5839    263 -14727  -1700  -6177  -2526  -5848   6309  23731  19854\n",
      "[21]  12060  10071    438  -2700\n",
      "          0%---------25%---------50%---------75%--------100%\n",
      "Progress: [1]  13  96  97 120\n",
      "Hierarchical Time Series \n",
      "3 Levels \n",
      "Number of nodes at each level: 1 80 320 \n",
      "Total number of series: 401 \n",
      "Number of observations per series: 24 \n",
      "Top level series: \n",
      "Time Series:\n",
      "Start = 85 \n",
      "End = 108 \n",
      "Frequency = 1 \n",
      " [1] -1745.3704   960.4030  -841.0936  2810.9687  3836.3620  8961.4426\n",
      " [7] 22073.7314 20294.2108 13163.1707 19522.5046 11380.9880 10861.6712\n",
      "[13] 10748.1167 10895.7038 10843.5698 13032.9859 13904.1976 16129.3337\n",
      "[19] 24956.2579 23689.6809 19428.4714 25043.1426 19297.6762 19717.9915\n",
      "Hierarchical Time Series \n",
      "3 Levels \n",
      "Number of nodes at each level: 1 80 320 \n",
      "Total number of series: 401 \n",
      "Number of observations per series: 24 \n",
      "Top level series: \n",
      "Time Series:\n",
      "Start = 97 \n",
      "End = 120 \n",
      "Frequency = 1 \n",
      " [1] -14727  -1700  -6177  -2526  -5848   6309  23731  19854  12060  10071\n",
      "[11]    438  -2700 -24328 -11496 -13858  -6986  -5066   4880  26123  23705\n",
      "[21]  18556  14103   4114   8705\n",
      "[1]  25 108 109 132\n",
      "Hierarchical Time Series \n",
      "3 Levels \n",
      "Number of nodes at each level: 1 80 320 \n",
      "Total number of series: 401 \n",
      "Number of observations per series: 24 \n",
      "Top level series: \n",
      "Time Series:\n",
      "Start = 85 \n",
      "End = 108 \n",
      "Frequency = 1 \n",
      " [1] -1914.979  1940.335  2424.975  6671.640  5598.498  9041.007 24733.011\n",
      " [8] 19115.183 16108.683 18065.300  6930.452 11000.311  9546.344 10975.489\n",
      "[15] 11449.989 14834.893 14422.944 15462.818 26993.840 22601.849 21321.339\n",
      "[22] 23636.566 15149.711 19537.566\n",
      "Hierarchical Time Series \n",
      "3 Levels \n",
      "Number of nodes at each level: 1 80 320 \n",
      "Total number of series: 401 \n",
      "Number of observations per series: 24 \n",
      "Top level series: \n",
      "Time Series:\n",
      "Start = 109 \n",
      "End = 132 \n",
      "Frequency = 1 \n",
      " [1] -24328 -11496 -13858  -6986  -5066   4880  26123  23705  18556  14103\n",
      "[11]   4114   8705 -26799  -6998   1542  -2629  -3031  10067  18591  22017\n",
      "[21]  10026   2420  -1256 -12220\n",
      "|[1]  37 120 121 144\n",
      "Hierarchical Time Series \n",
      "3 Levels \n",
      "Number of nodes at each level: 1 80 320 \n",
      "Total number of series: 401 \n",
      "Number of observations per series: 24 \n",
      "Top level series: \n",
      "Time Series:\n",
      "Start = 85 \n",
      "End = 108 \n",
      "Frequency = 1 \n",
      " [1] -5281.390 -2287.198  2039.604  3740.767  2798.257 10998.978 23601.476\n",
      " [8] 18845.661 18440.235 17335.803  8324.180 16077.090  6567.837  7191.419\n",
      "[15] 11292.335 11879.371 10768.906 16408.274 24497.991 20624.945 21176.469\n",
      "[22] 20962.637 14418.749 20715.684\n",
      "Hierarchical Time Series \n",
      "3 Levels \n",
      "Number of nodes at each level: 1 80 320 \n",
      "Total number of series: 401 \n",
      "Number of observations per series: 24 \n",
      "Top level series: \n",
      "Time Series:\n",
      "Start = 121 \n",
      "End = 144 \n",
      "Frequency = 1 \n",
      " [1] -26799  -6998   1542  -2629  -3031  10067  18591  22017  10026   2420\n",
      "[11]  -1256 -12220 -41475 -19176 -12642 -15942 -18179  -6838   5045  10369\n",
      "[21]  -1320  -8177  -6696 -12005\n",
      "|[1]  49 132 133 156\n",
      "Hierarchical Time Series \n",
      "3 Levels \n",
      "Number of nodes at each level: 1 80 320 \n",
      "Total number of series: 401 \n",
      "Number of observations per series: 24 \n",
      "Top level series: \n",
      "Time Series:\n",
      "Start = 85 \n",
      "End = 108 \n",
      "Frequency = 1 \n",
      " [1]  -8121.3131    430.6877  -2324.8817    606.8877   8796.3692  12575.8677\n",
      " [7]  17370.3069   8033.1363   3779.6984   2954.9764  -2332.0288 -16510.7700\n",
      "[13]    455.8841   6274.6896   3363.6539   5642.3943  10431.8554  12272.8913\n",
      "[19]  15903.6483   9722.3188   7192.4571   7163.9683   4411.3906  -3303.6251\n",
      "Hierarchical Time Series \n",
      "3 Levels \n",
      "Number of nodes at each level: 1 80 320 \n",
      "Total number of series: 401 \n",
      "Number of observations per series: 24 \n",
      "Top level series: \n",
      "Time Series:\n",
      "Start = 134 \n",
      "End = 157 \n",
      "Frequency = 1 \n",
      " [1] -19176 -12642 -15942 -18179  -6838   5045  10369  -1320  -8177  -6696\n",
      "[11] -12005 -29346 -19876 -35619 -33053 -24949 -16354  -5987   1730  -4072\n",
      "[21]  -7117 -11516 -24655 -43180\n"
     ]
    }
   ],
   "source": [
    "l <- ac <- m_top  <- l_test  <-  l_top  <-  list()\n",
    "\n",
    "df_ac  <-  data.frame(matrix(ncol = 0, nrow = 0))\n",
    "\n",
    "k  <- 0\n",
    "\n",
    "for (i in 0:(var_iter*var_allornot - var_shift)){\n",
    "    k  <-  k+1\n",
    "    st_year  <-  var_start_year + i/var_allornot\n",
    "    train_start  <- st_year \n",
    "    train_end  <- st_year + 1/var_freq*(var_window)\n",
    "    test_start  <- st_year + 1/var_freq*(var_window+1) \n",
    "    test_end  <-  st_year + 1/var_freq*(var_window+var_h)\n",
    "    \n",
    "    dates  <-  (c(train_start, train_end, test_start, test_end, train_start-var_topup/var_freq, train_end-var_topup/var_freq, test_start-var_topup/var_freq)-var_start_year)*var_freq+1\n",
    "    \n",
    "    train_start  <- dates[1] \n",
    "    train_end  <- dates[2]\n",
    "    test_start  <- dates[3]\n",
    "    test_end  <- dates[4]\n",
    "    \n",
    "    print(c(train_start, train_end, test_start, test_end))\n",
    "    \n",
    "    \n",
    "    if (i == 0){\n",
    "        gts_train <- window(y, end=train_end)    \n",
    "    }\n",
    "    else{\n",
    "        if ((var_shift == 0) & (i == var_iter*var_allornot - var_shift)){\n",
    "            gts_train <- window(y, start=dates[5], end=dates[6])\n",
    "        }else{\n",
    "            gts_train <- window(y, start=train_start, end=train_end)\n",
    "    }}\n",
    "    \n",
    "    if ((var_shift == 0) & (i == var_iter*var_allornot - var_shift)){\n",
    "        gts_test <- window(y, start=dates[7])\n",
    "      \n",
    "    }else{  \n",
    "     gts_test <- window(y, start=test_start, end=test_end)\n",
    "          \n",
    "    }\n",
    "    \n",
    "    \n",
    "    allts <- aggts(gts_train)\n",
    "    \n",
    "    ms <-  foreach(j=1:ncol(allts)) %dopar% {\n",
    "        model  <- tryCatch(        \n",
    "        Arima(msts(allts[,j], seasonal.periods = var_freq), order=var_arpdq, seasonal=var_sarpdq,  include.drift = var_drift, include.mean = var_constant, method=\"ML\"), \n",
    "            error = function(e) \n",
    "#                               {tryCatch( \n",
    "                Arima(msts(allts[,j], seasonal.periods = var_freq), order=var_arpdq, seasonal=var_sarpdq, include.drift = var_drift, include.mean = var_constant, method=\"CSS\") #,\n",
    "#                          error = function(e)              \n",
    "#                             auto.arima(msts(allts[,j], seasonal.periods = var_freq))\n",
    "#                          )}\n",
    "                        \n",
    "            )\n",
    "        \n",
    "    }\n",
    "    \n",
    "     \n",
    "        \n",
    "    allf <- matrix(, nrow=var_h, ncol=ncol(allts))\n",
    "        \n",
    "    \n",
    "    for(j in 1:ncol(allts)){  \n",
    "    allf[,j] <- forecast(ms[[j]], h=var_h)$mean\n",
    "    \n",
    "    \n",
    "    }\n",
    "\n",
    "    \n",
    "    allf <- ts(allf)\n",
    "    colnames(allf)  <-  colnames(allts)  \n",
    "    g <- get_nodes(gts_train)\n",
    "    y.f <- combinef(allf, nodes = g, weights = c(rep(0, var_countries), rep(1, (ncol(allts)-var_countries) )))\n",
    "    forecasts_7  <- y.f[[1]]\n",
    "    colnames(forecasts_7)  <- colnames(y[[1]])\n",
    "    data_f5  <- rbind(gts_train[[1]], forecasts_7)\n",
    "    y_f5  <- hts(data_f5, characters = var_char)\n",
    "        \n",
    "#     if (i == 4){\n",
    "#         gts_forecasts_7 <- window(y_f5, start=test_start)}\n",
    "#     else{\n",
    "#     gts_forecasts_7 <- window(y_f5, start=test_start, end=test_end)\n",
    "# #     }\n",
    "\n",
    "#     if ((var_shift == 0) & (i == var_iter*var_allornot - var_shift)){\n",
    "#         gts_forecasts_7 <- window(y_f5, start=dates[7])\n",
    "      \n",
    "#     }else{  \n",
    "     gts_forecasts_7 <- window(y_f5, start=dim(y_f5[[1]])[1]-var_h+1)\n",
    "          \n",
    "#     }\n",
    "         \n",
    "    print(gts_forecasts_7)\n",
    "    print(gts_test)\n",
    "            \n",
    "    \n",
    "    l[[k]]  <- allf\n",
    "\n",
    "    ac[[k]]  <-  accuracy.gts(gts_forecasts_7, gts_test)[, 1] \n",
    "\n",
    "    progress(i, progress.bar = TRUE)\n",
    "            \n",
    "    }"
   ]
  },
  {
   "cell_type": "code",
   "execution_count": 10,
   "metadata": {},
   "outputs": [],
   "source": [
    "var_acc_metrics  <-  c(1,2,4)\n",
    "df_acc_test  <- ac[[1]][var_acc_metrics]\n",
    "for (i in ac[2:length(ac)]){\n",
    "    x  <-  i[var_acc_metrics]\n",
    "    df_acc_test   <-  cbind(df_acc_test, x)\n",
    "}\n",
    "df_acc_test  <- t(df_acc_test)\n",
    "df_acc_test  <-  as.data.frame(df_acc_test)\n",
    "row.names(df_acc_test)  <-  seq(1,length(ac))\n",
    "df_acc  <- df_acc_test\n",
    "df_acc  <-  cbind(df_acc, seq(1, length(ac)))\n",
    "colnames(df_acc)[length(var_acc_metrics)+1]  <-  'Iteration'"
   ]
  },
  {
   "cell_type": "code",
   "execution_count": 11,
   "metadata": {},
   "outputs": [],
   "source": [
    "df_acc$Iteration  <-  df_acc$Iteration*var_freq-(var_freq-1)"
   ]
  },
  {
   "cell_type": "code",
   "execution_count": 12,
   "metadata": {},
   "outputs": [],
   "source": [
    "df_acc$Iteration[length(df_acc$Iteration)]  <-   df_acc$Iteration[length(df_acc$Iteration)] - var_topup"
   ]
  },
  {
   "cell_type": "code",
   "execution_count": 13,
   "metadata": {},
   "outputs": [
    {
     "data": {
      "text/plain": [
       "Time Series:\n",
       "Start = 1 \n",
       "End = 24 \n",
       "Frequency = 1 \n",
       " [1] -18142.1838  -6612.8484  -6574.0089  -4631.2833   7192.7245  14944.1559\n",
       " [7]  18367.5111   9470.5287   3864.2489   1240.0827  -7172.3909 -29985.4587\n",
       "[13] -11562.2272  -2423.2258  -2315.9107   -724.4085   8614.6865  14753.3097\n",
       "[19]  17492.4210  10561.1235   6210.7762   4199.6707  -2354.4295 -20209.7655"
      ]
     },
     "metadata": {},
     "output_type": "display_data"
    }
   ],
   "source": [
    "l[[5]][,1]"
   ]
  },
  {
   "cell_type": "code",
   "execution_count": 15,
   "metadata": {},
   "outputs": [
    {
     "data": {
      "text/html": [
       "<table>\n",
       "<thead><tr><th scope=col>ME</th><th scope=col>RMSE</th><th scope=col>MAPE</th><th scope=col>Iteration</th></tr></thead>\n",
       "<tbody>\n",
       "\t<tr><td>-12147.76</td><td>14761.82 </td><td>554.2026 </td><td> 1       </td></tr>\n",
       "\t<tr><td>-10072.05</td><td>13591.11 </td><td>243.9154 </td><td>13       </td></tr>\n",
       "\t<tr><td>-11477.74</td><td>15317.18 </td><td>246.2753 </td><td>25       </td></tr>\n",
       "\t<tr><td>-17351.84</td><td>21277.64 </td><td>275.3793 </td><td>37       </td></tr>\n",
       "\t<tr><td>-18514.39</td><td>21040.37 </td><td>190.4801 </td><td>50       </td></tr>\n",
       "</tbody>\n",
       "</table>\n"
      ],
      "text/latex": [
       "\\begin{tabular}{r|llll}\n",
       " ME & RMSE & MAPE & Iteration\\\\\n",
       "\\hline\n",
       "\t -12147.76 & 14761.82  & 554.2026  &  1       \\\\\n",
       "\t -10072.05 & 13591.11  & 243.9154  & 13       \\\\\n",
       "\t -11477.74 & 15317.18  & 246.2753  & 25       \\\\\n",
       "\t -17351.84 & 21277.64  & 275.3793  & 37       \\\\\n",
       "\t -18514.39 & 21040.37  & 190.4801  & 50       \\\\\n",
       "\\end{tabular}\n"
      ],
      "text/markdown": [
       "\n",
       "ME | RMSE | MAPE | Iteration | \n",
       "|---|---|---|---|---|\n",
       "| -12147.76 | 14761.82  | 554.2026  |  1        | \n",
       "| -10072.05 | 13591.11  | 243.9154  | 13        | \n",
       "| -11477.74 | 15317.18  | 246.2753  | 25        | \n",
       "| -17351.84 | 21277.64  | 275.3793  | 37        | \n",
       "| -18514.39 | 21040.37  | 190.4801  | 50        | \n",
       "\n",
       "\n"
      ],
      "text/plain": [
       "  ME        RMSE     MAPE     Iteration\n",
       "1 -12147.76 14761.82 554.2026  1       \n",
       "2 -10072.05 13591.11 243.9154 13       \n",
       "3 -11477.74 15317.18 246.2753 25       \n",
       "4 -17351.84 21277.64 275.3793 37       \n",
       "5 -18514.39 21040.37 190.4801 50       "
      ]
     },
     "metadata": {},
     "output_type": "display_data"
    }
   ],
   "source": [
    "df_acc"
   ]
  },
  {
   "cell_type": "code",
   "execution_count": 16,
   "metadata": {},
   "outputs": [
    {
     "data": {
      "text/html": [
       "<dl class=dl-horizontal>\n",
       "\t<dt>ME</dt>\n",
       "\t\t<dd>-13912.7556585667</dd>\n",
       "\t<dt>RMSE</dt>\n",
       "\t\t<dd>17197.6266703264</dd>\n",
       "\t<dt>MAPE</dt>\n",
       "\t\t<dd>302.050513438874</dd>\n",
       "\t<dt>Iteration</dt>\n",
       "\t\t<dd>25.2</dd>\n",
       "</dl>\n"
      ],
      "text/latex": [
       "\\begin{description*}\n",
       "\\item[ME] -13912.7556585667\n",
       "\\item[RMSE] 17197.6266703264\n",
       "\\item[MAPE] 302.050513438874\n",
       "\\item[Iteration] 25.2\n",
       "\\end{description*}\n"
      ],
      "text/markdown": [
       "ME\n",
       ":   -13912.7556585667RMSE\n",
       ":   17197.6266703264MAPE\n",
       ":   302.050513438874Iteration\n",
       ":   25.2\n",
       "\n"
      ],
      "text/plain": [
       "         ME        RMSE        MAPE   Iteration \n",
       "-13912.7557  17197.6267    302.0505     25.2000 "
      ]
     },
     "metadata": {},
     "output_type": "display_data"
    }
   ],
   "source": [
    "colMeans(df_acc)"
   ]
  },
  {
   "cell_type": "code",
   "execution_count": 17,
   "metadata": {},
   "outputs": [
    {
     "data": {
      "text/html": [
       "<table>\n",
       "<thead><tr><th></th><th scope=col>Квартальные</th><th scope=col>Сезонно сглаженные</th><th scope=col>Месячные</th></tr></thead>\n",
       "<tbody>\n",
       "\t<tr><th scope=row>1 level</th><td>64.30372</td><td>299.5702</td><td>15884.63</td></tr>\n",
       "\t<tr><th scope=row>3 level</th><td>66.31314</td><td>283.3258</td><td>15346.86</td></tr>\n",
       "\t<tr><th scope=row>2 level (state)</th><td>67.92739</td><td>266.6368</td><td>15342.24</td></tr>\n",
       "\t<tr><th scope=row>2 level (type)</th><td>63.95990</td><td>299.9543</td><td>15511.31</td></tr>\n",
       "\t<tr><th scope=row>2 level (clusetered)</th><td>67.09557</td><td>247.4651</td><td>15338.88</td></tr>\n",
       "</tbody>\n",
       "</table>\n"
      ],
      "text/latex": [
       "\\begin{tabular}{r|lll}\n",
       "  & Квартальные & Сезонно сглаженные & Месячные\\\\\n",
       "\\hline\n",
       "\t1 level & 64.30372 & 299.5702 & 15884.63\\\\\n",
       "\t3 level & 66.31314 & 283.3258 & 15346.86\\\\\n",
       "\t2 level (state) & 67.92739 & 266.6368 & 15342.24\\\\\n",
       "\t2 level (type) & 63.95990 & 299.9543 & 15511.31\\\\\n",
       "\t2 level (clusetered) & 67.09557 & 247.4651 & 15338.88\\\\\n",
       "\\end{tabular}\n"
      ],
      "text/markdown": [
       "\n",
       "| <!--/--> | Квартальные | Сезонно сглаженные | Месячные | \n",
       "|---|---|---|---|---|\n",
       "| 1 level | 64.30372 | 299.5702 | 15884.63 | \n",
       "| 3 level | 66.31314 | 283.3258 | 15346.86 | \n",
       "| 2 level (state) | 67.92739 | 266.6368 | 15342.24 | \n",
       "| 2 level (type) | 63.95990 | 299.9543 | 15511.31 | \n",
       "| 2 level (clusetered) | 67.09557 | 247.4651 | 15338.88 | \n",
       "\n",
       "\n"
      ],
      "text/plain": [
       "                     Квартальные Сезонно сглаженные Месячные\n",
       "1 level              64.30372    299.5702           15884.63\n",
       "3 level              66.31314    283.3258           15346.86\n",
       "2 level (state)      67.92739    266.6368           15342.24\n",
       "2 level (type)       63.95990    299.9543           15511.31\n",
       "2 level (clusetered) 67.09557    247.4651           15338.88"
      ]
     },
     "metadata": {},
     "output_type": "display_data"
    }
   ],
   "source": [
    "df_mean_acc <- readRDS(\"df_mean_acc_no_weights.rds\")\n",
    "df_mean_acc"
   ]
  },
  {
   "cell_type": "code",
   "execution_count": 18,
   "metadata": {},
   "outputs": [
    {
     "data": {
      "text/html": [
       "<table>\n",
       "<thead><tr><th></th><th scope=col>Квартальные</th><th scope=col>Сезонно сглаженные</th><th scope=col>Месячные</th></tr></thead>\n",
       "<tbody>\n",
       "\t<tr><th scope=row>1 level</th><td>64.30372</td><td>299.5702</td><td>15884.63</td></tr>\n",
       "\t<tr><th scope=row>3 level</th><td>66.31314</td><td>283.3258</td><td>17197.63</td></tr>\n",
       "\t<tr><th scope=row>2 level (state)</th><td>67.92739</td><td>266.6368</td><td>15342.24</td></tr>\n",
       "\t<tr><th scope=row>2 level (type)</th><td>63.95990</td><td>299.9543</td><td>15511.31</td></tr>\n",
       "\t<tr><th scope=row>2 level (clusetered)</th><td>67.09557</td><td>247.4651</td><td>15338.88</td></tr>\n",
       "</tbody>\n",
       "</table>\n"
      ],
      "text/latex": [
       "\\begin{tabular}{r|lll}\n",
       "  & Квартальные & Сезонно сглаженные & Месячные\\\\\n",
       "\\hline\n",
       "\t1 level & 64.30372 & 299.5702 & 15884.63\\\\\n",
       "\t3 level & 66.31314 & 283.3258 & 17197.63\\\\\n",
       "\t2 level (state) & 67.92739 & 266.6368 & 15342.24\\\\\n",
       "\t2 level (type) & 63.95990 & 299.9543 & 15511.31\\\\\n",
       "\t2 level (clusetered) & 67.09557 & 247.4651 & 15338.88\\\\\n",
       "\\end{tabular}\n"
      ],
      "text/markdown": [
       "\n",
       "| <!--/--> | Квартальные | Сезонно сглаженные | Месячные | \n",
       "|---|---|---|---|---|\n",
       "| 1 level | 64.30372 | 299.5702 | 15884.63 | \n",
       "| 3 level | 66.31314 | 283.3258 | 17197.63 | \n",
       "| 2 level (state) | 67.92739 | 266.6368 | 15342.24 | \n",
       "| 2 level (type) | 63.95990 | 299.9543 | 15511.31 | \n",
       "| 2 level (clusetered) | 67.09557 | 247.4651 | 15338.88 | \n",
       "\n",
       "\n"
      ],
      "text/plain": [
       "                     Квартальные Сезонно сглаженные Месячные\n",
       "1 level              64.30372    299.5702           15884.63\n",
       "3 level              66.31314    283.3258           17197.63\n",
       "2 level (state)      67.92739    266.6368           15342.24\n",
       "2 level (type)       63.95990    299.9543           15511.31\n",
       "2 level (clusetered) 67.09557    247.4651           15338.88"
      ]
     },
     "metadata": {},
     "output_type": "display_data"
    }
   ],
   "source": [
    "df_mean_acc[2,3]  <-  colMeans(df_acc)[[2]] \n",
    "df_mean_acc"
   ]
  },
  {
   "cell_type": "markdown",
   "metadata": {},
   "source": [
    "#### 2 state"
   ]
  },
  {
   "cell_type": "code",
   "execution_count": 20,
   "metadata": {},
   "outputs": [],
   "source": [
    "df_eu  <-  read.csv(file=\"../clustering/hts_rus_summed_state.csv\", header=TRUE, sep=\",\", row.names =1 )\n",
    "# df_eu  <-  df_eu/1000\n"
   ]
  },
  {
   "cell_type": "code",
   "execution_count": 21,
   "metadata": {},
   "outputs": [],
   "source": [
    "# var_allornot  <- var_freq\n",
    "var_allornot  <- 1\n",
    "# var_shift  <-  var_topup\n",
    "var_shift  <-  0"
   ]
  },
  {
   "cell_type": "code",
   "execution_count": 22,
   "metadata": {},
   "outputs": [
    {
     "name": "stderr",
     "output_type": "stream",
     "text": [
      "Since argument characters are not specified, the default labelling system is used.\n"
     ]
    }
   ],
   "source": [
    "df_eu  <-  as.data.table(df_eu)\n",
    "data  <-  df_eu\n",
    "y  <-  hts(data)\n",
    "s  <-  smatrix(y)\n",
    "# gts_train  <- window(y, start=20, end=67)\n",
    "# gts_test  <- window(y, start=68, end=75)\n",
    "allts <- aggts(y)\n",
    "allf <- matrix(, nrow=var_h, ncol=ncol(allts))"
   ]
  },
  {
   "cell_type": "code",
   "execution_count": 23,
   "metadata": {},
   "outputs": [
    {
     "name": "stdout",
     "output_type": "stream",
     "text": [
      "[1]   1  84  85 108\n"
     ]
    },
    {
     "name": "stderr",
     "output_type": "stream",
     "text": [
      "Since argument characters are not specified, the default labelling system is used.\n"
     ]
    },
    {
     "name": "stdout",
     "output_type": "stream",
     "text": [
      "Hierarchical Time Series \n",
      "2 Levels \n",
      "Number of nodes at each level: 1 80 \n",
      "Total number of series: 81 \n",
      "Number of observations per series: 24 \n",
      "Top level series: \n",
      "Time Series:\n",
      "Start = 85 \n",
      "End = 108 \n",
      "Frequency = 1 \n",
      " [1] -7918.220  2393.520  5644.441  2583.429  4977.876  9563.807 16605.918\n",
      " [8] 21433.589 16864.790 16984.628 13986.357  9682.351  8842.413 14491.880\n",
      "[15] 16414.232 15256.753 16744.147 19586.676 23665.677 26842.536 24757.787\n",
      "[22] 25317.843 23936.404 22152.837\n",
      "Hierarchical Time Series \n",
      "2 Levels \n",
      "Number of nodes at each level: 1 80 \n",
      "Total number of series: 81 \n",
      "Number of observations per series: 24 \n",
      "Top level series: \n",
      "Time Series:\n",
      "Start = 85 \n",
      "End = 108 \n",
      "Frequency = 1 \n",
      " [1] -21804  -5608 -15157  -9048  -8227   6992  23186  23066  11709  11702\n",
      "[11]   5839    263 -14727  -1700  -6177  -2526  -5848   6309  23731  19854\n",
      "[21]  12060  10071    438  -2700\n",
      "          0%---------25%---------50%---------75%--------100%\n",
      "Progress: [1]  13  96  97 120\n"
     ]
    },
    {
     "name": "stderr",
     "output_type": "stream",
     "text": [
      "Since argument characters are not specified, the default labelling system is used.\n"
     ]
    },
    {
     "name": "stdout",
     "output_type": "stream",
     "text": [
      "Hierarchical Time Series \n",
      "2 Levels \n",
      "Number of nodes at each level: 1 80 \n",
      "Total number of series: 81 \n",
      "Number of observations per series: 24 \n",
      "Top level series: \n",
      "Time Series:\n",
      "Start = 85 \n",
      "End = 108 \n",
      "Frequency = 1 \n",
      " [1] -3586.8591  5014.5487   988.6496  4500.4507  5050.2250 12417.4059\n",
      " [7] 20685.4441 21328.7030 16515.0599 16954.9122 13977.0301 11687.8167\n",
      "[13]  9681.5946 14236.1368 12269.3680 14502.3486 14996.9797 19125.1105\n",
      "[19] 23960.6512 24727.8666 22570.4815 23127.3935 21610.3905 20665.2001\n",
      "Hierarchical Time Series \n",
      "2 Levels \n",
      "Number of nodes at each level: 1 80 \n",
      "Total number of series: 81 \n",
      "Number of observations per series: 24 \n",
      "Top level series: \n",
      "Time Series:\n",
      "Start = 97 \n",
      "End = 120 \n",
      "Frequency = 1 \n",
      " [1] -14727  -1700  -6177  -2526  -5848   6309  23731  19854  12060  10071\n",
      "[11]    438  -2700 -24328 -11496 -13858  -6986  -5066   4880  26123  23705\n",
      "[21]  18556  14103   4114   8705\n",
      "[1]  25 108 109 132\n"
     ]
    },
    {
     "name": "stderr",
     "output_type": "stream",
     "text": [
      "Since argument characters are not specified, the default labelling system is used.\n"
     ]
    },
    {
     "name": "stdout",
     "output_type": "stream",
     "text": [
      "Hierarchical Time Series \n",
      "2 Levels \n",
      "Number of nodes at each level: 1 80 \n",
      "Total number of series: 81 \n",
      "Number of observations per series: 24 \n",
      "Top level series: \n",
      "Time Series:\n",
      "Start = 85 \n",
      "End = 108 \n",
      "Frequency = 1 \n",
      " [1] -3407.299  5884.147  5522.484  7845.788  6458.431 12136.906 20674.436\n",
      " [8] 19508.031 16005.500 15717.653 11108.827 10455.865  9331.457 14214.070\n",
      "[15] 14262.434 15767.939 15136.969 18291.742 23080.675 22845.229 21258.031\n",
      "[22] 21381.273 19064.620 19131.375\n",
      "Hierarchical Time Series \n",
      "2 Levels \n",
      "Number of nodes at each level: 1 80 \n",
      "Total number of series: 81 \n",
      "Number of observations per series: 24 \n",
      "Top level series: \n",
      "Time Series:\n",
      "Start = 109 \n",
      "End = 132 \n",
      "Frequency = 1 \n",
      " [1] -24328 -11496 -13858  -6986  -5066   4880  26123  23705  18556  14103\n",
      "[11]   4114   8705 -26799  -6998   1542  -2629  -3031  10067  18591  22017\n",
      "[21]  10026   2420  -1256 -12220\n",
      "|[1]  37 120 121 144\n"
     ]
    },
    {
     "name": "stderr",
     "output_type": "stream",
     "text": [
      "Since argument characters are not specified, the default labelling system is used.\n"
     ]
    },
    {
     "name": "stdout",
     "output_type": "stream",
     "text": [
      "Hierarchical Time Series \n",
      "2 Levels \n",
      "Number of nodes at each level: 1 80 \n",
      "Total number of series: 81 \n",
      "Number of observations per series: 24 \n",
      "Top level series: \n",
      "Time Series:\n",
      "Start = 85 \n",
      "End = 108 \n",
      "Frequency = 1 \n",
      " [1] -2854.919  2817.575  2041.033  4968.438  6139.028 10922.374 20895.514\n",
      " [8] 20258.423 18035.875 16587.571 11509.000 14338.692  7927.434 11088.360\n",
      "[15] 11022.038 12636.552 13457.267 16144.501 21600.782 21610.218 20611.016\n",
      "[22] 20178.793 17453.351 19261.518\n",
      "Hierarchical Time Series \n",
      "2 Levels \n",
      "Number of nodes at each level: 1 80 \n",
      "Total number of series: 81 \n",
      "Number of observations per series: 24 \n",
      "Top level series: \n",
      "Time Series:\n",
      "Start = 121 \n",
      "End = 144 \n",
      "Frequency = 1 \n",
      " [1] -26799  -6998   1542  -2629  -3031  10067  18591  22017  10026   2420\n",
      "[11]  -1256 -12220 -41475 -19176 -12642 -15942 -18179  -6838   5045  10369\n",
      "[21]  -1320  -8177  -6696 -12005\n",
      "|[1]  49 132 133 156\n"
     ]
    },
    {
     "name": "stderr",
     "output_type": "stream",
     "text": [
      "Since argument characters are not specified, the default labelling system is used.\n"
     ]
    },
    {
     "name": "stdout",
     "output_type": "stream",
     "text": [
      "Hierarchical Time Series \n",
      "2 Levels \n",
      "Number of nodes at each level: 1 80 \n",
      "Total number of series: 81 \n",
      "Number of observations per series: 24 \n",
      "Top level series: \n",
      "Time Series:\n",
      "Start = 85 \n",
      "End = 108 \n",
      "Frequency = 1 \n",
      " [1] -13556.7109  -2921.6842  -1934.0024   -768.2052   7912.9405  13554.5760\n",
      " [7]  15894.8630   9338.3962   5197.8920   3094.5293  -2749.2752 -20003.1361\n",
      "[13]  -3769.2378   2591.3136   3277.3326   4024.7788   9368.4215  12933.6271\n",
      "[19]  14430.7720  10606.4687   8188.9114   6915.2171   3722.5618  -6774.6406\n",
      "Hierarchical Time Series \n",
      "2 Levels \n",
      "Number of nodes at each level: 1 80 \n",
      "Total number of series: 81 \n",
      "Number of observations per series: 24 \n",
      "Top level series: \n",
      "Time Series:\n",
      "Start = 134 \n",
      "End = 157 \n",
      "Frequency = 1 \n",
      " [1] -19176 -12642 -15942 -18179  -6838   5045  10369  -1320  -8177  -6696\n",
      "[11] -12005 -29346 -19876 -35619 -33053 -24949 -16354  -5987   1730  -4072\n",
      "[21]  -7117 -11516 -24655 -43180\n"
     ]
    }
   ],
   "source": [
    "l <- ac <- m_top  <- l_test  <-  l_top  <-  list()\n",
    "\n",
    "df_ac  <-  data.frame(matrix(ncol = 0, nrow = 0))\n",
    "\n",
    "k  <- 0\n",
    "\n",
    "for (i in 0:(var_iter*var_allornot - var_shift)){\n",
    "    k  <-  k+1\n",
    "    st_year  <-  var_start_year + i/var_allornot\n",
    "    train_start  <- st_year \n",
    "    train_end  <- st_year + 1/var_freq*(var_window)\n",
    "    test_start  <- st_year + 1/var_freq*(var_window+1) \n",
    "    test_end  <-  st_year + 1/var_freq*(var_window+var_h)\n",
    "    \n",
    "    dates  <-  (c(train_start, train_end, test_start, test_end, train_start-var_topup/var_freq, train_end-var_topup/var_freq, test_start-var_topup/var_freq)-var_start_year)*var_freq+1\n",
    "    \n",
    "    train_start  <- dates[1] \n",
    "    train_end  <- dates[2]\n",
    "    test_start  <- dates[3]\n",
    "    test_end  <- dates[4]\n",
    "    \n",
    "    print(c(train_start, train_end, test_start, test_end))\n",
    "    \n",
    "    \n",
    "    if (i == 0){\n",
    "        gts_train <- window(y, end=train_end)    \n",
    "    }\n",
    "    else{\n",
    "        if ((var_shift == 0) & (i == var_iter*var_allornot - var_shift)){\n",
    "            gts_train <- window(y, start=dates[5], end=dates[6])\n",
    "        }else{\n",
    "            gts_train <- window(y, start=train_start, end=train_end)\n",
    "    }}\n",
    "    \n",
    "    if ((var_shift == 0) & (i == var_iter*var_allornot - var_shift)){\n",
    "        gts_test <- window(y, start=dates[7])\n",
    "      \n",
    "    }else{  \n",
    "     gts_test <- window(y, start=test_start, end=test_end)\n",
    "          \n",
    "    }\n",
    "    \n",
    "    \n",
    "    \n",
    "    allts <- aggts(gts_train)\n",
    "    \n",
    "    ms <-  foreach(j=1:ncol(allts)) %dopar% {\n",
    "        model  <- tryCatch(        \n",
    "        Arima(msts(allts[,j], seasonal.periods = var_freq), order=var_arpdq, seasonal=var_sarpdq,  include.drift = var_drift, include.mean = var_constant, method=\"ML\"), \n",
    "            error = function(e) \n",
    "#                               {tryCatch( \n",
    "                Arima(msts(allts[,j], seasonal.periods = var_freq), order=var_arpdq, seasonal=var_sarpdq, include.drift = var_drift, include.mean = var_constant, method=\"CSS\") #,\n",
    "#                          error = function(e)              \n",
    "#                             auto.arima(msts(allts[,j], seasonal.periods = var_freq))\n",
    "#                          )}\n",
    "                        \n",
    "            )\n",
    "        \n",
    "    }\n",
    "    \n",
    "     \n",
    "        \n",
    "    allf <- matrix(, nrow=var_h, ncol=ncol(allts))\n",
    "        \n",
    "    \n",
    "    for(j in 1:ncol(allts)){  \n",
    "    allf[,j] <- forecast(ms[[j]], h=var_h)$mean\n",
    "    \n",
    "    \n",
    "    }\n",
    "\n",
    "    \n",
    "    allf <- ts(allf)\n",
    "    colnames(allf)  <-  colnames(allts)  \n",
    "    g <- get_nodes(gts_train)\n",
    "    y.f <- combinef(allf, nodes = g, weights = c(0,rep(1, dim(df_eu)[2])))\n",
    "    forecasts_7  <- y.f[[1]]\n",
    "    colnames(forecasts_7)  <- colnames(y[[1]])\n",
    "    data_f5  <- rbind(gts_train[[1]], forecasts_7)\n",
    "    y_f5  <- hts(data_f5)\n",
    "        \n",
    "#     if (i == 4){\n",
    "#         gts_forecasts_7 <- window(y_f5, start=test_start)}\n",
    "#     else{\n",
    "#     gts_forecasts_7 <- window(y_f5, start=test_start, end=test_end)\n",
    "# #     }\n",
    "\n",
    "#     if ((var_shift == 0) & (i == var_iter*var_allornot - var_shift)){\n",
    "#         gts_forecasts_7 <- window(y_f5, start=dates[7])\n",
    "      \n",
    "#     }else{  \n",
    "     gts_forecasts_7 <- window(y_f5, start=dim(y_f5[[1]])[1]-var_h+1)\n",
    "          \n",
    "#     }\n",
    "         \n",
    "    print(gts_forecasts_7)\n",
    "    print(gts_test)\n",
    "            \n",
    "    \n",
    "    l[[k]]  <- allf\n",
    "\n",
    "    ac[[k]]  <-  accuracy.gts(gts_forecasts_7, gts_test)[, 1] \n",
    "\n",
    "    progress(i, progress.bar = TRUE)\n",
    "            \n",
    "    }"
   ]
  },
  {
   "cell_type": "code",
   "execution_count": 24,
   "metadata": {},
   "outputs": [],
   "source": [
    "var_acc_metrics  <-  c(1,2,4)\n",
    "df_acc_test  <- ac[[1]][var_acc_metrics]\n",
    "for (i in ac[2:length(ac)]){\n",
    "    x  <-  i[var_acc_metrics]\n",
    "    df_acc_test   <-  cbind(df_acc_test, x)\n",
    "}\n",
    "df_acc_test  <- t(df_acc_test)\n",
    "df_acc_test  <-  as.data.frame(df_acc_test)\n",
    "row.names(df_acc_test)  <-  seq(1,length(ac))\n",
    "df_acc  <- df_acc_test\n",
    "df_acc  <-  cbind(df_acc, seq(1, length(ac)))\n",
    "colnames(df_acc)[length(var_acc_metrics)+1]  <-  'Iteration'"
   ]
  },
  {
   "cell_type": "code",
   "execution_count": 47,
   "metadata": {},
   "outputs": [],
   "source": [
    "df_acc$Iteration  <-  df_acc$Iteration*var_freq-(var_freq-1)\n",
    "df_acc$Iteration[length(df_acc$Iteration)]  <-   df_acc$Iteration[length(df_acc$Iteration)] - var_topup"
   ]
  },
  {
   "cell_type": "code",
   "execution_count": 48,
   "metadata": {},
   "outputs": [
    {
     "data": {
      "text/html": [
       "<table>\n",
       "<thead><tr><th scope=col>ME</th><th scope=col>RMSE</th><th scope=col>MAPE</th><th scope=col>Iteration</th></tr></thead>\n",
       "<tbody>\n",
       "\t<tr><td>-11230.18</td><td>13222.85 </td><td>497.1900 </td><td> 1       </td></tr>\n",
       "\t<tr><td>-10258.11</td><td>12637.96 </td><td>265.2855 </td><td>13       </td></tr>\n",
       "\t<tr><td>-10509.79</td><td>13710.30 </td><td>234.5802 </td><td>25       </td></tr>\n",
       "\t<tr><td>-16941.59</td><td>20417.35 </td><td>287.5679 </td><td>37       </td></tr>\n",
       "\t<tr><td>-14361.51</td><td>16722.74 </td><td>181.4095 </td><td>50       </td></tr>\n",
       "</tbody>\n",
       "</table>\n"
      ],
      "text/latex": [
       "\\begin{tabular}{r|llll}\n",
       " ME & RMSE & MAPE & Iteration\\\\\n",
       "\\hline\n",
       "\t -11230.18 & 13222.85  & 497.1900  &  1       \\\\\n",
       "\t -10258.11 & 12637.96  & 265.2855  & 13       \\\\\n",
       "\t -10509.79 & 13710.30  & 234.5802  & 25       \\\\\n",
       "\t -16941.59 & 20417.35  & 287.5679  & 37       \\\\\n",
       "\t -14361.51 & 16722.74  & 181.4095  & 50       \\\\\n",
       "\\end{tabular}\n"
      ],
      "text/markdown": [
       "\n",
       "ME | RMSE | MAPE | Iteration | \n",
       "|---|---|---|---|---|\n",
       "| -11230.18 | 13222.85  | 497.1900  |  1        | \n",
       "| -10258.11 | 12637.96  | 265.2855  | 13        | \n",
       "| -10509.79 | 13710.30  | 234.5802  | 25        | \n",
       "| -16941.59 | 20417.35  | 287.5679  | 37        | \n",
       "| -14361.51 | 16722.74  | 181.4095  | 50        | \n",
       "\n",
       "\n"
      ],
      "text/plain": [
       "  ME        RMSE     MAPE     Iteration\n",
       "1 -11230.18 13222.85 497.1900  1       \n",
       "2 -10258.11 12637.96 265.2855 13       \n",
       "3 -10509.79 13710.30 234.5802 25       \n",
       "4 -16941.59 20417.35 287.5679 37       \n",
       "5 -14361.51 16722.74 181.4095 50       "
      ]
     },
     "metadata": {},
     "output_type": "display_data"
    }
   ],
   "source": [
    "df_acc"
   ]
  },
  {
   "cell_type": "code",
   "execution_count": 25,
   "metadata": {},
   "outputs": [
    {
     "data": {
      "text/html": [
       "<dl class=dl-horizontal>\n",
       "\t<dt>ME</dt>\n",
       "\t\t<dd>-14187.2108893044</dd>\n",
       "\t<dt>RMSE</dt>\n",
       "\t\t<dd>17394.5487650868</dd>\n",
       "\t<dt>MAPE</dt>\n",
       "\t\t<dd>326.2511678547</dd>\n",
       "\t<dt>Iteration</dt>\n",
       "\t\t<dd>3</dd>\n",
       "</dl>\n"
      ],
      "text/latex": [
       "\\begin{description*}\n",
       "\\item[ME] -14187.2108893044\n",
       "\\item[RMSE] 17394.5487650868\n",
       "\\item[MAPE] 326.2511678547\n",
       "\\item[Iteration] 3\n",
       "\\end{description*}\n"
      ],
      "text/markdown": [
       "ME\n",
       ":   -14187.2108893044RMSE\n",
       ":   17394.5487650868MAPE\n",
       ":   326.2511678547Iteration\n",
       ":   3\n",
       "\n"
      ],
      "text/plain": [
       "         ME        RMSE        MAPE   Iteration \n",
       "-14187.2109  17394.5488    326.2512      3.0000 "
      ]
     },
     "metadata": {},
     "output_type": "display_data"
    }
   ],
   "source": [
    "colMeans(df_acc)"
   ]
  },
  {
   "cell_type": "code",
   "execution_count": 26,
   "metadata": {},
   "outputs": [],
   "source": [
    "# df_mean_acc <- readRDS(\"df_mean_acc.rds\")\n",
    "# rownames(df_mean_acc)[2:5]  <-  c('3 level', '2 level (state)', '2 level (type)' ,'2 level (clusetered)' )"
   ]
  },
  {
   "cell_type": "code",
   "execution_count": 27,
   "metadata": {},
   "outputs": [
    {
     "data": {
      "text/html": [
       "<table>\n",
       "<thead><tr><th></th><th scope=col>Квартальные</th><th scope=col>Сезонно сглаженные</th><th scope=col>Месячные</th></tr></thead>\n",
       "<tbody>\n",
       "\t<tr><th scope=row>1 level</th><td>64.30372</td><td>299.5702</td><td>15884.63</td></tr>\n",
       "\t<tr><th scope=row>3 level</th><td>66.31314</td><td>283.3258</td><td>17197.63</td></tr>\n",
       "\t<tr><th scope=row>2 level (state)</th><td>67.92739</td><td>266.6368</td><td>17394.55</td></tr>\n",
       "\t<tr><th scope=row>2 level (type)</th><td>63.95990</td><td>299.9543</td><td>15511.31</td></tr>\n",
       "\t<tr><th scope=row>2 level (clusetered)</th><td>67.09557</td><td>247.4651</td><td>15338.88</td></tr>\n",
       "</tbody>\n",
       "</table>\n"
      ],
      "text/latex": [
       "\\begin{tabular}{r|lll}\n",
       "  & Квартальные & Сезонно сглаженные & Месячные\\\\\n",
       "\\hline\n",
       "\t1 level & 64.30372 & 299.5702 & 15884.63\\\\\n",
       "\t3 level & 66.31314 & 283.3258 & 17197.63\\\\\n",
       "\t2 level (state) & 67.92739 & 266.6368 & 17394.55\\\\\n",
       "\t2 level (type) & 63.95990 & 299.9543 & 15511.31\\\\\n",
       "\t2 level (clusetered) & 67.09557 & 247.4651 & 15338.88\\\\\n",
       "\\end{tabular}\n"
      ],
      "text/markdown": [
       "\n",
       "| <!--/--> | Квартальные | Сезонно сглаженные | Месячные | \n",
       "|---|---|---|---|---|\n",
       "| 1 level | 64.30372 | 299.5702 | 15884.63 | \n",
       "| 3 level | 66.31314 | 283.3258 | 17197.63 | \n",
       "| 2 level (state) | 67.92739 | 266.6368 | 17394.55 | \n",
       "| 2 level (type) | 63.95990 | 299.9543 | 15511.31 | \n",
       "| 2 level (clusetered) | 67.09557 | 247.4651 | 15338.88 | \n",
       "\n",
       "\n"
      ],
      "text/plain": [
       "                     Квартальные Сезонно сглаженные Месячные\n",
       "1 level              64.30372    299.5702           15884.63\n",
       "3 level              66.31314    283.3258           17197.63\n",
       "2 level (state)      67.92739    266.6368           17394.55\n",
       "2 level (type)       63.95990    299.9543           15511.31\n",
       "2 level (clusetered) 67.09557    247.4651           15338.88"
      ]
     },
     "metadata": {},
     "output_type": "display_data"
    }
   ],
   "source": [
    "df_mean_acc[3,3]  <-  colMeans(df_acc)[[2]] \n",
    "df_mean_acc"
   ]
  },
  {
   "cell_type": "markdown",
   "metadata": {},
   "source": [
    "#### 2 type"
   ]
  },
  {
   "cell_type": "code",
   "execution_count": 28,
   "metadata": {},
   "outputs": [],
   "source": [
    "df_eu  <-  read.csv(file=\"../clustering/hts_rus_summed_type.csv\", header=TRUE, sep=\",\", row.names =1 )\n",
    "# df_eu  <-  df_eu/1000\n"
   ]
  },
  {
   "cell_type": "code",
   "execution_count": 29,
   "metadata": {},
   "outputs": [],
   "source": [
    "# var_allornot  <- var_freq\n",
    "var_allornot  <- 1\n",
    "# var_shift  <-  var_topup\n",
    "var_shift  <-  0"
   ]
  },
  {
   "cell_type": "code",
   "execution_count": 30,
   "metadata": {},
   "outputs": [
    {
     "name": "stderr",
     "output_type": "stream",
     "text": [
      "Since argument characters are not specified, the default labelling system is used.\n"
     ]
    }
   ],
   "source": [
    "df_eu  <-  as.data.table(df_eu)\n",
    "data  <-  df_eu\n",
    "y  <-  hts(data)\n",
    "s  <-  smatrix(y)\n",
    "# gts_train  <- window(y, start=20, end=67)\n",
    "# gts_test  <- window(y, start=68, end=75)\n",
    "allts <- aggts(y)\n",
    "allf <- matrix(, nrow=var_h, ncol=ncol(allts))"
   ]
  },
  {
   "cell_type": "code",
   "execution_count": 32,
   "metadata": {},
   "outputs": [
    {
     "name": "stdout",
     "output_type": "stream",
     "text": [
      "[1]   1  84  85 108\n"
     ]
    },
    {
     "name": "stderr",
     "output_type": "stream",
     "text": [
      "Since argument characters are not specified, the default labelling system is used.\n"
     ]
    },
    {
     "name": "stdout",
     "output_type": "stream",
     "text": [
      "Hierarchical Time Series \n",
      "2 Levels \n",
      "Number of nodes at each level: 1 4 \n",
      "Total number of series: 5 \n",
      "Number of observations per series: 24 \n",
      "Top level series: \n",
      "Time Series:\n",
      "Start = 85 \n",
      "End = 108 \n",
      "Frequency = 1 \n",
      " [1] -6411.2367  1351.2676  5718.8991  -398.9669  5024.4400  9207.7242\n",
      " [7] 18642.1210 24696.6401 16753.5272 18898.8775 13533.7425  7568.1151\n",
      "[13]  8246.0600 13275.4245 16411.0373 12194.8744 16753.3090 18909.6587\n",
      "[19] 25546.5333 29559.2145 24246.1928 27296.6563 23335.5399 20226.8932\n",
      "Hierarchical Time Series \n",
      "2 Levels \n",
      "Number of nodes at each level: 1 4 \n",
      "Total number of series: 5 \n",
      "Number of observations per series: 24 \n",
      "Top level series: \n",
      "Time Series:\n",
      "Start = 85 \n",
      "End = 108 \n",
      "Frequency = 1 \n",
      " [1] -21804  -5608 -15157  -9048  -8227   6992  23186  23066  11709  11702\n",
      "[11]   5839    263 -14727  -1700  -6177  -2526  -5848   6309  23731  19854\n",
      "[21]  12060  10071    438  -2700\n",
      "          0%---------25%---------50%---------75%--------100%\n",
      "Progress: [1]  13  96  97 120\n"
     ]
    },
    {
     "name": "stderr",
     "output_type": "stream",
     "text": [
      "Since argument characters are not specified, the default labelling system is used.\n"
     ]
    },
    {
     "name": "stdout",
     "output_type": "stream",
     "text": [
      "Hierarchical Time Series \n",
      "2 Levels \n",
      "Number of nodes at each level: 1 4 \n",
      "Total number of series: 5 \n",
      "Number of observations per series: 24 \n",
      "Top level series: \n",
      "Time Series:\n",
      "Start = 85 \n",
      "End = 108 \n",
      "Frequency = 1 \n",
      " [1] -4806.031  1564.690 -2051.771  2391.527  3045.311 10665.749 24184.176\n",
      " [8] 22519.134 14967.050 19065.713 11595.467 10077.447  8556.214 10537.820\n",
      "[15]  9216.367 12355.493 12842.191 16750.019 27198.777 25387.469 20471.129\n",
      "[22] 25357.728 18689.520 18889.773\n",
      "Hierarchical Time Series \n",
      "2 Levels \n",
      "Number of nodes at each level: 1 4 \n",
      "Total number of series: 5 \n",
      "Number of observations per series: 24 \n",
      "Top level series: \n",
      "Time Series:\n",
      "Start = 97 \n",
      "End = 120 \n",
      "Frequency = 1 \n",
      " [1] -14727  -1700  -6177  -2526  -5848   6309  23731  19854  12060  10071\n",
      "[11]    438  -2700 -24328 -11496 -13858  -6986  -5066   4880  26123  23705\n",
      "[21]  18556  14103   4114   8705\n",
      "[1]  25 108 109 132\n"
     ]
    },
    {
     "name": "stderr",
     "output_type": "stream",
     "text": [
      "Since argument characters are not specified, the default labelling system is used.\n"
     ]
    },
    {
     "name": "stdout",
     "output_type": "stream",
     "text": [
      "Hierarchical Time Series \n",
      "2 Levels \n",
      "Number of nodes at each level: 1 4 \n",
      "Total number of series: 5 \n",
      "Number of observations per series: 24 \n",
      "Top level series: \n",
      "Time Series:\n",
      "Start = 85 \n",
      "End = 108 \n",
      "Frequency = 1 \n",
      " [1] -3976.976  3659.524  2010.332  5736.494  3623.771 10045.817 25476.756\n",
      " [8] 20339.782 16640.302 16794.800  6464.439  8486.638  6718.321 10631.016\n",
      "[15] 10133.004 13462.737 12076.054 15445.981 28264.321 23265.906 21685.175\n",
      "[22] 22736.194 13394.220 17304.449\n",
      "Hierarchical Time Series \n",
      "2 Levels \n",
      "Number of nodes at each level: 1 4 \n",
      "Total number of series: 5 \n",
      "Number of observations per series: 24 \n",
      "Top level series: \n",
      "Time Series:\n",
      "Start = 109 \n",
      "End = 132 \n",
      "Frequency = 1 \n",
      " [1] -24328 -11496 -13858  -6986  -5066   4880  26123  23705  18556  14103\n",
      "[11]   4114   8705 -26799  -6998   1542  -2629  -3031  10067  18591  22017\n",
      "[21]  10026   2420  -1256 -12220\n",
      "|[1]  37 120 121 144\n"
     ]
    },
    {
     "name": "stderr",
     "output_type": "stream",
     "text": [
      "Since argument characters are not specified, the default labelling system is used.\n"
     ]
    },
    {
     "name": "stdout",
     "output_type": "stream",
     "text": [
      "Hierarchical Time Series \n",
      "2 Levels \n",
      "Number of nodes at each level: 1 4 \n",
      "Total number of series: 5 \n",
      "Number of observations per series: 24 \n",
      "Top level series: \n",
      "Time Series:\n",
      "Start = 85 \n",
      "End = 108 \n",
      "Frequency = 1 \n",
      " [1] -10022.8096  -4174.5757  -1589.9607   1341.1711    929.1269   9838.6971\n",
      " [7]  24532.4629  20640.0662  19193.3765  16567.0773   7410.1484  14235.3378\n",
      "[13]   1316.2565   3855.9476   7875.7929   8867.3226   7553.2989  14884.1536\n",
      "[19]  25193.5405  21241.1250  21375.4763  19800.1910  12167.4250  18974.2517\n",
      "Hierarchical Time Series \n",
      "2 Levels \n",
      "Number of nodes at each level: 1 4 \n",
      "Total number of series: 5 \n",
      "Number of observations per series: 24 \n",
      "Top level series: \n",
      "Time Series:\n",
      "Start = 121 \n",
      "End = 144 \n",
      "Frequency = 1 \n",
      " [1] -26799  -6998   1542  -2629  -3031  10067  18591  22017  10026   2420\n",
      "[11]  -1256 -12220 -41475 -19176 -12642 -15942 -18179  -6838   5045  10369\n",
      "[21]  -1320  -8177  -6696 -12005\n",
      "|[1]  49 132 133 156\n"
     ]
    },
    {
     "name": "stderr",
     "output_type": "stream",
     "text": [
      "Since argument characters are not specified, the default labelling system is used.\n"
     ]
    },
    {
     "name": "stdout",
     "output_type": "stream",
     "text": [
      "Hierarchical Time Series \n",
      "2 Levels \n",
      "Number of nodes at each level: 1 4 \n",
      "Total number of series: 5 \n",
      "Number of observations per series: 24 \n",
      "Top level series: \n",
      "Time Series:\n",
      "Start = 85 \n",
      "End = 108 \n",
      "Frequency = 1 \n",
      " [1]  -6690.6013   1849.6411   -520.3260    904.9250   9986.2276  15050.5233\n",
      " [7]  19103.4773   9886.6271   4955.9790   3260.7301  -3384.1746 -21549.8608\n",
      "[13]    129.3354   6569.3430   3830.6317   5475.2657  11540.4569  14483.5580\n",
      "[19]  18174.9771  11278.0993   8053.7524   7364.9565   3307.4734  -8066.9180\n",
      "Hierarchical Time Series \n",
      "2 Levels \n",
      "Number of nodes at each level: 1 4 \n",
      "Total number of series: 5 \n",
      "Number of observations per series: 24 \n",
      "Top level series: \n",
      "Time Series:\n",
      "Start = 134 \n",
      "End = 157 \n",
      "Frequency = 1 \n",
      " [1] -19176 -12642 -15942 -18179  -6838   5045  10369  -1320  -8177  -6696\n",
      "[11] -12005 -29346 -19876 -35619 -33053 -24949 -16354  -5987   1730  -4072\n",
      "[21]  -7117 -11516 -24655 -43180\n"
     ]
    }
   ],
   "source": [
    "l <- ac <- m_top  <- l_test  <-  l_top  <-  list()\n",
    "\n",
    "df_ac  <-  data.frame(matrix(ncol = 0, nrow = 0))\n",
    "\n",
    "k  <- 0\n",
    "\n",
    "for (i in 0:(var_iter*var_allornot - var_shift)){\n",
    "    k  <-  k+1\n",
    "    st_year  <-  var_start_year + i/var_allornot\n",
    "    train_start  <- st_year \n",
    "    train_end  <- st_year + 1/var_freq*(var_window)\n",
    "    test_start  <- st_year + 1/var_freq*(var_window+1) \n",
    "    test_end  <-  st_year + 1/var_freq*(var_window+var_h)\n",
    "    \n",
    "    dates  <-  (c(train_start, train_end, test_start, test_end, train_start-var_topup/var_freq, train_end-var_topup/var_freq, test_start-var_topup/var_freq)-var_start_year)*var_freq+1\n",
    "    \n",
    "    train_start  <- dates[1] \n",
    "    train_end  <- dates[2]\n",
    "    test_start  <- dates[3]\n",
    "    test_end  <- dates[4]\n",
    "    \n",
    "    print(c(train_start, train_end, test_start, test_end))\n",
    "    \n",
    "    \n",
    "    if (i == 0){\n",
    "        gts_train <- window(y, end=train_end)    \n",
    "    }\n",
    "    else{\n",
    "        if ((var_shift == 0) & (i == var_iter*var_allornot - var_shift)){\n",
    "            gts_train <- window(y, start=dates[5], end=dates[6])\n",
    "        }else{\n",
    "            gts_train <- window(y, start=train_start, end=train_end)\n",
    "    }}\n",
    "    \n",
    "    if ((var_shift == 0) & (i == var_iter*var_allornot - var_shift)){\n",
    "        gts_test <- window(y, start=dates[7])\n",
    "      \n",
    "    }else{  \n",
    "     gts_test <- window(y, start=test_start, end=test_end)\n",
    "          \n",
    "    }\n",
    "    \n",
    "    allts <- aggts(gts_train)\n",
    "    \n",
    "    ms <-  foreach(j=1:ncol(allts)) %dopar% {\n",
    "        model  <- tryCatch(        \n",
    "        Arima(msts(allts[,j], seasonal.periods = var_freq), order=var_arpdq, seasonal=var_sarpdq,  include.drift = var_drift, include.mean = var_constant, method=\"ML\"), \n",
    "            error = function(e) \n",
    "#                               {tryCatch( \n",
    "                Arima(msts(allts[,j], seasonal.periods = var_freq), order=var_arpdq, seasonal=var_sarpdq, include.drift = var_drift, include.mean = var_constant, method=\"CSS\") #,\n",
    "#                          error = function(e)              \n",
    "#                             auto.arima(msts(allts[,j], seasonal.periods = var_freq))\n",
    "#                          )}\n",
    "                        \n",
    "            )\n",
    "        \n",
    "    }\n",
    "    \n",
    "     \n",
    "        \n",
    "    allf <- matrix(, nrow=var_h, ncol=ncol(allts))\n",
    "        \n",
    "    \n",
    "    for(j in 1:ncol(allts)){  \n",
    "    allf[,j] <- forecast(ms[[j]], h=var_h)$mean\n",
    "    \n",
    "    \n",
    "    }\n",
    "\n",
    "    \n",
    "    allf <- ts(allf)\n",
    "    colnames(allf)  <-  colnames(allts)  \n",
    "    g <- get_nodes(gts_train)\n",
    "    y.f <- combinef(allf, nodes = g, weights = c(0,rep(1, dim(df_eu)[2])))\n",
    "    forecasts_7  <- y.f[[1]]\n",
    "    colnames(forecasts_7)  <- colnames(y[[1]])\n",
    "    data_f5  <- rbind(gts_train[[1]], forecasts_7)\n",
    "    y_f5  <- hts(data_f5)\n",
    "        \n",
    "#     if (i == 4){\n",
    "#         gts_forecasts_7 <- window(y_f5, start=test_start)}\n",
    "#     else{\n",
    "#     gts_forecasts_7 <- window(y_f5, start=test_start, end=test_end)\n",
    "# #     }\n",
    "\n",
    "#     if ((var_shift == 0) & (i == var_iter*var_allornot - var_shift)){\n",
    "#         gts_forecasts_7 <- window(y_f5, start=dates[7])\n",
    "      \n",
    "#     }else{  \n",
    "     gts_forecasts_7 <- window(y_f5, start=dim(y_f5[[1]])[1]-var_h+1)\n",
    "          \n",
    "#     }\n",
    "         \n",
    "    print(gts_forecasts_7)\n",
    "    print(gts_test)\n",
    "            \n",
    "    \n",
    "    l[[k]]  <- allf\n",
    "\n",
    "    ac[[k]]  <-  accuracy.gts(gts_forecasts_7, gts_test)[, 1] \n",
    "\n",
    "    progress(i, progress.bar = TRUE)\n",
    "            \n",
    "    }"
   ]
  },
  {
   "cell_type": "code",
   "execution_count": 33,
   "metadata": {},
   "outputs": [],
   "source": [
    "var_acc_metrics  <-  c(1,2,4)\n",
    "df_acc_test  <- ac[[1]][var_acc_metrics]\n",
    "for (i in ac[2:length(ac)]){\n",
    "    x  <-  i[var_acc_metrics]\n",
    "    df_acc_test   <-  cbind(df_acc_test, x)\n",
    "}\n",
    "df_acc_test  <- t(df_acc_test)\n",
    "df_acc_test  <-  as.data.frame(df_acc_test)\n",
    "row.names(df_acc_test)  <-  seq(1,length(ac))\n",
    "df_acc  <- df_acc_test\n",
    "df_acc  <-  cbind(df_acc, seq(1, length(ac)))\n",
    "colnames(df_acc)[length(var_acc_metrics)+1]  <-  'Iteration'"
   ]
  },
  {
   "cell_type": "code",
   "execution_count": 34,
   "metadata": {},
   "outputs": [],
   "source": [
    "df_acc$Iteration  <-  df_acc$Iteration*var_freq-(var_freq-1)\n",
    "df_acc$Iteration[length(df_acc$Iteration)]  <-   df_acc$Iteration[length(df_acc$Iteration)] - var_topup"
   ]
  },
  {
   "cell_type": "code",
   "execution_count": 35,
   "metadata": {},
   "outputs": [
    {
     "data": {
      "text/html": [
       "<table>\n",
       "<thead><tr><th scope=col>ME</th><th scope=col>RMSE</th><th scope=col>MAPE</th><th scope=col>Iteration</th></tr></thead>\n",
       "<tbody>\n",
       "\t<tr><td>-12037.02</td><td>14333.54 </td><td>526.6038 </td><td> 1       </td></tr>\n",
       "\t<tr><td>-10093.08</td><td>12939.37 </td><td>242.9551 </td><td>13       </td></tr>\n",
       "\t<tr><td>-10843.21</td><td>14350.07 </td><td>225.6168 </td><td>25       </td></tr>\n",
       "\t<tr><td>-15721.29</td><td>19468.62 </td><td>263.1924 </td><td>37       </td></tr>\n",
       "\t<tr><td>-18939.55</td><td>21144.80 </td><td>209.6346 </td><td>50       </td></tr>\n",
       "</tbody>\n",
       "</table>\n"
      ],
      "text/latex": [
       "\\begin{tabular}{r|llll}\n",
       " ME & RMSE & MAPE & Iteration\\\\\n",
       "\\hline\n",
       "\t -12037.02 & 14333.54  & 526.6038  &  1       \\\\\n",
       "\t -10093.08 & 12939.37  & 242.9551  & 13       \\\\\n",
       "\t -10843.21 & 14350.07  & 225.6168  & 25       \\\\\n",
       "\t -15721.29 & 19468.62  & 263.1924  & 37       \\\\\n",
       "\t -18939.55 & 21144.80  & 209.6346  & 50       \\\\\n",
       "\\end{tabular}\n"
      ],
      "text/markdown": [
       "\n",
       "ME | RMSE | MAPE | Iteration | \n",
       "|---|---|---|---|---|\n",
       "| -12037.02 | 14333.54  | 526.6038  |  1        | \n",
       "| -10093.08 | 12939.37  | 242.9551  | 13        | \n",
       "| -10843.21 | 14350.07  | 225.6168  | 25        | \n",
       "| -15721.29 | 19468.62  | 263.1924  | 37        | \n",
       "| -18939.55 | 21144.80  | 209.6346  | 50        | \n",
       "\n",
       "\n"
      ],
      "text/plain": [
       "  ME        RMSE     MAPE     Iteration\n",
       "1 -12037.02 14333.54 526.6038  1       \n",
       "2 -10093.08 12939.37 242.9551 13       \n",
       "3 -10843.21 14350.07 225.6168 25       \n",
       "4 -15721.29 19468.62 263.1924 37       \n",
       "5 -18939.55 21144.80 209.6346 50       "
      ]
     },
     "metadata": {},
     "output_type": "display_data"
    }
   ],
   "source": [
    "df_acc"
   ]
  },
  {
   "cell_type": "code",
   "execution_count": 36,
   "metadata": {},
   "outputs": [
    {
     "data": {
      "text/html": [
       "<dl class=dl-horizontal>\n",
       "\t<dt>ME</dt>\n",
       "\t\t<dd>-13526.8297083759</dd>\n",
       "\t<dt>RMSE</dt>\n",
       "\t\t<dd>16447.2766874771</dd>\n",
       "\t<dt>MAPE</dt>\n",
       "\t\t<dd>293.600535844679</dd>\n",
       "\t<dt>Iteration</dt>\n",
       "\t\t<dd>25.2</dd>\n",
       "</dl>\n"
      ],
      "text/latex": [
       "\\begin{description*}\n",
       "\\item[ME] -13526.8297083759\n",
       "\\item[RMSE] 16447.2766874771\n",
       "\\item[MAPE] 293.600535844679\n",
       "\\item[Iteration] 25.2\n",
       "\\end{description*}\n"
      ],
      "text/markdown": [
       "ME\n",
       ":   -13526.8297083759RMSE\n",
       ":   16447.2766874771MAPE\n",
       ":   293.600535844679Iteration\n",
       ":   25.2\n",
       "\n"
      ],
      "text/plain": [
       "         ME        RMSE        MAPE   Iteration \n",
       "-13526.8297  16447.2767    293.6005     25.2000 "
      ]
     },
     "metadata": {},
     "output_type": "display_data"
    }
   ],
   "source": [
    "colMeans(df_acc)"
   ]
  },
  {
   "cell_type": "code",
   "execution_count": 37,
   "metadata": {},
   "outputs": [],
   "source": [
    "# df_mean_acc <- readRDS(\"df_mean_acc.rds\")\n",
    "# rownames(df_mean_acc)[2:5]  <-  c('3 level', '2 level (state)', '2 level (type)' ,'2 level (clusetered)' )"
   ]
  },
  {
   "cell_type": "code",
   "execution_count": 38,
   "metadata": {},
   "outputs": [
    {
     "data": {
      "text/html": [
       "<table>\n",
       "<thead><tr><th></th><th scope=col>Квартальные</th><th scope=col>Сезонно сглаженные</th><th scope=col>Месячные</th></tr></thead>\n",
       "<tbody>\n",
       "\t<tr><th scope=row>1 level</th><td>64.30372</td><td>299.5702</td><td>15884.63</td></tr>\n",
       "\t<tr><th scope=row>3 level</th><td>66.31314</td><td>283.3258</td><td>17197.63</td></tr>\n",
       "\t<tr><th scope=row>2 level (state)</th><td>67.92739</td><td>266.6368</td><td>17394.55</td></tr>\n",
       "\t<tr><th scope=row>2 level (type)</th><td>63.95990</td><td>299.9543</td><td>15511.31</td></tr>\n",
       "\t<tr><th scope=row>2 level (clusetered)</th><td>67.09557</td><td>247.4651</td><td>15338.88</td></tr>\n",
       "</tbody>\n",
       "</table>\n"
      ],
      "text/latex": [
       "\\begin{tabular}{r|lll}\n",
       "  & Квартальные & Сезонно сглаженные & Месячные\\\\\n",
       "\\hline\n",
       "\t1 level & 64.30372 & 299.5702 & 15884.63\\\\\n",
       "\t3 level & 66.31314 & 283.3258 & 17197.63\\\\\n",
       "\t2 level (state) & 67.92739 & 266.6368 & 17394.55\\\\\n",
       "\t2 level (type) & 63.95990 & 299.9543 & 15511.31\\\\\n",
       "\t2 level (clusetered) & 67.09557 & 247.4651 & 15338.88\\\\\n",
       "\\end{tabular}\n"
      ],
      "text/markdown": [
       "\n",
       "| <!--/--> | Квартальные | Сезонно сглаженные | Месячные | \n",
       "|---|---|---|---|---|\n",
       "| 1 level | 64.30372 | 299.5702 | 15884.63 | \n",
       "| 3 level | 66.31314 | 283.3258 | 17197.63 | \n",
       "| 2 level (state) | 67.92739 | 266.6368 | 17394.55 | \n",
       "| 2 level (type) | 63.95990 | 299.9543 | 15511.31 | \n",
       "| 2 level (clusetered) | 67.09557 | 247.4651 | 15338.88 | \n",
       "\n",
       "\n"
      ],
      "text/plain": [
       "                     Квартальные Сезонно сглаженные Месячные\n",
       "1 level              64.30372    299.5702           15884.63\n",
       "3 level              66.31314    283.3258           17197.63\n",
       "2 level (state)      67.92739    266.6368           17394.55\n",
       "2 level (type)       63.95990    299.9543           15511.31\n",
       "2 level (clusetered) 67.09557    247.4651           15338.88"
      ]
     },
     "metadata": {},
     "output_type": "display_data"
    }
   ],
   "source": [
    "df_mean_acc"
   ]
  },
  {
   "cell_type": "code",
   "execution_count": 39,
   "metadata": {},
   "outputs": [
    {
     "data": {
      "text/html": [
       "<table>\n",
       "<thead><tr><th></th><th scope=col>Квартальные</th><th scope=col>Сезонно сглаженные</th><th scope=col>Месячные</th></tr></thead>\n",
       "<tbody>\n",
       "\t<tr><th scope=row>1 level</th><td>64.30372</td><td>299.5702</td><td>15884.63</td></tr>\n",
       "\t<tr><th scope=row>3 level</th><td>66.31314</td><td>283.3258</td><td>17197.63</td></tr>\n",
       "\t<tr><th scope=row>2 level (state)</th><td>67.92739</td><td>266.6368</td><td>17394.55</td></tr>\n",
       "\t<tr><th scope=row>2 level (type)</th><td>63.95990</td><td>299.9543</td><td>16447.28</td></tr>\n",
       "\t<tr><th scope=row>2 level (clusetered)</th><td>67.09557</td><td>247.4651</td><td>15338.88</td></tr>\n",
       "</tbody>\n",
       "</table>\n"
      ],
      "text/latex": [
       "\\begin{tabular}{r|lll}\n",
       "  & Квартальные & Сезонно сглаженные & Месячные\\\\\n",
       "\\hline\n",
       "\t1 level & 64.30372 & 299.5702 & 15884.63\\\\\n",
       "\t3 level & 66.31314 & 283.3258 & 17197.63\\\\\n",
       "\t2 level (state) & 67.92739 & 266.6368 & 17394.55\\\\\n",
       "\t2 level (type) & 63.95990 & 299.9543 & 16447.28\\\\\n",
       "\t2 level (clusetered) & 67.09557 & 247.4651 & 15338.88\\\\\n",
       "\\end{tabular}\n"
      ],
      "text/markdown": [
       "\n",
       "| <!--/--> | Квартальные | Сезонно сглаженные | Месячные | \n",
       "|---|---|---|---|---|\n",
       "| 1 level | 64.30372 | 299.5702 | 15884.63 | \n",
       "| 3 level | 66.31314 | 283.3258 | 17197.63 | \n",
       "| 2 level (state) | 67.92739 | 266.6368 | 17394.55 | \n",
       "| 2 level (type) | 63.95990 | 299.9543 | 16447.28 | \n",
       "| 2 level (clusetered) | 67.09557 | 247.4651 | 15338.88 | \n",
       "\n",
       "\n"
      ],
      "text/plain": [
       "                     Квартальные Сезонно сглаженные Месячные\n",
       "1 level              64.30372    299.5702           15884.63\n",
       "3 level              66.31314    283.3258           17197.63\n",
       "2 level (state)      67.92739    266.6368           17394.55\n",
       "2 level (type)       63.95990    299.9543           16447.28\n",
       "2 level (clusetered) 67.09557    247.4651           15338.88"
      ]
     },
     "metadata": {},
     "output_type": "display_data"
    }
   ],
   "source": [
    "df_mean_acc[4,3]  <-  colMeans(df_acc)[[2]] \n",
    "df_mean_acc"
   ]
  },
  {
   "cell_type": "markdown",
   "metadata": {},
   "source": [
    "#### 2 clust"
   ]
  },
  {
   "cell_type": "code",
   "execution_count": 41,
   "metadata": {},
   "outputs": [],
   "source": [
    "df_eu  <-  read.csv(file=\"../clustering/hts_rus_summed_clust.csv\", header=TRUE, sep=\",\", row.names =1 )\n",
    "# df_eu  <-  df_eu/1000\n"
   ]
  },
  {
   "cell_type": "code",
   "execution_count": 42,
   "metadata": {},
   "outputs": [],
   "source": [
    "# var_allornot  <- var_freq\n",
    "var_allornot  <- 1\n",
    "# var_shift  <-  var_topup\n",
    "var_shift  <-  0"
   ]
  },
  {
   "cell_type": "code",
   "execution_count": 43,
   "metadata": {},
   "outputs": [
    {
     "name": "stderr",
     "output_type": "stream",
     "text": [
      "Since argument characters are not specified, the default labelling system is used.\n"
     ]
    }
   ],
   "source": [
    "df_eu  <-  as.data.table(df_eu)\n",
    "data  <-  df_eu\n",
    "y  <-  hts(data)\n",
    "s  <-  smatrix(y)\n",
    "# gts_train  <- window(y, start=20, end=67)\n",
    "# gts_test  <- window(y, start=68, end=75)\n",
    "allts <- aggts(y)\n",
    "allf <- matrix(, nrow=var_h, ncol=ncol(allts))"
   ]
  },
  {
   "cell_type": "code",
   "execution_count": 44,
   "metadata": {},
   "outputs": [
    {
     "name": "stdout",
     "output_type": "stream",
     "text": [
      "[1]   1  84  85 108\n"
     ]
    },
    {
     "name": "stderr",
     "output_type": "stream",
     "text": [
      "Since argument characters are not specified, the default labelling system is used.\n"
     ]
    },
    {
     "name": "stdout",
     "output_type": "stream",
     "text": [
      "Hierarchical Time Series \n",
      "2 Levels \n",
      "Number of nodes at each level: 1 25 \n",
      "Total number of series: 26 \n",
      "Number of observations per series: 24 \n",
      "Top level series: \n",
      "Time Series:\n",
      "Start = 85 \n",
      "End = 108 \n",
      "Frequency = 1 \n",
      " [1] -6949.7014   894.2488  5293.9297  -745.5515  4932.0962  9015.1781\n",
      " [7] 18325.5374 24286.7466 16521.4082 18802.2419 13463.9817  7938.2145\n",
      "[13]  8121.9931 13060.9113 16152.4627 12083.9164 16715.3834 18866.5415\n",
      "[19] 25245.0483 29139.3497 24130.7548 27084.6157 23299.5534 20626.0932\n",
      "Hierarchical Time Series \n",
      "2 Levels \n",
      "Number of nodes at each level: 1 25 \n",
      "Total number of series: 26 \n",
      "Number of observations per series: 24 \n",
      "Top level series: \n",
      "Time Series:\n",
      "Start = 85 \n",
      "End = 108 \n",
      "Frequency = 1 \n",
      " [1] -21804  -5608 -15157  -9048  -8227   6992  23186  23066  11709  11702\n",
      "[11]   5839    263 -14727  -1700  -6177  -2526  -5848   6309  23731  19854\n",
      "[21]  12060  10071    438  -2700\n",
      "          0%---------25%---------50%---------75%--------100%\n",
      "Progress: [1]  13  96  97 120\n"
     ]
    },
    {
     "name": "stderr",
     "output_type": "stream",
     "text": [
      "Since argument characters are not specified, the default labelling system is used.\n"
     ]
    },
    {
     "name": "stdout",
     "output_type": "stream",
     "text": [
      "Hierarchical Time Series \n",
      "2 Levels \n",
      "Number of nodes at each level: 1 25 \n",
      "Total number of series: 26 \n",
      "Number of observations per series: 24 \n",
      "Top level series: \n",
      "Time Series:\n",
      "Start = 85 \n",
      "End = 108 \n",
      "Frequency = 1 \n",
      " [1] -5696.1619   214.4224 -3444.0071   912.6137  1659.6568  8932.6565\n",
      " [7] 22360.3350 20727.5159 13436.3624 17618.5440 10093.4176  8758.4701\n",
      "[13]  6543.5978  8638.0838  7249.2890 10275.6250 10903.1260 14704.1902\n",
      "[19] 24653.6312 23114.0059 18555.6910 23086.8586 16799.5437 17005.0575\n",
      "Hierarchical Time Series \n",
      "2 Levels \n",
      "Number of nodes at each level: 1 25 \n",
      "Total number of series: 26 \n",
      "Number of observations per series: 24 \n",
      "Top level series: \n",
      "Time Series:\n",
      "Start = 97 \n",
      "End = 120 \n",
      "Frequency = 1 \n",
      " [1] -14727  -1700  -6177  -2526  -5848   6309  23731  19854  12060  10071\n",
      "[11]    438  -2700 -24328 -11496 -13858  -6986  -5066   4880  26123  23705\n",
      "[21]  18556  14103   4114   8705\n",
      "[1]  25 108 109 132\n"
     ]
    },
    {
     "name": "stderr",
     "output_type": "stream",
     "text": [
      "Since argument characters are not specified, the default labelling system is used.\n"
     ]
    },
    {
     "name": "stdout",
     "output_type": "stream",
     "text": [
      "Hierarchical Time Series \n",
      "2 Levels \n",
      "Number of nodes at each level: 1 25 \n",
      "Total number of series: 26 \n",
      "Number of observations per series: 24 \n",
      "Top level series: \n",
      "Time Series:\n",
      "Start = 85 \n",
      "End = 108 \n",
      "Frequency = 1 \n",
      " [1] -4506.315  2784.240  1288.876  5365.129  3484.144  9387.998 24872.435\n",
      " [8] 19803.257 16220.267 16552.996  6061.390  8261.830  6097.767 10031.660\n",
      "[15]  9503.056 13147.456 12033.025 14968.182 27504.424 22865.712 21290.563\n",
      "[22] 22391.584 13256.366 16957.630\n",
      "Hierarchical Time Series \n",
      "2 Levels \n",
      "Number of nodes at each level: 1 25 \n",
      "Total number of series: 26 \n",
      "Number of observations per series: 24 \n",
      "Top level series: \n",
      "Time Series:\n",
      "Start = 109 \n",
      "End = 132 \n",
      "Frequency = 1 \n",
      " [1] -24328 -11496 -13858  -6986  -5066   4880  26123  23705  18556  14103\n",
      "[11]   4114   8705 -26799  -6998   1542  -2629  -3031  10067  18591  22017\n",
      "[21]  10026   2420  -1256 -12220\n",
      "|[1]  37 120 121 144\n"
     ]
    },
    {
     "name": "stderr",
     "output_type": "stream",
     "text": [
      "Since argument characters are not specified, the default labelling system is used.\n"
     ]
    },
    {
     "name": "stdout",
     "output_type": "stream",
     "text": [
      "Hierarchical Time Series \n",
      "2 Levels \n",
      "Number of nodes at each level: 1 25 \n",
      "Total number of series: 26 \n",
      "Number of observations per series: 24 \n",
      "Top level series: \n",
      "Time Series:\n",
      "Start = 85 \n",
      "End = 108 \n",
      "Frequency = 1 \n",
      " [1] -9361.3526 -4069.6820  -980.9591  1782.8263  1338.6388 10277.9724\n",
      " [7] 24536.2117 20322.2257 19033.7002 16733.8170  7572.6519 14422.6519\n",
      "[13]  1993.5419  4190.6445  8265.0572  9369.1841  8290.5165 15467.1435\n",
      "[19] 25316.7899 21324.8113 21459.1224 20212.6772 12807.5738 19264.8234\n",
      "Hierarchical Time Series \n",
      "2 Levels \n",
      "Number of nodes at each level: 1 25 \n",
      "Total number of series: 26 \n",
      "Number of observations per series: 24 \n",
      "Top level series: \n",
      "Time Series:\n",
      "Start = 121 \n",
      "End = 144 \n",
      "Frequency = 1 \n",
      " [1] -26799  -6998   1542  -2629  -3031  10067  18591  22017  10026   2420\n",
      "[11]  -1256 -12220 -41475 -19176 -12642 -15942 -18179  -6838   5045  10369\n",
      "[21]  -1320  -8177  -6696 -12005\n",
      "|[1]  49 132 133 156\n"
     ]
    },
    {
     "name": "stderr",
     "output_type": "stream",
     "text": [
      "Since argument characters are not specified, the default labelling system is used.\n"
     ]
    },
    {
     "name": "stdout",
     "output_type": "stream",
     "text": [
      "Hierarchical Time Series \n",
      "2 Levels \n",
      "Number of nodes at each level: 1 25 \n",
      "Total number of series: 26 \n",
      "Number of observations per series: 24 \n",
      "Top level series: \n",
      "Time Series:\n",
      "Start = 85 \n",
      "End = 108 \n",
      "Frequency = 1 \n",
      " [1]  -7057.6433   1662.8408  -1010.3603    619.7441   9510.1657  14238.6883\n",
      " [7]  18292.0454   9059.3597   4099.2860   2514.7671  -3763.8515 -21175.4687\n",
      "[13]   -281.3737   6096.0632   3364.5214   5113.5680  10998.8512  13721.9699\n",
      "[19]  17186.2469  10436.4698   7204.1939   6610.2665   2888.9913  -7815.3139\n",
      "Hierarchical Time Series \n",
      "2 Levels \n",
      "Number of nodes at each level: 1 25 \n",
      "Total number of series: 26 \n",
      "Number of observations per series: 24 \n",
      "Top level series: \n",
      "Time Series:\n",
      "Start = 134 \n",
      "End = 157 \n",
      "Frequency = 1 \n",
      " [1] -19176 -12642 -15942 -18179  -6838   5045  10369  -1320  -8177  -6696\n",
      "[11] -12005 -29346 -19876 -35619 -33053 -24949 -16354  -5987   1730  -4072\n",
      "[21]  -7117 -11516 -24655 -43180\n"
     ]
    }
   ],
   "source": [
    "l <- ac <- m_top  <- l_test  <-  l_top  <-  list()\n",
    "\n",
    "df_ac  <-  data.frame(matrix(ncol = 0, nrow = 0))\n",
    "\n",
    "k  <- 0\n",
    "\n",
    "for (i in 0:(var_iter*var_allornot - var_shift)){\n",
    "    k  <-  k+1\n",
    "    st_year  <-  var_start_year + i/var_allornot\n",
    "    train_start  <- st_year \n",
    "    train_end  <- st_year + 1/var_freq*(var_window)\n",
    "    test_start  <- st_year + 1/var_freq*(var_window+1) \n",
    "    test_end  <-  st_year + 1/var_freq*(var_window+var_h)\n",
    "    \n",
    "    dates  <-  (c(train_start, train_end, test_start, test_end, train_start-var_topup/var_freq, train_end-var_topup/var_freq, test_start-var_topup/var_freq)-var_start_year)*var_freq+1\n",
    "    \n",
    "    train_start  <- dates[1] \n",
    "    train_end  <- dates[2]\n",
    "    test_start  <- dates[3]\n",
    "    test_end  <- dates[4]\n",
    "    \n",
    "    print(c(train_start, train_end, test_start, test_end))\n",
    "    \n",
    "    \n",
    "    if (i == 0){\n",
    "        gts_train <- window(y, end=train_end)    \n",
    "    }\n",
    "    else{\n",
    "        if ((var_shift == 0) & (i == var_iter*var_allornot - var_shift)){\n",
    "            gts_train <- window(y, start=dates[5], end=dates[6])\n",
    "        }else{\n",
    "            gts_train <- window(y, start=train_start, end=train_end)\n",
    "    }}\n",
    "    \n",
    "    if ((var_shift == 0) & (i == var_iter*var_allornot - var_shift)){\n",
    "        gts_test <- window(y, start=dates[7])\n",
    "      \n",
    "    }else{  \n",
    "     gts_test <- window(y, start=test_start, end=test_end)\n",
    "          \n",
    "    }\n",
    "    \n",
    "    allts <- aggts(gts_train)\n",
    "    \n",
    "    ms <-  foreach(j=1:ncol(allts)) %dopar% {\n",
    "        model  <- tryCatch(        \n",
    "        Arima(msts(allts[,j], seasonal.periods = var_freq), order=var_arpdq, seasonal=var_sarpdq,  include.drift = var_drift, include.mean = var_constant, method=\"ML\"), \n",
    "            error = function(e) \n",
    "#                               {tryCatch( \n",
    "                Arima(msts(allts[,j], seasonal.periods = var_freq), order=var_arpdq, seasonal=var_sarpdq, include.drift = var_drift, include.mean = var_constant, method=\"CSS\") #,\n",
    "#                          error = function(e)              \n",
    "#                             auto.arima(msts(allts[,j], seasonal.periods = var_freq))\n",
    "#                          )}\n",
    "                        \n",
    "            )\n",
    "        \n",
    "    }\n",
    "    \n",
    "     \n",
    "        \n",
    "    allf <- matrix(, nrow=var_h, ncol=ncol(allts))\n",
    "        \n",
    "    \n",
    "    for(j in 1:ncol(allts)){  \n",
    "    allf[,j] <- forecast(ms[[j]], h=var_h)$mean\n",
    "    \n",
    "    \n",
    "    }\n",
    "\n",
    "    \n",
    "    allf <- ts(allf)\n",
    "    colnames(allf)  <-  colnames(allts)  \n",
    "    g <- get_nodes(gts_train)\n",
    "    y.f <- combinef(allf, nodes = g, weights = c(0,rep(1, dim(df_eu)[2])))\n",
    "    forecasts_7  <- y.f[[1]]\n",
    "    colnames(forecasts_7)  <- colnames(y[[1]])\n",
    "    data_f5  <- rbind(gts_train[[1]], forecasts_7)\n",
    "    y_f5  <- hts(data_f5)\n",
    "        \n",
    "#     if (i == 4){\n",
    "#         gts_forecasts_7 <- window(y_f5, start=test_start)}\n",
    "#     else{\n",
    "#     gts_forecasts_7 <- window(y_f5, start=test_start, end=test_end)\n",
    "# #     }\n",
    "\n",
    "#     if ((var_shift == 0) & (i == var_iter*var_allornot - var_shift)){\n",
    "#         gts_forecasts_7 <- window(y_f5, start=dates[7])\n",
    "      \n",
    "#     }else{  \n",
    "     gts_forecasts_7 <- window(y_f5, start=dim(y_f5[[1]])[1]-var_h+1)\n",
    "          \n",
    "#     }\n",
    "         \n",
    "    print(gts_forecasts_7)\n",
    "    print(gts_test)\n",
    "            \n",
    "    \n",
    "    l[[k]]  <- allf\n",
    "\n",
    "    ac[[k]]  <-  accuracy.gts(gts_forecasts_7, gts_test)[, 1] \n",
    "\n",
    "    progress(i, progress.bar = TRUE)\n",
    "            \n",
    "    }"
   ]
  },
  {
   "cell_type": "code",
   "execution_count": 45,
   "metadata": {},
   "outputs": [],
   "source": [
    "var_acc_metrics  <-  c(1,2,4)\n",
    "df_acc_test  <- ac[[1]][var_acc_metrics]\n",
    "for (i in ac[2:length(ac)]){\n",
    "    x  <-  i[var_acc_metrics]\n",
    "    df_acc_test   <-  cbind(df_acc_test, x)\n",
    "}\n",
    "df_acc_test  <- t(df_acc_test)\n",
    "df_acc_test  <-  as.data.frame(df_acc_test)\n",
    "row.names(df_acc_test)  <-  seq(1,length(ac))\n",
    "df_acc  <- df_acc_test\n",
    "df_acc  <-  cbind(df_acc, seq(1, length(ac)))\n",
    "colnames(df_acc)[length(var_acc_metrics)+1]  <-  'Iteration'"
   ]
  },
  {
   "cell_type": "code",
   "execution_count": 46,
   "metadata": {},
   "outputs": [],
   "source": [
    "df_acc$Iteration  <-  df_acc$Iteration*var_freq-(var_freq-1)\n",
    "df_acc$Iteration[length(df_acc$Iteration)]  <-   df_acc$Iteration[length(df_acc$Iteration)] - var_topup"
   ]
  },
  {
   "cell_type": "code",
   "execution_count": 47,
   "metadata": {},
   "outputs": [
    {
     "data": {
      "text/html": [
       "<dl class=dl-horizontal>\n",
       "\t<dt>ME</dt>\n",
       "\t\t<dd>-13007.1646810325</dd>\n",
       "\t<dt>RMSE</dt>\n",
       "\t\t<dd>16062.6655379399</dd>\n",
       "\t<dt>MAPE</dt>\n",
       "\t\t<dd>284.246731109138</dd>\n",
       "\t<dt>Iteration</dt>\n",
       "\t\t<dd>25.2</dd>\n",
       "</dl>\n"
      ],
      "text/latex": [
       "\\begin{description*}\n",
       "\\item[ME] -13007.1646810325\n",
       "\\item[RMSE] 16062.6655379399\n",
       "\\item[MAPE] 284.246731109138\n",
       "\\item[Iteration] 25.2\n",
       "\\end{description*}\n"
      ],
      "text/markdown": [
       "ME\n",
       ":   -13007.1646810325RMSE\n",
       ":   16062.6655379399MAPE\n",
       ":   284.246731109138Iteration\n",
       ":   25.2\n",
       "\n"
      ],
      "text/plain": [
       "         ME        RMSE        MAPE   Iteration \n",
       "-13007.1647  16062.6655    284.2467     25.2000 "
      ]
     },
     "metadata": {},
     "output_type": "display_data"
    }
   ],
   "source": [
    "colMeans(df_acc)"
   ]
  },
  {
   "cell_type": "code",
   "execution_count": 48,
   "metadata": {},
   "outputs": [],
   "source": [
    "# df_mean_acc <- readRDS(\"df_mean_acc.rds\")\n",
    "# rownames(df_mean_acc)[2:5]  <-  c('3 level', '2 level (state)', '2 level (type)' ,'2 level (clusetered)' )"
   ]
  },
  {
   "cell_type": "code",
   "execution_count": 49,
   "metadata": {},
   "outputs": [
    {
     "data": {
      "text/html": [
       "<table>\n",
       "<thead><tr><th></th><th scope=col>Квартальные</th><th scope=col>Сезонно сглаженные</th><th scope=col>Месячные</th></tr></thead>\n",
       "<tbody>\n",
       "\t<tr><th scope=row>1 level</th><td>64.30372</td><td>299.5702</td><td>15884.63</td></tr>\n",
       "\t<tr><th scope=row>3 level</th><td>66.31314</td><td>283.3258</td><td>17197.63</td></tr>\n",
       "\t<tr><th scope=row>2 level (state)</th><td>67.92739</td><td>266.6368</td><td>17394.55</td></tr>\n",
       "\t<tr><th scope=row>2 level (type)</th><td>63.95990</td><td>299.9543</td><td>16447.28</td></tr>\n",
       "\t<tr><th scope=row>2 level (clusetered)</th><td>67.09557</td><td>247.4651</td><td>15338.88</td></tr>\n",
       "</tbody>\n",
       "</table>\n"
      ],
      "text/latex": [
       "\\begin{tabular}{r|lll}\n",
       "  & Квартальные & Сезонно сглаженные & Месячные\\\\\n",
       "\\hline\n",
       "\t1 level & 64.30372 & 299.5702 & 15884.63\\\\\n",
       "\t3 level & 66.31314 & 283.3258 & 17197.63\\\\\n",
       "\t2 level (state) & 67.92739 & 266.6368 & 17394.55\\\\\n",
       "\t2 level (type) & 63.95990 & 299.9543 & 16447.28\\\\\n",
       "\t2 level (clusetered) & 67.09557 & 247.4651 & 15338.88\\\\\n",
       "\\end{tabular}\n"
      ],
      "text/markdown": [
       "\n",
       "| <!--/--> | Квартальные | Сезонно сглаженные | Месячные | \n",
       "|---|---|---|---|---|\n",
       "| 1 level | 64.30372 | 299.5702 | 15884.63 | \n",
       "| 3 level | 66.31314 | 283.3258 | 17197.63 | \n",
       "| 2 level (state) | 67.92739 | 266.6368 | 17394.55 | \n",
       "| 2 level (type) | 63.95990 | 299.9543 | 16447.28 | \n",
       "| 2 level (clusetered) | 67.09557 | 247.4651 | 15338.88 | \n",
       "\n",
       "\n"
      ],
      "text/plain": [
       "                     Квартальные Сезонно сглаженные Месячные\n",
       "1 level              64.30372    299.5702           15884.63\n",
       "3 level              66.31314    283.3258           17197.63\n",
       "2 level (state)      67.92739    266.6368           17394.55\n",
       "2 level (type)       63.95990    299.9543           16447.28\n",
       "2 level (clusetered) 67.09557    247.4651           15338.88"
      ]
     },
     "metadata": {},
     "output_type": "display_data"
    }
   ],
   "source": [
    "df_mean_acc"
   ]
  },
  {
   "cell_type": "code",
   "execution_count": 50,
   "metadata": {},
   "outputs": [
    {
     "data": {
      "text/html": [
       "<table>\n",
       "<thead><tr><th></th><th scope=col>Квартальные</th><th scope=col>Сезонно сглаженные</th><th scope=col>Месячные</th></tr></thead>\n",
       "<tbody>\n",
       "\t<tr><th scope=row>1 level</th><td>64.30372</td><td>299.5702</td><td>15884.63</td></tr>\n",
       "\t<tr><th scope=row>3 level</th><td>66.31314</td><td>283.3258</td><td>17197.63</td></tr>\n",
       "\t<tr><th scope=row>2 level (state)</th><td>67.92739</td><td>266.6368</td><td>17394.55</td></tr>\n",
       "\t<tr><th scope=row>2 level (type)</th><td>63.95990</td><td>299.9543</td><td>16447.28</td></tr>\n",
       "\t<tr><th scope=row>2 level (clusetered)</th><td>67.09557</td><td>247.4651</td><td>16062.67</td></tr>\n",
       "</tbody>\n",
       "</table>\n"
      ],
      "text/latex": [
       "\\begin{tabular}{r|lll}\n",
       "  & Квартальные & Сезонно сглаженные & Месячные\\\\\n",
       "\\hline\n",
       "\t1 level & 64.30372 & 299.5702 & 15884.63\\\\\n",
       "\t3 level & 66.31314 & 283.3258 & 17197.63\\\\\n",
       "\t2 level (state) & 67.92739 & 266.6368 & 17394.55\\\\\n",
       "\t2 level (type) & 63.95990 & 299.9543 & 16447.28\\\\\n",
       "\t2 level (clusetered) & 67.09557 & 247.4651 & 16062.67\\\\\n",
       "\\end{tabular}\n"
      ],
      "text/markdown": [
       "\n",
       "| <!--/--> | Квартальные | Сезонно сглаженные | Месячные | \n",
       "|---|---|---|---|---|\n",
       "| 1 level | 64.30372 | 299.5702 | 15884.63 | \n",
       "| 3 level | 66.31314 | 283.3258 | 17197.63 | \n",
       "| 2 level (state) | 67.92739 | 266.6368 | 17394.55 | \n",
       "| 2 level (type) | 63.95990 | 299.9543 | 16447.28 | \n",
       "| 2 level (clusetered) | 67.09557 | 247.4651 | 16062.67 | \n",
       "\n",
       "\n"
      ],
      "text/plain": [
       "                     Квартальные Сезонно сглаженные Месячные\n",
       "1 level              64.30372    299.5702           15884.63\n",
       "3 level              66.31314    283.3258           17197.63\n",
       "2 level (state)      67.92739    266.6368           17394.55\n",
       "2 level (type)       63.95990    299.9543           16447.28\n",
       "2 level (clusetered) 67.09557    247.4651           16062.67"
      ]
     },
     "metadata": {},
     "output_type": "display_data"
    }
   ],
   "source": [
    "df_mean_acc[5,3]  <-  colMeans(df_acc)[[2]] \n",
    "df_mean_acc"
   ]
  },
  {
   "cell_type": "code",
   "execution_count": 51,
   "metadata": {},
   "outputs": [],
   "source": [
    "saveRDS(df_mean_acc, \"df_mean_acc_no_weights.rds\")\n",
    "# saveRDS(plots_test_all, \"plots_test_not_all.rds\")"
   ]
  },
  {
   "cell_type": "code",
   "execution_count": 52,
   "metadata": {},
   "outputs": [
    {
     "data": {
      "text/html": [
       "<table>\n",
       "<thead><tr><th></th><th scope=col>Квартальные</th><th scope=col>Сезонно сглаженные</th><th scope=col>Месячные</th></tr></thead>\n",
       "<tbody>\n",
       "\t<tr><th scope=row>1 level</th><td>64.30372</td><td>299.5702</td><td>15884.63</td></tr>\n",
       "\t<tr><th scope=row>3 level</th><td>66.31314</td><td>283.3258</td><td>17197.63</td></tr>\n",
       "\t<tr><th scope=row>2 level (state)</th><td>67.92739</td><td>266.6368</td><td>17394.55</td></tr>\n",
       "\t<tr><th scope=row>2 level (type)</th><td>63.95990</td><td>299.9543</td><td>16447.28</td></tr>\n",
       "\t<tr><th scope=row>2 level (clusetered)</th><td>67.09557</td><td>247.4651</td><td>16062.67</td></tr>\n",
       "</tbody>\n",
       "</table>\n"
      ],
      "text/latex": [
       "\\begin{tabular}{r|lll}\n",
       "  & Квартальные & Сезонно сглаженные & Месячные\\\\\n",
       "\\hline\n",
       "\t1 level & 64.30372 & 299.5702 & 15884.63\\\\\n",
       "\t3 level & 66.31314 & 283.3258 & 17197.63\\\\\n",
       "\t2 level (state) & 67.92739 & 266.6368 & 17394.55\\\\\n",
       "\t2 level (type) & 63.95990 & 299.9543 & 16447.28\\\\\n",
       "\t2 level (clusetered) & 67.09557 & 247.4651 & 16062.67\\\\\n",
       "\\end{tabular}\n"
      ],
      "text/markdown": [
       "\n",
       "| <!--/--> | Квартальные | Сезонно сглаженные | Месячные | \n",
       "|---|---|---|---|---|\n",
       "| 1 level | 64.30372 | 299.5702 | 15884.63 | \n",
       "| 3 level | 66.31314 | 283.3258 | 17197.63 | \n",
       "| 2 level (state) | 67.92739 | 266.6368 | 17394.55 | \n",
       "| 2 level (type) | 63.95990 | 299.9543 | 16447.28 | \n",
       "| 2 level (clusetered) | 67.09557 | 247.4651 | 16062.67 | \n",
       "\n",
       "\n"
      ],
      "text/plain": [
       "                     Квартальные Сезонно сглаженные Месячные\n",
       "1 level              64.30372    299.5702           15884.63\n",
       "3 level              66.31314    283.3258           17197.63\n",
       "2 level (state)      67.92739    266.6368           17394.55\n",
       "2 level (type)       63.95990    299.9543           16447.28\n",
       "2 level (clusetered) 67.09557    247.4651           16062.67"
      ]
     },
     "metadata": {},
     "output_type": "display_data"
    }
   ],
   "source": [
    "df_mean_acc"
   ]
  },
  {
   "cell_type": "code",
   "execution_count": 53,
   "metadata": {},
   "outputs": [
    {
     "data": {
      "text/html": [
       "<table>\n",
       "<thead><tr><th></th><th scope=col>Квартальные</th><th scope=col>Сезонно сглаженные</th><th scope=col>Месячные</th></tr></thead>\n",
       "<tbody>\n",
       "\t<tr><th scope=row>1 level</th><td>64.30372</td><td>299.5702</td><td>15884.63</td></tr>\n",
       "\t<tr><th scope=row>3 level</th><td>64.24503</td><td>298.8763</td><td>15346.86</td></tr>\n",
       "\t<tr><th scope=row>2 level (state)</th><td>64.23140</td><td>298.8923</td><td>15342.24</td></tr>\n",
       "\t<tr><th scope=row>2 level (type)</th><td>64.10458</td><td>299.4158</td><td>15511.31</td></tr>\n",
       "\t<tr><th scope=row>2 level (clusetered)</th><td>64.25570</td><td>297.5359</td><td>15338.88</td></tr>\n",
       "</tbody>\n",
       "</table>\n"
      ],
      "text/latex": [
       "\\begin{tabular}{r|lll}\n",
       "  & Квартальные & Сезонно сглаженные & Месячные\\\\\n",
       "\\hline\n",
       "\t1 level & 64.30372 & 299.5702 & 15884.63\\\\\n",
       "\t3 level & 64.24503 & 298.8763 & 15346.86\\\\\n",
       "\t2 level (state) & 64.23140 & 298.8923 & 15342.24\\\\\n",
       "\t2 level (type) & 64.10458 & 299.4158 & 15511.31\\\\\n",
       "\t2 level (clusetered) & 64.25570 & 297.5359 & 15338.88\\\\\n",
       "\\end{tabular}\n"
      ],
      "text/markdown": [
       "\n",
       "| <!--/--> | Квартальные | Сезонно сглаженные | Месячные | \n",
       "|---|---|---|---|---|\n",
       "| 1 level | 64.30372 | 299.5702 | 15884.63 | \n",
       "| 3 level | 64.24503 | 298.8763 | 15346.86 | \n",
       "| 2 level (state) | 64.23140 | 298.8923 | 15342.24 | \n",
       "| 2 level (type) | 64.10458 | 299.4158 | 15511.31 | \n",
       "| 2 level (clusetered) | 64.25570 | 297.5359 | 15338.88 | \n",
       "\n",
       "\n"
      ],
      "text/plain": [
       "                     Квартальные Сезонно сглаженные Месячные\n",
       "1 level              64.30372    299.5702           15884.63\n",
       "3 level              64.24503    298.8763           15346.86\n",
       "2 level (state)      64.23140    298.8923           15342.24\n",
       "2 level (type)       64.10458    299.4158           15511.31\n",
       "2 level (clusetered) 64.25570    297.5359           15338.88"
      ]
     },
     "metadata": {},
     "output_type": "display_data"
    }
   ],
   "source": [
    "readRDS(\"df_mean_acc.rds\")"
   ]
  },
  {
   "cell_type": "code",
   "execution_count": null,
   "metadata": {},
   "outputs": [],
   "source": [
    "|"
   ]
  }
 ],
 "metadata": {
  "kernelspec": {
   "display_name": "R 3.5.1",
   "language": "R",
   "name": "ir"
  },
  "language_info": {
   "codemirror_mode": "r",
   "file_extension": ".r",
   "mimetype": "text/x-r-source",
   "name": "R",
   "pygments_lexer": "r",
   "version": "3.5.2"
  }
 },
 "nbformat": 4,
 "nbformat_minor": 2
}
