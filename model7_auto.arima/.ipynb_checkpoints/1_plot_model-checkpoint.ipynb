{
 "cells": [
  {
   "cell_type": "markdown",
   "metadata": {},
   "source": [
    "#### 7"
   ]
  },
  {
   "cell_type": "code",
   "execution_count": 3,
   "metadata": {
    "scrolled": true
   },
   "outputs": [],
   "source": [
    "library(forecast)\n",
    "library(ggplot2)\n",
    "library(dplyr)\n",
    "library(gridExtra)"
   ]
  },
  {
   "cell_type": "code",
   "execution_count": 4,
   "metadata": {},
   "outputs": [],
   "source": [
    "# library(doParallel)\n",
    "library(doMC)\n",
    "options(cores = 10)\n",
    "registerDoMC()"
   ]
  },
  {
   "cell_type": "markdown",
   "metadata": {},
   "source": [
    "### ЕС"
   ]
  },
  {
   "cell_type": "code",
   "execution_count": 5,
   "metadata": {},
   "outputs": [],
   "source": [
    "df_eu  <-  read.csv(file=\"../data_hts/hts_eu_a10.csv\", header=TRUE, sep=\",\", row.names =1 )\n",
    "df_eu  <-  df_eu/1000\n",
    "var_freq  <- 4    \n",
    "var_start_year  <- 2000   \n",
    "gdp_agg <- df_eu_sums <-  rowSums(df_eu)\n",
    "gdp_agg  <- ts(gdp_agg, frequency = var_freq, start = var_start_year) "
   ]
  },
  {
   "cell_type": "code",
   "execution_count": 6,
   "metadata": {},
   "outputs": [],
   "source": [
    "var_h  <- 8\n",
    "var_window  <-  48 - 1\n",
    "var_topup  <-  1\n",
    "var_iter   <- (length(gdp_agg)+var_topup)/var_freq-(var_window+1)/var_freq-2"
   ]
  },
  {
   "cell_type": "code",
   "execution_count": 7,
   "metadata": {},
   "outputs": [],
   "source": [
    "# var_allornot  <- var_freq\n",
    "var_allornot  <- 1\n",
    "# var_shift  <-  var_topup\n",
    "var_shift  <-  0"
   ]
  },
  {
   "cell_type": "code",
   "execution_count": 8,
   "metadata": {},
   "outputs": [],
   "source": [
    "var_arpdq   <-  c(3,1,1)\n",
    "var_sarpdq   <-  c(2,1,1)\n",
    "var_drift   <-  FALSE\n",
    "var_constant   <-  FALSE"
   ]
  },
  {
   "cell_type": "code",
   "execution_count": 9,
   "metadata": {},
   "outputs": [
    {
     "name": "stdout",
     "output_type": "stream",
     "text": [
      "[1] 2000.00 2011.75 2012.00 2013.75\n",
      "[1] 2001.00 2012.75 2013.00 2014.75\n",
      "[1] 2002.00 2013.75 2014.00 2015.75\n",
      "[1] 2003.00 2014.75 2015.00 2016.75\n",
      "[1] 2004.00 2015.75 2016.00 2017.75\n",
      "[1] 2005.00 2016.75 2017.00 2018.75\n"
     ]
    }
   ],
   "source": [
    "l <- ac <- m_top  <- l_test  <-  list()\n",
    "\n",
    "k  <- 0\n",
    "\n",
    "for (i in 0:(var_iter*var_allornot - var_shift)){\n",
    "    k  <-  k+1\n",
    "    st_year  <-  var_start_year + i/var_allornot\n",
    "    train_start  <- st_year \n",
    "    train_end  <- st_year + 1/var_freq*(var_window)\n",
    "    test_start  <- st_year + 1/var_freq*(var_window+1) \n",
    "    test_end  <-  st_year + 1/var_freq*(var_window+var_h)\n",
    "    \n",
    "    print(c(train_start, train_end, test_start, test_end))\n",
    "    \n",
    "    if (i == 0){\n",
    "        train <- window(gdp_agg, end=train_end)}\n",
    "    else{\n",
    "        if ((var_shift == 0) & (i == var_iter*var_allornot - var_shift)){\n",
    "            train <- window(gdp_agg, start=train_start-var_topup/var_freq, end=train_end-var_topup/var_freq)\n",
    "        }else{\n",
    "            train <- window(gdp_agg, start=train_start, end=train_end)\n",
    "    }}\n",
    "    \n",
    "    if ((var_shift == 0) & (i == var_iter*var_allornot - var_shift)){\n",
    "        test <- window(gdp_agg, start=test_start-var_topup/var_freq)\n",
    "    }else{    test <- window(gdp_agg, start=test_start, end=test_end)\n",
    "        \n",
    "    }\n",
    "    \n",
    "    m_top[[k]]  <- auto.arima(msts(train, seasonal.periods = var_freq), \n",
    "    stationary = FALSE, seasonal = TRUE, lambda=NULL)\n",
    "    \n",
    "#     print(test)\n",
    "#     print(gdp_arima)\n",
    "    l[[k]]  <-   forecast(m_top[[k]], h = var_h  )\n",
    "\n",
    "    l_test[[i+1]]  <-   test\n",
    "    \n",
    "    ac[[i+1]]  <-  accuracy(l[[k]], test)\n",
    "\n",
    "    }"
   ]
  },
  {
   "cell_type": "code",
   "execution_count": 10,
   "metadata": {},
   "outputs": [
    {
     "data": {
      "text/html": [
       "<table>\n",
       "<thead><tr><th scope=col>ME</th><th scope=col>RMSE</th><th scope=col>MAPE</th></tr></thead>\n",
       "<tbody>\n",
       "\t<tr><td>  7.5695048</td><td> 25.76181  </td><td>0.7740858  </td></tr>\n",
       "\t<tr><td> -0.8072979</td><td> 18.76918  </td><td>0.5244972  </td></tr>\n",
       "\t<tr><td> 75.6291042</td><td> 88.86328  </td><td>2.2966611  </td></tr>\n",
       "\t<tr><td> 73.4896298</td><td> 76.83114  </td><td>2.2001836  </td></tr>\n",
       "\t<tr><td>-85.8858792</td><td> 88.54824  </td><td>2.5398199  </td></tr>\n",
       "\t<tr><td>111.9279592</td><td>117.64058  </td><td>3.2205271  </td></tr>\n",
       "</tbody>\n",
       "</table>\n"
      ],
      "text/latex": [
       "\\begin{tabular}{r|lll}\n",
       " ME & RMSE & MAPE\\\\\n",
       "\\hline\n",
       "\t   7.5695048 &  25.76181   & 0.7740858  \\\\\n",
       "\t  -0.8072979 &  18.76918   & 0.5244972  \\\\\n",
       "\t  75.6291042 &  88.86328   & 2.2966611  \\\\\n",
       "\t  73.4896298 &  76.83114   & 2.2001836  \\\\\n",
       "\t -85.8858792 &  88.54824   & 2.5398199  \\\\\n",
       "\t 111.9279592 & 117.64058   & 3.2205271  \\\\\n",
       "\\end{tabular}\n"
      ],
      "text/markdown": [
       "\n",
       "ME | RMSE | MAPE | \n",
       "|---|---|---|---|---|---|\n",
       "|   7.5695048 |  25.76181   | 0.7740858   | \n",
       "|  -0.8072979 |  18.76918   | 0.5244972   | \n",
       "|  75.6291042 |  88.86328   | 2.2966611   | \n",
       "|  73.4896298 |  76.83114   | 2.2001836   | \n",
       "| -85.8858792 |  88.54824   | 2.5398199   | \n",
       "| 111.9279592 | 117.64058   | 3.2205271   | \n",
       "\n",
       "\n"
      ],
      "text/plain": [
       "  ME          RMSE      MAPE     \n",
       "1   7.5695048  25.76181 0.7740858\n",
       "2  -0.8072979  18.76918 0.5244972\n",
       "3  75.6291042  88.86328 2.2966611\n",
       "4  73.4896298  76.83114 2.2001836\n",
       "5 -85.8858792  88.54824 2.5398199\n",
       "6 111.9279592 117.64058 3.2205271"
      ]
     },
     "metadata": {},
     "output_type": "display_data"
    }
   ],
   "source": [
    "var_acc_metrics  <-  c(1,2,5)\n",
    "df_acc_test  <- ac[[1]][2, var_acc_metrics]\n",
    "for (i in ac[2:length(ac)]){\n",
    "    x  <-  i[2, var_acc_metrics]\n",
    "    df_acc_test   <-  cbind(df_acc_test, x)\n",
    "}\n",
    "df_acc_test  <- t(df_acc_test)\n",
    "df_acc_test  <-  as.data.frame(df_acc_test)\n",
    "row.names(df_acc_test)  <-  seq(1,length(ac))\n",
    "df_acc_test"
   ]
  },
  {
   "cell_type": "code",
   "execution_count": 11,
   "metadata": {},
   "outputs": [
    {
     "data": {
      "text/html": [
       "<dl class=dl-horizontal>\n",
       "\t<dt>ME</dt>\n",
       "\t\t<dd>30.3205034703352</dd>\n",
       "\t<dt>RMSE</dt>\n",
       "\t\t<dd>69.402369820038</dd>\n",
       "\t<dt>MAPE</dt>\n",
       "\t\t<dd>1.92596246119397</dd>\n",
       "</dl>\n"
      ],
      "text/latex": [
       "\\begin{description*}\n",
       "\\item[ME] 30.3205034703352\n",
       "\\item[RMSE] 69.402369820038\n",
       "\\item[MAPE] 1.92596246119397\n",
       "\\end{description*}\n"
      ],
      "text/markdown": [
       "ME\n",
       ":   30.3205034703352RMSE\n",
       ":   69.402369820038MAPE\n",
       ":   1.92596246119397\n",
       "\n"
      ],
      "text/plain": [
       "       ME      RMSE      MAPE \n",
       "30.320503 69.402370  1.925962 "
      ]
     },
     "metadata": {},
     "output_type": "display_data"
    }
   ],
   "source": [
    "colMeans(df_acc_test)"
   ]
  },
  {
   "cell_type": "code",
   "execution_count": 12,
   "metadata": {},
   "outputs": [
    {
     "data": {},
     "metadata": {},
     "output_type": "display_data"
    },
    {
     "data": {
      "image/png": "[encoded data removed]",
      "text/plain": [
       "plot without title"
      ]
     },
     "metadata": {},
     "output_type": "display_data"
    }
   ],
   "source": [
    "plot_forecasts  <-  autoplot(window(gdp_agg, start=2010))+\n",
    "    xlab(\"Время\") + ylab('ВВП') +\n",
    "    ggtitle(\"AR(3)SAR(2) с линейным трендом\") +\n",
    "    guides(colour=guide_legend(title=\" \")) +\n",
    "    theme(aspect.ratio = 0.75)\n",
    "\n",
    "for (i in 1:length(l)){\n",
    "    plot_forecasts  <-  plot_forecasts  +\n",
    "    autolayer(l[[i]], series=paste(\"Итерация\" , i, sep=\" \") ,   PI=FALSE) \n",
    "    \n",
    "}\n",
    "\n",
    "plot_forecasts\n"
   ]
  },
  {
   "cell_type": "code",
   "execution_count": 13,
   "metadata": {},
   "outputs": [
    {
     "data": {
      "text/html": [
       "<table>\n",
       "<thead><tr><th></th><th scope=col>Квартальные</th><th scope=col>Сезонно сглаженные</th><th scope=col>Месячные</th></tr></thead>\n",
       "<tbody>\n",
       "\t<tr><th scope=row>1 level</th><td>69.40237</td><td>323.9779</td><td>12825.6 </td></tr>\n",
       "\t<tr><th scope=row>2</th><td>      NA</td><td>      NA</td><td>     NA </td></tr>\n",
       "\t<tr><th scope=row>3</th><td>      NA</td><td>      NA</td><td>     NA </td></tr>\n",
       "\t<tr><th scope=row>4</th><td>      NA</td><td>      NA</td><td>     NA </td></tr>\n",
       "\t<tr><th scope=row>5</th><td>      NA</td><td>      NA</td><td>     NA </td></tr>\n",
       "</tbody>\n",
       "</table>\n"
      ],
      "text/latex": [
       "\\begin{tabular}{r|lll}\n",
       "  & Квартальные & Сезонно сглаженные & Месячные\\\\\n",
       "\\hline\n",
       "\t1 level & 69.40237 & 323.9779 & 12825.6 \\\\\n",
       "\t2 &       NA &       NA &      NA \\\\\n",
       "\t3 &       NA &       NA &      NA \\\\\n",
       "\t4 &       NA &       NA &      NA \\\\\n",
       "\t5 &       NA &       NA &      NA \\\\\n",
       "\\end{tabular}\n"
      ],
      "text/markdown": [
       "\n",
       "| <!--/--> | Квартальные | Сезонно сглаженные | Месячные | \n",
       "|---|---|---|---|---|\n",
       "| 1 level | 69.40237 | 323.9779 | 12825.6  | \n",
       "| 2 |       NA |       NA |      NA  | \n",
       "| 3 |       NA |       NA |      NA  | \n",
       "| 4 |       NA |       NA |      NA  | \n",
       "| 5 |       NA |       NA |      NA  | \n",
       "\n",
       "\n"
      ],
      "text/plain": [
       "        Квартальные Сезонно сглаженные Месячные\n",
       "1 level 69.40237    323.9779           12825.6 \n",
       "2             NA          NA                NA \n",
       "3             NA          NA                NA \n",
       "4             NA          NA                NA \n",
       "5             NA          NA                NA "
      ]
     },
     "metadata": {},
     "output_type": "display_data"
    }
   ],
   "source": [
    "df_mean_acc <- readRDS(\"df_mean_acc.rds\")\n",
    "df_mean_acc"
   ]
  },
  {
   "cell_type": "code",
   "execution_count": 14,
   "metadata": {},
   "outputs": [
    {
     "data": {
      "text/html": [
       "<table>\n",
       "<thead><tr><th></th><th scope=col>Квартальные</th><th scope=col>Сезонно сглаженные</th><th scope=col>Месячные</th></tr></thead>\n",
       "<tbody>\n",
       "\t<tr><th scope=row>1 level</th><td>69.40237</td><td>323.9779</td><td>12825.6 </td></tr>\n",
       "\t<tr><th scope=row>2</th><td>      NA</td><td>      NA</td><td>     NA </td></tr>\n",
       "\t<tr><th scope=row>3</th><td>      NA</td><td>      NA</td><td>     NA </td></tr>\n",
       "\t<tr><th scope=row>4</th><td>      NA</td><td>      NA</td><td>     NA </td></tr>\n",
       "\t<tr><th scope=row>5</th><td>      NA</td><td>      NA</td><td>     NA </td></tr>\n",
       "</tbody>\n",
       "</table>\n"
      ],
      "text/latex": [
       "\\begin{tabular}{r|lll}\n",
       "  & Квартальные & Сезонно сглаженные & Месячные\\\\\n",
       "\\hline\n",
       "\t1 level & 69.40237 & 323.9779 & 12825.6 \\\\\n",
       "\t2 &       NA &       NA &      NA \\\\\n",
       "\t3 &       NA &       NA &      NA \\\\\n",
       "\t4 &       NA &       NA &      NA \\\\\n",
       "\t5 &       NA &       NA &      NA \\\\\n",
       "\\end{tabular}\n"
      ],
      "text/markdown": [
       "\n",
       "| <!--/--> | Квартальные | Сезонно сглаженные | Месячные | \n",
       "|---|---|---|---|---|\n",
       "| 1 level | 69.40237 | 323.9779 | 12825.6  | \n",
       "| 2 |       NA |       NA |      NA  | \n",
       "| 3 |       NA |       NA |      NA  | \n",
       "| 4 |       NA |       NA |      NA  | \n",
       "| 5 |       NA |       NA |      NA  | \n",
       "\n",
       "\n"
      ],
      "text/plain": [
       "        Квартальные Сезонно сглаженные Месячные\n",
       "1 level 69.40237    323.9779           12825.6 \n",
       "2             NA          NA                NA \n",
       "3             NA          NA                NA \n",
       "4             NA          NA                NA \n",
       "5             NA          NA                NA "
      ]
     },
     "metadata": {},
     "output_type": "display_data"
    }
   ],
   "source": [
    "df_mean_acc[1,1]  <-  colMeans(df_acc_test)[[2]]\n",
    "df_mean_acc"
   ]
  },
  {
   "cell_type": "code",
   "execution_count": 15,
   "metadata": {},
   "outputs": [],
   "source": [
    "save_plots  <- list()"
   ]
  },
  {
   "cell_type": "code",
   "execution_count": 16,
   "metadata": {},
   "outputs": [],
   "source": [
    "save_plots[[1]]  <-  plot_forecasts"
   ]
  },
  {
   "cell_type": "code",
   "execution_count": 17,
   "metadata": {},
   "outputs": [],
   "source": [
    "df_acc  <-  df_acc_test"
   ]
  },
  {
   "cell_type": "code",
   "execution_count": 18,
   "metadata": {},
   "outputs": [],
   "source": [
    "colnames(df_acc)  <-  colnames(ac[[1]])[var_acc_metrics] \n",
    "df_acc  <-  cbind(df_acc, seq(1, length(ac)))\n",
    "colnames(df_acc)[length(var_acc_metrics)+1]  <-  'Iteration'"
   ]
  },
  {
   "cell_type": "code",
   "execution_count": 19,
   "metadata": {},
   "outputs": [],
   "source": [
    "df_acc$Iteration  <-  df_acc$Iteration*var_freq-(var_freq-1)\n",
    "df_acc$Iteration[length(df_acc$Iteration)]  <-   df_acc$Iteration[length(df_acc$Iteration)] - var_topup"
   ]
  },
  {
   "cell_type": "code",
   "execution_count": 20,
   "metadata": {},
   "outputs": [
    {
     "data": {
      "text/html": [
       "<table>\n",
       "<thead><tr><th scope=col>ME</th><th scope=col>RMSE</th><th scope=col>MAPE</th><th scope=col>Iteration</th></tr></thead>\n",
       "<tbody>\n",
       "\t<tr><td>  7.5695048</td><td> 25.76181  </td><td>0.7740858  </td><td> 1         </td></tr>\n",
       "\t<tr><td> -0.8072979</td><td> 18.76918  </td><td>0.5244972  </td><td> 5         </td></tr>\n",
       "\t<tr><td> 75.6291042</td><td> 88.86328  </td><td>2.2966611  </td><td> 9         </td></tr>\n",
       "\t<tr><td> 73.4896298</td><td> 76.83114  </td><td>2.2001836  </td><td>13         </td></tr>\n",
       "\t<tr><td>-85.8858792</td><td> 88.54824  </td><td>2.5398199  </td><td>17         </td></tr>\n",
       "\t<tr><td>111.9279592</td><td>117.64058  </td><td>3.2205271  </td><td>20         </td></tr>\n",
       "</tbody>\n",
       "</table>\n"
      ],
      "text/latex": [
       "\\begin{tabular}{r|llll}\n",
       " ME & RMSE & MAPE & Iteration\\\\\n",
       "\\hline\n",
       "\t   7.5695048 &  25.76181   & 0.7740858   &  1         \\\\\n",
       "\t  -0.8072979 &  18.76918   & 0.5244972   &  5         \\\\\n",
       "\t  75.6291042 &  88.86328   & 2.2966611   &  9         \\\\\n",
       "\t  73.4896298 &  76.83114   & 2.2001836   & 13         \\\\\n",
       "\t -85.8858792 &  88.54824   & 2.5398199   & 17         \\\\\n",
       "\t 111.9279592 & 117.64058   & 3.2205271   & 20         \\\\\n",
       "\\end{tabular}\n"
      ],
      "text/markdown": [
       "\n",
       "ME | RMSE | MAPE | Iteration | \n",
       "|---|---|---|---|---|---|\n",
       "|   7.5695048 |  25.76181   | 0.7740858   |  1          | \n",
       "|  -0.8072979 |  18.76918   | 0.5244972   |  5          | \n",
       "|  75.6291042 |  88.86328   | 2.2966611   |  9          | \n",
       "|  73.4896298 |  76.83114   | 2.2001836   | 13          | \n",
       "| -85.8858792 |  88.54824   | 2.5398199   | 17          | \n",
       "| 111.9279592 | 117.64058   | 3.2205271   | 20          | \n",
       "\n",
       "\n"
      ],
      "text/plain": [
       "  ME          RMSE      MAPE      Iteration\n",
       "1   7.5695048  25.76181 0.7740858  1       \n",
       "2  -0.8072979  18.76918 0.5244972  5       \n",
       "3  75.6291042  88.86328 2.2966611  9       \n",
       "4  73.4896298  76.83114 2.2001836 13       \n",
       "5 -85.8858792  88.54824 2.5398199 17       \n",
       "6 111.9279592 117.64058 3.2205271 20       "
      ]
     },
     "metadata": {},
     "output_type": "display_data"
    }
   ],
   "source": [
    "df_acc"
   ]
  },
  {
   "cell_type": "code",
   "execution_count": 21,
   "metadata": {},
   "outputs": [],
   "source": [
    "var_allornot  <- var_freq\n",
    "# var_allornot  <- 1\n",
    "var_shift  <-  var_topup\n",
    "# var_shift  <-  0"
   ]
  },
  {
   "cell_type": "markdown",
   "metadata": {},
   "source": [
    "### США"
   ]
  },
  {
   "cell_type": "code",
   "execution_count": 22,
   "metadata": {},
   "outputs": [],
   "source": [
    "df_eu  <-  read.csv(file=\"../data_hts/hts_us_ind_filled.csv\", header=TRUE, sep=\",\", row.names =1 )\n",
    "df_eu  <-  df_eu/1000\n",
    "var_freq  <- 4    \n",
    "var_start_year  <- 2005   \n",
    "gdp_agg <- df_eu_sums <-  rowSums(df_eu)\n",
    "gdp_agg  <- ts(gdp_agg, frequency = var_freq, start = var_start_year) "
   ]
  },
  {
   "cell_type": "code",
   "execution_count": 23,
   "metadata": {},
   "outputs": [],
   "source": [
    "var_h  <- 8\n",
    "var_window  <-  28 - 1\n",
    "var_topup  <-  2\n",
    "var_iter   <- (length(gdp_agg)+var_topup)/var_freq-(var_window+1)/var_freq-2"
   ]
  },
  {
   "cell_type": "code",
   "execution_count": 24,
   "metadata": {},
   "outputs": [],
   "source": [
    "# var_allornot  <- var_freq\n",
    "var_allornot  <- 1\n",
    "# var_shift  <-  var_topup\n",
    "var_shift  <-  0\n",
    "\n",
    "var_arpdq   <-  c(4,1,1)\n",
    "var_sarpdq   <-  c(0,0,0)\n",
    "var_drift   <-  FALSE\n",
    "var_constant   <-  FALSE"
   ]
  },
  {
   "cell_type": "code",
   "execution_count": 25,
   "metadata": {},
   "outputs": [
    {
     "name": "stdout",
     "output_type": "stream",
     "text": [
      "[1] 2005.00 2011.75 2012.00 2013.75\n",
      "[1] 2006.00 2012.75 2013.00 2014.75\n",
      "[1] 2007.00 2013.75 2014.00 2015.75\n",
      "[1] 2008.00 2014.75 2015.00 2016.75\n",
      "[1] 2009.00 2015.75 2016.00 2017.75\n",
      "[1] 2010.00 2016.75 2017.00 2018.75\n"
     ]
    }
   ],
   "source": [
    "l <- ac <- m_top  <- l_test  <-  list()\n",
    "\n",
    "k  <- 0\n",
    "\n",
    "for (i in 0:(var_iter*var_allornot - var_shift)){\n",
    "    k  <-  k+1\n",
    "    st_year  <-  var_start_year + i/var_allornot\n",
    "    train_start  <- st_year \n",
    "    train_end  <- st_year + 1/var_freq*(var_window)\n",
    "    test_start  <- st_year + 1/var_freq*(var_window+1) \n",
    "    test_end  <-  st_year + 1/var_freq*(var_window+var_h)\n",
    "    \n",
    "    print(c(train_start, train_end, test_start, test_end))\n",
    "    \n",
    "    if (i == 0){\n",
    "        train <- window(gdp_agg, end=train_end)}\n",
    "    else{\n",
    "        if ((var_shift == 0) & (i == var_iter*var_allornot - var_shift)){\n",
    "            train <- window(gdp_agg, start=train_start-var_topup/var_freq, end=train_end-var_topup/var_freq)\n",
    "        }else{\n",
    "            train <- window(gdp_agg, start=train_start, end=train_end)\n",
    "    }}\n",
    "    \n",
    "    if ((var_shift == 0) & (i == var_iter*var_allornot - var_shift)){\n",
    "        test <- window(gdp_agg, start=test_start-var_topup/var_freq)\n",
    "    }else{    test <- window(gdp_agg, start=test_start, end=test_end)\n",
    "        \n",
    "    }\n",
    "    \n",
    "    m_top[[k]]  <- auto.arima(msts(train, seasonal.periods = var_freq), \n",
    "    stationary = FALSE, seasonal = TRUE, lambda=NULL)\n",
    "#     print(test)\n",
    "#     print(gdp_arima)\n",
    "    l[[k]]  <-   forecast(m_top[[k]], h = var_h  )\n",
    "\n",
    "    l_test[[i+1]]  <-   test\n",
    "    \n",
    "    ac[[i+1]]  <-  accuracy(l[[k]], test)\n",
    "    \n",
    "    }"
   ]
  },
  {
   "cell_type": "code",
   "execution_count": 26,
   "metadata": {},
   "outputs": [
    {
     "data": {
      "text/html": [
       "<table>\n",
       "<thead><tr><th scope=col>ME</th><th scope=col>RMSE</th><th scope=col>MAPE</th></tr></thead>\n",
       "<tbody>\n",
       "\t<tr><td>415.65959</td><td>497.75060</td><td>2.5673336</td></tr>\n",
       "\t<tr><td>414.46109</td><td>479.50319</td><td>2.5048522</td></tr>\n",
       "\t<tr><td>393.32296</td><td>478.28161</td><td>2.4651652</td></tr>\n",
       "\t<tr><td>343.60129</td><td>372.36757</td><td>1.9899972</td></tr>\n",
       "\t<tr><td> 19.25109</td><td> 45.48502</td><td>0.1967210</td></tr>\n",
       "\t<tr><td> 26.96100</td><td> 70.47917</td><td>0.3054216</td></tr>\n",
       "</tbody>\n",
       "</table>\n"
      ],
      "text/latex": [
       "\\begin{tabular}{r|lll}\n",
       " ME & RMSE & MAPE\\\\\n",
       "\\hline\n",
       "\t 415.65959 & 497.75060 & 2.5673336\\\\\n",
       "\t 414.46109 & 479.50319 & 2.5048522\\\\\n",
       "\t 393.32296 & 478.28161 & 2.4651652\\\\\n",
       "\t 343.60129 & 372.36757 & 1.9899972\\\\\n",
       "\t  19.25109 &  45.48502 & 0.1967210\\\\\n",
       "\t  26.96100 &  70.47917 & 0.3054216\\\\\n",
       "\\end{tabular}\n"
      ],
      "text/markdown": [
       "\n",
       "ME | RMSE | MAPE | \n",
       "|---|---|---|---|---|---|\n",
       "| 415.65959 | 497.75060 | 2.5673336 | \n",
       "| 414.46109 | 479.50319 | 2.5048522 | \n",
       "| 393.32296 | 478.28161 | 2.4651652 | \n",
       "| 343.60129 | 372.36757 | 1.9899972 | \n",
       "|  19.25109 |  45.48502 | 0.1967210 | \n",
       "|  26.96100 |  70.47917 | 0.3054216 | \n",
       "\n",
       "\n"
      ],
      "text/plain": [
       "  ME        RMSE      MAPE     \n",
       "1 415.65959 497.75060 2.5673336\n",
       "2 414.46109 479.50319 2.5048522\n",
       "3 393.32296 478.28161 2.4651652\n",
       "4 343.60129 372.36757 1.9899972\n",
       "5  19.25109  45.48502 0.1967210\n",
       "6  26.96100  70.47917 0.3054216"
      ]
     },
     "metadata": {},
     "output_type": "display_data"
    }
   ],
   "source": [
    "var_acc_metrics  <-  c(1,2,5)\n",
    "df_acc_test  <- ac[[1]][2, var_acc_metrics]\n",
    "for (i in ac[2:length(ac)]){\n",
    "    x  <-  i[2, var_acc_metrics]\n",
    "    df_acc_test   <-  cbind(df_acc_test, x)\n",
    "}\n",
    "df_acc_test  <- t(df_acc_test)\n",
    "df_acc_test  <-  as.data.frame(df_acc_test)\n",
    "row.names(df_acc_test)  <-  seq(1,length(ac))\n",
    "df_acc_test"
   ]
  },
  {
   "cell_type": "code",
   "execution_count": 27,
   "metadata": {},
   "outputs": [
    {
     "data": {
      "text/html": [
       "<dl class=dl-horizontal>\n",
       "\t<dt>ME</dt>\n",
       "\t\t<dd>268.876169670205</dd>\n",
       "\t<dt>RMSE</dt>\n",
       "\t\t<dd>323.977861094008</dd>\n",
       "\t<dt>MAPE</dt>\n",
       "\t\t<dd>1.67158179894413</dd>\n",
       "</dl>\n"
      ],
      "text/latex": [
       "\\begin{description*}\n",
       "\\item[ME] 268.876169670205\n",
       "\\item[RMSE] 323.977861094008\n",
       "\\item[MAPE] 1.67158179894413\n",
       "\\end{description*}\n"
      ],
      "text/markdown": [
       "ME\n",
       ":   268.876169670205RMSE\n",
       ":   323.977861094008MAPE\n",
       ":   1.67158179894413\n",
       "\n"
      ],
      "text/plain": [
       "        ME       RMSE       MAPE \n",
       "268.876170 323.977861   1.671582 "
      ]
     },
     "metadata": {},
     "output_type": "display_data"
    }
   ],
   "source": [
    "colMeans(df_acc_test)"
   ]
  },
  {
   "cell_type": "code",
   "execution_count": 28,
   "metadata": {},
   "outputs": [
    {
     "data": {},
     "metadata": {},
     "output_type": "display_data"
    },
    {
     "data": {
      "image/png": "[encoded data removed]",
      "text/plain": [
       "plot without title"
      ]
     },
     "metadata": {},
     "output_type": "display_data"
    }
   ],
   "source": [
    "plot_forecasts  <-  autoplot(window(gdp_agg, start=2010))+\n",
    "    xlab(\"Время\") + ylab('ВВП') +\n",
    "    ggtitle(\"AR(4)\") +\n",
    "    guides(colour=guide_legend(title=\" \")) +\n",
    "    theme(aspect.ratio = 0.75)\n",
    "\n",
    "for (i in 1:length(l)){\n",
    "    plot_forecasts  <-  plot_forecasts  +\n",
    "    autolayer(l[[i]], series=paste(\"Итерация\" , i, sep=\" \") ,   PI=FALSE) \n",
    "    \n",
    "}\n",
    "\n",
    "plot_forecasts\n"
   ]
  },
  {
   "cell_type": "code",
   "execution_count": 29,
   "metadata": {},
   "outputs": [
    {
     "data": {
      "text/html": [
       "<table>\n",
       "<thead><tr><th></th><th scope=col>Квартальные</th><th scope=col>Сезонно сглаженные</th><th scope=col>Месячные</th></tr></thead>\n",
       "<tbody>\n",
       "\t<tr><th scope=row>1 level</th><td>69.40237</td><td>323.9779</td><td>12825.6 </td></tr>\n",
       "\t<tr><th scope=row>2</th><td>      NA</td><td>      NA</td><td>     NA </td></tr>\n",
       "\t<tr><th scope=row>3</th><td>      NA</td><td>      NA</td><td>     NA </td></tr>\n",
       "\t<tr><th scope=row>4</th><td>      NA</td><td>      NA</td><td>     NA </td></tr>\n",
       "\t<tr><th scope=row>5</th><td>      NA</td><td>      NA</td><td>     NA </td></tr>\n",
       "</tbody>\n",
       "</table>\n"
      ],
      "text/latex": [
       "\\begin{tabular}{r|lll}\n",
       "  & Квартальные & Сезонно сглаженные & Месячные\\\\\n",
       "\\hline\n",
       "\t1 level & 69.40237 & 323.9779 & 12825.6 \\\\\n",
       "\t2 &       NA &       NA &      NA \\\\\n",
       "\t3 &       NA &       NA &      NA \\\\\n",
       "\t4 &       NA &       NA &      NA \\\\\n",
       "\t5 &       NA &       NA &      NA \\\\\n",
       "\\end{tabular}\n"
      ],
      "text/markdown": [
       "\n",
       "| <!--/--> | Квартальные | Сезонно сглаженные | Месячные | \n",
       "|---|---|---|---|---|\n",
       "| 1 level | 69.40237 | 323.9779 | 12825.6  | \n",
       "| 2 |       NA |       NA |      NA  | \n",
       "| 3 |       NA |       NA |      NA  | \n",
       "| 4 |       NA |       NA |      NA  | \n",
       "| 5 |       NA |       NA |      NA  | \n",
       "\n",
       "\n"
      ],
      "text/plain": [
       "        Квартальные Сезонно сглаженные Месячные\n",
       "1 level 69.40237    323.9779           12825.6 \n",
       "2             NA          NA                NA \n",
       "3             NA          NA                NA \n",
       "4             NA          NA                NA \n",
       "5             NA          NA                NA "
      ]
     },
     "metadata": {},
     "output_type": "display_data"
    }
   ],
   "source": [
    "df_mean_acc[1,2]  <- colMeans(df_acc_test)[[2]]\n",
    "df_mean_acc"
   ]
  },
  {
   "cell_type": "code",
   "execution_count": 30,
   "metadata": {},
   "outputs": [],
   "source": [
    "save_plots[[3]]  <-  plot_forecasts"
   ]
  },
  {
   "cell_type": "code",
   "execution_count": null,
   "metadata": {},
   "outputs": [],
   "source": []
  },
  {
   "cell_type": "code",
   "execution_count": 31,
   "metadata": {},
   "outputs": [],
   "source": [
    "var_allornot  <- var_freq\n",
    "# var_allornot  <- 1\n",
    "var_shift  <-  var_topup\n",
    "# var_shift  <-  0"
   ]
  },
  {
   "cell_type": "markdown",
   "metadata": {},
   "source": [
    "### РФ"
   ]
  },
  {
   "cell_type": "code",
   "execution_count": 37,
   "metadata": {},
   "outputs": [],
   "source": [
    "df_eu  <-  read.csv(file=\"../data_hts/hts_rus_summed.csv\", header=TRUE, sep=\",\", row.names =1 )\n",
    "# df_eu  <-  df_eu/1000\n",
    "var_freq  <- 12    \n",
    "var_start_year  <- 2006   \n",
    "gdp_agg <- df_eu_sums <-  rowSums(df_eu)\n",
    "gdp_agg  <- ts(gdp_agg, frequency = var_freq, start = var_start_year) "
   ]
  },
  {
   "cell_type": "code",
   "execution_count": 38,
   "metadata": {},
   "outputs": [],
   "source": [
    "var_h  <- 24\n",
    "var_window  <-  84 - 1\n",
    "var_topup  <-  -1\n",
    "var_iter   <- (length(gdp_agg)+var_topup)/var_freq-(var_window+1)/var_freq-2"
   ]
  },
  {
   "cell_type": "code",
   "execution_count": 39,
   "metadata": {},
   "outputs": [],
   "source": [
    "# var_allornot  <- var_freq\n",
    "var_allornot  <- 1\n",
    "# var_shift  <-  var_topup\n",
    "var_shift  <-  0\n",
    "\n",
    "var_arpdq   <-  c(4,1,1)\n",
    "var_sarpdq   <-  c(1,1,1)\n",
    "var_drift   <-  FALSE\n",
    "var_constant   <-  FALSE"
   ]
  },
  {
   "cell_type": "code",
   "execution_count": 40,
   "metadata": {},
   "outputs": [
    {
     "name": "stderr",
     "output_type": "stream",
     "text": [
      "Loading required package: svMisc\n",
      "\n",
      "Attaching package: ‘svMisc’\n",
      "\n",
      "The following object is masked from ‘package:utils’:\n",
      "\n",
      "    ?\n",
      "\n"
     ]
    }
   ],
   "source": [
    "require(svMisc)"
   ]
  },
  {
   "cell_type": "code",
   "execution_count": 41,
   "metadata": {},
   "outputs": [
    {
     "name": "stdout",
     "output_type": "stream",
     "text": [
      "          0%---------25%---------50%---------75%--------100%\n",
      "Progress: ||"
     ]
    }
   ],
   "source": [
    "l <- ac <- m_top  <- l_test  <-  list()\n",
    "\n",
    "k  <- 0\n",
    "err_list  <- c()\n",
    "for (i in 0:(var_iter*var_allornot - var_shift)){\n",
    "    k  <-  k+1\n",
    "    st_year  <-  var_start_year + i/var_allornot\n",
    "    train_start  <- st_year \n",
    "    train_end  <- st_year + 1/var_freq*(var_window)\n",
    "    test_start  <- st_year + 1/var_freq*(var_window+1) \n",
    "    test_end  <-  st_year + 1/var_freq*(var_window+var_h)\n",
    "    \n",
    "#     print(c(train_start, train_end, test_start, test_end))\n",
    "    \n",
    "    if (i == 0){\n",
    "        train <- window(gdp_agg, end=train_end)}\n",
    "    else{\n",
    "#         if ((var_shift == 0) & (i == var_iter*var_allornot - var_shift)){\n",
    "#             train <- window(gdp_agg, start=train_start-var_topup/var_freq, end=train_end-var_topup/var_freq)\n",
    "#         }else{\n",
    "            train <- window(gdp_agg, start=train_start, end=train_end)\n",
    "#     }\n",
    "}\n",
    "    \n",
    "#     if ((var_shift == 0) & (i == var_iter*var_allornot - var_shift)){\n",
    "#         test <- window(gdp_agg, start=test_start-var_topup/var_freq)\n",
    "#     }else{    \n",
    "        test <- window(gdp_agg, start=test_start, end=test_end)\n",
    "        \n",
    "#     }\n",
    "    \n",
    "#     m_top[[k]]  <- Arima(train, order=var_arpdq, seasonal=var_sarpdq, include.drift = var_drift, include.mean = var_constant, \n",
    "#                          method = \"ML\" )\n",
    "    \n",
    "#     model  <-  \n",
    "    m_top[[k]]  <- auto.arima(msts(train, seasonal.periods = var_freq), \n",
    "    stationary = FALSE, seasonal = TRUE, lambda=NULL)\n",
    "    \n",
    "    \n",
    "#     print(test)\n",
    "#     print(gdp_arima)\n",
    "    l[[k]]  <-   forecast(m_top[[k]], h = var_h  )\n",
    "                \n",
    "#     if (model[[2]]!=0){\n",
    "#         err_list <-  c(err_list,model[[2]])\n",
    "#     }              \n",
    "                \n",
    "                \n",
    "    l_test[[i+1]]  <-   test\n",
    "    \n",
    "    ac[[i+1]]  <-  accuracy(l[[k]], test)\n",
    "                \n",
    "    progress(i, progress.bar = TRUE)\n",
    "    \n",
    "    \n",
    "                \n",
    "    }"
   ]
  },
  {
   "cell_type": "code",
   "execution_count": 42,
   "metadata": {},
   "outputs": [
    {
     "data": {
      "text/html": [
       "<table>\n",
       "<thead><tr><th scope=col>ME</th><th scope=col>RMSE</th><th scope=col>MAPE</th></tr></thead>\n",
       "<tbody>\n",
       "\t<tr><td> -7777.291</td><td>11318.285 </td><td>473.07468 </td></tr>\n",
       "\t<tr><td>-10828.735</td><td>12476.548 </td><td>279.26949 </td></tr>\n",
       "\t<tr><td>-13603.785</td><td>15258.920 </td><td>262.02839 </td></tr>\n",
       "\t<tr><td>-19650.070</td><td>21963.678 </td><td>355.18422 </td></tr>\n",
       "\t<tr><td> -5898.858</td><td> 8723.284 </td><td> 93.10306 </td></tr>\n",
       "</tbody>\n",
       "</table>\n"
      ],
      "text/latex": [
       "\\begin{tabular}{r|lll}\n",
       " ME & RMSE & MAPE\\\\\n",
       "\\hline\n",
       "\t  -7777.291 & 11318.285  & 473.07468 \\\\\n",
       "\t -10828.735 & 12476.548  & 279.26949 \\\\\n",
       "\t -13603.785 & 15258.920  & 262.02839 \\\\\n",
       "\t -19650.070 & 21963.678  & 355.18422 \\\\\n",
       "\t  -5898.858 &  8723.284  &  93.10306 \\\\\n",
       "\\end{tabular}\n"
      ],
      "text/markdown": [
       "\n",
       "ME | RMSE | MAPE | \n",
       "|---|---|---|---|---|\n",
       "|  -7777.291 | 11318.285  | 473.07468  | \n",
       "| -10828.735 | 12476.548  | 279.26949  | \n",
       "| -13603.785 | 15258.920  | 262.02839  | \n",
       "| -19650.070 | 21963.678  | 355.18422  | \n",
       "|  -5898.858 |  8723.284  |  93.10306  | \n",
       "\n",
       "\n"
      ],
      "text/plain": [
       "  ME         RMSE      MAPE     \n",
       "1  -7777.291 11318.285 473.07468\n",
       "2 -10828.735 12476.548 279.26949\n",
       "3 -13603.785 15258.920 262.02839\n",
       "4 -19650.070 21963.678 355.18422\n",
       "5  -5898.858  8723.284  93.10306"
      ]
     },
     "metadata": {},
     "output_type": "display_data"
    }
   ],
   "source": [
    "var_acc_metrics  <-  c(1,2,5)\n",
    "df_acc_test  <- ac[[1]][2, var_acc_metrics]\n",
    "for (i in ac[2:length(ac)]){\n",
    "    x  <-  i[2, var_acc_metrics]\n",
    "    df_acc_test   <-  cbind(df_acc_test, x)\n",
    "}\n",
    "df_acc_test  <- t(df_acc_test)\n",
    "df_acc_test  <-  as.data.frame(df_acc_test)\n",
    "row.names(df_acc_test)  <-  seq(1,length(ac))\n",
    "df_acc_test"
   ]
  },
  {
   "cell_type": "code",
   "execution_count": 43,
   "metadata": {},
   "outputs": [
    {
     "data": {
      "text/html": [
       "<dl class=dl-horizontal>\n",
       "\t<dt>ME</dt>\n",
       "\t\t<dd>-11551.7476895416</dd>\n",
       "\t<dt>RMSE</dt>\n",
       "\t\t<dd>13948.1431232389</dd>\n",
       "\t<dt>MAPE</dt>\n",
       "\t\t<dd>292.531967477223</dd>\n",
       "</dl>\n"
      ],
      "text/latex": [
       "\\begin{description*}\n",
       "\\item[ME] -11551.7476895416\n",
       "\\item[RMSE] 13948.1431232389\n",
       "\\item[MAPE] 292.531967477223\n",
       "\\end{description*}\n"
      ],
      "text/markdown": [
       "ME\n",
       ":   -11551.7476895416RMSE\n",
       ":   13948.1431232389MAPE\n",
       ":   292.531967477223\n",
       "\n"
      ],
      "text/plain": [
       "        ME       RMSE       MAPE \n",
       "-11551.748  13948.143    292.532 "
      ]
     },
     "metadata": {},
     "output_type": "display_data"
    }
   ],
   "source": [
    "colMeans(df_acc_test)"
   ]
  },
  {
   "cell_type": "code",
   "execution_count": 44,
   "metadata": {},
   "outputs": [
    {
     "data": {
      "text/plain": [
       "NULL"
      ]
     },
     "metadata": {},
     "output_type": "display_data"
    }
   ],
   "source": [
    "err_list"
   ]
  },
  {
   "cell_type": "code",
   "execution_count": 45,
   "metadata": {},
   "outputs": [
    {
     "data": {},
     "metadata": {},
     "output_type": "display_data"
    },
    {
     "data": {
      "image/png": "[encoded data removed]",
      "text/plain": [
       "plot without title"
      ]
     },
     "metadata": {},
     "output_type": "display_data"
    }
   ],
   "source": [
    "plot_forecasts  <-  autoplot(window(gdp_agg, start=2010))+\n",
    "    xlab(\"Время\") + ylab('ЕП') +\n",
    "    ggtitle(\"AR(11)SAR(2) с линейным трендом\") +\n",
    "    guides(colour=guide_legend(title=\" \")) +\n",
    "    theme(aspect.ratio = 0.75)\n",
    "\n",
    "for (i in 1:length(l)){\n",
    "    plot_forecasts  <-  plot_forecasts  +\n",
    "    autolayer(l[[i]], series=paste(\"Итерация\" , i, sep=\" \") ,   PI=FALSE) \n",
    "    \n",
    "}\n",
    "\n",
    "plot_forecasts\n"
   ]
  },
  {
   "cell_type": "code",
   "execution_count": 46,
   "metadata": {},
   "outputs": [
    {
     "data": {
      "text/html": [
       "<table>\n",
       "<thead><tr><th></th><th scope=col>Квартальные</th><th scope=col>Сезонно сглаженные</th><th scope=col>Месячные</th></tr></thead>\n",
       "<tbody>\n",
       "\t<tr><th scope=row>1 level</th><td>69.40237</td><td>323.9779</td><td>12825.6 </td></tr>\n",
       "\t<tr><th scope=row>2</th><td>      NA</td><td>      NA</td><td>     NA </td></tr>\n",
       "\t<tr><th scope=row>3</th><td>      NA</td><td>      NA</td><td>     NA </td></tr>\n",
       "\t<tr><th scope=row>4</th><td>      NA</td><td>      NA</td><td>     NA </td></tr>\n",
       "\t<tr><th scope=row>5</th><td>      NA</td><td>      NA</td><td>     NA </td></tr>\n",
       "</tbody>\n",
       "</table>\n"
      ],
      "text/latex": [
       "\\begin{tabular}{r|lll}\n",
       "  & Квартальные & Сезонно сглаженные & Месячные\\\\\n",
       "\\hline\n",
       "\t1 level & 69.40237 & 323.9779 & 12825.6 \\\\\n",
       "\t2 &       NA &       NA &      NA \\\\\n",
       "\t3 &       NA &       NA &      NA \\\\\n",
       "\t4 &       NA &       NA &      NA \\\\\n",
       "\t5 &       NA &       NA &      NA \\\\\n",
       "\\end{tabular}\n"
      ],
      "text/markdown": [
       "\n",
       "| <!--/--> | Квартальные | Сезонно сглаженные | Месячные | \n",
       "|---|---|---|---|---|\n",
       "| 1 level | 69.40237 | 323.9779 | 12825.6  | \n",
       "| 2 |       NA |       NA |      NA  | \n",
       "| 3 |       NA |       NA |      NA  | \n",
       "| 4 |       NA |       NA |      NA  | \n",
       "| 5 |       NA |       NA |      NA  | \n",
       "\n",
       "\n"
      ],
      "text/plain": [
       "        Квартальные Сезонно сглаженные Месячные\n",
       "1 level 69.40237    323.9779           12825.6 \n",
       "2             NA          NA                NA \n",
       "3             NA          NA                NA \n",
       "4             NA          NA                NA \n",
       "5             NA          NA                NA "
      ]
     },
     "metadata": {},
     "output_type": "display_data"
    }
   ],
   "source": [
    "df_mean_acc"
   ]
  },
  {
   "cell_type": "code",
   "execution_count": 47,
   "metadata": {},
   "outputs": [
    {
     "data": {
      "text/html": [
       "<table>\n",
       "<thead><tr><th></th><th scope=col>Квартальные</th><th scope=col>Сезонно сглаженные</th><th scope=col>Месячные</th></tr></thead>\n",
       "<tbody>\n",
       "\t<tr><th scope=row>1 level</th><td>69.40237</td><td>323.9779</td><td>13948.14</td></tr>\n",
       "\t<tr><th scope=row>2</th><td>      NA</td><td>      NA</td><td>      NA</td></tr>\n",
       "\t<tr><th scope=row>3</th><td>      NA</td><td>      NA</td><td>      NA</td></tr>\n",
       "\t<tr><th scope=row>4</th><td>      NA</td><td>      NA</td><td>      NA</td></tr>\n",
       "\t<tr><th scope=row>5</th><td>      NA</td><td>      NA</td><td>      NA</td></tr>\n",
       "</tbody>\n",
       "</table>\n"
      ],
      "text/latex": [
       "\\begin{tabular}{r|lll}\n",
       "  & Квартальные & Сезонно сглаженные & Месячные\\\\\n",
       "\\hline\n",
       "\t1 level & 69.40237 & 323.9779 & 13948.14\\\\\n",
       "\t2 &       NA &       NA &       NA\\\\\n",
       "\t3 &       NA &       NA &       NA\\\\\n",
       "\t4 &       NA &       NA &       NA\\\\\n",
       "\t5 &       NA &       NA &       NA\\\\\n",
       "\\end{tabular}\n"
      ],
      "text/markdown": [
       "\n",
       "| <!--/--> | Квартальные | Сезонно сглаженные | Месячные | \n",
       "|---|---|---|---|---|\n",
       "| 1 level | 69.40237 | 323.9779 | 13948.14 | \n",
       "| 2 |       NA |       NA |       NA | \n",
       "| 3 |       NA |       NA |       NA | \n",
       "| 4 |       NA |       NA |       NA | \n",
       "| 5 |       NA |       NA |       NA | \n",
       "\n",
       "\n"
      ],
      "text/plain": [
       "        Квартальные Сезонно сглаженные Месячные\n",
       "1 level 69.40237    323.9779           13948.14\n",
       "2             NA          NA                 NA\n",
       "3             NA          NA                 NA\n",
       "4             NA          NA                 NA\n",
       "5             NA          NA                 NA"
      ]
     },
     "metadata": {},
     "output_type": "display_data"
    }
   ],
   "source": [
    "df_mean_acc[1,3]  <- colMeans(df_acc_test)[[2]]\n",
    "df_mean_acc"
   ]
  },
  {
   "cell_type": "code",
   "execution_count": 48,
   "metadata": {},
   "outputs": [],
   "source": [
    "save_plots[[5]]  <-  plot_forecasts"
   ]
  },
  {
   "cell_type": "code",
   "execution_count": 49,
   "metadata": {},
   "outputs": [],
   "source": [
    "var_allornot  <- var_freq\n",
    "# var_allornot  <- 1\n",
    "var_shift  <-  var_topup\n",
    "# var_shift  <-  0"
   ]
  },
  {
   "cell_type": "code",
   "execution_count": null,
   "metadata": {},
   "outputs": [],
   "source": []
  },
  {
   "cell_type": "code",
   "execution_count": 50,
   "metadata": {},
   "outputs": [
    {
     "data": {
      "text/html": [
       "<table>\n",
       "<thead><tr><th></th><th scope=col>Квартальные</th><th scope=col>Сезонно сглаженные</th><th scope=col>Месячные</th></tr></thead>\n",
       "<tbody>\n",
       "\t<tr><th scope=row>1 level</th><td>69.40237</td><td>323.9779</td><td>13948.14</td></tr>\n",
       "\t<tr><th scope=row>2</th><td>      NA</td><td>      NA</td><td>      NA</td></tr>\n",
       "\t<tr><th scope=row>3</th><td>      NA</td><td>      NA</td><td>      NA</td></tr>\n",
       "\t<tr><th scope=row>4</th><td>      NA</td><td>      NA</td><td>      NA</td></tr>\n",
       "\t<tr><th scope=row>5</th><td>      NA</td><td>      NA</td><td>      NA</td></tr>\n",
       "</tbody>\n",
       "</table>\n"
      ],
      "text/latex": [
       "\\begin{tabular}{r|lll}\n",
       "  & Квартальные & Сезонно сглаженные & Месячные\\\\\n",
       "\\hline\n",
       "\t1 level & 69.40237 & 323.9779 & 13948.14\\\\\n",
       "\t2 &       NA &       NA &       NA\\\\\n",
       "\t3 &       NA &       NA &       NA\\\\\n",
       "\t4 &       NA &       NA &       NA\\\\\n",
       "\t5 &       NA &       NA &       NA\\\\\n",
       "\\end{tabular}\n"
      ],
      "text/markdown": [
       "\n",
       "| <!--/--> | Квартальные | Сезонно сглаженные | Месячные | \n",
       "|---|---|---|---|---|\n",
       "| 1 level | 69.40237 | 323.9779 | 13948.14 | \n",
       "| 2 |       NA |       NA |       NA | \n",
       "| 3 |       NA |       NA |       NA | \n",
       "| 4 |       NA |       NA |       NA | \n",
       "| 5 |       NA |       NA |       NA | \n",
       "\n",
       "\n"
      ],
      "text/plain": [
       "        Квартальные Сезонно сглаженные Месячные\n",
       "1 level 69.40237    323.9779           13948.14\n",
       "2             NA          NA                 NA\n",
       "3             NA          NA                 NA\n",
       "4             NA          NA                 NA\n",
       "5             NA          NA                 NA"
      ]
     },
     "metadata": {},
     "output_type": "display_data"
    }
   ],
   "source": [
    "df_mean_acc"
   ]
  },
  {
   "cell_type": "code",
   "execution_count": 51,
   "metadata": {},
   "outputs": [],
   "source": [
    "saveRDS(df_mean_acc, \"df_mean_acc.rds\")"
   ]
  },
  {
   "cell_type": "code",
   "execution_count": null,
   "metadata": {},
   "outputs": [],
   "source": []
  },
  {
   "cell_type": "code",
   "execution_count": null,
   "metadata": {},
   "outputs": [],
   "source": []
  }
 ],
 "metadata": {
  "kernelspec": {
   "display_name": "R 3.5.1",
   "language": "R",
   "name": "ir"
  },
  "language_info": {
   "codemirror_mode": "r",
   "file_extension": ".r",
   "mimetype": "text/x-r-source",
   "name": "R",
   "pygments_lexer": "r",
   "version": "3.5.2"
  }
 },
 "nbformat": 4,
 "nbformat_minor": 2
}
