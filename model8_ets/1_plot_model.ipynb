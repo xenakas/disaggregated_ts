{
 "cells": [
  {
   "cell_type": "markdown",
   "metadata": {},
   "source": [
    "#### 8"
   ]
  },
  {
   "cell_type": "code",
   "execution_count": 1,
   "metadata": {
    "scrolled": true
   },
   "outputs": [
    {
     "name": "stderr",
     "output_type": "stream",
     "text": [
      "\n",
      "Attaching package: ‘dplyr’\n",
      "\n",
      "The following objects are masked from ‘package:stats’:\n",
      "\n",
      "    filter, lag\n",
      "\n",
      "The following objects are masked from ‘package:base’:\n",
      "\n",
      "    intersect, setdiff, setequal, union\n",
      "\n",
      "\n",
      "Attaching package: ‘gridExtra’\n",
      "\n",
      "The following object is masked from ‘package:dplyr’:\n",
      "\n",
      "    combine\n",
      "\n"
     ]
    }
   ],
   "source": [
    "library(forecast)\n",
    "library(ggplot2)\n",
    "library(dplyr)\n",
    "library(gridExtra)"
   ]
  },
  {
   "cell_type": "code",
   "execution_count": 2,
   "metadata": {},
   "outputs": [
    {
     "name": "stderr",
     "output_type": "stream",
     "text": [
      "Loading required package: foreach\n",
      "Loading required package: iterators\n",
      "Loading required package: parallel\n"
     ]
    }
   ],
   "source": [
    "# library(doParallel)\n",
    "library(doMC)\n",
    "options(cores = 10)\n",
    "registerDoMC()"
   ]
  },
  {
   "cell_type": "markdown",
   "metadata": {},
   "source": [
    "### ЕС"
   ]
  },
  {
   "cell_type": "code",
   "execution_count": 3,
   "metadata": {},
   "outputs": [],
   "source": [
    "df_eu  <-  read.csv(file=\"../data_hts/hts_eu_a10.csv\", header=TRUE, sep=\",\", row.names =1 )\n",
    "df_eu  <-  df_eu/1000\n",
    "var_freq  <- 4    \n",
    "var_start_year  <- 2000   \n",
    "gdp_agg <- df_eu_sums <-  rowSums(df_eu)\n",
    "gdp_agg  <- ts(gdp_agg, frequency = var_freq, start = var_start_year) "
   ]
  },
  {
   "cell_type": "code",
   "execution_count": 4,
   "metadata": {},
   "outputs": [],
   "source": [
    "var_h  <- 8\n",
    "var_window  <-  48 - 1\n",
    "var_topup  <-  1\n",
    "var_iter   <- (length(gdp_agg)+var_topup)/var_freq-(var_window+1)/var_freq-2"
   ]
  },
  {
   "cell_type": "code",
   "execution_count": 5,
   "metadata": {},
   "outputs": [],
   "source": [
    "# var_allornot  <- var_freq\n",
    "var_allornot  <- 1\n",
    "# var_shift  <-  var_topup\n",
    "var_shift  <-  0"
   ]
  },
  {
   "cell_type": "code",
   "execution_count": 6,
   "metadata": {},
   "outputs": [],
   "source": [
    "var_arpdq   <-  c(3,1,1)\n",
    "var_sarpdq   <-  c(2,1,1)\n",
    "var_drift   <-  FALSE\n",
    "var_constant   <-  FALSE\n",
    "var_ets  <- \"MMM\"\n",
    "var_damped  <- FALSE"
   ]
  },
  {
   "cell_type": "code",
   "execution_count": 7,
   "metadata": {},
   "outputs": [
    {
     "name": "stdout",
     "output_type": "stream",
     "text": [
      "[1] 2000.00 2011.75 2012.00 2013.75\n",
      "[1] 2001.00 2012.75 2013.00 2014.75\n",
      "[1] 2002.00 2013.75 2014.00 2015.75\n",
      "[1] 2003.00 2014.75 2015.00 2016.75\n",
      "[1] 2004.00 2015.75 2016.00 2017.75\n",
      "[1] 2005.00 2016.75 2017.00 2018.75\n"
     ]
    }
   ],
   "source": [
    "l <- ac <- m_top  <- l_test  <-  list()\n",
    "\n",
    "k  <- 0\n",
    "\n",
    "for (i in 0:(var_iter*var_allornot - var_shift)){\n",
    "    k  <-  k+1\n",
    "    st_year  <-  var_start_year + i/var_allornot\n",
    "    train_start  <- st_year \n",
    "    train_end  <- st_year + 1/var_freq*(var_window)\n",
    "    test_start  <- st_year + 1/var_freq*(var_window+1) \n",
    "    test_end  <-  st_year + 1/var_freq*(var_window+var_h)\n",
    "    \n",
    "    print(c(train_start, train_end, test_start, test_end))\n",
    "    \n",
    "    if (i == 0){\n",
    "        train <- window(gdp_agg, end=train_end)}\n",
    "    else{\n",
    "        if ((var_shift == 0) & (i == var_iter*var_allornot - var_shift)){\n",
    "            train <- window(gdp_agg, start=train_start-var_topup/var_freq, end=train_end-var_topup/var_freq)\n",
    "        }else{\n",
    "            train <- window(gdp_agg, start=train_start, end=train_end)\n",
    "    }}\n",
    "    \n",
    "    if ((var_shift == 0) & (i == var_iter*var_allornot - var_shift)){\n",
    "        test <- window(gdp_agg, start=test_start-var_topup/var_freq)\n",
    "    }else{    test <- window(gdp_agg, start=test_start, end=test_end)\n",
    "        \n",
    "    }\n",
    "    \n",
    "    m_top[[k]]  <- ets(msts(train, seasonal.periods = var_freq), model=var_ets, damped = var_damped , lambda=NULL)\n",
    "    \n",
    "#     print(test)\n",
    "#     print(gdp_arima)\n",
    "    l[[k]]  <-   forecast(m_top[[k]], h = var_h  )\n",
    "\n",
    "    l_test[[i+1]]  <-   test\n",
    "    \n",
    "    ac[[i+1]]  <-  accuracy(l[[k]], test)\n",
    "\n",
    "    }"
   ]
  },
  {
   "cell_type": "code",
   "execution_count": 8,
   "metadata": {},
   "outputs": [
    {
     "data": {
      "text/html": [
       "<table>\n",
       "<thead><tr><th scope=col>ME</th><th scope=col>RMSE</th><th scope=col>MAPE</th></tr></thead>\n",
       "<tbody>\n",
       "\t<tr><td> 46.841616</td><td> 48.57779 </td><td>1.5407188 </td></tr>\n",
       "\t<tr><td> 30.650911</td><td> 48.51209 </td><td>1.1883556 </td></tr>\n",
       "\t<tr><td> 80.932906</td><td> 95.20377 </td><td>2.4599542 </td></tr>\n",
       "\t<tr><td> 55.150762</td><td> 65.39498 </td><td>1.6992029 </td></tr>\n",
       "\t<tr><td>-97.758125</td><td>103.57339 </td><td>2.8719838 </td></tr>\n",
       "\t<tr><td>  9.759792</td><td> 23.09610 </td><td>0.5302633 </td></tr>\n",
       "</tbody>\n",
       "</table>\n"
      ],
      "text/latex": [
       "\\begin{tabular}{r|lll}\n",
       " ME & RMSE & MAPE\\\\\n",
       "\\hline\n",
       "\t  46.841616 &  48.57779  & 1.5407188 \\\\\n",
       "\t  30.650911 &  48.51209  & 1.1883556 \\\\\n",
       "\t  80.932906 &  95.20377  & 2.4599542 \\\\\n",
       "\t  55.150762 &  65.39498  & 1.6992029 \\\\\n",
       "\t -97.758125 & 103.57339  & 2.8719838 \\\\\n",
       "\t   9.759792 &  23.09610  & 0.5302633 \\\\\n",
       "\\end{tabular}\n"
      ],
      "text/markdown": [
       "\n",
       "ME | RMSE | MAPE | \n",
       "|---|---|---|---|---|---|\n",
       "|  46.841616 |  48.57779  | 1.5407188  | \n",
       "|  30.650911 |  48.51209  | 1.1883556  | \n",
       "|  80.932906 |  95.20377  | 2.4599542  | \n",
       "|  55.150762 |  65.39498  | 1.6992029  | \n",
       "| -97.758125 | 103.57339  | 2.8719838  | \n",
       "|   9.759792 |  23.09610  | 0.5302633  | \n",
       "\n",
       "\n"
      ],
      "text/plain": [
       "  ME         RMSE      MAPE     \n",
       "1  46.841616  48.57779 1.5407188\n",
       "2  30.650911  48.51209 1.1883556\n",
       "3  80.932906  95.20377 2.4599542\n",
       "4  55.150762  65.39498 1.6992029\n",
       "5 -97.758125 103.57339 2.8719838\n",
       "6   9.759792  23.09610 0.5302633"
      ]
     },
     "metadata": {},
     "output_type": "display_data"
    }
   ],
   "source": [
    "var_acc_metrics  <-  c(1,2,5)\n",
    "df_acc_test  <- ac[[1]][2, var_acc_metrics]\n",
    "for (i in ac[2:length(ac)]){\n",
    "    x  <-  i[2, var_acc_metrics]\n",
    "    df_acc_test   <-  cbind(df_acc_test, x)\n",
    "}\n",
    "df_acc_test  <- t(df_acc_test)\n",
    "df_acc_test  <-  as.data.frame(df_acc_test)\n",
    "row.names(df_acc_test)  <-  seq(1,length(ac))\n",
    "df_acc_test"
   ]
  },
  {
   "cell_type": "code",
   "execution_count": 9,
   "metadata": {},
   "outputs": [
    {
     "data": {
      "text/html": [
       "<dl class=dl-horizontal>\n",
       "\t<dt>ME</dt>\n",
       "\t\t<dd>20.9296438087362</dd>\n",
       "\t<dt>RMSE</dt>\n",
       "\t\t<dd>64.0596881628331</dd>\n",
       "\t<dt>MAPE</dt>\n",
       "\t\t<dd>1.71507977052872</dd>\n",
       "</dl>\n"
      ],
      "text/latex": [
       "\\begin{description*}\n",
       "\\item[ME] 20.9296438087362\n",
       "\\item[RMSE] 64.0596881628331\n",
       "\\item[MAPE] 1.71507977052872\n",
       "\\end{description*}\n"
      ],
      "text/markdown": [
       "ME\n",
       ":   20.9296438087362RMSE\n",
       ":   64.0596881628331MAPE\n",
       ":   1.71507977052872\n",
       "\n"
      ],
      "text/plain": [
       "      ME     RMSE     MAPE \n",
       "20.92964 64.05969  1.71508 "
      ]
     },
     "metadata": {},
     "output_type": "display_data"
    }
   ],
   "source": [
    "colMeans(df_acc_test)"
   ]
  },
  {
   "cell_type": "code",
   "execution_count": 10,
   "metadata": {},
   "outputs": [
    {
     "data": {},
     "metadata": {},
     "output_type": "display_data"
    },
    {
     "data": {
      "image/png": "[encoded data removed]",
      "text/plain": [
       "plot without title"
      ]
     },
     "metadata": {},
     "output_type": "display_data"
    }
   ],
   "source": [
    "plot_forecasts  <-  autoplot(window(gdp_agg, start=2010))+\n",
    "    xlab(\"Время\") + ylab('ВВП') +\n",
    "    ggtitle(\"AR(3)SAR(2) с линейным трендом\") +\n",
    "    guides(colour=guide_legend(title=\" \")) +\n",
    "    theme(aspect.ratio = 0.75)\n",
    "\n",
    "for (i in 1:length(l)){\n",
    "    plot_forecasts  <-  plot_forecasts  +\n",
    "    autolayer(l[[i]], series=paste(\"Итерация\" , i, sep=\" \") ,   PI=FALSE) \n",
    "    \n",
    "}\n",
    "\n",
    "plot_forecasts\n"
   ]
  },
  {
   "cell_type": "code",
   "execution_count": 11,
   "metadata": {},
   "outputs": [
    {
     "data": {
      "text/html": [
       "<table>\n",
       "<thead><tr><th></th><th scope=col>Квартальные</th><th scope=col>Сезонно сглаженные</th><th scope=col>Месячные</th></tr></thead>\n",
       "<tbody>\n",
       "\t<tr><th scope=row>1 level</th><td>64.05969</td><td>196.2254</td><td>7949.905</td></tr>\n",
       "\t<tr><th scope=row>2</th><td>      NA</td><td>      NA</td><td>      NA</td></tr>\n",
       "\t<tr><th scope=row>3</th><td>      NA</td><td>      NA</td><td>      NA</td></tr>\n",
       "\t<tr><th scope=row>4</th><td>      NA</td><td>      NA</td><td>      NA</td></tr>\n",
       "\t<tr><th scope=row>5</th><td>      NA</td><td>      NA</td><td>      NA</td></tr>\n",
       "</tbody>\n",
       "</table>\n"
      ],
      "text/latex": [
       "\\begin{tabular}{r|lll}\n",
       "  & Квартальные & Сезонно сглаженные & Месячные\\\\\n",
       "\\hline\n",
       "\t1 level & 64.05969 & 196.2254 & 7949.905\\\\\n",
       "\t2 &       NA &       NA &       NA\\\\\n",
       "\t3 &       NA &       NA &       NA\\\\\n",
       "\t4 &       NA &       NA &       NA\\\\\n",
       "\t5 &       NA &       NA &       NA\\\\\n",
       "\\end{tabular}\n"
      ],
      "text/markdown": [
       "\n",
       "| <!--/--> | Квартальные | Сезонно сглаженные | Месячные | \n",
       "|---|---|---|---|---|\n",
       "| 1 level | 64.05969 | 196.2254 | 7949.905 | \n",
       "| 2 |       NA |       NA |       NA | \n",
       "| 3 |       NA |       NA |       NA | \n",
       "| 4 |       NA |       NA |       NA | \n",
       "| 5 |       NA |       NA |       NA | \n",
       "\n",
       "\n"
      ],
      "text/plain": [
       "        Квартальные Сезонно сглаженные Месячные\n",
       "1 level 64.05969    196.2254           7949.905\n",
       "2             NA          NA                 NA\n",
       "3             NA          NA                 NA\n",
       "4             NA          NA                 NA\n",
       "5             NA          NA                 NA"
      ]
     },
     "metadata": {},
     "output_type": "display_data"
    }
   ],
   "source": [
    "df_mean_acc <- readRDS(\"df_mean_acc.rds\")\n",
    "df_mean_acc"
   ]
  },
  {
   "cell_type": "code",
   "execution_count": 12,
   "metadata": {},
   "outputs": [
    {
     "data": {
      "text/html": [
       "<table>\n",
       "<thead><tr><th></th><th scope=col>Квартальные</th><th scope=col>Сезонно сглаженные</th><th scope=col>Месячные</th></tr></thead>\n",
       "<tbody>\n",
       "\t<tr><th scope=row>1 level</th><td>64.05969</td><td>196.2254</td><td>7949.905</td></tr>\n",
       "\t<tr><th scope=row>2</th><td>      NA</td><td>      NA</td><td>      NA</td></tr>\n",
       "\t<tr><th scope=row>3</th><td>      NA</td><td>      NA</td><td>      NA</td></tr>\n",
       "\t<tr><th scope=row>4</th><td>      NA</td><td>      NA</td><td>      NA</td></tr>\n",
       "\t<tr><th scope=row>5</th><td>      NA</td><td>      NA</td><td>      NA</td></tr>\n",
       "</tbody>\n",
       "</table>\n"
      ],
      "text/latex": [
       "\\begin{tabular}{r|lll}\n",
       "  & Квартальные & Сезонно сглаженные & Месячные\\\\\n",
       "\\hline\n",
       "\t1 level & 64.05969 & 196.2254 & 7949.905\\\\\n",
       "\t2 &       NA &       NA &       NA\\\\\n",
       "\t3 &       NA &       NA &       NA\\\\\n",
       "\t4 &       NA &       NA &       NA\\\\\n",
       "\t5 &       NA &       NA &       NA\\\\\n",
       "\\end{tabular}\n"
      ],
      "text/markdown": [
       "\n",
       "| <!--/--> | Квартальные | Сезонно сглаженные | Месячные | \n",
       "|---|---|---|---|---|\n",
       "| 1 level | 64.05969 | 196.2254 | 7949.905 | \n",
       "| 2 |       NA |       NA |       NA | \n",
       "| 3 |       NA |       NA |       NA | \n",
       "| 4 |       NA |       NA |       NA | \n",
       "| 5 |       NA |       NA |       NA | \n",
       "\n",
       "\n"
      ],
      "text/plain": [
       "        Квартальные Сезонно сглаженные Месячные\n",
       "1 level 64.05969    196.2254           7949.905\n",
       "2             NA          NA                 NA\n",
       "3             NA          NA                 NA\n",
       "4             NA          NA                 NA\n",
       "5             NA          NA                 NA"
      ]
     },
     "metadata": {},
     "output_type": "display_data"
    }
   ],
   "source": [
    "df_mean_acc[1,1]  <-  colMeans(df_acc_test)[[2]]\n",
    "df_mean_acc"
   ]
  },
  {
   "cell_type": "code",
   "execution_count": 13,
   "metadata": {},
   "outputs": [],
   "source": [
    "save_plots  <- list()"
   ]
  },
  {
   "cell_type": "code",
   "execution_count": 14,
   "metadata": {},
   "outputs": [],
   "source": [
    "save_plots[[1]]  <-  plot_forecasts"
   ]
  },
  {
   "cell_type": "code",
   "execution_count": 15,
   "metadata": {},
   "outputs": [],
   "source": [
    "df_acc  <-  df_acc_test"
   ]
  },
  {
   "cell_type": "code",
   "execution_count": 16,
   "metadata": {},
   "outputs": [],
   "source": [
    "colnames(df_acc)  <-  colnames(ac[[1]])[var_acc_metrics] \n",
    "df_acc  <-  cbind(df_acc, seq(1, length(ac)))\n",
    "colnames(df_acc)[length(var_acc_metrics)+1]  <-  'Iteration'"
   ]
  },
  {
   "cell_type": "code",
   "execution_count": 17,
   "metadata": {},
   "outputs": [],
   "source": [
    "df_acc$Iteration  <-  df_acc$Iteration*var_freq-(var_freq-1)\n",
    "df_acc$Iteration[length(df_acc$Iteration)]  <-   df_acc$Iteration[length(df_acc$Iteration)] - var_topup"
   ]
  },
  {
   "cell_type": "code",
   "execution_count": 18,
   "metadata": {},
   "outputs": [
    {
     "data": {
      "text/html": [
       "<table>\n",
       "<thead><tr><th scope=col>ME</th><th scope=col>RMSE</th><th scope=col>MAPE</th><th scope=col>Iteration</th></tr></thead>\n",
       "<tbody>\n",
       "\t<tr><td> 46.841616</td><td> 48.57779 </td><td>1.5407188 </td><td> 1        </td></tr>\n",
       "\t<tr><td> 30.650911</td><td> 48.51209 </td><td>1.1883556 </td><td> 5        </td></tr>\n",
       "\t<tr><td> 80.932906</td><td> 95.20377 </td><td>2.4599542 </td><td> 9        </td></tr>\n",
       "\t<tr><td> 55.150762</td><td> 65.39498 </td><td>1.6992029 </td><td>13        </td></tr>\n",
       "\t<tr><td>-97.758125</td><td>103.57339 </td><td>2.8719838 </td><td>17        </td></tr>\n",
       "\t<tr><td>  9.759792</td><td> 23.09610 </td><td>0.5302633 </td><td>20        </td></tr>\n",
       "</tbody>\n",
       "</table>\n"
      ],
      "text/latex": [
       "\\begin{tabular}{r|llll}\n",
       " ME & RMSE & MAPE & Iteration\\\\\n",
       "\\hline\n",
       "\t  46.841616 &  48.57779  & 1.5407188  &  1        \\\\\n",
       "\t  30.650911 &  48.51209  & 1.1883556  &  5        \\\\\n",
       "\t  80.932906 &  95.20377  & 2.4599542  &  9        \\\\\n",
       "\t  55.150762 &  65.39498  & 1.6992029  & 13        \\\\\n",
       "\t -97.758125 & 103.57339  & 2.8719838  & 17        \\\\\n",
       "\t   9.759792 &  23.09610  & 0.5302633  & 20        \\\\\n",
       "\\end{tabular}\n"
      ],
      "text/markdown": [
       "\n",
       "ME | RMSE | MAPE | Iteration | \n",
       "|---|---|---|---|---|---|\n",
       "|  46.841616 |  48.57779  | 1.5407188  |  1         | \n",
       "|  30.650911 |  48.51209  | 1.1883556  |  5         | \n",
       "|  80.932906 |  95.20377  | 2.4599542  |  9         | \n",
       "|  55.150762 |  65.39498  | 1.6992029  | 13         | \n",
       "| -97.758125 | 103.57339  | 2.8719838  | 17         | \n",
       "|   9.759792 |  23.09610  | 0.5302633  | 20         | \n",
       "\n",
       "\n"
      ],
      "text/plain": [
       "  ME         RMSE      MAPE      Iteration\n",
       "1  46.841616  48.57779 1.5407188  1       \n",
       "2  30.650911  48.51209 1.1883556  5       \n",
       "3  80.932906  95.20377 2.4599542  9       \n",
       "4  55.150762  65.39498 1.6992029 13       \n",
       "5 -97.758125 103.57339 2.8719838 17       \n",
       "6   9.759792  23.09610 0.5302633 20       "
      ]
     },
     "metadata": {},
     "output_type": "display_data"
    }
   ],
   "source": [
    "df_acc"
   ]
  },
  {
   "cell_type": "code",
   "execution_count": 19,
   "metadata": {},
   "outputs": [],
   "source": [
    "var_allornot  <- var_freq\n",
    "# var_allornot  <- 1\n",
    "var_shift  <-  var_topup\n",
    "# var_shift  <-  0"
   ]
  },
  {
   "cell_type": "markdown",
   "metadata": {},
   "source": [
    "### США"
   ]
  },
  {
   "cell_type": "code",
   "execution_count": 20,
   "metadata": {},
   "outputs": [],
   "source": [
    "df_eu  <-  read.csv(file=\"../data_hts/hts_us_ind_filled.csv\", header=TRUE, sep=\",\", row.names =1 )\n",
    "df_eu  <-  df_eu/1000\n",
    "var_freq  <- 4    \n",
    "var_start_year  <- 2005   \n",
    "gdp_agg <- df_eu_sums <-  rowSums(df_eu)\n",
    "gdp_agg  <- ts(gdp_agg, frequency = var_freq, start = var_start_year) "
   ]
  },
  {
   "cell_type": "code",
   "execution_count": 21,
   "metadata": {},
   "outputs": [],
   "source": [
    "var_h  <- 8\n",
    "var_window  <-  28 - 1\n",
    "var_topup  <-  2\n",
    "var_iter   <- (length(gdp_agg)+var_topup)/var_freq-(var_window+1)/var_freq-2"
   ]
  },
  {
   "cell_type": "code",
   "execution_count": 22,
   "metadata": {},
   "outputs": [],
   "source": [
    "# var_allornot  <- var_freq\n",
    "var_allornot  <- 1\n",
    "# var_shift  <-  var_topup\n",
    "var_shift  <-  0\n",
    "\n",
    "var_arpdq   <-  c(4,1,1)\n",
    "var_sarpdq   <-  c(0,0,0)\n",
    "var_drift   <-  FALSE\n",
    "var_constant   <-  FALSE\n",
    "var_ets  <- \"AAA\"\n",
    "var_damped  <- FALSE"
   ]
  },
  {
   "cell_type": "code",
   "execution_count": 23,
   "metadata": {},
   "outputs": [
    {
     "name": "stdout",
     "output_type": "stream",
     "text": [
      "[1] 2005.00 2011.75 2012.00 2013.75\n",
      "[1] 2006.00 2012.75 2013.00 2014.75\n",
      "[1] 2007.00 2013.75 2014.00 2015.75\n",
      "[1] 2008.00 2014.75 2015.00 2016.75\n",
      "[1] 2009.00 2015.75 2016.00 2017.75\n",
      "[1] 2010.00 2016.75 2017.00 2018.75\n"
     ]
    }
   ],
   "source": [
    "l <- ac <- m_top  <- l_test  <-  list()\n",
    "\n",
    "k  <- 0\n",
    "\n",
    "for (i in 0:(var_iter*var_allornot - var_shift)){\n",
    "    k  <-  k+1\n",
    "    st_year  <-  var_start_year + i/var_allornot\n",
    "    train_start  <- st_year \n",
    "    train_end  <- st_year + 1/var_freq*(var_window)\n",
    "    test_start  <- st_year + 1/var_freq*(var_window+1) \n",
    "    test_end  <-  st_year + 1/var_freq*(var_window+var_h)\n",
    "    \n",
    "    print(c(train_start, train_end, test_start, test_end))\n",
    "    \n",
    "    if (i == 0){\n",
    "        train <- window(gdp_agg, end=train_end)}\n",
    "    else{\n",
    "        if ((var_shift == 0) & (i == var_iter*var_allornot - var_shift)){\n",
    "            train <- window(gdp_agg, start=train_start-var_topup/var_freq, end=train_end-var_topup/var_freq)\n",
    "        }else{\n",
    "            train <- window(gdp_agg, start=train_start, end=train_end)\n",
    "    }}\n",
    "    \n",
    "    if ((var_shift == 0) & (i == var_iter*var_allornot - var_shift)){\n",
    "        test <- window(gdp_agg, start=test_start-var_topup/var_freq)\n",
    "    }else{    test <- window(gdp_agg, start=test_start, end=test_end)\n",
    "        \n",
    "    }\n",
    "    \n",
    "    m_top[[k]]  <- ets(msts(train, seasonal.periods = var_freq), model=var_ets, damped = var_damped , lambda=NULL)\n",
    "    \n",
    "#     print(test)\n",
    "#     print(gdp_arima)\n",
    "    l[[k]]  <-   forecast(m_top[[k]], h = var_h  )\n",
    "\n",
    "    l_test[[i+1]]  <-   test\n",
    "    \n",
    "    ac[[i+1]]  <-  accuracy(l[[k]], test)\n",
    "    \n",
    "    }"
   ]
  },
  {
   "cell_type": "code",
   "execution_count": 24,
   "metadata": {},
   "outputs": [
    {
     "data": {
      "text/html": [
       "<table>\n",
       "<thead><tr><th scope=col>ME</th><th scope=col>RMSE</th><th scope=col>MAPE</th></tr></thead>\n",
       "<tbody>\n",
       "\t<tr><td>-171.378221</td><td>204.74858  </td><td>1.1334925  </td></tr>\n",
       "\t<tr><td> 397.558555</td><td>451.84799  </td><td>2.4042492  </td></tr>\n",
       "\t<tr><td> 295.110209</td><td>339.35054  </td><td>1.7931152  </td></tr>\n",
       "\t<tr><td>   9.823831</td><td> 75.32809  </td><td>0.3863138  </td></tr>\n",
       "\t<tr><td>   2.554741</td><td> 34.68036  </td><td>0.1659363  </td></tr>\n",
       "\t<tr><td>  35.146436</td><td> 71.39675  </td><td>0.3020453  </td></tr>\n",
       "</tbody>\n",
       "</table>\n"
      ],
      "text/latex": [
       "\\begin{tabular}{r|lll}\n",
       " ME & RMSE & MAPE\\\\\n",
       "\\hline\n",
       "\t -171.378221 & 204.74858   & 1.1334925  \\\\\n",
       "\t  397.558555 & 451.84799   & 2.4042492  \\\\\n",
       "\t  295.110209 & 339.35054   & 1.7931152  \\\\\n",
       "\t    9.823831 &  75.32809   & 0.3863138  \\\\\n",
       "\t    2.554741 &  34.68036   & 0.1659363  \\\\\n",
       "\t   35.146436 &  71.39675   & 0.3020453  \\\\\n",
       "\\end{tabular}\n"
      ],
      "text/markdown": [
       "\n",
       "ME | RMSE | MAPE | \n",
       "|---|---|---|---|---|---|\n",
       "| -171.378221 | 204.74858   | 1.1334925   | \n",
       "|  397.558555 | 451.84799   | 2.4042492   | \n",
       "|  295.110209 | 339.35054   | 1.7931152   | \n",
       "|    9.823831 |  75.32809   | 0.3863138   | \n",
       "|    2.554741 |  34.68036   | 0.1659363   | \n",
       "|   35.146436 |  71.39675   | 0.3020453   | \n",
       "\n",
       "\n"
      ],
      "text/plain": [
       "  ME          RMSE      MAPE     \n",
       "1 -171.378221 204.74858 1.1334925\n",
       "2  397.558555 451.84799 2.4042492\n",
       "3  295.110209 339.35054 1.7931152\n",
       "4    9.823831  75.32809 0.3863138\n",
       "5    2.554741  34.68036 0.1659363\n",
       "6   35.146436  71.39675 0.3020453"
      ]
     },
     "metadata": {},
     "output_type": "display_data"
    }
   ],
   "source": [
    "var_acc_metrics  <-  c(1,2,5)\n",
    "df_acc_test  <- ac[[1]][2, var_acc_metrics]\n",
    "for (i in ac[2:length(ac)]){\n",
    "    x  <-  i[2, var_acc_metrics]\n",
    "    df_acc_test   <-  cbind(df_acc_test, x)\n",
    "}\n",
    "df_acc_test  <- t(df_acc_test)\n",
    "df_acc_test  <-  as.data.frame(df_acc_test)\n",
    "row.names(df_acc_test)  <-  seq(1,length(ac))\n",
    "df_acc_test"
   ]
  },
  {
   "cell_type": "code",
   "execution_count": 25,
   "metadata": {},
   "outputs": [
    {
     "data": {
      "text/html": [
       "<dl class=dl-horizontal>\n",
       "\t<dt>ME</dt>\n",
       "\t\t<dd>94.8025919320268</dd>\n",
       "\t<dt>RMSE</dt>\n",
       "\t\t<dd>196.225382651427</dd>\n",
       "\t<dt>MAPE</dt>\n",
       "\t\t<dd>1.03085872885942</dd>\n",
       "</dl>\n"
      ],
      "text/latex": [
       "\\begin{description*}\n",
       "\\item[ME] 94.8025919320268\n",
       "\\item[RMSE] 196.225382651427\n",
       "\\item[MAPE] 1.03085872885942\n",
       "\\end{description*}\n"
      ],
      "text/markdown": [
       "ME\n",
       ":   94.8025919320268RMSE\n",
       ":   196.225382651427MAPE\n",
       ":   1.03085872885942\n",
       "\n"
      ],
      "text/plain": [
       "        ME       RMSE       MAPE \n",
       " 94.802592 196.225383   1.030859 "
      ]
     },
     "metadata": {},
     "output_type": "display_data"
    }
   ],
   "source": [
    "colMeans(df_acc_test)"
   ]
  },
  {
   "cell_type": "code",
   "execution_count": 26,
   "metadata": {},
   "outputs": [
    {
     "data": {},
     "metadata": {},
     "output_type": "display_data"
    },
    {
     "data": {
      "image/png": "[encoded data removed]",
      "text/plain": [
       "plot without title"
      ]
     },
     "metadata": {},
     "output_type": "display_data"
    }
   ],
   "source": [
    "plot_forecasts  <-  autoplot(window(gdp_agg, start=2010))+\n",
    "    xlab(\"Время\") + ylab('ВВП') +\n",
    "    ggtitle(\"AR(4)\") +\n",
    "    guides(colour=guide_legend(title=\" \")) +\n",
    "    theme(aspect.ratio = 0.75)\n",
    "\n",
    "for (i in 1:length(l)){\n",
    "    plot_forecasts  <-  plot_forecasts  +\n",
    "    autolayer(l[[i]], series=paste(\"Итерация\" , i, sep=\" \") ,   PI=FALSE) \n",
    "    \n",
    "}\n",
    "\n",
    "plot_forecasts\n"
   ]
  },
  {
   "cell_type": "code",
   "execution_count": 27,
   "metadata": {},
   "outputs": [
    {
     "data": {
      "text/html": [
       "<table>\n",
       "<thead><tr><th></th><th scope=col>Квартальные</th><th scope=col>Сезонно сглаженные</th><th scope=col>Месячные</th></tr></thead>\n",
       "<tbody>\n",
       "\t<tr><th scope=row>1 level</th><td>64.05969</td><td>196.2254</td><td>7949.905</td></tr>\n",
       "\t<tr><th scope=row>2</th><td>      NA</td><td>      NA</td><td>      NA</td></tr>\n",
       "\t<tr><th scope=row>3</th><td>      NA</td><td>      NA</td><td>      NA</td></tr>\n",
       "\t<tr><th scope=row>4</th><td>      NA</td><td>      NA</td><td>      NA</td></tr>\n",
       "\t<tr><th scope=row>5</th><td>      NA</td><td>      NA</td><td>      NA</td></tr>\n",
       "</tbody>\n",
       "</table>\n"
      ],
      "text/latex": [
       "\\begin{tabular}{r|lll}\n",
       "  & Квартальные & Сезонно сглаженные & Месячные\\\\\n",
       "\\hline\n",
       "\t1 level & 64.05969 & 196.2254 & 7949.905\\\\\n",
       "\t2 &       NA &       NA &       NA\\\\\n",
       "\t3 &       NA &       NA &       NA\\\\\n",
       "\t4 &       NA &       NA &       NA\\\\\n",
       "\t5 &       NA &       NA &       NA\\\\\n",
       "\\end{tabular}\n"
      ],
      "text/markdown": [
       "\n",
       "| <!--/--> | Квартальные | Сезонно сглаженные | Месячные | \n",
       "|---|---|---|---|---|\n",
       "| 1 level | 64.05969 | 196.2254 | 7949.905 | \n",
       "| 2 |       NA |       NA |       NA | \n",
       "| 3 |       NA |       NA |       NA | \n",
       "| 4 |       NA |       NA |       NA | \n",
       "| 5 |       NA |       NA |       NA | \n",
       "\n",
       "\n"
      ],
      "text/plain": [
       "        Квартальные Сезонно сглаженные Месячные\n",
       "1 level 64.05969    196.2254           7949.905\n",
       "2             NA          NA                 NA\n",
       "3             NA          NA                 NA\n",
       "4             NA          NA                 NA\n",
       "5             NA          NA                 NA"
      ]
     },
     "metadata": {},
     "output_type": "display_data"
    }
   ],
   "source": [
    "df_mean_acc[1,2]  <- colMeans(df_acc_test)[[2]]\n",
    "df_mean_acc"
   ]
  },
  {
   "cell_type": "code",
   "execution_count": 28,
   "metadata": {},
   "outputs": [],
   "source": [
    "save_plots[[3]]  <-  plot_forecasts"
   ]
  },
  {
   "cell_type": "code",
   "execution_count": null,
   "metadata": {},
   "outputs": [],
   "source": []
  },
  {
   "cell_type": "code",
   "execution_count": 29,
   "metadata": {},
   "outputs": [],
   "source": [
    "var_allornot  <- var_freq\n",
    "# var_allornot  <- 1\n",
    "var_shift  <-  var_topup\n",
    "# var_shift  <-  0"
   ]
  },
  {
   "cell_type": "markdown",
   "metadata": {},
   "source": [
    "### РФ"
   ]
  },
  {
   "cell_type": "code",
   "execution_count": 30,
   "metadata": {},
   "outputs": [],
   "source": [
    "df_eu  <-  read.csv(file=\"../data_hts/hts_rus_summed.csv\", header=TRUE, sep=\",\", row.names =1 )\n",
    "# df_eu  <-  df_eu/1000\n",
    "var_freq  <- 12    \n",
    "var_start_year  <- 2006   \n",
    "gdp_agg <- df_eu_sums <-  rowSums(df_eu)\n",
    "gdp_agg  <- ts(gdp_agg, frequency = var_freq, start = var_start_year) "
   ]
  },
  {
   "cell_type": "code",
   "execution_count": 31,
   "metadata": {},
   "outputs": [],
   "source": [
    "var_h  <- 24\n",
    "var_window  <-  84 - 1\n",
    "var_topup  <-  -1\n",
    "var_iter   <- (length(gdp_agg)+var_topup)/var_freq-(var_window+1)/var_freq-2"
   ]
  },
  {
   "cell_type": "code",
   "execution_count": 32,
   "metadata": {},
   "outputs": [],
   "source": [
    "# var_allornot  <- var_freq\n",
    "var_allornot  <- 1\n",
    "# var_shift  <-  var_topup\n",
    "var_shift  <-  0\n",
    "\n",
    "var_drift   <-  FALSE\n",
    "var_constant   <-  FALSE\n",
    "var_ets  <- \"AAA\"\n",
    "var_damped  <- TRUE\n"
   ]
  },
  {
   "cell_type": "code",
   "execution_count": 33,
   "metadata": {},
   "outputs": [
    {
     "name": "stderr",
     "output_type": "stream",
     "text": [
      "Loading required package: svMisc\n",
      "\n",
      "Attaching package: ‘svMisc’\n",
      "\n",
      "The following object is masked from ‘package:utils’:\n",
      "\n",
      "    ?\n",
      "\n"
     ]
    }
   ],
   "source": [
    "require(svMisc)"
   ]
  },
  {
   "cell_type": "code",
   "execution_count": 34,
   "metadata": {},
   "outputs": [
    {
     "name": "stdout",
     "output_type": "stream",
     "text": [
      "          0%---------25%---------50%---------75%--------100%\n",
      "Progress: ||"
     ]
    }
   ],
   "source": [
    "l <- ac <- m_top  <- l_test  <-  list()\n",
    "\n",
    "k  <- 0\n",
    "err_list  <- c()\n",
    "for (i in 0:(var_iter*var_allornot - var_shift)){\n",
    "    k  <-  k+1\n",
    "    st_year  <-  var_start_year + i/var_allornot\n",
    "    train_start  <- st_year \n",
    "    train_end  <- st_year + 1/var_freq*(var_window)\n",
    "    test_start  <- st_year + 1/var_freq*(var_window+1) \n",
    "    test_end  <-  st_year + 1/var_freq*(var_window+var_h)\n",
    "    \n",
    "#     print(c(train_start, train_end, test_start, test_end))\n",
    "    \n",
    "    if (i == 0){\n",
    "        train <- window(gdp_agg, end=train_end)}\n",
    "    else{\n",
    "#         if ((var_shift == 0) & (i == var_iter*var_allornot - var_shift)){\n",
    "#             train <- window(gdp_agg, start=train_start-var_topup/var_freq, end=train_end-var_topup/var_freq)\n",
    "#         }else{\n",
    "            train <- window(gdp_agg, start=train_start, end=train_end)\n",
    "#     }\n",
    "}\n",
    "    \n",
    "#     if ((var_shift == 0) & (i == var_iter*var_allornot - var_shift)){\n",
    "#         test <- window(gdp_agg, start=test_start-var_topup/var_freq)\n",
    "#     }else{    \n",
    "        test <- window(gdp_agg, start=test_start, end=test_end)\n",
    "        \n",
    "#     }\n",
    "    \n",
    "#     m_top[[k]]  <- Arima(train, order=var_arpdq, seasonal=var_sarpdq, include.drift = var_drift, include.mean = var_constant, \n",
    "#                          method = \"ML\" )\n",
    "    \n",
    "#     model  <-  \n",
    "    m_top[[k]]  <- ets(msts(train, seasonal.periods = var_freq), model=var_ets, damped = var_damped , lambda=NULL)\n",
    "    \n",
    "    \n",
    "#     print(test)\n",
    "#     print(gdp_arima)\n",
    "    l[[k]]  <-   forecast(m_top[[k]], h = var_h  )\n",
    "                \n",
    "#     if (model[[2]]!=0){\n",
    "#         err_list <-  c(err_list,model[[2]])\n",
    "#     }              \n",
    "                \n",
    "                \n",
    "    l_test[[i+1]]  <-   test\n",
    "    \n",
    "    ac[[i+1]]  <-  accuracy(l[[k]], test)\n",
    "                \n",
    "    progress(i, progress.bar = TRUE)\n",
    "    \n",
    "    \n",
    "                \n",
    "    }"
   ]
  },
  {
   "cell_type": "code",
   "execution_count": 35,
   "metadata": {},
   "outputs": [
    {
     "data": {
      "text/html": [
       "<table>\n",
       "<thead><tr><th scope=col>ME</th><th scope=col>RMSE</th><th scope=col>MAPE</th></tr></thead>\n",
       "<tbody>\n",
       "\t<tr><td>  -747.8398</td><td> 4826.518  </td><td>144.28888  </td></tr>\n",
       "\t<tr><td> -1957.1104</td><td> 5587.183  </td><td>112.02837  </td></tr>\n",
       "\t<tr><td>  -425.9371</td><td> 6249.827  </td><td> 94.48955  </td></tr>\n",
       "\t<tr><td>-14361.1493</td><td>16524.078  </td><td>265.40736  </td></tr>\n",
       "\t<tr><td> -5247.4993</td><td> 8094.159  </td><td> 70.33771  </td></tr>\n",
       "</tbody>\n",
       "</table>\n"
      ],
      "text/latex": [
       "\\begin{tabular}{r|lll}\n",
       " ME & RMSE & MAPE\\\\\n",
       "\\hline\n",
       "\t   -747.8398 &  4826.518   & 144.28888  \\\\\n",
       "\t  -1957.1104 &  5587.183   & 112.02837  \\\\\n",
       "\t   -425.9371 &  6249.827   &  94.48955  \\\\\n",
       "\t -14361.1493 & 16524.078   & 265.40736  \\\\\n",
       "\t  -5247.4993 &  8094.159   &  70.33771  \\\\\n",
       "\\end{tabular}\n"
      ],
      "text/markdown": [
       "\n",
       "ME | RMSE | MAPE | \n",
       "|---|---|---|---|---|\n",
       "|   -747.8398 |  4826.518   | 144.28888   | \n",
       "|  -1957.1104 |  5587.183   | 112.02837   | \n",
       "|   -425.9371 |  6249.827   |  94.48955   | \n",
       "| -14361.1493 | 16524.078   | 265.40736   | \n",
       "|  -5247.4993 |  8094.159   |  70.33771   | \n",
       "\n",
       "\n"
      ],
      "text/plain": [
       "  ME          RMSE      MAPE     \n",
       "1   -747.8398  4826.518 144.28888\n",
       "2  -1957.1104  5587.183 112.02837\n",
       "3   -425.9371  6249.827  94.48955\n",
       "4 -14361.1493 16524.078 265.40736\n",
       "5  -5247.4993  8094.159  70.33771"
      ]
     },
     "metadata": {},
     "output_type": "display_data"
    }
   ],
   "source": [
    "var_acc_metrics  <-  c(1,2,5)\n",
    "df_acc_test  <- ac[[1]][2, var_acc_metrics]\n",
    "for (i in ac[2:length(ac)]){\n",
    "    x  <-  i[2, var_acc_metrics]\n",
    "    df_acc_test   <-  cbind(df_acc_test, x)\n",
    "}\n",
    "df_acc_test  <- t(df_acc_test)\n",
    "df_acc_test  <-  as.data.frame(df_acc_test)\n",
    "row.names(df_acc_test)  <-  seq(1,length(ac))\n",
    "df_acc_test"
   ]
  },
  {
   "cell_type": "code",
   "execution_count": 36,
   "metadata": {},
   "outputs": [
    {
     "data": {
      "text/html": [
       "<dl class=dl-horizontal>\n",
       "\t<dt>ME</dt>\n",
       "\t\t<dd>-4547.90719011923</dd>\n",
       "\t<dt>RMSE</dt>\n",
       "\t\t<dd>8256.35281284311</dd>\n",
       "\t<dt>MAPE</dt>\n",
       "\t\t<dd>137.310373191453</dd>\n",
       "</dl>\n"
      ],
      "text/latex": [
       "\\begin{description*}\n",
       "\\item[ME] -4547.90719011923\n",
       "\\item[RMSE] 8256.35281284311\n",
       "\\item[MAPE] 137.310373191453\n",
       "\\end{description*}\n"
      ],
      "text/markdown": [
       "ME\n",
       ":   -4547.90719011923RMSE\n",
       ":   8256.35281284311MAPE\n",
       ":   137.310373191453\n",
       "\n"
      ],
      "text/plain": [
       "        ME       RMSE       MAPE \n",
       "-4547.9072  8256.3528   137.3104 "
      ]
     },
     "metadata": {},
     "output_type": "display_data"
    }
   ],
   "source": [
    "colMeans(df_acc_test)"
   ]
  },
  {
   "cell_type": "code",
   "execution_count": 37,
   "metadata": {},
   "outputs": [
    {
     "data": {
      "text/plain": [
       "NULL"
      ]
     },
     "metadata": {},
     "output_type": "display_data"
    }
   ],
   "source": [
    "err_list"
   ]
  },
  {
   "cell_type": "code",
   "execution_count": 38,
   "metadata": {},
   "outputs": [
    {
     "data": {},
     "metadata": {},
     "output_type": "display_data"
    },
    {
     "data": {
      "image/png": "[encoded data removed]",
      "text/plain": [
       "plot without title"
      ]
     },
     "metadata": {},
     "output_type": "display_data"
    }
   ],
   "source": [
    "plot_forecasts  <-  autoplot(window(gdp_agg, start=2010))+\n",
    "    xlab(\"Время\") + ylab('ЕП') +\n",
    "    ggtitle(\"AR(11)SAR(2) с линейным трендом\") +\n",
    "    guides(colour=guide_legend(title=\" \")) +\n",
    "    theme(aspect.ratio = 0.75)\n",
    "\n",
    "for (i in 1:length(l)){\n",
    "    plot_forecasts  <-  plot_forecasts  +\n",
    "    autolayer(l[[i]], series=paste(\"Итерация\" , i, sep=\" \") ,   PI=FALSE) \n",
    "    \n",
    "}\n",
    "\n",
    "plot_forecasts\n"
   ]
  },
  {
   "cell_type": "code",
   "execution_count": 39,
   "metadata": {},
   "outputs": [
    {
     "data": {
      "text/html": [
       "<table>\n",
       "<thead><tr><th></th><th scope=col>Квартальные</th><th scope=col>Сезонно сглаженные</th><th scope=col>Месячные</th></tr></thead>\n",
       "<tbody>\n",
       "\t<tr><th scope=row>1 level</th><td>64.05969</td><td>196.2254</td><td>7949.905</td></tr>\n",
       "\t<tr><th scope=row>2</th><td>      NA</td><td>      NA</td><td>      NA</td></tr>\n",
       "\t<tr><th scope=row>3</th><td>      NA</td><td>      NA</td><td>      NA</td></tr>\n",
       "\t<tr><th scope=row>4</th><td>      NA</td><td>      NA</td><td>      NA</td></tr>\n",
       "\t<tr><th scope=row>5</th><td>      NA</td><td>      NA</td><td>      NA</td></tr>\n",
       "</tbody>\n",
       "</table>\n"
      ],
      "text/latex": [
       "\\begin{tabular}{r|lll}\n",
       "  & Квартальные & Сезонно сглаженные & Месячные\\\\\n",
       "\\hline\n",
       "\t1 level & 64.05969 & 196.2254 & 7949.905\\\\\n",
       "\t2 &       NA &       NA &       NA\\\\\n",
       "\t3 &       NA &       NA &       NA\\\\\n",
       "\t4 &       NA &       NA &       NA\\\\\n",
       "\t5 &       NA &       NA &       NA\\\\\n",
       "\\end{tabular}\n"
      ],
      "text/markdown": [
       "\n",
       "| <!--/--> | Квартальные | Сезонно сглаженные | Месячные | \n",
       "|---|---|---|---|---|\n",
       "| 1 level | 64.05969 | 196.2254 | 7949.905 | \n",
       "| 2 |       NA |       NA |       NA | \n",
       "| 3 |       NA |       NA |       NA | \n",
       "| 4 |       NA |       NA |       NA | \n",
       "| 5 |       NA |       NA |       NA | \n",
       "\n",
       "\n"
      ],
      "text/plain": [
       "        Квартальные Сезонно сглаженные Месячные\n",
       "1 level 64.05969    196.2254           7949.905\n",
       "2             NA          NA                 NA\n",
       "3             NA          NA                 NA\n",
       "4             NA          NA                 NA\n",
       "5             NA          NA                 NA"
      ]
     },
     "metadata": {},
     "output_type": "display_data"
    }
   ],
   "source": [
    "df_mean_acc"
   ]
  },
  {
   "cell_type": "code",
   "execution_count": 40,
   "metadata": {},
   "outputs": [
    {
     "data": {
      "text/html": [
       "<table>\n",
       "<thead><tr><th></th><th scope=col>Квартальные</th><th scope=col>Сезонно сглаженные</th><th scope=col>Месячные</th></tr></thead>\n",
       "<tbody>\n",
       "\t<tr><th scope=row>1 level</th><td>64.05969</td><td>196.2254</td><td>8256.353</td></tr>\n",
       "\t<tr><th scope=row>2</th><td>      NA</td><td>      NA</td><td>      NA</td></tr>\n",
       "\t<tr><th scope=row>3</th><td>      NA</td><td>      NA</td><td>      NA</td></tr>\n",
       "\t<tr><th scope=row>4</th><td>      NA</td><td>      NA</td><td>      NA</td></tr>\n",
       "\t<tr><th scope=row>5</th><td>      NA</td><td>      NA</td><td>      NA</td></tr>\n",
       "</tbody>\n",
       "</table>\n"
      ],
      "text/latex": [
       "\\begin{tabular}{r|lll}\n",
       "  & Квартальные & Сезонно сглаженные & Месячные\\\\\n",
       "\\hline\n",
       "\t1 level & 64.05969 & 196.2254 & 8256.353\\\\\n",
       "\t2 &       NA &       NA &       NA\\\\\n",
       "\t3 &       NA &       NA &       NA\\\\\n",
       "\t4 &       NA &       NA &       NA\\\\\n",
       "\t5 &       NA &       NA &       NA\\\\\n",
       "\\end{tabular}\n"
      ],
      "text/markdown": [
       "\n",
       "| <!--/--> | Квартальные | Сезонно сглаженные | Месячные | \n",
       "|---|---|---|---|---|\n",
       "| 1 level | 64.05969 | 196.2254 | 8256.353 | \n",
       "| 2 |       NA |       NA |       NA | \n",
       "| 3 |       NA |       NA |       NA | \n",
       "| 4 |       NA |       NA |       NA | \n",
       "| 5 |       NA |       NA |       NA | \n",
       "\n",
       "\n"
      ],
      "text/plain": [
       "        Квартальные Сезонно сглаженные Месячные\n",
       "1 level 64.05969    196.2254           8256.353\n",
       "2             NA          NA                 NA\n",
       "3             NA          NA                 NA\n",
       "4             NA          NA                 NA\n",
       "5             NA          NA                 NA"
      ]
     },
     "metadata": {},
     "output_type": "display_data"
    }
   ],
   "source": [
    "df_mean_acc[1,3]  <- colMeans(df_acc_test)[[2]]\n",
    "df_mean_acc"
   ]
  },
  {
   "cell_type": "code",
   "execution_count": 41,
   "metadata": {},
   "outputs": [],
   "source": [
    "save_plots[[5]]  <-  plot_forecasts"
   ]
  },
  {
   "cell_type": "code",
   "execution_count": 42,
   "metadata": {},
   "outputs": [],
   "source": [
    "var_allornot  <- var_freq\n",
    "# var_allornot  <- 1\n",
    "var_shift  <-  var_topup\n",
    "# var_shift  <-  0"
   ]
  },
  {
   "cell_type": "code",
   "execution_count": null,
   "metadata": {},
   "outputs": [],
   "source": []
  },
  {
   "cell_type": "code",
   "execution_count": 45,
   "metadata": {},
   "outputs": [
    {
     "data": {
      "text/html": [
       "<table>\n",
       "<thead><tr><th></th><th scope=col>Квартальные</th><th scope=col>Сезонно сглаженные</th><th scope=col>Месячные</th></tr></thead>\n",
       "<tbody>\n",
       "\t<tr><th scope=row>1 level</th><td>64.05969</td><td>196.2254</td><td>8256.353</td></tr>\n",
       "\t<tr><th scope=row>2</th><td>      NA</td><td>      NA</td><td>      NA</td></tr>\n",
       "\t<tr><th scope=row>3</th><td>      NA</td><td>      NA</td><td>      NA</td></tr>\n",
       "\t<tr><th scope=row>4</th><td>      NA</td><td>      NA</td><td>      NA</td></tr>\n",
       "\t<tr><th scope=row>5</th><td>      NA</td><td>      NA</td><td>      NA</td></tr>\n",
       "</tbody>\n",
       "</table>\n"
      ],
      "text/latex": [
       "\\begin{tabular}{r|lll}\n",
       "  & Квартальные & Сезонно сглаженные & Месячные\\\\\n",
       "\\hline\n",
       "\t1 level & 64.05969 & 196.2254 & 8256.353\\\\\n",
       "\t2 &       NA &       NA &       NA\\\\\n",
       "\t3 &       NA &       NA &       NA\\\\\n",
       "\t4 &       NA &       NA &       NA\\\\\n",
       "\t5 &       NA &       NA &       NA\\\\\n",
       "\\end{tabular}\n"
      ],
      "text/markdown": [
       "\n",
       "| <!--/--> | Квартальные | Сезонно сглаженные | Месячные | \n",
       "|---|---|---|---|---|\n",
       "| 1 level | 64.05969 | 196.2254 | 8256.353 | \n",
       "| 2 |       NA |       NA |       NA | \n",
       "| 3 |       NA |       NA |       NA | \n",
       "| 4 |       NA |       NA |       NA | \n",
       "| 5 |       NA |       NA |       NA | \n",
       "\n",
       "\n"
      ],
      "text/plain": [
       "        Квартальные Сезонно сглаженные Месячные\n",
       "1 level 64.05969    196.2254           8256.353\n",
       "2             NA          NA                 NA\n",
       "3             NA          NA                 NA\n",
       "4             NA          NA                 NA\n",
       "5             NA          NA                 NA"
      ]
     },
     "metadata": {},
     "output_type": "display_data"
    }
   ],
   "source": [
    "df_mean_acc"
   ]
  },
  {
   "cell_type": "code",
   "execution_count": 46,
   "metadata": {},
   "outputs": [],
   "source": [
    "saveRDS(df_mean_acc, \"df_mean_acc.rds\")"
   ]
  },
  {
   "cell_type": "code",
   "execution_count": null,
   "metadata": {},
   "outputs": [],
   "source": []
  },
  {
   "cell_type": "code",
   "execution_count": null,
   "metadata": {},
   "outputs": [],
   "source": []
  }
 ],
 "metadata": {
  "kernelspec": {
   "display_name": "R 3.5.1",
   "language": "R",
   "name": "ir"
  },
  "language_info": {
   "codemirror_mode": "r",
   "file_extension": ".r",
   "mimetype": "text/x-r-source",
   "name": "R",
   "pygments_lexer": "r",
   "version": "3.5.2"
  }
 },
 "nbformat": 4,
 "nbformat_minor": 2
}
