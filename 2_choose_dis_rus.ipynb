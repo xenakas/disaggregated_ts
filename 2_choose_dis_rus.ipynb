{
 "cells": [
  {
   "cell_type": "code",
   "execution_count": 138,
   "metadata": {
    "scrolled": true
   },
   "outputs": [],
   "source": [
    "library(forecast)\n",
    "library(ggplot2)\n",
    "library(dplyr)\n",
    "library(gridExtra)"
   ]
  },
  {
   "cell_type": "code",
   "execution_count": 139,
   "metadata": {},
   "outputs": [],
   "source": [
    "# library(doParallel)\n",
    "library(doMC)\n",
    "options(cores = 10)\n",
    "registerDoMC()\n",
    "require(svMisc)"
   ]
  },
  {
   "cell_type": "code",
   "execution_count": 140,
   "metadata": {},
   "outputs": [],
   "source": [
    "library(data.table)\n",
    "library(hts)  "
   ]
  },
  {
   "cell_type": "code",
   "execution_count": 141,
   "metadata": {},
   "outputs": [],
   "source": [
    "df_eu  <-  read.csv(file=\"hts_rus_summed.csv\", header=TRUE, sep=\",\", row.names =1 )\n",
    "# df_eu  <-  df_eu/1000\n",
    "var_freq  <- 12    \n",
    "var_start_year  <- 2006      \n",
    "gdp_agg <- df_eu_sums <-  rowSums(df_eu)\n",
    "gdp_agg  <- ts(gdp_agg, frequency = var_freq, start = var_start_year) "
   ]
  },
  {
   "cell_type": "code",
   "execution_count": 142,
   "metadata": {},
   "outputs": [],
   "source": [
    "var_h  <- 24\n",
    "var_window  <-  84 - 1\n",
    "var_topup  <-  -1\n",
    "var_iter   <- (length(gdp_agg)+var_topup)/var_freq-(var_window+1)/var_freq-2"
   ]
  },
  {
   "cell_type": "code",
   "execution_count": 143,
   "metadata": {},
   "outputs": [],
   "source": [
    "# var_allornot  <- var_freq\n",
    "var_allornot  <- 1\n",
    "# var_shift  <-  var_topup\n",
    "var_shift  <-  0\n",
    "\n",
    "var_arpdq   <-  c(11,0,0)\n",
    "var_sarpdq   <-  c(2,0,0)\n",
    "var_char  <-  c(4,2)"
   ]
  },
  {
   "cell_type": "code",
   "execution_count": 144,
   "metadata": {},
   "outputs": [],
   "source": [
    "df_eu  <-  as.data.table(df_eu)\n",
    "data  <-  df_eu\n",
    "y  <-  hts(data, characters = var_char)\n",
    "s  <-  smatrix(y)\n",
    "# gts_train  <- window(y, start=19, end=46)\n",
    "# gts_test  <- window(y, start=47, end=54)\n",
    "# allts <- aggts(gts_train)\n",
    "# allf <- matrix(, nrow=var_h, ncol=ncol(allts))"
   ]
  },
  {
   "cell_type": "code",
   "execution_count": 145,
   "metadata": {},
   "outputs": [],
   "source": [
    "l <- ac <- m_top  <- l_test  <-  l_top  <-  list()\n",
    "\n",
    "df_ac  <-  data.frame(matrix(ncol = 0, nrow = 0))\n",
    "\n",
    "k  <- 0\n",
    "\n",
    "for (i in 0:(var_iter*var_allornot - var_shift)){\n",
    "    k  <-  k+1\n",
    "    st_year  <-  var_start_year + i/var_allornot\n",
    "    train_start  <- st_year \n",
    "    train_end  <- st_year + 1/var_freq*(var_window)\n",
    "    test_start  <- st_year + 1/var_freq*(var_window+1) \n",
    "    test_end  <-  st_year + 1/var_freq*(var_window+var_h)\n",
    "    \n",
    "    dates  <-  (c(train_start, train_end, test_start, test_end, train_start-var_topup/var_freq, train_end-var_topup/var_freq, test_start-var_topup/var_freq)-var_start_year)*var_freq+1\n",
    "    \n",
    "    train_start  <- dates[1] \n",
    "    train_end  <- dates[2]\n",
    "    test_start  <- dates[3]\n",
    "    test_end  <- dates[4]\n",
    "    \n",
    "    print(c(train_start, train_end, test_start, test_end))\n",
    "    \n",
    "    \n",
    "    if (i == 0){\n",
    "        gts_train <- window(y, end=train_end)    \n",
    "    }\n",
    "    else{\n",
    "        if ((var_shift == 0) & (i == var_iter*var_allornot - var_shift)){\n",
    "            gts_train <- window(y, start=dates[5], end=dates[6])\n",
    "        }else{\n",
    "            gts_train <- window(y, start=train_start, end=train_end)\n",
    "    }}\n",
    "    \n",
    "    if ((var_shift == 0) & (i == var_iter*var_allornot - var_shift)){\n",
    "        gts_test <- window(y, start=dates[7])\n",
    "      \n",
    "    }else{  \n",
    "     gts_test <- window(y, start=test_start, end=test_end)\n",
    "          \n",
    "    }\n",
    "    \n",
    "    allts <- aggts(gts_train)\n",
    "    \n",
    "    t <- train_start:train_end\n",
    "    regressors <- cbind(trend=t,quad=t^2)\n",
    "    \n",
    "    ms <-  foreach(j=1:ncol(allts)) %dopar% {\n",
    "        model  <- tryCatch(        \n",
    "        Arima(msts(allts[,j], seasonal.periods = var_freq), order=var_arpdq, seasonal = var_sarpdq,  include.mean = TRUE, xreg = regressors, method=\"ML\"), \n",
    "            error = function(e) \n",
    "                              {tryCatch( Arima(msts(allts[,j], seasonal.periods = var_freq), order=var_arpdq,  seasonal = var_sarpdq, include.mean = TRUE, xreg = regressors, method=\"CSS\"),\n",
    "                         error = function(e)              \n",
    "                            auto.arima(msts(allts[,j], seasonal.periods = var_freq))\n",
    "                         )}\n",
    "                        \n",
    "            )\n",
    "        \n",
    "    }\n",
    "        \n",
    "    allf <- matrix(, nrow=var_h, ncol=ncol(allts))\n",
    "        \n",
    "    t_f <- test_start:test_end\n",
    "    regressors_f <- cbind(trend=t_f,quad=t_f^2) \n",
    "    \n",
    "    \n",
    "    \n",
    "    for(j in 1:ncol(allts)){  \n",
    "    allf[,j] <- tryCatch(        \n",
    "    { forecast(ms[[j]], h=var_h, xreg = regressors_f)$mean}, \n",
    "            error = function(e) \n",
    "        {rwf(allts[,j],h=var_h, drift=TRUE)$mean}\n",
    "    \n",
    "            )\n",
    "\n",
    "    \n",
    "    }\n",
    "\n",
    "    \n",
    "    allf <- ts(allf)\n",
    "    colnames(allf)  <-  colnames(allts)  \n",
    "    g <- get_nodes(gts_train)\n",
    "    y.f <- combinef(allf, nodes = g)\n",
    "    forecasts_7  <- y.f[[1]]\n",
    "    colnames(forecasts_7)  <- colnames(y[[1]])\n",
    "    data_f5  <- rbind(gts_train[[1]], forecasts_7)\n",
    "    y_f5  <- hts(data_f5, characters = var_char)\n",
    "        \n",
    "#     if (i == 4){\n",
    "#         gts_forecasts_7 <- window(y_f5, start=test_start)}\n",
    "#     else{\n",
    "#     gts_forecasts_7 <- window(y_f5, start=test_start, end=test_end)\n",
    "# #     }\n",
    "\n",
    "#     if ((var_shift == 0) & (i == var_iter*var_allornot - var_shift)){\n",
    "#         gts_forecasts_7 <- window(y_f5, start=dates[7])\n",
    "      \n",
    "#     }else{  \n",
    "     gts_forecasts_7 <- window(y_f5, start=dim(y_f5[[1]])[1]-var_h+1)\n",
    "          \n",
    "#     }\n",
    "         \n",
    "    print(gts_forecasts_7)\n",
    "    print(gts_test)\n",
    "            \n",
    "    \n",
    "    l[[k]]  <- allf\n",
    "\n",
    "    ac[[k]]  <-  accuracy.gts(gts_forecasts_7, gts_test)[, 1] \n",
    "\n",
    "    progress(i, progress.bar = TRUE)\n",
    "            \n",
    "    }"
   ]
  },
  {
   "cell_type": "code",
   "execution_count": null,
   "metadata": {},
   "outputs": [],
   "source": []
  },
  {
   "cell_type": "code",
   "execution_count": null,
   "metadata": {},
   "outputs": [],
   "source": []
  },
  {
   "cell_type": "code",
   "execution_count": null,
   "metadata": {},
   "outputs": [],
   "source": [
    "var_acc_metrics  <-  c(1,2,4)\n",
    "df_acc_test  <- ac[[1]][var_acc_metrics]\n",
    "for (i in ac[2:length(ac)]){\n",
    "    x  <-  i[var_acc_metrics]\n",
    "    df_acc_test   <-  cbind(df_acc_test, x)\n",
    "}\n",
    "df_acc_test  <- t(df_acc_test)\n",
    "df_acc_test  <-  as.data.frame(df_acc_test)\n",
    "row.names(df_acc_test)  <-  seq(1,length(ac))\n",
    "df_acc  <- df_acc_test\n",
    "df_acc  <-  cbind(df_acc, seq(1, length(ac)))\n",
    "colnames(df_acc)[length(var_acc_metrics)+1]  <-  'Iteration'"
   ]
  },
  {
   "cell_type": "code",
   "execution_count": null,
   "metadata": {},
   "outputs": [],
   "source": [
    "df_acc$Iteration  <-  df_acc$Iteration*var_freq-(var_freq-1)"
   ]
  },
  {
   "cell_type": "code",
   "execution_count": null,
   "metadata": {},
   "outputs": [],
   "source": [
    "df_acc$Iteration[length(df_acc$Iteration)]  <-   df_acc$Iteration[length(df_acc$Iteration)] - var_topup"
   ]
  },
  {
   "cell_type": "code",
   "execution_count": null,
   "metadata": {},
   "outputs": [],
   "source": [
    "df_acc"
   ]
  },
  {
   "cell_type": "code",
   "execution_count": null,
   "metadata": {},
   "outputs": [],
   "source": [
    "l[[5]][,1]"
   ]
  },
  {
   "cell_type": "code",
   "execution_count": null,
   "metadata": {},
   "outputs": [],
   "source": [
    "plot_forecasts  <-  autoplot(window(gdp_agg, start=2010))+\n",
    "    xlab(\"Время\") + ylab('ВВП') +\n",
    "    ggtitle(\"AR(3)SAR(2) с линейным трендом\") +\n",
    "    guides(colour=guide_legend(title=\" \")) +\n",
    "    theme(aspect.ratio = 0.75)\n",
    "\n",
    "# for (i in 0:(var_iter*var_allornot - var_shift)){\n",
    "#     k  <-  k+1\n",
    "#     st_year  <-  var_start_year + i/var_allornot\n",
    "#     train_start  <- st_year \n",
    "#     train_end  <- st_year + 1/var_freq*(var_window)\n",
    "#     test_start  <- st_year + 1/var_freq*(var_window+1) \n",
    "#     test_end  <-  st_year + 1/var_freq*(var_window+var_h)\n",
    "    \n",
    "#     dates  <-  (c(train_start, train_end, test_start, test_end, train_start-var_topup/var_freq, train_end-var_topup/var_freq, test_start-var_topup/var_freq)-var_start_year)*var_freq+1\n",
    "\n",
    "    \n",
    "\n",
    "for (i in 1:length(l)){\n",
    "    if (i!=length(l)){\n",
    "    plot_forecasts  <-  plot_forecasts  + \n",
    "    autolayer(msts(l[[i]][,1], seasonal.periods = var_freq, start=var_start_year + i/var_allornot+1/var_freq*(var_window+1)-1), series=paste(\"Итерация\" , i, sep=\" \") ) \n",
    "    }else{\n",
    "            plot_forecasts  <-  plot_forecasts  + \n",
    "    autolayer(msts(l[[i]][,1], seasonal.periods = var_freq, start=var_start_year + i/var_allornot+1/var_freq*(var_window+1)-1-var_topup/var_freq), series=paste(\"Итерация\" , i, sep=\" \") ) \n",
    "\n",
    "        \n",
    "    }\n",
    "}\n",
    "\n",
    "plot_forecasts\n"
   ]
  },
  {
   "cell_type": "code",
   "execution_count": null,
   "metadata": {},
   "outputs": [],
   "source": [
    "df_acc[-3,]"
   ]
  },
  {
   "cell_type": "code",
   "execution_count": null,
   "metadata": {},
   "outputs": [],
   "source": [
    "colMeans(df_acc[-3,])"
   ]
  },
  {
   "cell_type": "code",
   "execution_count": null,
   "metadata": {},
   "outputs": [],
   "source": [
    "df_mean_acc <- readRDS(\"df_mean_acc.rds\")\n",
    "df_mean_acc"
   ]
  },
  {
   "cell_type": "code",
   "execution_count": null,
   "metadata": {},
   "outputs": [],
   "source": [
    "df_mean_acc[2,3]  <-  colMeans(df_acc)[[2]] \n",
    "df_mean_acc"
   ]
  },
  {
   "cell_type": "code",
   "execution_count": null,
   "metadata": {},
   "outputs": [],
   "source": [
    "df_acc"
   ]
  },
  {
   "cell_type": "code",
   "execution_count": null,
   "metadata": {
    "scrolled": true
   },
   "outputs": [],
   "source": [
    "# Basic line plot with points\n",
    "\n",
    "plots_test_all <- readRDS(\"plots_test_not_all.rds\")\n",
    "\n",
    "var_col_test  <-  'orange'\n",
    "# var_col_train  <-  'red'\n",
    "\n",
    "for (i in 1:3) {\n",
    "    \n",
    "    k = i + 3\n",
    "    \n",
    "    if  (i==1) {\n",
    "        \n",
    "        plots_test_all[[k]]  <-  plots_test_all[[k]] + \n",
    "geom_line(aes(x=Iteration, y=ME), colour = var_col_test, data =  df_acc) \n",
    "    \n",
    "        } else if (i==2) { \n",
    "        plots_test_all[[k]]  <-  plots_test_all[[k]] + \n",
    "geom_line(aes(x=Iteration, y=RMSE), colour = var_col_test, data =  df_acc) \n",
    "        } else if (i==3)  {\n",
    "        plots_test_all[[k]]  <-  plots_test_all[[k]] + \n",
    "geom_line(aes(x=Iteration, y=MAPE), colour = var_col_test, data =  df_acc) \n",
    " \n",
    "    }        \n",
    "    }\n",
    "\n",
    "grid.arrange(grobs = plots_test_all, ncol = 3)"
   ]
  },
  {
   "cell_type": "markdown",
   "metadata": {},
   "source": [
    "#### 2 state"
   ]
  },
  {
   "cell_type": "code",
   "execution_count": null,
   "metadata": {},
   "outputs": [],
   "source": [
    "df_eu  <-  read.csv(file=\"hts_rus_summed_state.csv\", header=TRUE, sep=\",\", row.names =1 )\n",
    "# df_eu  <-  df_eu/1000\n"
   ]
  },
  {
   "cell_type": "code",
   "execution_count": null,
   "metadata": {},
   "outputs": [],
   "source": [
    "# var_allornot  <- var_freq\n",
    "var_allornot  <- 1\n",
    "# var_shift  <-  var_topup\n",
    "var_shift  <-  0"
   ]
  },
  {
   "cell_type": "code",
   "execution_count": null,
   "metadata": {},
   "outputs": [],
   "source": [
    "df_eu  <-  as.data.table(df_eu)\n",
    "data  <-  df_eu\n",
    "y  <-  hts(data)\n",
    "s  <-  smatrix(y)\n",
    "# gts_train  <- window(y, start=20, end=67)\n",
    "# gts_test  <- window(y, start=68, end=75)\n",
    "allts <- aggts(y)\n",
    "allf <- matrix(, nrow=var_h, ncol=ncol(allts))"
   ]
  },
  {
   "cell_type": "code",
   "execution_count": null,
   "metadata": {},
   "outputs": [],
   "source": [
    "l <- ac <- m_top  <- l_test  <-  l_top  <-  list()\n",
    "\n",
    "df_ac  <-  data.frame(matrix(ncol = 0, nrow = 0))\n",
    "\n",
    "k  <- 0\n",
    "\n",
    "for (i in 0:(var_iter*var_allornot - var_shift)){\n",
    "    k  <-  k+1\n",
    "    st_year  <-  var_start_year + i/var_allornot\n",
    "    train_start  <- st_year \n",
    "    train_end  <- st_year + 1/var_freq*(var_window)\n",
    "    test_start  <- st_year + 1/var_freq*(var_window+1) \n",
    "    test_end  <-  st_year + 1/var_freq*(var_window+var_h)\n",
    "    \n",
    "    dates  <-  (c(train_start, train_end, test_start, test_end, train_start-var_topup/var_freq, train_end-var_topup/var_freq, test_start-var_topup/var_freq)-var_start_year)*var_freq+1\n",
    "    \n",
    "    train_start  <- dates[1] \n",
    "    train_end  <- dates[2]\n",
    "    test_start  <- dates[3]\n",
    "    test_end  <- dates[4]\n",
    "    \n",
    "    print(c(train_start, train_end, test_start, test_end))\n",
    "    \n",
    "    \n",
    "    if (i == 0){\n",
    "        gts_train <- window(y, end=train_end)    \n",
    "    }\n",
    "    else{\n",
    "        if ((var_shift == 0) & (i == var_iter*var_allornot - var_shift)){\n",
    "            gts_train <- window(y, start=dates[5], end=dates[6])\n",
    "        }else{\n",
    "            gts_train <- window(y, start=train_start, end=train_end)\n",
    "    }}\n",
    "    \n",
    "    if ((var_shift == 0) & (i == var_iter*var_allornot - var_shift)){\n",
    "        gts_test <- window(y, start=dates[7])\n",
    "      \n",
    "    }else{  \n",
    "     gts_test <- window(y, start=test_start, end=test_end)\n",
    "          \n",
    "    }\n",
    "    \n",
    "    allts <- aggts(gts_train)\n",
    "    \n",
    "    t <- train_start:train_end\n",
    "    regressors <- cbind(trend=t,quad=t^2)\n",
    "    \n",
    "    ms <-  foreach(j=1:ncol(allts)) %dopar% {\n",
    "        model  <- tryCatch(        \n",
    "        Arima(msts(allts[,j], seasonal.periods = var_freq), order=var_arpdq,  include.mean = TRUE, xreg = regressors, method=\"ML\"), \n",
    "            error = function(e) \n",
    "                              {tryCatch( Arima(msts(allts[,j], seasonal.periods = var_freq), order=var_arpdq,  include.mean = TRUE, xreg = regressors, method=\"CSS\"),\n",
    "                         error = function(e)              \n",
    "                            auto.arima(msts(allts[,j], seasonal.periods = var_freq))\n",
    "                         )}\n",
    "                        \n",
    "            )\n",
    "        \n",
    "    }\n",
    "        \n",
    "    allf <- matrix(, nrow=var_h, ncol=ncol(allts))\n",
    "        \n",
    "    t_f <- test_start:test_end\n",
    "    regressors_f <- cbind(trend=t_f,quad=t_f^2) \n",
    "    \n",
    "    \n",
    "    \n",
    "    for(j in 1:ncol(allts)){  \n",
    "    allf[,j] <- tryCatch(        \n",
    "    { forecast(ms[[j]], h=var_h, xreg = regressors_f)$mean}, \n",
    "            error = function(e) \n",
    "        {rwf(allts[,j],h=var_h, drift=TRUE)$mean}\n",
    "    \n",
    "            )\n",
    "\n",
    "    \n",
    "    }\n",
    "\n",
    "    \n",
    "    allf <- ts(allf)\n",
    "    colnames(allf)  <-  colnames(allts)  \n",
    "    g <- get_nodes(gts_train)\n",
    "    y.f <- combinef(allf, nodes = g)\n",
    "    forecasts_7  <- y.f[[1]]\n",
    "    colnames(forecasts_7)  <- colnames(y[[1]])\n",
    "    data_f5  <- rbind(gts_train[[1]], forecasts_7)\n",
    "    y_f5  <- hts(data_f5)\n",
    "        \n",
    "#     if (i == 4){\n",
    "#         gts_forecasts_7 <- window(y_f5, start=test_start)}\n",
    "#     else{\n",
    "#     gts_forecasts_7 <- window(y_f5, start=test_start, end=test_end)\n",
    "# #     }\n",
    "\n",
    "#     if ((var_shift == 0) & (i == var_iter*var_allornot - var_shift)){\n",
    "#         gts_forecasts_7 <- window(y_f5, start=dates[7])\n",
    "      \n",
    "#     }else{  \n",
    "     gts_forecasts_7 <- window(y_f5, start=dim(y_f5[[1]])[1]-var_h+1)\n",
    "          \n",
    "#     }\n",
    "\n",
    "            \n",
    "            \n",
    "    print(gts_forecasts_7)\n",
    "    print(gts_test)\n",
    "            \n",
    "    \n",
    "    l[[k]]  <- allf\n",
    "\n",
    "    ac[[k]]  <-  accuracy.gts(gts_forecasts_7, gts_test)[, 1] \n",
    "\n",
    "    progress(i, progress.bar = TRUE)\n",
    "            \n",
    "    }"
   ]
  },
  {
   "cell_type": "code",
   "execution_count": null,
   "metadata": {},
   "outputs": [],
   "source": [
    "var_acc_metrics  <-  c(1,2,4)\n",
    "df_acc_test  <- ac[[1]][var_acc_metrics]\n",
    "for (i in ac[2:length(ac)]){\n",
    "    x  <-  i[var_acc_metrics]\n",
    "    df_acc_test   <-  cbind(df_acc_test, x)\n",
    "}\n",
    "df_acc_test  <- t(df_acc_test)\n",
    "df_acc_test  <-  as.data.frame(df_acc_test)\n",
    "row.names(df_acc_test)  <-  seq(1,length(ac))\n",
    "df_acc  <- df_acc_test\n",
    "df_acc  <-  cbind(df_acc, seq(1, length(ac)))\n",
    "colnames(df_acc)[length(var_acc_metrics)+1]  <-  'Iteration'"
   ]
  },
  {
   "cell_type": "code",
   "execution_count": null,
   "metadata": {},
   "outputs": [],
   "source": [
    "df_acc$Iteration  <-  df_acc$Iteration*var_freq-(var_freq-1)\n",
    "df_acc$Iteration[length(df_acc$Iteration)]  <-   df_acc$Iteration[length(df_acc$Iteration)] - var_topup"
   ]
  },
  {
   "cell_type": "code",
   "execution_count": null,
   "metadata": {},
   "outputs": [],
   "source": [
    "df_acc"
   ]
  },
  {
   "cell_type": "code",
   "execution_count": null,
   "metadata": {},
   "outputs": [],
   "source": [
    "l[[5]][,1]"
   ]
  },
  {
   "cell_type": "code",
   "execution_count": null,
   "metadata": {},
   "outputs": [],
   "source": [
    "plot_forecasts  <-  autoplot(window(gdp_agg, start=2010))+\n",
    "    xlab(\"Время\") + ylab('ВВП') +\n",
    "    ggtitle(\"AR(3)SAR(2) с линейным трендом\") +\n",
    "    guides(colour=guide_legend(title=\" \")) +\n",
    "    theme(aspect.ratio = 0.75)\n",
    "\n",
    "# for (i in 0:(var_iter*var_allornot - var_shift)){\n",
    "#     k  <-  k+1\n",
    "#     st_year  <-  var_start_year + i/var_allornot\n",
    "#     train_start  <- st_year \n",
    "#     train_end  <- st_year + 1/var_freq*(var_window)\n",
    "#     test_start  <- st_year + 1/var_freq*(var_window+1) \n",
    "#     test_end  <-  st_year + 1/var_freq*(var_window+var_h)\n",
    "    \n",
    "#     dates  <-  (c(train_start, train_end, test_start, test_end, train_start-var_topup/var_freq, train_end-var_topup/var_freq, test_start-var_topup/var_freq)-var_start_year)*var_freq+1\n",
    "\n",
    "    \n",
    "\n",
    "for (i in 1:length(l)){\n",
    "    if (i!=length(l)){\n",
    "    plot_forecasts  <-  plot_forecasts  + \n",
    "    autolayer(msts(l[[i]][,1], seasonal.periods = var_freq, start=var_start_year + i/var_allornot+1/var_freq*(var_window+1)-1), series=paste(\"Итерация\" , i, sep=\" \") ) \n",
    "    }else{\n",
    "            plot_forecasts  <-  plot_forecasts  + \n",
    "    autolayer(msts(l[[i]][,1], seasonal.periods = var_freq, start=var_start_year + i/var_allornot+1/var_freq*(var_window+1)-1-var_topup/var_freq), series=paste(\"Итерация\" , i, sep=\" \") ) \n",
    "\n",
    "        \n",
    "    }\n",
    "}\n",
    "\n",
    "plot_forecasts\n"
   ]
  },
  {
   "cell_type": "code",
   "execution_count": null,
   "metadata": {},
   "outputs": [],
   "source": [
    "colMeans(df_acc)"
   ]
  },
  {
   "cell_type": "code",
   "execution_count": null,
   "metadata": {},
   "outputs": [],
   "source": [
    "# df_mean_acc <- readRDS(\"df_mean_acc.rds\")\n",
    "# rownames(df_mean_acc)[2:5]  <-  c('3 level', '2 level (state)', '2 level (type)' ,'2 level (clusetered)' )"
   ]
  },
  {
   "cell_type": "code",
   "execution_count": null,
   "metadata": {},
   "outputs": [],
   "source": [
    "df_mean_acc[3,3]  <-  colMeans(df_acc)[[2]] \n",
    "df_mean_acc"
   ]
  },
  {
   "cell_type": "code",
   "execution_count": null,
   "metadata": {
    "scrolled": false
   },
   "outputs": [],
   "source": [
    "# Basic line plot with points\n",
    "\n",
    "# plots_test_all <- readRDS(\"plots_test_not_all.rds\")\n",
    "\n",
    "var_col_test  <-  'yellow'\n",
    "# var_col_train  <-  'red'\n",
    "\n",
    "for (i in 1:3) {\n",
    "    \n",
    "    k = i + 6\n",
    "    \n",
    "    if  (i==1) {\n",
    "        \n",
    "        plots_test_all[[k]]  <-  plots_test_all[[k]] + \n",
    "geom_line(aes(x=Iteration, y=ME), colour = var_col_test, data =  df_acc) \n",
    "    \n",
    "        } else if (i==2) { \n",
    "        plots_test_all[[k]]  <-  plots_test_all[[k]] + \n",
    "geom_line(aes(x=Iteration, y=RMSE), colour = var_col_test, data =  df_acc) \n",
    "        } else if (i==3)  {\n",
    "        plots_test_all[[k]]  <-  plots_test_all[[k]] + \n",
    "geom_line(aes(x=Iteration, y=MAPE), colour = var_col_test, data =  df_acc) \n",
    " \n",
    "    }        \n",
    "    }\n",
    "\n",
    "grid.arrange(grobs = plots_test_all, ncol = 3)"
   ]
  },
  {
   "cell_type": "markdown",
   "metadata": {},
   "source": [
    "#### 2 type"
   ]
  },
  {
   "cell_type": "code",
   "execution_count": null,
   "metadata": {},
   "outputs": [],
   "source": [
    "df_eu  <-  read.csv(file=\"hts_rus_summed_type.csv\", header=TRUE, sep=\",\", row.names =1 )\n",
    "# df_eu  <-  df_eu/1000\n"
   ]
  },
  {
   "cell_type": "code",
   "execution_count": null,
   "metadata": {},
   "outputs": [],
   "source": [
    "# var_allornot  <- var_freq\n",
    "var_allornot  <- 1\n",
    "# var_shift  <-  var_topup\n",
    "var_shift  <-  0"
   ]
  },
  {
   "cell_type": "code",
   "execution_count": null,
   "metadata": {},
   "outputs": [],
   "source": [
    "df_eu  <-  as.data.table(df_eu)\n",
    "data  <-  df_eu\n",
    "y  <-  hts(data)\n",
    "s  <-  smatrix(y)\n",
    "# gts_train  <- window(y, start=20, end=67)\n",
    "# gts_test  <- window(y, start=68, end=75)\n",
    "allts <- aggts(y)\n",
    "allf <- matrix(, nrow=var_h, ncol=ncol(allts))"
   ]
  },
  {
   "cell_type": "code",
   "execution_count": null,
   "metadata": {},
   "outputs": [],
   "source": [
    "l <- ac <- m_top  <- l_test  <-  l_top  <-  list()\n",
    "\n",
    "df_ac  <-  data.frame(matrix(ncol = 0, nrow = 0))\n",
    "\n",
    "k  <- 0\n",
    "\n",
    "for (i in 0:(var_iter*var_allornot - var_shift)){\n",
    "    k  <-  k+1\n",
    "    st_year  <-  var_start_year + i/var_allornot\n",
    "    train_start  <- st_year \n",
    "    train_end  <- st_year + 1/var_freq*(var_window)\n",
    "    test_start  <- st_year + 1/var_freq*(var_window+1) \n",
    "    test_end  <-  st_year + 1/var_freq*(var_window+var_h)\n",
    "    \n",
    "    dates  <-  (c(train_start, train_end, test_start, test_end, train_start-var_topup/var_freq, train_end-var_topup/var_freq, test_start-var_topup/var_freq)-var_start_year)*var_freq+1\n",
    "    \n",
    "    train_start  <- dates[1] \n",
    "    train_end  <- dates[2]\n",
    "    test_start  <- dates[3]\n",
    "    test_end  <- dates[4]\n",
    "    \n",
    "    print(c(train_start, train_end, test_start, test_end))\n",
    "    \n",
    "    \n",
    "    if (i == 0){\n",
    "        gts_train <- window(y, end=train_end)    \n",
    "    }\n",
    "    else{\n",
    "        if ((var_shift == 0) & (i == var_iter*var_allornot - var_shift)){\n",
    "            gts_train <- window(y, start=dates[5], end=dates[6])\n",
    "        }else{\n",
    "            gts_train <- window(y, start=train_start, end=train_end)\n",
    "    }}\n",
    "    \n",
    "    if ((var_shift == 0) & (i == var_iter*var_allornot - var_shift)){\n",
    "        gts_test <- window(y, start=dates[7])\n",
    "      \n",
    "    }else{  \n",
    "     gts_test <- window(y, start=test_start, end=test_end)\n",
    "          \n",
    "    }\n",
    "    \n",
    "    allts <- aggts(gts_train)\n",
    "    \n",
    "    t <- train_start:train_end\n",
    "    regressors <- cbind(trend=t,quad=t^2)\n",
    "    \n",
    "    ms <-  foreach(j=1:ncol(allts)) %dopar% {\n",
    "        model  <- tryCatch(        \n",
    "        Arima(msts(allts[,j], seasonal.periods = var_freq), order=var_arpdq,  include.mean = TRUE, xreg = regressors, method=\"ML\"), \n",
    "            error = function(e) \n",
    "                              {tryCatch( Arima(msts(allts[,j], seasonal.periods = var_freq), order=var_arpdq,  include.mean = TRUE, xreg = regressors, method=\"CSS\"),\n",
    "                         error = function(e)              \n",
    "                            auto.arima(msts(allts[,j], seasonal.periods = var_freq))\n",
    "                         )}\n",
    "                        \n",
    "            )\n",
    "        \n",
    "    }\n",
    "        \n",
    "    allf <- matrix(, nrow=var_h, ncol=ncol(allts))\n",
    "        \n",
    "    t_f <- test_start:test_end\n",
    "    regressors_f <- cbind(trend=t_f,quad=t_f^2) \n",
    "    \n",
    "    \n",
    "    \n",
    "    for(j in 1:ncol(allts)){  \n",
    "    allf[,j] <- tryCatch(        \n",
    "    { forecast(ms[[j]], h=var_h, xreg = regressors_f)$mean}, \n",
    "            error = function(e) \n",
    "        {rwf(allts[,j],h=var_h, drift=TRUE)$mean}\n",
    "    \n",
    "            )\n",
    "\n",
    "    \n",
    "    }\n",
    "\n",
    "    \n",
    "    allf <- ts(allf)\n",
    "    colnames(allf)  <-  colnames(allts)  \n",
    "    g <- get_nodes(gts_train)\n",
    "    y.f <- combinef(allf, nodes = g)\n",
    "    forecasts_7  <- y.f[[1]]\n",
    "    colnames(forecasts_7)  <- colnames(y[[1]])\n",
    "    data_f5  <- rbind(gts_train[[1]], forecasts_7)\n",
    "    y_f5  <- hts(data_f5)\n",
    "        \n",
    "#     if (i == 4){\n",
    "#         gts_forecasts_7 <- window(y_f5, start=test_start)}\n",
    "#     else{\n",
    "#     gts_forecasts_7 <- window(y_f5, start=test_start, end=test_end)\n",
    "# #     }\n",
    "\n",
    "#     if ((var_shift == 0) & (i == var_iter*var_allornot - var_shift)){\n",
    "#         gts_forecasts_7 <- window(y_f5, start=dates[7])\n",
    "      \n",
    "#     }else{  \n",
    "     gts_forecasts_7 <- window(y_f5, start=dim(y_f5[[1]])[1]-var_h+1)\n",
    "          \n",
    "#     }\n",
    "\n",
    "            \n",
    "            \n",
    "    print(gts_forecasts_7)\n",
    "    print(gts_test)\n",
    "            \n",
    "    \n",
    "    l[[k]]  <- allf\n",
    "\n",
    "    ac[[k]]  <-  accuracy.gts(gts_forecasts_7, gts_test)[, 1] \n",
    "\n",
    "    progress(i, progress.bar = TRUE)\n",
    "            \n",
    "    }"
   ]
  },
  {
   "cell_type": "code",
   "execution_count": null,
   "metadata": {},
   "outputs": [],
   "source": [
    "var_acc_metrics  <-  c(1,2,4)\n",
    "df_acc_test  <- ac[[1]][var_acc_metrics]\n",
    "for (i in ac[2:length(ac)]){\n",
    "    x  <-  i[var_acc_metrics]\n",
    "    df_acc_test   <-  cbind(df_acc_test, x)\n",
    "}\n",
    "df_acc_test  <- t(df_acc_test)\n",
    "df_acc_test  <-  as.data.frame(df_acc_test)\n",
    "row.names(df_acc_test)  <-  seq(1,length(ac))\n",
    "df_acc  <- df_acc_test\n",
    "df_acc  <-  cbind(df_acc, seq(1, length(ac)))\n",
    "colnames(df_acc)[length(var_acc_metrics)+1]  <-  'Iteration'"
   ]
  },
  {
   "cell_type": "code",
   "execution_count": null,
   "metadata": {},
   "outputs": [],
   "source": [
    "df_acc$Iteration  <-  df_acc$Iteration*var_freq-(var_freq-1)\n",
    "df_acc$Iteration[length(df_acc$Iteration)]  <-   df_acc$Iteration[length(df_acc$Iteration)] - var_topup"
   ]
  },
  {
   "cell_type": "code",
   "execution_count": null,
   "metadata": {},
   "outputs": [],
   "source": [
    "df_acc"
   ]
  },
  {
   "cell_type": "code",
   "execution_count": null,
   "metadata": {},
   "outputs": [],
   "source": [
    "l[[5]][,1]"
   ]
  },
  {
   "cell_type": "code",
   "execution_count": null,
   "metadata": {},
   "outputs": [],
   "source": [
    "plot_forecasts  <-  autoplot(window(gdp_agg, start=2010))+\n",
    "    xlab(\"Время\") + ylab('ВВП') +\n",
    "    ggtitle(\"AR(3)SAR(2) с линейным трендом\") +\n",
    "    guides(colour=guide_legend(title=\" \")) +\n",
    "    theme(aspect.ratio = 0.75)\n",
    "\n",
    "# for (i in 0:(var_iter*var_allornot - var_shift)){\n",
    "#     k  <-  k+1\n",
    "#     st_year  <-  var_start_year + i/var_allornot\n",
    "#     train_start  <- st_year \n",
    "#     train_end  <- st_year + 1/var_freq*(var_window)\n",
    "#     test_start  <- st_year + 1/var_freq*(var_window+1) \n",
    "#     test_end  <-  st_year + 1/var_freq*(var_window+var_h)\n",
    "    \n",
    "#     dates  <-  (c(train_start, train_end, test_start, test_end, train_start-var_topup/var_freq, train_end-var_topup/var_freq, test_start-var_topup/var_freq)-var_start_year)*var_freq+1\n",
    "\n",
    "    \n",
    "\n",
    "for (i in 1:length(l)){\n",
    "    if (i!=length(l)){\n",
    "    plot_forecasts  <-  plot_forecasts  + \n",
    "    autolayer(msts(l[[i]][,1], seasonal.periods = var_freq, start=var_start_year + i/var_allornot+1/var_freq*(var_window+1)-1), series=paste(\"Итерация\" , i, sep=\" \") ) \n",
    "    }else{\n",
    "            plot_forecasts  <-  plot_forecasts  + \n",
    "    autolayer(msts(l[[i]][,1], seasonal.periods = var_freq, start=var_start_year + i/var_allornot+1/var_freq*(var_window+1)-1-var_topup/var_freq), series=paste(\"Итерация\" , i, sep=\" \") ) \n",
    "\n",
    "        \n",
    "    }\n",
    "}\n",
    "\n",
    "plot_forecasts\n"
   ]
  },
  {
   "cell_type": "code",
   "execution_count": null,
   "metadata": {},
   "outputs": [],
   "source": [
    "colMeans(df_acc)"
   ]
  },
  {
   "cell_type": "code",
   "execution_count": null,
   "metadata": {},
   "outputs": [],
   "source": [
    "# df_mean_acc <- readRDS(\"df_mean_acc.rds\")\n",
    "# rownames(df_mean_acc)[2:5]  <-  c('3 level', '2 level (state)', '2 level (type)' ,'2 level (clusetered)' )"
   ]
  },
  {
   "cell_type": "code",
   "execution_count": null,
   "metadata": {},
   "outputs": [],
   "source": [
    "df_mean_acc"
   ]
  },
  {
   "cell_type": "code",
   "execution_count": null,
   "metadata": {},
   "outputs": [],
   "source": [
    "df_mean_acc[4,3]  <-  colMeans(df_acc)[[2]] \n",
    "df_mean_acc"
   ]
  },
  {
   "cell_type": "code",
   "execution_count": null,
   "metadata": {
    "scrolled": false
   },
   "outputs": [],
   "source": [
    "# Basic line plot with points\n",
    "\n",
    "# plots_test_all <- readRDS(\"plots_test_not_all.rds\")\n",
    "\n",
    "var_col_test  <-  'green'\n",
    "# var_col_train  <-  'red'\n",
    "\n",
    "for (i in 1:3) {\n",
    "    \n",
    "    k = i + 6\n",
    "    \n",
    "    if  (i==1) {\n",
    "        \n",
    "        plots_test_all[[k]]  <-  plots_test_all[[k]] + \n",
    "geom_line(aes(x=Iteration, y=ME), colour = var_col_test, data =  df_acc) \n",
    "    \n",
    "        } else if (i==2) { \n",
    "        plots_test_all[[k]]  <-  plots_test_all[[k]] + \n",
    "geom_line(aes(x=Iteration, y=RMSE), colour = var_col_test, data =  df_acc) \n",
    "        } else if (i==3)  {\n",
    "        plots_test_all[[k]]  <-  plots_test_all[[k]] + \n",
    "geom_line(aes(x=Iteration, y=MAPE), colour = var_col_test, data =  df_acc) \n",
    " \n",
    "    }        \n",
    "    }\n",
    "\n",
    "grid.arrange(grobs = plots_test_all, ncol = 3)"
   ]
  },
  {
   "cell_type": "markdown",
   "metadata": {},
   "source": [
    "#### 2 clust"
   ]
  },
  {
   "cell_type": "code",
   "execution_count": null,
   "metadata": {},
   "outputs": [],
   "source": [
    "df_eu  <-  read.csv(file=\"hts_rus_summed_clust.csv\", header=TRUE, sep=\",\", row.names =1 )\n",
    "# df_eu  <-  df_eu/1000\n"
   ]
  },
  {
   "cell_type": "code",
   "execution_count": null,
   "metadata": {},
   "outputs": [],
   "source": [
    "# var_allornot  <- var_freq\n",
    "var_allornot  <- 1\n",
    "# var_shift  <-  var_topup\n",
    "var_shift  <-  0"
   ]
  },
  {
   "cell_type": "code",
   "execution_count": null,
   "metadata": {},
   "outputs": [],
   "source": [
    "df_eu  <-  as.data.table(df_eu)\n",
    "data  <-  df_eu\n",
    "y  <-  hts(data)\n",
    "s  <-  smatrix(y)\n",
    "# gts_train  <- window(y, start=20, end=67)\n",
    "# gts_test  <- window(y, start=68, end=75)\n",
    "allts <- aggts(y)\n",
    "allf <- matrix(, nrow=var_h, ncol=ncol(allts))"
   ]
  },
  {
   "cell_type": "code",
   "execution_count": null,
   "metadata": {},
   "outputs": [],
   "source": [
    "l <- ac <- m_top  <- l_test  <-  l_top  <-  list()\n",
    "\n",
    "df_ac  <-  data.frame(matrix(ncol = 0, nrow = 0))\n",
    "\n",
    "k  <- 0\n",
    "\n",
    "for (i in 0:(var_iter*var_allornot - var_shift)){\n",
    "    k  <-  k+1\n",
    "    st_year  <-  var_start_year + i/var_allornot\n",
    "    train_start  <- st_year \n",
    "    train_end  <- st_year + 1/var_freq*(var_window)\n",
    "    test_start  <- st_year + 1/var_freq*(var_window+1) \n",
    "    test_end  <-  st_year + 1/var_freq*(var_window+var_h)\n",
    "    \n",
    "    dates  <-  (c(train_start, train_end, test_start, test_end, train_start-var_topup/var_freq, train_end-var_topup/var_freq, test_start-var_topup/var_freq)-var_start_year)*var_freq+1\n",
    "    \n",
    "    train_start  <- dates[1] \n",
    "    train_end  <- dates[2]\n",
    "    test_start  <- dates[3]\n",
    "    test_end  <- dates[4]\n",
    "    \n",
    "    print(c(train_start, train_end, test_start, test_end))\n",
    "    \n",
    "    \n",
    "    if (i == 0){\n",
    "        gts_train <- window(y, end=train_end)    \n",
    "    }\n",
    "    else{\n",
    "        if ((var_shift == 0) & (i == var_iter*var_allornot - var_shift)){\n",
    "            gts_train <- window(y, start=dates[5], end=dates[6])\n",
    "        }else{\n",
    "            gts_train <- window(y, start=train_start, end=train_end)\n",
    "    }}\n",
    "    \n",
    "    if ((var_shift == 0) & (i == var_iter*var_allornot - var_shift)){\n",
    "        gts_test <- window(y, start=dates[7])\n",
    "      \n",
    "    }else{  \n",
    "     gts_test <- window(y, start=test_start, end=test_end)\n",
    "          \n",
    "    }\n",
    "    \n",
    "    allts <- aggts(gts_train)\n",
    "    \n",
    "    t <- train_start:train_end\n",
    "    regressors <- cbind(trend=t,quad=t^2)\n",
    "    \n",
    "    ms <-  foreach(j=1:ncol(allts)) %dopar% {\n",
    "        model  <- tryCatch(        \n",
    "        Arima(msts(allts[,j], seasonal.periods = var_freq), order=var_arpdq,  include.mean = TRUE, xreg = regressors, method=\"ML\"), \n",
    "            error = function(e) \n",
    "                              {tryCatch( Arima(msts(allts[,j], seasonal.periods = var_freq), order=var_arpdq,  include.mean = TRUE, xreg = regressors, method=\"CSS\"),\n",
    "                         error = function(e)              \n",
    "                            auto.arima(msts(allts[,j], seasonal.periods = var_freq))\n",
    "                         )}\n",
    "                        \n",
    "            )\n",
    "        \n",
    "    }\n",
    "        \n",
    "    allf <- matrix(, nrow=var_h, ncol=ncol(allts))\n",
    "        \n",
    "    t_f <- test_start:test_end\n",
    "    regressors_f <- cbind(trend=t_f,quad=t_f^2) \n",
    "    \n",
    "    \n",
    "    \n",
    "    for(j in 1:ncol(allts)){  \n",
    "    allf[,j] <- tryCatch(        \n",
    "    { forecast(ms[[j]], h=var_h, xreg = regressors_f)$mean}, \n",
    "            error = function(e) \n",
    "        {rwf(allts[,j],h=var_h, drift=TRUE)$mean}\n",
    "    \n",
    "            )\n",
    "\n",
    "    \n",
    "    }\n",
    "\n",
    "    \n",
    "    allf <- ts(allf)\n",
    "    colnames(allf)  <-  colnames(allts)  \n",
    "    g <- get_nodes(gts_train)\n",
    "    y.f <- combinef(allf, nodes = g)\n",
    "    forecasts_7  <- y.f[[1]]\n",
    "    colnames(forecasts_7)  <- colnames(y[[1]])\n",
    "    data_f5  <- rbind(gts_train[[1]], forecasts_7)\n",
    "    y_f5  <- hts(data_f5)\n",
    "        \n",
    "#     if (i == 4){\n",
    "#         gts_forecasts_7 <- window(y_f5, start=test_start)}\n",
    "#     else{\n",
    "#     gts_forecasts_7 <- window(y_f5, start=test_start, end=test_end)\n",
    "# #     }\n",
    "\n",
    "#     if ((var_shift == 0) & (i == var_iter*var_allornot - var_shift)){\n",
    "#         gts_forecasts_7 <- window(y_f5, start=dates[7])\n",
    "      \n",
    "#     }else{  \n",
    "     gts_forecasts_7 <- window(y_f5, start=dim(y_f5[[1]])[1]-var_h+1)\n",
    "          \n",
    "#     }\n",
    "\n",
    "            \n",
    "            \n",
    "    print(gts_forecasts_7)\n",
    "    print(gts_test)\n",
    "            \n",
    "    \n",
    "    l[[k]]  <- allf\n",
    "\n",
    "    ac[[k]]  <-  accuracy.gts(gts_forecasts_7, gts_test)[, 1] \n",
    "\n",
    "    progress(i, progress.bar = TRUE)\n",
    "            \n",
    "    }"
   ]
  },
  {
   "cell_type": "code",
   "execution_count": null,
   "metadata": {},
   "outputs": [],
   "source": [
    "var_acc_metrics  <-  c(1,2,4)\n",
    "df_acc_test  <- ac[[1]][var_acc_metrics]\n",
    "for (i in ac[2:length(ac)]){\n",
    "    x  <-  i[var_acc_metrics]\n",
    "    df_acc_test   <-  cbind(df_acc_test, x)\n",
    "}\n",
    "df_acc_test  <- t(df_acc_test)\n",
    "df_acc_test  <-  as.data.frame(df_acc_test)\n",
    "row.names(df_acc_test)  <-  seq(1,length(ac))\n",
    "df_acc  <- df_acc_test\n",
    "df_acc  <-  cbind(df_acc, seq(1, length(ac)))\n",
    "colnames(df_acc)[length(var_acc_metrics)+1]  <-  'Iteration'"
   ]
  },
  {
   "cell_type": "code",
   "execution_count": null,
   "metadata": {},
   "outputs": [],
   "source": [
    "df_acc$Iteration  <-  df_acc$Iteration*var_freq-(var_freq-1)\n",
    "df_acc$Iteration[length(df_acc$Iteration)]  <-   df_acc$Iteration[length(df_acc$Iteration)] - var_topup"
   ]
  },
  {
   "cell_type": "code",
   "execution_count": null,
   "metadata": {},
   "outputs": [],
   "source": [
    "df_acc"
   ]
  },
  {
   "cell_type": "code",
   "execution_count": null,
   "metadata": {},
   "outputs": [],
   "source": [
    "l[[5]][,1]"
   ]
  },
  {
   "cell_type": "code",
   "execution_count": null,
   "metadata": {},
   "outputs": [],
   "source": [
    "plot_forecasts  <-  autoplot(window(gdp_agg, start=2010))+\n",
    "    xlab(\"Время\") + ylab('ВВП') +\n",
    "    ggtitle(\"AR(3)SAR(2) с линейным трендом\") +\n",
    "    guides(colour=guide_legend(title=\" \")) +\n",
    "    theme(aspect.ratio = 0.75)\n",
    "\n",
    "# for (i in 0:(var_iter*var_allornot - var_shift)){\n",
    "#     k  <-  k+1\n",
    "#     st_year  <-  var_start_year + i/var_allornot\n",
    "#     train_start  <- st_year \n",
    "#     train_end  <- st_year + 1/var_freq*(var_window)\n",
    "#     test_start  <- st_year + 1/var_freq*(var_window+1) \n",
    "#     test_end  <-  st_year + 1/var_freq*(var_window+var_h)\n",
    "    \n",
    "#     dates  <-  (c(train_start, train_end, test_start, test_end, train_start-var_topup/var_freq, train_end-var_topup/var_freq, test_start-var_topup/var_freq)-var_start_year)*var_freq+1\n",
    "\n",
    "    \n",
    "\n",
    "for (i in 1:length(l)){\n",
    "    if (i!=length(l)){\n",
    "    plot_forecasts  <-  plot_forecasts  + \n",
    "    autolayer(msts(l[[i]][,1], seasonal.periods = var_freq, start=var_start_year + i/var_allornot+1/var_freq*(var_window+1)-1), series=paste(\"Итерация\" , i, sep=\" \") ) \n",
    "    }else{\n",
    "            plot_forecasts  <-  plot_forecasts  + \n",
    "    autolayer(msts(l[[i]][,1], seasonal.periods = var_freq, start=var_start_year + i/var_allornot+1/var_freq*(var_window+1)-1-var_topup/var_freq), series=paste(\"Итерация\" , i, sep=\" \") ) \n",
    "\n",
    "        \n",
    "    }\n",
    "}\n",
    "\n",
    "plot_forecasts\n"
   ]
  },
  {
   "cell_type": "code",
   "execution_count": null,
   "metadata": {},
   "outputs": [],
   "source": [
    "colMeans(df_acc)"
   ]
  },
  {
   "cell_type": "code",
   "execution_count": null,
   "metadata": {},
   "outputs": [],
   "source": [
    "# df_mean_acc <- readRDS(\"df_mean_acc.rds\")\n",
    "# rownames(df_mean_acc)[2:5]  <-  c('3 level', '2 level (state)', '2 level (type)' ,'2 level (clusetered)' )"
   ]
  },
  {
   "cell_type": "code",
   "execution_count": null,
   "metadata": {},
   "outputs": [],
   "source": [
    "df_mean_acc"
   ]
  },
  {
   "cell_type": "code",
   "execution_count": 135,
   "metadata": {},
   "outputs": [
    {
     "data": {
      "text/html": [
       "<table>\n",
       "<thead><tr><th></th><th scope=col>AR(3)SAR(2)</th><th scope=col>AR(4)</th><th scope=col>AR(11)SAR(2)</th></tr></thead>\n",
       "<tbody>\n",
       "\t<tr><th scope=row>1 level</th><td>61.839556091108 </td><td>242.038512753   </td><td>8410.94107503333</td></tr>\n",
       "\t<tr><th scope=row>3 level</th><td>62.0596739605785</td><td>242.432632797146</td><td>9616.41574753439</td></tr>\n",
       "\t<tr><th scope=row>2 level (state)</th><td>62.0365866565657</td><td>241.696134642821</td><td>11173.0672424215</td></tr>\n",
       "\t<tr><th scope=row>2 level (type)</th><td>61.8934203477981</td><td>242.432733556294</td><td>11046.8137227099</td></tr>\n",
       "\t<tr><th scope=row>2 level (clusetered)</th><td>62.2035745560281</td><td>242.160670839515</td><td>11124.9501222341</td></tr>\n",
       "\t<tr><th scope=row>3 Weighted</th><td>61.8395575588501</td><td>NA              </td><td>NA              </td></tr>\n",
       "</tbody>\n",
       "</table>\n"
      ],
      "text/latex": [
       "\\begin{tabular}{r|lll}\n",
       "  & AR(3)SAR(2) & AR(4) & AR(11)SAR(2)\\\\\n",
       "\\hline\n",
       "\t1 level & 61.839556091108  & 242.038512753    & 8410.94107503333\\\\\n",
       "\t3 level & 62.0596739605785 & 242.432632797146 & 9616.41574753439\\\\\n",
       "\t2 level (state) & 62.0365866565657 & 241.696134642821 & 11173.0672424215\\\\\n",
       "\t2 level (type) & 61.8934203477981 & 242.432733556294 & 11046.8137227099\\\\\n",
       "\t2 level (clusetered) & 62.2035745560281 & 242.160670839515 & 11124.9501222341\\\\\n",
       "\t3 Weighted & 61.8395575588501 & NA               & NA              \\\\\n",
       "\\end{tabular}\n"
      ],
      "text/markdown": [
       "\n",
       "| <!--/--> | AR(3)SAR(2) | AR(4) | AR(11)SAR(2) | \n",
       "|---|---|---|---|---|---|\n",
       "| 1 level | 61.839556091108  | 242.038512753    | 8410.94107503333 | \n",
       "| 3 level | 62.0596739605785 | 242.432632797146 | 9616.41574753439 | \n",
       "| 2 level (state) | 62.0365866565657 | 241.696134642821 | 11173.0672424215 | \n",
       "| 2 level (type) | 61.8934203477981 | 242.432733556294 | 11046.8137227099 | \n",
       "| 2 level (clusetered) | 62.2035745560281 | 242.160670839515 | 11124.9501222341 | \n",
       "| 3 Weighted | 61.8395575588501 | NA               | NA               | \n",
       "\n",
       "\n"
      ],
      "text/plain": [
       "                     AR(3)SAR(2)      AR(4)            AR(11)SAR(2)    \n",
       "1 level              61.839556091108  242.038512753    8410.94107503333\n",
       "3 level              62.0596739605785 242.432632797146 9616.41574753439\n",
       "2 level (state)      62.0365866565657 241.696134642821 11173.0672424215\n",
       "2 level (type)       61.8934203477981 242.432733556294 11046.8137227099\n",
       "2 level (clusetered) 62.2035745560281 242.160670839515 11124.9501222341\n",
       "3 Weighted           61.8395575588501 NA               NA              "
      ]
     },
     "metadata": {},
     "output_type": "display_data"
    }
   ],
   "source": [
    "df_mean_acc[5,3]  <-  colMeans(df_acc)[[2]] \n",
    "df_mean_acc"
   ]
  },
  {
   "cell_type": "code",
   "execution_count": 136,
   "metadata": {
    "scrolled": false
   },
   "outputs": [
    {
     "data": {
      "image/png": "[encoded data removed]",
      "text/plain": [
       "plot without title"
      ]
     },
     "metadata": {},
     "output_type": "display_data"
    }
   ],
   "source": [
    "# Basic line plot with points\n",
    "\n",
    "# plots_test_all <- readRDS(\"plots_test_not_all.rds\")\n",
    "\n",
    "var_col_test  <-  'blue'\n",
    "# var_col_train  <-  'red'\n",
    "\n",
    "for (i in 1:3) {\n",
    "    \n",
    "    k = i + 6\n",
    "    \n",
    "    if  (i==1) {\n",
    "        \n",
    "        plots_test_all[[k]]  <-  plots_test_all[[k]] + \n",
    "geom_line(aes(x=Iteration, y=ME), colour = var_col_test, data =  df_acc) \n",
    "    \n",
    "        } else if (i==2) { \n",
    "        plots_test_all[[k]]  <-  plots_test_all[[k]] + \n",
    "geom_line(aes(x=Iteration, y=RMSE), colour = var_col_test, data =  df_acc) \n",
    "        } else if (i==3)  {\n",
    "        plots_test_all[[k]]  <-  plots_test_all[[k]] + \n",
    "geom_line(aes(x=Iteration, y=MAPE), colour = var_col_test, data =  df_acc) \n",
    " \n",
    "    }        \n",
    "    }\n",
    "\n",
    "grid.arrange(grobs = plots_test_all, ncol = 3)"
   ]
  },
  {
   "cell_type": "code",
   "execution_count": 137,
   "metadata": {},
   "outputs": [],
   "source": [
    "saveRDS(df_mean_acc, \"df_mean_acc.rds\")\n",
    "saveRDS(plots_test_all, \"plots_test_not_all.rds\")"
   ]
  },
  {
   "cell_type": "code",
   "execution_count": null,
   "metadata": {},
   "outputs": [],
   "source": []
  }
 ],
 "metadata": {
  "kernelspec": {
   "display_name": "R 3.5.1",
   "language": "R",
   "name": "ir"
  },
  "language_info": {
   "codemirror_mode": "r",
   "file_extension": ".r",
   "mimetype": "text/x-r-source",
   "name": "R",
   "pygments_lexer": "r",
   "version": "3.5.2"
  }
 },
 "nbformat": 4,
 "nbformat_minor": 2
}
