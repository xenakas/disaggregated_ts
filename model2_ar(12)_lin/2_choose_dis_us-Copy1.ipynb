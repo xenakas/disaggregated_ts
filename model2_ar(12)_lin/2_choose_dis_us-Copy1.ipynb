{
 "cells": [
  {
   "cell_type": "markdown",
   "metadata": {},
   "source": [
    "#### 2"
   ]
  },
  {
   "cell_type": "code",
   "execution_count": 1,
   "metadata": {
    "scrolled": false
   },
   "outputs": [
    {
     "name": "stderr",
     "output_type": "stream",
     "text": [
      "\n",
      "Attaching package: ‘dplyr’\n",
      "\n",
      "The following objects are masked from ‘package:stats’:\n",
      "\n",
      "    filter, lag\n",
      "\n",
      "The following objects are masked from ‘package:base’:\n",
      "\n",
      "    intersect, setdiff, setequal, union\n",
      "\n",
      "\n",
      "Attaching package: ‘gridExtra’\n",
      "\n",
      "The following object is masked from ‘package:dplyr’:\n",
      "\n",
      "    combine\n",
      "\n"
     ]
    }
   ],
   "source": [
    "library(forecast)\n",
    "library(ggplot2)\n",
    "library(dplyr)\n",
    "library(gridExtra)"
   ]
  },
  {
   "cell_type": "code",
   "execution_count": 2,
   "metadata": {},
   "outputs": [
    {
     "name": "stderr",
     "output_type": "stream",
     "text": [
      "Loading required package: foreach\n",
      "Loading required package: iterators\n",
      "Loading required package: parallel\n",
      "Loading required package: svMisc\n",
      "\n",
      "Attaching package: ‘svMisc’\n",
      "\n",
      "The following object is masked from ‘package:utils’:\n",
      "\n",
      "    ?\n",
      "\n"
     ]
    }
   ],
   "source": [
    "# library(doParallel)\n",
    "library(doMC)\n",
    "options(cores = 10)\n",
    "registerDoMC()\n",
    "require(svMisc)"
   ]
  },
  {
   "cell_type": "code",
   "execution_count": 3,
   "metadata": {},
   "outputs": [
    {
     "name": "stderr",
     "output_type": "stream",
     "text": [
      "\n",
      "Attaching package: ‘data.table’\n",
      "\n",
      "The following objects are masked from ‘package:dplyr’:\n",
      "\n",
      "    between, first, last\n",
      "\n"
     ]
    }
   ],
   "source": [
    "library(data.table)\n",
    "library(hts)  "
   ]
  },
  {
   "cell_type": "code",
   "execution_count": 4,
   "metadata": {},
   "outputs": [],
   "source": [
    "df_eu  <-  read.csv(file=\"../data_hts/hts_us_ind_filled.csv\", header=TRUE, sep=\",\", row.names =1 )\n",
    "df_eu  <-  df_eu/1000\n",
    "var_freq  <- 4    \n",
    "var_start_year  <- 2005   \n",
    "gdp_agg <- df_eu_sums <-  rowSums(df_eu)\n",
    "gdp_agg  <- ts(gdp_agg, frequency = var_freq, start = var_start_year) "
   ]
  },
  {
   "cell_type": "code",
   "execution_count": 5,
   "metadata": {},
   "outputs": [],
   "source": [
    "var_h  <- 8\n",
    "var_window  <-  28 - 1\n",
    "var_topup  <-  2\n",
    "var_iter   <- (length(gdp_agg)+var_topup)/var_freq-(var_window+1)/var_freq-2"
   ]
  },
  {
   "cell_type": "code",
   "execution_count": 6,
   "metadata": {},
   "outputs": [],
   "source": [
    "# var_allornot  <- var_freq\n",
    "var_allornot  <- 1\n",
    "# var_shift  <-  var_topup\n",
    "var_shift  <-  0\n",
    "\n",
    "var_arpdq   <-  c(4,0,0)\n",
    "var_sarpdq   <-  c(0,0,0)\n",
    "var_drift   <-  TRUE\n",
    "var_constant   <-  TRUE\n",
    "var_char  <-  c(2,3)"
   ]
  },
  {
   "cell_type": "code",
   "execution_count": 7,
   "metadata": {},
   "outputs": [
    {
     "data": {
      "text/html": [
       "51"
      ],
      "text/latex": [
       "51"
      ],
      "text/markdown": [
       "51"
      ],
      "text/plain": [
       "[1] 51"
      ]
     },
     "metadata": {},
     "output_type": "display_data"
    }
   ],
   "source": [
    "var_countries  <-  dim(read.csv(file=\"../clustering/hts_us_ind_filled_state.csv\", header=TRUE, sep=\",\", row.names =1 ))[2]+1\n",
    "var_countries\n"
   ]
  },
  {
   "cell_type": "code",
   "execution_count": 8,
   "metadata": {},
   "outputs": [],
   "source": [
    "df_eu  <-  as.data.table(df_eu)\n",
    "data  <-  df_eu\n",
    "y  <-  hts(data, characters = var_char)\n",
    "s  <-  smatrix(y)\n",
    "# gts_train  <- window(y, start=19, end=46)\n",
    "# gts_test  <- window(y, start=47, end=54)\n",
    "# allts <- aggts(gts_train)\n",
    "# allf <- matrix(, nrow=var_h, ncol=ncol(allts))"
   ]
  },
  {
   "cell_type": "code",
   "execution_count": 9,
   "metadata": {},
   "outputs": [
    {
     "name": "stdout",
     "output_type": "stream",
     "text": [
      "[1]  1 28 29 36\n",
      "Hierarchical Time Series \n",
      "3 Levels \n",
      "Number of nodes at each level: 1 50 1046 \n",
      "Total number of series: 1097 \n",
      "Number of observations per series: 8 \n",
      "Top level series: \n",
      "Time Series:\n",
      "Start = 29 \n",
      "End = 36 \n",
      "Frequency = 1 \n",
      "[1] 15830.30 15832.37 15833.77 15809.82 15789.18 15789.84 15786.80 15806.47\n",
      "Hierarchical Time Series \n",
      "3 Levels \n",
      "Number of nodes at each level: 1 50 1046 \n",
      "Total number of series: 1097 \n",
      "Number of observations per series: 8 \n",
      "Top level series: \n",
      "Time Series:\n",
      "Start = 29 \n",
      "End = 36 \n",
      "Frequency = 1 \n",
      "[1] 15927.61 15976.18 15983.30 15994.87 16128.30 16136.38 16254.91 16372.60\n",
      "          0%---------25%---------50%---------75%--------100%\n",
      "Progress: [1]  5 32 33 40\n",
      "Hierarchical Time Series \n",
      "3 Levels \n",
      "Number of nodes at each level: 1 50 1046 \n",
      "Total number of series: 1097 \n",
      "Number of observations per series: 8 \n",
      "Top level series: \n",
      "Time Series:\n",
      "Start = 29 \n",
      "End = 36 \n",
      "Frequency = 1 \n",
      "[1] 15956.91 15936.50 15913.20 15892.81 15888.91 15886.47 15897.32 15914.03\n",
      "Hierarchical Time Series \n",
      "3 Levels \n",
      "Number of nodes at each level: 1 50 1046 \n",
      "Total number of series: 1097 \n",
      "Number of observations per series: 8 \n",
      "Top level series: \n",
      "Time Series:\n",
      "Start = 33 \n",
      "End = 40 \n",
      "Frequency = 1 \n",
      "[1] 16128.30 16136.38 16254.91 16372.60 16316.98 16522.48 16733.98 16809.04\n",
      "[1]  9 36 37 44\n",
      "Hierarchical Time Series \n",
      "3 Levels \n",
      "Number of nodes at each level: 1 50 1046 \n",
      "Total number of series: 1097 \n",
      "Number of observations per series: 8 \n",
      "Top level series: \n",
      "Time Series:\n",
      "Start = 29 \n",
      "End = 36 \n",
      "Frequency = 1 \n",
      "[1] 16376.76 16369.78 16375.19 16350.02 16336.34 16339.83 16347.29 16361.42\n",
      "Hierarchical Time Series \n",
      "3 Levels \n",
      "Number of nodes at each level: 1 50 1046 \n",
      "Total number of series: 1097 \n",
      "Number of observations per series: 8 \n",
      "Top level series: \n",
      "Time Series:\n",
      "Start = 37 \n",
      "End = 44 \n",
      "Frequency = 1 \n",
      "[1] 16316.98 16522.48 16733.98 16809.04 16949.40 17070.24 17129.69 17147.05\n",
      "|[1] 13 40 41 48\n",
      "Hierarchical Time Series \n",
      "3 Levels \n",
      "Number of nodes at each level: 1 50 1046 \n",
      "Total number of series: 1097 \n",
      "Number of observations per series: 8 \n",
      "Top level series: \n",
      "Time Series:\n",
      "Start = 29 \n",
      "End = 36 \n",
      "Frequency = 1 \n",
      "[1] 16852.25 16856.03 16851.90 16858.74 16870.61 16897.85 16936.92 16985.48\n",
      "Hierarchical Time Series \n",
      "3 Levels \n",
      "Number of nodes at each level: 1 50 1046 \n",
      "Total number of series: 1097 \n",
      "Number of observations per series: 8 \n",
      "Top level series: \n",
      "Time Series:\n",
      "Start = 41 \n",
      "End = 48 \n",
      "Frequency = 1 \n",
      "[1] 16949.40 17070.24 17129.69 17147.05 17237.31 17306.78 17369.38 17427.95\n",
      "|[1] 17 44 45 52\n",
      "Hierarchical Time Series \n",
      "3 Levels \n",
      "Number of nodes at each level: 1 50 1046 \n",
      "Total number of series: 1097 \n",
      "Number of observations per series: 8 \n",
      "Top level series: \n",
      "Time Series:\n",
      "Start = 29 \n",
      "End = 36 \n",
      "Frequency = 1 \n",
      "[1] 17187.37 17227.49 17287.38 17356.55 17417.26 17484.85 17551.37 17621.32\n",
      "Hierarchical Time Series \n",
      "3 Levels \n",
      "Number of nodes at each level: 1 50 1046 \n",
      "Total number of series: 1097 \n",
      "Number of observations per series: 8 \n",
      "Top level series: \n",
      "Time Series:\n",
      "Start = 45 \n",
      "End = 52 \n",
      "Frequency = 1 \n",
      "[1] 17237.31 17306.78 17369.38 17427.95 17501.51 17637.46 17757.34 17851.87\n",
      "[1] 21 48 49 56\n",
      "Hierarchical Time Series \n",
      "3 Levels \n",
      "Number of nodes at each level: 1 50 1046 \n",
      "Total number of series: 1097 \n",
      "Number of observations per series: 8 \n",
      "Top level series: \n",
      "Time Series:\n",
      "Start = 29 \n",
      "End = 36 \n",
      "Frequency = 1 \n",
      "[1] 17366.12 17455.47 17543.98 17622.80 17709.93 17784.69 17855.93 17931.29\n",
      "Hierarchical Time Series \n",
      "3 Levels \n",
      "Number of nodes at each level: 1 50 1046 \n",
      "Total number of series: 1097 \n",
      "Number of observations per series: 8 \n",
      "Top level series: \n",
      "Time Series:\n",
      "Start = 47 \n",
      "End = 54 \n",
      "Frequency = 1 \n",
      "[1] 17369.38 17427.95 17501.51 17637.46 17757.34 17851.87 17934.57 18122.00\n"
     ]
    }
   ],
   "source": [
    "l <- ac <- m_top  <- l_test  <-  l_top  <-  list()\n",
    "\n",
    "df_ac  <-  data.frame(matrix(ncol = 0, nrow = 0))\n",
    "\n",
    "k  <- 0\n",
    "\n",
    "for (i in 0:(var_iter*var_allornot - var_shift)){\n",
    "    k  <-  k+1\n",
    "    st_year  <-  var_start_year + i/var_allornot\n",
    "    train_start  <- st_year \n",
    "    train_end  <- st_year + 1/var_freq*(var_window)\n",
    "    test_start  <- st_year + 1/var_freq*(var_window+1) \n",
    "    test_end  <-  st_year + 1/var_freq*(var_window+var_h)\n",
    "    \n",
    "    dates  <-  (c(train_start, train_end, test_start, test_end, train_start-var_topup/var_freq, train_end-var_topup/var_freq, test_start-var_topup/var_freq)-var_start_year)*var_freq+1\n",
    "    \n",
    "    train_start  <- dates[1] \n",
    "    train_end  <- dates[2]\n",
    "    test_start  <- dates[3]\n",
    "    test_end  <- dates[4]\n",
    "    \n",
    "    print(c(train_start, train_end, test_start, test_end))\n",
    "    \n",
    "    \n",
    "    if (i == 0){\n",
    "        gts_train <- window(y, end=train_end)    \n",
    "    }\n",
    "    else{\n",
    "        if ((var_shift == 0) & (i == var_iter*var_allornot - var_shift)){\n",
    "            gts_train <- window(y, start=dates[5], end=dates[6])\n",
    "        }else{\n",
    "            gts_train <- window(y, start=train_start, end=train_end)\n",
    "    }}\n",
    "    \n",
    "    if ((var_shift == 0) & (i == var_iter*var_allornot - var_shift)){\n",
    "        gts_test <- window(y, start=dates[7])\n",
    "      \n",
    "    }else{  \n",
    "     gts_test <- window(y, start=test_start, end=test_end)\n",
    "          \n",
    "    }\n",
    "    \n",
    "    \n",
    "    \n",
    "    allts <- aggts(gts_train)\n",
    "    \n",
    "    ms <-  foreach(j=1:ncol(allts)) %dopar% {\n",
    "        model  <- tryCatch(        \n",
    "        Arima(msts(allts[,j], seasonal.periods = var_freq), order=var_arpdq, seasonal=var_sarpdq,  include.drift = var_drift, include.mean = var_constant, method=\"ML\"), \n",
    "            error = function(e) \n",
    "#                               {tryCatch( \n",
    "                Arima(msts(allts[,j], seasonal.periods = var_freq), order=var_arpdq, seasonal=var_sarpdq, include.drift = var_drift, include.mean = var_constant, method=\"CSS\") #,\n",
    "#                          error = function(e)              \n",
    "#                             auto.arima(msts(allts[,j], seasonal.periods = var_freq))\n",
    "#                          )}\n",
    "                        \n",
    "            )\n",
    "        \n",
    "    }\n",
    "    \n",
    "     \n",
    "        \n",
    "    allf <- matrix(, nrow=var_h, ncol=ncol(allts))\n",
    "        \n",
    "    \n",
    "    for(j in 1:ncol(allts)){  \n",
    "    allf[,j] <- forecast(ms[[j]], h=var_h)$mean\n",
    "    \n",
    "    \n",
    "    }\n",
    "\n",
    "    \n",
    "    allf <- ts(allf)\n",
    "    colnames(allf)  <-  colnames(allts)  \n",
    "    g <- get_nodes(gts_train)\n",
    "    y.f <- combinef(allf, nodes = g, weights = c(rep(0, var_countries), rep(1, (ncol(allts)-var_countries) )))\n",
    "    forecasts_7  <- y.f[[1]]\n",
    "    colnames(forecasts_7)  <- colnames(y[[1]])\n",
    "    data_f5  <- rbind(gts_train[[1]], forecasts_7)\n",
    "    y_f5  <- hts(data_f5, characters = var_char)\n",
    "        \n",
    "#     if (i == 4){\n",
    "#         gts_forecasts_7 <- window(y_f5, start=test_start)}\n",
    "#     else{\n",
    "#     gts_forecasts_7 <- window(y_f5, start=test_start, end=test_end)\n",
    "# #     }\n",
    "\n",
    "#     if ((var_shift == 0) & (i == var_iter*var_allornot - var_shift)){\n",
    "#         gts_forecasts_7 <- window(y_f5, start=dates[7])\n",
    "      \n",
    "#     }else{  \n",
    "     gts_forecasts_7 <- window(y_f5, start=dim(y_f5[[1]])[1]-var_h+1)\n",
    "          \n",
    "#     }\n",
    "         \n",
    "    print(gts_forecasts_7)\n",
    "    print(gts_test)\n",
    "            \n",
    "    \n",
    "    l[[k]]  <- allf\n",
    "\n",
    "    ac[[k]]  <-  accuracy.gts(gts_forecasts_7, gts_test)[, 1] \n",
    "\n",
    "    progress(i, progress.bar = TRUE)\n",
    "            \n",
    "    }"
   ]
  },
  {
   "cell_type": "code",
   "execution_count": 10,
   "metadata": {},
   "outputs": [],
   "source": [
    "var_acc_metrics  <-  c(1,2,4)\n",
    "df_acc_test  <- ac[[1]][var_acc_metrics]\n",
    "for (i in ac[2:length(ac)]){\n",
    "    x  <-  i[var_acc_metrics]\n",
    "    df_acc_test   <-  cbind(df_acc_test, x)\n",
    "}\n",
    "df_acc_test  <- t(df_acc_test)\n",
    "df_acc_test  <-  as.data.frame(df_acc_test)\n",
    "row.names(df_acc_test)  <-  seq(1,length(ac))\n",
    "df_acc  <- df_acc_test\n",
    "df_acc  <-  cbind(df_acc, seq(1, length(ac)))\n",
    "colnames(df_acc)[length(var_acc_metrics)+1]  <-  'Iteration'"
   ]
  },
  {
   "cell_type": "code",
   "execution_count": 11,
   "metadata": {},
   "outputs": [],
   "source": [
    "df_acc$Iteration  <-  df_acc$Iteration*var_freq-(var_freq-1)"
   ]
  },
  {
   "cell_type": "code",
   "execution_count": 12,
   "metadata": {},
   "outputs": [],
   "source": [
    "df_acc$Iteration[length(df_acc$Iteration)]  <-   df_acc$Iteration[length(df_acc$Iteration)] - var_topup"
   ]
  },
  {
   "cell_type": "code",
   "execution_count": 13,
   "metadata": {},
   "outputs": [
    {
     "data": {
      "text/html": [
       "<table>\n",
       "<thead><tr><th scope=col>ME</th><th scope=col>RMSE</th><th scope=col>MAPE</th><th scope=col>Iteration</th></tr></thead>\n",
       "<tbody>\n",
       "\t<tr><td>286.95237</td><td>328.15508</td><td>1.7739371</td><td> 1       </td></tr>\n",
       "\t<tr><td>498.56478</td><td>559.58448</td><td>3.0163947</td><td> 5       </td></tr>\n",
       "\t<tr><td>477.77995</td><td>559.57969</td><td>2.9013180</td><td> 9       </td></tr>\n",
       "\t<tr><td>316.00365</td><td>335.43116</td><td>1.8312523</td><td>13       </td></tr>\n",
       "\t<tr><td>119.50098</td><td>135.35480</td><td>0.6784573</td><td>17       </td></tr>\n",
       "\t<tr><td> 41.48273</td><td> 80.70339</td><td>0.3295724</td><td>19       </td></tr>\n",
       "</tbody>\n",
       "</table>\n"
      ],
      "text/latex": [
       "\\begin{tabular}{r|llll}\n",
       " ME & RMSE & MAPE & Iteration\\\\\n",
       "\\hline\n",
       "\t 286.95237 & 328.15508 & 1.7739371 &  1       \\\\\n",
       "\t 498.56478 & 559.58448 & 3.0163947 &  5       \\\\\n",
       "\t 477.77995 & 559.57969 & 2.9013180 &  9       \\\\\n",
       "\t 316.00365 & 335.43116 & 1.8312523 & 13       \\\\\n",
       "\t 119.50098 & 135.35480 & 0.6784573 & 17       \\\\\n",
       "\t  41.48273 &  80.70339 & 0.3295724 & 19       \\\\\n",
       "\\end{tabular}\n"
      ],
      "text/markdown": [
       "\n",
       "ME | RMSE | MAPE | Iteration | \n",
       "|---|---|---|---|---|---|\n",
       "| 286.95237 | 328.15508 | 1.7739371 |  1        | \n",
       "| 498.56478 | 559.58448 | 3.0163947 |  5        | \n",
       "| 477.77995 | 559.57969 | 2.9013180 |  9        | \n",
       "| 316.00365 | 335.43116 | 1.8312523 | 13        | \n",
       "| 119.50098 | 135.35480 | 0.6784573 | 17        | \n",
       "|  41.48273 |  80.70339 | 0.3295724 | 19        | \n",
       "\n",
       "\n"
      ],
      "text/plain": [
       "  ME        RMSE      MAPE      Iteration\n",
       "1 286.95237 328.15508 1.7739371  1       \n",
       "2 498.56478 559.58448 3.0163947  5       \n",
       "3 477.77995 559.57969 2.9013180  9       \n",
       "4 316.00365 335.43116 1.8312523 13       \n",
       "5 119.50098 135.35480 0.6784573 17       \n",
       "6  41.48273  80.70339 0.3295724 19       "
      ]
     },
     "metadata": {},
     "output_type": "display_data"
    }
   ],
   "source": [
    "df_acc"
   ]
  },
  {
   "cell_type": "code",
   "execution_count": 14,
   "metadata": {},
   "outputs": [
    {
     "data": {
      "text/html": [
       "<dl class=dl-horizontal>\n",
       "\t<dt>ME</dt>\n",
       "\t\t<dd>290.04741089676</dd>\n",
       "\t<dt>RMSE</dt>\n",
       "\t\t<dd>333.134766079266</dd>\n",
       "\t<dt>MAPE</dt>\n",
       "\t\t<dd>1.7551552998396</dd>\n",
       "\t<dt>Iteration</dt>\n",
       "\t\t<dd>10.6666666666667</dd>\n",
       "</dl>\n"
      ],
      "text/latex": [
       "\\begin{description*}\n",
       "\\item[ME] 290.04741089676\n",
       "\\item[RMSE] 333.134766079266\n",
       "\\item[MAPE] 1.7551552998396\n",
       "\\item[Iteration] 10.6666666666667\n",
       "\\end{description*}\n"
      ],
      "text/markdown": [
       "ME\n",
       ":   290.04741089676RMSE\n",
       ":   333.134766079266MAPE\n",
       ":   1.7551552998396Iteration\n",
       ":   10.6666666666667\n",
       "\n"
      ],
      "text/plain": [
       "        ME       RMSE       MAPE  Iteration \n",
       "290.047411 333.134766   1.755155  10.666667 "
      ]
     },
     "metadata": {},
     "output_type": "display_data"
    }
   ],
   "source": [
    "colMeans(df_acc)"
   ]
  },
  {
   "cell_type": "code",
   "execution_count": 16,
   "metadata": {},
   "outputs": [
    {
     "data": {
      "text/html": [
       "<table>\n",
       "<thead><tr><th></th><th scope=col>Квартальные</th><th scope=col>Сезонно сглаженные</th><th scope=col>Месячные</th></tr></thead>\n",
       "<tbody>\n",
       "\t<tr><th scope=row>1 level</th><td>61.83956</td><td>353.9334</td><td>14343.00</td></tr>\n",
       "\t<tr><th scope=row>3 level</th><td>70.87249</td><td>353.0963</td><td>15084.68</td></tr>\n",
       "\t<tr><th scope=row>2 level (state)</th><td>73.09368</td><td>353.1170</td><td>13590.31</td></tr>\n",
       "\t<tr><th scope=row>2 level (type)</th><td>62.65435</td><td>353.3872</td><td>12888.11</td></tr>\n",
       "\t<tr><th scope=row>2 level (clusetered)</th><td>73.67195</td><td>352.2130</td><td>13401.44</td></tr>\n",
       "</tbody>\n",
       "</table>\n"
      ],
      "text/latex": [
       "\\begin{tabular}{r|lll}\n",
       "  & Квартальные & Сезонно сглаженные & Месячные\\\\\n",
       "\\hline\n",
       "\t1 level & 61.83956 & 353.9334 & 14343.00\\\\\n",
       "\t3 level & 70.87249 & 353.0963 & 15084.68\\\\\n",
       "\t2 level (state) & 73.09368 & 353.1170 & 13590.31\\\\\n",
       "\t2 level (type) & 62.65435 & 353.3872 & 12888.11\\\\\n",
       "\t2 level (clusetered) & 73.67195 & 352.2130 & 13401.44\\\\\n",
       "\\end{tabular}\n"
      ],
      "text/markdown": [
       "\n",
       "| <!--/--> | Квартальные | Сезонно сглаженные | Месячные | \n",
       "|---|---|---|---|---|\n",
       "| 1 level | 61.83956 | 353.9334 | 14343.00 | \n",
       "| 3 level | 70.87249 | 353.0963 | 15084.68 | \n",
       "| 2 level (state) | 73.09368 | 353.1170 | 13590.31 | \n",
       "| 2 level (type) | 62.65435 | 353.3872 | 12888.11 | \n",
       "| 2 level (clusetered) | 73.67195 | 352.2130 | 13401.44 | \n",
       "\n",
       "\n"
      ],
      "text/plain": [
       "                     Квартальные Сезонно сглаженные Месячные\n",
       "1 level              61.83956    353.9334           14343.00\n",
       "3 level              70.87249    353.0963           15084.68\n",
       "2 level (state)      73.09368    353.1170           13590.31\n",
       "2 level (type)       62.65435    353.3872           12888.11\n",
       "2 level (clusetered) 73.67195    352.2130           13401.44"
      ]
     },
     "metadata": {},
     "output_type": "display_data"
    }
   ],
   "source": [
    "df_mean_acc <- readRDS(\"df_mean_acc_no_weights.rds\")\n",
    "# rownames(df_mean_acc)[2:5]  <-  c('3 level', '2 level (state)', '2 level (type)' ,'2 level (clusetered)' )\n",
    "df_mean_acc"
   ]
  },
  {
   "cell_type": "code",
   "execution_count": 17,
   "metadata": {},
   "outputs": [
    {
     "data": {
      "text/html": [
       "<table>\n",
       "<thead><tr><th></th><th scope=col>Квартальные</th><th scope=col>Сезонно сглаженные</th><th scope=col>Месячные</th></tr></thead>\n",
       "<tbody>\n",
       "\t<tr><th scope=row>1 level</th><td>61.83956</td><td>353.9334</td><td>14343.00</td></tr>\n",
       "\t<tr><th scope=row>3 level</th><td>70.87249</td><td>333.1348</td><td>15084.68</td></tr>\n",
       "\t<tr><th scope=row>2 level (state)</th><td>73.09368</td><td>353.1170</td><td>13590.31</td></tr>\n",
       "\t<tr><th scope=row>2 level (type)</th><td>62.65435</td><td>353.3872</td><td>12888.11</td></tr>\n",
       "\t<tr><th scope=row>2 level (clusetered)</th><td>73.67195</td><td>352.2130</td><td>13401.44</td></tr>\n",
       "</tbody>\n",
       "</table>\n"
      ],
      "text/latex": [
       "\\begin{tabular}{r|lll}\n",
       "  & Квартальные & Сезонно сглаженные & Месячные\\\\\n",
       "\\hline\n",
       "\t1 level & 61.83956 & 353.9334 & 14343.00\\\\\n",
       "\t3 level & 70.87249 & 333.1348 & 15084.68\\\\\n",
       "\t2 level (state) & 73.09368 & 353.1170 & 13590.31\\\\\n",
       "\t2 level (type) & 62.65435 & 353.3872 & 12888.11\\\\\n",
       "\t2 level (clusetered) & 73.67195 & 352.2130 & 13401.44\\\\\n",
       "\\end{tabular}\n"
      ],
      "text/markdown": [
       "\n",
       "| <!--/--> | Квартальные | Сезонно сглаженные | Месячные | \n",
       "|---|---|---|---|---|\n",
       "| 1 level | 61.83956 | 353.9334 | 14343.00 | \n",
       "| 3 level | 70.87249 | 333.1348 | 15084.68 | \n",
       "| 2 level (state) | 73.09368 | 353.1170 | 13590.31 | \n",
       "| 2 level (type) | 62.65435 | 353.3872 | 12888.11 | \n",
       "| 2 level (clusetered) | 73.67195 | 352.2130 | 13401.44 | \n",
       "\n",
       "\n"
      ],
      "text/plain": [
       "                     Квартальные Сезонно сглаженные Месячные\n",
       "1 level              61.83956    353.9334           14343.00\n",
       "3 level              70.87249    333.1348           15084.68\n",
       "2 level (state)      73.09368    353.1170           13590.31\n",
       "2 level (type)       62.65435    353.3872           12888.11\n",
       "2 level (clusetered) 73.67195    352.2130           13401.44"
      ]
     },
     "metadata": {},
     "output_type": "display_data"
    }
   ],
   "source": [
    "df_mean_acc[2,2]  <-  colMeans(df_acc)[[2]] \n",
    "df_mean_acc"
   ]
  },
  {
   "cell_type": "markdown",
   "metadata": {},
   "source": [
    "#### 2 state"
   ]
  },
  {
   "cell_type": "code",
   "execution_count": 18,
   "metadata": {},
   "outputs": [],
   "source": [
    "df_eu  <-  read.csv(file=\"../clustering/hts_us_ind_filled_state.csv\", header=TRUE, sep=\",\", row.names =1 )\n",
    "df_eu  <-  df_eu/1000\n"
   ]
  },
  {
   "cell_type": "code",
   "execution_count": 19,
   "metadata": {},
   "outputs": [],
   "source": [
    "# var_allornot  <- var_freq\n",
    "var_allornot  <- 1\n",
    "# var_shift  <-  var_topup\n",
    "var_shift  <-  0"
   ]
  },
  {
   "cell_type": "code",
   "execution_count": 20,
   "metadata": {},
   "outputs": [
    {
     "name": "stderr",
     "output_type": "stream",
     "text": [
      "Since argument characters are not specified, the default labelling system is used.\n"
     ]
    }
   ],
   "source": [
    "df_eu  <-  as.data.table(df_eu)\n",
    "data  <-  df_eu\n",
    "y  <-  hts(data)\n",
    "s  <-  smatrix(y)\n",
    "# gts_train  <- window(y, start=20, end=67)\n",
    "# gts_test  <- window(y, start=68, end=75)\n",
    "allts <- aggts(y)\n",
    "allf <- matrix(, nrow=var_h, ncol=ncol(allts))"
   ]
  },
  {
   "cell_type": "code",
   "execution_count": 21,
   "metadata": {},
   "outputs": [
    {
     "name": "stdout",
     "output_type": "stream",
     "text": [
      "[1]  1 28 29 36\n"
     ]
    },
    {
     "name": "stderr",
     "output_type": "stream",
     "text": [
      "Since argument characters are not specified, the default labelling system is used.\n"
     ]
    },
    {
     "name": "stdout",
     "output_type": "stream",
     "text": [
      "Hierarchical Time Series \n",
      "2 Levels \n",
      "Number of nodes at each level: 1 50 \n",
      "Total number of series: 51 \n",
      "Number of observations per series: 8 \n",
      "Top level series: \n",
      "Time Series:\n",
      "Start = 29 \n",
      "End = 36 \n",
      "Frequency = 1 \n",
      "[1] 15844.12 15872.70 15883.23 15869.42 15853.44 15846.74 15841.24 15848.90\n",
      "Hierarchical Time Series \n",
      "2 Levels \n",
      "Number of nodes at each level: 1 50 \n",
      "Total number of series: 51 \n",
      "Number of observations per series: 8 \n",
      "Top level series: \n",
      "Time Series:\n",
      "Start = 29 \n",
      "End = 36 \n",
      "Frequency = 1 \n",
      "[1] 15927.61 15976.18 15983.30 15994.87 16128.30 16136.38 16254.91 16372.60\n",
      "          0%---------25%---------50%---------75%--------100%\n",
      "Progress: [1]  5 32 33 40\n"
     ]
    },
    {
     "name": "stderr",
     "output_type": "stream",
     "text": [
      "Since argument characters are not specified, the default labelling system is used.\n"
     ]
    },
    {
     "name": "stdout",
     "output_type": "stream",
     "text": [
      "Hierarchical Time Series \n",
      "2 Levels \n",
      "Number of nodes at each level: 1 50 \n",
      "Total number of series: 51 \n",
      "Number of observations per series: 8 \n",
      "Top level series: \n",
      "Time Series:\n",
      "Start = 29 \n",
      "End = 36 \n",
      "Frequency = 1 \n",
      "[1] 15946.54 15912.79 15888.91 15862.67 15854.64 15856.42 15862.50 15879.29\n",
      "Hierarchical Time Series \n",
      "2 Levels \n",
      "Number of nodes at each level: 1 50 \n",
      "Total number of series: 51 \n",
      "Number of observations per series: 8 \n",
      "Top level series: \n",
      "Time Series:\n",
      "Start = 33 \n",
      "End = 40 \n",
      "Frequency = 1 \n",
      "[1] 16128.30 16136.38 16254.91 16372.60 16316.98 16522.48 16733.98 16809.04\n",
      "[1]  9 36 37 44\n"
     ]
    },
    {
     "name": "stderr",
     "output_type": "stream",
     "text": [
      "Since argument characters are not specified, the default labelling system is used.\n"
     ]
    },
    {
     "name": "stdout",
     "output_type": "stream",
     "text": [
      "Hierarchical Time Series \n",
      "2 Levels \n",
      "Number of nodes at each level: 1 50 \n",
      "Total number of series: 51 \n",
      "Number of observations per series: 8 \n",
      "Top level series: \n",
      "Time Series:\n",
      "Start = 29 \n",
      "End = 36 \n",
      "Frequency = 1 \n",
      "[1] 16396.19 16418.31 16433.61 16419.11 16414.84 16410.98 16407.77 16415.99\n",
      "Hierarchical Time Series \n",
      "2 Levels \n",
      "Number of nodes at each level: 1 50 \n",
      "Total number of series: 51 \n",
      "Number of observations per series: 8 \n",
      "Top level series: \n",
      "Time Series:\n",
      "Start = 37 \n",
      "End = 44 \n",
      "Frequency = 1 \n",
      "[1] 16316.98 16522.48 16733.98 16809.04 16949.40 17070.24 17129.69 17147.05\n",
      "|[1] 13 40 41 48\n"
     ]
    },
    {
     "name": "stderr",
     "output_type": "stream",
     "text": [
      "Since argument characters are not specified, the default labelling system is used.\n"
     ]
    },
    {
     "name": "stdout",
     "output_type": "stream",
     "text": [
      "Hierarchical Time Series \n",
      "2 Levels \n",
      "Number of nodes at each level: 1 50 \n",
      "Total number of series: 51 \n",
      "Number of observations per series: 8 \n",
      "Top level series: \n",
      "Time Series:\n",
      "Start = 29 \n",
      "End = 36 \n",
      "Frequency = 1 \n",
      "[1] 16853.63 16864.54 16847.58 16842.00 16854.79 16877.10 16914.02 16959.25\n",
      "Hierarchical Time Series \n",
      "2 Levels \n",
      "Number of nodes at each level: 1 50 \n",
      "Total number of series: 51 \n",
      "Number of observations per series: 8 \n",
      "Top level series: \n",
      "Time Series:\n",
      "Start = 41 \n",
      "End = 48 \n",
      "Frequency = 1 \n",
      "[1] 16949.40 17070.24 17129.69 17147.05 17237.31 17306.78 17369.38 17427.95\n",
      "|[1] 17 44 45 52\n"
     ]
    },
    {
     "name": "stderr",
     "output_type": "stream",
     "text": [
      "Since argument characters are not specified, the default labelling system is used.\n"
     ]
    },
    {
     "name": "stdout",
     "output_type": "stream",
     "text": [
      "Hierarchical Time Series \n",
      "2 Levels \n",
      "Number of nodes at each level: 1 50 \n",
      "Total number of series: 51 \n",
      "Number of observations per series: 8 \n",
      "Top level series: \n",
      "Time Series:\n",
      "Start = 29 \n",
      "End = 36 \n",
      "Frequency = 1 \n",
      "[1] 17214.46 17275.35 17334.18 17411.86 17481.02 17542.13 17607.62 17669.81\n",
      "Hierarchical Time Series \n",
      "2 Levels \n",
      "Number of nodes at each level: 1 50 \n",
      "Total number of series: 51 \n",
      "Number of observations per series: 8 \n",
      "Top level series: \n",
      "Time Series:\n",
      "Start = 45 \n",
      "End = 52 \n",
      "Frequency = 1 \n",
      "[1] 17237.31 17306.78 17369.38 17427.95 17501.51 17637.46 17757.34 17851.87\n",
      "[1] 21 48 49 56\n"
     ]
    },
    {
     "name": "stderr",
     "output_type": "stream",
     "text": [
      "Since argument characters are not specified, the default labelling system is used.\n"
     ]
    },
    {
     "name": "stdout",
     "output_type": "stream",
     "text": [
      "Hierarchical Time Series \n",
      "2 Levels \n",
      "Number of nodes at each level: 1 50 \n",
      "Total number of series: 51 \n",
      "Number of observations per series: 8 \n",
      "Top level series: \n",
      "Time Series:\n",
      "Start = 29 \n",
      "End = 36 \n",
      "Frequency = 1 \n",
      "[1] 17371.07 17488.04 17575.01 17655.64 17742.61 17808.91 17869.38 17939.56\n",
      "Hierarchical Time Series \n",
      "2 Levels \n",
      "Number of nodes at each level: 1 50 \n",
      "Total number of series: 51 \n",
      "Number of observations per series: 8 \n",
      "Top level series: \n",
      "Time Series:\n",
      "Start = 47 \n",
      "End = 54 \n",
      "Frequency = 1 \n",
      "[1] 17369.38 17427.95 17501.51 17637.46 17757.34 17851.87 17934.57 18122.00\n"
     ]
    }
   ],
   "source": [
    "l <- ac <- m_top  <- l_test  <-  l_top  <-  list()\n",
    "\n",
    "df_ac  <-  data.frame(matrix(ncol = 0, nrow = 0))\n",
    "\n",
    "k  <- 0\n",
    "\n",
    "for (i in 0:(var_iter*var_allornot - var_shift)){\n",
    "    k  <-  k+1\n",
    "    st_year  <-  var_start_year + i/var_allornot\n",
    "    train_start  <- st_year \n",
    "    train_end  <- st_year + 1/var_freq*(var_window)\n",
    "    test_start  <- st_year + 1/var_freq*(var_window+1) \n",
    "    test_end  <-  st_year + 1/var_freq*(var_window+var_h)\n",
    "    \n",
    "    dates  <-  (c(train_start, train_end, test_start, test_end, train_start-var_topup/var_freq, train_end-var_topup/var_freq, test_start-var_topup/var_freq)-var_start_year)*var_freq+1\n",
    "    \n",
    "    train_start  <- dates[1] \n",
    "    train_end  <- dates[2]\n",
    "    test_start  <- dates[3]\n",
    "    test_end  <- dates[4]\n",
    "    \n",
    "    print(c(train_start, train_end, test_start, test_end))\n",
    "    \n",
    "    \n",
    "    if (i == 0){\n",
    "        gts_train <- window(y, end=train_end)    \n",
    "    }\n",
    "    else{\n",
    "        if ((var_shift == 0) & (i == var_iter*var_allornot - var_shift)){\n",
    "            gts_train <- window(y, start=dates[5], end=dates[6])\n",
    "        }else{\n",
    "            gts_train <- window(y, start=train_start, end=train_end)\n",
    "    }}\n",
    "    \n",
    "    if ((var_shift == 0) & (i == var_iter*var_allornot - var_shift)){\n",
    "        gts_test <- window(y, start=dates[7])\n",
    "      \n",
    "    }else{  \n",
    "     gts_test <- window(y, start=test_start, end=test_end)\n",
    "          \n",
    "    }\n",
    "      \n",
    "    allts <- aggts(gts_train)\n",
    "    \n",
    "    \n",
    "    \n",
    "    ms <-  foreach(j=1:ncol(allts)) %dopar% {\n",
    "        model  <- tryCatch(        \n",
    "        Arima(msts(allts[,j], seasonal.periods = var_freq), order=var_arpdq, seasonal=var_sarpdq,  include.drift = var_drift, include.mean = var_constant,  method=\"ML\"), \n",
    "            error = function(e) \n",
    "#                               {tryCatch( \n",
    "                Arima(msts(allts[,j], seasonal.periods = var_freq), order=var_arpdq, seasonal=var_sarpdq, include.drift = var_drift, include.mean = var_constant,  method=\"CSS\") #,\n",
    "#                          error = function(e)              \n",
    "#                             auto.arima(msts(allts[,j], seasonal.periods = var_freq))\n",
    "#                          )}\n",
    "                        \n",
    "            )\n",
    "        \n",
    "    }\n",
    "    \n",
    "     \n",
    "        \n",
    "    allf <- matrix(, nrow=var_h, ncol=ncol(allts))\n",
    "        \n",
    "    \n",
    "    for(j in 1:ncol(allts)){  \n",
    "    allf[,j] <- forecast(ms[[j]], h=var_h)$mean\n",
    "    \n",
    "    \n",
    "    }\n",
    "\n",
    "    \n",
    "    allf <- ts(allf)\n",
    "    colnames(allf)  <-  colnames(allts)  \n",
    "    g <- get_nodes(gts_train)\n",
    "    y.f <- combinef(allf, nodes = g, weights = c(0,rep(1, dim(df_eu)[2])))\n",
    "    forecasts_7  <- y.f[[1]]\n",
    "    colnames(forecasts_7)  <- colnames(y[[1]])\n",
    "    data_f5  <- rbind(gts_train[[1]], forecasts_7)\n",
    "    y_f5  <- hts(data_f5)\n",
    "        \n",
    "#     if (i == 4){\n",
    "#         gts_forecasts_7 <- window(y_f5, start=test_start)}\n",
    "#     else{\n",
    "#     gts_forecasts_7 <- window(y_f5, start=test_start, end=test_end)\n",
    "# #     }\n",
    "\n",
    "#     if ((var_shift == 0) & (i == var_iter*var_allornot - var_shift)){\n",
    "#         gts_forecasts_7 <- window(y_f5, start=dates[7])\n",
    "      \n",
    "#     }else{  \n",
    "     gts_forecasts_7 <- window(y_f5, start=dim(y_f5[[1]])[1]-var_h+1)\n",
    "          \n",
    "#     }\n",
    "         \n",
    "    print(gts_forecasts_7)\n",
    "    print(gts_test)\n",
    "            \n",
    "    \n",
    "    l[[k]]  <- allf\n",
    "\n",
    "    ac[[k]]  <-  accuracy.gts(gts_forecasts_7, gts_test)[, 1] \n",
    "\n",
    "    progress(i, progress.bar = TRUE)\n",
    "        \n",
    "    }"
   ]
  },
  {
   "cell_type": "code",
   "execution_count": 22,
   "metadata": {},
   "outputs": [],
   "source": [
    "var_acc_metrics  <-  c(1,2,4)\n",
    "df_acc_test  <- ac[[1]][var_acc_metrics]\n",
    "for (i in ac[2:length(ac)]){\n",
    "    x  <-  i[var_acc_metrics]\n",
    "    df_acc_test   <-  cbind(df_acc_test, x)\n",
    "}\n",
    "df_acc_test  <- t(df_acc_test)\n",
    "df_acc_test  <-  as.data.frame(df_acc_test)\n",
    "row.names(df_acc_test)  <-  seq(1,length(ac))\n",
    "df_acc  <- df_acc_test\n",
    "df_acc  <-  cbind(df_acc, seq(1, length(ac)))\n",
    "colnames(df_acc)[length(var_acc_metrics)+1]  <-  'Iteration'"
   ]
  },
  {
   "cell_type": "code",
   "execution_count": 23,
   "metadata": {},
   "outputs": [],
   "source": [
    "df_acc$Iteration  <-  df_acc$Iteration*var_freq-(var_freq-1)\n",
    "df_acc$Iteration[length(df_acc$Iteration)]  <-   df_acc$Iteration[length(df_acc$Iteration)] - var_topup"
   ]
  },
  {
   "cell_type": "code",
   "execution_count": 24,
   "metadata": {},
   "outputs": [
    {
     "data": {
      "text/html": [
       "<table>\n",
       "<thead><tr><th scope=col>ME</th><th scope=col>RMSE</th><th scope=col>MAPE</th><th scope=col>Iteration</th></tr></thead>\n",
       "<tbody>\n",
       "\t<tr><td>239.29752</td><td>284.66298</td><td>1.4781394</td><td> 1       </td></tr>\n",
       "\t<tr><td>526.36333</td><td>587.18704</td><td>3.1853192</td><td> 5       </td></tr>\n",
       "\t<tr><td>420.25626</td><td>504.40399</td><td>2.5905510</td><td> 9       </td></tr>\n",
       "\t<tr><td>328.11024</td><td>350.37487</td><td>1.9010985</td><td>13       </td></tr>\n",
       "\t<tr><td> 69.14498</td><td> 92.24624</td><td>0.3912052</td><td>17       </td></tr>\n",
       "\t<tr><td> 18.98181</td><td> 78.21705</td><td>0.3214253</td><td>19       </td></tr>\n",
       "</tbody>\n",
       "</table>\n"
      ],
      "text/latex": [
       "\\begin{tabular}{r|llll}\n",
       " ME & RMSE & MAPE & Iteration\\\\\n",
       "\\hline\n",
       "\t 239.29752 & 284.66298 & 1.4781394 &  1       \\\\\n",
       "\t 526.36333 & 587.18704 & 3.1853192 &  5       \\\\\n",
       "\t 420.25626 & 504.40399 & 2.5905510 &  9       \\\\\n",
       "\t 328.11024 & 350.37487 & 1.9010985 & 13       \\\\\n",
       "\t  69.14498 &  92.24624 & 0.3912052 & 17       \\\\\n",
       "\t  18.98181 &  78.21705 & 0.3214253 & 19       \\\\\n",
       "\\end{tabular}\n"
      ],
      "text/markdown": [
       "\n",
       "ME | RMSE | MAPE | Iteration | \n",
       "|---|---|---|---|---|---|\n",
       "| 239.29752 | 284.66298 | 1.4781394 |  1        | \n",
       "| 526.36333 | 587.18704 | 3.1853192 |  5        | \n",
       "| 420.25626 | 504.40399 | 2.5905510 |  9        | \n",
       "| 328.11024 | 350.37487 | 1.9010985 | 13        | \n",
       "|  69.14498 |  92.24624 | 0.3912052 | 17        | \n",
       "|  18.98181 |  78.21705 | 0.3214253 | 19        | \n",
       "\n",
       "\n"
      ],
      "text/plain": [
       "  ME        RMSE      MAPE      Iteration\n",
       "1 239.29752 284.66298 1.4781394  1       \n",
       "2 526.36333 587.18704 3.1853192  5       \n",
       "3 420.25626 504.40399 2.5905510  9       \n",
       "4 328.11024 350.37487 1.9010985 13       \n",
       "5  69.14498  92.24624 0.3912052 17       \n",
       "6  18.98181  78.21705 0.3214253 19       "
      ]
     },
     "metadata": {},
     "output_type": "display_data"
    }
   ],
   "source": [
    "df_acc"
   ]
  },
  {
   "cell_type": "code",
   "execution_count": 28,
   "metadata": {},
   "outputs": [
    {
     "data": {
      "text/plain": [
       "Time Series:\n",
       "Start = 1 \n",
       "End = 8 \n",
       "Frequency = 1 \n",
       "[1] 17186.04 17225.43 17275.33 17341.06 17414.05 17493.17 17575.67 17658.21"
      ]
     },
     "metadata": {},
     "output_type": "display_data"
    }
   ],
   "source": [
    "l[[5]][,1]"
   ]
  },
  {
   "cell_type": "code",
   "execution_count": 25,
   "metadata": {},
   "outputs": [
    {
     "data": {
      "text/html": [
       "<dl class=dl-horizontal>\n",
       "\t<dt>ME</dt>\n",
       "\t\t<dd>267.02569077711</dd>\n",
       "\t<dt>RMSE</dt>\n",
       "\t\t<dd>316.182030794045</dd>\n",
       "\t<dt>MAPE</dt>\n",
       "\t\t<dd>1.64462310715988</dd>\n",
       "\t<dt>Iteration</dt>\n",
       "\t\t<dd>10.6666666666667</dd>\n",
       "</dl>\n"
      ],
      "text/latex": [
       "\\begin{description*}\n",
       "\\item[ME] 267.02569077711\n",
       "\\item[RMSE] 316.182030794045\n",
       "\\item[MAPE] 1.64462310715988\n",
       "\\item[Iteration] 10.6666666666667\n",
       "\\end{description*}\n"
      ],
      "text/markdown": [
       "ME\n",
       ":   267.02569077711RMSE\n",
       ":   316.182030794045MAPE\n",
       ":   1.64462310715988Iteration\n",
       ":   10.6666666666667\n",
       "\n"
      ],
      "text/plain": [
       "        ME       RMSE       MAPE  Iteration \n",
       "267.025691 316.182031   1.644623  10.666667 "
      ]
     },
     "metadata": {},
     "output_type": "display_data"
    },
    {
     "data": {
      "text/html": [
       "<table>\n",
       "<thead><tr><th></th><th scope=col>Квартальные</th><th scope=col>Сезонно сглаженные</th><th scope=col>Месячные</th></tr></thead>\n",
       "<tbody>\n",
       "\t<tr><th scope=row>1 level</th><td>61.83956</td><td>353.9334</td><td>14343.00</td></tr>\n",
       "\t<tr><th scope=row>3 level</th><td>70.87249</td><td>333.1348</td><td>15084.68</td></tr>\n",
       "\t<tr><th scope=row>2 level (state)</th><td>73.09368</td><td>353.1170</td><td>13590.31</td></tr>\n",
       "\t<tr><th scope=row>2 level (type)</th><td>62.65435</td><td>353.3872</td><td>12888.11</td></tr>\n",
       "\t<tr><th scope=row>2 level (clusetered)</th><td>73.67195</td><td>352.2130</td><td>13401.44</td></tr>\n",
       "</tbody>\n",
       "</table>\n"
      ],
      "text/latex": [
       "\\begin{tabular}{r|lll}\n",
       "  & Квартальные & Сезонно сглаженные & Месячные\\\\\n",
       "\\hline\n",
       "\t1 level & 61.83956 & 353.9334 & 14343.00\\\\\n",
       "\t3 level & 70.87249 & 333.1348 & 15084.68\\\\\n",
       "\t2 level (state) & 73.09368 & 353.1170 & 13590.31\\\\\n",
       "\t2 level (type) & 62.65435 & 353.3872 & 12888.11\\\\\n",
       "\t2 level (clusetered) & 73.67195 & 352.2130 & 13401.44\\\\\n",
       "\\end{tabular}\n"
      ],
      "text/markdown": [
       "\n",
       "| <!--/--> | Квартальные | Сезонно сглаженные | Месячные | \n",
       "|---|---|---|---|---|\n",
       "| 1 level | 61.83956 | 353.9334 | 14343.00 | \n",
       "| 3 level | 70.87249 | 333.1348 | 15084.68 | \n",
       "| 2 level (state) | 73.09368 | 353.1170 | 13590.31 | \n",
       "| 2 level (type) | 62.65435 | 353.3872 | 12888.11 | \n",
       "| 2 level (clusetered) | 73.67195 | 352.2130 | 13401.44 | \n",
       "\n",
       "\n"
      ],
      "text/plain": [
       "                     Квартальные Сезонно сглаженные Месячные\n",
       "1 level              61.83956    353.9334           14343.00\n",
       "3 level              70.87249    333.1348           15084.68\n",
       "2 level (state)      73.09368    353.1170           13590.31\n",
       "2 level (type)       62.65435    353.3872           12888.11\n",
       "2 level (clusetered) 73.67195    352.2130           13401.44"
      ]
     },
     "metadata": {},
     "output_type": "display_data"
    }
   ],
   "source": [
    "colMeans(df_acc)\n",
    "df_mean_acc"
   ]
  },
  {
   "cell_type": "code",
   "execution_count": 26,
   "metadata": {},
   "outputs": [],
   "source": [
    "# df_mean_acc <- readRDS(\"df_mean_acc.rds\")\n",
    "# rownames(df_mean_acc)[2:5]  <-  c('3 level', '2 level (state)', '2 level (type)' ,'2 level (clusetered)' )"
   ]
  },
  {
   "cell_type": "code",
   "execution_count": 27,
   "metadata": {},
   "outputs": [
    {
     "data": {
      "text/html": [
       "<table>\n",
       "<thead><tr><th></th><th scope=col>Квартальные</th><th scope=col>Сезонно сглаженные</th><th scope=col>Месячные</th></tr></thead>\n",
       "<tbody>\n",
       "\t<tr><th scope=row>1 level</th><td>61.83956</td><td>353.9334</td><td>14343.00</td></tr>\n",
       "\t<tr><th scope=row>3 level</th><td>70.87249</td><td>333.1348</td><td>15084.68</td></tr>\n",
       "\t<tr><th scope=row>2 level (state)</th><td>73.09368</td><td>316.1820</td><td>13590.31</td></tr>\n",
       "\t<tr><th scope=row>2 level (type)</th><td>62.65435</td><td>353.3872</td><td>12888.11</td></tr>\n",
       "\t<tr><th scope=row>2 level (clusetered)</th><td>73.67195</td><td>352.2130</td><td>13401.44</td></tr>\n",
       "</tbody>\n",
       "</table>\n"
      ],
      "text/latex": [
       "\\begin{tabular}{r|lll}\n",
       "  & Квартальные & Сезонно сглаженные & Месячные\\\\\n",
       "\\hline\n",
       "\t1 level & 61.83956 & 353.9334 & 14343.00\\\\\n",
       "\t3 level & 70.87249 & 333.1348 & 15084.68\\\\\n",
       "\t2 level (state) & 73.09368 & 316.1820 & 13590.31\\\\\n",
       "\t2 level (type) & 62.65435 & 353.3872 & 12888.11\\\\\n",
       "\t2 level (clusetered) & 73.67195 & 352.2130 & 13401.44\\\\\n",
       "\\end{tabular}\n"
      ],
      "text/markdown": [
       "\n",
       "| <!--/--> | Квартальные | Сезонно сглаженные | Месячные | \n",
       "|---|---|---|---|---|\n",
       "| 1 level | 61.83956 | 353.9334 | 14343.00 | \n",
       "| 3 level | 70.87249 | 333.1348 | 15084.68 | \n",
       "| 2 level (state) | 73.09368 | 316.1820 | 13590.31 | \n",
       "| 2 level (type) | 62.65435 | 353.3872 | 12888.11 | \n",
       "| 2 level (clusetered) | 73.67195 | 352.2130 | 13401.44 | \n",
       "\n",
       "\n"
      ],
      "text/plain": [
       "                     Квартальные Сезонно сглаженные Месячные\n",
       "1 level              61.83956    353.9334           14343.00\n",
       "3 level              70.87249    333.1348           15084.68\n",
       "2 level (state)      73.09368    316.1820           13590.31\n",
       "2 level (type)       62.65435    353.3872           12888.11\n",
       "2 level (clusetered) 73.67195    352.2130           13401.44"
      ]
     },
     "metadata": {},
     "output_type": "display_data"
    }
   ],
   "source": [
    "df_mean_acc[3,2]  <-  colMeans(df_acc)[[2]] \n",
    "df_mean_acc"
   ]
  },
  {
   "cell_type": "markdown",
   "metadata": {},
   "source": [
    "#### 2 type"
   ]
  },
  {
   "cell_type": "code",
   "execution_count": 28,
   "metadata": {},
   "outputs": [],
   "source": [
    "df_eu  <-  read.csv(file=\"../clustering/hts_us_ind_filled_type.csv\", header=TRUE, sep=\",\", row.names =1 )\n",
    "df_eu  <-  df_eu/1000\n"
   ]
  },
  {
   "cell_type": "code",
   "execution_count": 29,
   "metadata": {},
   "outputs": [],
   "source": [
    "# var_allornot  <- var_freq\n",
    "var_allornot  <- 1\n",
    "# var_shift  <-  var_topup\n",
    "var_shift  <-  0"
   ]
  },
  {
   "cell_type": "code",
   "execution_count": 30,
   "metadata": {},
   "outputs": [
    {
     "name": "stderr",
     "output_type": "stream",
     "text": [
      "Since argument characters are not specified, the default labelling system is used.\n"
     ]
    }
   ],
   "source": [
    "df_eu  <-  as.data.table(df_eu)\n",
    "data  <-  df_eu\n",
    "y  <-  hts(data)\n",
    "s  <-  smatrix(y)\n",
    "# gts_train  <- window(y, start=20, end=67)\n",
    "# gts_test  <- window(y, start=68, end=75)\n",
    "allts <- aggts(y)\n",
    "allf <- matrix(, nrow=var_h, ncol=ncol(allts))"
   ]
  },
  {
   "cell_type": "code",
   "execution_count": 32,
   "metadata": {},
   "outputs": [
    {
     "name": "stdout",
     "output_type": "stream",
     "text": [
      "[1]  1 28 29 36\n"
     ]
    },
    {
     "name": "stderr",
     "output_type": "stream",
     "text": [
      "Since argument characters are not specified, the default labelling system is used.\n"
     ]
    },
    {
     "name": "stdout",
     "output_type": "stream",
     "text": [
      "Hierarchical Time Series \n",
      "2 Levels \n",
      "Number of nodes at each level: 1 21 \n",
      "Total number of series: 22 \n",
      "Number of observations per series: 8 \n",
      "Top level series: \n",
      "Time Series:\n",
      "Start = 29 \n",
      "End = 36 \n",
      "Frequency = 1 \n",
      "[1] 15868.62 15871.67 15852.64 15825.02 15790.63 15781.65 15768.41 15777.49\n",
      "Hierarchical Time Series \n",
      "2 Levels \n",
      "Number of nodes at each level: 1 21 \n",
      "Total number of series: 22 \n",
      "Number of observations per series: 8 \n",
      "Top level series: \n",
      "Time Series:\n",
      "Start = 29 \n",
      "End = 36 \n",
      "Frequency = 1 \n",
      "[1] 15927.61 15976.18 15983.30 15994.87 16128.30 16136.38 16254.91 16372.60\n",
      "          0%---------25%---------50%---------75%--------100%\n",
      "Progress: [1]  5 32 33 40\n"
     ]
    },
    {
     "name": "stderr",
     "output_type": "stream",
     "text": [
      "Since argument characters are not specified, the default labelling system is used.\n"
     ]
    },
    {
     "name": "stdout",
     "output_type": "stream",
     "text": [
      "Hierarchical Time Series \n",
      "2 Levels \n",
      "Number of nodes at each level: 1 21 \n",
      "Total number of series: 22 \n",
      "Number of observations per series: 8 \n",
      "Top level series: \n",
      "Time Series:\n",
      "Start = 29 \n",
      "End = 36 \n",
      "Frequency = 1 \n",
      "[1] 15978.05 15931.00 15906.99 15901.26 15903.08 15899.75 15909.30 15926.11\n",
      "Hierarchical Time Series \n",
      "2 Levels \n",
      "Number of nodes at each level: 1 21 \n",
      "Total number of series: 22 \n",
      "Number of observations per series: 8 \n",
      "Top level series: \n",
      "Time Series:\n",
      "Start = 33 \n",
      "End = 40 \n",
      "Frequency = 1 \n",
      "[1] 16128.30 16136.38 16254.91 16372.60 16316.98 16522.48 16733.98 16809.04\n",
      "[1]  9 36 37 44\n"
     ]
    },
    {
     "name": "stderr",
     "output_type": "stream",
     "text": [
      "Since argument characters are not specified, the default labelling system is used.\n"
     ]
    },
    {
     "name": "stdout",
     "output_type": "stream",
     "text": [
      "Hierarchical Time Series \n",
      "2 Levels \n",
      "Number of nodes at each level: 1 21 \n",
      "Total number of series: 22 \n",
      "Number of observations per series: 8 \n",
      "Top level series: \n",
      "Time Series:\n",
      "Start = 29 \n",
      "End = 36 \n",
      "Frequency = 1 \n",
      "[1] 16321.01 16274.61 16238.72 16193.53 16202.73 16248.58 16298.65 16349.68\n",
      "Hierarchical Time Series \n",
      "2 Levels \n",
      "Number of nodes at each level: 1 21 \n",
      "Total number of series: 22 \n",
      "Number of observations per series: 8 \n",
      "Top level series: \n",
      "Time Series:\n",
      "Start = 37 \n",
      "End = 44 \n",
      "Frequency = 1 \n",
      "[1] 16316.98 16522.48 16733.98 16809.04 16949.40 17070.24 17129.69 17147.05\n",
      "|[1] 13 40 41 48\n"
     ]
    },
    {
     "name": "stderr",
     "output_type": "stream",
     "text": [
      "Since argument characters are not specified, the default labelling system is used.\n"
     ]
    },
    {
     "name": "stdout",
     "output_type": "stream",
     "text": [
      "Hierarchical Time Series \n",
      "2 Levels \n",
      "Number of nodes at each level: 1 21 \n",
      "Total number of series: 22 \n",
      "Number of observations per series: 8 \n",
      "Top level series: \n",
      "Time Series:\n",
      "Start = 29 \n",
      "End = 36 \n",
      "Frequency = 1 \n",
      "[1] 16840.36 16825.39 16800.00 16783.76 16798.07 16838.92 16901.94 16982.22\n",
      "Hierarchical Time Series \n",
      "2 Levels \n",
      "Number of nodes at each level: 1 21 \n",
      "Total number of series: 22 \n",
      "Number of observations per series: 8 \n",
      "Top level series: \n",
      "Time Series:\n",
      "Start = 41 \n",
      "End = 48 \n",
      "Frequency = 1 \n",
      "[1] 16949.40 17070.24 17129.69 17147.05 17237.31 17306.78 17369.38 17427.95\n",
      "|[1] 17 44 45 52\n"
     ]
    },
    {
     "name": "stderr",
     "output_type": "stream",
     "text": [
      "Since argument characters are not specified, the default labelling system is used.\n"
     ]
    },
    {
     "name": "stdout",
     "output_type": "stream",
     "text": [
      "Hierarchical Time Series \n",
      "2 Levels \n",
      "Number of nodes at each level: 1 21 \n",
      "Total number of series: 22 \n",
      "Number of observations per series: 8 \n",
      "Top level series: \n",
      "Time Series:\n",
      "Start = 29 \n",
      "End = 36 \n",
      "Frequency = 1 \n",
      "[1] 17186.52 17226.86 17305.98 17390.58 17472.96 17552.94 17619.11 17675.39\n",
      "Hierarchical Time Series \n",
      "2 Levels \n",
      "Number of nodes at each level: 1 21 \n",
      "Total number of series: 22 \n",
      "Number of observations per series: 8 \n",
      "Top level series: \n",
      "Time Series:\n",
      "Start = 45 \n",
      "End = 52 \n",
      "Frequency = 1 \n",
      "[1] 17237.31 17306.78 17369.38 17427.95 17501.51 17637.46 17757.34 17851.87\n",
      "[1] 21 48 49 56\n"
     ]
    },
    {
     "name": "stderr",
     "output_type": "stream",
     "text": [
      "Since argument characters are not specified, the default labelling system is used.\n"
     ]
    },
    {
     "name": "stdout",
     "output_type": "stream",
     "text": [
      "Hierarchical Time Series \n",
      "2 Levels \n",
      "Number of nodes at each level: 1 21 \n",
      "Total number of series: 22 \n",
      "Number of observations per series: 8 \n",
      "Top level series: \n",
      "Time Series:\n",
      "Start = 29 \n",
      "End = 36 \n",
      "Frequency = 1 \n",
      "[1] 17394.76 17479.10 17601.28 17670.57 17738.80 17793.93 17858.20 17926.41\n",
      "Hierarchical Time Series \n",
      "2 Levels \n",
      "Number of nodes at each level: 1 21 \n",
      "Total number of series: 22 \n",
      "Number of observations per series: 8 \n",
      "Top level series: \n",
      "Time Series:\n",
      "Start = 47 \n",
      "End = 54 \n",
      "Frequency = 1 \n",
      "[1] 17369.38 17427.95 17501.51 17637.46 17757.34 17851.87 17934.57 18122.00\n"
     ]
    }
   ],
   "source": [
    "l <- ac <- m_top  <- l_test  <-  l_top  <-  list()\n",
    "\n",
    "df_ac  <-  data.frame(matrix(ncol = 0, nrow = 0))\n",
    "\n",
    "k  <- 0\n",
    "\n",
    "for (i in 0:(var_iter*var_allornot - var_shift)){\n",
    "    k  <-  k+1\n",
    "    st_year  <-  var_start_year + i/var_allornot\n",
    "    train_start  <- st_year \n",
    "    train_end  <- st_year + 1/var_freq*(var_window)\n",
    "    test_start  <- st_year + 1/var_freq*(var_window+1) \n",
    "    test_end  <-  st_year + 1/var_freq*(var_window+var_h)\n",
    "    \n",
    "    dates  <-  (c(train_start, train_end, test_start, test_end, train_start-var_topup/var_freq, train_end-var_topup/var_freq, test_start-var_topup/var_freq)-var_start_year)*var_freq+1\n",
    "    \n",
    "    train_start  <- dates[1] \n",
    "    train_end  <- dates[2]\n",
    "    test_start  <- dates[3]\n",
    "    test_end  <- dates[4]\n",
    "    \n",
    "    print(c(train_start, train_end, test_start, test_end))\n",
    "    \n",
    "    \n",
    "    if (i == 0){\n",
    "        gts_train <- window(y, end=train_end)    \n",
    "    }\n",
    "    else{\n",
    "        if ((var_shift == 0) & (i == var_iter*var_allornot - var_shift)){\n",
    "            gts_train <- window(y, start=dates[5], end=dates[6])\n",
    "        }else{\n",
    "            gts_train <- window(y, start=train_start, end=train_end)\n",
    "    }}\n",
    "    \n",
    "    if ((var_shift == 0) & (i == var_iter*var_allornot - var_shift)){\n",
    "        gts_test <- window(y, start=dates[7])\n",
    "      \n",
    "    }else{  \n",
    "     gts_test <- window(y, start=test_start, end=test_end)\n",
    "          \n",
    "    }\n",
    "    \n",
    "              \n",
    "    allts <- aggts(gts_train)\n",
    "    \n",
    "    \n",
    "    \n",
    "    ms <-  foreach(j=1:ncol(allts)) %dopar% {\n",
    "        model  <- tryCatch(        \n",
    "        Arima(msts(allts[,j], seasonal.periods = var_freq), order=var_arpdq, seasonal=var_sarpdq,  include.drift = var_drift, include.mean = var_constant,  method=\"ML\"), \n",
    "            error = function(e) \n",
    "#                               {tryCatch( \n",
    "                Arima(msts(allts[,j], seasonal.periods = var_freq), order=var_arpdq, seasonal=var_sarpdq, include.drift = var_drift, include.mean = var_constant,  method=\"CSS\") #,\n",
    "#                          error = function(e)              \n",
    "#                             auto.arima(msts(allts[,j], seasonal.periods = var_freq))\n",
    "#                          )}\n",
    "                        \n",
    "            )\n",
    "        \n",
    "    }\n",
    "    \n",
    "     \n",
    "        \n",
    "    allf <- matrix(, nrow=var_h, ncol=ncol(allts))\n",
    "        \n",
    "    \n",
    "    for(j in 1:ncol(allts)){  \n",
    "    allf[,j] <- forecast(ms[[j]], h=var_h)$mean\n",
    "    \n",
    "    \n",
    "    }\n",
    "\n",
    "    \n",
    "    allf <- ts(allf)\n",
    "    colnames(allf)  <-  colnames(allts)  \n",
    "    g <- get_nodes(gts_train)\n",
    "    y.f <- combinef(allf, nodes = g, weights = c(0,rep(1, dim(df_eu)[2])))\n",
    "    forecasts_7  <- y.f[[1]]\n",
    "    colnames(forecasts_7)  <- colnames(y[[1]])\n",
    "    data_f5  <- rbind(gts_train[[1]], forecasts_7)\n",
    "    y_f5  <- hts(data_f5)\n",
    "        \n",
    "#     if (i == 4){\n",
    "#         gts_forecasts_7 <- window(y_f5, start=test_start)}\n",
    "#     else{\n",
    "#     gts_forecasts_7 <- window(y_f5, start=test_start, end=test_end)\n",
    "# #     }\n",
    "\n",
    "#     if ((var_shift == 0) & (i == var_iter*var_allornot - var_shift)){\n",
    "#         gts_forecasts_7 <- window(y_f5, start=dates[7])\n",
    "      \n",
    "#     }else{  \n",
    "     gts_forecasts_7 <- window(y_f5, start=dim(y_f5[[1]])[1]-var_h+1)\n",
    "          \n",
    "#     }\n",
    "         \n",
    "    print(gts_forecasts_7)\n",
    "    print(gts_test)\n",
    "            \n",
    "    \n",
    "    l[[k]]  <- allf\n",
    "\n",
    "    ac[[k]]  <-  accuracy.gts(gts_forecasts_7, gts_test)[, 1] \n",
    "\n",
    "    progress(i, progress.bar = TRUE)\n",
    "        \n",
    "    }"
   ]
  },
  {
   "cell_type": "code",
   "execution_count": 33,
   "metadata": {},
   "outputs": [],
   "source": [
    "var_acc_metrics  <-  c(1,2,4)\n",
    "df_acc_test  <- ac[[1]][var_acc_metrics]\n",
    "for (i in ac[2:length(ac)]){\n",
    "    x  <-  i[var_acc_metrics]\n",
    "    df_acc_test   <-  cbind(df_acc_test, x)\n",
    "}\n",
    "df_acc_test  <- t(df_acc_test)\n",
    "df_acc_test  <-  as.data.frame(df_acc_test)\n",
    "row.names(df_acc_test)  <-  seq(1,length(ac))\n",
    "df_acc  <- df_acc_test\n",
    "df_acc  <-  cbind(df_acc, seq(1, length(ac)))\n",
    "colnames(df_acc)[length(var_acc_metrics)+1]  <-  'Iteration'"
   ]
  },
  {
   "cell_type": "code",
   "execution_count": 34,
   "metadata": {},
   "outputs": [],
   "source": [
    "df_acc$Iteration  <-  df_acc$Iteration*var_freq-(var_freq-1)\n",
    "df_acc$Iteration[length(df_acc$Iteration)]  <-   df_acc$Iteration[length(df_acc$Iteration)] - var_topup"
   ]
  },
  {
   "cell_type": "code",
   "execution_count": 35,
   "metadata": {},
   "outputs": [
    {
     "data": {
      "text/html": [
       "<table>\n",
       "<thead><tr><th scope=col>ME</th><th scope=col>RMSE</th><th scope=col>MAPE</th><th scope=col>Iteration</th></tr></thead>\n",
       "<tbody>\n",
       "\t<tr><td>279.75331</td><td>333.73287</td><td>1.7279564</td><td> 1       </td></tr>\n",
       "\t<tr><td>489.89246</td><td>550.76414</td><td>2.9637697</td><td> 5       </td></tr>\n",
       "\t<tr><td>568.91786</td><td>636.85291</td><td>3.3583260</td><td> 9       </td></tr>\n",
       "\t<tr><td>358.39208</td><td>377.74218</td><td>2.0776596</td><td>13       </td></tr>\n",
       "\t<tr><td> 82.40556</td><td> 95.25827</td><td>0.4681421</td><td>17       </td></tr>\n",
       "\t<tr><td> 17.38111</td><td> 88.10488</td><td>0.3914373</td><td>19       </td></tr>\n",
       "</tbody>\n",
       "</table>\n"
      ],
      "text/latex": [
       "\\begin{tabular}{r|llll}\n",
       " ME & RMSE & MAPE & Iteration\\\\\n",
       "\\hline\n",
       "\t 279.75331 & 333.73287 & 1.7279564 &  1       \\\\\n",
       "\t 489.89246 & 550.76414 & 2.9637697 &  5       \\\\\n",
       "\t 568.91786 & 636.85291 & 3.3583260 &  9       \\\\\n",
       "\t 358.39208 & 377.74218 & 2.0776596 & 13       \\\\\n",
       "\t  82.40556 &  95.25827 & 0.4681421 & 17       \\\\\n",
       "\t  17.38111 &  88.10488 & 0.3914373 & 19       \\\\\n",
       "\\end{tabular}\n"
      ],
      "text/markdown": [
       "\n",
       "ME | RMSE | MAPE | Iteration | \n",
       "|---|---|---|---|---|---|\n",
       "| 279.75331 | 333.73287 | 1.7279564 |  1        | \n",
       "| 489.89246 | 550.76414 | 2.9637697 |  5        | \n",
       "| 568.91786 | 636.85291 | 3.3583260 |  9        | \n",
       "| 358.39208 | 377.74218 | 2.0776596 | 13        | \n",
       "|  82.40556 |  95.25827 | 0.4681421 | 17        | \n",
       "|  17.38111 |  88.10488 | 0.3914373 | 19        | \n",
       "\n",
       "\n"
      ],
      "text/plain": [
       "  ME        RMSE      MAPE      Iteration\n",
       "1 279.75331 333.73287 1.7279564  1       \n",
       "2 489.89246 550.76414 2.9637697  5       \n",
       "3 568.91786 636.85291 3.3583260  9       \n",
       "4 358.39208 377.74218 2.0776596 13       \n",
       "5  82.40556  95.25827 0.4681421 17       \n",
       "6  17.38111  88.10488 0.3914373 19       "
      ]
     },
     "metadata": {},
     "output_type": "display_data"
    }
   ],
   "source": [
    "df_acc"
   ]
  },
  {
   "cell_type": "code",
   "execution_count": 36,
   "metadata": {},
   "outputs": [
    {
     "data": {
      "text/plain": [
       "Time Series:\n",
       "Start = 1 \n",
       "End = 8 \n",
       "Frequency = 1 \n",
       "[1] 17186.04 17225.43 17275.33 17341.06 17414.05 17493.17 17575.67 17658.21"
      ]
     },
     "metadata": {},
     "output_type": "display_data"
    }
   ],
   "source": [
    "l[[5]][,1]"
   ]
  },
  {
   "cell_type": "code",
   "execution_count": 37,
   "metadata": {},
   "outputs": [
    {
     "data": {
      "text/plain": [
       "         Qtr1     Qtr2     Qtr3     Qtr4\n",
       "2005 14810.82 14901.49 15022.51 15101.40\n",
       "2006 15314.55 15358.25 15361.53 15464.20\n",
       "2007 15476.48 15549.12 15617.51 15731.15\n",
       "2008 15625.38 15697.53 15581.97 15215.99\n",
       "2009 15077.69 15056.99 15107.67 15245.91\n",
       "2010 15272.78 15415.95 15513.26 15593.13\n",
       "2011 15535.51 15632.94 15617.13 15821.82\n",
       "2012 15927.61 15976.18 15983.30 15994.87\n",
       "2013 16128.30 16136.38 16254.91 16372.60\n",
       "2014 16316.98 16522.48 16733.98 16809.04\n",
       "2015 16949.40 17070.24 17129.69 17147.05\n",
       "2016 17237.31 17306.78 17369.38 17427.95\n",
       "2017 17501.51 17637.46 17757.34 17851.87\n",
       "2018 17934.57 18122.00                  "
      ]
     },
     "metadata": {},
     "output_type": "display_data"
    }
   ],
   "source": [
    "gdp_agg"
   ]
  },
  {
   "cell_type": "code",
   "execution_count": 39,
   "metadata": {},
   "outputs": [
    {
     "data": {
      "text/html": [
       "<dl class=dl-horizontal>\n",
       "\t<dt>ME</dt>\n",
       "\t\t<dd>299.457064930891</dd>\n",
       "\t<dt>RMSE</dt>\n",
       "\t\t<dd>347.07587322899</dd>\n",
       "\t<dt>MAPE</dt>\n",
       "\t\t<dd>1.83121519510969</dd>\n",
       "\t<dt>Iteration</dt>\n",
       "\t\t<dd>10.6666666666667</dd>\n",
       "</dl>\n"
      ],
      "text/latex": [
       "\\begin{description*}\n",
       "\\item[ME] 299.457064930891\n",
       "\\item[RMSE] 347.07587322899\n",
       "\\item[MAPE] 1.83121519510969\n",
       "\\item[Iteration] 10.6666666666667\n",
       "\\end{description*}\n"
      ],
      "text/markdown": [
       "ME\n",
       ":   299.457064930891RMSE\n",
       ":   347.07587322899MAPE\n",
       ":   1.83121519510969Iteration\n",
       ":   10.6666666666667\n",
       "\n"
      ],
      "text/plain": [
       "        ME       RMSE       MAPE  Iteration \n",
       "299.457065 347.075873   1.831215  10.666667 "
      ]
     },
     "metadata": {},
     "output_type": "display_data"
    }
   ],
   "source": [
    "colMeans(df_acc)"
   ]
  },
  {
   "cell_type": "code",
   "execution_count": 40,
   "metadata": {},
   "outputs": [],
   "source": [
    "# df_mean_acc <- readRDS(\"df_mean_acc.rds\")\n",
    "# rownames(df_mean_acc)[2:5]  <-  c('3 level', '2 level (state)', '2 level (type)' ,'2 level (clusetered)' )"
   ]
  },
  {
   "cell_type": "code",
   "execution_count": 41,
   "metadata": {},
   "outputs": [
    {
     "data": {
      "text/html": [
       "<table>\n",
       "<thead><tr><th></th><th scope=col>Квартальные</th><th scope=col>Сезонно сглаженные</th><th scope=col>Месячные</th></tr></thead>\n",
       "<tbody>\n",
       "\t<tr><th scope=row>1 level</th><td>61.83956</td><td>353.9334</td><td>14343.00</td></tr>\n",
       "\t<tr><th scope=row>3 level</th><td>70.87249</td><td>333.1348</td><td>15084.68</td></tr>\n",
       "\t<tr><th scope=row>2 level (state)</th><td>73.09368</td><td>316.1820</td><td>13590.31</td></tr>\n",
       "\t<tr><th scope=row>2 level (type)</th><td>62.65435</td><td>353.3872</td><td>12888.11</td></tr>\n",
       "\t<tr><th scope=row>2 level (clusetered)</th><td>73.67195</td><td>352.2130</td><td>13401.44</td></tr>\n",
       "</tbody>\n",
       "</table>\n"
      ],
      "text/latex": [
       "\\begin{tabular}{r|lll}\n",
       "  & Квартальные & Сезонно сглаженные & Месячные\\\\\n",
       "\\hline\n",
       "\t1 level & 61.83956 & 353.9334 & 14343.00\\\\\n",
       "\t3 level & 70.87249 & 333.1348 & 15084.68\\\\\n",
       "\t2 level (state) & 73.09368 & 316.1820 & 13590.31\\\\\n",
       "\t2 level (type) & 62.65435 & 353.3872 & 12888.11\\\\\n",
       "\t2 level (clusetered) & 73.67195 & 352.2130 & 13401.44\\\\\n",
       "\\end{tabular}\n"
      ],
      "text/markdown": [
       "\n",
       "| <!--/--> | Квартальные | Сезонно сглаженные | Месячные | \n",
       "|---|---|---|---|---|\n",
       "| 1 level | 61.83956 | 353.9334 | 14343.00 | \n",
       "| 3 level | 70.87249 | 333.1348 | 15084.68 | \n",
       "| 2 level (state) | 73.09368 | 316.1820 | 13590.31 | \n",
       "| 2 level (type) | 62.65435 | 353.3872 | 12888.11 | \n",
       "| 2 level (clusetered) | 73.67195 | 352.2130 | 13401.44 | \n",
       "\n",
       "\n"
      ],
      "text/plain": [
       "                     Квартальные Сезонно сглаженные Месячные\n",
       "1 level              61.83956    353.9334           14343.00\n",
       "3 level              70.87249    333.1348           15084.68\n",
       "2 level (state)      73.09368    316.1820           13590.31\n",
       "2 level (type)       62.65435    353.3872           12888.11\n",
       "2 level (clusetered) 73.67195    352.2130           13401.44"
      ]
     },
     "metadata": {},
     "output_type": "display_data"
    }
   ],
   "source": [
    "df_mean_acc"
   ]
  },
  {
   "cell_type": "code",
   "execution_count": 42,
   "metadata": {},
   "outputs": [
    {
     "data": {
      "text/html": [
       "<table>\n",
       "<thead><tr><th></th><th scope=col>Квартальные</th><th scope=col>Сезонно сглаженные</th><th scope=col>Месячные</th></tr></thead>\n",
       "<tbody>\n",
       "\t<tr><th scope=row>1 level</th><td>61.83956</td><td>353.9334</td><td>14343.00</td></tr>\n",
       "\t<tr><th scope=row>3 level</th><td>70.87249</td><td>333.1348</td><td>15084.68</td></tr>\n",
       "\t<tr><th scope=row>2 level (state)</th><td>73.09368</td><td>316.1820</td><td>13590.31</td></tr>\n",
       "\t<tr><th scope=row>2 level (type)</th><td>62.65435</td><td>347.0759</td><td>12888.11</td></tr>\n",
       "\t<tr><th scope=row>2 level (clusetered)</th><td>73.67195</td><td>352.2130</td><td>13401.44</td></tr>\n",
       "</tbody>\n",
       "</table>\n"
      ],
      "text/latex": [
       "\\begin{tabular}{r|lll}\n",
       "  & Квартальные & Сезонно сглаженные & Месячные\\\\\n",
       "\\hline\n",
       "\t1 level & 61.83956 & 353.9334 & 14343.00\\\\\n",
       "\t3 level & 70.87249 & 333.1348 & 15084.68\\\\\n",
       "\t2 level (state) & 73.09368 & 316.1820 & 13590.31\\\\\n",
       "\t2 level (type) & 62.65435 & 347.0759 & 12888.11\\\\\n",
       "\t2 level (clusetered) & 73.67195 & 352.2130 & 13401.44\\\\\n",
       "\\end{tabular}\n"
      ],
      "text/markdown": [
       "\n",
       "| <!--/--> | Квартальные | Сезонно сглаженные | Месячные | \n",
       "|---|---|---|---|---|\n",
       "| 1 level | 61.83956 | 353.9334 | 14343.00 | \n",
       "| 3 level | 70.87249 | 333.1348 | 15084.68 | \n",
       "| 2 level (state) | 73.09368 | 316.1820 | 13590.31 | \n",
       "| 2 level (type) | 62.65435 | 347.0759 | 12888.11 | \n",
       "| 2 level (clusetered) | 73.67195 | 352.2130 | 13401.44 | \n",
       "\n",
       "\n"
      ],
      "text/plain": [
       "                     Квартальные Сезонно сглаженные Месячные\n",
       "1 level              61.83956    353.9334           14343.00\n",
       "3 level              70.87249    333.1348           15084.68\n",
       "2 level (state)      73.09368    316.1820           13590.31\n",
       "2 level (type)       62.65435    347.0759           12888.11\n",
       "2 level (clusetered) 73.67195    352.2130           13401.44"
      ]
     },
     "metadata": {},
     "output_type": "display_data"
    }
   ],
   "source": [
    "df_mean_acc[4,2]  <-  colMeans(df_acc)[[2]] \n",
    "df_mean_acc"
   ]
  },
  {
   "cell_type": "markdown",
   "metadata": {},
   "source": [
    "#### 2 clust"
   ]
  },
  {
   "cell_type": "code",
   "execution_count": 43,
   "metadata": {},
   "outputs": [],
   "source": [
    "df_eu  <-  read.csv(file=\"../clustering/hts_us_ind_filled_clust.csv\", header=TRUE, sep=\",\", row.names =1 )\n",
    "df_eu  <-  df_eu/1000\n"
   ]
  },
  {
   "cell_type": "code",
   "execution_count": 44,
   "metadata": {},
   "outputs": [],
   "source": [
    "# var_allornot  <- var_freq\n",
    "var_allornot  <- 1\n",
    "# var_shift  <-  var_topup\n",
    "var_shift  <-  0"
   ]
  },
  {
   "cell_type": "code",
   "execution_count": 45,
   "metadata": {},
   "outputs": [
    {
     "name": "stderr",
     "output_type": "stream",
     "text": [
      "Since argument characters are not specified, the default labelling system is used.\n"
     ]
    }
   ],
   "source": [
    "df_eu  <-  as.data.table(df_eu)\n",
    "data  <-  df_eu\n",
    "y  <-  hts(data)\n",
    "s  <-  smatrix(y)\n",
    "# gts_train  <- window(y, start=20, end=67)\n",
    "# gts_test  <- window(y, start=68, end=75)\n",
    "allts <- aggts(y)\n",
    "allf <- matrix(, nrow=var_h, ncol=ncol(allts))"
   ]
  },
  {
   "cell_type": "code",
   "execution_count": 46,
   "metadata": {},
   "outputs": [
    {
     "name": "stdout",
     "output_type": "stream",
     "text": [
      "[1]  1 28 29 36\n"
     ]
    },
    {
     "name": "stderr",
     "output_type": "stream",
     "text": [
      "Since argument characters are not specified, the default labelling system is used.\n"
     ]
    },
    {
     "name": "stdout",
     "output_type": "stream",
     "text": [
      "Hierarchical Time Series \n",
      "2 Levels \n",
      "Number of nodes at each level: 1 25 \n",
      "Total number of series: 26 \n",
      "Number of observations per series: 8 \n",
      "Top level series: \n",
      "Time Series:\n",
      "Start = 29 \n",
      "End = 36 \n",
      "Frequency = 1 \n",
      "[1] 15861.68 15892.39 15897.53 15886.28 15861.60 15852.14 15840.35 15845.33\n",
      "Hierarchical Time Series \n",
      "2 Levels \n",
      "Number of nodes at each level: 1 25 \n",
      "Total number of series: 26 \n",
      "Number of observations per series: 8 \n",
      "Top level series: \n",
      "Time Series:\n",
      "Start = 29 \n",
      "End = 36 \n",
      "Frequency = 1 \n",
      "[1] 15927.61 15976.18 15983.30 15994.87 16128.30 16136.38 16254.91 16372.60\n",
      "          0%---------25%---------50%---------75%--------100%\n",
      "Progress: [1]  5 32 33 40\n"
     ]
    },
    {
     "name": "stderr",
     "output_type": "stream",
     "text": [
      "Since argument characters are not specified, the default labelling system is used.\n"
     ]
    },
    {
     "name": "stdout",
     "output_type": "stream",
     "text": [
      "Hierarchical Time Series \n",
      "2 Levels \n",
      "Number of nodes at each level: 1 25 \n",
      "Total number of series: 26 \n",
      "Number of observations per series: 8 \n",
      "Top level series: \n",
      "Time Series:\n",
      "Start = 29 \n",
      "End = 36 \n",
      "Frequency = 1 \n",
      "[1] 15991.04 15968.02 15950.89 15935.46 15934.69 15933.23 15939.20 15948.05\n",
      "Hierarchical Time Series \n",
      "2 Levels \n",
      "Number of nodes at each level: 1 25 \n",
      "Total number of series: 26 \n",
      "Number of observations per series: 8 \n",
      "Top level series: \n",
      "Time Series:\n",
      "Start = 33 \n",
      "End = 40 \n",
      "Frequency = 1 \n",
      "[1] 16128.30 16136.38 16254.91 16372.60 16316.98 16522.48 16733.98 16809.04\n",
      "[1]  9 36 37 44\n"
     ]
    },
    {
     "name": "stderr",
     "output_type": "stream",
     "text": [
      "Since argument characters are not specified, the default labelling system is used.\n"
     ]
    },
    {
     "name": "stdout",
     "output_type": "stream",
     "text": [
      "Hierarchical Time Series \n",
      "2 Levels \n",
      "Number of nodes at each level: 1 25 \n",
      "Total number of series: 26 \n",
      "Number of observations per series: 8 \n",
      "Top level series: \n",
      "Time Series:\n",
      "Start = 29 \n",
      "End = 36 \n",
      "Frequency = 1 \n",
      "[1] 16431.22 16450.19 16465.71 16448.04 16431.91 16416.17 16412.83 16422.53\n",
      "Hierarchical Time Series \n",
      "2 Levels \n",
      "Number of nodes at each level: 1 25 \n",
      "Total number of series: 26 \n",
      "Number of observations per series: 8 \n",
      "Top level series: \n",
      "Time Series:\n",
      "Start = 37 \n",
      "End = 44 \n",
      "Frequency = 1 \n",
      "[1] 16316.98 16522.48 16733.98 16809.04 16949.40 17070.24 17129.69 17147.05\n",
      "|[1] 13 40 41 48\n"
     ]
    },
    {
     "name": "stderr",
     "output_type": "stream",
     "text": [
      "Since argument characters are not specified, the default labelling system is used.\n"
     ]
    },
    {
     "name": "stdout",
     "output_type": "stream",
     "text": [
      "Hierarchical Time Series \n",
      "2 Levels \n",
      "Number of nodes at each level: 1 25 \n",
      "Total number of series: 26 \n",
      "Number of observations per series: 8 \n",
      "Top level series: \n",
      "Time Series:\n",
      "Start = 29 \n",
      "End = 36 \n",
      "Frequency = 1 \n",
      "[1] 16864.54 16887.50 16893.49 16887.06 16902.17 16934.07 16975.90 17029.32\n",
      "Hierarchical Time Series \n",
      "2 Levels \n",
      "Number of nodes at each level: 1 25 \n",
      "Total number of series: 26 \n",
      "Number of observations per series: 8 \n",
      "Top level series: \n",
      "Time Series:\n",
      "Start = 41 \n",
      "End = 48 \n",
      "Frequency = 1 \n",
      "[1] 16949.40 17070.24 17129.69 17147.05 17237.31 17306.78 17369.38 17427.95\n",
      "|[1] 17 44 45 52\n"
     ]
    },
    {
     "name": "stderr",
     "output_type": "stream",
     "text": [
      "Since argument characters are not specified, the default labelling system is used.\n"
     ]
    },
    {
     "name": "stdout",
     "output_type": "stream",
     "text": [
      "Hierarchical Time Series \n",
      "2 Levels \n",
      "Number of nodes at each level: 1 25 \n",
      "Total number of series: 26 \n",
      "Number of observations per series: 8 \n",
      "Top level series: \n",
      "Time Series:\n",
      "Start = 29 \n",
      "End = 36 \n",
      "Frequency = 1 \n",
      "[1] 17192.82 17228.37 17280.15 17337.93 17399.12 17459.41 17517.29 17574.65\n",
      "Hierarchical Time Series \n",
      "2 Levels \n",
      "Number of nodes at each level: 1 25 \n",
      "Total number of series: 26 \n",
      "Number of observations per series: 8 \n",
      "Top level series: \n",
      "Time Series:\n",
      "Start = 45 \n",
      "End = 52 \n",
      "Frequency = 1 \n",
      "[1] 17237.31 17306.78 17369.38 17427.95 17501.51 17637.46 17757.34 17851.87\n",
      "[1] 21 48 49 56\n"
     ]
    },
    {
     "name": "stderr",
     "output_type": "stream",
     "text": [
      "Since argument characters are not specified, the default labelling system is used.\n"
     ]
    },
    {
     "name": "stdout",
     "output_type": "stream",
     "text": [
      "Hierarchical Time Series \n",
      "2 Levels \n",
      "Number of nodes at each level: 1 25 \n",
      "Total number of series: 26 \n",
      "Number of observations per series: 8 \n",
      "Top level series: \n",
      "Time Series:\n",
      "Start = 29 \n",
      "End = 36 \n",
      "Frequency = 1 \n",
      "[1] 17371.09 17450.95 17527.98 17596.50 17672.17 17745.63 17821.86 17905.14\n",
      "Hierarchical Time Series \n",
      "2 Levels \n",
      "Number of nodes at each level: 1 25 \n",
      "Total number of series: 26 \n",
      "Number of observations per series: 8 \n",
      "Top level series: \n",
      "Time Series:\n",
      "Start = 47 \n",
      "End = 54 \n",
      "Frequency = 1 \n",
      "[1] 17369.38 17427.95 17501.51 17637.46 17757.34 17851.87 17934.57 18122.00\n"
     ]
    }
   ],
   "source": [
    "l <- ac <- m_top  <- l_test  <-  l_top  <-  list()\n",
    "\n",
    "df_ac  <-  data.frame(matrix(ncol = 0, nrow = 0))\n",
    "\n",
    "k  <- 0\n",
    "\n",
    "for (i in 0:(var_iter*var_allornot - var_shift)){\n",
    "    k  <-  k+1\n",
    "    st_year  <-  var_start_year + i/var_allornot\n",
    "    train_start  <- st_year \n",
    "    train_end  <- st_year + 1/var_freq*(var_window)\n",
    "    test_start  <- st_year + 1/var_freq*(var_window+1) \n",
    "    test_end  <-  st_year + 1/var_freq*(var_window+var_h)\n",
    "    \n",
    "    dates  <-  (c(train_start, train_end, test_start, test_end, train_start-var_topup/var_freq, train_end-var_topup/var_freq, test_start-var_topup/var_freq)-var_start_year)*var_freq+1\n",
    "    \n",
    "    train_start  <- dates[1] \n",
    "    train_end  <- dates[2]\n",
    "    test_start  <- dates[3]\n",
    "    test_end  <- dates[4]\n",
    "    \n",
    "    print(c(train_start, train_end, test_start, test_end))\n",
    "    \n",
    "    \n",
    "    if (i == 0){\n",
    "        gts_train <- window(y, end=train_end)    \n",
    "    }\n",
    "    else{\n",
    "        if ((var_shift == 0) & (i == var_iter*var_allornot - var_shift)){\n",
    "            gts_train <- window(y, start=dates[5], end=dates[6])\n",
    "        }else{\n",
    "            gts_train <- window(y, start=train_start, end=train_end)\n",
    "    }}\n",
    "    \n",
    "    if ((var_shift == 0) & (i == var_iter*var_allornot - var_shift)){\n",
    "        gts_test <- window(y, start=dates[7])\n",
    "      \n",
    "    }else{  \n",
    "     gts_test <- window(y, start=test_start, end=test_end)\n",
    "          \n",
    "    }\n",
    "    \n",
    "    \n",
    "      \n",
    "    allts <- aggts(gts_train)\n",
    "    \n",
    "    \n",
    "    \n",
    "    ms <-  foreach(j=1:ncol(allts)) %dopar% {\n",
    "        model  <- tryCatch(        \n",
    "        Arima(msts(allts[,j], seasonal.periods = var_freq), order=var_arpdq, seasonal=var_sarpdq,  include.drift = var_drift, include.mean = var_constant,  method=\"ML\"), \n",
    "            error = function(e) \n",
    "#                               {tryCatch( \n",
    "                Arima(msts(allts[,j], seasonal.periods = var_freq), order=var_arpdq, seasonal=var_sarpdq, include.drift = var_drift, include.mean = var_constant,  method=\"CSS\") #,\n",
    "#                          error = function(e)              \n",
    "#                             auto.arima(msts(allts[,j], seasonal.periods = var_freq))\n",
    "#                          )}\n",
    "                        \n",
    "            )\n",
    "        \n",
    "    }\n",
    "    \n",
    "     \n",
    "        \n",
    "    allf <- matrix(, nrow=var_h, ncol=ncol(allts))\n",
    "        \n",
    "    \n",
    "    for(j in 1:ncol(allts)){  \n",
    "    allf[,j] <- forecast(ms[[j]], h=var_h)$mean\n",
    "    \n",
    "    \n",
    "    }\n",
    "\n",
    "    \n",
    "    allf <- ts(allf)\n",
    "    colnames(allf)  <-  colnames(allts)  \n",
    "    g <- get_nodes(gts_train)\n",
    "    y.f <- combinef(allf, nodes = g, weights = c(0,rep(1, dim(df_eu)[2])))\n",
    "    forecasts_7  <- y.f[[1]]\n",
    "    colnames(forecasts_7)  <- colnames(y[[1]])\n",
    "    data_f5  <- rbind(gts_train[[1]], forecasts_7)\n",
    "    y_f5  <- hts(data_f5)\n",
    "        \n",
    "#     if (i == 4){\n",
    "#         gts_forecasts_7 <- window(y_f5, start=test_start)}\n",
    "#     else{\n",
    "#     gts_forecasts_7 <- window(y_f5, start=test_start, end=test_end)\n",
    "# #     }\n",
    "\n",
    "#     if ((var_shift == 0) & (i == var_iter*var_allornot - var_shift)){\n",
    "#         gts_forecasts_7 <- window(y_f5, start=dates[7])\n",
    "      \n",
    "#     }else{  \n",
    "     gts_forecasts_7 <- window(y_f5, start=dim(y_f5[[1]])[1]-var_h+1)\n",
    "          \n",
    "#     }\n",
    "         \n",
    "    print(gts_forecasts_7)\n",
    "    print(gts_test)\n",
    "            \n",
    "    \n",
    "    l[[k]]  <- allf\n",
    "\n",
    "    ac[[k]]  <-  accuracy.gts(gts_forecasts_7, gts_test)[, 1] \n",
    "\n",
    "    progress(i, progress.bar = TRUE)\n",
    "        \n",
    "    }"
   ]
  },
  {
   "cell_type": "code",
   "execution_count": 47,
   "metadata": {},
   "outputs": [],
   "source": [
    "var_acc_metrics  <-  c(1,2,4)\n",
    "df_acc_test  <- ac[[1]][var_acc_metrics]\n",
    "for (i in ac[2:length(ac)]){\n",
    "    x  <-  i[var_acc_metrics]\n",
    "    df_acc_test   <-  cbind(df_acc_test, x)\n",
    "}\n",
    "df_acc_test  <- t(df_acc_test)\n",
    "df_acc_test  <-  as.data.frame(df_acc_test)\n",
    "row.names(df_acc_test)  <-  seq(1,length(ac))\n",
    "df_acc  <- df_acc_test\n",
    "df_acc  <-  cbind(df_acc, seq(1, length(ac)))\n",
    "colnames(df_acc)[length(var_acc_metrics)+1]  <-  'Iteration'"
   ]
  },
  {
   "cell_type": "code",
   "execution_count": 48,
   "metadata": {},
   "outputs": [],
   "source": [
    "df_acc$Iteration  <-  df_acc$Iteration*var_freq-(var_freq-1)\n",
    "df_acc$Iteration[length(df_acc$Iteration)]  <-   df_acc$Iteration[length(df_acc$Iteration)] - var_topup"
   ]
  },
  {
   "cell_type": "code",
   "execution_count": 49,
   "metadata": {},
   "outputs": [
    {
     "data": {
      "text/html": [
       "<table>\n",
       "<thead><tr><th scope=col>ME</th><th scope=col>RMSE</th><th scope=col>MAPE</th><th scope=col>Iteration</th></tr></thead>\n",
       "<tbody>\n",
       "\t<tr><td>229.61044</td><td>281.1428 </td><td>1.4175059</td><td> 1       </td></tr>\n",
       "\t<tr><td>459.26321</td><td>524.0531 </td><td>2.7769641</td><td> 5       </td></tr>\n",
       "\t<tr><td>400.03102</td><td>494.3402 </td><td>2.5229309</td><td> 9       </td></tr>\n",
       "\t<tr><td>282.96831</td><td>301.8571 </td><td>1.6395979</td><td>13       </td></tr>\n",
       "\t<tr><td>137.48178</td><td>158.4496 </td><td>0.7800797</td><td>17       </td></tr>\n",
       "\t<tr><td> 63.84328</td><td>100.7371 </td><td>0.4281514</td><td>19       </td></tr>\n",
       "</tbody>\n",
       "</table>\n"
      ],
      "text/latex": [
       "\\begin{tabular}{r|llll}\n",
       " ME & RMSE & MAPE & Iteration\\\\\n",
       "\\hline\n",
       "\t 229.61044 & 281.1428  & 1.4175059 &  1       \\\\\n",
       "\t 459.26321 & 524.0531  & 2.7769641 &  5       \\\\\n",
       "\t 400.03102 & 494.3402  & 2.5229309 &  9       \\\\\n",
       "\t 282.96831 & 301.8571  & 1.6395979 & 13       \\\\\n",
       "\t 137.48178 & 158.4496  & 0.7800797 & 17       \\\\\n",
       "\t  63.84328 & 100.7371  & 0.4281514 & 19       \\\\\n",
       "\\end{tabular}\n"
      ],
      "text/markdown": [
       "\n",
       "ME | RMSE | MAPE | Iteration | \n",
       "|---|---|---|---|---|---|\n",
       "| 229.61044 | 281.1428  | 1.4175059 |  1        | \n",
       "| 459.26321 | 524.0531  | 2.7769641 |  5        | \n",
       "| 400.03102 | 494.3402  | 2.5229309 |  9        | \n",
       "| 282.96831 | 301.8571  | 1.6395979 | 13        | \n",
       "| 137.48178 | 158.4496  | 0.7800797 | 17        | \n",
       "|  63.84328 | 100.7371  | 0.4281514 | 19        | \n",
       "\n",
       "\n"
      ],
      "text/plain": [
       "  ME        RMSE     MAPE      Iteration\n",
       "1 229.61044 281.1428 1.4175059  1       \n",
       "2 459.26321 524.0531 2.7769641  5       \n",
       "3 400.03102 494.3402 2.5229309  9       \n",
       "4 282.96831 301.8571 1.6395979 13       \n",
       "5 137.48178 158.4496 0.7800797 17       \n",
       "6  63.84328 100.7371 0.4281514 19       "
      ]
     },
     "metadata": {},
     "output_type": "display_data"
    }
   ],
   "source": [
    "df_acc"
   ]
  },
  {
   "cell_type": "code",
   "execution_count": 50,
   "metadata": {},
   "outputs": [
    {
     "data": {
      "text/html": [
       "<dl class=dl-horizontal>\n",
       "\t<dt>ME</dt>\n",
       "\t\t<dd>262.199673449066</dd>\n",
       "\t<dt>RMSE</dt>\n",
       "\t\t<dd>310.096654132937</dd>\n",
       "\t<dt>MAPE</dt>\n",
       "\t\t<dd>1.59420497838762</dd>\n",
       "\t<dt>Iteration</dt>\n",
       "\t\t<dd>10.6666666666667</dd>\n",
       "</dl>\n"
      ],
      "text/latex": [
       "\\begin{description*}\n",
       "\\item[ME] 262.199673449066\n",
       "\\item[RMSE] 310.096654132937\n",
       "\\item[MAPE] 1.59420497838762\n",
       "\\item[Iteration] 10.6666666666667\n",
       "\\end{description*}\n"
      ],
      "text/markdown": [
       "ME\n",
       ":   262.199673449066RMSE\n",
       ":   310.096654132937MAPE\n",
       ":   1.59420497838762Iteration\n",
       ":   10.6666666666667\n",
       "\n"
      ],
      "text/plain": [
       "        ME       RMSE       MAPE  Iteration \n",
       "262.199673 310.096654   1.594205  10.666667 "
      ]
     },
     "metadata": {},
     "output_type": "display_data"
    }
   ],
   "source": [
    "colMeans(df_acc)"
   ]
  },
  {
   "cell_type": "code",
   "execution_count": 51,
   "metadata": {},
   "outputs": [],
   "source": [
    "# df_mean_acc <- readRDS(\"df_mean_acc.rds\")\n",
    "# rownames(df_mean_acc)[2:5]  <-  c('3 level', '2 level (state)', '2 level (type)' ,'2 level (clusetered)' )"
   ]
  },
  {
   "cell_type": "code",
   "execution_count": 52,
   "metadata": {},
   "outputs": [
    {
     "data": {
      "text/html": [
       "<table>\n",
       "<thead><tr><th></th><th scope=col>Квартальные</th><th scope=col>Сезонно сглаженные</th><th scope=col>Месячные</th></tr></thead>\n",
       "<tbody>\n",
       "\t<tr><th scope=row>1 level</th><td>61.83956</td><td>353.9334</td><td>14343.00</td></tr>\n",
       "\t<tr><th scope=row>3 level</th><td>70.87249</td><td>333.1348</td><td>15084.68</td></tr>\n",
       "\t<tr><th scope=row>2 level (state)</th><td>73.09368</td><td>316.1820</td><td>13590.31</td></tr>\n",
       "\t<tr><th scope=row>2 level (type)</th><td>62.65435</td><td>347.0759</td><td>12888.11</td></tr>\n",
       "\t<tr><th scope=row>2 level (clusetered)</th><td>73.67195</td><td>352.2130</td><td>13401.44</td></tr>\n",
       "</tbody>\n",
       "</table>\n"
      ],
      "text/latex": [
       "\\begin{tabular}{r|lll}\n",
       "  & Квартальные & Сезонно сглаженные & Месячные\\\\\n",
       "\\hline\n",
       "\t1 level & 61.83956 & 353.9334 & 14343.00\\\\\n",
       "\t3 level & 70.87249 & 333.1348 & 15084.68\\\\\n",
       "\t2 level (state) & 73.09368 & 316.1820 & 13590.31\\\\\n",
       "\t2 level (type) & 62.65435 & 347.0759 & 12888.11\\\\\n",
       "\t2 level (clusetered) & 73.67195 & 352.2130 & 13401.44\\\\\n",
       "\\end{tabular}\n"
      ],
      "text/markdown": [
       "\n",
       "| <!--/--> | Квартальные | Сезонно сглаженные | Месячные | \n",
       "|---|---|---|---|---|\n",
       "| 1 level | 61.83956 | 353.9334 | 14343.00 | \n",
       "| 3 level | 70.87249 | 333.1348 | 15084.68 | \n",
       "| 2 level (state) | 73.09368 | 316.1820 | 13590.31 | \n",
       "| 2 level (type) | 62.65435 | 347.0759 | 12888.11 | \n",
       "| 2 level (clusetered) | 73.67195 | 352.2130 | 13401.44 | \n",
       "\n",
       "\n"
      ],
      "text/plain": [
       "                     Квартальные Сезонно сглаженные Месячные\n",
       "1 level              61.83956    353.9334           14343.00\n",
       "3 level              70.87249    333.1348           15084.68\n",
       "2 level (state)      73.09368    316.1820           13590.31\n",
       "2 level (type)       62.65435    347.0759           12888.11\n",
       "2 level (clusetered) 73.67195    352.2130           13401.44"
      ]
     },
     "metadata": {},
     "output_type": "display_data"
    }
   ],
   "source": [
    "df_mean_acc"
   ]
  },
  {
   "cell_type": "code",
   "execution_count": 53,
   "metadata": {},
   "outputs": [
    {
     "data": {
      "text/html": [
       "<table>\n",
       "<thead><tr><th></th><th scope=col>Квартальные</th><th scope=col>Сезонно сглаженные</th><th scope=col>Месячные</th></tr></thead>\n",
       "<tbody>\n",
       "\t<tr><th scope=row>1 level</th><td>61.83956</td><td>353.9334</td><td>14343.00</td></tr>\n",
       "\t<tr><th scope=row>3 level</th><td>70.87249</td><td>333.1348</td><td>15084.68</td></tr>\n",
       "\t<tr><th scope=row>2 level (state)</th><td>73.09368</td><td>316.1820</td><td>13590.31</td></tr>\n",
       "\t<tr><th scope=row>2 level (type)</th><td>62.65435</td><td>347.0759</td><td>12888.11</td></tr>\n",
       "\t<tr><th scope=row>2 level (clusetered)</th><td>73.67195</td><td>310.0967</td><td>13401.44</td></tr>\n",
       "</tbody>\n",
       "</table>\n"
      ],
      "text/latex": [
       "\\begin{tabular}{r|lll}\n",
       "  & Квартальные & Сезонно сглаженные & Месячные\\\\\n",
       "\\hline\n",
       "\t1 level & 61.83956 & 353.9334 & 14343.00\\\\\n",
       "\t3 level & 70.87249 & 333.1348 & 15084.68\\\\\n",
       "\t2 level (state) & 73.09368 & 316.1820 & 13590.31\\\\\n",
       "\t2 level (type) & 62.65435 & 347.0759 & 12888.11\\\\\n",
       "\t2 level (clusetered) & 73.67195 & 310.0967 & 13401.44\\\\\n",
       "\\end{tabular}\n"
      ],
      "text/markdown": [
       "\n",
       "| <!--/--> | Квартальные | Сезонно сглаженные | Месячные | \n",
       "|---|---|---|---|---|\n",
       "| 1 level | 61.83956 | 353.9334 | 14343.00 | \n",
       "| 3 level | 70.87249 | 333.1348 | 15084.68 | \n",
       "| 2 level (state) | 73.09368 | 316.1820 | 13590.31 | \n",
       "| 2 level (type) | 62.65435 | 347.0759 | 12888.11 | \n",
       "| 2 level (clusetered) | 73.67195 | 310.0967 | 13401.44 | \n",
       "\n",
       "\n"
      ],
      "text/plain": [
       "                     Квартальные Сезонно сглаженные Месячные\n",
       "1 level              61.83956    353.9334           14343.00\n",
       "3 level              70.87249    333.1348           15084.68\n",
       "2 level (state)      73.09368    316.1820           13590.31\n",
       "2 level (type)       62.65435    347.0759           12888.11\n",
       "2 level (clusetered) 73.67195    310.0967           13401.44"
      ]
     },
     "metadata": {},
     "output_type": "display_data"
    }
   ],
   "source": [
    "df_mean_acc[5,2]  <-  colMeans(df_acc)[[2]] \n",
    "df_mean_acc"
   ]
  },
  {
   "cell_type": "code",
   "execution_count": 54,
   "metadata": {},
   "outputs": [],
   "source": [
    "saveRDS(df_mean_acc, \"df_mean_acc_no_weights.rds\")\n",
    "# saveRDS(plots_test_all, \"plots_test_not_all.rds\")"
   ]
  },
  {
   "cell_type": "code",
   "execution_count": null,
   "metadata": {},
   "outputs": [],
   "source": []
  }
 ],
 "metadata": {
  "kernelspec": {
   "display_name": "R 3.5.1",
   "language": "R",
   "name": "ir"
  },
  "language_info": {
   "codemirror_mode": "r",
   "file_extension": ".r",
   "mimetype": "text/x-r-source",
   "name": "R",
   "pygments_lexer": "r",
   "version": "3.5.2"
  }
 },
 "nbformat": 4,
 "nbformat_minor": 2
}
