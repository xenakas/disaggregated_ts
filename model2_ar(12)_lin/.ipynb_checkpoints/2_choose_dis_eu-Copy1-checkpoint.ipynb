{
 "cells": [
  {
   "cell_type": "markdown",
   "metadata": {},
   "source": [
    "#### 2"
   ]
  },
  {
   "cell_type": "code",
   "execution_count": 10,
   "metadata": {
    "scrolled": true
   },
   "outputs": [],
   "source": [
    "library(forecast)\n",
    "library(ggplot2)\n",
    "library(dplyr)\n",
    "library(gridExtra)"
   ]
  },
  {
   "cell_type": "code",
   "execution_count": 11,
   "metadata": {},
   "outputs": [],
   "source": [
    "# library(doParallel)\n",
    "library(doMC)\n",
    "options(cores = 10)\n",
    "registerDoMC()\n",
    "require(svMisc)"
   ]
  },
  {
   "cell_type": "code",
   "execution_count": 12,
   "metadata": {},
   "outputs": [],
   "source": [
    "library(data.table)\n",
    "library(hts)  "
   ]
  },
  {
   "cell_type": "code",
   "execution_count": 13,
   "metadata": {},
   "outputs": [],
   "source": [
    "df_eu  <-  read.csv(file=\"../data_hts/hts_eu_a10.csv\", header=TRUE, sep=\",\", row.names =1 )\n",
    "df_eu  <-  df_eu/1000\n",
    "var_freq  <- 4    \n",
    "var_start_year  <- 2000   \n",
    "gdp_agg <- df_eu_sums <-  rowSums(df_eu)\n",
    "gdp_agg  <- ts(gdp_agg, frequency = var_freq, start = var_start_year) "
   ]
  },
  {
   "cell_type": "code",
   "execution_count": 14,
   "metadata": {},
   "outputs": [],
   "source": [
    "var_h  <- 8\n",
    "var_window  <-  48 - 1\n",
    "var_topup  <-  1\n",
    "var_iter   <- (length(gdp_agg)+var_topup)/var_freq-(var_window+1)/var_freq-2"
   ]
  },
  {
   "cell_type": "code",
   "execution_count": 15,
   "metadata": {},
   "outputs": [],
   "source": [
    "# var_allornot  <- var_freq\n",
    "var_allornot  <- 1\n",
    "# var_shift  <-  var_topup\n",
    "var_shift  <-  0\n",
    "\n",
    "var_arpdq   <-  c(3,0,0)\n",
    "var_sarpdq   <-  c(2,0,0)\n",
    "var_drift   <-  TRUE\n",
    "var_constant   <-  TRUE\n",
    "\n",
    "var_char  <-  c(2,1)"
   ]
  },
  {
   "cell_type": "code",
   "execution_count": 16,
   "metadata": {},
   "outputs": [],
   "source": [
    "df_eu  <-  as.data.table(df_eu)\n",
    "data  <-  df_eu\n",
    "y  <-  hts(data, characters = var_char)\n",
    "s  <-  smatrix(y)\n",
    "# gts_train  <- window(y, start=20, end=67)\n",
    "# gts_test  <- window(y, start=68, end=75)\n",
    "# allts <- aggts(gts_train)\n",
    "# allf <- matrix(, nrow=var_h, ncol=ncol(allts))"
   ]
  },
  {
   "cell_type": "code",
   "execution_count": 17,
   "metadata": {},
   "outputs": [
    {
     "data": {
      "text/html": [
       "29"
      ],
      "text/latex": [
       "29"
      ],
      "text/markdown": [
       "29"
      ],
      "text/plain": [
       "[1] 29"
      ]
     },
     "metadata": {},
     "output_type": "display_data"
    }
   ],
   "source": [
    "var_countries  <-  dim(read.csv(file=\"../clustering/hts_eu_a10_state.csv\", header=TRUE, sep=\",\", row.names =1 ))[2]+1\n",
    "var_countries\n"
   ]
  },
  {
   "cell_type": "code",
   "execution_count": 18,
   "metadata": {},
   "outputs": [
    {
     "name": "stdout",
     "output_type": "stream",
     "text": [
      "[1]  1 48 49 56\n",
      "Hierarchical Time Series \n",
      "3 Levels \n",
      "Number of nodes at each level: 1 28 280 \n",
      "Total number of series: 309 \n",
      "Number of observations per series: 8 \n",
      "Top level series: \n",
      "Time Series:\n",
      "Start = 49 \n",
      "End = 56 \n",
      "Frequency = 1 \n",
      "[1] 2962.912 3014.863 3013.756 3080.664 3037.880 3099.321 3103.647 3159.878\n",
      "Hierarchical Time Series \n",
      "3 Levels \n",
      "Number of nodes at each level: 1 28 280 \n",
      "Total number of series: 309 \n",
      "Number of observations per series: 8 \n",
      "Top level series: \n",
      "Time Series:\n",
      "Start = 49 \n",
      "End = 56 \n",
      "Frequency = 1 \n",
      "[1] 2958.070 3010.722 3033.490 3075.700 2977.965 3035.742 3044.227 3122.905\n",
      "          0%---------25%---------50%---------75%--------100%\n",
      "Progress: [1]  5 52 53 60\n",
      "Hierarchical Time Series \n",
      "3 Levels \n",
      "Number of nodes at each level: 1 28 280 \n",
      "Total number of series: 309 \n",
      "Number of observations per series: 8 \n",
      "Top level series: \n",
      "Time Series:\n",
      "Start = 49 \n",
      "End = 56 \n",
      "Frequency = 1 \n",
      "[1] 3021.521 3070.020 3080.518 3123.272 3071.351 3120.545 3128.539 3176.011\n",
      "Hierarchical Time Series \n",
      "3 Levels \n",
      "Number of nodes at each level: 1 28 280 \n",
      "Total number of series: 309 \n",
      "Number of observations per series: 8 \n",
      "Top level series: \n",
      "Time Series:\n",
      "Start = 53 \n",
      "End = 60 \n",
      "Frequency = 1 \n",
      "[1] 2977.965 3035.742 3044.227 3122.905 3072.484 3133.907 3160.757 3236.918\n",
      "[1]  9 56 57 64\n",
      "Hierarchical Time Series \n",
      "3 Levels \n",
      "Number of nodes at each level: 1 28 280 \n",
      "Total number of series: 309 \n",
      "Number of observations per series: 8 \n",
      "Top level series: \n",
      "Time Series:\n",
      "Start = 49 \n",
      "End = 56 \n",
      "Frequency = 1 \n",
      "[1] 3051.809 3107.196 3108.598 3167.941 3110.370 3162.199 3168.991 3219.220\n",
      "Hierarchical Time Series \n",
      "3 Levels \n",
      "Number of nodes at each level: 1 28 280 \n",
      "Total number of series: 309 \n",
      "Number of observations per series: 8 \n",
      "Top level series: \n",
      "Time Series:\n",
      "Start = 57 \n",
      "End = 64 \n",
      "Frequency = 1 \n",
      "[1] 3072.484 3133.907 3160.757 3236.918 3227.776 3311.839 3325.372 3405.251\n",
      "|[1] 13 60 61 68\n",
      "Hierarchical Time Series \n",
      "3 Levels \n",
      "Number of nodes at each level: 1 28 280 \n",
      "Total number of series: 309 \n",
      "Number of observations per series: 8 \n",
      "Top level series: \n",
      "Time Series:\n",
      "Start = 49 \n",
      "End = 56 \n",
      "Frequency = 1 \n",
      "[1] 3180.611 3225.275 3232.681 3286.216 3230.080 3271.143 3280.589 3332.979\n",
      "Hierarchical Time Series \n",
      "3 Levels \n",
      "Number of nodes at each level: 1 28 280 \n",
      "Total number of series: 309 \n",
      "Number of observations per series: 8 \n",
      "Top level series: \n",
      "Time Series:\n",
      "Start = 61 \n",
      "End = 68 \n",
      "Frequency = 1 \n",
      "[1] 3227.776 3311.839 3325.372 3405.251 3304.666 3362.395 3318.470 3395.389\n",
      "|[1] 17 64 65 72\n",
      "Hierarchical Time Series \n",
      "3 Levels \n",
      "Number of nodes at each level: 1 28 280 \n",
      "Total number of series: 309 \n",
      "Number of observations per series: 8 \n",
      "Top level series: \n",
      "Time Series:\n",
      "Start = 49 \n",
      "End = 56 \n",
      "Frequency = 1 \n",
      "[1] 3355.098 3401.150 3398.259 3455.743 3400.808 3440.410 3442.304 3499.098\n",
      "Hierarchical Time Series \n",
      "3 Levels \n",
      "Number of nodes at each level: 1 28 280 \n",
      "Total number of series: 309 \n",
      "Number of observations per series: 8 \n",
      "Top level series: \n",
      "Time Series:\n",
      "Start = 65 \n",
      "End = 72 \n",
      "Frequency = 1 \n",
      "[1] 3304.666 3362.395 3318.470 3395.389 3357.919 3432.684 3434.182 3530.894\n",
      "[1] 21 68 69 76\n",
      "Hierarchical Time Series \n",
      "3 Levels \n",
      "Number of nodes at each level: 1 28 280 \n",
      "Total number of series: 309 \n",
      "Number of observations per series: 8 \n",
      "Top level series: \n",
      "Time Series:\n",
      "Start = 49 \n",
      "End = 56 \n",
      "Frequency = 1 \n",
      "[1] 3368.708 3285.770 3333.210 3328.350 3392.961 3343.539 3402.762 3416.291\n",
      "Hierarchical Time Series \n",
      "3 Levels \n",
      "Number of nodes at each level: 1 28 280 \n",
      "Total number of series: 309 \n",
      "Number of observations per series: 8 \n",
      "Top level series: \n",
      "Time Series:\n",
      "Start = 68 \n",
      "End = 75 \n",
      "Frequency = 1 \n",
      "[1] 3395.389 3357.919 3432.684 3434.182 3530.894 3471.013 3542.181 3541.582\n"
     ]
    }
   ],
   "source": [
    "l <- ac <- m_top  <- l_test  <-  l_top  <-  list()\n",
    "\n",
    "df_ac  <-  data.frame(matrix(ncol = 0, nrow = 0))\n",
    "\n",
    "k  <- 0\n",
    "\n",
    "for (i in 0:(var_iter*var_allornot - var_shift)){\n",
    "    k  <-  k+1\n",
    "    st_year  <-  var_start_year + i/var_allornot\n",
    "    train_start  <- st_year \n",
    "    train_end  <- st_year + 1/var_freq*(var_window)\n",
    "    test_start  <- st_year + 1/var_freq*(var_window+1) \n",
    "    test_end  <-  st_year + 1/var_freq*(var_window+var_h)\n",
    "    \n",
    "    dates  <-  (c(train_start, train_end, test_start, test_end, train_start-var_topup/var_freq, train_end-var_topup/var_freq, test_start-var_topup/var_freq)-var_start_year)*var_freq+1\n",
    "    \n",
    "    train_start  <- dates[1] \n",
    "    train_end  <- dates[2]\n",
    "    test_start  <- dates[3]\n",
    "    test_end  <- dates[4]\n",
    "    \n",
    "    print(c(train_start, train_end, test_start, test_end))\n",
    "    \n",
    "    \n",
    "    if (i == 0){\n",
    "        gts_train <- window(y, end=train_end)    \n",
    "    }\n",
    "    else{\n",
    "        if ((var_shift == 0) & (i == var_iter*var_allornot - var_shift)){\n",
    "            gts_train <- window(y, start=dates[5], end=dates[6])\n",
    "        }else{\n",
    "            gts_train <- window(y, start=train_start, end=train_end)\n",
    "    }}\n",
    "    \n",
    "    if ((var_shift == 0) & (i == var_iter*var_allornot - var_shift)){\n",
    "        gts_test <- window(y, start=dates[7])\n",
    "      \n",
    "    }else{  \n",
    "     gts_test <- window(y, start=test_start, end=test_end)\n",
    "          \n",
    "    }\n",
    "    \n",
    "    allts <- aggts(gts_train)\n",
    "    \n",
    "    ms <-  foreach(j=1:ncol(allts)) %dopar% {\n",
    "        model  <- tryCatch(        \n",
    "        Arima(msts(allts[,j], seasonal.periods = var_freq), order=var_arpdq, seasonal=var_sarpdq,  include.drift = var_drift, include.mean = var_constant, method=\"ML\"), \n",
    "            error = function(e) \n",
    "#                               {tryCatch( \n",
    "                Arima(msts(allts[,j], seasonal.periods = var_freq), order=var_arpdq, seasonal=var_sarpdq, include.drift = var_drift, include.mean = var_constant, method=\"CSS\") #,\n",
    "#                          error = function(e)              \n",
    "#                             auto.arima(msts(allts[,j], seasonal.periods = var_freq))\n",
    "#                          )}\n",
    "                        \n",
    "            )\n",
    "        \n",
    "    }\n",
    "    \n",
    "     \n",
    "        \n",
    "    allf <- matrix(, nrow=var_h, ncol=ncol(allts))\n",
    "        \n",
    "    \n",
    "    for(j in 1:ncol(allts)){  \n",
    "    allf[,j] <- forecast(ms[[j]], h=var_h)$mean\n",
    "    \n",
    "    \n",
    "    }\n",
    "\n",
    "    \n",
    "    allf <- ts(allf)\n",
    "    colnames(allf)  <-  colnames(allts)  \n",
    "    g <- get_nodes(gts_train)\n",
    "    y.f <- combinef(allf, nodes = g, weights = c(rep(0, var_countries), rep(1, (ncol(allts)-var_countries) )))\n",
    "    forecasts_7  <- y.f[[1]]\n",
    "    colnames(forecasts_7)  <- colnames(y[[1]])\n",
    "    data_f5  <- rbind(gts_train[[1]], forecasts_7)\n",
    "    y_f5  <- hts(data_f5, characters = var_char)\n",
    "        \n",
    "#     if (i == 4){\n",
    "#         gts_forecasts_7 <- window(y_f5, start=test_start)}\n",
    "#     else{\n",
    "#     gts_forecasts_7 <- window(y_f5, start=test_start, end=test_end)\n",
    "# #     }\n",
    "\n",
    "#     if ((var_shift == 0) & (i == var_iter*var_allornot - var_shift)){\n",
    "#         gts_forecasts_7 <- window(y_f5, start=dates[7])\n",
    "      \n",
    "#     }else{  \n",
    "     gts_forecasts_7 <- window(y_f5, start=dim(y_f5[[1]])[1]-var_h+1)\n",
    "          \n",
    "#     }\n",
    "         \n",
    "    print(gts_forecasts_7)\n",
    "    print(gts_test)\n",
    "            \n",
    "    \n",
    "    l[[k]]  <- allf\n",
    "\n",
    "    ac[[k]]  <-  accuracy.gts(gts_forecasts_7, gts_test)[, 1] \n",
    "\n",
    "    progress(i, progress.bar = TRUE)\n",
    "            \n",
    "    }"
   ]
  },
  {
   "cell_type": "code",
   "execution_count": 19,
   "metadata": {},
   "outputs": [],
   "source": [
    "var_acc_metrics  <-  c(1,2,4)\n",
    "df_acc_test  <- ac[[1]][var_acc_metrics]\n",
    "for (i in ac[2:length(ac)]){\n",
    "    x  <-  i[var_acc_metrics]\n",
    "    df_acc_test   <-  cbind(df_acc_test, x)\n",
    "}\n",
    "df_acc_test  <- t(df_acc_test)\n",
    "df_acc_test  <-  as.data.frame(df_acc_test)\n",
    "row.names(df_acc_test)  <-  seq(1,length(ac))\n",
    "df_acc  <- df_acc_test\n",
    "df_acc  <-  cbind(df_acc, seq(1, length(ac)))\n",
    "colnames(df_acc)[length(var_acc_metrics)+1]  <-  'Iteration'"
   ]
  },
  {
   "cell_type": "code",
   "execution_count": 20,
   "metadata": {},
   "outputs": [],
   "source": [
    "df_acc$Iteration  <-  df_acc$Iteration*var_freq-(var_freq-1)"
   ]
  },
  {
   "cell_type": "code",
   "execution_count": 21,
   "metadata": {},
   "outputs": [],
   "source": [
    "df_acc$Iteration[length(df_acc$Iteration)]  <-   df_acc$Iteration[length(df_acc$Iteration)] - var_topup"
   ]
  },
  {
   "cell_type": "code",
   "execution_count": 22,
   "metadata": {},
   "outputs": [
    {
     "data": {
      "text/html": [
       "<table>\n",
       "<thead><tr><th scope=col>ME</th><th scope=col>RMSE</th><th scope=col>MAPE</th><th scope=col>Iteration</th></tr></thead>\n",
       "<tbody>\n",
       "\t<tr><td>-26.7626349</td><td> 40.28722  </td><td>1.0444119  </td><td> 1         </td></tr>\n",
       "\t<tr><td> -0.8590579</td><td> 34.12618  </td><td>0.8949802  </td><td> 5         </td></tr>\n",
       "\t<tr><td> 97.2475831</td><td>113.93983  </td><td>2.9534787  </td><td> 9         </td></tr>\n",
       "\t<tr><td> 76.4480699</td><td> 80.38887  </td><td>2.2885653  </td><td>13         </td></tr>\n",
       "\t<tr><td>-32.0339415</td><td> 46.13911  </td><td>1.1875013  </td><td>17         </td></tr>\n",
       "\t<tr><td>104.2816734</td><td>110.35374  </td><td>2.9958344  </td><td>20         </td></tr>\n",
       "</tbody>\n",
       "</table>\n"
      ],
      "text/latex": [
       "\\begin{tabular}{r|llll}\n",
       " ME & RMSE & MAPE & Iteration\\\\\n",
       "\\hline\n",
       "\t -26.7626349 &  40.28722   & 1.0444119   &  1         \\\\\n",
       "\t  -0.8590579 &  34.12618   & 0.8949802   &  5         \\\\\n",
       "\t  97.2475831 & 113.93983   & 2.9534787   &  9         \\\\\n",
       "\t  76.4480699 &  80.38887   & 2.2885653   & 13         \\\\\n",
       "\t -32.0339415 &  46.13911   & 1.1875013   & 17         \\\\\n",
       "\t 104.2816734 & 110.35374   & 2.9958344   & 20         \\\\\n",
       "\\end{tabular}\n"
      ],
      "text/markdown": [
       "\n",
       "ME | RMSE | MAPE | Iteration | \n",
       "|---|---|---|---|---|---|\n",
       "| -26.7626349 |  40.28722   | 1.0444119   |  1          | \n",
       "|  -0.8590579 |  34.12618   | 0.8949802   |  5          | \n",
       "|  97.2475831 | 113.93983   | 2.9534787   |  9          | \n",
       "|  76.4480699 |  80.38887   | 2.2885653   | 13          | \n",
       "| -32.0339415 |  46.13911   | 1.1875013   | 17          | \n",
       "| 104.2816734 | 110.35374   | 2.9958344   | 20          | \n",
       "\n",
       "\n"
      ],
      "text/plain": [
       "  ME          RMSE      MAPE      Iteration\n",
       "1 -26.7626349  40.28722 1.0444119  1       \n",
       "2  -0.8590579  34.12618 0.8949802  5       \n",
       "3  97.2475831 113.93983 2.9534787  9       \n",
       "4  76.4480699  80.38887 2.2885653 13       \n",
       "5 -32.0339415  46.13911 1.1875013 17       \n",
       "6 104.2816734 110.35374 2.9958344 20       "
      ]
     },
     "metadata": {},
     "output_type": "display_data"
    }
   ],
   "source": [
    "df_acc"
   ]
  },
  {
   "cell_type": "code",
   "execution_count": 23,
   "metadata": {},
   "outputs": [
    {
     "data": {
      "text/plain": [
       "Time Series:\n",
       "Start = 1 \n",
       "End = 8 \n",
       "Frequency = 1 \n",
       "[1] 3382.563 3436.319 3425.729 3476.709 3442.388 3484.096 3474.481 3525.213"
      ]
     },
     "metadata": {},
     "output_type": "display_data"
    }
   ],
   "source": [
    "l[[5]][,1]"
   ]
  },
  {
   "cell_type": "code",
   "execution_count": 25,
   "metadata": {},
   "outputs": [
    {
     "data": {
      "text/html": [
       "<dl class=dl-horizontal>\n",
       "\t<dt>ME</dt>\n",
       "\t\t<dd>36.3869486896708</dd>\n",
       "\t<dt>RMSE</dt>\n",
       "\t\t<dd>70.8724915959947</dd>\n",
       "\t<dt>MAPE</dt>\n",
       "\t\t<dd>1.89412861939839</dd>\n",
       "\t<dt>Iteration</dt>\n",
       "\t\t<dd>10.8333333333333</dd>\n",
       "</dl>\n"
      ],
      "text/latex": [
       "\\begin{description*}\n",
       "\\item[ME] 36.3869486896708\n",
       "\\item[RMSE] 70.8724915959947\n",
       "\\item[MAPE] 1.89412861939839\n",
       "\\item[Iteration] 10.8333333333333\n",
       "\\end{description*}\n"
      ],
      "text/markdown": [
       "ME\n",
       ":   36.3869486896708RMSE\n",
       ":   70.8724915959947MAPE\n",
       ":   1.89412861939839Iteration\n",
       ":   10.8333333333333\n",
       "\n"
      ],
      "text/plain": [
       "       ME      RMSE      MAPE Iteration \n",
       "36.386949 70.872492  1.894129 10.833333 "
      ]
     },
     "metadata": {},
     "output_type": "display_data"
    }
   ],
   "source": [
    "colMeans(df_acc)"
   ]
  },
  {
   "cell_type": "code",
   "execution_count": 26,
   "metadata": {},
   "outputs": [],
   "source": [
    "df_mean_acc <- readRDS(\"df_mean_acc.rds\")\n",
    "rownames(df_mean_acc)[2:5]  <-  c('3 level', '2 level (state)', '2 level (type)' ,'2 level (clusetered)' )"
   ]
  },
  {
   "cell_type": "code",
   "execution_count": 27,
   "metadata": {},
   "outputs": [
    {
     "data": {
      "text/html": [
       "<table>\n",
       "<thead><tr><th></th><th scope=col>Квартальные</th><th scope=col>Сезонно сглаженные</th><th scope=col>Месячные</th></tr></thead>\n",
       "<tbody>\n",
       "\t<tr><th scope=row>1 level</th><td>61.83956</td><td>353.9334</td><td>14343.00</td></tr>\n",
       "\t<tr><th scope=row>3 level</th><td>70.87249</td><td>353.0963</td><td>15084.68</td></tr>\n",
       "\t<tr><th scope=row>2 level (state)</th><td>62.03617</td><td>353.1170</td><td>13590.31</td></tr>\n",
       "\t<tr><th scope=row>2 level (type)</th><td>61.89342</td><td>353.3872</td><td>12888.11</td></tr>\n",
       "\t<tr><th scope=row>2 level (clusetered)</th><td>62.15618</td><td>352.2130</td><td>13401.44</td></tr>\n",
       "</tbody>\n",
       "</table>\n"
      ],
      "text/latex": [
       "\\begin{tabular}{r|lll}\n",
       "  & Квартальные & Сезонно сглаженные & Месячные\\\\\n",
       "\\hline\n",
       "\t1 level & 61.83956 & 353.9334 & 14343.00\\\\\n",
       "\t3 level & 70.87249 & 353.0963 & 15084.68\\\\\n",
       "\t2 level (state) & 62.03617 & 353.1170 & 13590.31\\\\\n",
       "\t2 level (type) & 61.89342 & 353.3872 & 12888.11\\\\\n",
       "\t2 level (clusetered) & 62.15618 & 352.2130 & 13401.44\\\\\n",
       "\\end{tabular}\n"
      ],
      "text/markdown": [
       "\n",
       "| <!--/--> | Квартальные | Сезонно сглаженные | Месячные | \n",
       "|---|---|---|---|---|\n",
       "| 1 level | 61.83956 | 353.9334 | 14343.00 | \n",
       "| 3 level | 70.87249 | 353.0963 | 15084.68 | \n",
       "| 2 level (state) | 62.03617 | 353.1170 | 13590.31 | \n",
       "| 2 level (type) | 61.89342 | 353.3872 | 12888.11 | \n",
       "| 2 level (clusetered) | 62.15618 | 352.2130 | 13401.44 | \n",
       "\n",
       "\n"
      ],
      "text/plain": [
       "                     Квартальные Сезонно сглаженные Месячные\n",
       "1 level              61.83956    353.9334           14343.00\n",
       "3 level              70.87249    353.0963           15084.68\n",
       "2 level (state)      62.03617    353.1170           13590.31\n",
       "2 level (type)       61.89342    353.3872           12888.11\n",
       "2 level (clusetered) 62.15618    352.2130           13401.44"
      ]
     },
     "metadata": {},
     "output_type": "display_data"
    }
   ],
   "source": [
    "df_mean_acc[2,1]  <-  colMeans(df_acc)[[2]] \n",
    "df_mean_acc"
   ]
  },
  {
   "cell_type": "markdown",
   "metadata": {},
   "source": [
    "#### 2 state"
   ]
  },
  {
   "cell_type": "code",
   "execution_count": 28,
   "metadata": {},
   "outputs": [],
   "source": [
    "df_eu  <-  read.csv(file=\"../clustering/hts_eu_a10_state.csv\", header=TRUE, sep=\",\", row.names =1 )\n",
    "df_eu  <-  df_eu/1000\n",
    "var_freq  <- 4    \n",
    "var_start_year  <- 2000   \n",
    "gdp_agg <- df_eu_sums <-  rowSums(df_eu)\n",
    "gdp_agg  <- ts(gdp_agg, frequency = var_freq, start = var_start_year) "
   ]
  },
  {
   "cell_type": "code",
   "execution_count": 29,
   "metadata": {},
   "outputs": [],
   "source": [
    "var_h  <- 8\n",
    "var_window  <-  48 - 1\n",
    "var_topup  <-  1\n",
    "var_iter   <- (length(gdp_agg)+var_topup)/var_freq-(var_window+1)/var_freq-2"
   ]
  },
  {
   "cell_type": "code",
   "execution_count": 30,
   "metadata": {},
   "outputs": [],
   "source": [
    "# var_allornot  <- var_freq\n",
    "var_allornot  <- 1\n",
    "# var_shift  <-  var_topup\n",
    "var_shift  <-  0\n",
    "\n",
    "# var_arpdq   <-  c(3,0,0)\n",
    "# var_sarpdq   <-  c(2,0,0)\n",
    "# var_char  <-  c(2,1)"
   ]
  },
  {
   "cell_type": "code",
   "execution_count": 31,
   "metadata": {},
   "outputs": [
    {
     "name": "stderr",
     "output_type": "stream",
     "text": [
      "Since argument characters are not specified, the default labelling system is used.\n"
     ]
    }
   ],
   "source": [
    "df_eu  <-  as.data.table(df_eu)\n",
    "data  <-  df_eu\n",
    "y  <-  hts(data)\n",
    "s  <-  smatrix(y)\n",
    "# gts_train  <- window(y, start=20, end=67)\n",
    "# gts_test  <- window(y, start=68, end=75)\n",
    "# allts <- aggts(y)\n",
    "# allf <- matrix(, nrow=var_h, ncol=ncol(allts))"
   ]
  },
  {
   "cell_type": "code",
   "execution_count": 32,
   "metadata": {},
   "outputs": [
    {
     "name": "stdout",
     "output_type": "stream",
     "text": [
      "[1]  1 48 49 56\n"
     ]
    },
    {
     "name": "stderr",
     "output_type": "stream",
     "text": [
      "Since argument characters are not specified, the default labelling system is used.\n"
     ]
    },
    {
     "name": "stdout",
     "output_type": "stream",
     "text": [
      "Hierarchical Time Series \n",
      "2 Levels \n",
      "Number of nodes at each level: 1 28 \n",
      "Total number of series: 29 \n",
      "Number of observations per series: 8 \n",
      "Top level series: \n",
      "Time Series:\n",
      "Start = 49 \n",
      "End = 56 \n",
      "Frequency = 1 \n",
      "[1] 2950.305 2994.139 2989.717 3055.594 3006.656 3069.611 3071.954 3126.497\n",
      "Hierarchical Time Series \n",
      "2 Levels \n",
      "Number of nodes at each level: 1 28 \n",
      "Total number of series: 29 \n",
      "Number of observations per series: 8 \n",
      "Top level series: \n",
      "Time Series:\n",
      "Start = 49 \n",
      "End = 56 \n",
      "Frequency = 1 \n",
      "[1] 2958.070 3010.722 3033.490 3075.700 2977.965 3035.742 3044.227 3122.905\n",
      "          0%---------25%---------50%---------75%--------100%\n",
      "Progress: [1]  5 52 53 60\n"
     ]
    },
    {
     "name": "stderr",
     "output_type": "stream",
     "text": [
      "Since argument characters are not specified, the default labelling system is used.\n"
     ]
    },
    {
     "name": "stdout",
     "output_type": "stream",
     "text": [
      "Hierarchical Time Series \n",
      "2 Levels \n",
      "Number of nodes at each level: 1 28 \n",
      "Total number of series: 29 \n",
      "Number of observations per series: 8 \n",
      "Top level series: \n",
      "Time Series:\n",
      "Start = 49 \n",
      "End = 56 \n",
      "Frequency = 1 \n",
      "[1] 3017.071 3066.387 3071.048 3109.864 3056.049 3100.293 3101.395 3153.176\n",
      "Hierarchical Time Series \n",
      "2 Levels \n",
      "Number of nodes at each level: 1 28 \n",
      "Total number of series: 29 \n",
      "Number of observations per series: 8 \n",
      "Top level series: \n",
      "Time Series:\n",
      "Start = 53 \n",
      "End = 60 \n",
      "Frequency = 1 \n",
      "[1] 2977.965 3035.742 3044.227 3122.905 3072.484 3133.907 3160.757 3236.918\n",
      "[1]  9 56 57 64\n"
     ]
    },
    {
     "name": "stderr",
     "output_type": "stream",
     "text": [
      "Since argument characters are not specified, the default labelling system is used.\n"
     ]
    },
    {
     "name": "stdout",
     "output_type": "stream",
     "text": [
      "Hierarchical Time Series \n",
      "2 Levels \n",
      "Number of nodes at each level: 1 28 \n",
      "Total number of series: 29 \n",
      "Number of observations per series: 8 \n",
      "Top level series: \n",
      "Time Series:\n",
      "Start = 49 \n",
      "End = 56 \n",
      "Frequency = 1 \n",
      "[1] 3059.897 3114.499 3110.765 3170.430 3116.282 3168.458 3169.666 3219.824\n",
      "Hierarchical Time Series \n",
      "2 Levels \n",
      "Number of nodes at each level: 1 28 \n",
      "Total number of series: 29 \n",
      "Number of observations per series: 8 \n",
      "Top level series: \n",
      "Time Series:\n",
      "Start = 57 \n",
      "End = 64 \n",
      "Frequency = 1 \n",
      "[1] 3072.484 3133.907 3160.757 3236.918 3227.776 3311.839 3325.372 3405.251\n",
      "|[1] 13 60 61 68\n"
     ]
    },
    {
     "name": "stderr",
     "output_type": "stream",
     "text": [
      "Since argument characters are not specified, the default labelling system is used.\n"
     ]
    },
    {
     "name": "stdout",
     "output_type": "stream",
     "text": [
      "Hierarchical Time Series \n",
      "2 Levels \n",
      "Number of nodes at each level: 1 28 \n",
      "Total number of series: 29 \n",
      "Number of observations per series: 8 \n",
      "Top level series: \n",
      "Time Series:\n",
      "Start = 49 \n",
      "End = 56 \n",
      "Frequency = 1 \n",
      "[1] 3182.535 3231.537 3234.788 3286.785 3226.738 3266.406 3267.884 3319.391\n",
      "Hierarchical Time Series \n",
      "2 Levels \n",
      "Number of nodes at each level: 1 28 \n",
      "Total number of series: 29 \n",
      "Number of observations per series: 8 \n",
      "Top level series: \n",
      "Time Series:\n",
      "Start = 61 \n",
      "End = 68 \n",
      "Frequency = 1 \n",
      "[1] 3227.776 3311.839 3325.372 3405.251 3304.666 3362.395 3318.470 3395.389\n",
      "|[1] 17 64 65 72\n"
     ]
    },
    {
     "name": "stderr",
     "output_type": "stream",
     "text": [
      "Since argument characters are not specified, the default labelling system is used.\n"
     ]
    },
    {
     "name": "stdout",
     "output_type": "stream",
     "text": [
      "Hierarchical Time Series \n",
      "2 Levels \n",
      "Number of nodes at each level: 1 28 \n",
      "Total number of series: 29 \n",
      "Number of observations per series: 8 \n",
      "Top level series: \n",
      "Time Series:\n",
      "Start = 49 \n",
      "End = 56 \n",
      "Frequency = 1 \n",
      "[1] 3358.203 3409.233 3407.283 3463.372 3399.935 3439.743 3440.830 3494.809\n",
      "Hierarchical Time Series \n",
      "2 Levels \n",
      "Number of nodes at each level: 1 28 \n",
      "Total number of series: 29 \n",
      "Number of observations per series: 8 \n",
      "Top level series: \n",
      "Time Series:\n",
      "Start = 65 \n",
      "End = 72 \n",
      "Frequency = 1 \n",
      "[1] 3304.666 3362.395 3318.470 3395.389 3357.919 3432.684 3434.182 3530.894\n",
      "[1] 21 68 69 76\n"
     ]
    },
    {
     "name": "stderr",
     "output_type": "stream",
     "text": [
      "Since argument characters are not specified, the default labelling system is used.\n"
     ]
    },
    {
     "name": "stdout",
     "output_type": "stream",
     "text": [
      "Hierarchical Time Series \n",
      "2 Levels \n",
      "Number of nodes at each level: 1 28 \n",
      "Total number of series: 29 \n",
      "Number of observations per series: 8 \n",
      "Top level series: \n",
      "Time Series:\n",
      "Start = 49 \n",
      "End = 56 \n",
      "Frequency = 1 \n",
      "[1] 3366.837 3273.840 3323.113 3311.809 3374.017 3324.929 3389.386 3402.717\n",
      "Hierarchical Time Series \n",
      "2 Levels \n",
      "Number of nodes at each level: 1 28 \n",
      "Total number of series: 29 \n",
      "Number of observations per series: 8 \n",
      "Top level series: \n",
      "Time Series:\n",
      "Start = 68 \n",
      "End = 75 \n",
      "Frequency = 1 \n",
      "[1] 3395.389 3357.919 3432.684 3434.182 3530.894 3471.013 3542.181 3541.582\n"
     ]
    }
   ],
   "source": [
    "l <- ac <- m_top  <- l_test  <-  l_top  <-  list()\n",
    "\n",
    "df_ac  <-  data.frame(matrix(ncol = 0, nrow = 0))\n",
    "\n",
    "k  <- 0\n",
    "\n",
    "for (i in 0:(var_iter*var_allornot - var_shift)){\n",
    "    k  <-  k+1\n",
    "    st_year  <-  var_start_year + i/var_allornot\n",
    "    train_start  <- st_year \n",
    "    train_end  <- st_year + 1/var_freq*(var_window)\n",
    "    test_start  <- st_year + 1/var_freq*(var_window+1) \n",
    "    test_end  <-  st_year + 1/var_freq*(var_window+var_h)\n",
    "    \n",
    "    dates  <-  (c(train_start, train_end, test_start, test_end, train_start-var_topup/var_freq, train_end-var_topup/var_freq, test_start-var_topup/var_freq)-var_start_year)*var_freq+1\n",
    "    \n",
    "    train_start  <- dates[1] \n",
    "    train_end  <- dates[2]\n",
    "    test_start  <- dates[3]\n",
    "    test_end  <- dates[4]\n",
    "    \n",
    "    print(c(train_start, train_end, test_start, test_end))\n",
    "    \n",
    "    \n",
    "    if (i == 0){\n",
    "        gts_train <- window(y, end=train_end)    \n",
    "    }\n",
    "    else{\n",
    "        if ((var_shift == 0) & (i == var_iter*var_allornot - var_shift)){\n",
    "            gts_train <- window(y, start=dates[5], end=dates[6])\n",
    "        }else{\n",
    "            gts_train <- window(y, start=train_start, end=train_end)\n",
    "    }}\n",
    "    \n",
    "    if ((var_shift == 0) & (i == var_iter*var_allornot - var_shift)){\n",
    "        gts_test <- window(y, start=dates[7])\n",
    "      \n",
    "    }else{  \n",
    "     gts_test <- window(y, start=test_start, end=test_end)\n",
    "          \n",
    "    }\n",
    "    \n",
    "    \n",
    "         \n",
    "    allts <- aggts(gts_train)\n",
    "    \n",
    "    \n",
    "    \n",
    "    ms <-  foreach(j=1:ncol(allts)) %dopar% {\n",
    "        model  <- tryCatch(        \n",
    "        Arima(msts(allts[,j], seasonal.periods = var_freq), order=var_arpdq, seasonal=var_sarpdq,  include.drift = var_drift, include.mean = var_constant,  method=\"ML\"), \n",
    "            error = function(e) \n",
    "#                               {tryCatch( \n",
    "                Arima(msts(allts[,j], seasonal.periods = var_freq), order=var_arpdq, seasonal=var_sarpdq, include.drift = var_drift, include.mean = var_constant,  method=\"CSS\") #,\n",
    "#                          error = function(e)              \n",
    "#                             auto.arima(msts(allts[,j], seasonal.periods = var_freq))\n",
    "#                          )}\n",
    "                        \n",
    "            )\n",
    "        \n",
    "    }\n",
    "    \n",
    "     \n",
    "        \n",
    "    allf <- matrix(, nrow=var_h, ncol=ncol(allts))\n",
    "        \n",
    "    \n",
    "    for(j in 1:ncol(allts)){  \n",
    "    allf[,j] <- forecast(ms[[j]], h=var_h)$mean\n",
    "    \n",
    "    \n",
    "    }\n",
    "\n",
    "    \n",
    "    allf <- ts(allf)\n",
    "    colnames(allf)  <-  colnames(allts)  \n",
    "    g <- get_nodes(gts_train)\n",
    "    y.f <- combinef(allf, nodes = g, weights = c(0,rep(1, dim(df_eu)[2])))\n",
    "    forecasts_7  <- y.f[[1]]\n",
    "    colnames(forecasts_7)  <- colnames(y[[1]])\n",
    "    data_f5  <- rbind(gts_train[[1]], forecasts_7)\n",
    "    y_f5  <- hts(data_f5)\n",
    "        \n",
    "#     if (i == 4){\n",
    "#         gts_forecasts_7 <- window(y_f5, start=test_start)}\n",
    "#     else{\n",
    "#     gts_forecasts_7 <- window(y_f5, start=test_start, end=test_end)\n",
    "# #     }\n",
    "\n",
    "#     if ((var_shift == 0) & (i == var_iter*var_allornot - var_shift)){\n",
    "#         gts_forecasts_7 <- window(y_f5, start=dates[7])\n",
    "      \n",
    "#     }else{  \n",
    "     gts_forecasts_7 <- window(y_f5, start=dim(y_f5[[1]])[1]-var_h+1)\n",
    "          \n",
    "#     }\n",
    "         \n",
    "    print(gts_forecasts_7)\n",
    "    print(gts_test)\n",
    "            \n",
    "    \n",
    "    l[[k]]  <- allf\n",
    "\n",
    "    ac[[k]]  <-  accuracy.gts(gts_forecasts_7, gts_test)[, 1] \n",
    "\n",
    "    progress(i, progress.bar = TRUE)\n",
    "        \n",
    "    }"
   ]
  },
  {
   "cell_type": "code",
   "execution_count": 33,
   "metadata": {},
   "outputs": [],
   "source": [
    "var_acc_metrics  <-  c(1,2,4)\n",
    "df_acc_test  <- ac[[1]][var_acc_metrics]\n",
    "for (i in ac[2:length(ac)]){\n",
    "    x  <-  i[var_acc_metrics]\n",
    "    df_acc_test   <-  cbind(df_acc_test, x)\n",
    "}\n",
    "df_acc_test  <- t(df_acc_test)\n",
    "df_acc_test  <-  as.data.frame(df_acc_test)\n",
    "row.names(df_acc_test)  <-  seq(1,length(ac))\n",
    "df_acc  <- df_acc_test\n",
    "df_acc  <-  cbind(df_acc, seq(1, length(ac)))\n",
    "colnames(df_acc)[length(var_acc_metrics)+1]  <-  'Iteration'"
   ]
  },
  {
   "cell_type": "code",
   "execution_count": 34,
   "metadata": {},
   "outputs": [],
   "source": [
    "df_acc$Iteration  <-  df_acc$Iteration*var_freq-(var_freq-1)\n",
    "df_acc$Iteration[length(df_acc$Iteration)]  <-   df_acc$Iteration[length(df_acc$Iteration)] - var_topup"
   ]
  },
  {
   "cell_type": "code",
   "execution_count": 35,
   "metadata": {},
   "outputs": [
    {
     "data": {
      "text/html": [
       "<dl class=dl-horizontal>\n",
       "\t<dt>ME</dt>\n",
       "\t\t<dd>44.7069599510408</dd>\n",
       "\t<dt>RMSE</dt>\n",
       "\t\t<dd>73.0936780816413</dd>\n",
       "\t<dt>MAPE</dt>\n",
       "\t\t<dd>1.97167088716589</dd>\n",
       "\t<dt>Iteration</dt>\n",
       "\t\t<dd>10.8333333333333</dd>\n",
       "</dl>\n"
      ],
      "text/latex": [
       "\\begin{description*}\n",
       "\\item[ME] 44.7069599510408\n",
       "\\item[RMSE] 73.0936780816413\n",
       "\\item[MAPE] 1.97167088716589\n",
       "\\item[Iteration] 10.8333333333333\n",
       "\\end{description*}\n"
      ],
      "text/markdown": [
       "ME\n",
       ":   44.7069599510408RMSE\n",
       ":   73.0936780816413MAPE\n",
       ":   1.97167088716589Iteration\n",
       ":   10.8333333333333\n",
       "\n"
      ],
      "text/plain": [
       "       ME      RMSE      MAPE Iteration \n",
       "44.706960 73.093678  1.971671 10.833333 "
      ]
     },
     "metadata": {},
     "output_type": "display_data"
    }
   ],
   "source": [
    "colMeans(df_acc)"
   ]
  },
  {
   "cell_type": "code",
   "execution_count": 36,
   "metadata": {},
   "outputs": [],
   "source": [
    "# df_mean_acc <- readRDS(\"df_mean_acc.rds\")\n",
    "# rownames(df_mean_acc)[2:5]  <-  c('3 level', '2 level (state)', '2 level (type)' ,'2 level (clusetered)' )"
   ]
  },
  {
   "cell_type": "code",
   "execution_count": 37,
   "metadata": {},
   "outputs": [
    {
     "data": {
      "text/html": [
       "<table>\n",
       "<thead><tr><th></th><th scope=col>Квартальные</th><th scope=col>Сезонно сглаженные</th><th scope=col>Месячные</th></tr></thead>\n",
       "<tbody>\n",
       "\t<tr><th scope=row>1 level</th><td>61.83956</td><td>353.9334</td><td>14343.00</td></tr>\n",
       "\t<tr><th scope=row>3 level</th><td>70.87249</td><td>353.0963</td><td>15084.68</td></tr>\n",
       "\t<tr><th scope=row>2 level (state)</th><td>73.09368</td><td>353.1170</td><td>13590.31</td></tr>\n",
       "\t<tr><th scope=row>2 level (type)</th><td>61.89342</td><td>353.3872</td><td>12888.11</td></tr>\n",
       "\t<tr><th scope=row>2 level (clusetered)</th><td>62.15618</td><td>352.2130</td><td>13401.44</td></tr>\n",
       "</tbody>\n",
       "</table>\n"
      ],
      "text/latex": [
       "\\begin{tabular}{r|lll}\n",
       "  & Квартальные & Сезонно сглаженные & Месячные\\\\\n",
       "\\hline\n",
       "\t1 level & 61.83956 & 353.9334 & 14343.00\\\\\n",
       "\t3 level & 70.87249 & 353.0963 & 15084.68\\\\\n",
       "\t2 level (state) & 73.09368 & 353.1170 & 13590.31\\\\\n",
       "\t2 level (type) & 61.89342 & 353.3872 & 12888.11\\\\\n",
       "\t2 level (clusetered) & 62.15618 & 352.2130 & 13401.44\\\\\n",
       "\\end{tabular}\n"
      ],
      "text/markdown": [
       "\n",
       "| <!--/--> | Квартальные | Сезонно сглаженные | Месячные | \n",
       "|---|---|---|---|---|\n",
       "| 1 level | 61.83956 | 353.9334 | 14343.00 | \n",
       "| 3 level | 70.87249 | 353.0963 | 15084.68 | \n",
       "| 2 level (state) | 73.09368 | 353.1170 | 13590.31 | \n",
       "| 2 level (type) | 61.89342 | 353.3872 | 12888.11 | \n",
       "| 2 level (clusetered) | 62.15618 | 352.2130 | 13401.44 | \n",
       "\n",
       "\n"
      ],
      "text/plain": [
       "                     Квартальные Сезонно сглаженные Месячные\n",
       "1 level              61.83956    353.9334           14343.00\n",
       "3 level              70.87249    353.0963           15084.68\n",
       "2 level (state)      73.09368    353.1170           13590.31\n",
       "2 level (type)       61.89342    353.3872           12888.11\n",
       "2 level (clusetered) 62.15618    352.2130           13401.44"
      ]
     },
     "metadata": {},
     "output_type": "display_data"
    }
   ],
   "source": [
    "df_mean_acc[3,1]  <-  colMeans(df_acc)[[2]] \n",
    "df_mean_acc"
   ]
  },
  {
   "cell_type": "markdown",
   "metadata": {},
   "source": [
    "#### 2 type"
   ]
  },
  {
   "cell_type": "code",
   "execution_count": 39,
   "metadata": {},
   "outputs": [],
   "source": [
    "df_eu  <-  read.csv(file=\"../clustering/hts_eu_a10_type.csv\", header=TRUE, sep=\",\", row.names =1 )\n",
    "df_eu  <-  df_eu/1000\n",
    "var_freq  <- 4    \n",
    "var_start_year  <- 2000   \n",
    "gdp_agg <- df_eu_sums <-  rowSums(df_eu)\n",
    "gdp_agg  <- ts(gdp_agg, frequency = var_freq, start = var_start_year) "
   ]
  },
  {
   "cell_type": "code",
   "execution_count": 40,
   "metadata": {},
   "outputs": [],
   "source": [
    "var_h  <- 8\n",
    "var_window  <-  48 - 1\n",
    "var_topup  <-  1\n",
    "var_iter   <- (length(gdp_agg)+var_topup)/var_freq-(var_window+1)/var_freq-2"
   ]
  },
  {
   "cell_type": "code",
   "execution_count": 41,
   "metadata": {},
   "outputs": [],
   "source": [
    "# var_allornot  <- var_freq\n",
    "var_allornot  <- 1\n",
    "# var_shift  <-  var_topup\n",
    "var_shift  <-  0\n",
    "\n",
    "# var_arpdq   <-  c(3,0,0)\n",
    "# var_sarpdq   <-  c(2,0,0)\n",
    "# var_char  <-  c(2,1)"
   ]
  },
  {
   "cell_type": "code",
   "execution_count": 42,
   "metadata": {},
   "outputs": [
    {
     "data": {
      "text/html": [
       "6"
      ],
      "text/latex": [
       "6"
      ],
      "text/markdown": [
       "6"
      ],
      "text/plain": [
       "[1] 6"
      ]
     },
     "metadata": {},
     "output_type": "display_data"
    }
   ],
   "source": [
    "75-69"
   ]
  },
  {
   "cell_type": "code",
   "execution_count": 43,
   "metadata": {},
   "outputs": [
    {
     "name": "stderr",
     "output_type": "stream",
     "text": [
      "Since argument characters are not specified, the default labelling system is used.\n"
     ]
    }
   ],
   "source": [
    "df_eu  <-  as.data.table(df_eu)\n",
    "data  <-  df_eu\n",
    "y  <-  hts(data)\n",
    "s  <-  smatrix(y)\n",
    "# gts_train  <- window(y, start=20, end=67)\n",
    "# gts_test  <- window(y, start=68, end=75)\n",
    "allts <- aggts(gts_train)\n",
    "allf <- matrix(, nrow=var_h, ncol=ncol(allts))"
   ]
  },
  {
   "cell_type": "code",
   "execution_count": 44,
   "metadata": {},
   "outputs": [
    {
     "name": "stdout",
     "output_type": "stream",
     "text": [
      "[1]  1 48 49 56\n"
     ]
    },
    {
     "name": "stderr",
     "output_type": "stream",
     "text": [
      "Since argument characters are not specified, the default labelling system is used.\n"
     ]
    },
    {
     "name": "stdout",
     "output_type": "stream",
     "text": [
      "Hierarchical Time Series \n",
      "2 Levels \n",
      "Number of nodes at each level: 1 10 \n",
      "Total number of series: 11 \n",
      "Number of observations per series: 8 \n",
      "Top level series: \n",
      "Time Series:\n",
      "Start = 49 \n",
      "End = 56 \n",
      "Frequency = 1 \n",
      "[1] 2963.709 3010.303 3017.085 3083.117 3045.029 3093.839 3105.010 3166.615\n",
      "Hierarchical Time Series \n",
      "2 Levels \n",
      "Number of nodes at each level: 1 10 \n",
      "Total number of series: 11 \n",
      "Number of observations per series: 8 \n",
      "Top level series: \n",
      "Time Series:\n",
      "Start = 49 \n",
      "End = 56 \n",
      "Frequency = 1 \n",
      "[1] 2958.070 3010.722 3033.490 3075.700 2977.965 3035.742 3044.227 3122.905\n",
      "          0%---------25%---------50%---------75%--------100%\n",
      "Progress: [1]  5 52 53 60\n"
     ]
    },
    {
     "name": "stderr",
     "output_type": "stream",
     "text": [
      "Since argument characters are not specified, the default labelling system is used.\n"
     ]
    },
    {
     "name": "stdout",
     "output_type": "stream",
     "text": [
      "Hierarchical Time Series \n",
      "2 Levels \n",
      "Number of nodes at each level: 1 10 \n",
      "Total number of series: 11 \n",
      "Number of observations per series: 8 \n",
      "Top level series: \n",
      "Time Series:\n",
      "Start = 49 \n",
      "End = 56 \n",
      "Frequency = 1 \n",
      "[1] 3026.826 3072.049 3090.611 3138.168 3097.134 3143.154 3164.886 3210.953\n",
      "Hierarchical Time Series \n",
      "2 Levels \n",
      "Number of nodes at each level: 1 10 \n",
      "Total number of series: 11 \n",
      "Number of observations per series: 8 \n",
      "Top level series: \n",
      "Time Series:\n",
      "Start = 53 \n",
      "End = 60 \n",
      "Frequency = 1 \n",
      "[1] 2977.965 3035.742 3044.227 3122.905 3072.484 3133.907 3160.757 3236.918\n",
      "[1]  9 56 57 64\n"
     ]
    },
    {
     "name": "stderr",
     "output_type": "stream",
     "text": [
      "Since argument characters are not specified, the default labelling system is used.\n"
     ]
    },
    {
     "name": "stdout",
     "output_type": "stream",
     "text": [
      "Hierarchical Time Series \n",
      "2 Levels \n",
      "Number of nodes at each level: 1 10 \n",
      "Total number of series: 11 \n",
      "Number of observations per series: 8 \n",
      "Top level series: \n",
      "Time Series:\n",
      "Start = 49 \n",
      "End = 56 \n",
      "Frequency = 1 \n",
      "[1] 3061.280 3125.056 3142.576 3205.834 3140.711 3194.138 3207.339 3263.822\n",
      "Hierarchical Time Series \n",
      "2 Levels \n",
      "Number of nodes at each level: 1 10 \n",
      "Total number of series: 11 \n",
      "Number of observations per series: 8 \n",
      "Top level series: \n",
      "Time Series:\n",
      "Start = 57 \n",
      "End = 64 \n",
      "Frequency = 1 \n",
      "[1] 3072.484 3133.907 3160.757 3236.918 3227.776 3311.839 3325.372 3405.251\n",
      "|[1] 13 60 61 68\n"
     ]
    },
    {
     "name": "stderr",
     "output_type": "stream",
     "text": [
      "Since argument characters are not specified, the default labelling system is used.\n"
     ]
    },
    {
     "name": "stdout",
     "output_type": "stream",
     "text": [
      "Hierarchical Time Series \n",
      "2 Levels \n",
      "Number of nodes at each level: 1 10 \n",
      "Total number of series: 11 \n",
      "Number of observations per series: 8 \n",
      "Top level series: \n",
      "Time Series:\n",
      "Start = 49 \n",
      "End = 56 \n",
      "Frequency = 1 \n",
      "[1] 3182.332 3229.001 3242.510 3299.767 3245.443 3286.984 3304.369 3356.952\n",
      "Hierarchical Time Series \n",
      "2 Levels \n",
      "Number of nodes at each level: 1 10 \n",
      "Total number of series: 11 \n",
      "Number of observations per series: 8 \n",
      "Top level series: \n",
      "Time Series:\n",
      "Start = 61 \n",
      "End = 68 \n",
      "Frequency = 1 \n",
      "[1] 3227.776 3311.839 3325.372 3405.251 3304.666 3362.395 3318.470 3395.389\n",
      "|[1] 17 64 65 72\n"
     ]
    },
    {
     "name": "stderr",
     "output_type": "stream",
     "text": [
      "Since argument characters are not specified, the default labelling system is used.\n"
     ]
    },
    {
     "name": "stdout",
     "output_type": "stream",
     "text": [
      "Hierarchical Time Series \n",
      "2 Levels \n",
      "Number of nodes at each level: 1 10 \n",
      "Total number of series: 11 \n",
      "Number of observations per series: 8 \n",
      "Top level series: \n",
      "Time Series:\n",
      "Start = 49 \n",
      "End = 56 \n",
      "Frequency = 1 \n",
      "[1] 3370.621 3420.531 3416.323 3466.290 3420.590 3463.220 3466.164 3516.251\n",
      "Hierarchical Time Series \n",
      "2 Levels \n",
      "Number of nodes at each level: 1 10 \n",
      "Total number of series: 11 \n",
      "Number of observations per series: 8 \n",
      "Top level series: \n",
      "Time Series:\n",
      "Start = 65 \n",
      "End = 72 \n",
      "Frequency = 1 \n",
      "[1] 3304.666 3362.395 3318.470 3395.389 3357.919 3432.684 3434.182 3530.894\n",
      "[1] 21 68 69 76\n"
     ]
    },
    {
     "name": "stderr",
     "output_type": "stream",
     "text": [
      "Since argument characters are not specified, the default labelling system is used.\n"
     ]
    },
    {
     "name": "stdout",
     "output_type": "stream",
     "text": [
      "Hierarchical Time Series \n",
      "2 Levels \n",
      "Number of nodes at each level: 1 10 \n",
      "Total number of series: 11 \n",
      "Number of observations per series: 8 \n",
      "Top level series: \n",
      "Time Series:\n",
      "Start = 49 \n",
      "End = 56 \n",
      "Frequency = 1 \n",
      "[1] 3370.261 3289.119 3354.266 3351.743 3418.132 3361.925 3430.235 3436.867\n",
      "Hierarchical Time Series \n",
      "2 Levels \n",
      "Number of nodes at each level: 1 10 \n",
      "Total number of series: 11 \n",
      "Number of observations per series: 8 \n",
      "Top level series: \n",
      "Time Series:\n",
      "Start = 68 \n",
      "End = 75 \n",
      "Frequency = 1 \n",
      "[1] 3395.389 3357.919 3432.684 3434.182 3530.894 3471.013 3542.181 3541.582\n"
     ]
    }
   ],
   "source": [
    "l <- ac <- m_top  <- l_test  <-  l_top  <-  list()\n",
    "\n",
    "df_ac  <-  data.frame(matrix(ncol = 0, nrow = 0))\n",
    "\n",
    "k  <- 0\n",
    "\n",
    "for (i in 0:(var_iter*var_allornot - var_shift)){\n",
    "    k  <-  k+1\n",
    "    st_year  <-  var_start_year + i/var_allornot\n",
    "    train_start  <- st_year \n",
    "    train_end  <- st_year + 1/var_freq*(var_window)\n",
    "    test_start  <- st_year + 1/var_freq*(var_window+1) \n",
    "    test_end  <-  st_year + 1/var_freq*(var_window+var_h)\n",
    "    \n",
    "    dates  <-  (c(train_start, train_end, test_start, test_end, train_start-var_topup/var_freq, train_end-var_topup/var_freq, test_start-var_topup/var_freq)-var_start_year)*var_freq+1\n",
    "    \n",
    "    train_start  <- dates[1] \n",
    "    train_end  <- dates[2]\n",
    "    test_start  <- dates[3]\n",
    "    test_end  <- dates[4]\n",
    "    \n",
    "    print(c(train_start, train_end, test_start, test_end))\n",
    "    \n",
    "    \n",
    "    if (i == 0){\n",
    "        gts_train <- window(y, end=train_end)    \n",
    "    }\n",
    "    else{\n",
    "        if ((var_shift == 0) & (i == var_iter*var_allornot - var_shift)){\n",
    "            gts_train <- window(y, start=dates[5], end=dates[6])\n",
    "        }else{\n",
    "            gts_train <- window(y, start=train_start, end=train_end)\n",
    "    }}\n",
    "    \n",
    "    if ((var_shift == 0) & (i == var_iter*var_allornot - var_shift)){\n",
    "        gts_test <- window(y, start=dates[7])\n",
    "      \n",
    "    }else{  \n",
    "     gts_test <- window(y, start=test_start, end=test_end)\n",
    "          \n",
    "    }\n",
    "    \n",
    "    \n",
    "         \n",
    "    allts <- aggts(gts_train)\n",
    "    \n",
    "    \n",
    "    \n",
    "    ms <-  foreach(j=1:ncol(allts)) %dopar% {\n",
    "        model  <- tryCatch(        \n",
    "        Arima(msts(allts[,j], seasonal.periods = var_freq), order=var_arpdq, seasonal=var_sarpdq,  include.drift = var_drift, include.mean = var_constant,  method=\"ML\"), \n",
    "            error = function(e) \n",
    "#                               {tryCatch( \n",
    "                Arima(msts(allts[,j], seasonal.periods = var_freq), order=var_arpdq, seasonal=var_sarpdq, include.drift = var_drift, include.mean = var_constant,  method=\"CSS\") #,\n",
    "#                          error = function(e)              \n",
    "#                             auto.arima(msts(allts[,j], seasonal.periods = var_freq))\n",
    "#                          )}\n",
    "                        \n",
    "            )\n",
    "        \n",
    "    }\n",
    "    \n",
    "     \n",
    "        \n",
    "    allf <- matrix(, nrow=var_h, ncol=ncol(allts))\n",
    "        \n",
    "    \n",
    "    for(j in 1:ncol(allts)){  \n",
    "    allf[,j] <- forecast(ms[[j]], h=var_h)$mean\n",
    "    \n",
    "    \n",
    "    }\n",
    "\n",
    "    \n",
    "    allf <- ts(allf)\n",
    "    colnames(allf)  <-  colnames(allts)  \n",
    "    g <- get_nodes(gts_train)\n",
    "    y.f <- combinef(allf, nodes = g, weights = c(0,rep(1, dim(df_eu)[2])))\n",
    "    forecasts_7  <- y.f[[1]]\n",
    "    colnames(forecasts_7)  <- colnames(y[[1]])\n",
    "    data_f5  <- rbind(gts_train[[1]], forecasts_7)\n",
    "    y_f5  <- hts(data_f5)\n",
    "        \n",
    "#     if (i == 4){\n",
    "#         gts_forecasts_7 <- window(y_f5, start=test_start)}\n",
    "#     else{\n",
    "#     gts_forecasts_7 <- window(y_f5, start=test_start, end=test_end)\n",
    "# #     }\n",
    "\n",
    "#     if ((var_shift == 0) & (i == var_iter*var_allornot - var_shift)){\n",
    "#         gts_forecasts_7 <- window(y_f5, start=dates[7])\n",
    "      \n",
    "#     }else{  \n",
    "     gts_forecasts_7 <- window(y_f5, start=dim(y_f5[[1]])[1]-var_h+1)\n",
    "          \n",
    "#     }\n",
    "         \n",
    "    print(gts_forecasts_7)\n",
    "    print(gts_test)\n",
    "            \n",
    "    \n",
    "    l[[k]]  <- allf\n",
    "\n",
    "    ac[[k]]  <-  accuracy.gts(gts_forecasts_7, gts_test)[, 1] \n",
    "\n",
    "    progress(i, progress.bar = TRUE)\n",
    "        \n",
    "    }"
   ]
  },
  {
   "cell_type": "code",
   "execution_count": 45,
   "metadata": {},
   "outputs": [],
   "source": [
    "var_acc_metrics  <-  c(1,2,4)\n",
    "df_acc_test  <- ac[[1]][var_acc_metrics]\n",
    "for (i in ac[2:length(ac)]){\n",
    "    x  <-  i[var_acc_metrics]\n",
    "    df_acc_test   <-  cbind(df_acc_test, x)\n",
    "}\n",
    "df_acc_test  <- t(df_acc_test)\n",
    "df_acc_test  <-  as.data.frame(df_acc_test)\n",
    "row.names(df_acc_test)  <-  seq(1,length(ac))\n",
    "df_acc  <- df_acc_test\n",
    "df_acc  <-  cbind(df_acc, seq(1, length(ac)))\n",
    "colnames(df_acc)[length(var_acc_metrics)+1]  <-  'Iteration'"
   ]
  },
  {
   "cell_type": "code",
   "execution_count": 46,
   "metadata": {},
   "outputs": [],
   "source": [
    "df_acc$Iteration  <-  df_acc$Iteration*var_freq-(var_freq-1)"
   ]
  },
  {
   "cell_type": "code",
   "execution_count": 47,
   "metadata": {},
   "outputs": [],
   "source": [
    "df_acc$Iteration[length(df_acc$Iteration)]  <-   df_acc$Iteration[length(df_acc$Iteration)] - var_topup"
   ]
  },
  {
   "cell_type": "code",
   "execution_count": 49,
   "metadata": {},
   "outputs": [
    {
     "data": {
      "text/html": [
       "<dl class=dl-horizontal>\n",
       "\t<dt>ME</dt>\n",
       "\t\t<dd>19.6352263027828</dd>\n",
       "\t<dt>RMSE</dt>\n",
       "\t\t<dd>62.6543540859705</dd>\n",
       "\t<dt>MAPE</dt>\n",
       "\t\t<dd>1.65512917302106</dd>\n",
       "\t<dt>Iteration</dt>\n",
       "\t\t<dd>10.8333333333333</dd>\n",
       "</dl>\n"
      ],
      "text/latex": [
       "\\begin{description*}\n",
       "\\item[ME] 19.6352263027828\n",
       "\\item[RMSE] 62.6543540859705\n",
       "\\item[MAPE] 1.65512917302106\n",
       "\\item[Iteration] 10.8333333333333\n",
       "\\end{description*}\n"
      ],
      "text/markdown": [
       "ME\n",
       ":   19.6352263027828RMSE\n",
       ":   62.6543540859705MAPE\n",
       ":   1.65512917302106Iteration\n",
       ":   10.8333333333333\n",
       "\n"
      ],
      "text/plain": [
       "       ME      RMSE      MAPE Iteration \n",
       "19.635226 62.654354  1.655129 10.833333 "
      ]
     },
     "metadata": {},
     "output_type": "display_data"
    }
   ],
   "source": [
    "colMeans(df_acc)"
   ]
  },
  {
   "cell_type": "code",
   "execution_count": 50,
   "metadata": {},
   "outputs": [],
   "source": [
    "# df_mean_acc <- readRDS(\"df_mean_acc.rds\")\n",
    "# rownames(df_mean_acc)[2:5]  <-  c('3 level', '2 level (state)', '2 level (type)' ,'2 level (clusetered)' )"
   ]
  },
  {
   "cell_type": "code",
   "execution_count": 51,
   "metadata": {},
   "outputs": [
    {
     "data": {
      "text/html": [
       "<table>\n",
       "<thead><tr><th></th><th scope=col>Квартальные</th><th scope=col>Сезонно сглаженные</th><th scope=col>Месячные</th></tr></thead>\n",
       "<tbody>\n",
       "\t<tr><th scope=row>1 level</th><td>61.83956</td><td>353.9334</td><td>14343.00</td></tr>\n",
       "\t<tr><th scope=row>3 level</th><td>70.87249</td><td>353.0963</td><td>15084.68</td></tr>\n",
       "\t<tr><th scope=row>2 level (state)</th><td>73.09368</td><td>353.1170</td><td>13590.31</td></tr>\n",
       "\t<tr><th scope=row>2 level (type)</th><td>62.65435</td><td>353.3872</td><td>12888.11</td></tr>\n",
       "\t<tr><th scope=row>2 level (clusetered)</th><td>62.15618</td><td>352.2130</td><td>13401.44</td></tr>\n",
       "</tbody>\n",
       "</table>\n"
      ],
      "text/latex": [
       "\\begin{tabular}{r|lll}\n",
       "  & Квартальные & Сезонно сглаженные & Месячные\\\\\n",
       "\\hline\n",
       "\t1 level & 61.83956 & 353.9334 & 14343.00\\\\\n",
       "\t3 level & 70.87249 & 353.0963 & 15084.68\\\\\n",
       "\t2 level (state) & 73.09368 & 353.1170 & 13590.31\\\\\n",
       "\t2 level (type) & 62.65435 & 353.3872 & 12888.11\\\\\n",
       "\t2 level (clusetered) & 62.15618 & 352.2130 & 13401.44\\\\\n",
       "\\end{tabular}\n"
      ],
      "text/markdown": [
       "\n",
       "| <!--/--> | Квартальные | Сезонно сглаженные | Месячные | \n",
       "|---|---|---|---|---|\n",
       "| 1 level | 61.83956 | 353.9334 | 14343.00 | \n",
       "| 3 level | 70.87249 | 353.0963 | 15084.68 | \n",
       "| 2 level (state) | 73.09368 | 353.1170 | 13590.31 | \n",
       "| 2 level (type) | 62.65435 | 353.3872 | 12888.11 | \n",
       "| 2 level (clusetered) | 62.15618 | 352.2130 | 13401.44 | \n",
       "\n",
       "\n"
      ],
      "text/plain": [
       "                     Квартальные Сезонно сглаженные Месячные\n",
       "1 level              61.83956    353.9334           14343.00\n",
       "3 level              70.87249    353.0963           15084.68\n",
       "2 level (state)      73.09368    353.1170           13590.31\n",
       "2 level (type)       62.65435    353.3872           12888.11\n",
       "2 level (clusetered) 62.15618    352.2130           13401.44"
      ]
     },
     "metadata": {},
     "output_type": "display_data"
    }
   ],
   "source": [
    "df_mean_acc[4,1]  <-  colMeans(df_acc)[[2]] \n",
    "df_mean_acc"
   ]
  },
  {
   "cell_type": "markdown",
   "metadata": {},
   "source": [
    "#### 2 clust"
   ]
  },
  {
   "cell_type": "code",
   "execution_count": 53,
   "metadata": {},
   "outputs": [],
   "source": [
    "df_eu  <-  read.csv(file=\"../clustering/hts_eu_a10_clust.csv\", header=TRUE, sep=\",\", row.names =1 )\n",
    "df_eu  <-  df_eu/1000\n",
    "var_freq  <- 4    \n",
    "var_start_year  <- 2000   \n",
    "gdp_agg <- df_eu_sums <-  rowSums(df_eu)\n",
    "gdp_agg  <- ts(gdp_agg, frequency = var_freq, start = var_start_year) "
   ]
  },
  {
   "cell_type": "code",
   "execution_count": 54,
   "metadata": {},
   "outputs": [],
   "source": [
    "var_h  <- 8\n",
    "var_window  <-  48 - 1\n",
    "var_topup  <-  1\n",
    "var_iter   <- (length(gdp_agg)+var_topup)/var_freq-(var_window+1)/var_freq-2"
   ]
  },
  {
   "cell_type": "code",
   "execution_count": 55,
   "metadata": {},
   "outputs": [],
   "source": [
    "# var_allornot  <- var_freq\n",
    "var_allornot  <- 1\n",
    "# var_shift  <-  var_topup\n",
    "var_shift  <-  0\n",
    "\n"
   ]
  },
  {
   "cell_type": "code",
   "execution_count": 56,
   "metadata": {},
   "outputs": [
    {
     "name": "stderr",
     "output_type": "stream",
     "text": [
      "Since argument characters are not specified, the default labelling system is used.\n"
     ]
    }
   ],
   "source": [
    "df_eu  <-  as.data.table(df_eu)\n",
    "data  <-  df_eu\n",
    "y  <-  hts(data)\n",
    "s  <-  smatrix(y)\n",
    "# gts_train  <- window(y, start=20, end=67)\n",
    "# gts_test  <- window(y, start=68, end=75)\n",
    "# allts <- aggts(gts_train)\n",
    "# allf <- matrix(, nrow=var_h, ncol=ncol(allts))"
   ]
  },
  {
   "cell_type": "code",
   "execution_count": 57,
   "metadata": {},
   "outputs": [
    {
     "name": "stdout",
     "output_type": "stream",
     "text": [
      "[1]  1 48 49 56\n"
     ]
    },
    {
     "name": "stderr",
     "output_type": "stream",
     "text": [
      "Since argument characters are not specified, the default labelling system is used.\n"
     ]
    },
    {
     "name": "stdout",
     "output_type": "stream",
     "text": [
      "Hierarchical Time Series \n",
      "2 Levels \n",
      "Number of nodes at each level: 1 25 \n",
      "Total number of series: 26 \n",
      "Number of observations per series: 8 \n",
      "Top level series: \n",
      "Time Series:\n",
      "Start = 49 \n",
      "End = 56 \n",
      "Frequency = 1 \n",
      "[1] 2949.328 2996.185 2995.318 3062.929 3014.242 3079.335 3086.404 3142.174\n",
      "Hierarchical Time Series \n",
      "2 Levels \n",
      "Number of nodes at each level: 1 25 \n",
      "Total number of series: 26 \n",
      "Number of observations per series: 8 \n",
      "Top level series: \n",
      "Time Series:\n",
      "Start = 49 \n",
      "End = 56 \n",
      "Frequency = 1 \n",
      "[1] 2958.070 3010.722 3033.490 3075.700 2977.965 3035.742 3044.227 3122.905\n",
      "          0%---------25%---------50%---------75%--------100%\n",
      "Progress: [1]  5 52 53 60\n"
     ]
    },
    {
     "name": "stderr",
     "output_type": "stream",
     "text": [
      "Since argument characters are not specified, the default labelling system is used.\n"
     ]
    },
    {
     "name": "stdout",
     "output_type": "stream",
     "text": [
      "Hierarchical Time Series \n",
      "2 Levels \n",
      "Number of nodes at each level: 1 25 \n",
      "Total number of series: 26 \n",
      "Number of observations per series: 8 \n",
      "Top level series: \n",
      "Time Series:\n",
      "Start = 49 \n",
      "End = 56 \n",
      "Frequency = 1 \n",
      "[1] 3021.406 3072.809 3081.881 3121.237 3064.410 3109.868 3113.456 3159.588\n",
      "Hierarchical Time Series \n",
      "2 Levels \n",
      "Number of nodes at each level: 1 25 \n",
      "Total number of series: 26 \n",
      "Number of observations per series: 8 \n",
      "Top level series: \n",
      "Time Series:\n",
      "Start = 53 \n",
      "End = 60 \n",
      "Frequency = 1 \n",
      "[1] 2977.965 3035.742 3044.227 3122.905 3072.484 3133.907 3160.757 3236.918\n",
      "[1]  9 56 57 64\n"
     ]
    },
    {
     "name": "stderr",
     "output_type": "stream",
     "text": [
      "Since argument characters are not specified, the default labelling system is used.\n"
     ]
    },
    {
     "name": "stdout",
     "output_type": "stream",
     "text": [
      "Hierarchical Time Series \n",
      "2 Levels \n",
      "Number of nodes at each level: 1 25 \n",
      "Total number of series: 26 \n",
      "Number of observations per series: 8 \n",
      "Top level series: \n",
      "Time Series:\n",
      "Start = 49 \n",
      "End = 56 \n",
      "Frequency = 1 \n",
      "[1] 3054.749 3113.125 3115.143 3171.291 3110.541 3161.174 3165.111 3211.862\n",
      "Hierarchical Time Series \n",
      "2 Levels \n",
      "Number of nodes at each level: 1 25 \n",
      "Total number of series: 26 \n",
      "Number of observations per series: 8 \n",
      "Top level series: \n",
      "Time Series:\n",
      "Start = 57 \n",
      "End = 64 \n",
      "Frequency = 1 \n",
      "[1] 3072.484 3133.907 3160.757 3236.918 3227.776 3311.839 3325.372 3405.251\n",
      "|[1] 13 60 61 68\n"
     ]
    },
    {
     "name": "stderr",
     "output_type": "stream",
     "text": [
      "Since argument characters are not specified, the default labelling system is used.\n"
     ]
    },
    {
     "name": "stdout",
     "output_type": "stream",
     "text": [
      "Hierarchical Time Series \n",
      "2 Levels \n",
      "Number of nodes at each level: 1 25 \n",
      "Total number of series: 26 \n",
      "Number of observations per series: 8 \n",
      "Top level series: \n",
      "Time Series:\n",
      "Start = 49 \n",
      "End = 56 \n",
      "Frequency = 1 \n",
      "[1] 3183.695 3231.671 3236.382 3287.860 3226.440 3265.919 3269.540 3320.204\n",
      "Hierarchical Time Series \n",
      "2 Levels \n",
      "Number of nodes at each level: 1 25 \n",
      "Total number of series: 26 \n",
      "Number of observations per series: 8 \n",
      "Top level series: \n",
      "Time Series:\n",
      "Start = 61 \n",
      "End = 68 \n",
      "Frequency = 1 \n",
      "[1] 3227.776 3311.839 3325.372 3405.251 3304.666 3362.395 3318.470 3395.389\n",
      "|[1] 17 64 65 72\n"
     ]
    },
    {
     "name": "stderr",
     "output_type": "stream",
     "text": [
      "Since argument characters are not specified, the default labelling system is used.\n"
     ]
    },
    {
     "name": "stdout",
     "output_type": "stream",
     "text": [
      "Hierarchical Time Series \n",
      "2 Levels \n",
      "Number of nodes at each level: 1 25 \n",
      "Total number of series: 26 \n",
      "Number of observations per series: 8 \n",
      "Top level series: \n",
      "Time Series:\n",
      "Start = 49 \n",
      "End = 56 \n",
      "Frequency = 1 \n",
      "[1] 3365.170 3413.912 3409.100 3465.169 3410.829 3446.076 3445.178 3498.358\n",
      "Hierarchical Time Series \n",
      "2 Levels \n",
      "Number of nodes at each level: 1 25 \n",
      "Total number of series: 26 \n",
      "Number of observations per series: 8 \n",
      "Top level series: \n",
      "Time Series:\n",
      "Start = 65 \n",
      "End = 72 \n",
      "Frequency = 1 \n",
      "[1] 3304.666 3362.395 3318.470 3395.389 3357.919 3432.684 3434.182 3530.894\n",
      "[1] 21 68 69 76\n"
     ]
    },
    {
     "name": "stderr",
     "output_type": "stream",
     "text": [
      "Since argument characters are not specified, the default labelling system is used.\n"
     ]
    },
    {
     "name": "stdout",
     "output_type": "stream",
     "text": [
      "Hierarchical Time Series \n",
      "2 Levels \n",
      "Number of nodes at each level: 1 25 \n",
      "Total number of series: 26 \n",
      "Number of observations per series: 8 \n",
      "Top level series: \n",
      "Time Series:\n",
      "Start = 49 \n",
      "End = 56 \n",
      "Frequency = 1 \n",
      "[1] 3366.935 3281.744 3325.104 3318.794 3378.447 3331.834 3392.572 3410.583\n",
      "Hierarchical Time Series \n",
      "2 Levels \n",
      "Number of nodes at each level: 1 25 \n",
      "Total number of series: 26 \n",
      "Number of observations per series: 8 \n",
      "Top level series: \n",
      "Time Series:\n",
      "Start = 68 \n",
      "End = 75 \n",
      "Frequency = 1 \n",
      "[1] 3395.389 3357.919 3432.684 3434.182 3530.894 3471.013 3542.181 3541.582\n"
     ]
    }
   ],
   "source": [
    "l <- ac <- m_top  <- l_test  <-  l_top  <-  list()\n",
    "\n",
    "df_ac  <-  data.frame(matrix(ncol = 0, nrow = 0))\n",
    "\n",
    "k  <- 0\n",
    "\n",
    "for (i in 0:(var_iter*var_allornot - var_shift)){\n",
    "    k  <-  k+1\n",
    "    st_year  <-  var_start_year + i/var_allornot\n",
    "    train_start  <- st_year \n",
    "    train_end  <- st_year + 1/var_freq*(var_window)\n",
    "    test_start  <- st_year + 1/var_freq*(var_window+1) \n",
    "    test_end  <-  st_year + 1/var_freq*(var_window+var_h)\n",
    "    \n",
    "    dates  <-  (c(train_start, train_end, test_start, test_end, train_start-var_topup/var_freq, train_end-var_topup/var_freq, test_start-var_topup/var_freq)-var_start_year)*var_freq+1\n",
    "    \n",
    "    train_start  <- dates[1] \n",
    "    train_end  <- dates[2]\n",
    "    test_start  <- dates[3]\n",
    "    test_end  <- dates[4]\n",
    "    \n",
    "    print(c(train_start, train_end, test_start, test_end))\n",
    "    \n",
    "    \n",
    "    if (i == 0){\n",
    "        gts_train <- window(y, end=train_end)    \n",
    "    }\n",
    "    else{\n",
    "        if ((var_shift == 0) & (i == var_iter*var_allornot - var_shift)){\n",
    "            gts_train <- window(y, start=dates[5], end=dates[6])\n",
    "        }else{\n",
    "            gts_train <- window(y, start=train_start, end=train_end)\n",
    "    }}\n",
    "    \n",
    "    if ((var_shift == 0) & (i == var_iter*var_allornot - var_shift)){\n",
    "        gts_test <- window(y, start=dates[7])\n",
    "      \n",
    "    }else{  \n",
    "     gts_test <- window(y, start=test_start, end=test_end)\n",
    "          \n",
    "    }\n",
    "    \n",
    "    \n",
    "         \n",
    "    allts <- aggts(gts_train)\n",
    "    \n",
    "    \n",
    "    \n",
    "    ms <-  foreach(j=1:ncol(allts)) %dopar% {\n",
    "        model  <- tryCatch(        \n",
    "        Arima(msts(allts[,j], seasonal.periods = var_freq), order=var_arpdq, seasonal=var_sarpdq,  include.drift = var_drift, include.mean = var_constant,  method=\"ML\"), \n",
    "            error = function(e) \n",
    "#                               {tryCatch( \n",
    "                Arima(msts(allts[,j], seasonal.periods = var_freq), order=var_arpdq, seasonal=var_sarpdq, include.drift = var_drift, include.mean = var_constant,  method=\"CSS\") #,\n",
    "#                          error = function(e)              \n",
    "#                             auto.arima(msts(allts[,j], seasonal.periods = var_freq))\n",
    "#                          )}\n",
    "                        \n",
    "            )\n",
    "        \n",
    "    }\n",
    "    \n",
    "     \n",
    "        \n",
    "    allf <- matrix(, nrow=var_h, ncol=ncol(allts))\n",
    "        \n",
    "    \n",
    "    for(j in 1:ncol(allts)){  \n",
    "    allf[,j] <- forecast(ms[[j]], h=var_h)$mean\n",
    "    \n",
    "    \n",
    "    }\n",
    "\n",
    "    \n",
    "    allf <- ts(allf)\n",
    "    colnames(allf)  <-  colnames(allts)  \n",
    "    g <- get_nodes(gts_train)\n",
    "    y.f <- combinef(allf, nodes = g, weights = c(0,rep(1, dim(df_eu)[2])))\n",
    "    forecasts_7  <- y.f[[1]]\n",
    "    colnames(forecasts_7)  <- colnames(y[[1]])\n",
    "    data_f5  <- rbind(gts_train[[1]], forecasts_7)\n",
    "    y_f5  <- hts(data_f5)\n",
    "        \n",
    "#     if (i == 4){\n",
    "#         gts_forecasts_7 <- window(y_f5, start=test_start)}\n",
    "#     else{\n",
    "#     gts_forecasts_7 <- window(y_f5, start=test_start, end=test_end)\n",
    "# #     }\n",
    "\n",
    "#     if ((var_shift == 0) & (i == var_iter*var_allornot - var_shift)){\n",
    "#         gts_forecasts_7 <- window(y_f5, start=dates[7])\n",
    "      \n",
    "#     }else{  \n",
    "     gts_forecasts_7 <- window(y_f5, start=dim(y_f5[[1]])[1]-var_h+1)\n",
    "          \n",
    "#     }\n",
    "         \n",
    "    print(gts_forecasts_7)\n",
    "    print(gts_test)\n",
    "            \n",
    "    \n",
    "    l[[k]]  <- allf\n",
    "\n",
    "    ac[[k]]  <-  accuracy.gts(gts_forecasts_7, gts_test)[, 1] \n",
    "\n",
    "    progress(i, progress.bar = TRUE)\n",
    "        \n",
    "    }"
   ]
  },
  {
   "cell_type": "code",
   "execution_count": 58,
   "metadata": {},
   "outputs": [],
   "source": [
    "var_acc_metrics  <-  c(1,2,4)\n",
    "df_acc_test  <- ac[[1]][var_acc_metrics]\n",
    "for (i in ac[2:length(ac)]){\n",
    "    x  <-  i[var_acc_metrics]\n",
    "    df_acc_test   <-  cbind(df_acc_test, x)\n",
    "}\n",
    "df_acc_test  <- t(df_acc_test)\n",
    "df_acc_test  <-  as.data.frame(df_acc_test)\n",
    "row.names(df_acc_test)  <-  seq(1,length(ac))\n",
    "df_acc  <- df_acc_test\n",
    "df_acc  <-  cbind(df_acc, seq(1, length(ac)))\n",
    "colnames(df_acc)[length(var_acc_metrics)+1]  <-  'Iteration'"
   ]
  },
  {
   "cell_type": "code",
   "execution_count": 59,
   "metadata": {},
   "outputs": [],
   "source": [
    "df_acc$Iteration  <-  df_acc$Iteration*var_freq-(var_freq-1)"
   ]
  },
  {
   "cell_type": "code",
   "execution_count": 60,
   "metadata": {},
   "outputs": [],
   "source": [
    "df_acc$Iteration[length(df_acc$Iteration)]  <-   df_acc$Iteration[length(df_acc$Iteration)] - var_topup"
   ]
  },
  {
   "cell_type": "code",
   "execution_count": 62,
   "metadata": {},
   "outputs": [
    {
     "data": {
      "text/html": [
       "<dl class=dl-horizontal>\n",
       "\t<dt>ME</dt>\n",
       "\t\t<dd>40.7614528057027</dd>\n",
       "\t<dt>RMSE</dt>\n",
       "\t\t<dd>73.6719483268687</dd>\n",
       "\t<dt>MAPE</dt>\n",
       "\t\t<dd>1.98806037938456</dd>\n",
       "\t<dt>Iteration</dt>\n",
       "\t\t<dd>10.8333333333333</dd>\n",
       "</dl>\n"
      ],
      "text/latex": [
       "\\begin{description*}\n",
       "\\item[ME] 40.7614528057027\n",
       "\\item[RMSE] 73.6719483268687\n",
       "\\item[MAPE] 1.98806037938456\n",
       "\\item[Iteration] 10.8333333333333\n",
       "\\end{description*}\n"
      ],
      "text/markdown": [
       "ME\n",
       ":   40.7614528057027RMSE\n",
       ":   73.6719483268687MAPE\n",
       ":   1.98806037938456Iteration\n",
       ":   10.8333333333333\n",
       "\n"
      ],
      "text/plain": [
       "       ME      RMSE      MAPE Iteration \n",
       " 40.76145  73.67195   1.98806  10.83333 "
      ]
     },
     "metadata": {},
     "output_type": "display_data"
    }
   ],
   "source": [
    "colMeans(df_acc)"
   ]
  },
  {
   "cell_type": "code",
   "execution_count": 63,
   "metadata": {},
   "outputs": [],
   "source": [
    "# df_mean_acc <- readRDS(\"df_mean_acc.rds\")\n",
    "# rownames(df_mean_acc)[2:5]  <-  c('3 level', '2 level (state)', '2 level (type)' ,'2 level (clusetered)' )"
   ]
  },
  {
   "cell_type": "code",
   "execution_count": 64,
   "metadata": {},
   "outputs": [
    {
     "data": {
      "text/html": [
       "<table>\n",
       "<thead><tr><th></th><th scope=col>Квартальные</th><th scope=col>Сезонно сглаженные</th><th scope=col>Месячные</th></tr></thead>\n",
       "<tbody>\n",
       "\t<tr><th scope=row>1 level</th><td>61.83956</td><td>353.9334</td><td>14343.00</td></tr>\n",
       "\t<tr><th scope=row>3 level</th><td>70.87249</td><td>353.0963</td><td>15084.68</td></tr>\n",
       "\t<tr><th scope=row>2 level (state)</th><td>73.09368</td><td>353.1170</td><td>13590.31</td></tr>\n",
       "\t<tr><th scope=row>2 level (type)</th><td>62.65435</td><td>353.3872</td><td>12888.11</td></tr>\n",
       "\t<tr><th scope=row>2 level (clusetered)</th><td>73.67195</td><td>352.2130</td><td>13401.44</td></tr>\n",
       "</tbody>\n",
       "</table>\n"
      ],
      "text/latex": [
       "\\begin{tabular}{r|lll}\n",
       "  & Квартальные & Сезонно сглаженные & Месячные\\\\\n",
       "\\hline\n",
       "\t1 level & 61.83956 & 353.9334 & 14343.00\\\\\n",
       "\t3 level & 70.87249 & 353.0963 & 15084.68\\\\\n",
       "\t2 level (state) & 73.09368 & 353.1170 & 13590.31\\\\\n",
       "\t2 level (type) & 62.65435 & 353.3872 & 12888.11\\\\\n",
       "\t2 level (clusetered) & 73.67195 & 352.2130 & 13401.44\\\\\n",
       "\\end{tabular}\n"
      ],
      "text/markdown": [
       "\n",
       "| <!--/--> | Квартальные | Сезонно сглаженные | Месячные | \n",
       "|---|---|---|---|---|\n",
       "| 1 level | 61.83956 | 353.9334 | 14343.00 | \n",
       "| 3 level | 70.87249 | 353.0963 | 15084.68 | \n",
       "| 2 level (state) | 73.09368 | 353.1170 | 13590.31 | \n",
       "| 2 level (type) | 62.65435 | 353.3872 | 12888.11 | \n",
       "| 2 level (clusetered) | 73.67195 | 352.2130 | 13401.44 | \n",
       "\n",
       "\n"
      ],
      "text/plain": [
       "                     Квартальные Сезонно сглаженные Месячные\n",
       "1 level              61.83956    353.9334           14343.00\n",
       "3 level              70.87249    353.0963           15084.68\n",
       "2 level (state)      73.09368    353.1170           13590.31\n",
       "2 level (type)       62.65435    353.3872           12888.11\n",
       "2 level (clusetered) 73.67195    352.2130           13401.44"
      ]
     },
     "metadata": {},
     "output_type": "display_data"
    }
   ],
   "source": [
    "df_mean_acc[5,1]  <-  colMeans(df_acc)[[2]] \n",
    "df_mean_acc"
   ]
  },
  {
   "cell_type": "code",
   "execution_count": 66,
   "metadata": {},
   "outputs": [],
   "source": [
    "saveRDS(df_mean_acc, \"df_mean_acc_no_weights.rds\")"
   ]
  },
  {
   "cell_type": "code",
   "execution_count": null,
   "metadata": {},
   "outputs": [],
   "source": []
  }
 ],
 "metadata": {
  "kernelspec": {
   "display_name": "R 3.5.1",
   "language": "R",
   "name": "ir"
  },
  "language_info": {
   "codemirror_mode": "r",
   "file_extension": ".r",
   "mimetype": "text/x-r-source",
   "name": "R",
   "pygments_lexer": "r",
   "version": "3.5.2"
  }
 },
 "nbformat": 4,
 "nbformat_minor": 2
}
