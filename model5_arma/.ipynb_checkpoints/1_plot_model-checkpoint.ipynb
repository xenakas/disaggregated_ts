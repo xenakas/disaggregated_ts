{
 "cells": [
  {
   "cell_type": "markdown",
   "metadata": {},
   "source": [
    "#### 5"
   ]
  },
  {
   "cell_type": "code",
   "execution_count": 1,
   "metadata": {
    "scrolled": true
   },
   "outputs": [
    {
     "name": "stderr",
     "output_type": "stream",
     "text": [
      "\n",
      "Attaching package: ‘dplyr’\n",
      "\n",
      "The following objects are masked from ‘package:stats’:\n",
      "\n",
      "    filter, lag\n",
      "\n",
      "The following objects are masked from ‘package:base’:\n",
      "\n",
      "    intersect, setdiff, setequal, union\n",
      "\n",
      "\n",
      "Attaching package: ‘gridExtra’\n",
      "\n",
      "The following object is masked from ‘package:dplyr’:\n",
      "\n",
      "    combine\n",
      "\n"
     ]
    }
   ],
   "source": [
    "library(forecast)\n",
    "library(ggplot2)\n",
    "library(dplyr)\n",
    "library(gridExtra)"
   ]
  },
  {
   "cell_type": "code",
   "execution_count": 2,
   "metadata": {},
   "outputs": [
    {
     "name": "stderr",
     "output_type": "stream",
     "text": [
      "Loading required package: foreach\n",
      "Loading required package: iterators\n",
      "Loading required package: parallel\n"
     ]
    }
   ],
   "source": [
    "# library(doParallel)\n",
    "library(doMC)\n",
    "options(cores = 10)\n",
    "registerDoMC()"
   ]
  },
  {
   "cell_type": "markdown",
   "metadata": {},
   "source": [
    "### ЕС"
   ]
  },
  {
   "cell_type": "code",
   "execution_count": 3,
   "metadata": {},
   "outputs": [],
   "source": [
    "df_eu  <-  read.csv(file=\"../data_hts/hts_eu_a10.csv\", header=TRUE, sep=\",\", row.names =1 )\n",
    "df_eu  <-  df_eu/1000\n",
    "var_freq  <- 4    \n",
    "var_start_year  <- 2000   \n",
    "gdp_agg <- df_eu_sums <-  rowSums(df_eu)\n",
    "gdp_agg  <- ts(gdp_agg, frequency = var_freq, start = var_start_year) "
   ]
  },
  {
   "cell_type": "code",
   "execution_count": 4,
   "metadata": {},
   "outputs": [],
   "source": [
    "var_h  <- 8\n",
    "var_window  <-  48 - 1\n",
    "var_topup  <-  1\n",
    "var_iter   <- (length(gdp_agg)+var_topup)/var_freq-(var_window+1)/var_freq-2"
   ]
  },
  {
   "cell_type": "code",
   "execution_count": 5,
   "metadata": {},
   "outputs": [],
   "source": [
    "# var_allornot  <- var_freq\n",
    "var_allornot  <- 1\n",
    "# var_shift  <-  var_topup\n",
    "var_shift  <-  0"
   ]
  },
  {
   "cell_type": "code",
   "execution_count": 6,
   "metadata": {},
   "outputs": [],
   "source": [
    "var_arpdq   <-  c(3,0,1)\n",
    "var_sarpdq   <-  c(2,0,1)\n",
    "var_drift   <-  TRUE\n",
    "var_constant   <-  TRUE"
   ]
  },
  {
   "cell_type": "code",
   "execution_count": 7,
   "metadata": {},
   "outputs": [
    {
     "name": "stdout",
     "output_type": "stream",
     "text": [
      "[1] 2000.00 2011.75 2012.00 2013.75\n",
      "[1] 2001.00 2012.75 2013.00 2014.75\n",
      "[1] 2002.00 2013.75 2014.00 2015.75\n",
      "[1] 2003.00 2014.75 2015.00 2016.75\n",
      "[1] 2004.00 2015.75 2016.00 2017.75\n",
      "[1] 2005.00 2016.75 2017.00 2018.75\n"
     ]
    }
   ],
   "source": [
    "l <- ac <- m_top  <- l_test  <-  list()\n",
    "\n",
    "k  <- 0\n",
    "\n",
    "for (i in 0:(var_iter*var_allornot - var_shift)){\n",
    "    k  <-  k+1\n",
    "    st_year  <-  var_start_year + i/var_allornot\n",
    "    train_start  <- st_year \n",
    "    train_end  <- st_year + 1/var_freq*(var_window)\n",
    "    test_start  <- st_year + 1/var_freq*(var_window+1) \n",
    "    test_end  <-  st_year + 1/var_freq*(var_window+var_h)\n",
    "    \n",
    "    print(c(train_start, train_end, test_start, test_end))\n",
    "    \n",
    "    if (i == 0){\n",
    "        train <- window(gdp_agg, end=train_end)}\n",
    "    else{\n",
    "        if ((var_shift == 0) & (i == var_iter*var_allornot - var_shift)){\n",
    "            train <- window(gdp_agg, start=train_start-var_topup/var_freq, end=train_end-var_topup/var_freq)\n",
    "        }else{\n",
    "            train <- window(gdp_agg, start=train_start, end=train_end)\n",
    "    }}\n",
    "    \n",
    "    if ((var_shift == 0) & (i == var_iter*var_allornot - var_shift)){\n",
    "        test <- window(gdp_agg, start=test_start-var_topup/var_freq)\n",
    "    }else{    test <- window(gdp_agg, start=test_start, end=test_end)\n",
    "        \n",
    "    }\n",
    "    \n",
    "    m_top[[k]]  <- Arima(msts(train, seasonal.periods = var_freq), order=var_arpdq, seasonal=var_sarpdq, include.drift = var_drift, include.mean = var_constant, method=\"ML\")\n",
    "    \n",
    "#     print(test)\n",
    "#     print(gdp_arima)\n",
    "    l[[k]]  <-   forecast(m_top[[k]], h = var_h  )\n",
    "\n",
    "    l_test[[i+1]]  <-   test\n",
    "    \n",
    "    ac[[i+1]]  <-  accuracy(l[[k]], test)\n",
    "\n",
    "    }"
   ]
  },
  {
   "cell_type": "code",
   "execution_count": 8,
   "metadata": {},
   "outputs": [
    {
     "data": {
      "text/html": [
       "<table>\n",
       "<thead><tr><th scope=col>ME</th><th scope=col>RMSE</th><th scope=col>MAPE</th></tr></thead>\n",
       "<tbody>\n",
       "\t<tr><td>-48.78467</td><td>66.18082 </td><td>1.738598 </td></tr>\n",
       "\t<tr><td>-32.44008</td><td>38.05426 </td><td>1.107932 </td></tr>\n",
       "\t<tr><td> 42.87832</td><td>59.83560 </td><td>1.376218 </td></tr>\n",
       "\t<tr><td> 62.68389</td><td>67.35557 </td><td>1.874879 </td></tr>\n",
       "\t<tr><td>-49.65021</td><td>65.00976 </td><td>1.750587 </td></tr>\n",
       "\t<tr><td> 85.01159</td><td>92.28755 </td><td>2.439407 </td></tr>\n",
       "</tbody>\n",
       "</table>\n"
      ],
      "text/latex": [
       "\\begin{tabular}{r|lll}\n",
       " ME & RMSE & MAPE\\\\\n",
       "\\hline\n",
       "\t -48.78467 & 66.18082  & 1.738598 \\\\\n",
       "\t -32.44008 & 38.05426  & 1.107932 \\\\\n",
       "\t  42.87832 & 59.83560  & 1.376218 \\\\\n",
       "\t  62.68389 & 67.35557  & 1.874879 \\\\\n",
       "\t -49.65021 & 65.00976  & 1.750587 \\\\\n",
       "\t  85.01159 & 92.28755  & 2.439407 \\\\\n",
       "\\end{tabular}\n"
      ],
      "text/markdown": [
       "\n",
       "ME | RMSE | MAPE | \n",
       "|---|---|---|---|---|---|\n",
       "| -48.78467 | 66.18082  | 1.738598  | \n",
       "| -32.44008 | 38.05426  | 1.107932  | \n",
       "|  42.87832 | 59.83560  | 1.376218  | \n",
       "|  62.68389 | 67.35557  | 1.874879  | \n",
       "| -49.65021 | 65.00976  | 1.750587  | \n",
       "|  85.01159 | 92.28755  | 2.439407  | \n",
       "\n",
       "\n"
      ],
      "text/plain": [
       "  ME        RMSE     MAPE    \n",
       "1 -48.78467 66.18082 1.738598\n",
       "2 -32.44008 38.05426 1.107932\n",
       "3  42.87832 59.83560 1.376218\n",
       "4  62.68389 67.35557 1.874879\n",
       "5 -49.65021 65.00976 1.750587\n",
       "6  85.01159 92.28755 2.439407"
      ]
     },
     "metadata": {},
     "output_type": "display_data"
    }
   ],
   "source": [
    "var_acc_metrics  <-  c(1,2,5)\n",
    "df_acc_test  <- ac[[1]][2, var_acc_metrics]\n",
    "for (i in ac[2:length(ac)]){\n",
    "    x  <-  i[2, var_acc_metrics]\n",
    "    df_acc_test   <-  cbind(df_acc_test, x)\n",
    "}\n",
    "df_acc_test  <- t(df_acc_test)\n",
    "df_acc_test  <-  as.data.frame(df_acc_test)\n",
    "row.names(df_acc_test)  <-  seq(1,length(ac))\n",
    "df_acc_test"
   ]
  },
  {
   "cell_type": "code",
   "execution_count": 9,
   "metadata": {},
   "outputs": [
    {
     "data": {
      "text/html": [
       "<dl class=dl-horizontal>\n",
       "\t<dt>ME</dt>\n",
       "\t\t<dd>9.94980767491396</dd>\n",
       "\t<dt>RMSE</dt>\n",
       "\t\t<dd>64.7872605956475</dd>\n",
       "\t<dt>MAPE</dt>\n",
       "\t\t<dd>1.71460344990267</dd>\n",
       "</dl>\n"
      ],
      "text/latex": [
       "\\begin{description*}\n",
       "\\item[ME] 9.94980767491396\n",
       "\\item[RMSE] 64.7872605956475\n",
       "\\item[MAPE] 1.71460344990267\n",
       "\\end{description*}\n"
      ],
      "text/markdown": [
       "ME\n",
       ":   9.94980767491396RMSE\n",
       ":   64.7872605956475MAPE\n",
       ":   1.71460344990267\n",
       "\n"
      ],
      "text/plain": [
       "       ME      RMSE      MAPE \n",
       " 9.949808 64.787261  1.714603 "
      ]
     },
     "metadata": {},
     "output_type": "display_data"
    }
   ],
   "source": [
    "colMeans(df_acc_test)"
   ]
  },
  {
   "cell_type": "code",
   "execution_count": 10,
   "metadata": {},
   "outputs": [
    {
     "data": {},
     "metadata": {},
     "output_type": "display_data"
    },
    {
     "data": {
      "image/png": "[encoded data removed]",
      "text/plain": [
       "plot without title"
      ]
     },
     "metadata": {},
     "output_type": "display_data"
    }
   ],
   "source": [
    "plot_forecasts  <-  autoplot(window(gdp_agg, start=2010))+\n",
    "    xlab(\"Время\") + ylab('ВВП') +\n",
    "    ggtitle(\"AR(3)SAR(2) с линейным трендом\") +\n",
    "    guides(colour=guide_legend(title=\" \")) +\n",
    "    theme(aspect.ratio = 0.75)\n",
    "\n",
    "for (i in 1:length(l)){\n",
    "    plot_forecasts  <-  plot_forecasts  +\n",
    "    autolayer(l[[i]], series=paste(\"Итерация\" , i, sep=\" \") ,   PI=FALSE) \n",
    "    \n",
    "}\n",
    "\n",
    "plot_forecasts\n"
   ]
  },
  {
   "cell_type": "code",
   "execution_count": 11,
   "metadata": {},
   "outputs": [
    {
     "data": {
      "text/html": [
       "<table>\n",
       "<thead><tr><th></th><th scope=col>Квартальные</th><th scope=col>Сезонно сглаженные</th><th scope=col>Месячные</th></tr></thead>\n",
       "<tbody>\n",
       "\t<tr><th scope=row>1 level</th><td>64.78726</td><td>377.976 </td><td>16919.15</td></tr>\n",
       "\t<tr><th scope=row>2</th><td>      NA</td><td>     NA </td><td>      NA</td></tr>\n",
       "\t<tr><th scope=row>3</th><td>      NA</td><td>     NA </td><td>      NA</td></tr>\n",
       "\t<tr><th scope=row>4</th><td>      NA</td><td>     NA </td><td>      NA</td></tr>\n",
       "\t<tr><th scope=row>5</th><td>      NA</td><td>     NA </td><td>      NA</td></tr>\n",
       "</tbody>\n",
       "</table>\n"
      ],
      "text/latex": [
       "\\begin{tabular}{r|lll}\n",
       "  & Квартальные & Сезонно сглаженные & Месячные\\\\\n",
       "\\hline\n",
       "\t1 level & 64.78726 & 377.976  & 16919.15\\\\\n",
       "\t2 &       NA &      NA  &       NA\\\\\n",
       "\t3 &       NA &      NA  &       NA\\\\\n",
       "\t4 &       NA &      NA  &       NA\\\\\n",
       "\t5 &       NA &      NA  &       NA\\\\\n",
       "\\end{tabular}\n"
      ],
      "text/markdown": [
       "\n",
       "| <!--/--> | Квартальные | Сезонно сглаженные | Месячные | \n",
       "|---|---|---|---|---|\n",
       "| 1 level | 64.78726 | 377.976  | 16919.15 | \n",
       "| 2 |       NA |      NA  |       NA | \n",
       "| 3 |       NA |      NA  |       NA | \n",
       "| 4 |       NA |      NA  |       NA | \n",
       "| 5 |       NA |      NA  |       NA | \n",
       "\n",
       "\n"
      ],
      "text/plain": [
       "        Квартальные Сезонно сглаженные Месячные\n",
       "1 level 64.78726    377.976            16919.15\n",
       "2             NA         NA                  NA\n",
       "3             NA         NA                  NA\n",
       "4             NA         NA                  NA\n",
       "5             NA         NA                  NA"
      ]
     },
     "metadata": {},
     "output_type": "display_data"
    }
   ],
   "source": [
    "df_mean_acc <- readRDS(\"df_mean_acc.rds\")\n",
    "df_mean_acc"
   ]
  },
  {
   "cell_type": "code",
   "execution_count": 12,
   "metadata": {},
   "outputs": [
    {
     "data": {
      "text/html": [
       "<table>\n",
       "<thead><tr><th></th><th scope=col>Квартальные</th><th scope=col>Сезонно сглаженные</th><th scope=col>Месячные</th></tr></thead>\n",
       "<tbody>\n",
       "\t<tr><th scope=row>1 level</th><td>64.78726</td><td>377.976 </td><td>16919.15</td></tr>\n",
       "\t<tr><th scope=row>2</th><td>      NA</td><td>     NA </td><td>      NA</td></tr>\n",
       "\t<tr><th scope=row>3</th><td>      NA</td><td>     NA </td><td>      NA</td></tr>\n",
       "\t<tr><th scope=row>4</th><td>      NA</td><td>     NA </td><td>      NA</td></tr>\n",
       "\t<tr><th scope=row>5</th><td>      NA</td><td>     NA </td><td>      NA</td></tr>\n",
       "</tbody>\n",
       "</table>\n"
      ],
      "text/latex": [
       "\\begin{tabular}{r|lll}\n",
       "  & Квартальные & Сезонно сглаженные & Месячные\\\\\n",
       "\\hline\n",
       "\t1 level & 64.78726 & 377.976  & 16919.15\\\\\n",
       "\t2 &       NA &      NA  &       NA\\\\\n",
       "\t3 &       NA &      NA  &       NA\\\\\n",
       "\t4 &       NA &      NA  &       NA\\\\\n",
       "\t5 &       NA &      NA  &       NA\\\\\n",
       "\\end{tabular}\n"
      ],
      "text/markdown": [
       "\n",
       "| <!--/--> | Квартальные | Сезонно сглаженные | Месячные | \n",
       "|---|---|---|---|---|\n",
       "| 1 level | 64.78726 | 377.976  | 16919.15 | \n",
       "| 2 |       NA |      NA  |       NA | \n",
       "| 3 |       NA |      NA  |       NA | \n",
       "| 4 |       NA |      NA  |       NA | \n",
       "| 5 |       NA |      NA  |       NA | \n",
       "\n",
       "\n"
      ],
      "text/plain": [
       "        Квартальные Сезонно сглаженные Месячные\n",
       "1 level 64.78726    377.976            16919.15\n",
       "2             NA         NA                  NA\n",
       "3             NA         NA                  NA\n",
       "4             NA         NA                  NA\n",
       "5             NA         NA                  NA"
      ]
     },
     "metadata": {},
     "output_type": "display_data"
    }
   ],
   "source": [
    "df_mean_acc[1,1]  <-  colMeans(df_acc_test)[[2]]\n",
    "df_mean_acc"
   ]
  },
  {
   "cell_type": "code",
   "execution_count": 13,
   "metadata": {},
   "outputs": [],
   "source": [
    "save_plots  <- list()"
   ]
  },
  {
   "cell_type": "code",
   "execution_count": 14,
   "metadata": {},
   "outputs": [],
   "source": [
    "save_plots[[1]]  <-  plot_forecasts"
   ]
  },
  {
   "cell_type": "code",
   "execution_count": 15,
   "metadata": {},
   "outputs": [],
   "source": [
    "df_acc  <-  df_acc_test"
   ]
  },
  {
   "cell_type": "code",
   "execution_count": 16,
   "metadata": {},
   "outputs": [],
   "source": [
    "colnames(df_acc)  <-  colnames(ac[[1]])[var_acc_metrics] \n",
    "df_acc  <-  cbind(df_acc, seq(1, length(ac)))\n",
    "colnames(df_acc)[length(var_acc_metrics)+1]  <-  'Iteration'"
   ]
  },
  {
   "cell_type": "code",
   "execution_count": 17,
   "metadata": {},
   "outputs": [],
   "source": [
    "df_acc$Iteration  <-  df_acc$Iteration*var_freq-(var_freq-1)\n",
    "df_acc$Iteration[length(df_acc$Iteration)]  <-   df_acc$Iteration[length(df_acc$Iteration)] - var_topup"
   ]
  },
  {
   "cell_type": "code",
   "execution_count": 18,
   "metadata": {},
   "outputs": [
    {
     "data": {
      "text/html": [
       "<table>\n",
       "<thead><tr><th scope=col>ME</th><th scope=col>RMSE</th><th scope=col>MAPE</th><th scope=col>Iteration</th></tr></thead>\n",
       "<tbody>\n",
       "\t<tr><td>-48.78467</td><td>66.18082 </td><td>1.738598 </td><td> 1       </td></tr>\n",
       "\t<tr><td>-32.44008</td><td>38.05426 </td><td>1.107932 </td><td> 5       </td></tr>\n",
       "\t<tr><td> 42.87832</td><td>59.83560 </td><td>1.376218 </td><td> 9       </td></tr>\n",
       "\t<tr><td> 62.68389</td><td>67.35557 </td><td>1.874879 </td><td>13       </td></tr>\n",
       "\t<tr><td>-49.65021</td><td>65.00976 </td><td>1.750587 </td><td>17       </td></tr>\n",
       "\t<tr><td> 85.01159</td><td>92.28755 </td><td>2.439407 </td><td>20       </td></tr>\n",
       "</tbody>\n",
       "</table>\n"
      ],
      "text/latex": [
       "\\begin{tabular}{r|llll}\n",
       " ME & RMSE & MAPE & Iteration\\\\\n",
       "\\hline\n",
       "\t -48.78467 & 66.18082  & 1.738598  &  1       \\\\\n",
       "\t -32.44008 & 38.05426  & 1.107932  &  5       \\\\\n",
       "\t  42.87832 & 59.83560  & 1.376218  &  9       \\\\\n",
       "\t  62.68389 & 67.35557  & 1.874879  & 13       \\\\\n",
       "\t -49.65021 & 65.00976  & 1.750587  & 17       \\\\\n",
       "\t  85.01159 & 92.28755  & 2.439407  & 20       \\\\\n",
       "\\end{tabular}\n"
      ],
      "text/markdown": [
       "\n",
       "ME | RMSE | MAPE | Iteration | \n",
       "|---|---|---|---|---|---|\n",
       "| -48.78467 | 66.18082  | 1.738598  |  1        | \n",
       "| -32.44008 | 38.05426  | 1.107932  |  5        | \n",
       "|  42.87832 | 59.83560  | 1.376218  |  9        | \n",
       "|  62.68389 | 67.35557  | 1.874879  | 13        | \n",
       "| -49.65021 | 65.00976  | 1.750587  | 17        | \n",
       "|  85.01159 | 92.28755  | 2.439407  | 20        | \n",
       "\n",
       "\n"
      ],
      "text/plain": [
       "  ME        RMSE     MAPE     Iteration\n",
       "1 -48.78467 66.18082 1.738598  1       \n",
       "2 -32.44008 38.05426 1.107932  5       \n",
       "3  42.87832 59.83560 1.376218  9       \n",
       "4  62.68389 67.35557 1.874879 13       \n",
       "5 -49.65021 65.00976 1.750587 17       \n",
       "6  85.01159 92.28755 2.439407 20       "
      ]
     },
     "metadata": {},
     "output_type": "display_data"
    }
   ],
   "source": [
    "df_acc"
   ]
  },
  {
   "cell_type": "code",
   "execution_count": 19,
   "metadata": {},
   "outputs": [],
   "source": [
    "var_allornot  <- var_freq\n",
    "# var_allornot  <- 1\n",
    "var_shift  <-  var_topup\n",
    "# var_shift  <-  0"
   ]
  },
  {
   "cell_type": "markdown",
   "metadata": {},
   "source": [
    "### США"
   ]
  },
  {
   "cell_type": "code",
   "execution_count": 20,
   "metadata": {},
   "outputs": [],
   "source": [
    "df_eu  <-  read.csv(file=\"../data_hts/hts_us_ind_filled.csv\", header=TRUE, sep=\",\", row.names =1 )\n",
    "df_eu  <-  df_eu/1000\n",
    "var_freq  <- 4    \n",
    "var_start_year  <- 2005   \n",
    "gdp_agg <- df_eu_sums <-  rowSums(df_eu)\n",
    "gdp_agg  <- ts(gdp_agg, frequency = var_freq, start = var_start_year) "
   ]
  },
  {
   "cell_type": "code",
   "execution_count": 21,
   "metadata": {},
   "outputs": [],
   "source": [
    "var_h  <- 8\n",
    "var_window  <-  28 - 1\n",
    "var_topup  <-  2\n",
    "var_iter   <- (length(gdp_agg)+var_topup)/var_freq-(var_window+1)/var_freq-2"
   ]
  },
  {
   "cell_type": "code",
   "execution_count": 22,
   "metadata": {},
   "outputs": [],
   "source": [
    "# var_allornot  <- var_freq\n",
    "var_allornot  <- 1\n",
    "# var_shift  <-  var_topup\n",
    "var_shift  <-  0\n",
    "\n",
    "var_arpdq   <-  c(4,0,1)\n",
    "var_sarpdq   <-  c(0,0,0)\n",
    "var_drift   <-  TRUE\n",
    "var_constant   <-  TRUE"
   ]
  },
  {
   "cell_type": "code",
   "execution_count": 23,
   "metadata": {},
   "outputs": [
    {
     "name": "stdout",
     "output_type": "stream",
     "text": [
      "[1] 2005.00 2011.75 2012.00 2013.75\n",
      "[1] 2006.00 2012.75 2013.00 2014.75\n",
      "[1] 2007.00 2013.75 2014.00 2015.75\n",
      "[1] 2008.00 2014.75 2015.00 2016.75\n",
      "[1] 2009.00 2015.75 2016.00 2017.75\n",
      "[1] 2010.00 2016.75 2017.00 2018.75\n"
     ]
    }
   ],
   "source": [
    "l <- ac <- m_top  <- l_test  <-  list()\n",
    "\n",
    "k  <- 0\n",
    "\n",
    "for (i in 0:(var_iter*var_allornot - var_shift)){\n",
    "    k  <-  k+1\n",
    "    st_year  <-  var_start_year + i/var_allornot\n",
    "    train_start  <- st_year \n",
    "    train_end  <- st_year + 1/var_freq*(var_window)\n",
    "    test_start  <- st_year + 1/var_freq*(var_window+1) \n",
    "    test_end  <-  st_year + 1/var_freq*(var_window+var_h)\n",
    "    \n",
    "    print(c(train_start, train_end, test_start, test_end))\n",
    "    \n",
    "    if (i == 0){\n",
    "        train <- window(gdp_agg, end=train_end)}\n",
    "    else{\n",
    "        if ((var_shift == 0) & (i == var_iter*var_allornot - var_shift)){\n",
    "            train <- window(gdp_agg, start=train_start-var_topup/var_freq, end=train_end-var_topup/var_freq)\n",
    "        }else{\n",
    "            train <- window(gdp_agg, start=train_start, end=train_end)\n",
    "    }}\n",
    "    \n",
    "    if ((var_shift == 0) & (i == var_iter*var_allornot - var_shift)){\n",
    "        test <- window(gdp_agg, start=test_start-var_topup/var_freq)\n",
    "    }else{    test <- window(gdp_agg, start=test_start, end=test_end)\n",
    "        \n",
    "    }\n",
    "    \n",
    "    m_top[[k]]  <- Arima(msts(train, seasonal.periods = var_freq), order=var_arpdq, seasonal=var_sarpdq, include.drift = var_drift, include.mean = var_constant, method=\"ML\")\n",
    "    \n",
    "#     print(test)\n",
    "#     print(gdp_arima)\n",
    "    l[[k]]  <-   forecast(m_top[[k]], h = var_h  )\n",
    "\n",
    "    l_test[[i+1]]  <-   test\n",
    "    \n",
    "    ac[[i+1]]  <-  accuracy(l[[k]], test)\n",
    "    \n",
    "    }"
   ]
  },
  {
   "cell_type": "code",
   "execution_count": 24,
   "metadata": {},
   "outputs": [
    {
     "data": {
      "text/html": [
       "<table>\n",
       "<thead><tr><th scope=col>ME</th><th scope=col>RMSE</th><th scope=col>MAPE</th></tr></thead>\n",
       "<tbody>\n",
       "\t<tr><td>292.4990 </td><td>363.6084 </td><td>1.8052287</td></tr>\n",
       "\t<tr><td>547.3377 </td><td>606.5279 </td><td>3.3131733</td></tr>\n",
       "\t<tr><td>440.6877 </td><td>530.3034 </td><td>2.7192251</td></tr>\n",
       "\t<tr><td>438.0368 </td><td>464.5029 </td><td>2.5392068</td></tr>\n",
       "\t<tr><td>112.3538 </td><td>122.0565 </td><td>0.6386361</td></tr>\n",
       "\t<tr><td>154.8682 </td><td>180.8568 </td><td>0.8678745</td></tr>\n",
       "</tbody>\n",
       "</table>\n"
      ],
      "text/latex": [
       "\\begin{tabular}{r|lll}\n",
       " ME & RMSE & MAPE\\\\\n",
       "\\hline\n",
       "\t 292.4990  & 363.6084  & 1.8052287\\\\\n",
       "\t 547.3377  & 606.5279  & 3.3131733\\\\\n",
       "\t 440.6877  & 530.3034  & 2.7192251\\\\\n",
       "\t 438.0368  & 464.5029  & 2.5392068\\\\\n",
       "\t 112.3538  & 122.0565  & 0.6386361\\\\\n",
       "\t 154.8682  & 180.8568  & 0.8678745\\\\\n",
       "\\end{tabular}\n"
      ],
      "text/markdown": [
       "\n",
       "ME | RMSE | MAPE | \n",
       "|---|---|---|---|---|---|\n",
       "| 292.4990  | 363.6084  | 1.8052287 | \n",
       "| 547.3377  | 606.5279  | 3.3131733 | \n",
       "| 440.6877  | 530.3034  | 2.7192251 | \n",
       "| 438.0368  | 464.5029  | 2.5392068 | \n",
       "| 112.3538  | 122.0565  | 0.6386361 | \n",
       "| 154.8682  | 180.8568  | 0.8678745 | \n",
       "\n",
       "\n"
      ],
      "text/plain": [
       "  ME       RMSE     MAPE     \n",
       "1 292.4990 363.6084 1.8052287\n",
       "2 547.3377 606.5279 3.3131733\n",
       "3 440.6877 530.3034 2.7192251\n",
       "4 438.0368 464.5029 2.5392068\n",
       "5 112.3538 122.0565 0.6386361\n",
       "6 154.8682 180.8568 0.8678745"
      ]
     },
     "metadata": {},
     "output_type": "display_data"
    }
   ],
   "source": [
    "var_acc_metrics  <-  c(1,2,5)\n",
    "df_acc_test  <- ac[[1]][2, var_acc_metrics]\n",
    "for (i in ac[2:length(ac)]){\n",
    "    x  <-  i[2, var_acc_metrics]\n",
    "    df_acc_test   <-  cbind(df_acc_test, x)\n",
    "}\n",
    "df_acc_test  <- t(df_acc_test)\n",
    "df_acc_test  <-  as.data.frame(df_acc_test)\n",
    "row.names(df_acc_test)  <-  seq(1,length(ac))\n",
    "df_acc_test"
   ]
  },
  {
   "cell_type": "code",
   "execution_count": 25,
   "metadata": {},
   "outputs": [
    {
     "data": {
      "text/html": [
       "<dl class=dl-horizontal>\n",
       "\t<dt>ME</dt>\n",
       "\t\t<dd>330.963862026651</dd>\n",
       "\t<dt>RMSE</dt>\n",
       "\t\t<dd>377.975986784455</dd>\n",
       "\t<dt>MAPE</dt>\n",
       "\t\t<dd>1.98055739792081</dd>\n",
       "</dl>\n"
      ],
      "text/latex": [
       "\\begin{description*}\n",
       "\\item[ME] 330.963862026651\n",
       "\\item[RMSE] 377.975986784455\n",
       "\\item[MAPE] 1.98055739792081\n",
       "\\end{description*}\n"
      ],
      "text/markdown": [
       "ME\n",
       ":   330.963862026651RMSE\n",
       ":   377.975986784455MAPE\n",
       ":   1.98055739792081\n",
       "\n"
      ],
      "text/plain": [
       "        ME       RMSE       MAPE \n",
       "330.963862 377.975987   1.980557 "
      ]
     },
     "metadata": {},
     "output_type": "display_data"
    }
   ],
   "source": [
    "colMeans(df_acc_test)"
   ]
  },
  {
   "cell_type": "code",
   "execution_count": 26,
   "metadata": {},
   "outputs": [
    {
     "data": {},
     "metadata": {},
     "output_type": "display_data"
    },
    {
     "data": {
      "image/png": "[encoded data removed]",
      "text/plain": [
       "plot without title"
      ]
     },
     "metadata": {},
     "output_type": "display_data"
    }
   ],
   "source": [
    "plot_forecasts  <-  autoplot(window(gdp_agg, start=2010))+\n",
    "    xlab(\"Время\") + ylab('ВВП') +\n",
    "    ggtitle(\"AR(4)\") +\n",
    "    guides(colour=guide_legend(title=\" \")) +\n",
    "    theme(aspect.ratio = 0.75)\n",
    "\n",
    "for (i in 1:length(l)){\n",
    "    plot_forecasts  <-  plot_forecasts  +\n",
    "    autolayer(l[[i]], series=paste(\"Итерация\" , i, sep=\" \") ,   PI=FALSE) \n",
    "    \n",
    "}\n",
    "\n",
    "plot_forecasts\n"
   ]
  },
  {
   "cell_type": "code",
   "execution_count": 27,
   "metadata": {},
   "outputs": [
    {
     "data": {
      "text/html": [
       "<table>\n",
       "<thead><tr><th></th><th scope=col>Квартальные</th><th scope=col>Сезонно сглаженные</th><th scope=col>Месячные</th></tr></thead>\n",
       "<tbody>\n",
       "\t<tr><th scope=row>1 level</th><td>64.78726</td><td>377.976 </td><td>16919.15</td></tr>\n",
       "\t<tr><th scope=row>2</th><td>      NA</td><td>     NA </td><td>      NA</td></tr>\n",
       "\t<tr><th scope=row>3</th><td>      NA</td><td>     NA </td><td>      NA</td></tr>\n",
       "\t<tr><th scope=row>4</th><td>      NA</td><td>     NA </td><td>      NA</td></tr>\n",
       "\t<tr><th scope=row>5</th><td>      NA</td><td>     NA </td><td>      NA</td></tr>\n",
       "</tbody>\n",
       "</table>\n"
      ],
      "text/latex": [
       "\\begin{tabular}{r|lll}\n",
       "  & Квартальные & Сезонно сглаженные & Месячные\\\\\n",
       "\\hline\n",
       "\t1 level & 64.78726 & 377.976  & 16919.15\\\\\n",
       "\t2 &       NA &      NA  &       NA\\\\\n",
       "\t3 &       NA &      NA  &       NA\\\\\n",
       "\t4 &       NA &      NA  &       NA\\\\\n",
       "\t5 &       NA &      NA  &       NA\\\\\n",
       "\\end{tabular}\n"
      ],
      "text/markdown": [
       "\n",
       "| <!--/--> | Квартальные | Сезонно сглаженные | Месячные | \n",
       "|---|---|---|---|---|\n",
       "| 1 level | 64.78726 | 377.976  | 16919.15 | \n",
       "| 2 |       NA |      NA  |       NA | \n",
       "| 3 |       NA |      NA  |       NA | \n",
       "| 4 |       NA |      NA  |       NA | \n",
       "| 5 |       NA |      NA  |       NA | \n",
       "\n",
       "\n"
      ],
      "text/plain": [
       "        Квартальные Сезонно сглаженные Месячные\n",
       "1 level 64.78726    377.976            16919.15\n",
       "2             NA         NA                  NA\n",
       "3             NA         NA                  NA\n",
       "4             NA         NA                  NA\n",
       "5             NA         NA                  NA"
      ]
     },
     "metadata": {},
     "output_type": "display_data"
    }
   ],
   "source": [
    "df_mean_acc[1,2]  <- colMeans(df_acc_test)[[2]]\n",
    "df_mean_acc"
   ]
  },
  {
   "cell_type": "code",
   "execution_count": 28,
   "metadata": {},
   "outputs": [],
   "source": [
    "save_plots[[3]]  <-  plot_forecasts"
   ]
  },
  {
   "cell_type": "code",
   "execution_count": null,
   "metadata": {},
   "outputs": [],
   "source": []
  },
  {
   "cell_type": "code",
   "execution_count": 29,
   "metadata": {},
   "outputs": [],
   "source": [
    "var_allornot  <- var_freq\n",
    "# var_allornot  <- 1\n",
    "var_shift  <-  var_topup\n",
    "# var_shift  <-  0"
   ]
  },
  {
   "cell_type": "markdown",
   "metadata": {},
   "source": [
    "### РФ"
   ]
  },
  {
   "cell_type": "code",
   "execution_count": 30,
   "metadata": {},
   "outputs": [],
   "source": [
    "df_eu  <-  read.csv(file=\"../data_hts/hts_rus_summed.csv\", header=TRUE, sep=\",\", row.names =1 )\n",
    "# df_eu  <-  df_eu/1000\n",
    "var_freq  <- 12    \n",
    "var_start_year  <- 2006   \n",
    "gdp_agg <- df_eu_sums <-  rowSums(df_eu)\n",
    "gdp_agg  <- ts(gdp_agg, frequency = var_freq, start = var_start_year) "
   ]
  },
  {
   "cell_type": "code",
   "execution_count": 31,
   "metadata": {},
   "outputs": [],
   "source": [
    "var_h  <- 24\n",
    "var_window  <-  84 - 1\n",
    "var_topup  <-  -1\n",
    "var_iter   <- (length(gdp_agg)+var_topup)/var_freq-(var_window+1)/var_freq-2"
   ]
  },
  {
   "cell_type": "code",
   "execution_count": 32,
   "metadata": {},
   "outputs": [],
   "source": [
    "# var_allornot  <- var_freq\n",
    "var_allornot  <- 1\n",
    "# var_shift  <-  var_topup\n",
    "var_shift  <-  0\n",
    "\n",
    "var_arpdq   <-  c(4,0,1)\n",
    "var_sarpdq   <-  c(1,0,1)\n",
    "var_drift   <-  TRUE\n",
    "var_constant   <-  TRUE"
   ]
  },
  {
   "cell_type": "code",
   "execution_count": 33,
   "metadata": {},
   "outputs": [
    {
     "name": "stderr",
     "output_type": "stream",
     "text": [
      "Loading required package: svMisc\n",
      "\n",
      "Attaching package: ‘svMisc’\n",
      "\n",
      "The following object is masked from ‘package:utils’:\n",
      "\n",
      "    ?\n",
      "\n"
     ]
    }
   ],
   "source": [
    "require(svMisc)"
   ]
  },
  {
   "cell_type": "code",
   "execution_count": 34,
   "metadata": {},
   "outputs": [
    {
     "name": "stdout",
     "output_type": "stream",
     "text": [
      "          0%---------25%---------50%---------75%--------100%\n",
      "Progress: ||"
     ]
    }
   ],
   "source": [
    "l <- ac <- m_top  <- l_test  <-  list()\n",
    "\n",
    "k  <- 0\n",
    "err_list  <- c()\n",
    "for (i in 0:(var_iter*var_allornot - var_shift)){\n",
    "    k  <-  k+1\n",
    "    st_year  <-  var_start_year + i/var_allornot\n",
    "    train_start  <- st_year \n",
    "    train_end  <- st_year + 1/var_freq*(var_window)\n",
    "    test_start  <- st_year + 1/var_freq*(var_window+1) \n",
    "    test_end  <-  st_year + 1/var_freq*(var_window+var_h)\n",
    "    \n",
    "#     print(c(train_start, train_end, test_start, test_end))\n",
    "    \n",
    "    if (i == 0){\n",
    "        train <- window(gdp_agg, end=train_end)}\n",
    "    else{\n",
    "#         if ((var_shift == 0) & (i == var_iter*var_allornot - var_shift)){\n",
    "#             train <- window(gdp_agg, start=train_start-var_topup/var_freq, end=train_end-var_topup/var_freq)\n",
    "#         }else{\n",
    "            train <- window(gdp_agg, start=train_start, end=train_end)\n",
    "#     }\n",
    "}\n",
    "    \n",
    "#     if ((var_shift == 0) & (i == var_iter*var_allornot - var_shift)){\n",
    "#         test <- window(gdp_agg, start=test_start-var_topup/var_freq)\n",
    "#     }else{    \n",
    "        test <- window(gdp_agg, start=test_start, end=test_end)\n",
    "        \n",
    "#     }\n",
    "    \n",
    "#     m_top[[k]]  <- Arima(train, order=var_arpdq, seasonal=var_sarpdq, include.drift = var_drift, include.mean = var_constant, \n",
    "#                          method = \"ML\" )\n",
    "    \n",
    "#     model  <-  \n",
    "    m_top[[k]]  <-Arima(msts(train, seasonal.periods = var_freq), order=var_arpdq, seasonal=var_sarpdq, include.drift = var_drift, include.mean = var_constant, method=\"ML\")\n",
    "\n",
    "    \n",
    "    \n",
    "#     print(test)\n",
    "#     print(gdp_arima)\n",
    "    l[[k]]  <-   forecast(m_top[[k]], h = var_h  )\n",
    "                \n",
    "#     if (model[[2]]!=0){\n",
    "#         err_list <-  c(err_list,model[[2]])\n",
    "#     }              \n",
    "                \n",
    "                \n",
    "    l_test[[i+1]]  <-   test\n",
    "    \n",
    "    ac[[i+1]]  <-  accuracy(l[[k]], test)\n",
    "                \n",
    "    progress(i, progress.bar = TRUE)\n",
    "    \n",
    "    \n",
    "                \n",
    "    }"
   ]
  },
  {
   "cell_type": "code",
   "execution_count": 35,
   "metadata": {},
   "outputs": [
    {
     "data": {
      "text/html": [
       "<table>\n",
       "<thead><tr><th scope=col>ME</th><th scope=col>RMSE</th><th scope=col>MAPE</th></tr></thead>\n",
       "<tbody>\n",
       "\t<tr><td>-10366.53</td><td>12208.48 </td><td>531.0982 </td></tr>\n",
       "\t<tr><td>-11070.82</td><td>12651.04 </td><td>298.1385 </td></tr>\n",
       "\t<tr><td>-13779.74</td><td>15579.73 </td><td>289.3670 </td></tr>\n",
       "\t<tr><td>-20317.04</td><td>22505.30 </td><td>373.8079 </td></tr>\n",
       "\t<tr><td>-19171.73</td><td>20850.37 </td><td>257.0567 </td></tr>\n",
       "</tbody>\n",
       "</table>\n"
      ],
      "text/latex": [
       "\\begin{tabular}{r|lll}\n",
       " ME & RMSE & MAPE\\\\\n",
       "\\hline\n",
       "\t -10366.53 & 12208.48  & 531.0982 \\\\\n",
       "\t -11070.82 & 12651.04  & 298.1385 \\\\\n",
       "\t -13779.74 & 15579.73  & 289.3670 \\\\\n",
       "\t -20317.04 & 22505.30  & 373.8079 \\\\\n",
       "\t -19171.73 & 20850.37  & 257.0567 \\\\\n",
       "\\end{tabular}\n"
      ],
      "text/markdown": [
       "\n",
       "ME | RMSE | MAPE | \n",
       "|---|---|---|---|---|\n",
       "| -10366.53 | 12208.48  | 531.0982  | \n",
       "| -11070.82 | 12651.04  | 298.1385  | \n",
       "| -13779.74 | 15579.73  | 289.3670  | \n",
       "| -20317.04 | 22505.30  | 373.8079  | \n",
       "| -19171.73 | 20850.37  | 257.0567  | \n",
       "\n",
       "\n"
      ],
      "text/plain": [
       "  ME        RMSE     MAPE    \n",
       "1 -10366.53 12208.48 531.0982\n",
       "2 -11070.82 12651.04 298.1385\n",
       "3 -13779.74 15579.73 289.3670\n",
       "4 -20317.04 22505.30 373.8079\n",
       "5 -19171.73 20850.37 257.0567"
      ]
     },
     "metadata": {},
     "output_type": "display_data"
    }
   ],
   "source": [
    "var_acc_metrics  <-  c(1,2,5)\n",
    "df_acc_test  <- ac[[1]][2, var_acc_metrics]\n",
    "for (i in ac[2:length(ac)]){\n",
    "    x  <-  i[2, var_acc_metrics]\n",
    "    df_acc_test   <-  cbind(df_acc_test, x)\n",
    "}\n",
    "df_acc_test  <- t(df_acc_test)\n",
    "df_acc_test  <-  as.data.frame(df_acc_test)\n",
    "row.names(df_acc_test)  <-  seq(1,length(ac))\n",
    "df_acc_test"
   ]
  },
  {
   "cell_type": "code",
   "execution_count": 36,
   "metadata": {},
   "outputs": [
    {
     "data": {
      "text/html": [
       "<dl class=dl-horizontal>\n",
       "\t<dt>ME</dt>\n",
       "\t\t<dd>-14941.1702500377</dd>\n",
       "\t<dt>RMSE</dt>\n",
       "\t\t<dd>16758.985311641</dd>\n",
       "\t<dt>MAPE</dt>\n",
       "\t\t<dd>349.893648377681</dd>\n",
       "</dl>\n"
      ],
      "text/latex": [
       "\\begin{description*}\n",
       "\\item[ME] -14941.1702500377\n",
       "\\item[RMSE] 16758.985311641\n",
       "\\item[MAPE] 349.893648377681\n",
       "\\end{description*}\n"
      ],
      "text/markdown": [
       "ME\n",
       ":   -14941.1702500377RMSE\n",
       ":   16758.985311641MAPE\n",
       ":   349.893648377681\n",
       "\n"
      ],
      "text/plain": [
       "         ME        RMSE        MAPE \n",
       "-14941.1703  16758.9853    349.8936 "
      ]
     },
     "metadata": {},
     "output_type": "display_data"
    }
   ],
   "source": [
    "colMeans(df_acc_test)"
   ]
  },
  {
   "cell_type": "code",
   "execution_count": 37,
   "metadata": {},
   "outputs": [
    {
     "data": {
      "text/plain": [
       "NULL"
      ]
     },
     "metadata": {},
     "output_type": "display_data"
    }
   ],
   "source": [
    "err_list"
   ]
  },
  {
   "cell_type": "code",
   "execution_count": 38,
   "metadata": {},
   "outputs": [
    {
     "data": {},
     "metadata": {},
     "output_type": "display_data"
    },
    {
     "data": {
      "image/png": "[encoded data removed]",
      "text/plain": [
       "plot without title"
      ]
     },
     "metadata": {},
     "output_type": "display_data"
    }
   ],
   "source": [
    "plot_forecasts  <-  autoplot(window(gdp_agg, start=2010))+\n",
    "    xlab(\"Время\") + ylab('ЕП') +\n",
    "    ggtitle(\"AR(11)SAR(2) с линейным трендом\") +\n",
    "    guides(colour=guide_legend(title=\" \")) +\n",
    "    theme(aspect.ratio = 0.75)\n",
    "\n",
    "for (i in 1:length(l)){\n",
    "    plot_forecasts  <-  plot_forecasts  +\n",
    "    autolayer(l[[i]], series=paste(\"Итерация\" , i, sep=\" \") ,   PI=FALSE) \n",
    "    \n",
    "}\n",
    "\n",
    "plot_forecasts\n"
   ]
  },
  {
   "cell_type": "code",
   "execution_count": 39,
   "metadata": {},
   "outputs": [
    {
     "data": {
      "text/html": [
       "<table>\n",
       "<thead><tr><th></th><th scope=col>Квартальные</th><th scope=col>Сезонно сглаженные</th><th scope=col>Месячные</th></tr></thead>\n",
       "<tbody>\n",
       "\t<tr><th scope=row>1 level</th><td>64.78726</td><td>377.976 </td><td>16919.15</td></tr>\n",
       "\t<tr><th scope=row>2</th><td>      NA</td><td>     NA </td><td>      NA</td></tr>\n",
       "\t<tr><th scope=row>3</th><td>      NA</td><td>     NA </td><td>      NA</td></tr>\n",
       "\t<tr><th scope=row>4</th><td>      NA</td><td>     NA </td><td>      NA</td></tr>\n",
       "\t<tr><th scope=row>5</th><td>      NA</td><td>     NA </td><td>      NA</td></tr>\n",
       "</tbody>\n",
       "</table>\n"
      ],
      "text/latex": [
       "\\begin{tabular}{r|lll}\n",
       "  & Квартальные & Сезонно сглаженные & Месячные\\\\\n",
       "\\hline\n",
       "\t1 level & 64.78726 & 377.976  & 16919.15\\\\\n",
       "\t2 &       NA &      NA  &       NA\\\\\n",
       "\t3 &       NA &      NA  &       NA\\\\\n",
       "\t4 &       NA &      NA  &       NA\\\\\n",
       "\t5 &       NA &      NA  &       NA\\\\\n",
       "\\end{tabular}\n"
      ],
      "text/markdown": [
       "\n",
       "| <!--/--> | Квартальные | Сезонно сглаженные | Месячные | \n",
       "|---|---|---|---|---|\n",
       "| 1 level | 64.78726 | 377.976  | 16919.15 | \n",
       "| 2 |       NA |      NA  |       NA | \n",
       "| 3 |       NA |      NA  |       NA | \n",
       "| 4 |       NA |      NA  |       NA | \n",
       "| 5 |       NA |      NA  |       NA | \n",
       "\n",
       "\n"
      ],
      "text/plain": [
       "        Квартальные Сезонно сглаженные Месячные\n",
       "1 level 64.78726    377.976            16919.15\n",
       "2             NA         NA                  NA\n",
       "3             NA         NA                  NA\n",
       "4             NA         NA                  NA\n",
       "5             NA         NA                  NA"
      ]
     },
     "metadata": {},
     "output_type": "display_data"
    }
   ],
   "source": [
    "df_mean_acc"
   ]
  },
  {
   "cell_type": "code",
   "execution_count": 40,
   "metadata": {},
   "outputs": [
    {
     "data": {
      "text/html": [
       "<table>\n",
       "<thead><tr><th></th><th scope=col>Квартальные</th><th scope=col>Сезонно сглаженные</th><th scope=col>Месячные</th></tr></thead>\n",
       "<tbody>\n",
       "\t<tr><th scope=row>1 level</th><td>64.78726</td><td>377.976 </td><td>16758.99</td></tr>\n",
       "\t<tr><th scope=row>2</th><td>      NA</td><td>     NA </td><td>      NA</td></tr>\n",
       "\t<tr><th scope=row>3</th><td>      NA</td><td>     NA </td><td>      NA</td></tr>\n",
       "\t<tr><th scope=row>4</th><td>      NA</td><td>     NA </td><td>      NA</td></tr>\n",
       "\t<tr><th scope=row>5</th><td>      NA</td><td>     NA </td><td>      NA</td></tr>\n",
       "</tbody>\n",
       "</table>\n"
      ],
      "text/latex": [
       "\\begin{tabular}{r|lll}\n",
       "  & Квартальные & Сезонно сглаженные & Месячные\\\\\n",
       "\\hline\n",
       "\t1 level & 64.78726 & 377.976  & 16758.99\\\\\n",
       "\t2 &       NA &      NA  &       NA\\\\\n",
       "\t3 &       NA &      NA  &       NA\\\\\n",
       "\t4 &       NA &      NA  &       NA\\\\\n",
       "\t5 &       NA &      NA  &       NA\\\\\n",
       "\\end{tabular}\n"
      ],
      "text/markdown": [
       "\n",
       "| <!--/--> | Квартальные | Сезонно сглаженные | Месячные | \n",
       "|---|---|---|---|---|\n",
       "| 1 level | 64.78726 | 377.976  | 16758.99 | \n",
       "| 2 |       NA |      NA  |       NA | \n",
       "| 3 |       NA |      NA  |       NA | \n",
       "| 4 |       NA |      NA  |       NA | \n",
       "| 5 |       NA |      NA  |       NA | \n",
       "\n",
       "\n"
      ],
      "text/plain": [
       "        Квартальные Сезонно сглаженные Месячные\n",
       "1 level 64.78726    377.976            16758.99\n",
       "2             NA         NA                  NA\n",
       "3             NA         NA                  NA\n",
       "4             NA         NA                  NA\n",
       "5             NA         NA                  NA"
      ]
     },
     "metadata": {},
     "output_type": "display_data"
    }
   ],
   "source": [
    "df_mean_acc[1,3]  <- colMeans(df_acc_test)[[2]]\n",
    "df_mean_acc"
   ]
  },
  {
   "cell_type": "code",
   "execution_count": 41,
   "metadata": {},
   "outputs": [],
   "source": [
    "save_plots[[5]]  <-  plot_forecasts"
   ]
  },
  {
   "cell_type": "code",
   "execution_count": 42,
   "metadata": {},
   "outputs": [],
   "source": [
    "var_allornot  <- var_freq\n",
    "# var_allornot  <- 1\n",
    "var_shift  <-  var_topup\n",
    "# var_shift  <-  0"
   ]
  },
  {
   "cell_type": "code",
   "execution_count": null,
   "metadata": {},
   "outputs": [],
   "source": []
  },
  {
   "cell_type": "code",
   "execution_count": 43,
   "metadata": {},
   "outputs": [
    {
     "data": {
      "text/html": [
       "<table>\n",
       "<thead><tr><th></th><th scope=col>Квартальные</th><th scope=col>Сезонно сглаженные</th><th scope=col>Месячные</th></tr></thead>\n",
       "<tbody>\n",
       "\t<tr><th scope=row>1 level</th><td>64.78726</td><td>377.976 </td><td>16758.99</td></tr>\n",
       "\t<tr><th scope=row>2</th><td>      NA</td><td>     NA </td><td>      NA</td></tr>\n",
       "\t<tr><th scope=row>3</th><td>      NA</td><td>     NA </td><td>      NA</td></tr>\n",
       "\t<tr><th scope=row>4</th><td>      NA</td><td>     NA </td><td>      NA</td></tr>\n",
       "\t<tr><th scope=row>5</th><td>      NA</td><td>     NA </td><td>      NA</td></tr>\n",
       "</tbody>\n",
       "</table>\n"
      ],
      "text/latex": [
       "\\begin{tabular}{r|lll}\n",
       "  & Квартальные & Сезонно сглаженные & Месячные\\\\\n",
       "\\hline\n",
       "\t1 level & 64.78726 & 377.976  & 16758.99\\\\\n",
       "\t2 &       NA &      NA  &       NA\\\\\n",
       "\t3 &       NA &      NA  &       NA\\\\\n",
       "\t4 &       NA &      NA  &       NA\\\\\n",
       "\t5 &       NA &      NA  &       NA\\\\\n",
       "\\end{tabular}\n"
      ],
      "text/markdown": [
       "\n",
       "| <!--/--> | Квартальные | Сезонно сглаженные | Месячные | \n",
       "|---|---|---|---|---|\n",
       "| 1 level | 64.78726 | 377.976  | 16758.99 | \n",
       "| 2 |       NA |      NA  |       NA | \n",
       "| 3 |       NA |      NA  |       NA | \n",
       "| 4 |       NA |      NA  |       NA | \n",
       "| 5 |       NA |      NA  |       NA | \n",
       "\n",
       "\n"
      ],
      "text/plain": [
       "        Квартальные Сезонно сглаженные Месячные\n",
       "1 level 64.78726    377.976            16758.99\n",
       "2             NA         NA                  NA\n",
       "3             NA         NA                  NA\n",
       "4             NA         NA                  NA\n",
       "5             NA         NA                  NA"
      ]
     },
     "metadata": {},
     "output_type": "display_data"
    }
   ],
   "source": [
    "df_mean_acc"
   ]
  },
  {
   "cell_type": "code",
   "execution_count": 44,
   "metadata": {},
   "outputs": [],
   "source": [
    "saveRDS(df_mean_acc, \"df_mean_acc.rds\")"
   ]
  },
  {
   "cell_type": "code",
   "execution_count": null,
   "metadata": {},
   "outputs": [],
   "source": []
  },
  {
   "cell_type": "code",
   "execution_count": null,
   "metadata": {},
   "outputs": [],
   "source": []
  }
 ],
 "metadata": {
  "kernelspec": {
   "display_name": "R 3.5.1",
   "language": "R",
   "name": "ir"
  },
  "language_info": {
   "codemirror_mode": "r",
   "file_extension": ".r",
   "mimetype": "text/x-r-source",
   "name": "R",
   "pygments_lexer": "r",
   "version": "3.5.2"
  }
 },
 "nbformat": 4,
 "nbformat_minor": 2
}
